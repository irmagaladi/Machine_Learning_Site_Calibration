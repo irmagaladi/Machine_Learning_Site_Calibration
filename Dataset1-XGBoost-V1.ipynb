{
 "cells": [
  {
   "cell_type": "markdown",
   "id": "39ad1a2a",
   "metadata": {},
   "source": [
    "# Packages"
   ]
  },
  {
   "cell_type": "code",
   "execution_count": 1,
   "id": "3ff62b0e",
   "metadata": {},
   "outputs": [],
   "source": [
    "#basic packages\n",
    "import time\n",
    "import numpy as np\n",
    "import pandas as pd\n",
    "import seaborn as sns\n",
    "import matplotlib.pyplot as plt\n",
    "import os\n",
    "\n",
    "#data pre-processing packages\n",
    "from datetime import datetime\n",
    "\n",
    "\n",
    "#results and analysis packages\n",
    "from sklearn.metrics import mean_absolute_percentage_error as mape\n",
    "from sklearn.metrics import mean_absolute_error as mae\n",
    "from sklearn.metrics import mean_squared_error, r2_score"
   ]
  },
  {
   "cell_type": "code",
   "execution_count": 2,
   "id": "f78cf529",
   "metadata": {},
   "outputs": [],
   "source": [
    "# data modelling & results\n",
    "from yellowbrick.regressor import PredictionError, ResidualsPlot\n",
    "from sklearn.model_selection import train_test_split\n",
    "import math as math\n",
    "\n",
    "#NN\n",
    "import xgboost as xgb\n",
    "\n",
    "from tensorflow import keras\n",
    "from keras.utils.vis_utils import plot_model\n",
    "from scipy.stats import reciprocal\n",
    "from sklearn.model_selection import RandomizedSearchCV, GridSearchCV\n",
    "\n",
    "#feature importance\n",
    "import shap\n"
   ]
  },
  {
   "cell_type": "markdown",
   "id": "5304bd4d",
   "metadata": {},
   "source": [
    "# Script"
   ]
  },
  {
   "cell_type": "markdown",
   "id": "93dd727e",
   "metadata": {},
   "source": [
    "## Error computation"
   ]
  },
  {
   "cell_type": "code",
   "execution_count": 3,
   "id": "7a4247b4",
   "metadata": {},
   "outputs": [],
   "source": [
    "#defining the Root Mean Squared Error\n",
    "\n",
    "def rmse(y_true, y_predicted):\n",
    "    \n",
    "    return np.sqrt(mean_squared_error(y_true, y_predicted))"
   ]
  },
  {
   "cell_type": "code",
   "execution_count": 4,
   "id": "910f4f61",
   "metadata": {},
   "outputs": [],
   "source": [
    "#errors computation\n",
    "\n",
    "def errors_computation(data):\n",
    "    \n",
    "    df=pd.DataFrame()\n",
    "    #df.at['RMSE (as root mean)', 'Wind']= round(rmse(data['Target'], data['WS_pred']), 3)\n",
    "    df.at['MAE (in avg)', 'Wind']= round(mae(data['Target'], data['WS_pred']), 3)\n",
    "    df.at['MAPE (%)', 'Wind']= round(mape(data['Target'], data['WS_pred'])*100, 3)\n",
    "    \n",
    "    #df.at['RMSE (as root mean)', 'Power']= round(rmse(data['P'], data['P_pred']), 3)\n",
    "    df.at['MAE (in avg)', 'Power']= round(mae(data['P'], data['P_pred']), 3)\n",
    "    df.at['MAPE (%)', 'Power']= round(mape(data['P'], data['P_pred'])*100, 3)\n",
    "    \n",
    "    \n",
    "    print('Wind RMSE: ', round(rmse(data['Target'], data['WS_pred']), 3), 'm/s as root mean')\n",
    "    print('Wind MAE: ', round(mae(data['Target'], data['WS_pred']), 3), 'm/s in avg')\n",
    "    print('Wind MAPE: ', round(mape(data['Target'], data['WS_pred'])*100, 3), '%')\n",
    "    \n",
    "    print('Power RMSE: ', round(rmse(data['P'], data['P_pred']), 3), 'kW as root mean')\n",
    "    print('Power MAE: ', round(mae(data['P'], data['P_pred']), 3), 'kW in avg')\n",
    "    print('Power MAPE: ', round(mape(data['P'], data['P_pred'])*100, 3), '%')\n",
    "    \n",
    "    return df"
   ]
  },
  {
   "cell_type": "code",
   "execution_count": 5,
   "id": "7f9f017b",
   "metadata": {},
   "outputs": [],
   "source": [
    "def error_plot(data, title):\n",
    "    \n",
    "    #title is expected to be an str\n",
    "    #WS_pred and Target should be the variables names\n",
    "\n",
    "    #plotting the reference\n",
    "    plt.figure(figsize=(12,8))\n",
    "    plt.plot([-1,17.5],[-1,17.5], 'green', linewidth=4, alpha=.12)\n",
    "    plt.plot(data['WS_pred'], data['Target'], marker='o', ls='', label='Regression', markersize=5, alpha=.1)\n",
    "\n",
    "\n",
    "    plt.legend()\n",
    "\n",
    "    ax=plt.gca()\n",
    "    ax.set(xlabel='y predicted', ylabel='y actual');\n",
    "    ax.set_title(title)\n",
    "    ax.set_ylim(ymin=4, ymax=17.5)\n",
    "    ax.set_xlim(xmin=4, xmax=17.5)\n",
    "    \n",
    "    return print('')"
   ]
  },
  {
   "cell_type": "code",
   "execution_count": 6,
   "id": "58bd13df",
   "metadata": {},
   "outputs": [],
   "source": [
    "def powercurve_computation(data, power_curve):\n",
    "    \n",
    "    from scipy import interpolate\n",
    "    \n",
    "    #this function computes the power at a observation given the information at a observation:\n",
    "    # the WS (in m/s) at the wind turbine location and at the hub height (Target)\n",
    "    # the power curve of the wind turbine in an xslx\n",
    "    \n",
    "    \n",
    "    x=power_curve['Wind Speed [m/s]']\n",
    "    y=power_curve['Warranted Power Curve [kW]']\n",
    "    x_new=data['Target']\n",
    "    \n",
    "    f = interpolate.interp1d(x, y)\n",
    "    #, kind='linear'\n",
    "    data['P']=f(x_new)\n",
    "    \n",
    "    if 'WS_pred' in data.keys():\n",
    "        x_new2=data['WS_pred']\n",
    "        data['P_pred']=f(x_new2)\n",
    "    \n",
    "    print('power curve computation performed')\n",
    "    \n",
    "    return data"
   ]
  },
  {
   "cell_type": "code",
   "execution_count": 7,
   "id": "84c09062",
   "metadata": {},
   "outputs": [],
   "source": [
    "def control_power_computation (data_test, data_train, power_curve):\n",
    "    \n",
    "    results_test=pd.DataFrame()\n",
    "    results_train=pd.DataFrame()\n",
    "    \n",
    "    \n",
    "    results_test=powercurve_computation(data_test, power_curve)\n",
    "    results_train=powercurve_computation(data_train, power_curve)\n",
    "\n",
    "    return results_test, results_train"
   ]
  },
  {
   "cell_type": "code",
   "execution_count": 8,
   "id": "b3896d50",
   "metadata": {},
   "outputs": [],
   "source": [
    "def compute_results(data_test, data_train, power_curve, plot_error):\n",
    "    \n",
    "    #this function computes and plots the results of a modelling:\n",
    "\n",
    "    results_test, results_train=control_power_computation (data_test, data_train, power_curve)\n",
    "    \n",
    "    \n",
    "    print('Modelling errors for training set:')\n",
    "    errors_computation(results_train)\n",
    "    print('')\n",
    "    print('Modelling errors for test set:')\n",
    "    errors_computation(results_test)\n",
    "    print('')\n",
    "    \n",
    "    if plot_error:\n",
    "        print('')\n",
    "        error_plot(results_test, 'Error plot for test set wind speed')\n",
    "\n",
    "    print('')\n",
    "    return print('Showing the results of the modelling: ')"
   ]
  },
  {
   "cell_type": "code",
   "execution_count": 9,
   "id": "425f25d5",
   "metadata": {},
   "outputs": [],
   "source": [
    "def compute_results1(data_test, data_train, power_curve, plot_error):\n",
    "    \n",
    "    #this function computes and plots the results of a modelling:\n",
    "\n",
    "    results_test, results_train=control_power_computation (data_test, data_train, power_curve)\n",
    "    \n",
    "    \n",
    "    print('Modelling errors for training set:')\n",
    "    errors_computation(results_train)\n",
    "    print('')\n",
    "    print('Modelling errors for test set:')\n",
    "    errors_computation(results_test)\n",
    "    print('')\n",
    "    print('Modelling errors in AEP terms for test set')\n",
    "    data=AEP_computation(results_test, power_curve)\n",
    "    \n",
    "    if plot_error:\n",
    "        print('')\n",
    "        error_plot(results_test, 'Error plot for test set wind speed')\n",
    "\n",
    "    print('')\n",
    "    print('Showing the results of the modelling: ')\n",
    "    return data"
   ]
  },
  {
   "cell_type": "code",
   "execution_count": 10,
   "id": "1e402b2b",
   "metadata": {},
   "outputs": [],
   "source": [
    "def AEP_computation(data, power_curve):\n",
    "    \n",
    "    #binning the WS_Pred\n",
    "    data['WS_pred_bin']=pd.cut(data['WS_pred'],\n",
    "                                       bins=list(np.arange(-0.25,28.0,0.5)),\n",
    "                                                 labels=list(np.arange(0.0,28.0,0.5)))\n",
    "\n",
    "        \n",
    "    #creating the AEP (Annual Energy Production table)\n",
    "        \n",
    "    AEP_table=pd.DataFrame()\n",
    "    \n",
    "    AEP_table['WS']=PC['Wind Speed [m/s]']\n",
    "    AEP_table['WPC']=PC['Warranted Power Curve [kW]']\n",
    "    AEP_table.set_index('WS', inplace=True)\n",
    "    AEP_table['MPC_SC']=data.groupby('WS_pred_bin', as_index=True)['P'].mean()\n",
    "\n",
    "    #puedo rellenar los NaN de MPC_SC copiando lo que tendría que ser: WPC\n",
    "    \n",
    "#     for i in AEP_table.index:\n",
    "#         if math.isnan(AEP_table.at[i, 'MPC_SC']):\n",
    "#             AEP_table.at[i, 'MPC_SC']=AEP_table.at[i, 'WPC']\n",
    "    \n",
    "    AEP_table['WSAD']=power_curve['Wind Speed Distribution [Hr/Year]']\n",
    "    \n",
    "    #o igual aquí tendría que cortar la tabla para NaN values\n",
    "    \n",
    "#     AEP_table=AEP_table.dropna()\n",
    "    \n",
    "    AEP_table['WAEP']=AEP_table['WPC']*AEP_table['WSAD']\n",
    "    AEP_table['MAEP_SC']=AEP_table['MPC_SC']*AEP_table['WSAD']\n",
    "    \n",
    "    #computing the metrics for later printing\n",
    "    \n",
    "    MAEP_SC=AEP_table['MAEP_SC'].sum()\n",
    "    WAEP=AEP_table['WAEP'].sum()\n",
    "    AEP_perc=(MAEP_SC/WAEP)*100\n",
    "    AEP_diff=(MAEP_SC-WAEP)/1000\n",
    "    \n",
    "    #printing the results\n",
    "\n",
    "    print('')\n",
    "    print('The computed AEP_table is: ')\n",
    "    AEP_table(AEP_table)\n",
    "    print('')\n",
    "    print('The AEP% of the Site Calibration is: ', round(AEP_perc, 3), '%')\n",
    "    print('')\n",
    "    print('The AEP difference of the Site Calibration is: ', round(AEP_diff, 3), 'MWh')\n",
    "    print('')\n",
    "    AEP_plot(data, AEP_table)                                \n",
    "    \n",
    "    \n",
    "    return data"
   ]
  },
  {
   "cell_type": "code",
   "execution_count": 11,
   "id": "9d2a1da9",
   "metadata": {},
   "outputs": [],
   "source": [
    "def AEP_plot(data, AEP_table):\n",
    "    \n",
    "    #data is expected to contain: Target, WS_pred, P, P_pred\n",
    "    #AEP_table is expected to contain: WS, WPC, MPC-SC\n",
    "\n",
    "    #plotting the Power curves\n",
    "    plt.figure(figsize=(10,6))\n",
    "    plt.plot(data['WS_pred'], data['P'], marker='o', ls='', label='measured scatter', markersize=5, alpha=.1)\n",
    "    plt.plot(AEP_table.index, AEP_table['WPC'], marker='o', color='black', linewidth=0.5, label='WPC', markersize=5)\n",
    "    plt.plot(AEP_table.index, AEP_table['MPC_SC'], marker='o', color='red', linewidth=0.5, label='MPC-SC', markersize=5)\n",
    "\n",
    "\n",
    "    plt.legend()\n",
    "\n",
    "    ax=plt.gca()\n",
    "    ax.set(ylabel='Power interpolated with WPC and Target WS (kW)', xlabel='Predicted Wind Speed (m/s)');\n",
    "    ax.set_title('Site Calibration Power Curve')\n",
    "    ax.set_xlim(xmin=0, xmax=20)\n",
    "#     ax.set_xlim(xmin=0, xmax=27.5)\n",
    "    \n",
    "    return print('Error plot performed')"
   ]
  },
  {
   "cell_type": "code",
   "execution_count": 12,
   "id": "8dfd0676",
   "metadata": {},
   "outputs": [],
   "source": [
    "def AEP_table(AEP_table):\n",
    "    \n",
    "    #AEP_table is expected to contain: WPC, MPC_SC, WPC, WSAD, WAEP, MAEP\n",
    "    \n",
    "    WS= AEP_table.index\n",
    "    WPC=AEP_table['WPC']\n",
    "    MPC_SC=round(AEP_table['MPC_SC'],0)\n",
    "    WSAD=AEP_table['WASD']\n",
    "    WAEP=round(AEP_table['WAEP']/1000000, 3)\n",
    "    MAEP=round(AEP_table['MAEP']/1000000, 3)\n",
    "    \n",
    "\n",
    "    row_headers=None\n",
    "    column_headers=('Wind speed bin (m/s)', 'WPC (kW)', 'MPC_SC (kW)',\n",
    "                    'Annual Wind Distribution (h/year)', 'WAEP (GWh)', 'MAEP (GWh)')\n",
    "\n",
    "    rcolors = plt.cm.BuPu(np.full(len(row_headers), 0.1))\n",
    "    ccolors = plt.cm.BuPu(np.full(len(column_headers), 0.1))\n",
    "\n",
    "    l_2d=[list(WS), list(WPC), list(MPC), list(WSAD), list(WAEP), list(MAEP)]\n",
    "\n",
    "    cell_text=np.array(l_2d).T\n",
    "\n",
    "    fig, ax = plt.subplots(figsize=(12,5)) \n",
    "    ax.set_axis_off()\n",
    "\n",
    "    the_table=ax.table(cellText=cell_text,\n",
    "                      rowLabels=row_headers,\n",
    "                      rowColours=rcolors,\n",
    "                      rowLoc='right',\n",
    "                      colColours=ccolors,\n",
    "                      colLabels=column_headers,\n",
    "                      cellLoc ='center',\n",
    "                      loc='upper center',\n",
    "                      colWidths = [0.1] * 5)\n",
    "\n",
    "    ax.set_title('Annual Energy Production for Site Calibration PC', \n",
    "                 fontweight =\"bold\", fontsize=14) \n",
    "\n",
    "    the_table.auto_set_font_size(False)\n",
    "    the_table.set_fontsize(14)\n",
    "    the_table.scale(2, 2)\n",
    "    \n",
    "    return ('AEP table printed')"
   ]
  },
  {
   "cell_type": "markdown",
   "id": "71970e76",
   "metadata": {},
   "source": [
    "## Data uploading"
   ]
  },
  {
   "cell_type": "code",
   "execution_count": 13,
   "id": "3bcfb73c",
   "metadata": {},
   "outputs": [],
   "source": [
    "def uploading_csv(file_folder,file_name):\n",
    "    \n",
    "    #file folder required\n",
    "    #file name required\n",
    "    #file is expected to be in the data root: r'C:\\Users\\irgaa\\Irma\\Data'\n",
    "    #this function uploads and formats csv/txt/xlsx datasets into DataFrame\n",
    "    \n",
    "    \n",
    "    data_root=r'C:\\Users\\irgaa\\Irma\\Data'\n",
    "    data_folder=str(file_folder)\n",
    "    data_file=str(file_name)\n",
    "    \n",
    "    data_path=data_root+data_folder+data_file\n",
    "    \n",
    "    data1 = pd.read_csv(data_path)\n",
    "\n",
    "    \n",
    "    # We will save the WD_bin as the index\n",
    "    \n",
    "    return data1"
   ]
  },
  {
   "cell_type": "code",
   "execution_count": 14,
   "id": "6c5e33be",
   "metadata": {},
   "outputs": [],
   "source": [
    "#this function saves a data csv\n",
    "\n",
    "def save (data, file_folder,file_name):\n",
    "    \n",
    "    #file folder required\n",
    "    #file name required\n",
    "    #file is expected to be saved in the data root: r'C:\\Users\\irgaa\\Irma\\Data'\n",
    "    #this function saves a csv/txt/xlsx into Irma's folder\n",
    "    #the saved file will keep the columns names but not the index\n",
    "    \n",
    "    data_root=r'C:\\Users\\irgaa\\Irma\\Data'\n",
    "    data_folder=str(file_folder)\n",
    "    data_file=str(file_name)\n",
    "    \n",
    "    data_path=data_root+data_folder+data_file\n",
    "    \n",
    "    data.to_csv (data_path, index = False, header=True)\n",
    "    \n",
    "    \n",
    "    return print('file', data_file, 'saved in', data_folder, 'folder')"
   ]
  },
  {
   "cell_type": "markdown",
   "id": "ffaedaca",
   "metadata": {},
   "source": [
    "## Data selection"
   ]
  },
  {
   "cell_type": "code",
   "execution_count": 15,
   "id": "358a5d18",
   "metadata": {},
   "outputs": [],
   "source": [
    "def data_selection(X_train, X_test, inputs):\n",
    "    \n",
    "    #this function returns the columns of the training and test sets in the inputs list\n",
    "    \n",
    "    X_train1 = pd.DataFrame()\n",
    "    X_test1 = pd.DataFrame()\n",
    "    \n",
    "    \n",
    "    X_train1 = X_train[inputs]\n",
    "    X_test1 = X_test[inputs]\n",
    "\n",
    "    \n",
    "    return X_train1,X_test1"
   ]
  },
  {
   "cell_type": "code",
   "execution_count": 16,
   "id": "8fd717ae",
   "metadata": {},
   "outputs": [],
   "source": [
    "def data_drop(X_train, X_test, list_2drop):\n",
    "    \n",
    "    #this function returns the columns of the training and test sets in the inputs list\n",
    "\n",
    "    X_train1 = X_train.drop(columns=list_2drop)\n",
    "    X_test1 = X_test.drop(columns=list_2drop)\n",
    "\n",
    "    \n",
    "    \n",
    "    return X_train1,X_test1"
   ]
  },
  {
   "cell_type": "markdown",
   "id": "255c2b31",
   "metadata": {},
   "source": [
    "## Modelling"
   ]
  },
  {
   "cell_type": "markdown",
   "id": "c983f849",
   "metadata": {},
   "source": [
    "### Modelling XGBoost"
   ]
  },
  {
   "cell_type": "code",
   "execution_count": 17,
   "id": "c827782a",
   "metadata": {},
   "outputs": [],
   "source": [
    "def modelling_XGBoost (X, X_test, y, y_test, power_curve,  parameters, plot_error, plot):\n",
    "    \n",
    "    #creating the model\n",
    "    max_depth=parameters['max_depth']\n",
    "    n_estimators=parameters['n_estimators']\n",
    "    learning_rate=parameters['learning_rate']\n",
    "    subsample=parameters['subsample']\n",
    "    colsample_bytree=parameters['colsample_bytree']\n",
    "    min_child_weight=parameters['min_child_weight']\n",
    "    gamma=parameters['gamma']\n",
    "    reg_lambda=parameters['reg_lambda']\n",
    "    \n",
    " \n",
    "    model = xgb.XGBRegressor(max_depth=max_depth, n_estimators=n_estimators, random_state=42,\n",
    "                               objective='reg:squarederror', booster='gbtree', learning_rate=learning_rate,\n",
    "                               subsample=subsample, colsample_bytree=colsample_bytree,\n",
    "                             min_child_weight=min_child_weight, reg_lambda=reg_lambda)\n",
    "                               \n",
    "    #model fitting\n",
    "    model.fit(X_train, y_train)\n",
    "        \n",
    "    \n",
    "    #model predicting\n",
    "    y_pred_test=model.predict(X_test)\n",
    "    y_pred_train=model.predict(X_train)\n",
    "    \n",
    "    test=pd.DataFrame(y_pred_test, columns = ['test'])\n",
    "    train=pd.DataFrame(y_pred_train, columns = ['train'])\n",
    "    \n",
    "    \n",
    "\n",
    "    #computing the results\n",
    "    data_test = pd.DataFrame()\n",
    "    data_train = pd.DataFrame()\n",
    "    \n",
    "    data_test['WS_pred']=test['test']\n",
    "    data_test['Target']=y_test['Target']\n",
    "    data_train['WS_pred']=train['train']\n",
    "    data_train['Target']=y['Target']\n",
    "    \n",
    "    \n",
    "    data=compute_results(data_test, data_train, power_curve, plot_error)\n",
    "    print('XGBoost modelling performed')\n",
    "    \n",
    "    return model"
   ]
  },
  {
   "cell_type": "markdown",
   "id": "ff27c77a",
   "metadata": {},
   "source": [
    "### Grid Search XGBoost"
   ]
  },
  {
   "cell_type": "code",
   "execution_count": 18,
   "id": "aab34987",
   "metadata": {},
   "outputs": [],
   "source": [
    "def GridSearch_XGBoost (X, X_test, y, y_test, power_curve, parameters, param_grid, plot_error):\n",
    "    \n",
    "    \n",
    "    #counting the runing time\n",
    "    start_time = time.time()\n",
    "    \n",
    "    #creating the model\n",
    "    max_depth=parameters['max_depth']\n",
    "    n_estimators=parameters['n_estimators']\n",
    "    learning_rate=parameters['learning_rate']\n",
    "    subsample=parameters['subsample']\n",
    "    colsample_bytree=parameters['colsample_bytree']\n",
    "    min_child_weight=parameters['min_child_weight']\n",
    "    gamma=parameters['gamma']\n",
    "    reg_lambda=parameters['reg_lambda']\n",
    "    \n",
    "    #creating the model\n",
    "    xgbr = xgb.XGBRegressor(max_depth=max_depth, n_estimators=n_estimators, random_state=42,\n",
    "                           objective='reg:squarederror', booster='gbtree', learning_rate=learning_rate,\n",
    "                           subsample=subsample, colsample_bytree=colsample_bytree,\n",
    "                         min_child_weight=min_child_weight, gamma=gamma, reg_lambda=reg_lambda)\n",
    "    \n",
    "    \n",
    "    \n",
    "    #Grid Search CV\n",
    "    clf = GridSearchCV(estimator=xgbr, \n",
    "                             param_grid=param_grid,\n",
    "                             cv=4,\n",
    "                             scoring='neg_mean_squared_error',\n",
    "                             verbose=1) \n",
    "    \n",
    "        \n",
    "    #model fitting\n",
    "    clf.fit(X_train, y_train)\n",
    "    \n",
    "    \n",
    "    #model predicting\n",
    "    \n",
    "    y_pred_test=clf.predict(X_test)\n",
    "    y_pred_train=clf.predict(X_train)\n",
    "    \n",
    "    test=pd.DataFrame(y_pred_test, columns = ['test'])\n",
    "    train=pd.DataFrame(y_pred_train, columns = ['train'])\n",
    "    \n",
    "    print('')\n",
    "    print('Best parameters :')\n",
    "    print(clf.best_params_)\n",
    "    print('')\n",
    "\n",
    "    #computing the results\n",
    "    data_test = pd.DataFrame()\n",
    "    data_train = pd.DataFrame()\n",
    "    \n",
    "    data_test['WS_pred']=test['test']\n",
    "    data_test['Target']=y_test['Target']\n",
    "    data_train['WS_pred']=train['train']\n",
    "    data_train['Target']=y['Target']\n",
    "    \n",
    "    compute_results(data_test, data_train, power_curve, plot_error)\n",
    "    print('GridSearch_ XGBoost performed')\n",
    "    print(\"--- %s minutes ---\" % ((time.time() - start_time)/60))\n",
    "    print('')\n",
    "    print('Lowest RMSE: ', (-clf.best_score_)**(1/2.0))\n",
    "    \n",
    "    \n",
    "    \n",
    "    return clf"
   ]
  },
  {
   "cell_type": "markdown",
   "id": "19c283c5",
   "metadata": {},
   "source": [
    "### Random Search XGBoost"
   ]
  },
  {
   "cell_type": "code",
   "execution_count": 19,
   "id": "2c6cd04a",
   "metadata": {},
   "outputs": [],
   "source": [
    "def RandomSearch_XGBoost(X, X_test, y, y_test, power_curve, param_distribs, plot_error):\n",
    "    \n",
    "    #counting the runing time\n",
    "    start_time = time.time()\n",
    "    \n",
    "    \n",
    "    #creating the model\n",
    "    xgbr = xgb.XGBRegressor(random_state=42)\n",
    "    \n",
    "    #Random Search CV\n",
    "    clf = RandomizedSearchCV(estimator=xgbr, \n",
    "                             param_distributions=param_distribs,\n",
    "                             cv=4,\n",
    "                             scoring='neg_mean_squared_error',\n",
    "                             n_iter=25,\n",
    "                             verbose=1) \n",
    "    \n",
    "    \n",
    "    #model fitting\n",
    "    clf.fit(X_train, y_train)\n",
    "    \n",
    "    \n",
    "    #model predicting\n",
    "    \n",
    "    y_pred_test=clf.predict(X_test)\n",
    "    y_pred_train=clf.predict(X_train)\n",
    "    \n",
    "    test=pd.DataFrame(y_pred_test, columns = ['test'])\n",
    "    train=pd.DataFrame(y_pred_train, columns = ['train'])\n",
    "    \n",
    "    print('')\n",
    "    print('Best parameters :')\n",
    "    print(clf.best_params_)\n",
    "    print('')\n",
    "\n",
    "    #computing the results\n",
    "    data_test = pd.DataFrame()\n",
    "    data_train = pd.DataFrame()\n",
    "    \n",
    "    data_test['WS_pred']=test['test']\n",
    "    data_test['Target']=y_test['Target']\n",
    "    data_train['WS_pred']=train['train']\n",
    "    data_train['Target']=y['Target']\n",
    "    \n",
    "    compute_results(data_test, data_train, power_curve, plot_error)\n",
    "    print('RandomSearch_ XGBoost performed')\n",
    "    print(\"--- %s minutes ---\" % ((time.time() - start_time)/60))\n",
    "    print('')\n",
    "    print('Lowest RMSE: ', (-clf.best_score_)**(1/2.0))\n",
    "    \n",
    "    return clf\n",
    "    "
   ]
  },
  {
   "cell_type": "markdown",
   "id": "54004cbb",
   "metadata": {},
   "source": [
    "### Model Testing"
   ]
  },
  {
   "cell_type": "code",
   "execution_count": 20,
   "id": "0bfe8458",
   "metadata": {},
   "outputs": [],
   "source": [
    "def model_testing (X_train, X_test, y_train, y_test, power_curve, model, plot_error):\n",
    "\n",
    "    \n",
    "\n",
    "    y_pred_test=model.predict(X_test)\n",
    "    y_pred_train=model.predict(X_train)\n",
    "    \n",
    "    test=pd.DataFrame(y_pred_test, columns = ['test'])\n",
    "    train=pd.DataFrame(y_pred_train, columns = ['train'])\n",
    "\n",
    "\n",
    "    data_test = pd.DataFrame()\n",
    "    data_train = pd.DataFrame()\n",
    "    \n",
    "    data_test['WS_pred']=test['test']\n",
    "    data_test['Target']=y_test['Target']\n",
    "    data_train['WS_pred']=train['train']\n",
    "    data_train['Target']=y_train['Target']\n",
    "        \n",
    "    \n",
    "    compute_results(data_test, data_train, power_curve, plot_error)\n",
    "    \n",
    "    WS_pred=data_test['WS_pred']\n",
    "    print('XGBoost results performed')\n",
    "    \n",
    "    return WS_pred"
   ]
  },
  {
   "cell_type": "markdown",
   "id": "6724a96a",
   "metadata": {},
   "source": [
    "### Feature importance"
   ]
  },
  {
   "cell_type": "code",
   "execution_count": 21,
   "id": "51189ccd",
   "metadata": {},
   "outputs": [],
   "source": [
    "def feature_importance (X_train, X_test, model):\n",
    "    \n",
    "    X_t, X_f, y_t, y_f = train_test_split(X_train,y_train, test_size=0.02, random_state=12)\n",
    "    \n",
    "    background = X_f.copy()\n",
    "    \n",
    "    explainer = shap.TreeExplainer(model)\n",
    "    shap_values = explainer.shap_values(X_test)\n",
    "    shap_obj=explainer(X_test)\n",
    "    shap.summary_plot(shap_values, X_train, plot_type=\"bar\")\n",
    "    shap.plots.beeswarm(shap_obj)\n",
    "    \n",
    "    \n",
    "    shap_v=pd.DataFrame(shap_values)\n",
    "    feature_list=X_test.columns\n",
    "    shap_v.columns=feature_list\n",
    "    shap_v=shap_v.abs()\n",
    "    k=pd.DataFrame(shap_v.mean()).reset_index()\n",
    "    k.columns=['variables','SHAP_abs']\n",
    "    k.sort_values(by='variables')\n",
    "    \n",
    "    \n",
    "    \n",
    "    print('Feature importance through SHAP values performed')\n",
    "    \n",
    "    return k"
   ]
  },
  {
   "cell_type": "markdown",
   "id": "880d0819",
   "metadata": {},
   "source": [
    "# Data analysis"
   ]
  },
  {
   "cell_type": "markdown",
   "id": "ff0fec4a",
   "metadata": {},
   "source": [
    "## Dataset1- WTG14"
   ]
  },
  {
   "cell_type": "code",
   "execution_count": 22,
   "id": "c3f2c12c",
   "metadata": {},
   "outputs": [
    {
     "data": {
      "text/plain": [
       "Index(['T2', 'RH2', 'T1', 'RH1', 'PR1', 'AD1', 'PR2', 'AD2', 'Rain', 'WS1',\n",
       "       'WS3', 'WS4', 'WD1', 'WD3', 'WD4', 'WSHor', 'WDHor', 'WSVer', 'WDVer',\n",
       "       'TI', 'WSH', 'WD_bin', 'tod', 'WVeer'],\n",
       "      dtype='object')"
      ]
     },
     "execution_count": 22,
     "metadata": {},
     "output_type": "execute_result"
    }
   ],
   "source": [
    "#upload the dataset with file_folder, file_name\n",
    "# data_up= uploading_csv('\\Dataset1-Normal_Site','\\data_comp14.csv')\n",
    "X_train= uploading_csv('\\Dataset1-Normal_Site','\\X_train14.csv')\n",
    "X_test= uploading_csv('\\Dataset1-Normal_Site','\\X_test14.csv')\n",
    "y_train= uploading_csv('\\Dataset1-Normal_Site','\\y_train14.csv')\n",
    "y_test= uploading_csv('\\Dataset1-Normal_Site','\\y_test14.csv')\n",
    "\n",
    "X_test.keys()"
   ]
  },
  {
   "cell_type": "code",
   "execution_count": 23,
   "id": "6d0a26d9",
   "metadata": {},
   "outputs": [
    {
     "data": {
      "text/plain": [
       "Index(['Target'], dtype='object')"
      ]
     },
     "execution_count": 23,
     "metadata": {},
     "output_type": "execute_result"
    }
   ],
   "source": [
    "y_test.keys()"
   ]
  },
  {
   "cell_type": "code",
   "execution_count": 24,
   "id": "db055157",
   "metadata": {},
   "outputs": [],
   "source": [
    "PC= uploading_csv('\\Dataset1-Normal_Site','\\PC_1.15kgm-3.csv')"
   ]
  },
  {
   "cell_type": "markdown",
   "id": "a2277287",
   "metadata": {},
   "source": [
    "### Grid Search"
   ]
  },
  {
   "cell_type": "code",
   "execution_count": 28,
   "id": "65ef4109",
   "metadata": {},
   "outputs": [],
   "source": [
    "parameters={\n",
    "    'max_depth':5,\n",
    "    'n_estimators': 1000,\n",
    "    'learning_rate':0.1,\n",
    "    'subsample':0.8,\n",
    "    'colsample_bytree':0.8,\n",
    "    'min_child_weight':1,\n",
    "    'gamma':0,\n",
    "    'reg_lambda':1,\n",
    "}"
   ]
  },
  {
   "cell_type": "code",
   "execution_count": 29,
   "id": "a7ad6bbf",
   "metadata": {},
   "outputs": [],
   "source": [
    "param_grid={\n",
    "    'n_estimators': [100, 200, 300, 400, 500, 600, 700, 800, 900, 1000],\n",
    "}"
   ]
  },
  {
   "cell_type": "code",
   "execution_count": 30,
   "id": "224e052b",
   "metadata": {
    "scrolled": true
   },
   "outputs": [
    {
     "name": "stdout",
     "output_type": "stream",
     "text": [
      "Fitting 4 folds for each of 10 candidates, totalling 40 fits\n",
      "\n",
      "Best parameters :\n",
      "{'n_estimators': 1000}\n",
      "\n",
      "power curve computation performed\n",
      "power curve computation performed\n",
      "Modelling errors for training set:\n",
      "Wind RMSE:  0.019 m/s as root mean\n",
      "Wind MAE:  0.014 m/s in avg\n",
      "Wind MAPE:  0.164 %\n",
      "Power RMSE:  9.362 kW as root mean\n",
      "Power MAE:  5.673 kW in avg\n",
      "Power MAPE:  0.358 %\n",
      "\n",
      "Modelling errors for test set:\n",
      "Wind RMSE:  0.337 m/s as root mean\n",
      "Wind MAE:  0.253 m/s in avg\n",
      "Wind MAPE:  3.022 %\n",
      "Power RMSE:  158.495 kW as root mean\n",
      "Power MAE:  98.626 kW in avg\n",
      "Power MAPE:  7.012 %\n",
      "\n",
      "\n",
      "Showing the results of the modelling: \n",
      "GridSearch_ XGBoost performed\n",
      "--- 2.3644047141075135 minutes ---\n",
      "\n",
      "Lowest RMSE:  0.3363756212672351\n"
     ]
    },
    {
     "data": {
      "text/plain": [
       "GridSearchCV(cv=4,\n",
       "             estimator=XGBRegressor(base_score=None, booster='gbtree',\n",
       "                                    colsample_bylevel=None,\n",
       "                                    colsample_bynode=None, colsample_bytree=0.8,\n",
       "                                    gamma=0, gpu_id=None,\n",
       "                                    importance_type='gain',\n",
       "                                    interaction_constraints=None,\n",
       "                                    learning_rate=0.1, max_delta_step=None,\n",
       "                                    max_depth=5, min_child_weight=1,\n",
       "                                    missing=nan, monotone_constraints=None,\n",
       "                                    n_estimators=1000, n_jobs=None,\n",
       "                                    num_parallel_tree=None, random_state=42,\n",
       "                                    reg_alpha=None, reg_lambda=1,\n",
       "                                    scale_pos_weight=None, subsample=0.8,\n",
       "                                    tree_method=None, validate_parameters=None,\n",
       "                                    verbosity=None),\n",
       "             param_grid={'n_estimators': [100, 200, 300, 400, 500, 600, 700,\n",
       "                                          800, 900, 1000]},\n",
       "             scoring='neg_mean_squared_error', verbose=1)"
      ]
     },
     "execution_count": 30,
     "metadata": {},
     "output_type": "execute_result"
    }
   ],
   "source": [
    " GridSearch_XGBoost (X_train, X_test, y_train, y_test, PC, parameters, param_grid, plot_error=False)"
   ]
  },
  {
   "cell_type": "code",
   "execution_count": 31,
   "id": "39eae40f",
   "metadata": {},
   "outputs": [],
   "source": [
    "parameters={\n",
    "    'max_depth':5,\n",
    "    'n_estimators': 1000,\n",
    "    'learning_rate':0.1,\n",
    "    'subsample':0.8,\n",
    "    'colsample_bytree':0.8,\n",
    "    'min_child_weight':1,\n",
    "    'gamma':0,\n",
    "    'reg_lambda':1,\n",
    "}"
   ]
  },
  {
   "cell_type": "code",
   "execution_count": 32,
   "id": "9e8b4fe1",
   "metadata": {},
   "outputs": [],
   "source": [
    "param_grid={\n",
    "    'max_depth': [3, 4, 5, 6, 10, 15, 20],\n",
    "    'min_child_weight': [1, 2, 3, 6, 10]\n",
    "}"
   ]
  },
  {
   "cell_type": "code",
   "execution_count": 33,
   "id": "de8bab35",
   "metadata": {
    "scrolled": true
   },
   "outputs": [
    {
     "name": "stdout",
     "output_type": "stream",
     "text": [
      "Fitting 4 folds for each of 35 candidates, totalling 140 fits\n",
      "\n",
      "Best parameters :\n",
      "{'max_depth': 6, 'min_child_weight': 6}\n",
      "\n",
      "power curve computation performed\n",
      "power curve computation performed\n",
      "Modelling errors for training set:\n",
      "Wind RMSE:  0.008 m/s as root mean\n",
      "Wind MAE:  0.006 m/s in avg\n",
      "Wind MAPE:  0.07 %\n",
      "Power RMSE:  4.042 kW as root mean\n",
      "Power MAE:  2.387 kW in avg\n",
      "Power MAPE:  0.154 %\n",
      "\n",
      "Modelling errors for test set:\n",
      "Wind RMSE:  0.331 m/s as root mean\n",
      "Wind MAE:  0.249 m/s in avg\n",
      "Wind MAPE:  2.952 %\n",
      "Power RMSE:  153.048 kW as root mean\n",
      "Power MAE:  95.556 kW in avg\n",
      "Power MAPE:  6.762 %\n",
      "\n",
      "\n",
      "Showing the results of the modelling: \n",
      "GridSearch_ XGBoost performed\n",
      "--- 15.437461086114247 minutes ---\n",
      "\n",
      "Lowest RMSE:  0.3344428690808627\n"
     ]
    },
    {
     "data": {
      "text/plain": [
       "GridSearchCV(cv=4,\n",
       "             estimator=XGBRegressor(base_score=None, booster='gbtree',\n",
       "                                    colsample_bylevel=None,\n",
       "                                    colsample_bynode=None, colsample_bytree=0.8,\n",
       "                                    gamma=0, gpu_id=None,\n",
       "                                    importance_type='gain',\n",
       "                                    interaction_constraints=None,\n",
       "                                    learning_rate=0.1, max_delta_step=None,\n",
       "                                    max_depth=5, min_child_weight=1,\n",
       "                                    missing=nan, monotone_constraints=None,\n",
       "                                    n_estimators=1000, n_jobs=None,\n",
       "                                    num_parallel_tree=None, random_state=42,\n",
       "                                    reg_alpha=None, reg_lambda=1,\n",
       "                                    scale_pos_weight=None, subsample=0.8,\n",
       "                                    tree_method=None, validate_parameters=None,\n",
       "                                    verbosity=None),\n",
       "             param_grid={'max_depth': [3, 4, 5, 6, 10, 15, 20],\n",
       "                         'min_child_weight': [1, 2, 3, 6, 10]},\n",
       "             scoring='neg_mean_squared_error', verbose=1)"
      ]
     },
     "execution_count": 33,
     "metadata": {},
     "output_type": "execute_result"
    }
   ],
   "source": [
    "GridSearch_XGBoost (X_train, X_test, y_train, y_test, PC, parameters, param_grid, plot_error=False)"
   ]
  },
  {
   "cell_type": "code",
   "execution_count": 43,
   "id": "0dbafa9e",
   "metadata": {},
   "outputs": [],
   "source": [
    "parameters={\n",
    "    'max_depth':6,\n",
    "    'n_estimators': 1000,\n",
    "    'learning_rate':0.1,\n",
    "    'subsample':0.8,\n",
    "    'colsample_bytree':0.8,\n",
    "    'min_child_weight':6,\n",
    "    'gamma':0,\n",
    "    'reg_lambda':1,\n",
    "}"
   ]
  },
  {
   "cell_type": "code",
   "execution_count": 44,
   "id": "59bd2be3",
   "metadata": {},
   "outputs": [],
   "source": [
    "param_grid={\n",
    "    'gamma': [0, 0.1, 0.2, 0.3, 0.4, 0.5]\n",
    "}"
   ]
  },
  {
   "cell_type": "code",
   "execution_count": 36,
   "id": "0da9c6da",
   "metadata": {
    "scrolled": true
   },
   "outputs": [
    {
     "name": "stdout",
     "output_type": "stream",
     "text": [
      "Fitting 4 folds for each of 6 candidates, totalling 24 fits\n",
      "\n",
      "Best parameters :\n",
      "{'gamma': 0}\n",
      "\n",
      "power curve computation performed\n",
      "power curve computation performed\n",
      "Modelling errors for training set:\n",
      "Wind RMSE:  0.008 m/s as root mean\n",
      "Wind MAE:  0.006 m/s in avg\n",
      "Wind MAPE:  0.07 %\n",
      "Power RMSE:  4.042 kW as root mean\n",
      "Power MAE:  2.387 kW in avg\n",
      "Power MAPE:  0.154 %\n",
      "\n",
      "Modelling errors for test set:\n",
      "Wind RMSE:  0.331 m/s as root mean\n",
      "Wind MAE:  0.249 m/s in avg\n",
      "Wind MAPE:  2.952 %\n",
      "Power RMSE:  153.048 kW as root mean\n",
      "Power MAE:  95.556 kW in avg\n",
      "Power MAPE:  6.762 %\n",
      "\n",
      "\n",
      "Showing the results of the modelling: \n",
      "GridSearch_ XGBoost performed\n",
      "--- 3.1545948584874473 minutes ---\n",
      "\n",
      "Lowest RMSE:  0.3344428690808627\n"
     ]
    },
    {
     "data": {
      "text/plain": [
       "GridSearchCV(cv=4,\n",
       "             estimator=XGBRegressor(base_score=None, booster='gbtree',\n",
       "                                    colsample_bylevel=None,\n",
       "                                    colsample_bynode=None, colsample_bytree=0.8,\n",
       "                                    gamma=0, gpu_id=None,\n",
       "                                    importance_type='gain',\n",
       "                                    interaction_constraints=None,\n",
       "                                    learning_rate=0.1, max_delta_step=None,\n",
       "                                    max_depth=6, min_child_weight=6,\n",
       "                                    missing=nan, monotone_constraints=None,\n",
       "                                    n_estimators=1000, n_jobs=None,\n",
       "                                    num_parallel_tree=None, random_state=42,\n",
       "                                    reg_alpha=None, reg_lambda=1,\n",
       "                                    scale_pos_weight=None, subsample=0.8,\n",
       "                                    tree_method=None, validate_parameters=None,\n",
       "                                    verbosity=None),\n",
       "             param_grid={'gamma': [0, 0.1, 0.2, 0.3, 0.4, 0.5]},\n",
       "             scoring='neg_mean_squared_error', verbose=1)"
      ]
     },
     "execution_count": 36,
     "metadata": {},
     "output_type": "execute_result"
    }
   ],
   "source": [
    "GridSearch_XGBoost (X_train, X_test, y_train, y_test, PC, parameters, param_grid, plot_error=False)"
   ]
  },
  {
   "cell_type": "code",
   "execution_count": 45,
   "id": "db6eddd5",
   "metadata": {},
   "outputs": [],
   "source": [
    "parameters={\n",
    "    'max_depth':6,\n",
    "    'n_estimators': 1000,\n",
    "    'learning_rate':0.1,\n",
    "    'subsample':0.8,\n",
    "    'colsample_bytree':0.8,\n",
    "    'min_child_weight':6,\n",
    "    'gamma':0,\n",
    "    'reg_lambda':1,\n",
    "}"
   ]
  },
  {
   "cell_type": "code",
   "execution_count": 46,
   "id": "cfdbd3b1",
   "metadata": {},
   "outputs": [],
   "source": [
    "param_grid={\n",
    "    'subsample': [0.4, 0.5, 0.6, 0.7, 0.8, 0.9, 1],\n",
    "    'colsample_bytree': [0.4, 0.5, 0.6, 0.7, 0.8, 0.9, 1]\n",
    "}"
   ]
  },
  {
   "cell_type": "code",
   "execution_count": 47,
   "id": "ac924ae6",
   "metadata": {
    "scrolled": true
   },
   "outputs": [
    {
     "name": "stdout",
     "output_type": "stream",
     "text": [
      "Fitting 4 folds for each of 49 candidates, totalling 196 fits\n",
      "\n",
      "Best parameters :\n",
      "{'colsample_bytree': 0.9, 'subsample': 0.7}\n",
      "\n",
      "power curve computation performed\n",
      "power curve computation performed\n",
      "Modelling errors for training set:\n",
      "Wind RMSE:  0.008 m/s as root mean\n",
      "Wind MAE:  0.006 m/s in avg\n",
      "Wind MAPE:  0.069 %\n",
      "Power RMSE:  3.944 kW as root mean\n",
      "Power MAE:  2.363 kW in avg\n",
      "Power MAPE:  0.151 %\n",
      "\n",
      "Modelling errors for test set:\n",
      "Wind RMSE:  0.333 m/s as root mean\n",
      "Wind MAE:  0.25 m/s in avg\n",
      "Wind MAPE:  2.989 %\n",
      "Power RMSE:  155.589 kW as root mean\n",
      "Power MAE:  96.207 kW in avg\n",
      "Power MAPE:  6.947 %\n",
      "\n",
      "\n",
      "Showing the results of the modelling: \n",
      "GridSearch_ XGBoost performed\n",
      "--- 19.24567756652832 minutes ---\n",
      "\n",
      "Lowest RMSE:  0.33192564458682244\n"
     ]
    },
    {
     "data": {
      "text/plain": [
       "GridSearchCV(cv=4,\n",
       "             estimator=XGBRegressor(base_score=None, booster='gbtree',\n",
       "                                    colsample_bylevel=None,\n",
       "                                    colsample_bynode=None, colsample_bytree=0.8,\n",
       "                                    gamma=0, gpu_id=None,\n",
       "                                    importance_type='gain',\n",
       "                                    interaction_constraints=None,\n",
       "                                    learning_rate=0.1, max_delta_step=None,\n",
       "                                    max_depth=6, min_child_weight=6,\n",
       "                                    missing=nan, monotone_constraints=None,\n",
       "                                    n_estimators=1000, n_jobs=None,\n",
       "                                    num_parallel_tree=None, random_state=42,\n",
       "                                    reg_alpha=None, reg_lambda=1,\n",
       "                                    scale_pos_weight=None, subsample=0.8,\n",
       "                                    tree_method=None, validate_parameters=None,\n",
       "                                    verbosity=None),\n",
       "             param_grid={'colsample_bytree': [0.4, 0.5, 0.6, 0.7, 0.8, 0.9, 1],\n",
       "                         'subsample': [0.4, 0.5, 0.6, 0.7, 0.8, 0.9, 1]},\n",
       "             scoring='neg_mean_squared_error', verbose=1)"
      ]
     },
     "execution_count": 47,
     "metadata": {},
     "output_type": "execute_result"
    }
   ],
   "source": [
    "GridSearch_XGBoost (X_train, X_test, y_train, y_test, PC, parameters, param_grid, plot_error=False)"
   ]
  },
  {
   "cell_type": "code",
   "execution_count": 48,
   "id": "bac4cb56",
   "metadata": {},
   "outputs": [],
   "source": [
    "parameters={\n",
    "    'max_depth':6,\n",
    "    'n_estimators': 1000,\n",
    "    'learning_rate':0.1,\n",
    "    'subsample':0.7,\n",
    "    'colsample_bytree':0.9,\n",
    "    'min_child_weight':6,\n",
    "    'gamma':0,\n",
    "    'reg_lambda':1,\n",
    "}"
   ]
  },
  {
   "cell_type": "code",
   "execution_count": 49,
   "id": "d9aeddcf",
   "metadata": {},
   "outputs": [],
   "source": [
    "param_grid={\n",
    "    'reg_lambda': [1, 10, 50, 100, 150]\n",
    "}"
   ]
  },
  {
   "cell_type": "code",
   "execution_count": 50,
   "id": "dc063115",
   "metadata": {
    "scrolled": true
   },
   "outputs": [
    {
     "name": "stdout",
     "output_type": "stream",
     "text": [
      "Fitting 4 folds for each of 5 candidates, totalling 20 fits\n",
      "\n",
      "Best parameters :\n",
      "{'reg_lambda': 10}\n",
      "\n",
      "power curve computation performed\n",
      "power curve computation performed\n",
      "Modelling errors for training set:\n",
      "Wind RMSE:  0.014 m/s as root mean\n",
      "Wind MAE:  0.01 m/s in avg\n",
      "Wind MAPE:  0.117 %\n",
      "Power RMSE:  6.956 kW as root mean\n",
      "Power MAE:  3.973 kW in avg\n",
      "Power MAPE:  0.257 %\n",
      "\n",
      "Modelling errors for test set:\n",
      "Wind RMSE:  0.331 m/s as root mean\n",
      "Wind MAE:  0.253 m/s in avg\n",
      "Wind MAPE:  3.027 %\n",
      "Power RMSE:  156.022 kW as root mean\n",
      "Power MAE:  98.039 kW in avg\n",
      "Power MAPE:  7.034 %\n",
      "\n",
      "\n",
      "Showing the results of the modelling: \n",
      "GridSearch_ XGBoost performed\n",
      "--- 2.560909557342529 minutes ---\n",
      "\n",
      "Lowest RMSE:  0.3317529006743725\n"
     ]
    },
    {
     "data": {
      "text/plain": [
       "GridSearchCV(cv=4,\n",
       "             estimator=XGBRegressor(base_score=None, booster='gbtree',\n",
       "                                    colsample_bylevel=None,\n",
       "                                    colsample_bynode=None, colsample_bytree=0.9,\n",
       "                                    gamma=0, gpu_id=None,\n",
       "                                    importance_type='gain',\n",
       "                                    interaction_constraints=None,\n",
       "                                    learning_rate=0.1, max_delta_step=None,\n",
       "                                    max_depth=6, min_child_weight=6,\n",
       "                                    missing=nan, monotone_constraints=None,\n",
       "                                    n_estimators=1000, n_jobs=None,\n",
       "                                    num_parallel_tree=None, random_state=42,\n",
       "                                    reg_alpha=None, reg_lambda=1,\n",
       "                                    scale_pos_weight=None, subsample=0.7,\n",
       "                                    tree_method=None, validate_parameters=None,\n",
       "                                    verbosity=None),\n",
       "             param_grid={'reg_lambda': [1, 10, 50, 100, 150]},\n",
       "             scoring='neg_mean_squared_error', verbose=1)"
      ]
     },
     "execution_count": 50,
     "metadata": {},
     "output_type": "execute_result"
    }
   ],
   "source": [
    "GridSearch_XGBoost (X_train, X_test, y_train, y_test, PC, parameters, param_grid, plot_error=False)"
   ]
  },
  {
   "cell_type": "code",
   "execution_count": 51,
   "id": "08ec8dfa",
   "metadata": {},
   "outputs": [],
   "source": [
    "parameters={\n",
    "    'max_depth':6,\n",
    "    'n_estimators': 1000,\n",
    "    'learning_rate':0.1,\n",
    "    'subsample':0.7,\n",
    "    'colsample_bytree':0.9,\n",
    "    'min_child_weight':6,\n",
    "    'gamma':0,\n",
    "    'reg_lambda':10,\n",
    "}"
   ]
  },
  {
   "cell_type": "code",
   "execution_count": 54,
   "id": "5dd0dfe2",
   "metadata": {},
   "outputs": [],
   "source": [
    "param_grid={\n",
    "    'learning_rate': [0.001, 0.01, 0.1, 0.5],\n",
    "    'n_estimators': [800, 900, 1000, 1200, 1500, 1800, 2000]\n",
    "}"
   ]
  },
  {
   "cell_type": "code",
   "execution_count": 55,
   "id": "203c8261",
   "metadata": {
    "scrolled": true
   },
   "outputs": [
    {
     "name": "stdout",
     "output_type": "stream",
     "text": [
      "Fitting 4 folds for each of 28 candidates, totalling 112 fits\n",
      "\n",
      "Best parameters :\n",
      "{'learning_rate': 0.01, 'n_estimators': 2000}\n",
      "\n",
      "power curve computation performed\n",
      "power curve computation performed\n",
      "Modelling errors for training set:\n",
      "Wind RMSE:  0.147 m/s as root mean\n",
      "Wind MAE:  0.111 m/s in avg\n",
      "Wind MAPE:  1.291 %\n",
      "Power RMSE:  69.243 kW as root mean\n",
      "Power MAE:  42.274 kW in avg\n",
      "Power MAPE:  2.842 %\n",
      "\n",
      "Modelling errors for test set:\n",
      "Wind RMSE:  0.326 m/s as root mean\n",
      "Wind MAE:  0.245 m/s in avg\n",
      "Wind MAPE:  2.929 %\n",
      "Power RMSE:  152.772 kW as root mean\n",
      "Power MAE:  95.606 kW in avg\n",
      "Power MAPE:  6.8 %\n",
      "\n",
      "\n",
      "Showing the results of the modelling: \n",
      "GridSearch_ XGBoost performed\n",
      "--- 17.064297087987264 minutes ---\n",
      "\n",
      "Lowest RMSE:  0.3275497214435784\n"
     ]
    },
    {
     "data": {
      "text/plain": [
       "GridSearchCV(cv=4,\n",
       "             estimator=XGBRegressor(base_score=None, booster='gbtree',\n",
       "                                    colsample_bylevel=None,\n",
       "                                    colsample_bynode=None, colsample_bytree=0.9,\n",
       "                                    gamma=0, gpu_id=None,\n",
       "                                    importance_type='gain',\n",
       "                                    interaction_constraints=None,\n",
       "                                    learning_rate=0.1, max_delta_step=None,\n",
       "                                    max_depth=6, min_child_weight=6,\n",
       "                                    missing=nan, monotone_constraints=None,\n",
       "                                    n_estimators=1000, n_jobs=None,\n",
       "                                    num_parallel_tree=None, random_state=42,\n",
       "                                    reg_alpha=None, reg_lambda=10,\n",
       "                                    scale_pos_weight=None, subsample=0.7,\n",
       "                                    tree_method=None, validate_parameters=None,\n",
       "                                    verbosity=None),\n",
       "             param_grid={'learning_rate': [0.001, 0.01, 0.1, 0.5],\n",
       "                         'n_estimators': [800, 900, 1000, 1200, 1500, 1800,\n",
       "                                          2000]},\n",
       "             scoring='neg_mean_squared_error', verbose=1)"
      ]
     },
     "execution_count": 55,
     "metadata": {},
     "output_type": "execute_result"
    }
   ],
   "source": [
    "GridSearch_XGBoost (X_train, X_test, y_train, y_test, PC, parameters, param_grid, plot_error=False)"
   ]
  },
  {
   "cell_type": "markdown",
   "id": "1b483daf",
   "metadata": {},
   "source": [
    "### Manual modelling"
   ]
  },
  {
   "cell_type": "code",
   "execution_count": 25,
   "id": "6541cd16",
   "metadata": {},
   "outputs": [],
   "source": [
    "parameters={\n",
    "    'max_depth':6,\n",
    "    'n_estimators': 2000,\n",
    "    'learning_rate':0.01,\n",
    "    'subsample':0.7,\n",
    "    'colsample_bytree':0.9,\n",
    "    'min_child_weight':6,\n",
    "    'gamma':0,\n",
    "    'reg_lambda':10\n",
    "}"
   ]
  },
  {
   "cell_type": "code",
   "execution_count": 26,
   "id": "65369191",
   "metadata": {},
   "outputs": [
    {
     "name": "stdout",
     "output_type": "stream",
     "text": [
      "power curve computation performed\n",
      "power curve computation performed\n",
      "Modelling errors for training set:\n",
      "Wind RMSE:  0.147 m/s as root mean\n",
      "Wind MAE:  0.111 m/s in avg\n",
      "Wind MAPE:  1.291 %\n",
      "Power RMSE:  69.243 kW as root mean\n",
      "Power MAE:  42.274 kW in avg\n",
      "Power MAPE:  2.842 %\n",
      "\n",
      "Modelling errors for test set:\n",
      "Wind RMSE:  0.326 m/s as root mean\n",
      "Wind MAE:  0.245 m/s in avg\n",
      "Wind MAPE:  2.929 %\n",
      "Power RMSE:  152.772 kW as root mean\n",
      "Power MAE:  95.606 kW in avg\n",
      "Power MAPE:  6.8 %\n",
      "\n",
      "\n",
      "Showing the results of the modelling: \n",
      "XGBoost modelling performed\n"
     ]
    }
   ],
   "source": [
    "model = modelling_XGBoost (X_train, X_test, y_train, y_test, PC, parameters, plot_error=False, plot=True)"
   ]
  },
  {
   "cell_type": "markdown",
   "id": "7a7c1b66",
   "metadata": {},
   "source": [
    "### Model testing"
   ]
  },
  {
   "cell_type": "code",
   "execution_count": 27,
   "id": "282042d1",
   "metadata": {},
   "outputs": [
    {
     "name": "stdout",
     "output_type": "stream",
     "text": [
      "power curve computation performed\n",
      "power curve computation performed\n",
      "Modelling errors for training set:\n",
      "Wind RMSE:  0.147 m/s as root mean\n",
      "Wind MAE:  0.111 m/s in avg\n",
      "Wind MAPE:  1.291 %\n",
      "Power RMSE:  69.243 kW as root mean\n",
      "Power MAE:  42.274 kW in avg\n",
      "Power MAPE:  2.842 %\n",
      "\n",
      "Modelling errors for test set:\n",
      "Wind RMSE:  0.326 m/s as root mean\n",
      "Wind MAE:  0.245 m/s in avg\n",
      "Wind MAPE:  2.929 %\n",
      "Power RMSE:  152.772 kW as root mean\n",
      "Power MAE:  95.606 kW in avg\n",
      "Power MAPE:  6.8 %\n",
      "\n",
      "\n",
      "Showing the results of the modelling: \n",
      "XGBoost results performed\n"
     ]
    }
   ],
   "source": [
    "WS_pred=model_testing (X_train, X_test, y_train, y_test, PC, model, plot_error=False)"
   ]
  },
  {
   "cell_type": "code",
   "execution_count": 28,
   "id": "d51a74d0",
   "metadata": {},
   "outputs": [
    {
     "name": "stdout",
     "output_type": "stream",
     "text": [
      "file XGB_WTG14.csv saved in \\Results_ folder\n"
     ]
    }
   ],
   "source": [
    "WS_pred=pd.DataFrame(WS_pred)\n",
    "save(WS_pred,'\\Results_','XGB_WTG14.csv')"
   ]
  },
  {
   "cell_type": "markdown",
   "id": "6b99bf60",
   "metadata": {},
   "source": [
    "### Feature importance"
   ]
  },
  {
   "cell_type": "code",
   "execution_count": 27,
   "id": "f3946a3b",
   "metadata": {},
   "outputs": [
    {
     "data": {
      "image/png": "[encoded data removed]",
      "text/plain": [
       "<Figure size 576x684 with 1 Axes>"
      ]
     },
     "metadata": {},
     "output_type": "display_data"
    },
    {
     "data": {
      "image/png": "[encoded data removed]",
      "text/plain": [
       "<Figure size 576x396 with 2 Axes>"
      ]
     },
     "metadata": {},
     "output_type": "display_data"
    },
    {
     "name": "stdout",
     "output_type": "stream",
     "text": [
      "Feature importance through SHAP values performed\n"
     ]
    }
   ],
   "source": [
    "shap_values=feature_importance (X_train, X_test, model)"
   ]
  },
  {
   "cell_type": "code",
   "execution_count": 28,
   "id": "d4e3fbee",
   "metadata": {},
   "outputs": [
    {
     "data": {
      "text/html": [
       "<div>\n",
       "<style scoped>\n",
       "    .dataframe tbody tr th:only-of-type {\n",
       "        vertical-align: middle;\n",
       "    }\n",
       "\n",
       "    .dataframe tbody tr th {\n",
       "        vertical-align: top;\n",
       "    }\n",
       "\n",
       "    .dataframe thead th {\n",
       "        text-align: right;\n",
       "    }\n",
       "</style>\n",
       "<table border=\"1\" class=\"dataframe\">\n",
       "  <thead>\n",
       "    <tr style=\"text-align: right;\">\n",
       "      <th></th>\n",
       "      <th>variables</th>\n",
       "      <th>SHAP_abs</th>\n",
       "    </tr>\n",
       "  </thead>\n",
       "  <tbody>\n",
       "    <tr>\n",
       "      <th>0</th>\n",
       "      <td>T2</td>\n",
       "      <td>0.017132</td>\n",
       "    </tr>\n",
       "    <tr>\n",
       "      <th>1</th>\n",
       "      <td>RH2</td>\n",
       "      <td>0.024425</td>\n",
       "    </tr>\n",
       "    <tr>\n",
       "      <th>2</th>\n",
       "      <td>T1</td>\n",
       "      <td>0.009528</td>\n",
       "    </tr>\n",
       "    <tr>\n",
       "      <th>3</th>\n",
       "      <td>RH1</td>\n",
       "      <td>0.013044</td>\n",
       "    </tr>\n",
       "    <tr>\n",
       "      <th>4</th>\n",
       "      <td>PR1</td>\n",
       "      <td>0.017180</td>\n",
       "    </tr>\n",
       "    <tr>\n",
       "      <th>5</th>\n",
       "      <td>AD1</td>\n",
       "      <td>0.011922</td>\n",
       "    </tr>\n",
       "    <tr>\n",
       "      <th>6</th>\n",
       "      <td>PR2</td>\n",
       "      <td>0.011960</td>\n",
       "    </tr>\n",
       "    <tr>\n",
       "      <th>7</th>\n",
       "      <td>AD2</td>\n",
       "      <td>0.017817</td>\n",
       "    </tr>\n",
       "    <tr>\n",
       "      <th>8</th>\n",
       "      <td>Rain</td>\n",
       "      <td>0.000585</td>\n",
       "    </tr>\n",
       "    <tr>\n",
       "      <th>9</th>\n",
       "      <td>WS1</td>\n",
       "      <td>1.252396</td>\n",
       "    </tr>\n",
       "    <tr>\n",
       "      <th>10</th>\n",
       "      <td>WS3</td>\n",
       "      <td>0.084823</td>\n",
       "    </tr>\n",
       "    <tr>\n",
       "      <th>11</th>\n",
       "      <td>WS4</td>\n",
       "      <td>0.082036</td>\n",
       "    </tr>\n",
       "    <tr>\n",
       "      <th>12</th>\n",
       "      <td>WD1</td>\n",
       "      <td>0.025509</td>\n",
       "    </tr>\n",
       "    <tr>\n",
       "      <th>13</th>\n",
       "      <td>WD3</td>\n",
       "      <td>0.021840</td>\n",
       "    </tr>\n",
       "    <tr>\n",
       "      <th>14</th>\n",
       "      <td>WD4</td>\n",
       "      <td>0.026944</td>\n",
       "    </tr>\n",
       "    <tr>\n",
       "      <th>15</th>\n",
       "      <td>WSHor</td>\n",
       "      <td>0.910444</td>\n",
       "    </tr>\n",
       "    <tr>\n",
       "      <th>16</th>\n",
       "      <td>WDHor</td>\n",
       "      <td>0.025103</td>\n",
       "    </tr>\n",
       "    <tr>\n",
       "      <th>17</th>\n",
       "      <td>WSVer</td>\n",
       "      <td>0.051304</td>\n",
       "    </tr>\n",
       "    <tr>\n",
       "      <th>18</th>\n",
       "      <td>WDVer</td>\n",
       "      <td>0.022233</td>\n",
       "    </tr>\n",
       "    <tr>\n",
       "      <th>19</th>\n",
       "      <td>TI</td>\n",
       "      <td>0.077152</td>\n",
       "    </tr>\n",
       "    <tr>\n",
       "      <th>20</th>\n",
       "      <td>WSH</td>\n",
       "      <td>0.028936</td>\n",
       "    </tr>\n",
       "    <tr>\n",
       "      <th>21</th>\n",
       "      <td>WD_bin</td>\n",
       "      <td>0.000712</td>\n",
       "    </tr>\n",
       "    <tr>\n",
       "      <th>22</th>\n",
       "      <td>tod</td>\n",
       "      <td>0.058275</td>\n",
       "    </tr>\n",
       "    <tr>\n",
       "      <th>23</th>\n",
       "      <td>WVeer</td>\n",
       "      <td>0.015956</td>\n",
       "    </tr>\n",
       "  </tbody>\n",
       "</table>\n",
       "</div>"
      ],
      "text/plain": [
       "   variables  SHAP_abs\n",
       "0         T2  0.017132\n",
       "1        RH2  0.024425\n",
       "2         T1  0.009528\n",
       "3        RH1  0.013044\n",
       "4        PR1  0.017180\n",
       "5        AD1  0.011922\n",
       "6        PR2  0.011960\n",
       "7        AD2  0.017817\n",
       "8       Rain  0.000585\n",
       "9        WS1  1.252396\n",
       "10       WS3  0.084823\n",
       "11       WS4  0.082036\n",
       "12       WD1  0.025509\n",
       "13       WD3  0.021840\n",
       "14       WD4  0.026944\n",
       "15     WSHor  0.910444\n",
       "16     WDHor  0.025103\n",
       "17     WSVer  0.051304\n",
       "18     WDVer  0.022233\n",
       "19        TI  0.077152\n",
       "20       WSH  0.028936\n",
       "21    WD_bin  0.000712\n",
       "22       tod  0.058275\n",
       "23     WVeer  0.015956"
      ]
     },
     "execution_count": 28,
     "metadata": {},
     "output_type": "execute_result"
    }
   ],
   "source": [
    "shap_values"
   ]
  },
  {
   "cell_type": "markdown",
   "id": "c844a2df",
   "metadata": {},
   "source": [
    "## Dataset1- WTG15"
   ]
  },
  {
   "cell_type": "code",
   "execution_count": 22,
   "id": "143791ce",
   "metadata": {},
   "outputs": [
    {
     "data": {
      "text/plain": [
       "Index(['T2', 'RH2', 'T1', 'RH1', 'PR1', 'AD1', 'PR2', 'AD2', 'Rain', 'WS1',\n",
       "       'WS3', 'WS4', 'WD1', 'WD3', 'WD4', 'WSHor', 'WDHor', 'WSVer', 'WDVer',\n",
       "       'TI', 'WSH', 'WD_bin', 'tod', 'WVeer'],\n",
       "      dtype='object')"
      ]
     },
     "execution_count": 22,
     "metadata": {},
     "output_type": "execute_result"
    }
   ],
   "source": [
    "#upload the dataset with file_folder, file_name\n",
    "# data_up= uploading_csv('\\Dataset1-Normal_Site','\\data_comp14.csv')\n",
    "X_train= uploading_csv('\\Dataset1-Normal_Site','\\X_train15.csv')\n",
    "X_test= uploading_csv('\\Dataset1-Normal_Site','\\X_test15.csv')\n",
    "y_train= uploading_csv('\\Dataset1-Normal_Site','\\y_train15.csv')\n",
    "y_test= uploading_csv('\\Dataset1-Normal_Site','\\y_test15.csv')\n",
    "\n",
    "X_test.keys()"
   ]
  },
  {
   "cell_type": "code",
   "execution_count": 23,
   "id": "8e5ee809",
   "metadata": {},
   "outputs": [
    {
     "data": {
      "text/plain": [
       "Index(['Target'], dtype='object')"
      ]
     },
     "execution_count": 23,
     "metadata": {},
     "output_type": "execute_result"
    }
   ],
   "source": [
    "y_test.keys()"
   ]
  },
  {
   "cell_type": "code",
   "execution_count": 24,
   "id": "8c5bf8b0",
   "metadata": {},
   "outputs": [],
   "source": [
    "PC= uploading_csv('\\Dataset1-Normal_Site','\\PC_1.15kgm-3.csv')"
   ]
  },
  {
   "cell_type": "markdown",
   "id": "8d42105e",
   "metadata": {},
   "source": [
    "### Grid Search"
   ]
  },
  {
   "cell_type": "code",
   "execution_count": 63,
   "id": "9c4b864f",
   "metadata": {},
   "outputs": [],
   "source": [
    "parameters={\n",
    "    'max_depth':5,\n",
    "    'n_estimators': 1000,\n",
    "    'learning_rate':0.1,\n",
    "    'subsample':0.8,\n",
    "    'colsample_bytree':0.8,\n",
    "    'min_child_weight':1,\n",
    "    'gamma':0,\n",
    "    'reg_lambda':1,\n",
    "}"
   ]
  },
  {
   "cell_type": "code",
   "execution_count": 64,
   "id": "ebae69f9",
   "metadata": {},
   "outputs": [],
   "source": [
    "param_grid={\n",
    "    'n_estimators': [100, 200, 300, 400, 500, 600, 700, 800, 900, 1000],\n",
    "}"
   ]
  },
  {
   "cell_type": "code",
   "execution_count": 65,
   "id": "1714b6e3",
   "metadata": {
    "scrolled": true
   },
   "outputs": [
    {
     "name": "stdout",
     "output_type": "stream",
     "text": [
      "Fitting 4 folds for each of 10 candidates, totalling 40 fits\n",
      "\n",
      "Best parameters :\n",
      "{'n_estimators': 800}\n",
      "\n",
      "power curve computation performed\n",
      "power curve computation performed\n",
      "Modelling errors for training set:\n",
      "Wind RMSE:  0.08 m/s as root mean\n",
      "Wind MAE:  0.061 m/s in avg\n",
      "Wind MAPE:  0.764 %\n",
      "Power RMSE:  41.012 kW as root mean\n",
      "Power MAE:  26.162 kW in avg\n",
      "Power MAPE:  1.877 %\n",
      "\n",
      "Modelling errors for test set:\n",
      "Wind RMSE:  0.472 m/s as root mean\n",
      "Wind MAE:  0.354 m/s in avg\n",
      "Wind MAPE:  4.388 %\n",
      "Power RMSE:  220.786 kW as root mean\n",
      "Power MAE:  140.141 kW in avg\n",
      "Power MAPE:  10.922 %\n",
      "\n",
      "\n",
      "Showing the results of the modelling: \n",
      "GridSearch_ XGBoost performed\n",
      "--- 3.393030083179474 minutes ---\n",
      "\n",
      "Lowest RMSE:  0.4911414294776324\n"
     ]
    },
    {
     "data": {
      "text/plain": [
       "GridSearchCV(cv=4,\n",
       "             estimator=XGBRegressor(base_score=None, booster='gbtree',\n",
       "                                    colsample_bylevel=None,\n",
       "                                    colsample_bynode=None, colsample_bytree=0.8,\n",
       "                                    gamma=0, gpu_id=None,\n",
       "                                    importance_type='gain',\n",
       "                                    interaction_constraints=None,\n",
       "                                    learning_rate=0.1, max_delta_step=None,\n",
       "                                    max_depth=5, min_child_weight=1,\n",
       "                                    missing=nan, monotone_constraints=None,\n",
       "                                    n_estimators=1000, n_jobs=None,\n",
       "                                    num_parallel_tree=None, random_state=42,\n",
       "                                    reg_alpha=None, reg_lambda=1,\n",
       "                                    scale_pos_weight=None, subsample=0.8,\n",
       "                                    tree_method=None, validate_parameters=None,\n",
       "                                    verbosity=None),\n",
       "             param_grid={'n_estimators': [100, 200, 300, 400, 500, 600, 700,\n",
       "                                          800, 900, 1000]},\n",
       "             scoring='neg_mean_squared_error', verbose=1)"
      ]
     },
     "execution_count": 65,
     "metadata": {},
     "output_type": "execute_result"
    }
   ],
   "source": [
    " GridSearch_XGBoost (X_train, X_test, y_train, y_test, PC, parameters, param_grid, plot_error=False)"
   ]
  },
  {
   "cell_type": "code",
   "execution_count": 66,
   "id": "e97a35d7",
   "metadata": {},
   "outputs": [],
   "source": [
    "parameters={\n",
    "    'max_depth':5,\n",
    "    'n_estimators': 800,\n",
    "    'learning_rate':0.1,\n",
    "    'subsample':0.8,\n",
    "    'colsample_bytree':0.8,\n",
    "    'min_child_weight':1,\n",
    "    'gamma':0,\n",
    "    'reg_lambda':1,\n",
    "}"
   ]
  },
  {
   "cell_type": "code",
   "execution_count": 67,
   "id": "83229470",
   "metadata": {},
   "outputs": [],
   "source": [
    "param_grid={\n",
    "    'max_depth': [3, 4, 5, 6, 10, 15, 20],\n",
    "    'min_child_weight': [1, 2, 3, 6, 10]\n",
    "}"
   ]
  },
  {
   "cell_type": "code",
   "execution_count": 68,
   "id": "be3005a9",
   "metadata": {
    "scrolled": true
   },
   "outputs": [
    {
     "name": "stdout",
     "output_type": "stream",
     "text": [
      "Fitting 4 folds for each of 35 candidates, totalling 140 fits\n",
      "\n",
      "Best parameters :\n",
      "{'max_depth': 10, 'min_child_weight': 10}\n",
      "\n",
      "power curve computation performed\n",
      "power curve computation performed\n",
      "Modelling errors for training set:\n",
      "Wind RMSE:  0.003 m/s as root mean\n",
      "Wind MAE:  0.002 m/s in avg\n",
      "Wind MAPE:  0.026 %\n",
      "Power RMSE:  1.546 kW as root mean\n",
      "Power MAE:  0.882 kW in avg\n",
      "Power MAPE:  0.064 %\n",
      "\n",
      "Modelling errors for test set:\n",
      "Wind RMSE:  0.476 m/s as root mean\n",
      "Wind MAE:  0.358 m/s in avg\n",
      "Wind MAPE:  4.422 %\n",
      "Power RMSE:  220.94 kW as root mean\n",
      "Power MAE:  141.222 kW in avg\n",
      "Power MAPE:  10.877 %\n",
      "\n",
      "\n",
      "Showing the results of the modelling: \n",
      "GridSearch_ XGBoost performed\n",
      "--- 22.407510817050934 minutes ---\n",
      "\n",
      "Lowest RMSE:  0.48492056878259826\n"
     ]
    },
    {
     "data": {
      "text/plain": [
       "GridSearchCV(cv=4,\n",
       "             estimator=XGBRegressor(base_score=None, booster='gbtree',\n",
       "                                    colsample_bylevel=None,\n",
       "                                    colsample_bynode=None, colsample_bytree=0.8,\n",
       "                                    gamma=0, gpu_id=None,\n",
       "                                    importance_type='gain',\n",
       "                                    interaction_constraints=None,\n",
       "                                    learning_rate=0.1, max_delta_step=None,\n",
       "                                    max_depth=5, min_child_weight=1,\n",
       "                                    missing=nan, monotone_constraints=None,\n",
       "                                    n_estimators=800, n_jobs=None,\n",
       "                                    num_parallel_tree=None, random_state=42,\n",
       "                                    reg_alpha=None, reg_lambda=1,\n",
       "                                    scale_pos_weight=None, subsample=0.8,\n",
       "                                    tree_method=None, validate_parameters=None,\n",
       "                                    verbosity=None),\n",
       "             param_grid={'max_depth': [3, 4, 5, 6, 10, 15, 20],\n",
       "                         'min_child_weight': [1, 2, 3, 6, 10]},\n",
       "             scoring='neg_mean_squared_error', verbose=1)"
      ]
     },
     "execution_count": 68,
     "metadata": {},
     "output_type": "execute_result"
    }
   ],
   "source": [
    "GridSearch_XGBoost (X_train, X_test, y_train, y_test, PC, parameters, param_grid, plot_error=False)"
   ]
  },
  {
   "cell_type": "code",
   "execution_count": 69,
   "id": "2b919c17",
   "metadata": {},
   "outputs": [],
   "source": [
    "parameters={\n",
    "    'max_depth':10,\n",
    "    'n_estimators': 800,\n",
    "    'learning_rate':0.1,\n",
    "    'subsample':0.8,\n",
    "    'colsample_bytree':0.8,\n",
    "    'min_child_weight':10,\n",
    "    'gamma':0,\n",
    "    'reg_lambda':1,\n",
    "}"
   ]
  },
  {
   "cell_type": "code",
   "execution_count": 70,
   "id": "4ee5f2db",
   "metadata": {},
   "outputs": [],
   "source": [
    "param_grid={\n",
    "    'gamma': [0, 0.1, 0.2, 0.3, 0.4, 0.5]\n",
    "}"
   ]
  },
  {
   "cell_type": "code",
   "execution_count": 71,
   "id": "80909ad0",
   "metadata": {
    "scrolled": true
   },
   "outputs": [
    {
     "name": "stdout",
     "output_type": "stream",
     "text": [
      "Fitting 4 folds for each of 6 candidates, totalling 24 fits\n",
      "\n",
      "Best parameters :\n",
      "{'gamma': 0}\n",
      "\n",
      "power curve computation performed\n",
      "power curve computation performed\n",
      "Modelling errors for training set:\n",
      "Wind RMSE:  0.003 m/s as root mean\n",
      "Wind MAE:  0.002 m/s in avg\n",
      "Wind MAPE:  0.026 %\n",
      "Power RMSE:  1.546 kW as root mean\n",
      "Power MAE:  0.882 kW in avg\n",
      "Power MAPE:  0.064 %\n",
      "\n",
      "Modelling errors for test set:\n",
      "Wind RMSE:  0.476 m/s as root mean\n",
      "Wind MAE:  0.358 m/s in avg\n",
      "Wind MAPE:  4.422 %\n",
      "Power RMSE:  220.94 kW as root mean\n",
      "Power MAE:  141.222 kW in avg\n",
      "Power MAPE:  10.877 %\n",
      "\n",
      "\n",
      "Showing the results of the modelling: \n",
      "GridSearch_ XGBoost performed\n",
      "--- 5.105294768015543 minutes ---\n",
      "\n",
      "Lowest RMSE:  0.48492056878259826\n"
     ]
    },
    {
     "data": {
      "text/plain": [
       "GridSearchCV(cv=4,\n",
       "             estimator=XGBRegressor(base_score=None, booster='gbtree',\n",
       "                                    colsample_bylevel=None,\n",
       "                                    colsample_bynode=None, colsample_bytree=0.8,\n",
       "                                    gamma=0, gpu_id=None,\n",
       "                                    importance_type='gain',\n",
       "                                    interaction_constraints=None,\n",
       "                                    learning_rate=0.1, max_delta_step=None,\n",
       "                                    max_depth=10, min_child_weight=10,\n",
       "                                    missing=nan, monotone_constraints=None,\n",
       "                                    n_estimators=800, n_jobs=None,\n",
       "                                    num_parallel_tree=None, random_state=42,\n",
       "                                    reg_alpha=None, reg_lambda=1,\n",
       "                                    scale_pos_weight=None, subsample=0.8,\n",
       "                                    tree_method=None, validate_parameters=None,\n",
       "                                    verbosity=None),\n",
       "             param_grid={'gamma': [0, 0.1, 0.2, 0.3, 0.4, 0.5]},\n",
       "             scoring='neg_mean_squared_error', verbose=1)"
      ]
     },
     "execution_count": 71,
     "metadata": {},
     "output_type": "execute_result"
    }
   ],
   "source": [
    "GridSearch_XGBoost (X_train, X_test, y_train, y_test, PC, parameters, param_grid, plot_error=False)"
   ]
  },
  {
   "cell_type": "code",
   "execution_count": 72,
   "id": "336d0608",
   "metadata": {},
   "outputs": [],
   "source": [
    "parameters={\n",
    "    'max_depth':10,\n",
    "    'n_estimators': 800,\n",
    "    'learning_rate':0.1,\n",
    "    'subsample':0.8,\n",
    "    'colsample_bytree':0.8,\n",
    "    'min_child_weight':10,\n",
    "    'gamma':0,\n",
    "    'reg_lambda':1,\n",
    "}"
   ]
  },
  {
   "cell_type": "code",
   "execution_count": 73,
   "id": "9174f462",
   "metadata": {},
   "outputs": [],
   "source": [
    "param_grid={\n",
    "    'subsample': [0.4, 0.5, 0.6, 0.7, 0.8, 0.9, 1],\n",
    "    'colsample_bytree': [0.4, 0.5, 0.6, 0.7, 0.8, 0.9, 1]\n",
    "}"
   ]
  },
  {
   "cell_type": "code",
   "execution_count": 74,
   "id": "c8e7b560",
   "metadata": {
    "scrolled": true
   },
   "outputs": [
    {
     "name": "stdout",
     "output_type": "stream",
     "text": [
      "Fitting 4 folds for each of 49 candidates, totalling 196 fits\n",
      "\n",
      "Best parameters :\n",
      "{'colsample_bytree': 0.7, 'subsample': 0.6}\n",
      "\n",
      "power curve computation performed\n",
      "power curve computation performed\n",
      "Modelling errors for training set:\n",
      "Wind RMSE:  0.004 m/s as root mean\n",
      "Wind MAE:  0.003 m/s in avg\n",
      "Wind MAPE:  0.039 %\n",
      "Power RMSE:  2.228 kW as root mean\n",
      "Power MAE:  1.317 kW in avg\n",
      "Power MAPE:  0.096 %\n",
      "\n",
      "Modelling errors for test set:\n",
      "Wind RMSE:  0.484 m/s as root mean\n",
      "Wind MAE:  0.363 m/s in avg\n",
      "Wind MAPE:  4.494 %\n",
      "Power RMSE:  225.037 kW as root mean\n",
      "Power MAE:  143.14 kW in avg\n",
      "Power MAPE:  11.117 %\n",
      "\n",
      "\n",
      "Showing the results of the modelling: \n",
      "GridSearch_ XGBoost performed\n",
      "--- 36.88379539251328 minutes ---\n",
      "\n",
      "Lowest RMSE:  0.48334012238859225\n"
     ]
    },
    {
     "data": {
      "text/plain": [
       "GridSearchCV(cv=4,\n",
       "             estimator=XGBRegressor(base_score=None, booster='gbtree',\n",
       "                                    colsample_bylevel=None,\n",
       "                                    colsample_bynode=None, colsample_bytree=0.8,\n",
       "                                    gamma=0, gpu_id=None,\n",
       "                                    importance_type='gain',\n",
       "                                    interaction_constraints=None,\n",
       "                                    learning_rate=0.1, max_delta_step=None,\n",
       "                                    max_depth=10, min_child_weight=10,\n",
       "                                    missing=nan, monotone_constraints=None,\n",
       "                                    n_estimators=800, n_jobs=None,\n",
       "                                    num_parallel_tree=None, random_state=42,\n",
       "                                    reg_alpha=None, reg_lambda=1,\n",
       "                                    scale_pos_weight=None, subsample=0.8,\n",
       "                                    tree_method=None, validate_parameters=None,\n",
       "                                    verbosity=None),\n",
       "             param_grid={'colsample_bytree': [0.4, 0.5, 0.6, 0.7, 0.8, 0.9, 1],\n",
       "                         'subsample': [0.4, 0.5, 0.6, 0.7, 0.8, 0.9, 1]},\n",
       "             scoring='neg_mean_squared_error', verbose=1)"
      ]
     },
     "execution_count": 74,
     "metadata": {},
     "output_type": "execute_result"
    }
   ],
   "source": [
    "GridSearch_XGBoost (X_train, X_test, y_train, y_test, PC, parameters, param_grid, plot_error=False)"
   ]
  },
  {
   "cell_type": "code",
   "execution_count": 75,
   "id": "c3297e66",
   "metadata": {},
   "outputs": [],
   "source": [
    "parameters={\n",
    "    'max_depth':10,\n",
    "    'n_estimators': 800,\n",
    "    'learning_rate':0.1,\n",
    "    'subsample':0.6,\n",
    "    'colsample_bytree':0.7,\n",
    "    'min_child_weight':10,\n",
    "    'gamma':0,\n",
    "    'reg_lambda':1,\n",
    "}"
   ]
  },
  {
   "cell_type": "code",
   "execution_count": 76,
   "id": "3f01c0ed",
   "metadata": {},
   "outputs": [],
   "source": [
    "param_grid={\n",
    "    'reg_lambda': [1, 10, 50, 100, 150]\n",
    "}"
   ]
  },
  {
   "cell_type": "code",
   "execution_count": 77,
   "id": "7156ce86",
   "metadata": {
    "scrolled": true
   },
   "outputs": [
    {
     "name": "stdout",
     "output_type": "stream",
     "text": [
      "Fitting 4 folds for each of 5 candidates, totalling 20 fits\n",
      "\n",
      "Best parameters :\n",
      "{'reg_lambda': 1}\n",
      "\n",
      "power curve computation performed\n",
      "power curve computation performed\n",
      "Modelling errors for training set:\n",
      "Wind RMSE:  0.004 m/s as root mean\n",
      "Wind MAE:  0.003 m/s in avg\n",
      "Wind MAPE:  0.039 %\n",
      "Power RMSE:  2.228 kW as root mean\n",
      "Power MAE:  1.317 kW in avg\n",
      "Power MAPE:  0.096 %\n",
      "\n",
      "Modelling errors for test set:\n",
      "Wind RMSE:  0.484 m/s as root mean\n",
      "Wind MAE:  0.363 m/s in avg\n",
      "Wind MAPE:  4.494 %\n",
      "Power RMSE:  225.037 kW as root mean\n",
      "Power MAE:  143.14 kW in avg\n",
      "Power MAPE:  11.117 %\n",
      "\n",
      "\n",
      "Showing the results of the modelling: \n",
      "GridSearch_ XGBoost performed\n",
      "--- 3.375798058509827 minutes ---\n",
      "\n",
      "Lowest RMSE:  0.48334012238859225\n"
     ]
    },
    {
     "data": {
      "text/plain": [
       "GridSearchCV(cv=4,\n",
       "             estimator=XGBRegressor(base_score=None, booster='gbtree',\n",
       "                                    colsample_bylevel=None,\n",
       "                                    colsample_bynode=None, colsample_bytree=0.7,\n",
       "                                    gamma=0, gpu_id=None,\n",
       "                                    importance_type='gain',\n",
       "                                    interaction_constraints=None,\n",
       "                                    learning_rate=0.1, max_delta_step=None,\n",
       "                                    max_depth=10, min_child_weight=10,\n",
       "                                    missing=nan, monotone_constraints=None,\n",
       "                                    n_estimators=800, n_jobs=None,\n",
       "                                    num_parallel_tree=None, random_state=42,\n",
       "                                    reg_alpha=None, reg_lambda=1,\n",
       "                                    scale_pos_weight=None, subsample=0.6,\n",
       "                                    tree_method=None, validate_parameters=None,\n",
       "                                    verbosity=None),\n",
       "             param_grid={'reg_lambda': [1, 10, 50, 100, 150]},\n",
       "             scoring='neg_mean_squared_error', verbose=1)"
      ]
     },
     "execution_count": 77,
     "metadata": {},
     "output_type": "execute_result"
    }
   ],
   "source": [
    "GridSearch_XGBoost (X_train, X_test, y_train, y_test, PC, parameters, param_grid, plot_error=False)"
   ]
  },
  {
   "cell_type": "code",
   "execution_count": 80,
   "id": "59ea01de",
   "metadata": {},
   "outputs": [],
   "source": [
    "parameters={\n",
    "    'max_depth':10,\n",
    "    'n_estimators': 800,\n",
    "    'learning_rate':0.1,\n",
    "    'subsample':0.6,\n",
    "    'colsample_bytree':0.7,\n",
    "    'min_child_weight':10,\n",
    "    'gamma':0,\n",
    "    'reg_lambda':1,\n",
    "}"
   ]
  },
  {
   "cell_type": "code",
   "execution_count": 81,
   "id": "72a29aca",
   "metadata": {},
   "outputs": [],
   "source": [
    "param_grid={\n",
    "    'learning_rate': [0.001, 0.01, 0.1, 0.5],\n",
    "    'n_estimators': [800, 900, 1000, 1200, 1500, 1800, 2000]\n",
    "}"
   ]
  },
  {
   "cell_type": "code",
   "execution_count": 82,
   "id": "7552ae2f",
   "metadata": {
    "scrolled": true
   },
   "outputs": [
    {
     "name": "stdout",
     "output_type": "stream",
     "text": [
      "Fitting 4 folds for each of 28 candidates, totalling 112 fits\n",
      "\n",
      "Best parameters :\n",
      "{'learning_rate': 0.01, 'n_estimators': 2000}\n",
      "\n",
      "power curve computation performed\n",
      "power curve computation performed\n",
      "Modelling errors for training set:\n",
      "Wind RMSE:  0.105 m/s as root mean\n",
      "Wind MAE:  0.079 m/s in avg\n",
      "Wind MAPE:  0.984 %\n",
      "Power RMSE:  51.946 kW as root mean\n",
      "Power MAE:  32.599 kW in avg\n",
      "Power MAPE:  2.421 %\n",
      "\n",
      "Modelling errors for test set:\n",
      "Wind RMSE:  0.461 m/s as root mean\n",
      "Wind MAE:  0.346 m/s in avg\n",
      "Wind MAPE:  4.275 %\n",
      "Power RMSE:  215.307 kW as root mean\n",
      "Power MAE:  136.848 kW in avg\n",
      "Power MAPE:  10.604 %\n",
      "\n",
      "\n",
      "Showing the results of the modelling: \n",
      "GridSearch_ XGBoost performed\n",
      "--- 20.483647259076438 minutes ---\n",
      "\n",
      "Lowest RMSE:  0.47220829367972855\n"
     ]
    },
    {
     "data": {
      "text/plain": [
       "GridSearchCV(cv=4,\n",
       "             estimator=XGBRegressor(base_score=None, booster='gbtree',\n",
       "                                    colsample_bylevel=None,\n",
       "                                    colsample_bynode=None, colsample_bytree=0.7,\n",
       "                                    gamma=0, gpu_id=None,\n",
       "                                    importance_type='gain',\n",
       "                                    interaction_constraints=None,\n",
       "                                    learning_rate=0.1, max_delta_step=None,\n",
       "                                    max_depth=10, min_child_weight=10,\n",
       "                                    missing=nan, monotone_constraints=None,\n",
       "                                    n_estimators=800, n_jobs=None,\n",
       "                                    num_parallel_tree=None, random_state=42,\n",
       "                                    reg_alpha=None, reg_lambda=1,\n",
       "                                    scale_pos_weight=None, subsample=0.6,\n",
       "                                    tree_method=None, validate_parameters=None,\n",
       "                                    verbosity=None),\n",
       "             param_grid={'learning_rate': [0.001, 0.01, 0.1, 0.5],\n",
       "                         'n_estimators': [800, 900, 1000, 1200, 1500, 1800,\n",
       "                                          2000]},\n",
       "             scoring='neg_mean_squared_error', verbose=1)"
      ]
     },
     "execution_count": 82,
     "metadata": {},
     "output_type": "execute_result"
    }
   ],
   "source": [
    "GridSearch_XGBoost (X_train, X_test, y_train, y_test, PC, parameters, param_grid, plot_error=False)"
   ]
  },
  {
   "cell_type": "code",
   "execution_count": null,
   "id": "ea99f2e0",
   "metadata": {},
   "outputs": [],
   "source": []
  },
  {
   "cell_type": "markdown",
   "id": "5ff9a321",
   "metadata": {},
   "source": [
    "### Manual modelling"
   ]
  },
  {
   "cell_type": "code",
   "execution_count": 25,
   "id": "845a8c5a",
   "metadata": {},
   "outputs": [],
   "source": [
    "parameters={\n",
    "    'max_depth':10,\n",
    "    'n_estimators': 2000,\n",
    "    'learning_rate':0.01,\n",
    "    'subsample':0.6,\n",
    "    'colsample_bytree':0.7,\n",
    "    'min_child_weight':10,\n",
    "    'gamma':0,\n",
    "    'reg_lambda':1\n",
    "}"
   ]
  },
  {
   "cell_type": "code",
   "execution_count": 26,
   "id": "86cc4e6d",
   "metadata": {},
   "outputs": [
    {
     "name": "stdout",
     "output_type": "stream",
     "text": [
      "power curve computation performed\n",
      "power curve computation performed\n",
      "Modelling errors for training set:\n",
      "Wind RMSE:  0.105 m/s as root mean\n",
      "Wind MAE:  0.079 m/s in avg\n",
      "Wind MAPE:  0.984 %\n",
      "Power RMSE:  51.946 kW as root mean\n",
      "Power MAE:  32.599 kW in avg\n",
      "Power MAPE:  2.421 %\n",
      "\n",
      "Modelling errors for test set:\n",
      "Wind RMSE:  0.461 m/s as root mean\n",
      "Wind MAE:  0.346 m/s in avg\n",
      "Wind MAPE:  4.275 %\n",
      "Power RMSE:  215.307 kW as root mean\n",
      "Power MAE:  136.848 kW in avg\n",
      "Power MAPE:  10.604 %\n",
      "\n",
      "\n",
      "Showing the results of the modelling: \n",
      "XGBoost modelling performed\n"
     ]
    }
   ],
   "source": [
    "model = modelling_XGBoost (X_train, X_test, y_train, y_test, PC, parameters, plot_error=False, plot=True)"
   ]
  },
  {
   "cell_type": "markdown",
   "id": "e61991e8",
   "metadata": {},
   "source": [
    "### Model testing"
   ]
  },
  {
   "cell_type": "code",
   "execution_count": 27,
   "id": "cdaaa758",
   "metadata": {},
   "outputs": [
    {
     "name": "stdout",
     "output_type": "stream",
     "text": [
      "power curve computation performed\n",
      "power curve computation performed\n",
      "Modelling errors for training set:\n",
      "Wind RMSE:  0.105 m/s as root mean\n",
      "Wind MAE:  0.079 m/s in avg\n",
      "Wind MAPE:  0.984 %\n",
      "Power RMSE:  51.946 kW as root mean\n",
      "Power MAE:  32.599 kW in avg\n",
      "Power MAPE:  2.421 %\n",
      "\n",
      "Modelling errors for test set:\n",
      "Wind RMSE:  0.461 m/s as root mean\n",
      "Wind MAE:  0.346 m/s in avg\n",
      "Wind MAPE:  4.275 %\n",
      "Power RMSE:  215.307 kW as root mean\n",
      "Power MAE:  136.848 kW in avg\n",
      "Power MAPE:  10.604 %\n",
      "\n",
      "\n",
      "Showing the results of the modelling: \n",
      "XGBoost results performed\n"
     ]
    }
   ],
   "source": [
    "WS_pred=model_testing (X_train, X_test, y_train, y_test, PC, model, plot_error=False)"
   ]
  },
  {
   "cell_type": "code",
   "execution_count": 28,
   "id": "af422138",
   "metadata": {},
   "outputs": [
    {
     "name": "stdout",
     "output_type": "stream",
     "text": [
      "file XGB_WTG15.csv saved in \\Results_ folder\n"
     ]
    }
   ],
   "source": [
    "WS_pred=pd.DataFrame(WS_pred)\n",
    "save(WS_pred,'\\Results_','XGB_WTG15.csv')"
   ]
  },
  {
   "cell_type": "markdown",
   "id": "577106b1",
   "metadata": {},
   "source": [
    "### Feature importance"
   ]
  },
  {
   "cell_type": "code",
   "execution_count": 85,
   "id": "91b8ac1b",
   "metadata": {},
   "outputs": [
    {
     "data": {
      "image/png": "[encoded data removed]",
      "text/plain": [
       "<Figure size 576x684 with 1 Axes>"
      ]
     },
     "metadata": {},
     "output_type": "display_data"
    },
    {
     "data": {
      "image/png": "[encoded data removed]",
      "text/plain": [
       "<Figure size 576x396 with 2 Axes>"
      ]
     },
     "metadata": {},
     "output_type": "display_data"
    },
    {
     "name": "stdout",
     "output_type": "stream",
     "text": [
      "Feature importance through SHAP values performed\n"
     ]
    }
   ],
   "source": [
    "shap_values=feature_importance (X_train, X_test, model)"
   ]
  },
  {
   "cell_type": "code",
   "execution_count": 86,
   "id": "a4a179d1",
   "metadata": {},
   "outputs": [
    {
     "data": {
      "text/html": [
       "<div>\n",
       "<style scoped>\n",
       "    .dataframe tbody tr th:only-of-type {\n",
       "        vertical-align: middle;\n",
       "    }\n",
       "\n",
       "    .dataframe tbody tr th {\n",
       "        vertical-align: top;\n",
       "    }\n",
       "\n",
       "    .dataframe thead th {\n",
       "        text-align: right;\n",
       "    }\n",
       "</style>\n",
       "<table border=\"1\" class=\"dataframe\">\n",
       "  <thead>\n",
       "    <tr style=\"text-align: right;\">\n",
       "      <th></th>\n",
       "      <th>variables</th>\n",
       "      <th>SHAP_abs</th>\n",
       "    </tr>\n",
       "  </thead>\n",
       "  <tbody>\n",
       "    <tr>\n",
       "      <th>0</th>\n",
       "      <td>T2</td>\n",
       "      <td>0.015230</td>\n",
       "    </tr>\n",
       "    <tr>\n",
       "      <th>1</th>\n",
       "      <td>RH2</td>\n",
       "      <td>0.041744</td>\n",
       "    </tr>\n",
       "    <tr>\n",
       "      <th>2</th>\n",
       "      <td>T1</td>\n",
       "      <td>0.013239</td>\n",
       "    </tr>\n",
       "    <tr>\n",
       "      <th>3</th>\n",
       "      <td>RH1</td>\n",
       "      <td>0.035177</td>\n",
       "    </tr>\n",
       "    <tr>\n",
       "      <th>4</th>\n",
       "      <td>PR1</td>\n",
       "      <td>0.017255</td>\n",
       "    </tr>\n",
       "    <tr>\n",
       "      <th>5</th>\n",
       "      <td>AD1</td>\n",
       "      <td>0.013743</td>\n",
       "    </tr>\n",
       "    <tr>\n",
       "      <th>6</th>\n",
       "      <td>PR2</td>\n",
       "      <td>0.016918</td>\n",
       "    </tr>\n",
       "    <tr>\n",
       "      <th>7</th>\n",
       "      <td>AD2</td>\n",
       "      <td>0.013227</td>\n",
       "    </tr>\n",
       "    <tr>\n",
       "      <th>8</th>\n",
       "      <td>Rain</td>\n",
       "      <td>0.000054</td>\n",
       "    </tr>\n",
       "    <tr>\n",
       "      <th>9</th>\n",
       "      <td>WS1</td>\n",
       "      <td>1.184667</td>\n",
       "    </tr>\n",
       "    <tr>\n",
       "      <th>10</th>\n",
       "      <td>WS3</td>\n",
       "      <td>0.165128</td>\n",
       "    </tr>\n",
       "    <tr>\n",
       "      <th>11</th>\n",
       "      <td>WS4</td>\n",
       "      <td>0.118958</td>\n",
       "    </tr>\n",
       "    <tr>\n",
       "      <th>12</th>\n",
       "      <td>WD1</td>\n",
       "      <td>0.047153</td>\n",
       "    </tr>\n",
       "    <tr>\n",
       "      <th>13</th>\n",
       "      <td>WD3</td>\n",
       "      <td>0.033010</td>\n",
       "    </tr>\n",
       "    <tr>\n",
       "      <th>14</th>\n",
       "      <td>WD4</td>\n",
       "      <td>0.027737</td>\n",
       "    </tr>\n",
       "    <tr>\n",
       "      <th>15</th>\n",
       "      <td>WSHor</td>\n",
       "      <td>0.716488</td>\n",
       "    </tr>\n",
       "    <tr>\n",
       "      <th>16</th>\n",
       "      <td>WDHor</td>\n",
       "      <td>0.036762</td>\n",
       "    </tr>\n",
       "    <tr>\n",
       "      <th>17</th>\n",
       "      <td>WSVer</td>\n",
       "      <td>0.034377</td>\n",
       "    </tr>\n",
       "    <tr>\n",
       "      <th>18</th>\n",
       "      <td>WDVer</td>\n",
       "      <td>0.101127</td>\n",
       "    </tr>\n",
       "    <tr>\n",
       "      <th>19</th>\n",
       "      <td>TI</td>\n",
       "      <td>0.131392</td>\n",
       "    </tr>\n",
       "    <tr>\n",
       "      <th>20</th>\n",
       "      <td>WSH</td>\n",
       "      <td>0.041213</td>\n",
       "    </tr>\n",
       "    <tr>\n",
       "      <th>21</th>\n",
       "      <td>WD_bin</td>\n",
       "      <td>0.000676</td>\n",
       "    </tr>\n",
       "    <tr>\n",
       "      <th>22</th>\n",
       "      <td>tod</td>\n",
       "      <td>0.053374</td>\n",
       "    </tr>\n",
       "    <tr>\n",
       "      <th>23</th>\n",
       "      <td>WVeer</td>\n",
       "      <td>0.032272</td>\n",
       "    </tr>\n",
       "  </tbody>\n",
       "</table>\n",
       "</div>"
      ],
      "text/plain": [
       "   variables  SHAP_abs\n",
       "0         T2  0.015230\n",
       "1        RH2  0.041744\n",
       "2         T1  0.013239\n",
       "3        RH1  0.035177\n",
       "4        PR1  0.017255\n",
       "5        AD1  0.013743\n",
       "6        PR2  0.016918\n",
       "7        AD2  0.013227\n",
       "8       Rain  0.000054\n",
       "9        WS1  1.184667\n",
       "10       WS3  0.165128\n",
       "11       WS4  0.118958\n",
       "12       WD1  0.047153\n",
       "13       WD3  0.033010\n",
       "14       WD4  0.027737\n",
       "15     WSHor  0.716488\n",
       "16     WDHor  0.036762\n",
       "17     WSVer  0.034377\n",
       "18     WDVer  0.101127\n",
       "19        TI  0.131392\n",
       "20       WSH  0.041213\n",
       "21    WD_bin  0.000676\n",
       "22       tod  0.053374\n",
       "23     WVeer  0.032272"
      ]
     },
     "execution_count": 86,
     "metadata": {},
     "output_type": "execute_result"
    }
   ],
   "source": [
    "shap_values"
   ]
  },
  {
   "cell_type": "code",
   "execution_count": null,
   "id": "a410fa0b",
   "metadata": {},
   "outputs": [],
   "source": []
  }
 ],
 "metadata": {
  "kernelspec": {
   "display_name": "Python 3 (ipykernel)",
   "language": "python",
   "name": "python3"
  },
  "language_info": {
   "codemirror_mode": {
    "name": "ipython",
    "version": 3
   },
   "file_extension": ".py",
   "mimetype": "text/x-python",
   "name": "python",
   "nbconvert_exporter": "python",
   "pygments_lexer": "ipython3",
   "version": "3.9.7"
  },
  "notify_time": "30",
  "toc": {
   "base_numbering": 1,
   "nav_menu": {},
   "number_sections": true,
   "sideBar": true,
   "skip_h1_title": false,
   "title_cell": "Table of Contents",
   "title_sidebar": "Contents",
   "toc_cell": false,
   "toc_position": {
    "height": "calc(100% - 180px)",
    "left": "10px",
    "top": "150px",
    "width": "271.181px"
   },
   "toc_section_display": true,
   "toc_window_display": true
  },
  "varInspector": {
   "cols": {
    "lenName": 16,
    "lenType": 16,
    "lenVar": 40
   },
   "kernels_config": {
    "python": {
     "delete_cmd_postfix": "",
     "delete_cmd_prefix": "del ",
     "library": "var_list.py",
     "varRefreshCmd": "print(var_dic_list())"
    },
    "r": {
     "delete_cmd_postfix": ") ",
     "delete_cmd_prefix": "rm(",
     "library": "var_list.r",
     "varRefreshCmd": "cat(var_dic_list()) "
    }
   },
   "position": {
    "height": "255px",
    "left": "1213.99px",
    "right": "20px",
    "top": "-3.98611px",
    "width": "350px"
   },
   "types_to_exclude": [
    "module",
    "function",
    "builtin_function_or_method",
    "instance",
    "_Feature"
   ],
   "window_display": true
  }
 },
 "nbformat": 4,
 "nbformat_minor": 5
}
