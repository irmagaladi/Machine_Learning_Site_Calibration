{
 "cells": [
  {
   "cell_type": "markdown",
   "id": "39ad1a2a",
   "metadata": {},
   "source": [
    "# Packages"
   ]
  },
  {
   "cell_type": "code",
   "execution_count": 1,
   "id": "3ff62b0e",
   "metadata": {},
   "outputs": [],
   "source": [
    "#basic packages\n",
    "import time\n",
    "import numpy as np\n",
    "import pandas as pd\n",
    "import seaborn as sns\n",
    "import matplotlib.pyplot as plt\n",
    "import os\n",
    "\n",
    "#data pre-processing packages\n",
    "from datetime import datetime\n",
    "\n",
    "\n",
    "#results and analysis packages\n",
    "from sklearn.metrics import mean_absolute_percentage_error as mape\n",
    "from sklearn.metrics import mean_absolute_error as mae\n",
    "from sklearn.metrics import mean_squared_error, r2_score"
   ]
  },
  {
   "cell_type": "code",
   "execution_count": 2,
   "id": "f78cf529",
   "metadata": {},
   "outputs": [],
   "source": [
    "# data modelling & results\n",
    "from yellowbrick.regressor import PredictionError, ResidualsPlot\n",
    "from sklearn.model_selection import train_test_split\n",
    "import math as math\n",
    "\n",
    "#NN\n",
    "import xgboost as xgb\n",
    "\n",
    "from tensorflow import keras\n",
    "from keras.utils.vis_utils import plot_model\n",
    "from scipy.stats import reciprocal\n",
    "from sklearn.model_selection import RandomizedSearchCV, GridSearchCV\n",
    "\n",
    "#feature importance\n",
    "import shap\n"
   ]
  },
  {
   "cell_type": "markdown",
   "id": "5304bd4d",
   "metadata": {},
   "source": [
    "# Script"
   ]
  },
  {
   "cell_type": "markdown",
   "id": "93dd727e",
   "metadata": {},
   "source": [
    "## Error computation"
   ]
  },
  {
   "cell_type": "code",
   "execution_count": 3,
   "id": "7a4247b4",
   "metadata": {},
   "outputs": [],
   "source": [
    "#defining the Root Mean Squared Error\n",
    "\n",
    "def rmse(y_true, y_predicted):\n",
    "    \n",
    "    return np.sqrt(mean_squared_error(y_true, y_predicted))"
   ]
  },
  {
   "cell_type": "code",
   "execution_count": 4,
   "id": "910f4f61",
   "metadata": {},
   "outputs": [],
   "source": [
    "#errors computation\n",
    "\n",
    "def errors_computation(data):\n",
    "    \n",
    "    df=pd.DataFrame()\n",
    "    #df.at['RMSE (as root mean)', 'Wind']= round(rmse(data['Target'], data['WS_pred']), 3)\n",
    "    df.at['MAE (in avg)', 'Wind']= round(mae(data['Target'], data['WS_pred']), 3)\n",
    "    df.at['MAPE (%)', 'Wind']= round(mape(data['Target'], data['WS_pred'])*100, 3)\n",
    "    \n",
    "    #df.at['RMSE (as root mean)', 'Power']= round(rmse(data['P'], data['P_pred']), 3)\n",
    "    df.at['MAE (in avg)', 'Power']= round(mae(data['P'], data['P_pred']), 3)\n",
    "    df.at['MAPE (%)', 'Power']= round(mape(data['P'], data['P_pred'])*100, 3)\n",
    "    \n",
    "    \n",
    "    print('Wind RMSE: ', round(rmse(data['Target'], data['WS_pred']), 3), 'm/s as root mean')\n",
    "    print('Wind MAE: ', round(mae(data['Target'], data['WS_pred']), 3), 'm/s in avg')\n",
    "    print('Wind MAPE: ', round(mape(data['Target'], data['WS_pred'])*100, 3), '%')\n",
    "    \n",
    "    print('Power RMSE: ', round(rmse(data['P'], data['P_pred']), 3), 'kW as root mean')\n",
    "    print('Power MAE: ', round(mae(data['P'], data['P_pred']), 3), 'kW in avg')\n",
    "    print('Power MAPE: ', round(mape(data['P'], data['P_pred'])*100, 3), '%')\n",
    "    \n",
    "    return df"
   ]
  },
  {
   "cell_type": "code",
   "execution_count": 5,
   "id": "7f9f017b",
   "metadata": {},
   "outputs": [],
   "source": [
    "def error_plot(data, title):\n",
    "    \n",
    "    #title is expected to be an str\n",
    "    #WS_pred and Target should be the variables names\n",
    "\n",
    "    #plotting the reference\n",
    "    plt.figure(figsize=(12,8))\n",
    "    plt.plot([-1,17.5],[-1,17.5], 'green', linewidth=4, alpha=.12)\n",
    "    plt.plot(data['WS_pred'], data['Target'], marker='o', ls='', label='Regression', markersize=5, alpha=.1)\n",
    "\n",
    "\n",
    "    plt.legend()\n",
    "\n",
    "    ax=plt.gca()\n",
    "    ax.set(xlabel='y predicted', ylabel='y actual');\n",
    "    ax.set_title(title)\n",
    "    ax.set_ylim(ymin=4, ymax=17.5)\n",
    "    ax.set_xlim(xmin=4, xmax=17.5)\n",
    "    \n",
    "    return print('')"
   ]
  },
  {
   "cell_type": "code",
   "execution_count": 6,
   "id": "58bd13df",
   "metadata": {},
   "outputs": [],
   "source": [
    "def powercurve_computation(data, power_curve):\n",
    "    \n",
    "    from scipy import interpolate\n",
    "    \n",
    "    #this function computes the power at a observation given the information at a observation:\n",
    "    # the WS (in m/s) at the wind turbine location and at the hub height (Target)\n",
    "    # the power curve of the wind turbine in an xslx\n",
    "    \n",
    "    \n",
    "    x=power_curve['Wind Speed [m/s]']\n",
    "    y=power_curve['Warranted Power Curve [kW]']\n",
    "    x_new=data['Target']\n",
    "    \n",
    "    f = interpolate.interp1d(x, y)\n",
    "    #, kind='linear'\n",
    "    data['P']=f(x_new)\n",
    "    \n",
    "    if 'WS_pred' in data.keys():\n",
    "        x_new2=data['WS_pred']\n",
    "        data['P_pred']=f(x_new2)\n",
    "    \n",
    "    print('power curve computation performed')\n",
    "    \n",
    "    return data"
   ]
  },
  {
   "cell_type": "code",
   "execution_count": 7,
   "id": "84c09062",
   "metadata": {},
   "outputs": [],
   "source": [
    "def control_power_computation (data_test, data_train, power_curve):\n",
    "    \n",
    "    results_test=pd.DataFrame()\n",
    "    results_train=pd.DataFrame()\n",
    "    \n",
    "    \n",
    "    results_test=powercurve_computation(data_test, power_curve)\n",
    "    results_train=powercurve_computation(data_train, power_curve)\n",
    "\n",
    "    return results_test, results_train"
   ]
  },
  {
   "cell_type": "code",
   "execution_count": 8,
   "id": "b3896d50",
   "metadata": {},
   "outputs": [],
   "source": [
    "def compute_results(data_test, data_train, power_curve, plot_error):\n",
    "    \n",
    "    #this function computes and plots the results of a modelling:\n",
    "\n",
    "    results_test, results_train=control_power_computation (data_test, data_train, power_curve)\n",
    "    \n",
    "    \n",
    "    print('Modelling errors for training set:')\n",
    "    errors_computation(results_train)\n",
    "    print('')\n",
    "    print('Modelling errors for test set:')\n",
    "    errors_computation(results_test)\n",
    "    print('')\n",
    "    \n",
    "    if plot_error:\n",
    "        print('')\n",
    "        error_plot(results_test, 'Error plot for test set wind speed')\n",
    "\n",
    "    print('')\n",
    "    return print('Showing the results of the modelling: ')"
   ]
  },
  {
   "cell_type": "code",
   "execution_count": 9,
   "id": "425f25d5",
   "metadata": {},
   "outputs": [],
   "source": [
    "def compute_results1(data_test, data_train, power_curve, plot_error):\n",
    "    \n",
    "    #this function computes and plots the results of a modelling:\n",
    "\n",
    "    results_test, results_train=control_power_computation (data_test, data_train, power_curve)\n",
    "    \n",
    "    \n",
    "    print('Modelling errors for training set:')\n",
    "    errors_computation(results_train)\n",
    "    print('')\n",
    "    print('Modelling errors for test set:')\n",
    "    errors_computation(results_test)\n",
    "    print('')\n",
    "    print('Modelling errors in AEP terms for test set')\n",
    "    data=AEP_computation(results_test, power_curve)\n",
    "    \n",
    "    if plot_error:\n",
    "        print('')\n",
    "        error_plot(results_test, 'Error plot for test set wind speed')\n",
    "\n",
    "    print('')\n",
    "    print('Showing the results of the modelling: ')\n",
    "    return data"
   ]
  },
  {
   "cell_type": "code",
   "execution_count": 10,
   "id": "1e402b2b",
   "metadata": {},
   "outputs": [],
   "source": [
    "def AEP_computation(data, power_curve):\n",
    "    \n",
    "    #binning the WS_Pred\n",
    "    data['WS_pred_bin']=pd.cut(data['WS_pred'],\n",
    "                                       bins=list(np.arange(-0.25,28.0,0.5)),\n",
    "                                                 labels=list(np.arange(0.0,28.0,0.5)))\n",
    "\n",
    "        \n",
    "    #creating the AEP (Annual Energy Production table)\n",
    "        \n",
    "    AEP_table=pd.DataFrame()\n",
    "    \n",
    "    AEP_table['WS']=PC['Wind Speed [m/s]']\n",
    "    AEP_table['WPC']=PC['Warranted Power Curve [kW]']\n",
    "    AEP_table.set_index('WS', inplace=True)\n",
    "    AEP_table['MPC_SC']=data.groupby('WS_pred_bin', as_index=True)['P'].mean()\n",
    "\n",
    "    #puedo rellenar los NaN de MPC_SC copiando lo que tendría que ser: WPC\n",
    "    \n",
    "#     for i in AEP_table.index:\n",
    "#         if math.isnan(AEP_table.at[i, 'MPC_SC']):\n",
    "#             AEP_table.at[i, 'MPC_SC']=AEP_table.at[i, 'WPC']\n",
    "    \n",
    "    AEP_table['WSAD']=power_curve['Wind Speed Distribution [Hr/Year]']\n",
    "    \n",
    "    #o igual aquí tendría que cortar la tabla para NaN values\n",
    "    \n",
    "#     AEP_table=AEP_table.dropna()\n",
    "    \n",
    "    AEP_table['WAEP']=AEP_table['WPC']*AEP_table['WSAD']\n",
    "    AEP_table['MAEP_SC']=AEP_table['MPC_SC']*AEP_table['WSAD']\n",
    "    \n",
    "    #computing the metrics for later printing\n",
    "    \n",
    "    MAEP_SC=AEP_table['MAEP_SC'].sum()\n",
    "    WAEP=AEP_table['WAEP'].sum()\n",
    "    AEP_perc=(MAEP_SC/WAEP)*100\n",
    "    AEP_diff=(MAEP_SC-WAEP)/1000\n",
    "    \n",
    "    #printing the results\n",
    "\n",
    "    print('')\n",
    "    print('The computed AEP_table is: ')\n",
    "    AEP_table(AEP_table)\n",
    "    print('')\n",
    "    print('The AEP% of the Site Calibration is: ', round(AEP_perc, 3), '%')\n",
    "    print('')\n",
    "    print('The AEP difference of the Site Calibration is: ', round(AEP_diff, 3), 'MWh')\n",
    "    print('')\n",
    "    AEP_plot(data, AEP_table)                                \n",
    "    \n",
    "    \n",
    "    return data"
   ]
  },
  {
   "cell_type": "code",
   "execution_count": 11,
   "id": "9d2a1da9",
   "metadata": {},
   "outputs": [],
   "source": [
    "def AEP_plot(data, AEP_table):\n",
    "    \n",
    "    #data is expected to contain: Target, WS_pred, P, P_pred\n",
    "    #AEP_table is expected to contain: WS, WPC, MPC-SC\n",
    "\n",
    "    #plotting the Power curves\n",
    "    plt.figure(figsize=(10,6))\n",
    "    plt.plot(data['WS_pred'], data['P'], marker='o', ls='', label='measured scatter', markersize=5, alpha=.1)\n",
    "    plt.plot(AEP_table.index, AEP_table['WPC'], marker='o', color='black', linewidth=0.5, label='WPC', markersize=5)\n",
    "    plt.plot(AEP_table.index, AEP_table['MPC_SC'], marker='o', color='red', linewidth=0.5, label='MPC-SC', markersize=5)\n",
    "\n",
    "\n",
    "    plt.legend()\n",
    "\n",
    "    ax=plt.gca()\n",
    "    ax.set(ylabel='Power interpolated with WPC and Target WS (kW)', xlabel='Predicted Wind Speed (m/s)');\n",
    "    ax.set_title('Site Calibration Power Curve')\n",
    "    ax.set_xlim(xmin=0, xmax=20)\n",
    "#     ax.set_xlim(xmin=0, xmax=27.5)\n",
    "    \n",
    "    return print('Error plot performed')"
   ]
  },
  {
   "cell_type": "code",
   "execution_count": 12,
   "id": "8dfd0676",
   "metadata": {},
   "outputs": [],
   "source": [
    "def AEP_table(AEP_table):\n",
    "    \n",
    "    #AEP_table is expected to contain: WPC, MPC_SC, WPC, WSAD, WAEP, MAEP\n",
    "    \n",
    "    WS= AEP_table.index\n",
    "    WPC=AEP_table['WPC']\n",
    "    MPC_SC=round(AEP_table['MPC_SC'],0)\n",
    "    WSAD=AEP_table['WASD']\n",
    "    WAEP=round(AEP_table['WAEP']/1000000, 3)\n",
    "    MAEP=round(AEP_table['MAEP']/1000000, 3)\n",
    "    \n",
    "\n",
    "    row_headers=None\n",
    "    column_headers=('Wind speed bin (m/s)', 'WPC (kW)', 'MPC_SC (kW)',\n",
    "                    'Annual Wind Distribution (h/year)', 'WAEP (GWh)', 'MAEP (GWh)')\n",
    "\n",
    "    rcolors = plt.cm.BuPu(np.full(len(row_headers), 0.1))\n",
    "    ccolors = plt.cm.BuPu(np.full(len(column_headers), 0.1))\n",
    "\n",
    "    l_2d=[list(WS), list(WPC), list(MPC), list(WSAD), list(WAEP), list(MAEP)]\n",
    "\n",
    "    cell_text=np.array(l_2d).T\n",
    "\n",
    "    fig, ax = plt.subplots(figsize=(12,5)) \n",
    "    ax.set_axis_off()\n",
    "\n",
    "    the_table=ax.table(cellText=cell_text,\n",
    "                      rowLabels=row_headers,\n",
    "                      rowColours=rcolors,\n",
    "                      rowLoc='right',\n",
    "                      colColours=ccolors,\n",
    "                      colLabels=column_headers,\n",
    "                      cellLoc ='center',\n",
    "                      loc='upper center',\n",
    "                      colWidths = [0.1] * 5)\n",
    "\n",
    "    ax.set_title('Annual Energy Production for Site Calibration PC', \n",
    "                 fontweight =\"bold\", fontsize=14) \n",
    "\n",
    "    the_table.auto_set_font_size(False)\n",
    "    the_table.set_fontsize(14)\n",
    "    the_table.scale(2, 2)\n",
    "    \n",
    "    return ('AEP table printed')"
   ]
  },
  {
   "cell_type": "markdown",
   "id": "71970e76",
   "metadata": {},
   "source": [
    "## Data uploading"
   ]
  },
  {
   "cell_type": "code",
   "execution_count": 13,
   "id": "3bcfb73c",
   "metadata": {},
   "outputs": [],
   "source": [
    "def uploading_csv(file_folder,file_name):\n",
    "    \n",
    "    #file folder required\n",
    "    #file name required\n",
    "    #file is expected to be in the data root: r'C:\\Users\\irgaa\\Irma\\Data'\n",
    "    #this function uploads and formats csv/txt/xlsx datasets into DataFrame\n",
    "    \n",
    "    \n",
    "    data_root=r'C:\\Users\\irgaa\\Irma\\Data'\n",
    "    data_folder=str(file_folder)\n",
    "    data_file=str(file_name)\n",
    "    \n",
    "    data_path=data_root+data_folder+data_file\n",
    "    \n",
    "    data1 = pd.read_csv(data_path)\n",
    "\n",
    "    \n",
    "    # We will save the WD_bin as the index\n",
    "    \n",
    "    return data1"
   ]
  },
  {
   "cell_type": "code",
   "execution_count": 14,
   "id": "6c5e33be",
   "metadata": {},
   "outputs": [],
   "source": [
    "#this function saves a data csv\n",
    "\n",
    "def save (data, file_folder,file_name):\n",
    "    \n",
    "    #file folder required\n",
    "    #file name required\n",
    "    #file is expected to be saved in the data root: r'C:\\Users\\irgaa\\Irma\\Data'\n",
    "    #this function saves a csv/txt/xlsx into Irma's folder\n",
    "    #the saved file will keep the columns names but not the index\n",
    "    \n",
    "    data_root=r'C:\\Users\\irgaa\\Irma\\Data'\n",
    "    data_folder=str(file_folder)\n",
    "    data_file=str(file_name)\n",
    "    \n",
    "    data_path=data_root+data_folder+data_file\n",
    "    \n",
    "    data.to_csv (data_path, index = False, header=True)\n",
    "    \n",
    "    \n",
    "    return print('file', data_file, 'saved in', data_folder, 'folder')"
   ]
  },
  {
   "cell_type": "markdown",
   "id": "ffaedaca",
   "metadata": {},
   "source": [
    "## Data selection"
   ]
  },
  {
   "cell_type": "code",
   "execution_count": 15,
   "id": "358a5d18",
   "metadata": {},
   "outputs": [],
   "source": [
    "def data_selection(X_train, X_test, inputs):\n",
    "    \n",
    "    #this function returns the columns of the training and test sets in the inputs list\n",
    "    \n",
    "    X_train1 = pd.DataFrame()\n",
    "    X_test1 = pd.DataFrame()\n",
    "    \n",
    "    \n",
    "    X_train1 = X_train[inputs]\n",
    "    X_test1 = X_test[inputs]\n",
    "\n",
    "    \n",
    "    return X_train1,X_test1"
   ]
  },
  {
   "cell_type": "code",
   "execution_count": 16,
   "id": "8fd717ae",
   "metadata": {},
   "outputs": [],
   "source": [
    "def data_drop(X_train, X_test, list_2drop):\n",
    "    \n",
    "    #this function returns the columns of the training and test sets in the inputs list\n",
    "\n",
    "    X_train1 = X_train.drop(columns=list_2drop)\n",
    "    X_test1 = X_test.drop(columns=list_2drop)\n",
    "\n",
    "    \n",
    "    \n",
    "    return X_train1,X_test1"
   ]
  },
  {
   "cell_type": "markdown",
   "id": "255c2b31",
   "metadata": {},
   "source": [
    "## Modelling"
   ]
  },
  {
   "cell_type": "markdown",
   "id": "c983f849",
   "metadata": {},
   "source": [
    "### Modelling XGBoost"
   ]
  },
  {
   "cell_type": "code",
   "execution_count": 17,
   "id": "c827782a",
   "metadata": {},
   "outputs": [],
   "source": [
    "def modelling_XGBoost (X, X_test, y, y_test, power_curve,  parameters, plot_error, plot):\n",
    "    \n",
    "    #creating the model\n",
    "    max_depth=parameters['max_depth']\n",
    "    n_estimators=parameters['n_estimators']\n",
    "    learning_rate=parameters['learning_rate']\n",
    "    subsample=parameters['subsample']\n",
    "    colsample_bytree=parameters['colsample_bytree']\n",
    "    min_child_weight=parameters['min_child_weight']\n",
    "    gamma=parameters['gamma']\n",
    "    reg_lambda=parameters['reg_lambda']\n",
    "    \n",
    " \n",
    "    model = xgb.XGBRegressor(max_depth=max_depth, n_estimators=n_estimators, random_state=42,\n",
    "                               objective='reg:squarederror', booster='gbtree', learning_rate=learning_rate,\n",
    "                               subsample=subsample, colsample_bytree=colsample_bytree,\n",
    "                             min_child_weight=min_child_weight, reg_lambda=reg_lambda)\n",
    "                               \n",
    "    #model fitting\n",
    "    model.fit(X_train, y_train)\n",
    "        \n",
    "    \n",
    "    #model predicting\n",
    "    y_pred_test=model.predict(X_test)\n",
    "    y_pred_train=model.predict(X_train)\n",
    "    \n",
    "    test=pd.DataFrame(y_pred_test, columns = ['test'])\n",
    "    train=pd.DataFrame(y_pred_train, columns = ['train'])\n",
    "    \n",
    "    \n",
    "\n",
    "    #computing the results\n",
    "    data_test = pd.DataFrame()\n",
    "    data_train = pd.DataFrame()\n",
    "    \n",
    "    data_test['WS_pred']=test['test']\n",
    "    data_test['Target']=y_test['Target']\n",
    "    data_train['WS_pred']=train['train']\n",
    "    data_train['Target']=y['Target']\n",
    "    \n",
    "    \n",
    "    data=compute_results(data_test, data_train, power_curve, plot_error)\n",
    "    print('XGBoost modelling performed')\n",
    "    \n",
    "    return model"
   ]
  },
  {
   "cell_type": "markdown",
   "id": "ff27c77a",
   "metadata": {},
   "source": [
    "### Grid Search XGBoost"
   ]
  },
  {
   "cell_type": "code",
   "execution_count": 18,
   "id": "aab34987",
   "metadata": {},
   "outputs": [],
   "source": [
    "def GridSearch_XGBoost (X, X_test, y, y_test, power_curve, parameters, param_grid, plot_error):\n",
    "    \n",
    "    \n",
    "    #counting the runing time\n",
    "    start_time = time.time()\n",
    "    \n",
    "    #creating the model\n",
    "    max_depth=parameters['max_depth']\n",
    "    n_estimators=parameters['n_estimators']\n",
    "    learning_rate=parameters['learning_rate']\n",
    "    subsample=parameters['subsample']\n",
    "    colsample_bytree=parameters['colsample_bytree']\n",
    "    min_child_weight=parameters['min_child_weight']\n",
    "    gamma=parameters['gamma']\n",
    "    reg_lambda=parameters['reg_lambda']\n",
    "    \n",
    "    #creating the model\n",
    "    xgbr = xgb.XGBRegressor(max_depth=max_depth, n_estimators=n_estimators, random_state=42,\n",
    "                           objective='reg:squarederror', booster='gbtree', learning_rate=learning_rate,\n",
    "                           subsample=subsample, colsample_bytree=colsample_bytree,\n",
    "                         min_child_weight=min_child_weight, gamma=gamma, reg_lambda=reg_lambda)\n",
    "    \n",
    "    \n",
    "    \n",
    "    #Grid Search CV\n",
    "    clf = GridSearchCV(estimator=xgbr, \n",
    "                             param_grid=param_grid,\n",
    "                             cv=4,\n",
    "                             scoring='neg_mean_squared_error',\n",
    "                             verbose=1) \n",
    "    \n",
    "        \n",
    "    #model fitting\n",
    "    clf.fit(X_train, y_train)\n",
    "    \n",
    "    \n",
    "    #model predicting\n",
    "    \n",
    "    y_pred_test=clf.predict(X_test)\n",
    "    y_pred_train=clf.predict(X_train)\n",
    "    \n",
    "    test=pd.DataFrame(y_pred_test, columns = ['test'])\n",
    "    train=pd.DataFrame(y_pred_train, columns = ['train'])\n",
    "    \n",
    "    print('')\n",
    "    print('Best parameters :')\n",
    "    print(clf.best_params_)\n",
    "    print('')\n",
    "\n",
    "    #computing the results\n",
    "    data_test = pd.DataFrame()\n",
    "    data_train = pd.DataFrame()\n",
    "    \n",
    "    data_test['WS_pred']=test['test']\n",
    "    data_test['Target']=y_test['Target']\n",
    "    data_train['WS_pred']=train['train']\n",
    "    data_train['Target']=y['Target']\n",
    "    \n",
    "    compute_results(data_test, data_train, power_curve, plot_error)\n",
    "    print('GridSearch_ XGBoost performed')\n",
    "    print(\"--- %s minutes ---\" % ((time.time() - start_time)/60))\n",
    "    print('')\n",
    "    print('Lowest RMSE: ', (-clf.best_score_)**(1/2.0))\n",
    "    \n",
    "    \n",
    "    \n",
    "    return clf"
   ]
  },
  {
   "cell_type": "markdown",
   "id": "19c283c5",
   "metadata": {},
   "source": [
    "### Random Search XGBoost"
   ]
  },
  {
   "cell_type": "code",
   "execution_count": 19,
   "id": "2c6cd04a",
   "metadata": {},
   "outputs": [],
   "source": [
    "def RandomSearch_XGBoost(X, X_test, y, y_test, power_curve, param_distribs, plot_error):\n",
    "    \n",
    "    #counting the runing time\n",
    "    start_time = time.time()\n",
    "    \n",
    "    \n",
    "    #creating the model\n",
    "    xgbr = xgb.XGBRegressor(random_state=42)\n",
    "    \n",
    "    #Random Search CV\n",
    "    clf = RandomizedSearchCV(estimator=xgbr, \n",
    "                             param_distributions=param_distribs,\n",
    "                             cv=4,\n",
    "                             scoring='neg_mean_squared_error',\n",
    "                             n_iter=25,\n",
    "                             verbose=1) \n",
    "    \n",
    "    \n",
    "    #model fitting\n",
    "    clf.fit(X_train, y_train)\n",
    "    \n",
    "    \n",
    "    #model predicting\n",
    "    \n",
    "    y_pred_test=clf.predict(X_test)\n",
    "    y_pred_train=clf.predict(X_train)\n",
    "    \n",
    "    test=pd.DataFrame(y_pred_test, columns = ['test'])\n",
    "    train=pd.DataFrame(y_pred_train, columns = ['train'])\n",
    "    \n",
    "    print('')\n",
    "    print('Best parameters :')\n",
    "    print(clf.best_params_)\n",
    "    print('')\n",
    "\n",
    "    #computing the results\n",
    "    data_test = pd.DataFrame()\n",
    "    data_train = pd.DataFrame()\n",
    "    \n",
    "    data_test['WS_pred']=test['test']\n",
    "    data_test['Target']=y_test['Target']\n",
    "    data_train['WS_pred']=train['train']\n",
    "    data_train['Target']=y['Target']\n",
    "    \n",
    "    compute_results(data_test, data_train, power_curve, plot_error)\n",
    "    print('RandomSearch_ XGBoost performed')\n",
    "    print(\"--- %s minutes ---\" % ((time.time() - start_time)/60))\n",
    "    print('')\n",
    "    print('Lowest RMSE: ', (-clf.best_score_)**(1/2.0))\n",
    "    \n",
    "    return clf\n",
    "    "
   ]
  },
  {
   "cell_type": "markdown",
   "id": "54004cbb",
   "metadata": {},
   "source": [
    "### Model Testing"
   ]
  },
  {
   "cell_type": "code",
   "execution_count": 20,
   "id": "0bfe8458",
   "metadata": {},
   "outputs": [],
   "source": [
    "def model_testing (X_train, X_test, y_train, y_test, power_curve, model, plot_error):\n",
    "\n",
    "    \n",
    "\n",
    "    y_pred_test=model.predict(X_test)\n",
    "    y_pred_train=model.predict(X_train)\n",
    "    \n",
    "    test=pd.DataFrame(y_pred_test, columns = ['test'])\n",
    "    train=pd.DataFrame(y_pred_train, columns = ['train'])\n",
    "\n",
    "\n",
    "    data_test = pd.DataFrame()\n",
    "    data_train = pd.DataFrame()\n",
    "    \n",
    "    data_test['WS_pred']=test['test']\n",
    "    data_test['Target']=y_test['Target']\n",
    "    data_train['WS_pred']=train['train']\n",
    "    data_train['Target']=y_train['Target']\n",
    "        \n",
    "    \n",
    "    compute_results(data_test, data_train, power_curve, plot_error)\n",
    "    \n",
    "    WS_pred=data_test['WS_pred']\n",
    "    print('XGBoost results performed')\n",
    "    \n",
    "    return WS_pred"
   ]
  },
  {
   "cell_type": "markdown",
   "id": "6724a96a",
   "metadata": {},
   "source": [
    "### Feature importance"
   ]
  },
  {
   "cell_type": "code",
   "execution_count": 21,
   "id": "51189ccd",
   "metadata": {},
   "outputs": [],
   "source": [
    "def feature_importance (X_train, X_test, model):\n",
    "    \n",
    "    X_t, X_f, y_t, y_f = train_test_split(X_train,y_train, test_size=0.02, random_state=12)\n",
    "    \n",
    "    background = X_f.copy()\n",
    "    \n",
    "    explainer = shap.TreeExplainer(model)\n",
    "    shap_values = explainer.shap_values(X_test)\n",
    "    shap_obj=explainer(X_test)\n",
    "    shap.summary_plot(shap_values, X_train, plot_type=\"bar\")\n",
    "    shap.plots.beeswarm(shap_obj)\n",
    "    \n",
    "    \n",
    "    shap_v=pd.DataFrame(shap_values)\n",
    "    feature_list=X_test.columns\n",
    "    shap_v.columns=feature_list\n",
    "    shap_v=shap_v.abs()\n",
    "    k=pd.DataFrame(shap_v.mean()).reset_index()\n",
    "    k.columns=['variables','SHAP_abs']\n",
    "    k.sort_values(by='variables')\n",
    "    \n",
    "    \n",
    "    \n",
    "    print('Feature importance through SHAP values performed')\n",
    "    \n",
    "    return k"
   ]
  },
  {
   "cell_type": "markdown",
   "id": "880d0819",
   "metadata": {},
   "source": [
    "# Data analysis"
   ]
  },
  {
   "cell_type": "markdown",
   "id": "ff0fec4a",
   "metadata": {},
   "source": [
    "## Dataset3- WTG18"
   ]
  },
  {
   "cell_type": "code",
   "execution_count": 22,
   "id": "c3f2c12c",
   "metadata": {
    "scrolled": true
   },
   "outputs": [
    {
     "data": {
      "text/plain": [
       "Index(['WS1', 'WS3', 'WS4', 'WSHor', 'WDHor', 'WSVer', 'WDVer', 'T1', 'RH1',\n",
       "       'T2', 'RH2', 'PR1', 'AD1', 'PR2', 'AD2', 'Rain', 'WD1', 'WD3', 'WD4',\n",
       "       'TI', 'WSH', 'WD_bin', 'tod', 'WVeer'],\n",
       "      dtype='object')"
      ]
     },
     "execution_count": 22,
     "metadata": {},
     "output_type": "execute_result"
    }
   ],
   "source": [
    "#upload the dataset with file_folder, file_name\n",
    "X_train= uploading_csv('\\Dataset3-New_Site','\\X_train18.csv')\n",
    "X_test= uploading_csv('\\Dataset3-New_Site','\\X_test18.csv')\n",
    "y_train= uploading_csv('\\Dataset3-New_Site','\\y_train18.csv')\n",
    "y_test= uploading_csv('\\Dataset3-New_Site','\\y_test18.csv')\n",
    "\n",
    "X_test.keys()"
   ]
  },
  {
   "cell_type": "code",
   "execution_count": 23,
   "id": "6d0a26d9",
   "metadata": {},
   "outputs": [
    {
     "data": {
      "text/plain": [
       "Index(['Target'], dtype='object')"
      ]
     },
     "execution_count": 23,
     "metadata": {},
     "output_type": "execute_result"
    }
   ],
   "source": [
    "y_test.keys()"
   ]
  },
  {
   "cell_type": "code",
   "execution_count": 24,
   "id": "db055157",
   "metadata": {},
   "outputs": [],
   "source": [
    "PC= uploading_csv('\\Dataset3-New_Site','\\PC_V150.csv')"
   ]
  },
  {
   "cell_type": "markdown",
   "id": "a2277287",
   "metadata": {},
   "source": [
    "### Grid Search"
   ]
  },
  {
   "cell_type": "code",
   "execution_count": 27,
   "id": "65ef4109",
   "metadata": {},
   "outputs": [],
   "source": [
    "parameters={\n",
    "    'max_depth':5,\n",
    "    'n_estimators': 1000,\n",
    "    'learning_rate':0.1,\n",
    "    'subsample':0.8,\n",
    "    'colsample_bytree':0.8,\n",
    "    'min_child_weight':1,\n",
    "    'gamma':0,\n",
    "    'reg_lambda':1,\n",
    "}"
   ]
  },
  {
   "cell_type": "code",
   "execution_count": 28,
   "id": "a7ad6bbf",
   "metadata": {},
   "outputs": [],
   "source": [
    "param_grid={\n",
    "    'n_estimators': [100, 200, 300, 400, 500, 600, 700, 800, 900, 1000],\n",
    "}"
   ]
  },
  {
   "cell_type": "code",
   "execution_count": 29,
   "id": "224e052b",
   "metadata": {
    "scrolled": true
   },
   "outputs": [
    {
     "name": "stdout",
     "output_type": "stream",
     "text": [
      "Fitting 4 folds for each of 10 candidates, totalling 40 fits\n",
      "\n",
      "Best parameters :\n",
      "{'n_estimators': 900}\n",
      "\n",
      "power curve computation performed\n",
      "power curve computation performed\n",
      "Modelling errors for training set:\n",
      "Wind RMSE:  0.067 m/s as root mean\n",
      "Wind MAE:  0.051 m/s in avg\n",
      "Wind MAPE:  0.693 %\n",
      "Power RMSE:  42.578 kW as root mean\n",
      "Power MAE:  28.332 kW in avg\n",
      "Power MAPE:  1.821 %\n",
      "\n",
      "Modelling errors for test set:\n",
      "Wind RMSE:  0.405 m/s as root mean\n",
      "Wind MAE:  0.295 m/s in avg\n",
      "Wind MAPE:  3.918 %\n",
      "Power RMSE:  237.4 kW as root mean\n",
      "Power MAE:  153.407 kW in avg\n",
      "Power MAPE:  9.92 %\n",
      "\n",
      "\n",
      "Showing the results of the modelling: \n",
      "GridSearch_ XGBoost performed\n",
      "--- 10.148249133427937 minutes ---\n",
      "\n",
      "Lowest RMSE:  0.42452589463134804\n"
     ]
    },
    {
     "data": {
      "text/plain": [
       "GridSearchCV(cv=4,\n",
       "             estimator=XGBRegressor(base_score=None, booster='gbtree',\n",
       "                                    colsample_bylevel=None,\n",
       "                                    colsample_bynode=None, colsample_bytree=0.8,\n",
       "                                    gamma=0, gpu_id=None,\n",
       "                                    importance_type='gain',\n",
       "                                    interaction_constraints=None,\n",
       "                                    learning_rate=0.1, max_delta_step=None,\n",
       "                                    max_depth=5, min_child_weight=1,\n",
       "                                    missing=nan, monotone_constraints=None,\n",
       "                                    n_estimators=1000, n_jobs=None,\n",
       "                                    num_parallel_tree=None, random_state=42,\n",
       "                                    reg_alpha=None, reg_lambda=1,\n",
       "                                    scale_pos_weight=None, subsample=0.8,\n",
       "                                    tree_method=None, validate_parameters=None,\n",
       "                                    verbosity=None),\n",
       "             param_grid={'n_estimators': [100, 200, 300, 400, 500, 600, 700,\n",
       "                                          800, 900, 1000]},\n",
       "             scoring='neg_mean_squared_error', verbose=1)"
      ]
     },
     "execution_count": 29,
     "metadata": {},
     "output_type": "execute_result"
    }
   ],
   "source": [
    " GridSearch_XGBoost (X_train, X_test, y_train, y_test, PC, parameters, param_grid, plot_error=False)"
   ]
  },
  {
   "cell_type": "code",
   "execution_count": 25,
   "id": "39eae40f",
   "metadata": {},
   "outputs": [],
   "source": [
    "parameters={\n",
    "    'max_depth':5,\n",
    "    'n_estimators': 900,\n",
    "    'learning_rate':0.1,\n",
    "    'subsample':0.8,\n",
    "    'colsample_bytree':0.8,\n",
    "    'min_child_weight':1,\n",
    "    'gamma':0,\n",
    "    'reg_lambda':1,\n",
    "}"
   ]
  },
  {
   "cell_type": "code",
   "execution_count": 26,
   "id": "9e8b4fe1",
   "metadata": {},
   "outputs": [],
   "source": [
    "param_grid={\n",
    "    'max_depth': [3, 4, 5, 6, 10, 15, 20],\n",
    "    'min_child_weight': [1, 2, 3, 6, 10]\n",
    "}"
   ]
  },
  {
   "cell_type": "code",
   "execution_count": 27,
   "id": "de8bab35",
   "metadata": {
    "scrolled": true
   },
   "outputs": [
    {
     "name": "stdout",
     "output_type": "stream",
     "text": [
      "Fitting 4 folds for each of 35 candidates, totalling 140 fits\n",
      "\n",
      "Best parameters :\n",
      "{'max_depth': 10, 'min_child_weight': 6}\n",
      "\n",
      "power curve computation performed\n",
      "power curve computation performed\n",
      "Modelling errors for training set:\n",
      "Wind RMSE:  0.001 m/s as root mean\n",
      "Wind MAE:  0.0 m/s in avg\n",
      "Wind MAPE:  0.006 %\n",
      "Power RMSE:  0.425 kW as root mean\n",
      "Power MAE:  0.252 kW in avg\n",
      "Power MAPE:  0.017 %\n",
      "\n",
      "Modelling errors for test set:\n",
      "Wind RMSE:  0.403 m/s as root mean\n",
      "Wind MAE:  0.292 m/s in avg\n",
      "Wind MAPE:  3.875 %\n",
      "Power RMSE:  237.135 kW as root mean\n",
      "Power MAE:  152.369 kW in avg\n",
      "Power MAPE:  9.827 %\n",
      "\n",
      "\n",
      "Showing the results of the modelling: \n",
      "GridSearch_ XGBoost performed\n",
      "--- 64.70093316237131 minutes ---\n",
      "\n",
      "Lowest RMSE:  0.4191679367389936\n"
     ]
    },
    {
     "data": {
      "text/plain": [
       "GridSearchCV(cv=4,\n",
       "             estimator=XGBRegressor(base_score=None, booster='gbtree',\n",
       "                                    colsample_bylevel=None,\n",
       "                                    colsample_bynode=None, colsample_bytree=0.8,\n",
       "                                    gamma=0, gpu_id=None,\n",
       "                                    importance_type='gain',\n",
       "                                    interaction_constraints=None,\n",
       "                                    learning_rate=0.1, max_delta_step=None,\n",
       "                                    max_depth=5, min_child_weight=1,\n",
       "                                    missing=nan, monotone_constraints=None,\n",
       "                                    n_estimators=900, n_jobs=None,\n",
       "                                    num_parallel_tree=None, random_state=42,\n",
       "                                    reg_alpha=None, reg_lambda=1,\n",
       "                                    scale_pos_weight=None, subsample=0.8,\n",
       "                                    tree_method=None, validate_parameters=None,\n",
       "                                    verbosity=None),\n",
       "             param_grid={'max_depth': [3, 4, 5, 6, 10, 15, 20],\n",
       "                         'min_child_weight': [1, 2, 3, 6, 10]},\n",
       "             scoring='neg_mean_squared_error', verbose=1)"
      ]
     },
     "execution_count": 27,
     "metadata": {},
     "output_type": "execute_result"
    }
   ],
   "source": [
    "GridSearch_XGBoost (X_train, X_test, y_train, y_test, PC, parameters, param_grid, plot_error=False)"
   ]
  },
  {
   "cell_type": "code",
   "execution_count": 28,
   "id": "0dbafa9e",
   "metadata": {},
   "outputs": [],
   "source": [
    "parameters={\n",
    "    'max_depth':10,\n",
    "    'n_estimators': 900,\n",
    "    'learning_rate':0.1,\n",
    "    'subsample':0.8,\n",
    "    'colsample_bytree':0.8,\n",
    "    'min_child_weight':6,\n",
    "    'gamma':0,\n",
    "    'reg_lambda':1,\n",
    "}"
   ]
  },
  {
   "cell_type": "code",
   "execution_count": 29,
   "id": "59bd2be3",
   "metadata": {},
   "outputs": [],
   "source": [
    "param_grid={\n",
    "    'gamma': [0, 0.1, 0.2, 0.3, 0.4, 0.5]\n",
    "}"
   ]
  },
  {
   "cell_type": "code",
   "execution_count": 30,
   "id": "0da9c6da",
   "metadata": {
    "scrolled": true
   },
   "outputs": [
    {
     "name": "stdout",
     "output_type": "stream",
     "text": [
      "Fitting 4 folds for each of 6 candidates, totalling 24 fits\n",
      "\n",
      "Best parameters :\n",
      "{'gamma': 0}\n",
      "\n",
      "power curve computation performed\n",
      "power curve computation performed\n",
      "Modelling errors for training set:\n",
      "Wind RMSE:  0.001 m/s as root mean\n",
      "Wind MAE:  0.0 m/s in avg\n",
      "Wind MAPE:  0.006 %\n",
      "Power RMSE:  0.425 kW as root mean\n",
      "Power MAE:  0.252 kW in avg\n",
      "Power MAPE:  0.017 %\n",
      "\n",
      "Modelling errors for test set:\n",
      "Wind RMSE:  0.403 m/s as root mean\n",
      "Wind MAE:  0.292 m/s in avg\n",
      "Wind MAPE:  3.875 %\n",
      "Power RMSE:  237.135 kW as root mean\n",
      "Power MAE:  152.369 kW in avg\n",
      "Power MAPE:  9.827 %\n",
      "\n",
      "\n",
      "Showing the results of the modelling: \n",
      "GridSearch_ XGBoost performed\n",
      "--- 7.788708730538686 minutes ---\n",
      "\n",
      "Lowest RMSE:  0.4191679367389936\n"
     ]
    },
    {
     "data": {
      "text/plain": [
       "GridSearchCV(cv=4,\n",
       "             estimator=XGBRegressor(base_score=None, booster='gbtree',\n",
       "                                    colsample_bylevel=None,\n",
       "                                    colsample_bynode=None, colsample_bytree=0.8,\n",
       "                                    gamma=0, gpu_id=None,\n",
       "                                    importance_type='gain',\n",
       "                                    interaction_constraints=None,\n",
       "                                    learning_rate=0.1, max_delta_step=None,\n",
       "                                    max_depth=10, min_child_weight=6,\n",
       "                                    missing=nan, monotone_constraints=None,\n",
       "                                    n_estimators=900, n_jobs=None,\n",
       "                                    num_parallel_tree=None, random_state=42,\n",
       "                                    reg_alpha=None, reg_lambda=1,\n",
       "                                    scale_pos_weight=None, subsample=0.8,\n",
       "                                    tree_method=None, validate_parameters=None,\n",
       "                                    verbosity=None),\n",
       "             param_grid={'gamma': [0, 0.1, 0.2, 0.3, 0.4, 0.5]},\n",
       "             scoring='neg_mean_squared_error', verbose=1)"
      ]
     },
     "execution_count": 30,
     "metadata": {},
     "output_type": "execute_result"
    }
   ],
   "source": [
    "GridSearch_XGBoost (X_train, X_test, y_train, y_test, PC, parameters, param_grid, plot_error=False)"
   ]
  },
  {
   "cell_type": "code",
   "execution_count": 31,
   "id": "db6eddd5",
   "metadata": {},
   "outputs": [],
   "source": [
    "parameters={\n",
    "    'max_depth':10,\n",
    "    'n_estimators': 900,\n",
    "    'learning_rate':0.1,\n",
    "    'subsample':0.8,\n",
    "    'colsample_bytree':0.8,\n",
    "    'min_child_weight':6,\n",
    "    'gamma':0,\n",
    "    'reg_lambda':1,\n",
    "}"
   ]
  },
  {
   "cell_type": "code",
   "execution_count": 32,
   "id": "cfdbd3b1",
   "metadata": {},
   "outputs": [],
   "source": [
    "param_grid={\n",
    "    'subsample': [0.4, 0.5, 0.6, 0.7, 0.8, 0.9, 1],\n",
    "    'colsample_bytree': [0.4, 0.5, 0.6, 0.7, 0.8, 0.9, 1]\n",
    "}"
   ]
  },
  {
   "cell_type": "code",
   "execution_count": 33,
   "id": "ac924ae6",
   "metadata": {
    "scrolled": true
   },
   "outputs": [
    {
     "name": "stdout",
     "output_type": "stream",
     "text": [
      "Fitting 4 folds for each of 49 candidates, totalling 196 fits\n",
      "\n",
      "Best parameters :\n",
      "{'colsample_bytree': 1, 'subsample': 0.9}\n",
      "\n",
      "power curve computation performed\n",
      "power curve computation performed\n",
      "Modelling errors for training set:\n",
      "Wind RMSE:  0.001 m/s as root mean\n",
      "Wind MAE:  0.001 m/s in avg\n",
      "Wind MAPE:  0.007 %\n",
      "Power RMSE:  0.497 kW as root mean\n",
      "Power MAE:  0.282 kW in avg\n",
      "Power MAPE:  0.019 %\n",
      "\n",
      "Modelling errors for test set:\n",
      "Wind RMSE:  0.405 m/s as root mean\n",
      "Wind MAE:  0.292 m/s in avg\n",
      "Wind MAPE:  3.884 %\n",
      "Power RMSE:  238.89 kW as root mean\n",
      "Power MAE:  152.816 kW in avg\n",
      "Power MAPE:  9.901 %\n",
      "\n",
      "\n",
      "Showing the results of the modelling: \n",
      "GridSearch_ XGBoost performed\n",
      "--- 52.93763965368271 minutes ---\n",
      "\n",
      "Lowest RMSE:  0.4178549554959848\n"
     ]
    },
    {
     "data": {
      "text/plain": [
       "GridSearchCV(cv=4,\n",
       "             estimator=XGBRegressor(base_score=None, booster='gbtree',\n",
       "                                    colsample_bylevel=None,\n",
       "                                    colsample_bynode=None, colsample_bytree=0.8,\n",
       "                                    gamma=0, gpu_id=None,\n",
       "                                    importance_type='gain',\n",
       "                                    interaction_constraints=None,\n",
       "                                    learning_rate=0.1, max_delta_step=None,\n",
       "                                    max_depth=10, min_child_weight=6,\n",
       "                                    missing=nan, monotone_constraints=None,\n",
       "                                    n_estimators=900, n_jobs=None,\n",
       "                                    num_parallel_tree=None, random_state=42,\n",
       "                                    reg_alpha=None, reg_lambda=1,\n",
       "                                    scale_pos_weight=None, subsample=0.8,\n",
       "                                    tree_method=None, validate_parameters=None,\n",
       "                                    verbosity=None),\n",
       "             param_grid={'colsample_bytree': [0.4, 0.5, 0.6, 0.7, 0.8, 0.9, 1],\n",
       "                         'subsample': [0.4, 0.5, 0.6, 0.7, 0.8, 0.9, 1]},\n",
       "             scoring='neg_mean_squared_error', verbose=1)"
      ]
     },
     "execution_count": 33,
     "metadata": {},
     "output_type": "execute_result"
    }
   ],
   "source": [
    "GridSearch_XGBoost (X_train, X_test, y_train, y_test, PC, parameters, param_grid, plot_error=False)"
   ]
  },
  {
   "cell_type": "code",
   "execution_count": 34,
   "id": "bac4cb56",
   "metadata": {},
   "outputs": [],
   "source": [
    "parameters={\n",
    "    'max_depth':10,\n",
    "    'n_estimators': 900,\n",
    "    'learning_rate':0.1,\n",
    "    'subsample':0.9,\n",
    "    'colsample_bytree':1,\n",
    "    'min_child_weight':6,\n",
    "    'gamma':0,\n",
    "    'reg_lambda':1,\n",
    "}"
   ]
  },
  {
   "cell_type": "code",
   "execution_count": 35,
   "id": "d9aeddcf",
   "metadata": {},
   "outputs": [],
   "source": [
    "param_grid={\n",
    "    'reg_lambda': [1, 10, 50, 100, 150]\n",
    "}"
   ]
  },
  {
   "cell_type": "code",
   "execution_count": 36,
   "id": "dc063115",
   "metadata": {
    "scrolled": true
   },
   "outputs": [
    {
     "name": "stdout",
     "output_type": "stream",
     "text": [
      "Fitting 4 folds for each of 5 candidates, totalling 20 fits\n",
      "\n",
      "Best parameters :\n",
      "{'reg_lambda': 100}\n",
      "\n",
      "power curve computation performed\n",
      "power curve computation performed\n",
      "Modelling errors for training set:\n",
      "Wind RMSE:  0.031 m/s as root mean\n",
      "Wind MAE:  0.021 m/s in avg\n",
      "Wind MAPE:  0.277 %\n",
      "Power RMSE:  18.664 kW as root mean\n",
      "Power MAE:  11.077 kW in avg\n",
      "Power MAPE:  0.753 %\n",
      "\n",
      "Modelling errors for test set:\n",
      "Wind RMSE:  0.399 m/s as root mean\n",
      "Wind MAE:  0.289 m/s in avg\n",
      "Wind MAPE:  3.853 %\n",
      "Power RMSE:  231.194 kW as root mean\n",
      "Power MAE:  148.363 kW in avg\n",
      "Power MAPE:  9.783 %\n",
      "\n",
      "\n",
      "Showing the results of the modelling: \n",
      "GridSearch_ XGBoost performed\n",
      "--- 10.824549833933512 minutes ---\n",
      "\n",
      "Lowest RMSE:  0.4083159401114015\n"
     ]
    },
    {
     "data": {
      "text/plain": [
       "GridSearchCV(cv=4,\n",
       "             estimator=XGBRegressor(base_score=None, booster='gbtree',\n",
       "                                    colsample_bylevel=None,\n",
       "                                    colsample_bynode=None, colsample_bytree=1,\n",
       "                                    gamma=0, gpu_id=None,\n",
       "                                    importance_type='gain',\n",
       "                                    interaction_constraints=None,\n",
       "                                    learning_rate=0.1, max_delta_step=None,\n",
       "                                    max_depth=10, min_child_weight=6,\n",
       "                                    missing=nan, monotone_constraints=None,\n",
       "                                    n_estimators=900, n_jobs=None,\n",
       "                                    num_parallel_tree=None, random_state=42,\n",
       "                                    reg_alpha=None, reg_lambda=1,\n",
       "                                    scale_pos_weight=None, subsample=0.9,\n",
       "                                    tree_method=None, validate_parameters=None,\n",
       "                                    verbosity=None),\n",
       "             param_grid={'reg_lambda': [1, 10, 50, 100, 150]},\n",
       "             scoring='neg_mean_squared_error', verbose=1)"
      ]
     },
     "execution_count": 36,
     "metadata": {},
     "output_type": "execute_result"
    }
   ],
   "source": [
    "GridSearch_XGBoost (X_train, X_test, y_train, y_test, PC, parameters, param_grid, plot_error=False)"
   ]
  },
  {
   "cell_type": "code",
   "execution_count": 37,
   "id": "08ec8dfa",
   "metadata": {},
   "outputs": [],
   "source": [
    "parameters={\n",
    "    'max_depth':10,\n",
    "    'n_estimators': 900,\n",
    "    'learning_rate':0.1,\n",
    "    'subsample':0.9,\n",
    "    'colsample_bytree':1,\n",
    "    'min_child_weight':6,\n",
    "    'gamma':0,\n",
    "    'reg_lambda':100,\n",
    "}"
   ]
  },
  {
   "cell_type": "code",
   "execution_count": 38,
   "id": "5dd0dfe2",
   "metadata": {},
   "outputs": [],
   "source": [
    "param_grid={\n",
    "    'learning_rate': [0.001, 0.01, 0.1, 0.5],\n",
    "    'n_estimators': [800, 900, 1000, 1200, 1500, 1800, 2000]\n",
    "}"
   ]
  },
  {
   "cell_type": "code",
   "execution_count": 39,
   "id": "203c8261",
   "metadata": {
    "scrolled": true
   },
   "outputs": [
    {
     "name": "stdout",
     "output_type": "stream",
     "text": [
      "Fitting 4 folds for each of 28 candidates, totalling 112 fits\n",
      "\n",
      "Best parameters :\n",
      "{'learning_rate': 0.1, 'n_estimators': 2000}\n",
      "\n",
      "power curve computation performed\n",
      "power curve computation performed\n",
      "Modelling errors for training set:\n",
      "Wind RMSE:  0.002 m/s as root mean\n",
      "Wind MAE:  0.001 m/s in avg\n",
      "Wind MAPE:  0.013 %\n",
      "Power RMSE:  1.155 kW as root mean\n",
      "Power MAE:  0.499 kW in avg\n",
      "Power MAPE:  0.035 %\n",
      "\n",
      "Modelling errors for test set:\n",
      "Wind RMSE:  0.399 m/s as root mean\n",
      "Wind MAE:  0.289 m/s in avg\n",
      "Wind MAPE:  3.853 %\n",
      "Power RMSE:  230.985 kW as root mean\n",
      "Power MAE:  148.219 kW in avg\n",
      "Power MAPE:  9.789 %\n",
      "\n",
      "\n",
      "Showing the results of the modelling: \n",
      "GridSearch_ XGBoost performed\n",
      "--- 57.220630745093025 minutes ---\n",
      "\n",
      "Lowest RMSE:  0.4079680086498189\n"
     ]
    },
    {
     "data": {
      "text/plain": [
       "GridSearchCV(cv=4,\n",
       "             estimator=XGBRegressor(base_score=None, booster='gbtree',\n",
       "                                    colsample_bylevel=None,\n",
       "                                    colsample_bynode=None, colsample_bytree=1,\n",
       "                                    gamma=0, gpu_id=None,\n",
       "                                    importance_type='gain',\n",
       "                                    interaction_constraints=None,\n",
       "                                    learning_rate=0.1, max_delta_step=None,\n",
       "                                    max_depth=10, min_child_weight=6,\n",
       "                                    missing=nan, monotone_constraints=None,\n",
       "                                    n_estimators=900, n_jobs=None,\n",
       "                                    num_parallel_tree=None, random_state=42,\n",
       "                                    reg_alpha=None, reg_lambda=100,\n",
       "                                    scale_pos_weight=None, subsample=0.9,\n",
       "                                    tree_method=None, validate_parameters=None,\n",
       "                                    verbosity=None),\n",
       "             param_grid={'learning_rate': [0.001, 0.01, 0.1, 0.5],\n",
       "                         'n_estimators': [800, 900, 1000, 1200, 1500, 1800,\n",
       "                                          2000]},\n",
       "             scoring='neg_mean_squared_error', verbose=1)"
      ]
     },
     "execution_count": 39,
     "metadata": {},
     "output_type": "execute_result"
    }
   ],
   "source": [
    "GridSearch_XGBoost (X_train, X_test, y_train, y_test, PC, parameters, param_grid, plot_error=False)"
   ]
  },
  {
   "cell_type": "markdown",
   "id": "1b483daf",
   "metadata": {},
   "source": [
    "### Manual modelling"
   ]
  },
  {
   "cell_type": "code",
   "execution_count": 25,
   "id": "6541cd16",
   "metadata": {},
   "outputs": [],
   "source": [
    "parameters={\n",
    "    'max_depth':10,\n",
    "    'n_estimators': 2000,\n",
    "    'learning_rate':0.1,\n",
    "    'subsample':0.9,\n",
    "    'colsample_bytree':1,\n",
    "    'min_child_weight':6,\n",
    "    'gamma':0,\n",
    "    'reg_lambda':100,\n",
    "}"
   ]
  },
  {
   "cell_type": "code",
   "execution_count": 26,
   "id": "65369191",
   "metadata": {},
   "outputs": [
    {
     "name": "stdout",
     "output_type": "stream",
     "text": [
      "power curve computation performed\n",
      "power curve computation performed\n",
      "Modelling errors for training set:\n",
      "Wind RMSE:  0.002 m/s as root mean\n",
      "Wind MAE:  0.001 m/s in avg\n",
      "Wind MAPE:  0.013 %\n",
      "Power RMSE:  1.155 kW as root mean\n",
      "Power MAE:  0.499 kW in avg\n",
      "Power MAPE:  0.035 %\n",
      "\n",
      "Modelling errors for test set:\n",
      "Wind RMSE:  0.399 m/s as root mean\n",
      "Wind MAE:  0.289 m/s in avg\n",
      "Wind MAPE:  3.853 %\n",
      "Power RMSE:  230.985 kW as root mean\n",
      "Power MAE:  148.219 kW in avg\n",
      "Power MAPE:  9.789 %\n",
      "\n",
      "\n",
      "Showing the results of the modelling: \n",
      "XGBoost modelling performed\n"
     ]
    }
   ],
   "source": [
    "model = modelling_XGBoost (X_train, X_test, y_train, y_test, PC, parameters, plot_error=False, plot=True)"
   ]
  },
  {
   "cell_type": "markdown",
   "id": "0ad96dc2",
   "metadata": {},
   "source": [
    "### Model testing"
   ]
  },
  {
   "cell_type": "code",
   "execution_count": 27,
   "id": "701111a4",
   "metadata": {},
   "outputs": [
    {
     "name": "stdout",
     "output_type": "stream",
     "text": [
      "power curve computation performed\n",
      "power curve computation performed\n",
      "Modelling errors for training set:\n",
      "Wind RMSE:  0.002 m/s as root mean\n",
      "Wind MAE:  0.001 m/s in avg\n",
      "Wind MAPE:  0.013 %\n",
      "Power RMSE:  1.155 kW as root mean\n",
      "Power MAE:  0.499 kW in avg\n",
      "Power MAPE:  0.035 %\n",
      "\n",
      "Modelling errors for test set:\n",
      "Wind RMSE:  0.399 m/s as root mean\n",
      "Wind MAE:  0.289 m/s in avg\n",
      "Wind MAPE:  3.853 %\n",
      "Power RMSE:  230.985 kW as root mean\n",
      "Power MAE:  148.219 kW in avg\n",
      "Power MAPE:  9.789 %\n",
      "\n",
      "\n",
      "Showing the results of the modelling: \n",
      "XGBoost results performed\n"
     ]
    }
   ],
   "source": [
    "WS_pred=model_testing (X_train, X_test, y_train, y_test, PC, model, plot_error=False)"
   ]
  },
  {
   "cell_type": "code",
   "execution_count": 28,
   "id": "03cd402d",
   "metadata": {},
   "outputs": [
    {
     "name": "stdout",
     "output_type": "stream",
     "text": [
      "file XGB_WTG18.csv saved in \\Results_ folder\n"
     ]
    }
   ],
   "source": [
    "WS_pred=pd.DataFrame(WS_pred)\n",
    "save(WS_pred,'\\Results_','XGB_WTG18.csv')"
   ]
  },
  {
   "cell_type": "markdown",
   "id": "6b99bf60",
   "metadata": {},
   "source": [
    "### Feature importance"
   ]
  },
  {
   "cell_type": "code",
   "execution_count": 42,
   "id": "f3946a3b",
   "metadata": {},
   "outputs": [
    {
     "data": {
      "image/png": "[encoded data removed]",
      "text/plain": [
       "<Figure size 576x684 with 1 Axes>"
      ]
     },
     "metadata": {},
     "output_type": "display_data"
    },
    {
     "data": {
      "image/png": "[encoded data removed]",
      "text/plain": [
       "<Figure size 576x396 with 2 Axes>"
      ]
     },
     "metadata": {},
     "output_type": "display_data"
    },
    {
     "name": "stdout",
     "output_type": "stream",
     "text": [
      "Feature importance through SHAP values performed\n"
     ]
    }
   ],
   "source": [
    "shap_values=feature_importance (X_train, X_test, model)"
   ]
  },
  {
   "cell_type": "code",
   "execution_count": 43,
   "id": "d4e3fbee",
   "metadata": {
    "scrolled": true
   },
   "outputs": [
    {
     "data": {
      "text/html": [
       "<div>\n",
       "<style scoped>\n",
       "    .dataframe tbody tr th:only-of-type {\n",
       "        vertical-align: middle;\n",
       "    }\n",
       "\n",
       "    .dataframe tbody tr th {\n",
       "        vertical-align: top;\n",
       "    }\n",
       "\n",
       "    .dataframe thead th {\n",
       "        text-align: right;\n",
       "    }\n",
       "</style>\n",
       "<table border=\"1\" class=\"dataframe\">\n",
       "  <thead>\n",
       "    <tr style=\"text-align: right;\">\n",
       "      <th></th>\n",
       "      <th>variables</th>\n",
       "      <th>SHAP_abs</th>\n",
       "    </tr>\n",
       "  </thead>\n",
       "  <tbody>\n",
       "    <tr>\n",
       "      <th>0</th>\n",
       "      <td>WS1</td>\n",
       "      <td>1.876430</td>\n",
       "    </tr>\n",
       "    <tr>\n",
       "      <th>1</th>\n",
       "      <td>WS3</td>\n",
       "      <td>0.050657</td>\n",
       "    </tr>\n",
       "    <tr>\n",
       "      <th>2</th>\n",
       "      <td>WS4</td>\n",
       "      <td>0.023202</td>\n",
       "    </tr>\n",
       "    <tr>\n",
       "      <th>3</th>\n",
       "      <td>WSHor</td>\n",
       "      <td>0.058276</td>\n",
       "    </tr>\n",
       "    <tr>\n",
       "      <th>4</th>\n",
       "      <td>WDHor</td>\n",
       "      <td>0.027688</td>\n",
       "    </tr>\n",
       "    <tr>\n",
       "      <th>5</th>\n",
       "      <td>WSVer</td>\n",
       "      <td>0.029778</td>\n",
       "    </tr>\n",
       "    <tr>\n",
       "      <th>6</th>\n",
       "      <td>WDVer</td>\n",
       "      <td>0.044878</td>\n",
       "    </tr>\n",
       "    <tr>\n",
       "      <th>7</th>\n",
       "      <td>T1</td>\n",
       "      <td>0.034711</td>\n",
       "    </tr>\n",
       "    <tr>\n",
       "      <th>8</th>\n",
       "      <td>RH1</td>\n",
       "      <td>0.030631</td>\n",
       "    </tr>\n",
       "    <tr>\n",
       "      <th>9</th>\n",
       "      <td>T2</td>\n",
       "      <td>0.015706</td>\n",
       "    </tr>\n",
       "    <tr>\n",
       "      <th>10</th>\n",
       "      <td>RH2</td>\n",
       "      <td>0.024159</td>\n",
       "    </tr>\n",
       "    <tr>\n",
       "      <th>11</th>\n",
       "      <td>PR1</td>\n",
       "      <td>0.016746</td>\n",
       "    </tr>\n",
       "    <tr>\n",
       "      <th>12</th>\n",
       "      <td>AD1</td>\n",
       "      <td>0.014811</td>\n",
       "    </tr>\n",
       "    <tr>\n",
       "      <th>13</th>\n",
       "      <td>PR2</td>\n",
       "      <td>0.013398</td>\n",
       "    </tr>\n",
       "    <tr>\n",
       "      <th>14</th>\n",
       "      <td>AD2</td>\n",
       "      <td>0.031591</td>\n",
       "    </tr>\n",
       "    <tr>\n",
       "      <th>15</th>\n",
       "      <td>Rain</td>\n",
       "      <td>0.024171</td>\n",
       "    </tr>\n",
       "    <tr>\n",
       "      <th>16</th>\n",
       "      <td>WD1</td>\n",
       "      <td>0.039931</td>\n",
       "    </tr>\n",
       "    <tr>\n",
       "      <th>17</th>\n",
       "      <td>WD3</td>\n",
       "      <td>0.033287</td>\n",
       "    </tr>\n",
       "    <tr>\n",
       "      <th>18</th>\n",
       "      <td>WD4</td>\n",
       "      <td>0.029418</td>\n",
       "    </tr>\n",
       "    <tr>\n",
       "      <th>19</th>\n",
       "      <td>TI</td>\n",
       "      <td>0.074616</td>\n",
       "    </tr>\n",
       "    <tr>\n",
       "      <th>20</th>\n",
       "      <td>WSH</td>\n",
       "      <td>0.093620</td>\n",
       "    </tr>\n",
       "    <tr>\n",
       "      <th>21</th>\n",
       "      <td>WD_bin</td>\n",
       "      <td>0.000000</td>\n",
       "    </tr>\n",
       "    <tr>\n",
       "      <th>22</th>\n",
       "      <td>tod</td>\n",
       "      <td>0.072152</td>\n",
       "    </tr>\n",
       "    <tr>\n",
       "      <th>23</th>\n",
       "      <td>WVeer</td>\n",
       "      <td>0.038477</td>\n",
       "    </tr>\n",
       "  </tbody>\n",
       "</table>\n",
       "</div>"
      ],
      "text/plain": [
       "   variables  SHAP_abs\n",
       "0        WS1  1.876430\n",
       "1        WS3  0.050657\n",
       "2        WS4  0.023202\n",
       "3      WSHor  0.058276\n",
       "4      WDHor  0.027688\n",
       "5      WSVer  0.029778\n",
       "6      WDVer  0.044878\n",
       "7         T1  0.034711\n",
       "8        RH1  0.030631\n",
       "9         T2  0.015706\n",
       "10       RH2  0.024159\n",
       "11       PR1  0.016746\n",
       "12       AD1  0.014811\n",
       "13       PR2  0.013398\n",
       "14       AD2  0.031591\n",
       "15      Rain  0.024171\n",
       "16       WD1  0.039931\n",
       "17       WD3  0.033287\n",
       "18       WD4  0.029418\n",
       "19        TI  0.074616\n",
       "20       WSH  0.093620\n",
       "21    WD_bin  0.000000\n",
       "22       tod  0.072152\n",
       "23     WVeer  0.038477"
      ]
     },
     "execution_count": 43,
     "metadata": {},
     "output_type": "execute_result"
    }
   ],
   "source": [
    "shap_values"
   ]
  },
  {
   "cell_type": "markdown",
   "id": "c844a2df",
   "metadata": {},
   "source": [
    "## Dataset3- WTG20"
   ]
  },
  {
   "cell_type": "code",
   "execution_count": 29,
   "id": "e1e52867",
   "metadata": {},
   "outputs": [],
   "source": [
    "#doing"
   ]
  },
  {
   "cell_type": "code",
   "execution_count": 30,
   "id": "143791ce",
   "metadata": {},
   "outputs": [
    {
     "data": {
      "text/plain": [
       "Index(['WS1', 'WS3', 'WS4', 'WSHor', 'WDHor', 'WSVer', 'WDVer', 'T1', 'RH1',\n",
       "       'T2', 'RH2', 'PR1', 'AD1', 'PR2', 'AD2', 'Rain', 'WD1', 'WD3', 'WD4',\n",
       "       'TI', 'WSH', 'WD_bin', 'tod', 'WVeer'],\n",
       "      dtype='object')"
      ]
     },
     "execution_count": 30,
     "metadata": {},
     "output_type": "execute_result"
    }
   ],
   "source": [
    "#upload the dataset with file_folder, file_name\n",
    "X_train= uploading_csv('\\Dataset3-New_Site','\\X_train20.csv')\n",
    "X_test= uploading_csv('\\Dataset3-New_Site','\\X_test20.csv')\n",
    "y_train= uploading_csv('\\Dataset3-New_Site','\\y_train20.csv')\n",
    "y_test= uploading_csv('\\Dataset3-New_Site','\\y_test20.csv')\n",
    "\n",
    "X_test.keys()"
   ]
  },
  {
   "cell_type": "code",
   "execution_count": 31,
   "id": "8e5ee809",
   "metadata": {},
   "outputs": [
    {
     "data": {
      "text/plain": [
       "Index(['Target'], dtype='object')"
      ]
     },
     "execution_count": 31,
     "metadata": {},
     "output_type": "execute_result"
    }
   ],
   "source": [
    "y_test.keys()"
   ]
  },
  {
   "cell_type": "code",
   "execution_count": 32,
   "id": "8c5bf8b0",
   "metadata": {},
   "outputs": [],
   "source": [
    "PC= uploading_csv('\\Dataset3-New_Site','\\PC_V150.csv')"
   ]
  },
  {
   "cell_type": "markdown",
   "id": "8d42105e",
   "metadata": {},
   "source": [
    "### Grid Search"
   ]
  },
  {
   "cell_type": "code",
   "execution_count": 48,
   "id": "9c4b864f",
   "metadata": {},
   "outputs": [],
   "source": [
    "parameters={\n",
    "    'max_depth':5,\n",
    "    'n_estimators': 1000,\n",
    "    'learning_rate':0.1,\n",
    "    'subsample':0.8,\n",
    "    'colsample_bytree':0.8,\n",
    "    'min_child_weight':1,\n",
    "    'gamma':0,\n",
    "    'reg_lambda':1,\n",
    "}"
   ]
  },
  {
   "cell_type": "code",
   "execution_count": 49,
   "id": "ebae69f9",
   "metadata": {},
   "outputs": [],
   "source": [
    "param_grid={\n",
    "    'n_estimators': [100, 200, 300, 400, 500, 600, 700, 800, 900, 1000],\n",
    "}"
   ]
  },
  {
   "cell_type": "code",
   "execution_count": 50,
   "id": "1714b6e3",
   "metadata": {
    "scrolled": true
   },
   "outputs": [
    {
     "name": "stdout",
     "output_type": "stream",
     "text": [
      "Fitting 4 folds for each of 10 candidates, totalling 40 fits\n",
      "\n",
      "Best parameters :\n",
      "{'n_estimators': 900}\n",
      "\n",
      "power curve computation performed\n",
      "power curve computation performed\n",
      "Modelling errors for training set:\n",
      "Wind RMSE:  0.039 m/s as root mean\n",
      "Wind MAE:  0.029 m/s in avg\n",
      "Wind MAPE:  0.389 %\n",
      "Power RMSE:  25.255 kW as root mean\n",
      "Power MAE:  16.949 kW in avg\n",
      "Power MAPE:  0.984 %\n",
      "\n",
      "Modelling errors for test set:\n",
      "Wind RMSE:  0.366 m/s as root mean\n",
      "Wind MAE:  0.264 m/s in avg\n",
      "Wind MAPE:  3.452 %\n",
      "Power RMSE:  221.118 kW as root mean\n",
      "Power MAE:  145.088 kW in avg\n",
      "Power MAPE:  8.694 %\n",
      "\n",
      "\n",
      "Showing the results of the modelling: \n",
      "GridSearch_ XGBoost performed\n",
      "--- 3.333031888802846 minutes ---\n",
      "\n",
      "Lowest RMSE:  0.39574387590349597\n"
     ]
    },
    {
     "data": {
      "text/plain": [
       "GridSearchCV(cv=4,\n",
       "             estimator=XGBRegressor(base_score=None, booster='gbtree',\n",
       "                                    colsample_bylevel=None,\n",
       "                                    colsample_bynode=None, colsample_bytree=0.8,\n",
       "                                    gamma=0, gpu_id=None,\n",
       "                                    importance_type='gain',\n",
       "                                    interaction_constraints=None,\n",
       "                                    learning_rate=0.1, max_delta_step=None,\n",
       "                                    max_depth=5, min_child_weight=1,\n",
       "                                    missing=nan, monotone_constraints=None,\n",
       "                                    n_estimators=1000, n_jobs=None,\n",
       "                                    num_parallel_tree=None, random_state=42,\n",
       "                                    reg_alpha=None, reg_lambda=1,\n",
       "                                    scale_pos_weight=None, subsample=0.8,\n",
       "                                    tree_method=None, validate_parameters=None,\n",
       "                                    verbosity=None),\n",
       "             param_grid={'n_estimators': [100, 200, 300, 400, 500, 600, 700,\n",
       "                                          800, 900, 1000]},\n",
       "             scoring='neg_mean_squared_error', verbose=1)"
      ]
     },
     "execution_count": 50,
     "metadata": {},
     "output_type": "execute_result"
    }
   ],
   "source": [
    " GridSearch_XGBoost (X_train, X_test, y_train, y_test, PC, parameters, param_grid, plot_error=False)"
   ]
  },
  {
   "cell_type": "code",
   "execution_count": 51,
   "id": "e97a35d7",
   "metadata": {},
   "outputs": [],
   "source": [
    "parameters={\n",
    "    'max_depth':5,\n",
    "    'n_estimators': 900,\n",
    "    'learning_rate':0.1,\n",
    "    'subsample':0.8,\n",
    "    'colsample_bytree':0.8,\n",
    "    'min_child_weight':1,\n",
    "    'gamma':0,\n",
    "    'reg_lambda':1,\n",
    "}"
   ]
  },
  {
   "cell_type": "code",
   "execution_count": 52,
   "id": "83229470",
   "metadata": {},
   "outputs": [],
   "source": [
    "param_grid={\n",
    "    'max_depth': [3, 4, 5, 6, 10, 15, 20],\n",
    "    'min_child_weight': [1, 2, 3, 6, 10]\n",
    "}"
   ]
  },
  {
   "cell_type": "code",
   "execution_count": 53,
   "id": "be3005a9",
   "metadata": {
    "scrolled": true
   },
   "outputs": [
    {
     "name": "stdout",
     "output_type": "stream",
     "text": [
      "Fitting 4 folds for each of 35 candidates, totalling 140 fits\n",
      "\n",
      "Best parameters :\n",
      "{'max_depth': 4, 'min_child_weight': 2}\n",
      "\n",
      "power curve computation performed\n",
      "power curve computation performed\n",
      "Modelling errors for training set:\n",
      "Wind RMSE:  0.095 m/s as root mean\n",
      "Wind MAE:  0.072 m/s in avg\n",
      "Wind MAPE:  0.957 %\n",
      "Power RMSE:  62.232 kW as root mean\n",
      "Power MAE:  41.89 kW in avg\n",
      "Power MAPE:  2.427 %\n",
      "\n",
      "Modelling errors for test set:\n",
      "Wind RMSE:  0.369 m/s as root mean\n",
      "Wind MAE:  0.267 m/s in avg\n",
      "Wind MAPE:  3.498 %\n",
      "Power RMSE:  225.887 kW as root mean\n",
      "Power MAE:  147.723 kW in avg\n",
      "Power MAPE:  8.843 %\n",
      "\n",
      "\n",
      "Showing the results of the modelling: \n",
      "GridSearch_ XGBoost performed\n",
      "--- 25.114060819149017 minutes ---\n",
      "\n",
      "Lowest RMSE:  0.3935615854363187\n"
     ]
    },
    {
     "data": {
      "text/plain": [
       "GridSearchCV(cv=4,\n",
       "             estimator=XGBRegressor(base_score=None, booster='gbtree',\n",
       "                                    colsample_bylevel=None,\n",
       "                                    colsample_bynode=None, colsample_bytree=0.8,\n",
       "                                    gamma=0, gpu_id=None,\n",
       "                                    importance_type='gain',\n",
       "                                    interaction_constraints=None,\n",
       "                                    learning_rate=0.1, max_delta_step=None,\n",
       "                                    max_depth=5, min_child_weight=1,\n",
       "                                    missing=nan, monotone_constraints=None,\n",
       "                                    n_estimators=900, n_jobs=None,\n",
       "                                    num_parallel_tree=None, random_state=42,\n",
       "                                    reg_alpha=None, reg_lambda=1,\n",
       "                                    scale_pos_weight=None, subsample=0.8,\n",
       "                                    tree_method=None, validate_parameters=None,\n",
       "                                    verbosity=None),\n",
       "             param_grid={'max_depth': [3, 4, 5, 6, 10, 15, 20],\n",
       "                         'min_child_weight': [1, 2, 3, 6, 10]},\n",
       "             scoring='neg_mean_squared_error', verbose=1)"
      ]
     },
     "execution_count": 53,
     "metadata": {},
     "output_type": "execute_result"
    }
   ],
   "source": [
    "GridSearch_XGBoost (X_train, X_test, y_train, y_test, PC, parameters, param_grid, plot_error=False)"
   ]
  },
  {
   "cell_type": "code",
   "execution_count": 54,
   "id": "2b919c17",
   "metadata": {},
   "outputs": [],
   "source": [
    "parameters={\n",
    "    'max_depth':4,\n",
    "    'n_estimators': 900,\n",
    "    'learning_rate':0.1,\n",
    "    'subsample':0.8,\n",
    "    'colsample_bytree':0.8,\n",
    "    'min_child_weight':2,\n",
    "    'gamma':0,\n",
    "    'reg_lambda':1,\n",
    "}"
   ]
  },
  {
   "cell_type": "code",
   "execution_count": 55,
   "id": "4ee5f2db",
   "metadata": {},
   "outputs": [],
   "source": [
    "param_grid={\n",
    "    'gamma': [0, 0.1, 0.2, 0.3, 0.4, 0.5]\n",
    "}"
   ]
  },
  {
   "cell_type": "code",
   "execution_count": 56,
   "id": "80909ad0",
   "metadata": {
    "scrolled": true
   },
   "outputs": [
    {
     "name": "stdout",
     "output_type": "stream",
     "text": [
      "Fitting 4 folds for each of 6 candidates, totalling 24 fits\n",
      "\n",
      "Best parameters :\n",
      "{'gamma': 0}\n",
      "\n",
      "power curve computation performed\n",
      "power curve computation performed\n",
      "Modelling errors for training set:\n",
      "Wind RMSE:  0.095 m/s as root mean\n",
      "Wind MAE:  0.072 m/s in avg\n",
      "Wind MAPE:  0.957 %\n",
      "Power RMSE:  62.232 kW as root mean\n",
      "Power MAE:  41.89 kW in avg\n",
      "Power MAPE:  2.427 %\n",
      "\n",
      "Modelling errors for test set:\n",
      "Wind RMSE:  0.369 m/s as root mean\n",
      "Wind MAE:  0.267 m/s in avg\n",
      "Wind MAPE:  3.498 %\n",
      "Power RMSE:  225.887 kW as root mean\n",
      "Power MAE:  147.723 kW in avg\n",
      "Power MAPE:  8.843 %\n",
      "\n",
      "\n",
      "Showing the results of the modelling: \n",
      "GridSearch_ XGBoost performed\n",
      "--- 2.438148339589437 minutes ---\n",
      "\n",
      "Lowest RMSE:  0.3935615854363187\n"
     ]
    },
    {
     "data": {
      "text/plain": [
       "GridSearchCV(cv=4,\n",
       "             estimator=XGBRegressor(base_score=None, booster='gbtree',\n",
       "                                    colsample_bylevel=None,\n",
       "                                    colsample_bynode=None, colsample_bytree=0.8,\n",
       "                                    gamma=0, gpu_id=None,\n",
       "                                    importance_type='gain',\n",
       "                                    interaction_constraints=None,\n",
       "                                    learning_rate=0.1, max_delta_step=None,\n",
       "                                    max_depth=4, min_child_weight=2,\n",
       "                                    missing=nan, monotone_constraints=None,\n",
       "                                    n_estimators=900, n_jobs=None,\n",
       "                                    num_parallel_tree=None, random_state=42,\n",
       "                                    reg_alpha=None, reg_lambda=1,\n",
       "                                    scale_pos_weight=None, subsample=0.8,\n",
       "                                    tree_method=None, validate_parameters=None,\n",
       "                                    verbosity=None),\n",
       "             param_grid={'gamma': [0, 0.1, 0.2, 0.3, 0.4, 0.5]},\n",
       "             scoring='neg_mean_squared_error', verbose=1)"
      ]
     },
     "execution_count": 56,
     "metadata": {},
     "output_type": "execute_result"
    }
   ],
   "source": [
    "GridSearch_XGBoost (X_train, X_test, y_train, y_test, PC, parameters, param_grid, plot_error=False)"
   ]
  },
  {
   "cell_type": "code",
   "execution_count": 57,
   "id": "336d0608",
   "metadata": {},
   "outputs": [],
   "source": [
    "parameters={\n",
    "    'max_depth':4,\n",
    "    'n_estimators': 900,\n",
    "    'learning_rate':0.1,\n",
    "    'subsample':0.8,\n",
    "    'colsample_bytree':0.8,\n",
    "    'min_child_weight':2,\n",
    "    'gamma':0,\n",
    "    'reg_lambda':1,\n",
    "}"
   ]
  },
  {
   "cell_type": "code",
   "execution_count": 58,
   "id": "9174f462",
   "metadata": {},
   "outputs": [],
   "source": [
    "param_grid={\n",
    "    'subsample': [0.4, 0.5, 0.6, 0.7, 0.8, 0.9, 1],\n",
    "    'colsample_bytree': [0.4, 0.5, 0.6, 0.7, 0.8, 0.9, 1]\n",
    "}"
   ]
  },
  {
   "cell_type": "code",
   "execution_count": 59,
   "id": "c8e7b560",
   "metadata": {
    "scrolled": true
   },
   "outputs": [
    {
     "name": "stdout",
     "output_type": "stream",
     "text": [
      "Fitting 4 folds for each of 49 candidates, totalling 196 fits\n",
      "\n",
      "Best parameters :\n",
      "{'colsample_bytree': 0.8, 'subsample': 0.8}\n",
      "\n",
      "power curve computation performed\n",
      "power curve computation performed\n",
      "Modelling errors for training set:\n",
      "Wind RMSE:  0.095 m/s as root mean\n",
      "Wind MAE:  0.072 m/s in avg\n",
      "Wind MAPE:  0.957 %\n",
      "Power RMSE:  62.232 kW as root mean\n",
      "Power MAE:  41.89 kW in avg\n",
      "Power MAPE:  2.427 %\n",
      "\n",
      "Modelling errors for test set:\n",
      "Wind RMSE:  0.369 m/s as root mean\n",
      "Wind MAE:  0.267 m/s in avg\n",
      "Wind MAPE:  3.498 %\n",
      "Power RMSE:  225.887 kW as root mean\n",
      "Power MAE:  147.723 kW in avg\n",
      "Power MAPE:  8.843 %\n",
      "\n",
      "\n",
      "Showing the results of the modelling: \n",
      "GridSearch_ XGBoost performed\n",
      "--- 15.39650328954061 minutes ---\n",
      "\n",
      "Lowest RMSE:  0.3935615854363187\n"
     ]
    },
    {
     "data": {
      "text/plain": [
       "GridSearchCV(cv=4,\n",
       "             estimator=XGBRegressor(base_score=None, booster='gbtree',\n",
       "                                    colsample_bylevel=None,\n",
       "                                    colsample_bynode=None, colsample_bytree=0.8,\n",
       "                                    gamma=0, gpu_id=None,\n",
       "                                    importance_type='gain',\n",
       "                                    interaction_constraints=None,\n",
       "                                    learning_rate=0.1, max_delta_step=None,\n",
       "                                    max_depth=4, min_child_weight=2,\n",
       "                                    missing=nan, monotone_constraints=None,\n",
       "                                    n_estimators=900, n_jobs=None,\n",
       "                                    num_parallel_tree=None, random_state=42,\n",
       "                                    reg_alpha=None, reg_lambda=1,\n",
       "                                    scale_pos_weight=None, subsample=0.8,\n",
       "                                    tree_method=None, validate_parameters=None,\n",
       "                                    verbosity=None),\n",
       "             param_grid={'colsample_bytree': [0.4, 0.5, 0.6, 0.7, 0.8, 0.9, 1],\n",
       "                         'subsample': [0.4, 0.5, 0.6, 0.7, 0.8, 0.9, 1]},\n",
       "             scoring='neg_mean_squared_error', verbose=1)"
      ]
     },
     "execution_count": 59,
     "metadata": {},
     "output_type": "execute_result"
    }
   ],
   "source": [
    "GridSearch_XGBoost (X_train, X_test, y_train, y_test, PC, parameters, param_grid, plot_error=False)"
   ]
  },
  {
   "cell_type": "code",
   "execution_count": 60,
   "id": "c3297e66",
   "metadata": {},
   "outputs": [],
   "source": [
    "parameters={\n",
    "    'max_depth':4,\n",
    "    'n_estimators': 900,\n",
    "    'learning_rate':0.1,\n",
    "    'subsample':0.8,\n",
    "    'colsample_bytree':0.8,\n",
    "    'min_child_weight':2,\n",
    "    'gamma':0,\n",
    "    'reg_lambda':1,\n",
    "}"
   ]
  },
  {
   "cell_type": "code",
   "execution_count": 61,
   "id": "3f01c0ed",
   "metadata": {},
   "outputs": [],
   "source": [
    "param_grid={\n",
    "    'reg_lambda': [1, 10, 50, 100, 150]\n",
    "}"
   ]
  },
  {
   "cell_type": "code",
   "execution_count": 62,
   "id": "7156ce86",
   "metadata": {
    "scrolled": true
   },
   "outputs": [
    {
     "name": "stdout",
     "output_type": "stream",
     "text": [
      "Fitting 4 folds for each of 5 candidates, totalling 20 fits\n",
      "\n",
      "Best parameters :\n",
      "{'reg_lambda': 1}\n",
      "\n",
      "power curve computation performed\n",
      "power curve computation performed\n",
      "Modelling errors for training set:\n",
      "Wind RMSE:  0.095 m/s as root mean\n",
      "Wind MAE:  0.072 m/s in avg\n",
      "Wind MAPE:  0.957 %\n",
      "Power RMSE:  62.232 kW as root mean\n",
      "Power MAE:  41.89 kW in avg\n",
      "Power MAPE:  2.427 %\n",
      "\n",
      "Modelling errors for test set:\n",
      "Wind RMSE:  0.369 m/s as root mean\n",
      "Wind MAE:  0.267 m/s in avg\n",
      "Wind MAPE:  3.498 %\n",
      "Power RMSE:  225.887 kW as root mean\n",
      "Power MAE:  147.723 kW in avg\n",
      "Power MAPE:  8.843 %\n",
      "\n",
      "\n",
      "Showing the results of the modelling: \n",
      "GridSearch_ XGBoost performed\n",
      "--- 1.8172156969706217 minutes ---\n",
      "\n",
      "Lowest RMSE:  0.3935615854363187\n"
     ]
    },
    {
     "data": {
      "text/plain": [
       "GridSearchCV(cv=4,\n",
       "             estimator=XGBRegressor(base_score=None, booster='gbtree',\n",
       "                                    colsample_bylevel=None,\n",
       "                                    colsample_bynode=None, colsample_bytree=0.8,\n",
       "                                    gamma=0, gpu_id=None,\n",
       "                                    importance_type='gain',\n",
       "                                    interaction_constraints=None,\n",
       "                                    learning_rate=0.1, max_delta_step=None,\n",
       "                                    max_depth=4, min_child_weight=2,\n",
       "                                    missing=nan, monotone_constraints=None,\n",
       "                                    n_estimators=900, n_jobs=None,\n",
       "                                    num_parallel_tree=None, random_state=42,\n",
       "                                    reg_alpha=None, reg_lambda=1,\n",
       "                                    scale_pos_weight=None, subsample=0.8,\n",
       "                                    tree_method=None, validate_parameters=None,\n",
       "                                    verbosity=None),\n",
       "             param_grid={'reg_lambda': [1, 10, 50, 100, 150]},\n",
       "             scoring='neg_mean_squared_error', verbose=1)"
      ]
     },
     "execution_count": 62,
     "metadata": {},
     "output_type": "execute_result"
    }
   ],
   "source": [
    "GridSearch_XGBoost (X_train, X_test, y_train, y_test, PC, parameters, param_grid, plot_error=False)"
   ]
  },
  {
   "cell_type": "code",
   "execution_count": 63,
   "id": "59ea01de",
   "metadata": {},
   "outputs": [],
   "source": [
    "parameters={\n",
    "    'max_depth':4,\n",
    "    'n_estimators': 900,\n",
    "    'learning_rate':0.1,\n",
    "    'subsample':0.8,\n",
    "    'colsample_bytree':0.8,\n",
    "    'min_child_weight':2,\n",
    "    'gamma':0,\n",
    "    'reg_lambda':1,\n",
    "}"
   ]
  },
  {
   "cell_type": "code",
   "execution_count": 64,
   "id": "72a29aca",
   "metadata": {},
   "outputs": [],
   "source": [
    "param_grid={\n",
    "    'learning_rate': [0.001, 0.01, 0.1, 0.5],\n",
    "    'n_estimators': [800, 900, 1000, 1200, 1500, 1800, 2000]\n",
    "}"
   ]
  },
  {
   "cell_type": "code",
   "execution_count": 65,
   "id": "7552ae2f",
   "metadata": {
    "scrolled": true
   },
   "outputs": [
    {
     "name": "stdout",
     "output_type": "stream",
     "text": [
      "Fitting 4 folds for each of 28 candidates, totalling 112 fits\n",
      "\n",
      "Best parameters :\n",
      "{'learning_rate': 0.1, 'n_estimators': 900}\n",
      "\n",
      "power curve computation performed\n",
      "power curve computation performed\n",
      "Modelling errors for training set:\n",
      "Wind RMSE:  0.095 m/s as root mean\n",
      "Wind MAE:  0.072 m/s in avg\n",
      "Wind MAPE:  0.957 %\n",
      "Power RMSE:  62.232 kW as root mean\n",
      "Power MAE:  41.89 kW in avg\n",
      "Power MAPE:  2.427 %\n",
      "\n",
      "Modelling errors for test set:\n",
      "Wind RMSE:  0.369 m/s as root mean\n",
      "Wind MAE:  0.267 m/s in avg\n",
      "Wind MAPE:  3.498 %\n",
      "Power RMSE:  225.887 kW as root mean\n",
      "Power MAE:  147.723 kW in avg\n",
      "Power MAPE:  8.843 %\n",
      "\n",
      "\n",
      "Showing the results of the modelling: \n",
      "GridSearch_ XGBoost performed\n",
      "--- 13.571205480893452 minutes ---\n",
      "\n",
      "Lowest RMSE:  0.3935615854363187\n"
     ]
    },
    {
     "data": {
      "text/plain": [
       "GridSearchCV(cv=4,\n",
       "             estimator=XGBRegressor(base_score=None, booster='gbtree',\n",
       "                                    colsample_bylevel=None,\n",
       "                                    colsample_bynode=None, colsample_bytree=0.8,\n",
       "                                    gamma=0, gpu_id=None,\n",
       "                                    importance_type='gain',\n",
       "                                    interaction_constraints=None,\n",
       "                                    learning_rate=0.1, max_delta_step=None,\n",
       "                                    max_depth=4, min_child_weight=2,\n",
       "                                    missing=nan, monotone_constraints=None,\n",
       "                                    n_estimators=900, n_jobs=None,\n",
       "                                    num_parallel_tree=None, random_state=42,\n",
       "                                    reg_alpha=None, reg_lambda=1,\n",
       "                                    scale_pos_weight=None, subsample=0.8,\n",
       "                                    tree_method=None, validate_parameters=None,\n",
       "                                    verbosity=None),\n",
       "             param_grid={'learning_rate': [0.001, 0.01, 0.1, 0.5],\n",
       "                         'n_estimators': [800, 900, 1000, 1200, 1500, 1800,\n",
       "                                          2000]},\n",
       "             scoring='neg_mean_squared_error', verbose=1)"
      ]
     },
     "execution_count": 65,
     "metadata": {},
     "output_type": "execute_result"
    }
   ],
   "source": [
    "GridSearch_XGBoost (X_train, X_test, y_train, y_test, PC, parameters, param_grid, plot_error=False)"
   ]
  },
  {
   "cell_type": "code",
   "execution_count": null,
   "id": "ea99f2e0",
   "metadata": {},
   "outputs": [],
   "source": []
  },
  {
   "cell_type": "markdown",
   "id": "5ff9a321",
   "metadata": {},
   "source": [
    "### Manual modelling"
   ]
  },
  {
   "cell_type": "code",
   "execution_count": 33,
   "id": "845a8c5a",
   "metadata": {},
   "outputs": [],
   "source": [
    "parameters={\n",
    "    'max_depth':4,\n",
    "    'n_estimators': 900,\n",
    "    'learning_rate':0.1,\n",
    "    'subsample':0.8,\n",
    "    'colsample_bytree':0.8,\n",
    "    'min_child_weight':2,\n",
    "    'gamma':0,\n",
    "    'reg_lambda':1,\n",
    "}"
   ]
  },
  {
   "cell_type": "code",
   "execution_count": 34,
   "id": "86cc4e6d",
   "metadata": {},
   "outputs": [
    {
     "name": "stdout",
     "output_type": "stream",
     "text": [
      "power curve computation performed\n",
      "power curve computation performed\n",
      "Modelling errors for training set:\n",
      "Wind RMSE:  0.095 m/s as root mean\n",
      "Wind MAE:  0.072 m/s in avg\n",
      "Wind MAPE:  0.957 %\n",
      "Power RMSE:  62.232 kW as root mean\n",
      "Power MAE:  41.89 kW in avg\n",
      "Power MAPE:  2.427 %\n",
      "\n",
      "Modelling errors for test set:\n",
      "Wind RMSE:  0.369 m/s as root mean\n",
      "Wind MAE:  0.267 m/s in avg\n",
      "Wind MAPE:  3.498 %\n",
      "Power RMSE:  225.887 kW as root mean\n",
      "Power MAE:  147.723 kW in avg\n",
      "Power MAPE:  8.843 %\n",
      "\n",
      "\n",
      "Showing the results of the modelling: \n",
      "XGBoost modelling performed\n"
     ]
    }
   ],
   "source": [
    "model = modelling_XGBoost (X_train, X_test, y_train, y_test, PC, parameters, plot_error=False, plot=True)"
   ]
  },
  {
   "cell_type": "markdown",
   "id": "d3e88d8e",
   "metadata": {},
   "source": [
    "### Model testing"
   ]
  },
  {
   "cell_type": "code",
   "execution_count": 35,
   "id": "8e26f03d",
   "metadata": {},
   "outputs": [
    {
     "name": "stdout",
     "output_type": "stream",
     "text": [
      "power curve computation performed\n",
      "power curve computation performed\n",
      "Modelling errors for training set:\n",
      "Wind RMSE:  0.095 m/s as root mean\n",
      "Wind MAE:  0.072 m/s in avg\n",
      "Wind MAPE:  0.957 %\n",
      "Power RMSE:  62.232 kW as root mean\n",
      "Power MAE:  41.89 kW in avg\n",
      "Power MAPE:  2.427 %\n",
      "\n",
      "Modelling errors for test set:\n",
      "Wind RMSE:  0.369 m/s as root mean\n",
      "Wind MAE:  0.267 m/s in avg\n",
      "Wind MAPE:  3.498 %\n",
      "Power RMSE:  225.887 kW as root mean\n",
      "Power MAE:  147.723 kW in avg\n",
      "Power MAPE:  8.843 %\n",
      "\n",
      "\n",
      "Showing the results of the modelling: \n",
      "XGBoost results performed\n"
     ]
    }
   ],
   "source": [
    "WS_pred=model_testing (X_train, X_test, y_train, y_test, PC, model, plot_error=False)"
   ]
  },
  {
   "cell_type": "code",
   "execution_count": 36,
   "id": "d83abc33",
   "metadata": {},
   "outputs": [
    {
     "name": "stdout",
     "output_type": "stream",
     "text": [
      "file XGB_WTG20.csv saved in \\Results_ folder\n"
     ]
    }
   ],
   "source": [
    "WS_pred=pd.DataFrame(WS_pred)\n",
    "save(WS_pred,'\\Results_','XGB_WTG20.csv')"
   ]
  },
  {
   "cell_type": "markdown",
   "id": "577106b1",
   "metadata": {},
   "source": [
    "### Feature importance"
   ]
  },
  {
   "cell_type": "code",
   "execution_count": 68,
   "id": "91b8ac1b",
   "metadata": {},
   "outputs": [
    {
     "data": {
      "image/png": "[encoded data removed]",
      "text/plain": [
       "<Figure size 576x684 with 1 Axes>"
      ]
     },
     "metadata": {},
     "output_type": "display_data"
    },
    {
     "data": {
      "image/png": "[encoded data removed]",
      "text/plain": [
       "<Figure size 576x396 with 2 Axes>"
      ]
     },
     "metadata": {},
     "output_type": "display_data"
    },
    {
     "name": "stdout",
     "output_type": "stream",
     "text": [
      "Feature importance through SHAP values performed\n"
     ]
    }
   ],
   "source": [
    "shap_values=feature_importance (X_train, X_test, model)"
   ]
  },
  {
   "cell_type": "code",
   "execution_count": 69,
   "id": "a4a179d1",
   "metadata": {},
   "outputs": [
    {
     "data": {
      "text/html": [
       "<div>\n",
       "<style scoped>\n",
       "    .dataframe tbody tr th:only-of-type {\n",
       "        vertical-align: middle;\n",
       "    }\n",
       "\n",
       "    .dataframe tbody tr th {\n",
       "        vertical-align: top;\n",
       "    }\n",
       "\n",
       "    .dataframe thead th {\n",
       "        text-align: right;\n",
       "    }\n",
       "</style>\n",
       "<table border=\"1\" class=\"dataframe\">\n",
       "  <thead>\n",
       "    <tr style=\"text-align: right;\">\n",
       "      <th></th>\n",
       "      <th>variables</th>\n",
       "      <th>SHAP_abs</th>\n",
       "    </tr>\n",
       "  </thead>\n",
       "  <tbody>\n",
       "    <tr>\n",
       "      <th>0</th>\n",
       "      <td>WS1</td>\n",
       "      <td>1.259104</td>\n",
       "    </tr>\n",
       "    <tr>\n",
       "      <th>1</th>\n",
       "      <td>WS3</td>\n",
       "      <td>0.061999</td>\n",
       "    </tr>\n",
       "    <tr>\n",
       "      <th>2</th>\n",
       "      <td>WS4</td>\n",
       "      <td>0.033022</td>\n",
       "    </tr>\n",
       "    <tr>\n",
       "      <th>3</th>\n",
       "      <td>WSHor</td>\n",
       "      <td>0.474784</td>\n",
       "    </tr>\n",
       "    <tr>\n",
       "      <th>4</th>\n",
       "      <td>WDHor</td>\n",
       "      <td>0.041982</td>\n",
       "    </tr>\n",
       "    <tr>\n",
       "      <th>5</th>\n",
       "      <td>WSVer</td>\n",
       "      <td>0.026314</td>\n",
       "    </tr>\n",
       "    <tr>\n",
       "      <th>6</th>\n",
       "      <td>WDVer</td>\n",
       "      <td>0.047682</td>\n",
       "    </tr>\n",
       "    <tr>\n",
       "      <th>7</th>\n",
       "      <td>T1</td>\n",
       "      <td>0.033310</td>\n",
       "    </tr>\n",
       "    <tr>\n",
       "      <th>8</th>\n",
       "      <td>RH1</td>\n",
       "      <td>0.064336</td>\n",
       "    </tr>\n",
       "    <tr>\n",
       "      <th>9</th>\n",
       "      <td>T2</td>\n",
       "      <td>0.023860</td>\n",
       "    </tr>\n",
       "    <tr>\n",
       "      <th>10</th>\n",
       "      <td>RH2</td>\n",
       "      <td>0.024123</td>\n",
       "    </tr>\n",
       "    <tr>\n",
       "      <th>11</th>\n",
       "      <td>PR1</td>\n",
       "      <td>0.025506</td>\n",
       "    </tr>\n",
       "    <tr>\n",
       "      <th>12</th>\n",
       "      <td>AD1</td>\n",
       "      <td>0.022548</td>\n",
       "    </tr>\n",
       "    <tr>\n",
       "      <th>13</th>\n",
       "      <td>PR2</td>\n",
       "      <td>0.025167</td>\n",
       "    </tr>\n",
       "    <tr>\n",
       "      <th>14</th>\n",
       "      <td>AD2</td>\n",
       "      <td>0.022283</td>\n",
       "    </tr>\n",
       "    <tr>\n",
       "      <th>15</th>\n",
       "      <td>Rain</td>\n",
       "      <td>0.031281</td>\n",
       "    </tr>\n",
       "    <tr>\n",
       "      <th>16</th>\n",
       "      <td>WD1</td>\n",
       "      <td>0.020963</td>\n",
       "    </tr>\n",
       "    <tr>\n",
       "      <th>17</th>\n",
       "      <td>WD3</td>\n",
       "      <td>0.033311</td>\n",
       "    </tr>\n",
       "    <tr>\n",
       "      <th>18</th>\n",
       "      <td>WD4</td>\n",
       "      <td>0.033844</td>\n",
       "    </tr>\n",
       "    <tr>\n",
       "      <th>19</th>\n",
       "      <td>TI</td>\n",
       "      <td>0.074868</td>\n",
       "    </tr>\n",
       "    <tr>\n",
       "      <th>20</th>\n",
       "      <td>WSH</td>\n",
       "      <td>0.070550</td>\n",
       "    </tr>\n",
       "    <tr>\n",
       "      <th>21</th>\n",
       "      <td>WD_bin</td>\n",
       "      <td>0.000458</td>\n",
       "    </tr>\n",
       "    <tr>\n",
       "      <th>22</th>\n",
       "      <td>tod</td>\n",
       "      <td>0.074428</td>\n",
       "    </tr>\n",
       "    <tr>\n",
       "      <th>23</th>\n",
       "      <td>WVeer</td>\n",
       "      <td>0.035895</td>\n",
       "    </tr>\n",
       "  </tbody>\n",
       "</table>\n",
       "</div>"
      ],
      "text/plain": [
       "   variables  SHAP_abs\n",
       "0        WS1  1.259104\n",
       "1        WS3  0.061999\n",
       "2        WS4  0.033022\n",
       "3      WSHor  0.474784\n",
       "4      WDHor  0.041982\n",
       "5      WSVer  0.026314\n",
       "6      WDVer  0.047682\n",
       "7         T1  0.033310\n",
       "8        RH1  0.064336\n",
       "9         T2  0.023860\n",
       "10       RH2  0.024123\n",
       "11       PR1  0.025506\n",
       "12       AD1  0.022548\n",
       "13       PR2  0.025167\n",
       "14       AD2  0.022283\n",
       "15      Rain  0.031281\n",
       "16       WD1  0.020963\n",
       "17       WD3  0.033311\n",
       "18       WD4  0.033844\n",
       "19        TI  0.074868\n",
       "20       WSH  0.070550\n",
       "21    WD_bin  0.000458\n",
       "22       tod  0.074428\n",
       "23     WVeer  0.035895"
      ]
     },
     "execution_count": 69,
     "metadata": {},
     "output_type": "execute_result"
    }
   ],
   "source": [
    "shap_values"
   ]
  },
  {
   "cell_type": "code",
   "execution_count": null,
   "id": "a410fa0b",
   "metadata": {},
   "outputs": [],
   "source": []
  },
  {
   "cell_type": "markdown",
   "id": "52954f53",
   "metadata": {},
   "source": [
    "## Dataset3- WTG43"
   ]
  },
  {
   "cell_type": "code",
   "execution_count": 37,
   "id": "a3424bbb",
   "metadata": {
    "scrolled": true
   },
   "outputs": [
    {
     "data": {
      "text/plain": [
       "Index(['WS1', 'WS3', 'WS4', 'WSHor', 'WDHor', 'WSVer', 'WDVer', 'T1', 'RH1',\n",
       "       'T2', 'RH2', 'PR1', 'AD1', 'PR2', 'AD2', 'Rain', 'WD1', 'WD3', 'WD4',\n",
       "       'TI', 'WSH', 'WD_bin', 'tod', 'WVeer'],\n",
       "      dtype='object')"
      ]
     },
     "execution_count": 37,
     "metadata": {},
     "output_type": "execute_result"
    }
   ],
   "source": [
    "#upload the dataset with file_folder, file_name\n",
    "X_train= uploading_csv('\\Dataset3-New_Site','\\X_train43.csv')\n",
    "X_test= uploading_csv('\\Dataset3-New_Site','\\X_test43.csv')\n",
    "y_train= uploading_csv('\\Dataset3-New_Site','\\y_train43.csv')\n",
    "y_test= uploading_csv('\\Dataset3-New_Site','\\y_test43.csv')\n",
    "\n",
    "X_test.keys()"
   ]
  },
  {
   "cell_type": "code",
   "execution_count": 38,
   "id": "1f670b31",
   "metadata": {},
   "outputs": [
    {
     "data": {
      "text/plain": [
       "Index(['Target'], dtype='object')"
      ]
     },
     "execution_count": 38,
     "metadata": {},
     "output_type": "execute_result"
    }
   ],
   "source": [
    "y_test.keys()"
   ]
  },
  {
   "cell_type": "code",
   "execution_count": 39,
   "id": "1ee3d8d3",
   "metadata": {},
   "outputs": [],
   "source": [
    "PC= uploading_csv('\\Dataset3-New_Site','\\PC_V150.csv')"
   ]
  },
  {
   "cell_type": "markdown",
   "id": "6bf15740",
   "metadata": {},
   "source": [
    "### Grid Search"
   ]
  },
  {
   "cell_type": "code",
   "execution_count": 25,
   "id": "5c99829e",
   "metadata": {},
   "outputs": [],
   "source": [
    "parameters={\n",
    "    'max_depth':5,\n",
    "    'n_estimators': 1000,\n",
    "    'learning_rate':0.1,\n",
    "    'subsample':0.8,\n",
    "    'colsample_bytree':0.8,\n",
    "    'min_child_weight':1,\n",
    "    'gamma':0,\n",
    "    'reg_lambda':1,\n",
    "}"
   ]
  },
  {
   "cell_type": "code",
   "execution_count": 26,
   "id": "57f0df3d",
   "metadata": {},
   "outputs": [],
   "source": [
    "param_grid={\n",
    "    'n_estimators': [100, 200, 300, 400, 500, 600, 700, 800, 900, 1000],\n",
    "}"
   ]
  },
  {
   "cell_type": "code",
   "execution_count": 27,
   "id": "4367d15f",
   "metadata": {
    "scrolled": true
   },
   "outputs": [
    {
     "name": "stdout",
     "output_type": "stream",
     "text": [
      "Fitting 4 folds for each of 10 candidates, totalling 40 fits\n",
      "\n",
      "Best parameters :\n",
      "{'n_estimators': 900}\n",
      "\n",
      "power curve computation performed\n",
      "power curve computation performed\n",
      "Modelling errors for training set:\n",
      "Wind RMSE:  0.062 m/s as root mean\n",
      "Wind MAE:  0.047 m/s in avg\n",
      "Wind MAPE:  0.577 %\n",
      "Power RMSE:  36.627 kW as root mean\n",
      "Power MAE:  22.4 kW in avg\n",
      "Power MAPE:  1.289 %\n",
      "\n",
      "Modelling errors for test set:\n",
      "Wind RMSE:  0.457 m/s as root mean\n",
      "Wind MAE:  0.335 m/s in avg\n",
      "Wind MAPE:  4.052 %\n",
      "Power RMSE:  247.223 kW as root mean\n",
      "Power MAE:  146.449 kW in avg\n",
      "Power MAPE:  9.104 %\n",
      "\n",
      "\n",
      "Showing the results of the modelling: \n",
      "GridSearch_ XGBoost performed\n",
      "--- 6.131625286738077 minutes ---\n",
      "\n",
      "Lowest RMSE:  0.45965929085478197\n"
     ]
    },
    {
     "data": {
      "text/plain": [
       "GridSearchCV(cv=4,\n",
       "             estimator=XGBRegressor(base_score=None, booster='gbtree',\n",
       "                                    colsample_bylevel=None,\n",
       "                                    colsample_bynode=None, colsample_bytree=0.8,\n",
       "                                    gamma=0, gpu_id=None,\n",
       "                                    importance_type='gain',\n",
       "                                    interaction_constraints=None,\n",
       "                                    learning_rate=0.1, max_delta_step=None,\n",
       "                                    max_depth=5, min_child_weight=1,\n",
       "                                    missing=nan, monotone_constraints=None,\n",
       "                                    n_estimators=1000, n_jobs=None,\n",
       "                                    num_parallel_tree=None, random_state=42,\n",
       "                                    reg_alpha=None, reg_lambda=1,\n",
       "                                    scale_pos_weight=None, subsample=0.8,\n",
       "                                    tree_method=None, validate_parameters=None,\n",
       "                                    verbosity=None),\n",
       "             param_grid={'n_estimators': [100, 200, 300, 400, 500, 600, 700,\n",
       "                                          800, 900, 1000]},\n",
       "             scoring='neg_mean_squared_error', verbose=1)"
      ]
     },
     "execution_count": 27,
     "metadata": {},
     "output_type": "execute_result"
    }
   ],
   "source": [
    " GridSearch_XGBoost (X_train, X_test, y_train, y_test, PC, parameters, param_grid, plot_error=False)"
   ]
  },
  {
   "cell_type": "code",
   "execution_count": 28,
   "id": "487cf955",
   "metadata": {},
   "outputs": [],
   "source": [
    "parameters={\n",
    "    'max_depth':5,\n",
    "    'n_estimators': 900,\n",
    "    'learning_rate':0.1,\n",
    "    'subsample':0.8,\n",
    "    'colsample_bytree':0.8,\n",
    "    'min_child_weight':1,\n",
    "    'gamma':0,\n",
    "    'reg_lambda':1,\n",
    "}"
   ]
  },
  {
   "cell_type": "code",
   "execution_count": 29,
   "id": "295a595d",
   "metadata": {},
   "outputs": [],
   "source": [
    "param_grid={\n",
    "    'max_depth': [3, 4, 5, 6, 10, 15, 20],\n",
    "    'min_child_weight': [1, 2, 3, 6, 10]\n",
    "}"
   ]
  },
  {
   "cell_type": "code",
   "execution_count": 30,
   "id": "c56c8bb3",
   "metadata": {
    "scrolled": true
   },
   "outputs": [
    {
     "name": "stdout",
     "output_type": "stream",
     "text": [
      "Fitting 4 folds for each of 35 candidates, totalling 140 fits\n",
      "\n",
      "Best parameters :\n",
      "{'max_depth': 10, 'min_child_weight': 10}\n",
      "\n",
      "power curve computation performed\n",
      "power curve computation performed\n",
      "Modelling errors for training set:\n",
      "Wind RMSE:  0.002 m/s as root mean\n",
      "Wind MAE:  0.002 m/s in avg\n",
      "Wind MAPE:  0.021 %\n",
      "Power RMSE:  1.465 kW as root mean\n",
      "Power MAE:  0.786 kW in avg\n",
      "Power MAPE:  0.045 %\n",
      "\n",
      "Modelling errors for test set:\n",
      "Wind RMSE:  0.45 m/s as root mean\n",
      "Wind MAE:  0.328 m/s in avg\n",
      "Wind MAPE:  3.966 %\n",
      "Power RMSE:  244.439 kW as root mean\n",
      "Power MAE:  144.56 kW in avg\n",
      "Power MAPE:  8.89 %\n",
      "\n",
      "\n",
      "Showing the results of the modelling: \n",
      "GridSearch_ XGBoost performed\n",
      "--- 37.80744110743205 minutes ---\n",
      "\n",
      "Lowest RMSE:  0.4551632424348052\n"
     ]
    },
    {
     "data": {
      "text/plain": [
       "GridSearchCV(cv=4,\n",
       "             estimator=XGBRegressor(base_score=None, booster='gbtree',\n",
       "                                    colsample_bylevel=None,\n",
       "                                    colsample_bynode=None, colsample_bytree=0.8,\n",
       "                                    gamma=0, gpu_id=None,\n",
       "                                    importance_type='gain',\n",
       "                                    interaction_constraints=None,\n",
       "                                    learning_rate=0.1, max_delta_step=None,\n",
       "                                    max_depth=5, min_child_weight=1,\n",
       "                                    missing=nan, monotone_constraints=None,\n",
       "                                    n_estimators=900, n_jobs=None,\n",
       "                                    num_parallel_tree=None, random_state=42,\n",
       "                                    reg_alpha=None, reg_lambda=1,\n",
       "                                    scale_pos_weight=None, subsample=0.8,\n",
       "                                    tree_method=None, validate_parameters=None,\n",
       "                                    verbosity=None),\n",
       "             param_grid={'max_depth': [3, 4, 5, 6, 10, 15, 20],\n",
       "                         'min_child_weight': [1, 2, 3, 6, 10]},\n",
       "             scoring='neg_mean_squared_error', verbose=1)"
      ]
     },
     "execution_count": 30,
     "metadata": {},
     "output_type": "execute_result"
    }
   ],
   "source": [
    "GridSearch_XGBoost (X_train, X_test, y_train, y_test, PC, parameters, param_grid, plot_error=False)"
   ]
  },
  {
   "cell_type": "code",
   "execution_count": 31,
   "id": "3272dad8",
   "metadata": {},
   "outputs": [],
   "source": [
    "parameters={\n",
    "    'max_depth':10,\n",
    "    'n_estimators': 900,\n",
    "    'learning_rate':0.1,\n",
    "    'subsample':0.8,\n",
    "    'colsample_bytree':0.8,\n",
    "    'min_child_weight':10,\n",
    "    'gamma':0,\n",
    "    'reg_lambda':1,\n",
    "}"
   ]
  },
  {
   "cell_type": "code",
   "execution_count": 32,
   "id": "bd379105",
   "metadata": {},
   "outputs": [],
   "source": [
    "param_grid={\n",
    "    'gamma': [0, 0.1, 0.2, 0.3, 0.4, 0.5]\n",
    "}"
   ]
  },
  {
   "cell_type": "code",
   "execution_count": 33,
   "id": "4342686b",
   "metadata": {
    "scrolled": true
   },
   "outputs": [
    {
     "name": "stdout",
     "output_type": "stream",
     "text": [
      "Fitting 4 folds for each of 6 candidates, totalling 24 fits\n",
      "\n",
      "Best parameters :\n",
      "{'gamma': 0}\n",
      "\n",
      "power curve computation performed\n",
      "power curve computation performed\n",
      "Modelling errors for training set:\n",
      "Wind RMSE:  0.002 m/s as root mean\n",
      "Wind MAE:  0.002 m/s in avg\n",
      "Wind MAPE:  0.021 %\n",
      "Power RMSE:  1.465 kW as root mean\n",
      "Power MAE:  0.786 kW in avg\n",
      "Power MAPE:  0.045 %\n",
      "\n",
      "Modelling errors for test set:\n",
      "Wind RMSE:  0.45 m/s as root mean\n",
      "Wind MAE:  0.328 m/s in avg\n",
      "Wind MAPE:  3.966 %\n",
      "Power RMSE:  244.439 kW as root mean\n",
      "Power MAE:  144.56 kW in avg\n",
      "Power MAPE:  8.89 %\n",
      "\n",
      "\n",
      "Showing the results of the modelling: \n",
      "GridSearch_ XGBoost performed\n",
      "--- 12.98054697116216 minutes ---\n",
      "\n",
      "Lowest RMSE:  0.4551632424348052\n"
     ]
    },
    {
     "data": {
      "text/plain": [
       "GridSearchCV(cv=4,\n",
       "             estimator=XGBRegressor(base_score=None, booster='gbtree',\n",
       "                                    colsample_bylevel=None,\n",
       "                                    colsample_bynode=None, colsample_bytree=0.8,\n",
       "                                    gamma=0, gpu_id=None,\n",
       "                                    importance_type='gain',\n",
       "                                    interaction_constraints=None,\n",
       "                                    learning_rate=0.1, max_delta_step=None,\n",
       "                                    max_depth=10, min_child_weight=10,\n",
       "                                    missing=nan, monotone_constraints=None,\n",
       "                                    n_estimators=900, n_jobs=None,\n",
       "                                    num_parallel_tree=None, random_state=42,\n",
       "                                    reg_alpha=None, reg_lambda=1,\n",
       "                                    scale_pos_weight=None, subsample=0.8,\n",
       "                                    tree_method=None, validate_parameters=None,\n",
       "                                    verbosity=None),\n",
       "             param_grid={'gamma': [0, 0.1, 0.2, 0.3, 0.4, 0.5]},\n",
       "             scoring='neg_mean_squared_error', verbose=1)"
      ]
     },
     "execution_count": 33,
     "metadata": {},
     "output_type": "execute_result"
    }
   ],
   "source": [
    "GridSearch_XGBoost (X_train, X_test, y_train, y_test, PC, parameters, param_grid, plot_error=False)"
   ]
  },
  {
   "cell_type": "code",
   "execution_count": 34,
   "id": "3e03e62c",
   "metadata": {},
   "outputs": [],
   "source": [
    "parameters={\n",
    "    'max_depth':10,\n",
    "    'n_estimators': 900,\n",
    "    'learning_rate':0.1,\n",
    "    'subsample':0.8,\n",
    "    'colsample_bytree':0.8,\n",
    "    'min_child_weight':10,\n",
    "    'gamma':0,\n",
    "    'reg_lambda':1,\n",
    "}"
   ]
  },
  {
   "cell_type": "code",
   "execution_count": 35,
   "id": "4b133bf2",
   "metadata": {},
   "outputs": [],
   "source": [
    "param_grid={\n",
    "    'subsample': [0.4, 0.5, 0.6, 0.7, 0.8, 0.9, 1],\n",
    "    'colsample_bytree': [0.4, 0.5, 0.6, 0.7, 0.8, 0.9, 1]\n",
    "}"
   ]
  },
  {
   "cell_type": "code",
   "execution_count": 36,
   "id": "8a7f8c68",
   "metadata": {
    "scrolled": true
   },
   "outputs": [
    {
     "name": "stdout",
     "output_type": "stream",
     "text": [
      "Fitting 4 folds for each of 49 candidates, totalling 196 fits\n",
      "\n",
      "Best parameters :\n",
      "{'colsample_bytree': 0.6, 'subsample': 0.6}\n",
      "\n",
      "power curve computation performed\n",
      "power curve computation performed\n",
      "Modelling errors for training set:\n",
      "Wind RMSE:  0.004 m/s as root mean\n",
      "Wind MAE:  0.003 m/s in avg\n",
      "Wind MAPE:  0.036 %\n",
      "Power RMSE:  2.453 kW as root mean\n",
      "Power MAE:  1.388 kW in avg\n",
      "Power MAPE:  0.079 %\n",
      "\n",
      "Modelling errors for test set:\n",
      "Wind RMSE:  0.442 m/s as root mean\n",
      "Wind MAE:  0.329 m/s in avg\n",
      "Wind MAPE:  3.964 %\n",
      "Power RMSE:  239.416 kW as root mean\n",
      "Power MAE:  144.504 kW in avg\n",
      "Power MAPE:  8.786 %\n",
      "\n",
      "\n",
      "Showing the results of the modelling: \n",
      "GridSearch_ XGBoost performed\n",
      "--- 54.723526354630785 minutes ---\n",
      "\n",
      "Lowest RMSE:  0.4505266994150377\n"
     ]
    },
    {
     "data": {
      "text/plain": [
       "GridSearchCV(cv=4,\n",
       "             estimator=XGBRegressor(base_score=None, booster='gbtree',\n",
       "                                    colsample_bylevel=None,\n",
       "                                    colsample_bynode=None, colsample_bytree=0.8,\n",
       "                                    gamma=0, gpu_id=None,\n",
       "                                    importance_type='gain',\n",
       "                                    interaction_constraints=None,\n",
       "                                    learning_rate=0.1, max_delta_step=None,\n",
       "                                    max_depth=10, min_child_weight=10,\n",
       "                                    missing=nan, monotone_constraints=None,\n",
       "                                    n_estimators=900, n_jobs=None,\n",
       "                                    num_parallel_tree=None, random_state=42,\n",
       "                                    reg_alpha=None, reg_lambda=1,\n",
       "                                    scale_pos_weight=None, subsample=0.8,\n",
       "                                    tree_method=None, validate_parameters=None,\n",
       "                                    verbosity=None),\n",
       "             param_grid={'colsample_bytree': [0.4, 0.5, 0.6, 0.7, 0.8, 0.9, 1],\n",
       "                         'subsample': [0.4, 0.5, 0.6, 0.7, 0.8, 0.9, 1]},\n",
       "             scoring='neg_mean_squared_error', verbose=1)"
      ]
     },
     "execution_count": 36,
     "metadata": {},
     "output_type": "execute_result"
    }
   ],
   "source": [
    "GridSearch_XGBoost (X_train, X_test, y_train, y_test, PC, parameters, param_grid, plot_error=False)"
   ]
  },
  {
   "cell_type": "code",
   "execution_count": 38,
   "id": "addfa888",
   "metadata": {},
   "outputs": [],
   "source": [
    "parameters={\n",
    "    'max_depth':10,\n",
    "    'n_estimators': 900,\n",
    "    'learning_rate':0.1,\n",
    "    'subsample':0.6,\n",
    "    'colsample_bytree':0.6,\n",
    "    'min_child_weight':10,\n",
    "    'gamma':0,\n",
    "    'reg_lambda':1,\n",
    "}"
   ]
  },
  {
   "cell_type": "code",
   "execution_count": 39,
   "id": "8dcfbbc0",
   "metadata": {},
   "outputs": [],
   "source": [
    "param_grid={\n",
    "    'reg_lambda': [1, 10, 50, 100, 150]\n",
    "}"
   ]
  },
  {
   "cell_type": "code",
   "execution_count": 40,
   "id": "ebd5a2a5",
   "metadata": {
    "scrolled": true
   },
   "outputs": [
    {
     "name": "stdout",
     "output_type": "stream",
     "text": [
      "Fitting 4 folds for each of 5 candidates, totalling 20 fits\n",
      "\n",
      "Best parameters :\n",
      "{'reg_lambda': 10}\n",
      "\n",
      "power curve computation performed\n",
      "power curve computation performed\n",
      "Modelling errors for training set:\n",
      "Wind RMSE:  0.01 m/s as root mean\n",
      "Wind MAE:  0.007 m/s in avg\n",
      "Wind MAPE:  0.084 %\n",
      "Power RMSE:  5.603 kW as root mean\n",
      "Power MAE:  3.16 kW in avg\n",
      "Power MAPE:  0.182 %\n",
      "\n",
      "Modelling errors for test set:\n",
      "Wind RMSE:  0.437 m/s as root mean\n",
      "Wind MAE:  0.325 m/s in avg\n",
      "Wind MAPE:  3.936 %\n",
      "Power RMSE:  240.07 kW as root mean\n",
      "Power MAE:  144.576 kW in avg\n",
      "Power MAPE:  8.85 %\n",
      "\n",
      "\n",
      "Showing the results of the modelling: \n",
      "GridSearch_ XGBoost performed\n",
      "--- 4.2366370479265845 minutes ---\n",
      "\n",
      "Lowest RMSE:  0.449929361421265\n"
     ]
    },
    {
     "data": {
      "text/plain": [
       "GridSearchCV(cv=4,\n",
       "             estimator=XGBRegressor(base_score=None, booster='gbtree',\n",
       "                                    colsample_bylevel=None,\n",
       "                                    colsample_bynode=None, colsample_bytree=0.6,\n",
       "                                    gamma=0, gpu_id=None,\n",
       "                                    importance_type='gain',\n",
       "                                    interaction_constraints=None,\n",
       "                                    learning_rate=0.1, max_delta_step=None,\n",
       "                                    max_depth=10, min_child_weight=10,\n",
       "                                    missing=nan, monotone_constraints=None,\n",
       "                                    n_estimators=900, n_jobs=None,\n",
       "                                    num_parallel_tree=None, random_state=42,\n",
       "                                    reg_alpha=None, reg_lambda=1,\n",
       "                                    scale_pos_weight=None, subsample=0.6,\n",
       "                                    tree_method=None, validate_parameters=None,\n",
       "                                    verbosity=None),\n",
       "             param_grid={'reg_lambda': [1, 10, 50, 100, 150]},\n",
       "             scoring='neg_mean_squared_error', verbose=1)"
      ]
     },
     "execution_count": 40,
     "metadata": {},
     "output_type": "execute_result"
    }
   ],
   "source": [
    "GridSearch_XGBoost (X_train, X_test, y_train, y_test, PC, parameters, param_grid, plot_error=False)"
   ]
  },
  {
   "cell_type": "code",
   "execution_count": 41,
   "id": "bca44e56",
   "metadata": {},
   "outputs": [],
   "source": [
    "parameters={\n",
    "    'max_depth':10,\n",
    "    'n_estimators': 900,\n",
    "    'learning_rate':0.1,\n",
    "    'subsample':0.6,\n",
    "    'colsample_bytree':0.6,\n",
    "    'min_child_weight':10,\n",
    "    'gamma':0,\n",
    "    'reg_lambda':10,\n",
    "}"
   ]
  },
  {
   "cell_type": "code",
   "execution_count": 42,
   "id": "a5415577",
   "metadata": {},
   "outputs": [],
   "source": [
    "param_grid={\n",
    "    'learning_rate': [0.001, 0.01, 0.1, 0.5],\n",
    "    'n_estimators': [800, 900, 1000, 1200, 1500, 1800, 2000]\n",
    "}"
   ]
  },
  {
   "cell_type": "code",
   "execution_count": 43,
   "id": "d5651ea2",
   "metadata": {
    "scrolled": true
   },
   "outputs": [
    {
     "name": "stdout",
     "output_type": "stream",
     "text": [
      "Fitting 4 folds for each of 28 candidates, totalling 112 fits\n",
      "\n",
      "Best parameters :\n",
      "{'learning_rate': 0.01, 'n_estimators': 2000}\n",
      "\n",
      "power curve computation performed\n",
      "power curve computation performed\n",
      "Modelling errors for training set:\n",
      "Wind RMSE:  0.15 m/s as root mean\n",
      "Wind MAE:  0.109 m/s in avg\n",
      "Wind MAPE:  1.333 %\n",
      "Power RMSE:  85.819 kW as root mean\n",
      "Power MAE:  50.891 kW in avg\n",
      "Power MAPE:  2.994 %\n",
      "\n",
      "Modelling errors for test set:\n",
      "Wind RMSE:  0.431 m/s as root mean\n",
      "Wind MAE:  0.319 m/s in avg\n",
      "Wind MAPE:  3.844 %\n",
      "Power RMSE:  234.373 kW as root mean\n",
      "Power MAE:  139.844 kW in avg\n",
      "Power MAPE:  8.586 %\n",
      "\n",
      "\n",
      "Showing the results of the modelling: \n",
      "GridSearch_ XGBoost performed\n",
      "--- 22.756420926253 minutes ---\n",
      "\n",
      "Lowest RMSE:  0.44592468426799825\n"
     ]
    },
    {
     "data": {
      "text/plain": [
       "GridSearchCV(cv=4,\n",
       "             estimator=XGBRegressor(base_score=None, booster='gbtree',\n",
       "                                    colsample_bylevel=None,\n",
       "                                    colsample_bynode=None, colsample_bytree=0.6,\n",
       "                                    gamma=0, gpu_id=None,\n",
       "                                    importance_type='gain',\n",
       "                                    interaction_constraints=None,\n",
       "                                    learning_rate=0.1, max_delta_step=None,\n",
       "                                    max_depth=10, min_child_weight=10,\n",
       "                                    missing=nan, monotone_constraints=None,\n",
       "                                    n_estimators=900, n_jobs=None,\n",
       "                                    num_parallel_tree=None, random_state=42,\n",
       "                                    reg_alpha=None, reg_lambda=10,\n",
       "                                    scale_pos_weight=None, subsample=0.6,\n",
       "                                    tree_method=None, validate_parameters=None,\n",
       "                                    verbosity=None),\n",
       "             param_grid={'learning_rate': [0.001, 0.01, 0.1, 0.5],\n",
       "                         'n_estimators': [800, 900, 1000, 1200, 1500, 1800,\n",
       "                                          2000]},\n",
       "             scoring='neg_mean_squared_error', verbose=1)"
      ]
     },
     "execution_count": 43,
     "metadata": {},
     "output_type": "execute_result"
    }
   ],
   "source": [
    "GridSearch_XGBoost (X_train, X_test, y_train, y_test, PC, parameters, param_grid, plot_error=False)"
   ]
  },
  {
   "cell_type": "markdown",
   "id": "43caa33f",
   "metadata": {},
   "source": [
    "### Manual modelling"
   ]
  },
  {
   "cell_type": "code",
   "execution_count": 40,
   "id": "75ff5ae4",
   "metadata": {},
   "outputs": [],
   "source": [
    "parameters={\n",
    "    'max_depth':10,\n",
    "    'n_estimators': 2000,\n",
    "    'learning_rate':0.01,\n",
    "    'subsample':0.6,\n",
    "    'colsample_bytree':0.6,\n",
    "    'min_child_weight':10,\n",
    "    'gamma':0,\n",
    "    'reg_lambda':10,\n",
    "}"
   ]
  },
  {
   "cell_type": "code",
   "execution_count": 41,
   "id": "1503962d",
   "metadata": {},
   "outputs": [
    {
     "name": "stdout",
     "output_type": "stream",
     "text": [
      "power curve computation performed\n",
      "power curve computation performed\n",
      "Modelling errors for training set:\n",
      "Wind RMSE:  0.15 m/s as root mean\n",
      "Wind MAE:  0.109 m/s in avg\n",
      "Wind MAPE:  1.333 %\n",
      "Power RMSE:  85.819 kW as root mean\n",
      "Power MAE:  50.891 kW in avg\n",
      "Power MAPE:  2.994 %\n",
      "\n",
      "Modelling errors for test set:\n",
      "Wind RMSE:  0.431 m/s as root mean\n",
      "Wind MAE:  0.319 m/s in avg\n",
      "Wind MAPE:  3.844 %\n",
      "Power RMSE:  234.373 kW as root mean\n",
      "Power MAE:  139.844 kW in avg\n",
      "Power MAPE:  8.586 %\n",
      "\n",
      "\n",
      "Showing the results of the modelling: \n",
      "XGBoost modelling performed\n"
     ]
    }
   ],
   "source": [
    "model = modelling_XGBoost (X_train, X_test, y_train, y_test, PC, parameters, plot_error=False, plot=True)"
   ]
  },
  {
   "cell_type": "markdown",
   "id": "b313baf8",
   "metadata": {},
   "source": [
    "### Model testing"
   ]
  },
  {
   "cell_type": "code",
   "execution_count": 42,
   "id": "f1aca850",
   "metadata": {},
   "outputs": [
    {
     "name": "stdout",
     "output_type": "stream",
     "text": [
      "power curve computation performed\n",
      "power curve computation performed\n",
      "Modelling errors for training set:\n",
      "Wind RMSE:  0.15 m/s as root mean\n",
      "Wind MAE:  0.109 m/s in avg\n",
      "Wind MAPE:  1.333 %\n",
      "Power RMSE:  85.819 kW as root mean\n",
      "Power MAE:  50.891 kW in avg\n",
      "Power MAPE:  2.994 %\n",
      "\n",
      "Modelling errors for test set:\n",
      "Wind RMSE:  0.431 m/s as root mean\n",
      "Wind MAE:  0.319 m/s in avg\n",
      "Wind MAPE:  3.844 %\n",
      "Power RMSE:  234.373 kW as root mean\n",
      "Power MAE:  139.844 kW in avg\n",
      "Power MAPE:  8.586 %\n",
      "\n",
      "\n",
      "Showing the results of the modelling: \n",
      "XGBoost results performed\n"
     ]
    }
   ],
   "source": [
    "WS_pred=model_testing (X_train, X_test, y_train, y_test, PC, model, plot_error=False)"
   ]
  },
  {
   "cell_type": "code",
   "execution_count": 43,
   "id": "c129dc18",
   "metadata": {},
   "outputs": [
    {
     "name": "stdout",
     "output_type": "stream",
     "text": [
      "file XGB_WTG43.csv saved in \\Results_ folder\n"
     ]
    }
   ],
   "source": [
    "WS_pred=pd.DataFrame(WS_pred)\n",
    "save(WS_pred,'\\Results_','XGB_WTG43.csv')"
   ]
  },
  {
   "cell_type": "markdown",
   "id": "84eca720",
   "metadata": {},
   "source": [
    "### Feature importance"
   ]
  },
  {
   "cell_type": "code",
   "execution_count": 47,
   "id": "557fbf57",
   "metadata": {},
   "outputs": [
    {
     "data": {
      "image/png": "[encoded data removed]",
      "text/plain": [
       "<Figure size 576x684 with 1 Axes>"
      ]
     },
     "metadata": {},
     "output_type": "display_data"
    },
    {
     "data": {
      "image/png": "[encoded data removed]",
      "text/plain": [
       "<Figure size 576x396 with 2 Axes>"
      ]
     },
     "metadata": {},
     "output_type": "display_data"
    },
    {
     "name": "stdout",
     "output_type": "stream",
     "text": [
      "Feature importance through SHAP values performed\n"
     ]
    }
   ],
   "source": [
    "shap_values=feature_importance (X_train, X_test, model)"
   ]
  },
  {
   "cell_type": "code",
   "execution_count": 48,
   "id": "68d4b6be",
   "metadata": {
    "scrolled": true
   },
   "outputs": [
    {
     "data": {
      "text/html": [
       "<div>\n",
       "<style scoped>\n",
       "    .dataframe tbody tr th:only-of-type {\n",
       "        vertical-align: middle;\n",
       "    }\n",
       "\n",
       "    .dataframe tbody tr th {\n",
       "        vertical-align: top;\n",
       "    }\n",
       "\n",
       "    .dataframe thead th {\n",
       "        text-align: right;\n",
       "    }\n",
       "</style>\n",
       "<table border=\"1\" class=\"dataframe\">\n",
       "  <thead>\n",
       "    <tr style=\"text-align: right;\">\n",
       "      <th></th>\n",
       "      <th>variables</th>\n",
       "      <th>SHAP_abs</th>\n",
       "    </tr>\n",
       "  </thead>\n",
       "  <tbody>\n",
       "    <tr>\n",
       "      <th>0</th>\n",
       "      <td>WS1</td>\n",
       "      <td>1.471092</td>\n",
       "    </tr>\n",
       "    <tr>\n",
       "      <th>1</th>\n",
       "      <td>WS3</td>\n",
       "      <td>0.143570</td>\n",
       "    </tr>\n",
       "    <tr>\n",
       "      <th>2</th>\n",
       "      <td>WS4</td>\n",
       "      <td>0.069411</td>\n",
       "    </tr>\n",
       "    <tr>\n",
       "      <th>3</th>\n",
       "      <td>WSHor</td>\n",
       "      <td>0.536350</td>\n",
       "    </tr>\n",
       "    <tr>\n",
       "      <th>4</th>\n",
       "      <td>WDHor</td>\n",
       "      <td>0.053539</td>\n",
       "    </tr>\n",
       "    <tr>\n",
       "      <th>5</th>\n",
       "      <td>WSVer</td>\n",
       "      <td>0.024725</td>\n",
       "    </tr>\n",
       "    <tr>\n",
       "      <th>6</th>\n",
       "      <td>WDVer</td>\n",
       "      <td>0.039164</td>\n",
       "    </tr>\n",
       "    <tr>\n",
       "      <th>7</th>\n",
       "      <td>T1</td>\n",
       "      <td>0.027184</td>\n",
       "    </tr>\n",
       "    <tr>\n",
       "      <th>8</th>\n",
       "      <td>RH1</td>\n",
       "      <td>0.032035</td>\n",
       "    </tr>\n",
       "    <tr>\n",
       "      <th>9</th>\n",
       "      <td>T2</td>\n",
       "      <td>0.023011</td>\n",
       "    </tr>\n",
       "    <tr>\n",
       "      <th>10</th>\n",
       "      <td>RH2</td>\n",
       "      <td>0.038668</td>\n",
       "    </tr>\n",
       "    <tr>\n",
       "      <th>11</th>\n",
       "      <td>PR1</td>\n",
       "      <td>0.018255</td>\n",
       "    </tr>\n",
       "    <tr>\n",
       "      <th>12</th>\n",
       "      <td>AD1</td>\n",
       "      <td>0.024809</td>\n",
       "    </tr>\n",
       "    <tr>\n",
       "      <th>13</th>\n",
       "      <td>PR2</td>\n",
       "      <td>0.021121</td>\n",
       "    </tr>\n",
       "    <tr>\n",
       "      <th>14</th>\n",
       "      <td>AD2</td>\n",
       "      <td>0.011550</td>\n",
       "    </tr>\n",
       "    <tr>\n",
       "      <th>15</th>\n",
       "      <td>Rain</td>\n",
       "      <td>0.044102</td>\n",
       "    </tr>\n",
       "    <tr>\n",
       "      <th>16</th>\n",
       "      <td>WD1</td>\n",
       "      <td>0.035465</td>\n",
       "    </tr>\n",
       "    <tr>\n",
       "      <th>17</th>\n",
       "      <td>WD3</td>\n",
       "      <td>0.046697</td>\n",
       "    </tr>\n",
       "    <tr>\n",
       "      <th>18</th>\n",
       "      <td>WD4</td>\n",
       "      <td>0.035264</td>\n",
       "    </tr>\n",
       "    <tr>\n",
       "      <th>19</th>\n",
       "      <td>TI</td>\n",
       "      <td>0.102738</td>\n",
       "    </tr>\n",
       "    <tr>\n",
       "      <th>20</th>\n",
       "      <td>WSH</td>\n",
       "      <td>0.150956</td>\n",
       "    </tr>\n",
       "    <tr>\n",
       "      <th>21</th>\n",
       "      <td>WD_bin</td>\n",
       "      <td>0.001811</td>\n",
       "    </tr>\n",
       "    <tr>\n",
       "      <th>22</th>\n",
       "      <td>tod</td>\n",
       "      <td>0.124481</td>\n",
       "    </tr>\n",
       "    <tr>\n",
       "      <th>23</th>\n",
       "      <td>WVeer</td>\n",
       "      <td>0.035543</td>\n",
       "    </tr>\n",
       "  </tbody>\n",
       "</table>\n",
       "</div>"
      ],
      "text/plain": [
       "   variables  SHAP_abs\n",
       "0        WS1  1.471092\n",
       "1        WS3  0.143570\n",
       "2        WS4  0.069411\n",
       "3      WSHor  0.536350\n",
       "4      WDHor  0.053539\n",
       "5      WSVer  0.024725\n",
       "6      WDVer  0.039164\n",
       "7         T1  0.027184\n",
       "8        RH1  0.032035\n",
       "9         T2  0.023011\n",
       "10       RH2  0.038668\n",
       "11       PR1  0.018255\n",
       "12       AD1  0.024809\n",
       "13       PR2  0.021121\n",
       "14       AD2  0.011550\n",
       "15      Rain  0.044102\n",
       "16       WD1  0.035465\n",
       "17       WD3  0.046697\n",
       "18       WD4  0.035264\n",
       "19        TI  0.102738\n",
       "20       WSH  0.150956\n",
       "21    WD_bin  0.001811\n",
       "22       tod  0.124481\n",
       "23     WVeer  0.035543"
      ]
     },
     "execution_count": 48,
     "metadata": {},
     "output_type": "execute_result"
    }
   ],
   "source": [
    "shap_values"
   ]
  },
  {
   "cell_type": "code",
   "execution_count": null,
   "id": "00579847",
   "metadata": {},
   "outputs": [],
   "source": []
  },
  {
   "cell_type": "markdown",
   "id": "7e378cbf",
   "metadata": {},
   "source": [
    "## Dataset3- WTG46"
   ]
  },
  {
   "cell_type": "code",
   "execution_count": 44,
   "id": "ca1d3f91",
   "metadata": {
    "scrolled": true
   },
   "outputs": [
    {
     "data": {
      "text/plain": [
       "Index(['WS1', 'WS3', 'WS4', 'WSHor', 'WDHor', 'WSVer', 'WDVer', 'T1', 'RH1',\n",
       "       'T2', 'RH2', 'PR1', 'AD1', 'PR2', 'AD2', 'Rain', 'WD1', 'WD3', 'WD4',\n",
       "       'TI', 'WSH', 'WD_bin', 'tod', 'WVeer'],\n",
       "      dtype='object')"
      ]
     },
     "execution_count": 44,
     "metadata": {},
     "output_type": "execute_result"
    }
   ],
   "source": [
    "#upload the dataset with file_folder, file_name\n",
    "X_train= uploading_csv('\\Dataset3-New_Site','\\X_train46.csv')\n",
    "X_test= uploading_csv('\\Dataset3-New_Site','\\X_test46.csv')\n",
    "y_train= uploading_csv('\\Dataset3-New_Site','\\y_train46.csv')\n",
    "y_test= uploading_csv('\\Dataset3-New_Site','\\y_test46.csv')\n",
    "\n",
    "X_test.keys()"
   ]
  },
  {
   "cell_type": "code",
   "execution_count": 45,
   "id": "048e007b",
   "metadata": {},
   "outputs": [
    {
     "data": {
      "text/plain": [
       "Index(['Target'], dtype='object')"
      ]
     },
     "execution_count": 45,
     "metadata": {},
     "output_type": "execute_result"
    }
   ],
   "source": [
    "y_test.keys()"
   ]
  },
  {
   "cell_type": "code",
   "execution_count": 46,
   "id": "cf8ba6bd",
   "metadata": {},
   "outputs": [],
   "source": [
    "PC= uploading_csv('\\Dataset3-New_Site','\\PC_V150.csv')"
   ]
  },
  {
   "cell_type": "markdown",
   "id": "cd47e269",
   "metadata": {},
   "source": [
    "### Grid Search"
   ]
  },
  {
   "cell_type": "code",
   "execution_count": 52,
   "id": "4925c0ec",
   "metadata": {},
   "outputs": [],
   "source": [
    "parameters={\n",
    "    'max_depth':5,\n",
    "    'n_estimators': 1000,\n",
    "    'learning_rate':0.1,\n",
    "    'subsample':0.8,\n",
    "    'colsample_bytree':0.8,\n",
    "    'min_child_weight':1,\n",
    "    'gamma':0,\n",
    "    'reg_lambda':1,\n",
    "}"
   ]
  },
  {
   "cell_type": "code",
   "execution_count": 53,
   "id": "04f65928",
   "metadata": {},
   "outputs": [],
   "source": [
    "param_grid={\n",
    "    'n_estimators': [100, 200, 300, 400, 500, 600, 700, 800, 900, 1000],\n",
    "}"
   ]
  },
  {
   "cell_type": "code",
   "execution_count": 54,
   "id": "c7056c71",
   "metadata": {
    "scrolled": true
   },
   "outputs": [
    {
     "name": "stdout",
     "output_type": "stream",
     "text": [
      "Fitting 4 folds for each of 10 candidates, totalling 40 fits\n",
      "\n",
      "Best parameters :\n",
      "{'n_estimators': 600}\n",
      "\n",
      "power curve computation performed\n",
      "power curve computation performed\n",
      "Modelling errors for training set:\n",
      "Wind RMSE:  0.082 m/s as root mean\n",
      "Wind MAE:  0.062 m/s in avg\n",
      "Wind MAPE:  0.852 %\n",
      "Power RMSE:  52.22 kW as root mean\n",
      "Power MAE:  34.669 kW in avg\n",
      "Power MAPE:  2.269 %\n",
      "\n",
      "Modelling errors for test set:\n",
      "Wind RMSE:  0.342 m/s as root mean\n",
      "Wind MAE:  0.243 m/s in avg\n",
      "Wind MAPE:  3.404 %\n",
      "Power RMSE:  208.297 kW as root mean\n",
      "Power MAE:  132.974 kW in avg\n",
      "Power MAPE:  9.291 %\n",
      "\n",
      "\n",
      "Showing the results of the modelling: \n",
      "GridSearch_ XGBoost performed\n",
      "--- 6.337219214439392 minutes ---\n",
      "\n",
      "Lowest RMSE:  0.34491121389593976\n"
     ]
    },
    {
     "data": {
      "text/plain": [
       "GridSearchCV(cv=4,\n",
       "             estimator=XGBRegressor(base_score=None, booster='gbtree',\n",
       "                                    colsample_bylevel=None,\n",
       "                                    colsample_bynode=None, colsample_bytree=0.8,\n",
       "                                    gamma=0, gpu_id=None,\n",
       "                                    importance_type='gain',\n",
       "                                    interaction_constraints=None,\n",
       "                                    learning_rate=0.1, max_delta_step=None,\n",
       "                                    max_depth=5, min_child_weight=1,\n",
       "                                    missing=nan, monotone_constraints=None,\n",
       "                                    n_estimators=1000, n_jobs=None,\n",
       "                                    num_parallel_tree=None, random_state=42,\n",
       "                                    reg_alpha=None, reg_lambda=1,\n",
       "                                    scale_pos_weight=None, subsample=0.8,\n",
       "                                    tree_method=None, validate_parameters=None,\n",
       "                                    verbosity=None),\n",
       "             param_grid={'n_estimators': [100, 200, 300, 400, 500, 600, 700,\n",
       "                                          800, 900, 1000]},\n",
       "             scoring='neg_mean_squared_error', verbose=1)"
      ]
     },
     "execution_count": 54,
     "metadata": {},
     "output_type": "execute_result"
    }
   ],
   "source": [
    " GridSearch_XGBoost (X_train, X_test, y_train, y_test, PC, parameters, param_grid, plot_error=False)"
   ]
  },
  {
   "cell_type": "code",
   "execution_count": 55,
   "id": "7a31b504",
   "metadata": {},
   "outputs": [],
   "source": [
    "parameters={\n",
    "    'max_depth':5,\n",
    "    'n_estimators': 600,\n",
    "    'learning_rate':0.1,\n",
    "    'subsample':0.8,\n",
    "    'colsample_bytree':0.8,\n",
    "    'min_child_weight':1,\n",
    "    'gamma':0,\n",
    "    'reg_lambda':1,\n",
    "}"
   ]
  },
  {
   "cell_type": "code",
   "execution_count": 56,
   "id": "416babb8",
   "metadata": {},
   "outputs": [],
   "source": [
    "param_grid={\n",
    "    'max_depth': [3, 4, 5, 6, 10, 15, 20],\n",
    "    'min_child_weight': [1, 2, 3, 6, 10]\n",
    "}"
   ]
  },
  {
   "cell_type": "code",
   "execution_count": 57,
   "id": "45c8bf92",
   "metadata": {
    "scrolled": true
   },
   "outputs": [
    {
     "name": "stdout",
     "output_type": "stream",
     "text": [
      "Fitting 4 folds for each of 35 candidates, totalling 140 fits\n",
      "\n",
      "Best parameters :\n",
      "{'max_depth': 5, 'min_child_weight': 3}\n",
      "\n",
      "power curve computation performed\n",
      "power curve computation performed\n",
      "Modelling errors for training set:\n",
      "Wind RMSE:  0.087 m/s as root mean\n",
      "Wind MAE:  0.066 m/s in avg\n",
      "Wind MAPE:  0.902 %\n",
      "Power RMSE:  55.483 kW as root mean\n",
      "Power MAE:  36.896 kW in avg\n",
      "Power MAPE:  2.403 %\n",
      "\n",
      "Modelling errors for test set:\n",
      "Wind RMSE:  0.338 m/s as root mean\n",
      "Wind MAE:  0.238 m/s in avg\n",
      "Wind MAPE:  3.319 %\n",
      "Power RMSE:  205.459 kW as root mean\n",
      "Power MAE:  129.569 kW in avg\n",
      "Power MAPE:  9.005 %\n",
      "\n",
      "\n",
      "Showing the results of the modelling: \n",
      "GridSearch_ XGBoost performed\n",
      "--- 19.586459314823152 minutes ---\n",
      "\n",
      "Lowest RMSE:  0.34344046036205395\n"
     ]
    },
    {
     "data": {
      "text/plain": [
       "GridSearchCV(cv=4,\n",
       "             estimator=XGBRegressor(base_score=None, booster='gbtree',\n",
       "                                    colsample_bylevel=None,\n",
       "                                    colsample_bynode=None, colsample_bytree=0.8,\n",
       "                                    gamma=0, gpu_id=None,\n",
       "                                    importance_type='gain',\n",
       "                                    interaction_constraints=None,\n",
       "                                    learning_rate=0.1, max_delta_step=None,\n",
       "                                    max_depth=5, min_child_weight=1,\n",
       "                                    missing=nan, monotone_constraints=None,\n",
       "                                    n_estimators=600, n_jobs=None,\n",
       "                                    num_parallel_tree=None, random_state=42,\n",
       "                                    reg_alpha=None, reg_lambda=1,\n",
       "                                    scale_pos_weight=None, subsample=0.8,\n",
       "                                    tree_method=None, validate_parameters=None,\n",
       "                                    verbosity=None),\n",
       "             param_grid={'max_depth': [3, 4, 5, 6, 10, 15, 20],\n",
       "                         'min_child_weight': [1, 2, 3, 6, 10]},\n",
       "             scoring='neg_mean_squared_error', verbose=1)"
      ]
     },
     "execution_count": 57,
     "metadata": {},
     "output_type": "execute_result"
    }
   ],
   "source": [
    "GridSearch_XGBoost (X_train, X_test, y_train, y_test, PC, parameters, param_grid, plot_error=False)"
   ]
  },
  {
   "cell_type": "code",
   "execution_count": 59,
   "id": "9583b7e1",
   "metadata": {},
   "outputs": [],
   "source": [
    "parameters={\n",
    "    'max_depth':5,\n",
    "    'n_estimators': 600,\n",
    "    'learning_rate':0.1,\n",
    "    'subsample':0.8,\n",
    "    'colsample_bytree':0.8,\n",
    "    'min_child_weight':3,\n",
    "    'gamma':0,\n",
    "    'reg_lambda':1,\n",
    "}"
   ]
  },
  {
   "cell_type": "code",
   "execution_count": 60,
   "id": "ddfdbb08",
   "metadata": {},
   "outputs": [],
   "source": [
    "param_grid={\n",
    "    'gamma': [0, 0.1, 0.2, 0.3, 0.4, 0.5]\n",
    "}"
   ]
  },
  {
   "cell_type": "code",
   "execution_count": 61,
   "id": "63c390cc",
   "metadata": {
    "scrolled": true
   },
   "outputs": [
    {
     "name": "stdout",
     "output_type": "stream",
     "text": [
      "Fitting 4 folds for each of 6 candidates, totalling 24 fits\n",
      "\n",
      "Best parameters :\n",
      "{'gamma': 0}\n",
      "\n",
      "power curve computation performed\n",
      "power curve computation performed\n",
      "Modelling errors for training set:\n",
      "Wind RMSE:  0.087 m/s as root mean\n",
      "Wind MAE:  0.066 m/s in avg\n",
      "Wind MAPE:  0.902 %\n",
      "Power RMSE:  55.483 kW as root mean\n",
      "Power MAE:  36.896 kW in avg\n",
      "Power MAPE:  2.403 %\n",
      "\n",
      "Modelling errors for test set:\n",
      "Wind RMSE:  0.338 m/s as root mean\n",
      "Wind MAE:  0.238 m/s in avg\n",
      "Wind MAPE:  3.319 %\n",
      "Power RMSE:  205.459 kW as root mean\n",
      "Power MAE:  129.569 kW in avg\n",
      "Power MAPE:  9.005 %\n",
      "\n",
      "\n",
      "Showing the results of the modelling: \n",
      "GridSearch_ XGBoost performed\n",
      "--- 2.2791846712430317 minutes ---\n",
      "\n",
      "Lowest RMSE:  0.34344046036205395\n"
     ]
    },
    {
     "data": {
      "text/plain": [
       "GridSearchCV(cv=4,\n",
       "             estimator=XGBRegressor(base_score=None, booster='gbtree',\n",
       "                                    colsample_bylevel=None,\n",
       "                                    colsample_bynode=None, colsample_bytree=0.8,\n",
       "                                    gamma=0, gpu_id=None,\n",
       "                                    importance_type='gain',\n",
       "                                    interaction_constraints=None,\n",
       "                                    learning_rate=0.1, max_delta_step=None,\n",
       "                                    max_depth=5, min_child_weight=3,\n",
       "                                    missing=nan, monotone_constraints=None,\n",
       "                                    n_estimators=600, n_jobs=None,\n",
       "                                    num_parallel_tree=None, random_state=42,\n",
       "                                    reg_alpha=None, reg_lambda=1,\n",
       "                                    scale_pos_weight=None, subsample=0.8,\n",
       "                                    tree_method=None, validate_parameters=None,\n",
       "                                    verbosity=None),\n",
       "             param_grid={'gamma': [0, 0.1, 0.2, 0.3, 0.4, 0.5]},\n",
       "             scoring='neg_mean_squared_error', verbose=1)"
      ]
     },
     "execution_count": 61,
     "metadata": {},
     "output_type": "execute_result"
    }
   ],
   "source": [
    "GridSearch_XGBoost (X_train, X_test, y_train, y_test, PC, parameters, param_grid, plot_error=False)"
   ]
  },
  {
   "cell_type": "code",
   "execution_count": 62,
   "id": "dac8e862",
   "metadata": {},
   "outputs": [],
   "source": [
    "parameters={\n",
    "    'max_depth':5,\n",
    "    'n_estimators': 600,\n",
    "    'learning_rate':0.1,\n",
    "    'subsample':0.8,\n",
    "    'colsample_bytree':0.8,\n",
    "    'min_child_weight':3,\n",
    "    'gamma':0,\n",
    "    'reg_lambda':1,\n",
    "}"
   ]
  },
  {
   "cell_type": "code",
   "execution_count": 63,
   "id": "daa1dc55",
   "metadata": {},
   "outputs": [],
   "source": [
    "param_grid={\n",
    "    'subsample': [0.4, 0.5, 0.6, 0.7, 0.8, 0.9, 1],\n",
    "    'colsample_bytree': [0.4, 0.5, 0.6, 0.7, 0.8, 0.9, 1]\n",
    "}"
   ]
  },
  {
   "cell_type": "code",
   "execution_count": 64,
   "id": "6cd4a266",
   "metadata": {
    "scrolled": true
   },
   "outputs": [
    {
     "name": "stdout",
     "output_type": "stream",
     "text": [
      "Fitting 4 folds for each of 49 candidates, totalling 196 fits\n",
      "\n",
      "Best parameters :\n",
      "{'colsample_bytree': 1, 'subsample': 0.7}\n",
      "\n",
      "power curve computation performed\n",
      "power curve computation performed\n",
      "Modelling errors for training set:\n",
      "Wind RMSE:  0.084 m/s as root mean\n",
      "Wind MAE:  0.064 m/s in avg\n",
      "Wind MAPE:  0.876 %\n",
      "Power RMSE:  53.783 kW as root mean\n",
      "Power MAE:  35.895 kW in avg\n",
      "Power MAPE:  2.339 %\n",
      "\n",
      "Modelling errors for test set:\n",
      "Wind RMSE:  0.334 m/s as root mean\n",
      "Wind MAE:  0.236 m/s in avg\n",
      "Wind MAPE:  3.294 %\n",
      "Power RMSE:  202.4 kW as root mean\n",
      "Power MAE:  128.373 kW in avg\n",
      "Power MAPE:  8.959 %\n",
      "\n",
      "\n",
      "Showing the results of the modelling: \n",
      "GridSearch_ XGBoost performed\n",
      "--- 19.885001428922017 minutes ---\n",
      "\n",
      "Lowest RMSE:  0.34224919499792844\n"
     ]
    },
    {
     "data": {
      "text/plain": [
       "GridSearchCV(cv=4,\n",
       "             estimator=XGBRegressor(base_score=None, booster='gbtree',\n",
       "                                    colsample_bylevel=None,\n",
       "                                    colsample_bynode=None, colsample_bytree=0.8,\n",
       "                                    gamma=0, gpu_id=None,\n",
       "                                    importance_type='gain',\n",
       "                                    interaction_constraints=None,\n",
       "                                    learning_rate=0.1, max_delta_step=None,\n",
       "                                    max_depth=5, min_child_weight=3,\n",
       "                                    missing=nan, monotone_constraints=None,\n",
       "                                    n_estimators=600, n_jobs=None,\n",
       "                                    num_parallel_tree=None, random_state=42,\n",
       "                                    reg_alpha=None, reg_lambda=1,\n",
       "                                    scale_pos_weight=None, subsample=0.8,\n",
       "                                    tree_method=None, validate_parameters=None,\n",
       "                                    verbosity=None),\n",
       "             param_grid={'colsample_bytree': [0.4, 0.5, 0.6, 0.7, 0.8, 0.9, 1],\n",
       "                         'subsample': [0.4, 0.5, 0.6, 0.7, 0.8, 0.9, 1]},\n",
       "             scoring='neg_mean_squared_error', verbose=1)"
      ]
     },
     "execution_count": 64,
     "metadata": {},
     "output_type": "execute_result"
    }
   ],
   "source": [
    "GridSearch_XGBoost (X_train, X_test, y_train, y_test, PC, parameters, param_grid, plot_error=False)"
   ]
  },
  {
   "cell_type": "code",
   "execution_count": 65,
   "id": "dd1b94c0",
   "metadata": {},
   "outputs": [],
   "source": [
    "parameters={\n",
    "    'max_depth':5,\n",
    "    'n_estimators': 600,\n",
    "    'learning_rate':0.1,\n",
    "    'subsample':0.7,\n",
    "    'colsample_bytree':1,\n",
    "    'min_child_weight':3,\n",
    "    'gamma':0,\n",
    "    'reg_lambda':1,\n",
    "}"
   ]
  },
  {
   "cell_type": "code",
   "execution_count": 66,
   "id": "9bab674d",
   "metadata": {},
   "outputs": [],
   "source": [
    "param_grid={\n",
    "    'reg_lambda': [1, 10, 50, 100, 150]\n",
    "}"
   ]
  },
  {
   "cell_type": "code",
   "execution_count": 67,
   "id": "734360e4",
   "metadata": {
    "scrolled": true
   },
   "outputs": [
    {
     "name": "stdout",
     "output_type": "stream",
     "text": [
      "Fitting 4 folds for each of 5 candidates, totalling 20 fits\n",
      "\n",
      "Best parameters :\n",
      "{'reg_lambda': 1}\n",
      "\n",
      "power curve computation performed\n",
      "power curve computation performed\n",
      "Modelling errors for training set:\n",
      "Wind RMSE:  0.084 m/s as root mean\n",
      "Wind MAE:  0.064 m/s in avg\n",
      "Wind MAPE:  0.876 %\n",
      "Power RMSE:  53.783 kW as root mean\n",
      "Power MAE:  35.895 kW in avg\n",
      "Power MAPE:  2.339 %\n",
      "\n",
      "Modelling errors for test set:\n",
      "Wind RMSE:  0.334 m/s as root mean\n",
      "Wind MAE:  0.236 m/s in avg\n",
      "Wind MAPE:  3.294 %\n",
      "Power RMSE:  202.4 kW as root mean\n",
      "Power MAE:  128.373 kW in avg\n",
      "Power MAPE:  8.959 %\n",
      "\n",
      "\n",
      "Showing the results of the modelling: \n",
      "GridSearch_ XGBoost performed\n",
      "--- 3.0368500630060833 minutes ---\n",
      "\n",
      "Lowest RMSE:  0.34224919499792844\n"
     ]
    },
    {
     "data": {
      "text/plain": [
       "GridSearchCV(cv=4,\n",
       "             estimator=XGBRegressor(base_score=None, booster='gbtree',\n",
       "                                    colsample_bylevel=None,\n",
       "                                    colsample_bynode=None, colsample_bytree=1,\n",
       "                                    gamma=0, gpu_id=None,\n",
       "                                    importance_type='gain',\n",
       "                                    interaction_constraints=None,\n",
       "                                    learning_rate=0.1, max_delta_step=None,\n",
       "                                    max_depth=5, min_child_weight=3,\n",
       "                                    missing=nan, monotone_constraints=None,\n",
       "                                    n_estimators=600, n_jobs=None,\n",
       "                                    num_parallel_tree=None, random_state=42,\n",
       "                                    reg_alpha=None, reg_lambda=1,\n",
       "                                    scale_pos_weight=None, subsample=0.7,\n",
       "                                    tree_method=None, validate_parameters=None,\n",
       "                                    verbosity=None),\n",
       "             param_grid={'reg_lambda': [1, 10, 50, 100, 150]},\n",
       "             scoring='neg_mean_squared_error', verbose=1)"
      ]
     },
     "execution_count": 67,
     "metadata": {},
     "output_type": "execute_result"
    }
   ],
   "source": [
    "GridSearch_XGBoost (X_train, X_test, y_train, y_test, PC, parameters, param_grid, plot_error=False)"
   ]
  },
  {
   "cell_type": "code",
   "execution_count": 25,
   "id": "948e61b6",
   "metadata": {},
   "outputs": [],
   "source": [
    "parameters={\n",
    "    'max_depth':5,\n",
    "    'n_estimators': 600,\n",
    "    'learning_rate':0.1,\n",
    "    'subsample':0.7,\n",
    "    'colsample_bytree':1,\n",
    "    'min_child_weight':3,\n",
    "    'gamma':0,\n",
    "    'reg_lambda':1,\n",
    "}"
   ]
  },
  {
   "cell_type": "code",
   "execution_count": 26,
   "id": "26b7af7a",
   "metadata": {},
   "outputs": [],
   "source": [
    "param_grid={\n",
    "    'learning_rate': [0.001, 0.01, 0.1, 0.5],\n",
    "    'n_estimators': [800, 900, 1000, 1200, 1500, 1800, 2000]\n",
    "}"
   ]
  },
  {
   "cell_type": "code",
   "execution_count": 27,
   "id": "b283c8fc",
   "metadata": {
    "scrolled": true
   },
   "outputs": [
    {
     "name": "stdout",
     "output_type": "stream",
     "text": [
      "Fitting 4 folds for each of 28 candidates, totalling 112 fits\n",
      "\n",
      "Best parameters :\n",
      "{'learning_rate': 0.01, 'n_estimators': 2000}\n",
      "\n",
      "power curve computation performed\n",
      "power curve computation performed\n",
      "Modelling errors for training set:\n",
      "Wind RMSE:  0.189 m/s as root mean\n",
      "Wind MAE:  0.142 m/s in avg\n",
      "Wind MAPE:  1.96 %\n",
      "Power RMSE:  119.965 kW as root mean\n",
      "Power MAE:  78.914 kW in avg\n",
      "Power MAPE:  5.277 %\n",
      "\n",
      "Modelling errors for test set:\n",
      "Wind RMSE:  0.335 m/s as root mean\n",
      "Wind MAE:  0.239 m/s in avg\n",
      "Wind MAPE:  3.332 %\n",
      "Power RMSE:  204.484 kW as root mean\n",
      "Power MAE:  131.071 kW in avg\n",
      "Power MAPE:  9.106 %\n",
      "\n",
      "\n",
      "Showing the results of the modelling: \n",
      "GridSearch_ XGBoost performed\n",
      "--- 24.649036407470703 minutes ---\n",
      "\n",
      "Lowest RMSE:  0.34107768715526765\n"
     ]
    },
    {
     "data": {
      "text/plain": [
       "GridSearchCV(cv=4,\n",
       "             estimator=XGBRegressor(base_score=None, booster='gbtree',\n",
       "                                    colsample_bylevel=None,\n",
       "                                    colsample_bynode=None, colsample_bytree=1,\n",
       "                                    gamma=0, gpu_id=None,\n",
       "                                    importance_type='gain',\n",
       "                                    interaction_constraints=None,\n",
       "                                    learning_rate=0.1, max_delta_step=None,\n",
       "                                    max_depth=5, min_child_weight=3,\n",
       "                                    missing=nan, monotone_constraints=None,\n",
       "                                    n_estimators=600, n_jobs=None,\n",
       "                                    num_parallel_tree=None, random_state=42,\n",
       "                                    reg_alpha=None, reg_lambda=1,\n",
       "                                    scale_pos_weight=None, subsample=0.7,\n",
       "                                    tree_method=None, validate_parameters=None,\n",
       "                                    verbosity=None),\n",
       "             param_grid={'learning_rate': [0.001, 0.01, 0.1, 0.5],\n",
       "                         'n_estimators': [800, 900, 1000, 1200, 1500, 1800,\n",
       "                                          2000]},\n",
       "             scoring='neg_mean_squared_error', verbose=1)"
      ]
     },
     "execution_count": 27,
     "metadata": {},
     "output_type": "execute_result"
    }
   ],
   "source": [
    "GridSearch_XGBoost (X_train, X_test, y_train, y_test, PC, parameters, param_grid, plot_error=False)"
   ]
  },
  {
   "cell_type": "markdown",
   "id": "80c91752",
   "metadata": {},
   "source": [
    "### Manual modelling"
   ]
  },
  {
   "cell_type": "code",
   "execution_count": 47,
   "id": "2d5bb330",
   "metadata": {},
   "outputs": [],
   "source": [
    "parameters={\n",
    "    'max_depth':5,\n",
    "    'n_estimators': 2000,\n",
    "    'learning_rate':0.01,\n",
    "    'subsample':0.7,\n",
    "    'colsample_bytree':1,\n",
    "    'min_child_weight':3,\n",
    "    'gamma':0,\n",
    "    'reg_lambda':1,\n",
    "}"
   ]
  },
  {
   "cell_type": "code",
   "execution_count": 48,
   "id": "67f7258b",
   "metadata": {},
   "outputs": [
    {
     "name": "stdout",
     "output_type": "stream",
     "text": [
      "power curve computation performed\n",
      "power curve computation performed\n",
      "Modelling errors for training set:\n",
      "Wind RMSE:  0.189 m/s as root mean\n",
      "Wind MAE:  0.142 m/s in avg\n",
      "Wind MAPE:  1.96 %\n",
      "Power RMSE:  119.965 kW as root mean\n",
      "Power MAE:  78.914 kW in avg\n",
      "Power MAPE:  5.277 %\n",
      "\n",
      "Modelling errors for test set:\n",
      "Wind RMSE:  0.335 m/s as root mean\n",
      "Wind MAE:  0.239 m/s in avg\n",
      "Wind MAPE:  3.332 %\n",
      "Power RMSE:  204.484 kW as root mean\n",
      "Power MAE:  131.071 kW in avg\n",
      "Power MAPE:  9.106 %\n",
      "\n",
      "\n",
      "Showing the results of the modelling: \n",
      "XGBoost modelling performed\n"
     ]
    }
   ],
   "source": [
    "model = modelling_XGBoost (X_train, X_test, y_train, y_test, PC, parameters, plot_error=False, plot=True)"
   ]
  },
  {
   "cell_type": "markdown",
   "id": "2b32e726",
   "metadata": {},
   "source": [
    "### Model testing"
   ]
  },
  {
   "cell_type": "code",
   "execution_count": 49,
   "id": "b984d422",
   "metadata": {},
   "outputs": [
    {
     "name": "stdout",
     "output_type": "stream",
     "text": [
      "power curve computation performed\n",
      "power curve computation performed\n",
      "Modelling errors for training set:\n",
      "Wind RMSE:  0.189 m/s as root mean\n",
      "Wind MAE:  0.142 m/s in avg\n",
      "Wind MAPE:  1.96 %\n",
      "Power RMSE:  119.965 kW as root mean\n",
      "Power MAE:  78.914 kW in avg\n",
      "Power MAPE:  5.277 %\n",
      "\n",
      "Modelling errors for test set:\n",
      "Wind RMSE:  0.335 m/s as root mean\n",
      "Wind MAE:  0.239 m/s in avg\n",
      "Wind MAPE:  3.332 %\n",
      "Power RMSE:  204.484 kW as root mean\n",
      "Power MAE:  131.071 kW in avg\n",
      "Power MAPE:  9.106 %\n",
      "\n",
      "\n",
      "Showing the results of the modelling: \n",
      "XGBoost results performed\n"
     ]
    }
   ],
   "source": [
    "WS_pred=model_testing (X_train, X_test, y_train, y_test, PC, model, plot_error=False)"
   ]
  },
  {
   "cell_type": "code",
   "execution_count": 50,
   "id": "41f56d58",
   "metadata": {},
   "outputs": [
    {
     "name": "stdout",
     "output_type": "stream",
     "text": [
      "file XGB_WTG46.csv saved in \\Results_ folder\n"
     ]
    }
   ],
   "source": [
    "WS_pred=pd.DataFrame(WS_pred)\n",
    "save(WS_pred,'\\Results_','XGB_WTG46.csv')"
   ]
  },
  {
   "cell_type": "markdown",
   "id": "34863cc9",
   "metadata": {},
   "source": [
    "### Feature importance"
   ]
  },
  {
   "cell_type": "code",
   "execution_count": 30,
   "id": "4db0f944",
   "metadata": {},
   "outputs": [
    {
     "data": {
      "image/png": "[encoded data removed]",
      "text/plain": [
       "<Figure size 576x684 with 1 Axes>"
      ]
     },
     "metadata": {},
     "output_type": "display_data"
    },
    {
     "data": {
      "image/png": "[encoded data removed]",
      "text/plain": [
       "<Figure size 576x396 with 2 Axes>"
      ]
     },
     "metadata": {},
     "output_type": "display_data"
    },
    {
     "name": "stdout",
     "output_type": "stream",
     "text": [
      "Feature importance through SHAP values performed\n"
     ]
    }
   ],
   "source": [
    "shap_values=feature_importance (X_train, X_test, model)"
   ]
  },
  {
   "cell_type": "code",
   "execution_count": 31,
   "id": "c9359ec6",
   "metadata": {
    "scrolled": true
   },
   "outputs": [
    {
     "data": {
      "text/html": [
       "<div>\n",
       "<style scoped>\n",
       "    .dataframe tbody tr th:only-of-type {\n",
       "        vertical-align: middle;\n",
       "    }\n",
       "\n",
       "    .dataframe tbody tr th {\n",
       "        vertical-align: top;\n",
       "    }\n",
       "\n",
       "    .dataframe thead th {\n",
       "        text-align: right;\n",
       "    }\n",
       "</style>\n",
       "<table border=\"1\" class=\"dataframe\">\n",
       "  <thead>\n",
       "    <tr style=\"text-align: right;\">\n",
       "      <th></th>\n",
       "      <th>variables</th>\n",
       "      <th>SHAP_abs</th>\n",
       "    </tr>\n",
       "  </thead>\n",
       "  <tbody>\n",
       "    <tr>\n",
       "      <th>0</th>\n",
       "      <td>WS1</td>\n",
       "      <td>1.635097</td>\n",
       "    </tr>\n",
       "    <tr>\n",
       "      <th>1</th>\n",
       "      <td>WS3</td>\n",
       "      <td>0.034228</td>\n",
       "    </tr>\n",
       "    <tr>\n",
       "      <th>2</th>\n",
       "      <td>WS4</td>\n",
       "      <td>0.012388</td>\n",
       "    </tr>\n",
       "    <tr>\n",
       "      <th>3</th>\n",
       "      <td>WSHor</td>\n",
       "      <td>0.370225</td>\n",
       "    </tr>\n",
       "    <tr>\n",
       "      <th>4</th>\n",
       "      <td>WDHor</td>\n",
       "      <td>0.012498</td>\n",
       "    </tr>\n",
       "    <tr>\n",
       "      <th>5</th>\n",
       "      <td>WSVer</td>\n",
       "      <td>0.033881</td>\n",
       "    </tr>\n",
       "    <tr>\n",
       "      <th>6</th>\n",
       "      <td>WDVer</td>\n",
       "      <td>0.031748</td>\n",
       "    </tr>\n",
       "    <tr>\n",
       "      <th>7</th>\n",
       "      <td>T1</td>\n",
       "      <td>0.014431</td>\n",
       "    </tr>\n",
       "    <tr>\n",
       "      <th>8</th>\n",
       "      <td>RH1</td>\n",
       "      <td>0.018593</td>\n",
       "    </tr>\n",
       "    <tr>\n",
       "      <th>9</th>\n",
       "      <td>T2</td>\n",
       "      <td>0.009620</td>\n",
       "    </tr>\n",
       "    <tr>\n",
       "      <th>10</th>\n",
       "      <td>RH2</td>\n",
       "      <td>0.013374</td>\n",
       "    </tr>\n",
       "    <tr>\n",
       "      <th>11</th>\n",
       "      <td>PR1</td>\n",
       "      <td>0.013458</td>\n",
       "    </tr>\n",
       "    <tr>\n",
       "      <th>12</th>\n",
       "      <td>AD1</td>\n",
       "      <td>0.011613</td>\n",
       "    </tr>\n",
       "    <tr>\n",
       "      <th>13</th>\n",
       "      <td>PR2</td>\n",
       "      <td>0.010793</td>\n",
       "    </tr>\n",
       "    <tr>\n",
       "      <th>14</th>\n",
       "      <td>AD2</td>\n",
       "      <td>0.008658</td>\n",
       "    </tr>\n",
       "    <tr>\n",
       "      <th>15</th>\n",
       "      <td>Rain</td>\n",
       "      <td>0.015508</td>\n",
       "    </tr>\n",
       "    <tr>\n",
       "      <th>16</th>\n",
       "      <td>WD1</td>\n",
       "      <td>0.007263</td>\n",
       "    </tr>\n",
       "    <tr>\n",
       "      <th>17</th>\n",
       "      <td>WD3</td>\n",
       "      <td>0.010284</td>\n",
       "    </tr>\n",
       "    <tr>\n",
       "      <th>18</th>\n",
       "      <td>WD4</td>\n",
       "      <td>0.014473</td>\n",
       "    </tr>\n",
       "    <tr>\n",
       "      <th>19</th>\n",
       "      <td>TI</td>\n",
       "      <td>0.032166</td>\n",
       "    </tr>\n",
       "    <tr>\n",
       "      <th>20</th>\n",
       "      <td>WSH</td>\n",
       "      <td>0.045143</td>\n",
       "    </tr>\n",
       "    <tr>\n",
       "      <th>21</th>\n",
       "      <td>WD_bin</td>\n",
       "      <td>0.000000</td>\n",
       "    </tr>\n",
       "    <tr>\n",
       "      <th>22</th>\n",
       "      <td>tod</td>\n",
       "      <td>0.038402</td>\n",
       "    </tr>\n",
       "    <tr>\n",
       "      <th>23</th>\n",
       "      <td>WVeer</td>\n",
       "      <td>0.020484</td>\n",
       "    </tr>\n",
       "  </tbody>\n",
       "</table>\n",
       "</div>"
      ],
      "text/plain": [
       "   variables  SHAP_abs\n",
       "0        WS1  1.635097\n",
       "1        WS3  0.034228\n",
       "2        WS4  0.012388\n",
       "3      WSHor  0.370225\n",
       "4      WDHor  0.012498\n",
       "5      WSVer  0.033881\n",
       "6      WDVer  0.031748\n",
       "7         T1  0.014431\n",
       "8        RH1  0.018593\n",
       "9         T2  0.009620\n",
       "10       RH2  0.013374\n",
       "11       PR1  0.013458\n",
       "12       AD1  0.011613\n",
       "13       PR2  0.010793\n",
       "14       AD2  0.008658\n",
       "15      Rain  0.015508\n",
       "16       WD1  0.007263\n",
       "17       WD3  0.010284\n",
       "18       WD4  0.014473\n",
       "19        TI  0.032166\n",
       "20       WSH  0.045143\n",
       "21    WD_bin  0.000000\n",
       "22       tod  0.038402\n",
       "23     WVeer  0.020484"
      ]
     },
     "execution_count": 31,
     "metadata": {},
     "output_type": "execute_result"
    }
   ],
   "source": [
    "shap_values"
   ]
  },
  {
   "cell_type": "code",
   "execution_count": null,
   "id": "830cdf5c",
   "metadata": {},
   "outputs": [],
   "source": []
  }
 ],
 "metadata": {
  "kernelspec": {
   "display_name": "Python 3 (ipykernel)",
   "language": "python",
   "name": "python3"
  },
  "language_info": {
   "codemirror_mode": {
    "name": "ipython",
    "version": 3
   },
   "file_extension": ".py",
   "mimetype": "text/x-python",
   "name": "python",
   "nbconvert_exporter": "python",
   "pygments_lexer": "ipython3",
   "version": "3.7.11"
  },
  "notify_time": "30",
  "toc": {
   "base_numbering": 1,
   "nav_menu": {},
   "number_sections": true,
   "sideBar": true,
   "skip_h1_title": false,
   "title_cell": "Table of Contents",
   "title_sidebar": "Contents",
   "toc_cell": false,
   "toc_position": {
    "height": "calc(100% - 180px)",
    "left": "10px",
    "top": "150px",
    "width": "271.175px"
   },
   "toc_section_display": true,
   "toc_window_display": true
  },
  "varInspector": {
   "cols": {
    "lenName": 16,
    "lenType": 16,
    "lenVar": 40
   },
   "kernels_config": {
    "python": {
     "delete_cmd_postfix": "",
     "delete_cmd_prefix": "del ",
     "library": "var_list.py",
     "varRefreshCmd": "print(var_dic_list())"
    },
    "r": {
     "delete_cmd_postfix": ") ",
     "delete_cmd_prefix": "rm(",
     "library": "var_list.r",
     "varRefreshCmd": "cat(var_dic_list()) "
    }
   },
   "position": {
    "height": "255px",
    "left": "1213.99px",
    "right": "20px",
    "top": "-3.98611px",
    "width": "350px"
   },
   "types_to_exclude": [
    "module",
    "function",
    "builtin_function_or_method",
    "instance",
    "_Feature"
   ],
   "window_display": true
  }
 },
 "nbformat": 4,
 "nbformat_minor": 5
}
