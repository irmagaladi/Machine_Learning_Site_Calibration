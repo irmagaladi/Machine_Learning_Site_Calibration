{
 "cells": [
  {
   "cell_type": "markdown",
   "id": "39ad1a2a",
   "metadata": {},
   "source": [
    "# Packages"
   ]
  },
  {
   "cell_type": "code",
   "execution_count": 1,
   "id": "3ff62b0e",
   "metadata": {},
   "outputs": [],
   "source": [
    "#basic packages\n",
    "import time\n",
    "import numpy as np\n",
    "import pandas as pd\n",
    "import seaborn as sns\n",
    "import matplotlib.pyplot as plt\n",
    "import os\n",
    "\n",
    "#data pre-processing packages\n",
    "from datetime import datetime\n",
    "\n",
    "\n",
    "#results and analysis packages\n",
    "from sklearn.metrics import mean_absolute_percentage_error as mape\n",
    "from sklearn.metrics import mean_absolute_error as mae\n",
    "from sklearn.metrics import mean_squared_error, r2_score"
   ]
  },
  {
   "cell_type": "code",
   "execution_count": 2,
   "id": "f78cf529",
   "metadata": {},
   "outputs": [],
   "source": [
    "# data modelling & results\n",
    "from yellowbrick.regressor import PredictionError, ResidualsPlot\n",
    "from sklearn.model_selection import train_test_split\n",
    "import math as math\n",
    "\n",
    "#NN\n",
    "import xgboost as xgb\n",
    "\n",
    "from tensorflow import keras\n",
    "from keras.utils.vis_utils import plot_model\n",
    "from scipy.stats import reciprocal\n",
    "from sklearn.model_selection import RandomizedSearchCV, GridSearchCV\n",
    "\n",
    "#feature importance\n",
    "import shap\n"
   ]
  },
  {
   "cell_type": "markdown",
   "id": "5304bd4d",
   "metadata": {},
   "source": [
    "# Script"
   ]
  },
  {
   "cell_type": "markdown",
   "id": "93dd727e",
   "metadata": {},
   "source": [
    "## Error computation"
   ]
  },
  {
   "cell_type": "code",
   "execution_count": 3,
   "id": "7a4247b4",
   "metadata": {},
   "outputs": [],
   "source": [
    "#defining the Root Mean Squared Error\n",
    "\n",
    "def rmse(y_true, y_predicted):\n",
    "    \n",
    "    return np.sqrt(mean_squared_error(y_true, y_predicted))"
   ]
  },
  {
   "cell_type": "code",
   "execution_count": 4,
   "id": "910f4f61",
   "metadata": {},
   "outputs": [],
   "source": [
    "#errors computation\n",
    "\n",
    "def errors_computation(data):\n",
    "    \n",
    "    df=pd.DataFrame()\n",
    "    #df.at['RMSE (as root mean)', 'Wind']= round(rmse(data['Target'], data['WS_pred']), 3)\n",
    "    df.at['MAE (in avg)', 'Wind']= round(mae(data['Target'], data['WS_pred']), 3)\n",
    "    df.at['MAPE (%)', 'Wind']= round(mape(data['Target'], data['WS_pred'])*100, 3)\n",
    "    \n",
    "    #df.at['RMSE (as root mean)', 'Power']= round(rmse(data['P'], data['P_pred']), 3)\n",
    "    df.at['MAE (in avg)', 'Power']= round(mae(data['P'], data['P_pred']), 3)\n",
    "    df.at['MAPE (%)', 'Power']= round(mape(data['P'], data['P_pred'])*100, 3)\n",
    "    \n",
    "    \n",
    "    print('Wind RMSE: ', round(rmse(data['Target'], data['WS_pred']), 3), 'm/s as root mean')\n",
    "    print('Wind MAE: ', round(mae(data['Target'], data['WS_pred']), 3), 'm/s in avg')\n",
    "    print('Wind MAPE: ', round(mape(data['Target'], data['WS_pred'])*100, 3), '%')\n",
    "    \n",
    "    print('Power RMSE: ', round(rmse(data['P'], data['P_pred']), 3), 'kW as root mean')\n",
    "    print('Power MAE: ', round(mae(data['P'], data['P_pred']), 3), 'kW in avg')\n",
    "    print('Power MAPE: ', round(mape(data['P'], data['P_pred'])*100, 3), '%')\n",
    "    \n",
    "    return df"
   ]
  },
  {
   "cell_type": "code",
   "execution_count": 5,
   "id": "7f9f017b",
   "metadata": {},
   "outputs": [],
   "source": [
    "def error_plot(data, title):\n",
    "    \n",
    "    #title is expected to be an str\n",
    "    #WS_pred and Target should be the variables names\n",
    "\n",
    "    #plotting the reference\n",
    "    plt.figure(figsize=(12,8))\n",
    "    plt.plot([-1,17.5],[-1,17.5], 'green', linewidth=4, alpha=.12)\n",
    "    plt.plot(data['WS_pred'], data['Target'], marker='o', ls='', label='Regression', markersize=5, alpha=.1)\n",
    "\n",
    "\n",
    "    plt.legend()\n",
    "\n",
    "    ax=plt.gca()\n",
    "    ax.set(xlabel='y predicted', ylabel='y actual');\n",
    "    ax.set_title(title)\n",
    "    ax.set_ylim(ymin=4, ymax=17.5)\n",
    "    ax.set_xlim(xmin=4, xmax=17.5)\n",
    "    \n",
    "    return print('')"
   ]
  },
  {
   "cell_type": "code",
   "execution_count": 6,
   "id": "58bd13df",
   "metadata": {},
   "outputs": [],
   "source": [
    "def powercurve_computation(data, power_curve):\n",
    "    \n",
    "    from scipy import interpolate\n",
    "    \n",
    "    #this function computes the power at a observation given the information at a observation:\n",
    "    # the WS (in m/s) at the wind turbine location and at the hub height (Target)\n",
    "    # the power curve of the wind turbine in an xslx\n",
    "    \n",
    "    \n",
    "    x=power_curve['Wind Speed [m/s]']\n",
    "    y=power_curve['Warranted Power Curve [kW]']\n",
    "    x_new=data['Target']\n",
    "    \n",
    "    f = interpolate.interp1d(x, y)\n",
    "    #, kind='linear'\n",
    "    data['P']=f(x_new)\n",
    "    \n",
    "    if 'WS_pred' in data.keys():\n",
    "        x_new2=data['WS_pred']\n",
    "        data['P_pred']=f(x_new2)\n",
    "    \n",
    "    print('power curve computation performed')\n",
    "    \n",
    "    return data"
   ]
  },
  {
   "cell_type": "code",
   "execution_count": 7,
   "id": "84c09062",
   "metadata": {},
   "outputs": [],
   "source": [
    "def control_power_computation (data_test, data_train, power_curve):\n",
    "    \n",
    "    results_test=pd.DataFrame()\n",
    "    results_train=pd.DataFrame()\n",
    "    \n",
    "    \n",
    "    results_test=powercurve_computation(data_test, power_curve)\n",
    "    results_train=powercurve_computation(data_train, power_curve)\n",
    "\n",
    "    return results_test, results_train"
   ]
  },
  {
   "cell_type": "code",
   "execution_count": 8,
   "id": "b3896d50",
   "metadata": {},
   "outputs": [],
   "source": [
    "def compute_results(data_test, data_train, power_curve, plot_error):\n",
    "    \n",
    "    #this function computes and plots the results of a modelling:\n",
    "\n",
    "    results_test, results_train=control_power_computation (data_test, data_train, power_curve)\n",
    "    \n",
    "    \n",
    "    print('Modelling errors for training set:')\n",
    "    errors_computation(results_train)\n",
    "    print('')\n",
    "    print('Modelling errors for test set:')\n",
    "    errors_computation(results_test)\n",
    "    print('')\n",
    "    \n",
    "    if plot_error:\n",
    "        print('')\n",
    "        error_plot(results_test, 'Error plot for test set wind speed')\n",
    "\n",
    "    print('')\n",
    "    return print('Showing the results of the modelling: ')"
   ]
  },
  {
   "cell_type": "code",
   "execution_count": 9,
   "id": "425f25d5",
   "metadata": {},
   "outputs": [],
   "source": [
    "def compute_results1(data_test, data_train, power_curve, plot_error):\n",
    "    \n",
    "    #this function computes and plots the results of a modelling:\n",
    "\n",
    "    results_test, results_train=control_power_computation (data_test, data_train, power_curve)\n",
    "    \n",
    "    \n",
    "    print('Modelling errors for training set:')\n",
    "    errors_computation(results_train)\n",
    "    print('')\n",
    "    print('Modelling errors for test set:')\n",
    "    errors_computation(results_test)\n",
    "    print('')\n",
    "    print('Modelling errors in AEP terms for test set')\n",
    "    data=AEP_computation(results_test, power_curve)\n",
    "    \n",
    "    if plot_error:\n",
    "        print('')\n",
    "        error_plot(results_test, 'Error plot for test set wind speed')\n",
    "\n",
    "    print('')\n",
    "    print('Showing the results of the modelling: ')\n",
    "    return data"
   ]
  },
  {
   "cell_type": "code",
   "execution_count": 10,
   "id": "1e402b2b",
   "metadata": {},
   "outputs": [],
   "source": [
    "def AEP_computation(data, power_curve):\n",
    "    \n",
    "    #binning the WS_Pred\n",
    "    data['WS_pred_bin']=pd.cut(data['WS_pred'],\n",
    "                                       bins=list(np.arange(-0.25,28.0,0.5)),\n",
    "                                                 labels=list(np.arange(0.0,28.0,0.5)))\n",
    "\n",
    "        \n",
    "    #creating the AEP (Annual Energy Production table)\n",
    "        \n",
    "    AEP_table=pd.DataFrame()\n",
    "    \n",
    "    AEP_table['WS']=PC['Wind Speed [m/s]']\n",
    "    AEP_table['WPC']=PC['Warranted Power Curve [kW]']\n",
    "    AEP_table.set_index('WS', inplace=True)\n",
    "    AEP_table['MPC_SC']=data.groupby('WS_pred_bin', as_index=True)['P'].mean()\n",
    "\n",
    "    #puedo rellenar los NaN de MPC_SC copiando lo que tendría que ser: WPC\n",
    "    \n",
    "#     for i in AEP_table.index:\n",
    "#         if math.isnan(AEP_table.at[i, 'MPC_SC']):\n",
    "#             AEP_table.at[i, 'MPC_SC']=AEP_table.at[i, 'WPC']\n",
    "    \n",
    "    AEP_table['WSAD']=power_curve['Wind Speed Distribution [Hr/Year]']\n",
    "    \n",
    "    #o igual aquí tendría que cortar la tabla para NaN values\n",
    "    \n",
    "#     AEP_table=AEP_table.dropna()\n",
    "    \n",
    "    AEP_table['WAEP']=AEP_table['WPC']*AEP_table['WSAD']\n",
    "    AEP_table['MAEP_SC']=AEP_table['MPC_SC']*AEP_table['WSAD']\n",
    "    \n",
    "    #computing the metrics for later printing\n",
    "    \n",
    "    MAEP_SC=AEP_table['MAEP_SC'].sum()\n",
    "    WAEP=AEP_table['WAEP'].sum()\n",
    "    AEP_perc=(MAEP_SC/WAEP)*100\n",
    "    AEP_diff=(MAEP_SC-WAEP)/1000\n",
    "    \n",
    "    #printing the results\n",
    "\n",
    "    print('')\n",
    "    print('The computed AEP_table is: ')\n",
    "    AEP_table(AEP_table)\n",
    "    print('')\n",
    "    print('The AEP% of the Site Calibration is: ', round(AEP_perc, 3), '%')\n",
    "    print('')\n",
    "    print('The AEP difference of the Site Calibration is: ', round(AEP_diff, 3), 'MWh')\n",
    "    print('')\n",
    "    AEP_plot(data, AEP_table)                                \n",
    "    \n",
    "    \n",
    "    return data"
   ]
  },
  {
   "cell_type": "code",
   "execution_count": 11,
   "id": "9d2a1da9",
   "metadata": {},
   "outputs": [],
   "source": [
    "def AEP_plot(data, AEP_table):\n",
    "    \n",
    "    #data is expected to contain: Target, WS_pred, P, P_pred\n",
    "    #AEP_table is expected to contain: WS, WPC, MPC-SC\n",
    "\n",
    "    #plotting the Power curves\n",
    "    plt.figure(figsize=(10,6))\n",
    "    plt.plot(data['WS_pred'], data['P'], marker='o', ls='', label='measured scatter', markersize=5, alpha=.1)\n",
    "    plt.plot(AEP_table.index, AEP_table['WPC'], marker='o', color='black', linewidth=0.5, label='WPC', markersize=5)\n",
    "    plt.plot(AEP_table.index, AEP_table['MPC_SC'], marker='o', color='red', linewidth=0.5, label='MPC-SC', markersize=5)\n",
    "\n",
    "\n",
    "    plt.legend()\n",
    "\n",
    "    ax=plt.gca()\n",
    "    ax.set(ylabel='Power interpolated with WPC and Target WS (kW)', xlabel='Predicted Wind Speed (m/s)');\n",
    "    ax.set_title('Site Calibration Power Curve')\n",
    "    ax.set_xlim(xmin=0, xmax=20)\n",
    "#     ax.set_xlim(xmin=0, xmax=27.5)\n",
    "    \n",
    "    return print('Error plot performed')"
   ]
  },
  {
   "cell_type": "code",
   "execution_count": 12,
   "id": "8dfd0676",
   "metadata": {},
   "outputs": [],
   "source": [
    "def AEP_table(AEP_table):\n",
    "    \n",
    "    #AEP_table is expected to contain: WPC, MPC_SC, WPC, WSAD, WAEP, MAEP\n",
    "    \n",
    "    WS= AEP_table.index\n",
    "    WPC=AEP_table['WPC']\n",
    "    MPC_SC=round(AEP_table['MPC_SC'],0)\n",
    "    WSAD=AEP_table['WASD']\n",
    "    WAEP=round(AEP_table['WAEP']/1000000, 3)\n",
    "    MAEP=round(AEP_table['MAEP']/1000000, 3)\n",
    "    \n",
    "\n",
    "    row_headers=None\n",
    "    column_headers=('Wind speed bin (m/s)', 'WPC (kW)', 'MPC_SC (kW)',\n",
    "                    'Annual Wind Distribution (h/year)', 'WAEP (GWh)', 'MAEP (GWh)')\n",
    "\n",
    "    rcolors = plt.cm.BuPu(np.full(len(row_headers), 0.1))\n",
    "    ccolors = plt.cm.BuPu(np.full(len(column_headers), 0.1))\n",
    "\n",
    "    l_2d=[list(WS), list(WPC), list(MPC), list(WSAD), list(WAEP), list(MAEP)]\n",
    "\n",
    "    cell_text=np.array(l_2d).T\n",
    "\n",
    "    fig, ax = plt.subplots(figsize=(12,5)) \n",
    "    ax.set_axis_off()\n",
    "\n",
    "    the_table=ax.table(cellText=cell_text,\n",
    "                      rowLabels=row_headers,\n",
    "                      rowColours=rcolors,\n",
    "                      rowLoc='right',\n",
    "                      colColours=ccolors,\n",
    "                      colLabels=column_headers,\n",
    "                      cellLoc ='center',\n",
    "                      loc='upper center',\n",
    "                      colWidths = [0.1] * 5)\n",
    "\n",
    "    ax.set_title('Annual Energy Production for Site Calibration PC', \n",
    "                 fontweight =\"bold\", fontsize=14) \n",
    "\n",
    "    the_table.auto_set_font_size(False)\n",
    "    the_table.set_fontsize(14)\n",
    "    the_table.scale(2, 2)\n",
    "    \n",
    "    return ('AEP table printed')"
   ]
  },
  {
   "cell_type": "markdown",
   "id": "71970e76",
   "metadata": {},
   "source": [
    "## Data uploading"
   ]
  },
  {
   "cell_type": "code",
   "execution_count": 13,
   "id": "3bcfb73c",
   "metadata": {},
   "outputs": [],
   "source": [
    "def uploading_csv(file_folder,file_name):\n",
    "    \n",
    "    #file folder required\n",
    "    #file name required\n",
    "    #file is expected to be in the data root: r'C:\\Users\\irgaa\\Irma\\Data'\n",
    "    #this function uploads and formats csv/txt/xlsx datasets into DataFrame\n",
    "    \n",
    "    \n",
    "    data_root=r'C:\\Users\\irgaa\\Irma\\Data'\n",
    "    data_folder=str(file_folder)\n",
    "    data_file=str(file_name)\n",
    "    \n",
    "    data_path=data_root+data_folder+data_file\n",
    "    \n",
    "    data1 = pd.read_csv(data_path)\n",
    "\n",
    "    \n",
    "    # We will save the WD_bin as the index\n",
    "    \n",
    "    return data1"
   ]
  },
  {
   "cell_type": "code",
   "execution_count": 14,
   "id": "6c5e33be",
   "metadata": {},
   "outputs": [],
   "source": [
    "#this function saves a data csv\n",
    "\n",
    "def save (data, file_folder,file_name):\n",
    "    \n",
    "    #file folder required\n",
    "    #file name required\n",
    "    #file is expected to be saved in the data root: r'C:\\Users\\irgaa\\Irma\\Data'\n",
    "    #this function saves a csv/txt/xlsx into Irma's folder\n",
    "    #the saved file will keep the columns names but not the index\n",
    "    \n",
    "    data_root=r'C:\\Users\\irgaa\\Irma\\Data'\n",
    "    data_folder=str(file_folder)\n",
    "    data_file=str(file_name)\n",
    "    \n",
    "    data_path=data_root+data_folder+data_file\n",
    "    \n",
    "    data.to_csv (data_path, index = False, header=True)\n",
    "    \n",
    "    \n",
    "    return print('file', data_file, 'saved in', data_folder, 'folder')"
   ]
  },
  {
   "cell_type": "markdown",
   "id": "ffaedaca",
   "metadata": {},
   "source": [
    "## Data selection"
   ]
  },
  {
   "cell_type": "code",
   "execution_count": 15,
   "id": "358a5d18",
   "metadata": {},
   "outputs": [],
   "source": [
    "def data_selection(X_train, X_test, inputs):\n",
    "    \n",
    "    #this function returns the columns of the training and test sets in the inputs list\n",
    "    \n",
    "    X_train1 = pd.DataFrame()\n",
    "    X_test1 = pd.DataFrame()\n",
    "    \n",
    "    \n",
    "    X_train1 = X_train[inputs]\n",
    "    X_test1 = X_test[inputs]\n",
    "\n",
    "    \n",
    "    return X_train1,X_test1"
   ]
  },
  {
   "cell_type": "code",
   "execution_count": 16,
   "id": "8fd717ae",
   "metadata": {},
   "outputs": [],
   "source": [
    "def data_drop(X_train, X_test, list_2drop):\n",
    "    \n",
    "    #this function returns the columns of the training and test sets in the inputs list\n",
    "\n",
    "    X_train1 = X_train.drop(columns=list_2drop)\n",
    "    X_test1 = X_test.drop(columns=list_2drop)\n",
    "\n",
    "    \n",
    "    \n",
    "    return X_train1,X_test1"
   ]
  },
  {
   "cell_type": "markdown",
   "id": "255c2b31",
   "metadata": {},
   "source": [
    "## Modelling"
   ]
  },
  {
   "cell_type": "markdown",
   "id": "c983f849",
   "metadata": {},
   "source": [
    "### Modelling XGBoost"
   ]
  },
  {
   "cell_type": "code",
   "execution_count": 17,
   "id": "c827782a",
   "metadata": {},
   "outputs": [],
   "source": [
    "def modelling_XGBoost (X, X_test, y, y_test, power_curve,  parameters, plot_error, plot):\n",
    "    \n",
    "    #creating the model\n",
    "    max_depth=parameters['max_depth']\n",
    "    n_estimators=parameters['n_estimators']\n",
    "    learning_rate=parameters['learning_rate']\n",
    "    subsample=parameters['subsample']\n",
    "    colsample_bytree=parameters['colsample_bytree']\n",
    "    min_child_weight=parameters['min_child_weight']\n",
    "    gamma=parameters['gamma']\n",
    "    reg_lambda=parameters['reg_lambda']\n",
    "    \n",
    " \n",
    "    model = xgb.XGBRegressor(max_depth=max_depth, n_estimators=n_estimators, random_state=42,\n",
    "                               objective='reg:squarederror', booster='gbtree', learning_rate=learning_rate,\n",
    "                               subsample=subsample, colsample_bytree=colsample_bytree,\n",
    "                             min_child_weight=min_child_weight, reg_lambda=reg_lambda)\n",
    "                               \n",
    "    #model fitting\n",
    "    model.fit(X_train, y_train)\n",
    "        \n",
    "    \n",
    "    #model predicting\n",
    "    y_pred_test=model.predict(X_test)\n",
    "    y_pred_train=model.predict(X_train)\n",
    "    \n",
    "    test=pd.DataFrame(y_pred_test, columns = ['test'])\n",
    "    train=pd.DataFrame(y_pred_train, columns = ['train'])\n",
    "    \n",
    "    \n",
    "\n",
    "    #computing the results\n",
    "    data_test = pd.DataFrame()\n",
    "    data_train = pd.DataFrame()\n",
    "    \n",
    "    data_test['WS_pred']=test['test']\n",
    "    data_test['Target']=y_test['Target']\n",
    "    data_train['WS_pred']=train['train']\n",
    "    data_train['Target']=y['Target']\n",
    "    \n",
    "    \n",
    "    data=compute_results(data_test, data_train, power_curve, plot_error)\n",
    "    print('XGBoost modelling performed')\n",
    "    \n",
    "    return model"
   ]
  },
  {
   "cell_type": "markdown",
   "id": "ff27c77a",
   "metadata": {},
   "source": [
    "### Grid Search XGBoost"
   ]
  },
  {
   "cell_type": "code",
   "execution_count": 18,
   "id": "aab34987",
   "metadata": {},
   "outputs": [],
   "source": [
    "def GridSearch_XGBoost (X, X_test, y, y_test, power_curve, parameters, param_grid, plot_error):\n",
    "    \n",
    "    \n",
    "    #counting the runing time\n",
    "    start_time = time.time()\n",
    "    \n",
    "    #creating the model\n",
    "    max_depth=parameters['max_depth']\n",
    "    n_estimators=parameters['n_estimators']\n",
    "    learning_rate=parameters['learning_rate']\n",
    "    subsample=parameters['subsample']\n",
    "    colsample_bytree=parameters['colsample_bytree']\n",
    "    min_child_weight=parameters['min_child_weight']\n",
    "    gamma=parameters['gamma']\n",
    "    reg_lambda=parameters['reg_lambda']\n",
    "    \n",
    "    #creating the model\n",
    "    xgbr = xgb.XGBRegressor(max_depth=max_depth, n_estimators=n_estimators, random_state=42,\n",
    "                           objective='reg:squarederror', booster='gbtree', learning_rate=learning_rate,\n",
    "                           subsample=subsample, colsample_bytree=colsample_bytree,\n",
    "                         min_child_weight=min_child_weight, gamma=gamma, reg_lambda=reg_lambda)\n",
    "    \n",
    "    \n",
    "    \n",
    "    #Grid Search CV\n",
    "    clf = GridSearchCV(estimator=xgbr, \n",
    "                             param_grid=param_grid,\n",
    "                             cv=4,\n",
    "                             scoring='neg_mean_squared_error',\n",
    "                             verbose=1) \n",
    "    \n",
    "        \n",
    "    #model fitting\n",
    "    clf.fit(X_train, y_train)\n",
    "    \n",
    "    \n",
    "    #model predicting\n",
    "    \n",
    "    y_pred_test=clf.predict(X_test)\n",
    "    y_pred_train=clf.predict(X_train)\n",
    "    \n",
    "    test=pd.DataFrame(y_pred_test, columns = ['test'])\n",
    "    train=pd.DataFrame(y_pred_train, columns = ['train'])\n",
    "    \n",
    "    print('')\n",
    "    print('Best parameters :')\n",
    "    print(clf.best_params_)\n",
    "    print('')\n",
    "\n",
    "    #computing the results\n",
    "    data_test = pd.DataFrame()\n",
    "    data_train = pd.DataFrame()\n",
    "    \n",
    "    data_test['WS_pred']=test['test']\n",
    "    data_test['Target']=y_test['Target']\n",
    "    data_train['WS_pred']=train['train']\n",
    "    data_train['Target']=y['Target']\n",
    "    \n",
    "    compute_results(data_test, data_train, power_curve, plot_error)\n",
    "    print('GridSearch_ XGBoost performed')\n",
    "    print(\"--- %s minutes ---\" % ((time.time() - start_time)/60))\n",
    "    print('')\n",
    "    print('Lowest RMSE: ', (-clf.best_score_)**(1/2.0))\n",
    "    \n",
    "    \n",
    "    \n",
    "    return clf"
   ]
  },
  {
   "cell_type": "markdown",
   "id": "19c283c5",
   "metadata": {},
   "source": [
    "### Random Search XGBoost"
   ]
  },
  {
   "cell_type": "code",
   "execution_count": 19,
   "id": "2c6cd04a",
   "metadata": {},
   "outputs": [],
   "source": [
    "def RandomSearch_XGBoost(X, X_test, y, y_test, power_curve, param_distribs, plot_error):\n",
    "    \n",
    "    #counting the runing time\n",
    "    start_time = time.time()\n",
    "    \n",
    "    \n",
    "    #creating the model\n",
    "    xgbr = xgb.XGBRegressor(random_state=42)\n",
    "    \n",
    "    #Random Search CV\n",
    "    clf = RandomizedSearchCV(estimator=xgbr, \n",
    "                             param_distributions=param_distribs,\n",
    "                             cv=4,\n",
    "                             scoring='neg_mean_squared_error',\n",
    "                             n_iter=25,\n",
    "                             verbose=1) \n",
    "    \n",
    "    \n",
    "    #model fitting\n",
    "    clf.fit(X_train, y_train)\n",
    "    \n",
    "    \n",
    "    #model predicting\n",
    "    \n",
    "    y_pred_test=clf.predict(X_test)\n",
    "    y_pred_train=clf.predict(X_train)\n",
    "    \n",
    "    test=pd.DataFrame(y_pred_test, columns = ['test'])\n",
    "    train=pd.DataFrame(y_pred_train, columns = ['train'])\n",
    "    \n",
    "    print('')\n",
    "    print('Best parameters :')\n",
    "    print(clf.best_params_)\n",
    "    print('')\n",
    "\n",
    "    #computing the results\n",
    "    data_test = pd.DataFrame()\n",
    "    data_train = pd.DataFrame()\n",
    "    \n",
    "    data_test['WS_pred']=test['test']\n",
    "    data_test['Target']=y_test['Target']\n",
    "    data_train['WS_pred']=train['train']\n",
    "    data_train['Target']=y['Target']\n",
    "    \n",
    "    compute_results(data_test, data_train, power_curve, plot_error)\n",
    "    print('RandomSearch_ XGBoost performed')\n",
    "    print(\"--- %s minutes ---\" % ((time.time() - start_time)/60))\n",
    "    print('')\n",
    "    print('Lowest RMSE: ', (-clf.best_score_)**(1/2.0))\n",
    "    \n",
    "    return clf\n",
    "    "
   ]
  },
  {
   "cell_type": "markdown",
   "id": "54004cbb",
   "metadata": {},
   "source": [
    "### Model Testing"
   ]
  },
  {
   "cell_type": "code",
   "execution_count": 20,
   "id": "0bfe8458",
   "metadata": {},
   "outputs": [],
   "source": [
    "def model_testing (X_train, X_test, y_train, y_test, power_curve, model, plot_error):\n",
    "\n",
    "    \n",
    "\n",
    "    y_pred_test=model.predict(X_test)\n",
    "    y_pred_train=model.predict(X_train)\n",
    "    \n",
    "    test=pd.DataFrame(y_pred_test, columns = ['test'])\n",
    "    train=pd.DataFrame(y_pred_train, columns = ['train'])\n",
    "\n",
    "\n",
    "    data_test = pd.DataFrame()\n",
    "    data_train = pd.DataFrame()\n",
    "    \n",
    "    data_test['WS_pred']=test['test']\n",
    "    data_test['Target']=y_test['Target']\n",
    "    data_train['WS_pred']=train['train']\n",
    "    data_train['Target']=y_train['Target']\n",
    "        \n",
    "    \n",
    "    compute_results(data_test, data_train, power_curve, plot_error)\n",
    "    \n",
    "    WS_pred=data_test['WS_pred']\n",
    "    print('XGBoost results performed')\n",
    "    \n",
    "    return WS_pred"
   ]
  },
  {
   "cell_type": "markdown",
   "id": "6724a96a",
   "metadata": {},
   "source": [
    "### Feature importance"
   ]
  },
  {
   "cell_type": "code",
   "execution_count": 21,
   "id": "51189ccd",
   "metadata": {},
   "outputs": [],
   "source": [
    "def feature_importance (X_train, X_test, model):\n",
    "    \n",
    "    X_t, X_f, y_t, y_f = train_test_split(X_train,y_train, test_size=0.02, random_state=12)\n",
    "    \n",
    "    background = X_f.copy()\n",
    "    \n",
    "    explainer = shap.TreeExplainer(model)\n",
    "    shap_values = explainer.shap_values(X_test)\n",
    "    shap_obj=explainer(X_test)\n",
    "    shap.summary_plot(shap_values, X_train, plot_type=\"bar\")\n",
    "    shap.plots.beeswarm(shap_obj)\n",
    "    \n",
    "    \n",
    "    shap_v=pd.DataFrame(shap_values)\n",
    "    feature_list=X_test.columns\n",
    "    shap_v.columns=feature_list\n",
    "    shap_v=shap_v.abs()\n",
    "    k=pd.DataFrame(shap_v.mean()).reset_index()\n",
    "    k.columns=['variables','SHAP_abs']\n",
    "    k.sort_values(by='variables')\n",
    "    \n",
    "    \n",
    "    \n",
    "    print('Feature importance through SHAP values performed')\n",
    "    \n",
    "    return k"
   ]
  },
  {
   "cell_type": "markdown",
   "id": "880d0819",
   "metadata": {},
   "source": [
    "# Data analysis"
   ]
  },
  {
   "cell_type": "markdown",
   "id": "ff0fec4a",
   "metadata": {},
   "source": [
    "## Dataset1"
   ]
  },
  {
   "cell_type": "code",
   "execution_count": 22,
   "id": "c3f2c12c",
   "metadata": {
    "scrolled": true
   },
   "outputs": [
    {
     "data": {
      "text/plain": [
       "Index(['T2', 'RH2', 'T1', 'RH1', 'PR1', 'AD1', 'PR2', 'AD2', 'Rain', 'WS1',\n",
       "       'WS3', 'WS4', 'WD1', 'WD3', 'WD4', 'WSHor', 'WDHor', 'WSVer', 'WDVer',\n",
       "       'TI', 'WSH', 'WD_bin', 'tod', 'WVeer'],\n",
       "      dtype='object')"
      ]
     },
     "execution_count": 22,
     "metadata": {},
     "output_type": "execute_result"
    }
   ],
   "source": [
    "#upload the dataset with file_folder, file_name\n",
    "# data_up= uploading_csv('\\Dataset1-Normal_Site','\\data_comp14.csv')\n",
    "X_train= uploading_csv('\\General','\\X_train1.csv')\n",
    "X_test= uploading_csv('\\General','\\X_test14.csv')\n",
    "y_train= uploading_csv('\\General','\\y_train1.csv')\n",
    "y_test= uploading_csv('\\General','\\y_test14.csv')\n",
    "\n",
    "\n",
    "X_test.keys()"
   ]
  },
  {
   "cell_type": "code",
   "execution_count": 23,
   "id": "d85cae8e",
   "metadata": {},
   "outputs": [
    {
     "data": {
      "text/html": [
       "<div>\n",
       "<style scoped>\n",
       "    .dataframe tbody tr th:only-of-type {\n",
       "        vertical-align: middle;\n",
       "    }\n",
       "\n",
       "    .dataframe tbody tr th {\n",
       "        vertical-align: top;\n",
       "    }\n",
       "\n",
       "    .dataframe thead th {\n",
       "        text-align: right;\n",
       "    }\n",
       "</style>\n",
       "<table border=\"1\" class=\"dataframe\">\n",
       "  <thead>\n",
       "    <tr style=\"text-align: right;\">\n",
       "      <th></th>\n",
       "      <th>Target</th>\n",
       "    </tr>\n",
       "  </thead>\n",
       "  <tbody>\n",
       "    <tr>\n",
       "      <th>0</th>\n",
       "      <td>8.476700</td>\n",
       "    </tr>\n",
       "    <tr>\n",
       "      <th>1</th>\n",
       "      <td>10.447586</td>\n",
       "    </tr>\n",
       "    <tr>\n",
       "      <th>2</th>\n",
       "      <td>8.664361</td>\n",
       "    </tr>\n",
       "    <tr>\n",
       "      <th>3</th>\n",
       "      <td>9.912774</td>\n",
       "    </tr>\n",
       "    <tr>\n",
       "      <th>4</th>\n",
       "      <td>9.596844</td>\n",
       "    </tr>\n",
       "    <tr>\n",
       "      <th>...</th>\n",
       "      <td>...</td>\n",
       "    </tr>\n",
       "    <tr>\n",
       "      <th>1289</th>\n",
       "      <td>7.825251</td>\n",
       "    </tr>\n",
       "    <tr>\n",
       "      <th>1290</th>\n",
       "      <td>8.458561</td>\n",
       "    </tr>\n",
       "    <tr>\n",
       "      <th>1291</th>\n",
       "      <td>5.542412</td>\n",
       "    </tr>\n",
       "    <tr>\n",
       "      <th>1292</th>\n",
       "      <td>10.032777</td>\n",
       "    </tr>\n",
       "    <tr>\n",
       "      <th>1293</th>\n",
       "      <td>8.144395</td>\n",
       "    </tr>\n",
       "  </tbody>\n",
       "</table>\n",
       "<p>1294 rows × 1 columns</p>\n",
       "</div>"
      ],
      "text/plain": [
       "         Target\n",
       "0      8.476700\n",
       "1     10.447586\n",
       "2      8.664361\n",
       "3      9.912774\n",
       "4      9.596844\n",
       "...         ...\n",
       "1289   7.825251\n",
       "1290   8.458561\n",
       "1291   5.542412\n",
       "1292  10.032777\n",
       "1293   8.144395\n",
       "\n",
       "[1294 rows x 1 columns]"
      ]
     },
     "execution_count": 23,
     "metadata": {},
     "output_type": "execute_result"
    }
   ],
   "source": [
    "y_test"
   ]
  },
  {
   "cell_type": "code",
   "execution_count": 24,
   "id": "6d0a26d9",
   "metadata": {},
   "outputs": [
    {
     "data": {
      "text/plain": [
       "Index(['Target'], dtype='object')"
      ]
     },
     "execution_count": 24,
     "metadata": {},
     "output_type": "execute_result"
    }
   ],
   "source": [
    "y_test.keys()"
   ]
  },
  {
   "cell_type": "code",
   "execution_count": 25,
   "id": "db055157",
   "metadata": {},
   "outputs": [],
   "source": [
    "PC= uploading_csv('\\Dataset1-Normal_Site','\\PC_1.15kgm-3.csv')"
   ]
  },
  {
   "cell_type": "markdown",
   "id": "a2277287",
   "metadata": {},
   "source": [
    "### Grid Search"
   ]
  },
  {
   "cell_type": "code",
   "execution_count": 49,
   "id": "bb5f3206",
   "metadata": {},
   "outputs": [],
   "source": [
    "#doing"
   ]
  },
  {
   "cell_type": "code",
   "execution_count": 50,
   "id": "65ef4109",
   "metadata": {},
   "outputs": [],
   "source": [
    "parameters={\n",
    "    'max_depth':5,\n",
    "    'n_estimators': 1000,\n",
    "    'learning_rate':0.1,\n",
    "    'subsample':0.8,\n",
    "    'colsample_bytree':0.8,\n",
    "    'min_child_weight':1,\n",
    "    'gamma':0,\n",
    "    'reg_lambda':1,\n",
    "}"
   ]
  },
  {
   "cell_type": "code",
   "execution_count": 51,
   "id": "a7ad6bbf",
   "metadata": {},
   "outputs": [],
   "source": [
    "param_grid={\n",
    "    'n_estimators': [100, 200, 300, 400, 500, 600, 700, 800, 900, 1000],\n",
    "}"
   ]
  },
  {
   "cell_type": "code",
   "execution_count": 52,
   "id": "224e052b",
   "metadata": {
    "scrolled": true
   },
   "outputs": [
    {
     "name": "stdout",
     "output_type": "stream",
     "text": [
      "Fitting 4 folds for each of 10 candidates, totalling 40 fits\n",
      "\n",
      "Best parameters :\n",
      "{'n_estimators': 200}\n",
      "\n",
      "power curve computation performed\n",
      "power curve computation performed\n",
      "Modelling errors for training set:\n",
      "Wind RMSE:  0.333 m/s as root mean\n",
      "Wind MAE:  0.255 m/s in avg\n",
      "Wind MAPE:  3.062 %\n",
      "Power RMSE:  157.216 kW as root mean\n",
      "Power MAE:  99.476 kW in avg\n",
      "Power MAPE:  7.15 %\n",
      "\n",
      "Modelling errors for test set:\n",
      "Wind RMSE:  0.397 m/s as root mean\n",
      "Wind MAE:  0.308 m/s in avg\n",
      "Wind MAPE:  3.562 %\n",
      "Power RMSE:  176.958 kW as root mean\n",
      "Power MAE:  110.319 kW in avg\n",
      "Power MAPE:  7.719 %\n",
      "\n",
      "\n",
      "Showing the results of the modelling: \n",
      "GridSearch_ XGBoost performed\n",
      "--- 5.194095158576966 minutes ---\n",
      "\n",
      "Lowest RMSE:  0.48163921936001536\n"
     ]
    },
    {
     "data": {
      "text/plain": [
       "GridSearchCV(cv=4,\n",
       "             estimator=XGBRegressor(base_score=None, booster='gbtree',\n",
       "                                    colsample_bylevel=None,\n",
       "                                    colsample_bynode=None, colsample_bytree=0.8,\n",
       "                                    gamma=0, gpu_id=None,\n",
       "                                    importance_type='gain',\n",
       "                                    interaction_constraints=None,\n",
       "                                    learning_rate=0.1, max_delta_step=None,\n",
       "                                    max_depth=5, min_child_weight=1,\n",
       "                                    missing=nan, monotone_constraints=None,\n",
       "                                    n_estimators=1000, n_jobs=None,\n",
       "                                    num_parallel_tree=None, random_state=42,\n",
       "                                    reg_alpha=None, reg_lambda=1,\n",
       "                                    scale_pos_weight=None, subsample=0.8,\n",
       "                                    tree_method=None, validate_parameters=None,\n",
       "                                    verbosity=None),\n",
       "             param_grid={'n_estimators': [100, 200, 300, 400, 500, 600, 700,\n",
       "                                          800, 900, 1000]},\n",
       "             scoring='neg_mean_squared_error', verbose=1)"
      ]
     },
     "execution_count": 52,
     "metadata": {},
     "output_type": "execute_result"
    }
   ],
   "source": [
    " GridSearch_XGBoost (X_train, X_test, y_train, y_test, PC, parameters, param_grid, plot_error=False)"
   ]
  },
  {
   "cell_type": "code",
   "execution_count": 53,
   "id": "39eae40f",
   "metadata": {},
   "outputs": [],
   "source": [
    "parameters={\n",
    "    'max_depth':5,\n",
    "    'n_estimators': 200,\n",
    "    'learning_rate':0.1,\n",
    "    'subsample':0.8,\n",
    "    'colsample_bytree':0.8,\n",
    "    'min_child_weight':1,\n",
    "    'gamma':0,\n",
    "    'reg_lambda':1,\n",
    "}"
   ]
  },
  {
   "cell_type": "code",
   "execution_count": 54,
   "id": "9e8b4fe1",
   "metadata": {},
   "outputs": [],
   "source": [
    "param_grid={\n",
    "    'max_depth': [3, 4, 5, 6, 10, 15, 20],\n",
    "    'min_child_weight': [1, 2, 3, 6, 10]\n",
    "}"
   ]
  },
  {
   "cell_type": "code",
   "execution_count": 55,
   "id": "de8bab35",
   "metadata": {
    "scrolled": true
   },
   "outputs": [
    {
     "name": "stdout",
     "output_type": "stream",
     "text": [
      "Fitting 4 folds for each of 35 candidates, totalling 140 fits\n",
      "\n",
      "Best parameters :\n",
      "{'max_depth': 5, 'min_child_weight': 10}\n",
      "\n",
      "power curve computation performed\n",
      "power curve computation performed\n",
      "Modelling errors for training set:\n",
      "Wind RMSE:  0.344 m/s as root mean\n",
      "Wind MAE:  0.262 m/s in avg\n",
      "Wind MAPE:  3.161 %\n",
      "Power RMSE:  161.924 kW as root mean\n",
      "Power MAE:  102.263 kW in avg\n",
      "Power MAPE:  7.417 %\n",
      "\n",
      "Modelling errors for test set:\n",
      "Wind RMSE:  0.389 m/s as root mean\n",
      "Wind MAE:  0.304 m/s in avg\n",
      "Wind MAPE:  3.498 %\n",
      "Power RMSE:  173.515 kW as root mean\n",
      "Power MAE:  109.111 kW in avg\n",
      "Power MAPE:  7.491 %\n",
      "\n",
      "\n",
      "Showing the results of the modelling: \n",
      "GridSearch_ XGBoost performed\n",
      "--- 18.011303718884786 minutes ---\n",
      "\n",
      "Lowest RMSE:  0.47759606601000154\n"
     ]
    },
    {
     "data": {
      "text/plain": [
       "GridSearchCV(cv=4,\n",
       "             estimator=XGBRegressor(base_score=None, booster='gbtree',\n",
       "                                    colsample_bylevel=None,\n",
       "                                    colsample_bynode=None, colsample_bytree=0.8,\n",
       "                                    gamma=0, gpu_id=None,\n",
       "                                    importance_type='gain',\n",
       "                                    interaction_constraints=None,\n",
       "                                    learning_rate=0.1, max_delta_step=None,\n",
       "                                    max_depth=5, min_child_weight=1,\n",
       "                                    missing=nan, monotone_constraints=None,\n",
       "                                    n_estimators=200, n_jobs=None,\n",
       "                                    num_parallel_tree=None, random_state=42,\n",
       "                                    reg_alpha=None, reg_lambda=1,\n",
       "                                    scale_pos_weight=None, subsample=0.8,\n",
       "                                    tree_method=None, validate_parameters=None,\n",
       "                                    verbosity=None),\n",
       "             param_grid={'max_depth': [3, 4, 5, 6, 10, 15, 20],\n",
       "                         'min_child_weight': [1, 2, 3, 6, 10]},\n",
       "             scoring='neg_mean_squared_error', verbose=1)"
      ]
     },
     "execution_count": 55,
     "metadata": {},
     "output_type": "execute_result"
    }
   ],
   "source": [
    "GridSearch_XGBoost (X_train, X_test, y_train, y_test, PC, parameters, param_grid, plot_error=False)"
   ]
  },
  {
   "cell_type": "code",
   "execution_count": 56,
   "id": "0dbafa9e",
   "metadata": {},
   "outputs": [],
   "source": [
    "parameters={\n",
    "    'max_depth':5,\n",
    "    'n_estimators': 200,\n",
    "    'learning_rate':0.1,\n",
    "    'subsample':0.8,\n",
    "    'colsample_bytree':0.8,\n",
    "    'min_child_weight':10,\n",
    "    'gamma':0,\n",
    "    'reg_lambda':1,\n",
    "}"
   ]
  },
  {
   "cell_type": "code",
   "execution_count": 57,
   "id": "59bd2be3",
   "metadata": {},
   "outputs": [],
   "source": [
    "param_grid={\n",
    "    'gamma': [0, 0.1, 0.2, 0.3, 0.4, 0.5]\n",
    "}"
   ]
  },
  {
   "cell_type": "code",
   "execution_count": 58,
   "id": "0da9c6da",
   "metadata": {
    "scrolled": true
   },
   "outputs": [
    {
     "name": "stdout",
     "output_type": "stream",
     "text": [
      "Fitting 4 folds for each of 6 candidates, totalling 24 fits\n",
      "\n",
      "Best parameters :\n",
      "{'gamma': 0.4}\n",
      "\n",
      "power curve computation performed\n",
      "power curve computation performed\n",
      "Modelling errors for training set:\n",
      "Wind RMSE:  0.346 m/s as root mean\n",
      "Wind MAE:  0.264 m/s in avg\n",
      "Wind MAPE:  3.179 %\n",
      "Power RMSE:  162.822 kW as root mean\n",
      "Power MAE:  102.751 kW in avg\n",
      "Power MAPE:  7.454 %\n",
      "\n",
      "Modelling errors for test set:\n",
      "Wind RMSE:  0.39 m/s as root mean\n",
      "Wind MAE:  0.304 m/s in avg\n",
      "Wind MAPE:  3.526 %\n",
      "Power RMSE:  175.374 kW as root mean\n",
      "Power MAE:  110.031 kW in avg\n",
      "Power MAPE:  7.661 %\n",
      "\n",
      "\n",
      "Showing the results of the modelling: \n",
      "GridSearch_ XGBoost performed\n",
      "--- 1.0888718247413636 minutes ---\n",
      "\n",
      "Lowest RMSE:  0.47666355647084435\n"
     ]
    },
    {
     "data": {
      "text/plain": [
       "GridSearchCV(cv=4,\n",
       "             estimator=XGBRegressor(base_score=None, booster='gbtree',\n",
       "                                    colsample_bylevel=None,\n",
       "                                    colsample_bynode=None, colsample_bytree=0.8,\n",
       "                                    gamma=0, gpu_id=None,\n",
       "                                    importance_type='gain',\n",
       "                                    interaction_constraints=None,\n",
       "                                    learning_rate=0.1, max_delta_step=None,\n",
       "                                    max_depth=5, min_child_weight=10,\n",
       "                                    missing=nan, monotone_constraints=None,\n",
       "                                    n_estimators=200, n_jobs=None,\n",
       "                                    num_parallel_tree=None, random_state=42,\n",
       "                                    reg_alpha=None, reg_lambda=1,\n",
       "                                    scale_pos_weight=None, subsample=0.8,\n",
       "                                    tree_method=None, validate_parameters=None,\n",
       "                                    verbosity=None),\n",
       "             param_grid={'gamma': [0, 0.1, 0.2, 0.3, 0.4, 0.5]},\n",
       "             scoring='neg_mean_squared_error', verbose=1)"
      ]
     },
     "execution_count": 58,
     "metadata": {},
     "output_type": "execute_result"
    }
   ],
   "source": [
    "GridSearch_XGBoost (X_train, X_test, y_train, y_test, PC, parameters, param_grid, plot_error=False)"
   ]
  },
  {
   "cell_type": "code",
   "execution_count": 59,
   "id": "db6eddd5",
   "metadata": {},
   "outputs": [],
   "source": [
    "parameters={\n",
    "    'max_depth':5,\n",
    "    'n_estimators': 200,\n",
    "    'learning_rate':0.1,\n",
    "    'subsample':0.8,\n",
    "    'colsample_bytree':0.8,\n",
    "    'min_child_weight':10,\n",
    "    'gamma':0.4,\n",
    "    'reg_lambda':1,\n",
    "}"
   ]
  },
  {
   "cell_type": "code",
   "execution_count": 60,
   "id": "cfdbd3b1",
   "metadata": {},
   "outputs": [],
   "source": [
    "param_grid={\n",
    "    'subsample': [0.4, 0.5, 0.6, 0.7, 0.8, 0.9, 1],\n",
    "    'colsample_bytree': [0.4, 0.5, 0.6, 0.7, 0.8, 0.9, 1]\n",
    "}"
   ]
  },
  {
   "cell_type": "code",
   "execution_count": 61,
   "id": "ac924ae6",
   "metadata": {
    "scrolled": true
   },
   "outputs": [
    {
     "name": "stdout",
     "output_type": "stream",
     "text": [
      "Fitting 4 folds for each of 49 candidates, totalling 196 fits\n",
      "\n",
      "Best parameters :\n",
      "{'colsample_bytree': 0.8, 'subsample': 0.8}\n",
      "\n",
      "power curve computation performed\n",
      "power curve computation performed\n",
      "Modelling errors for training set:\n",
      "Wind RMSE:  0.346 m/s as root mean\n",
      "Wind MAE:  0.264 m/s in avg\n",
      "Wind MAPE:  3.179 %\n",
      "Power RMSE:  162.822 kW as root mean\n",
      "Power MAE:  102.751 kW in avg\n",
      "Power MAPE:  7.454 %\n",
      "\n",
      "Modelling errors for test set:\n",
      "Wind RMSE:  0.39 m/s as root mean\n",
      "Wind MAE:  0.304 m/s in avg\n",
      "Wind MAPE:  3.526 %\n",
      "Power RMSE:  175.374 kW as root mean\n",
      "Power MAE:  110.031 kW in avg\n",
      "Power MAPE:  7.661 %\n",
      "\n",
      "\n",
      "Showing the results of the modelling: \n",
      "GridSearch_ XGBoost performed\n",
      "--- 9.23844188451767 minutes ---\n",
      "\n",
      "Lowest RMSE:  0.47666355647084435\n"
     ]
    },
    {
     "data": {
      "text/plain": [
       "GridSearchCV(cv=4,\n",
       "             estimator=XGBRegressor(base_score=None, booster='gbtree',\n",
       "                                    colsample_bylevel=None,\n",
       "                                    colsample_bynode=None, colsample_bytree=0.8,\n",
       "                                    gamma=0.4, gpu_id=None,\n",
       "                                    importance_type='gain',\n",
       "                                    interaction_constraints=None,\n",
       "                                    learning_rate=0.1, max_delta_step=None,\n",
       "                                    max_depth=5, min_child_weight=10,\n",
       "                                    missing=nan, monotone_constraints=None,\n",
       "                                    n_estimators=200, n_jobs=None,\n",
       "                                    num_parallel_tree=None, random_state=42,\n",
       "                                    reg_alpha=None, reg_lambda=1,\n",
       "                                    scale_pos_weight=None, subsample=0.8,\n",
       "                                    tree_method=None, validate_parameters=None,\n",
       "                                    verbosity=None),\n",
       "             param_grid={'colsample_bytree': [0.4, 0.5, 0.6, 0.7, 0.8, 0.9, 1],\n",
       "                         'subsample': [0.4, 0.5, 0.6, 0.7, 0.8, 0.9, 1]},\n",
       "             scoring='neg_mean_squared_error', verbose=1)"
      ]
     },
     "execution_count": 61,
     "metadata": {},
     "output_type": "execute_result"
    }
   ],
   "source": [
    "GridSearch_XGBoost (X_train, X_test, y_train, y_test, PC, parameters, param_grid, plot_error=False)"
   ]
  },
  {
   "cell_type": "code",
   "execution_count": 62,
   "id": "bac4cb56",
   "metadata": {},
   "outputs": [],
   "source": [
    "parameters={\n",
    "    'max_depth':5,\n",
    "    'n_estimators': 200,\n",
    "    'learning_rate':0.1,\n",
    "    'subsample':0.8,\n",
    "    'colsample_bytree':0.8,\n",
    "    'min_child_weight':10,\n",
    "    'gamma':0.4,\n",
    "    'reg_lambda':1,\n",
    "}"
   ]
  },
  {
   "cell_type": "code",
   "execution_count": 63,
   "id": "d9aeddcf",
   "metadata": {},
   "outputs": [],
   "source": [
    "param_grid={\n",
    "    'reg_lambda': [1, 10, 50, 100, 150]\n",
    "}"
   ]
  },
  {
   "cell_type": "code",
   "execution_count": 64,
   "id": "dc063115",
   "metadata": {
    "scrolled": true
   },
   "outputs": [
    {
     "name": "stdout",
     "output_type": "stream",
     "text": [
      "Fitting 4 folds for each of 5 candidates, totalling 20 fits\n",
      "\n",
      "Best parameters :\n",
      "{'reg_lambda': 1}\n",
      "\n",
      "power curve computation performed\n",
      "power curve computation performed\n",
      "Modelling errors for training set:\n",
      "Wind RMSE:  0.346 m/s as root mean\n",
      "Wind MAE:  0.264 m/s in avg\n",
      "Wind MAPE:  3.179 %\n",
      "Power RMSE:  162.822 kW as root mean\n",
      "Power MAE:  102.751 kW in avg\n",
      "Power MAPE:  7.454 %\n",
      "\n",
      "Modelling errors for test set:\n",
      "Wind RMSE:  0.39 m/s as root mean\n",
      "Wind MAE:  0.304 m/s in avg\n",
      "Wind MAPE:  3.526 %\n",
      "Power RMSE:  175.374 kW as root mean\n",
      "Power MAE:  110.031 kW in avg\n",
      "Power MAPE:  7.661 %\n",
      "\n",
      "\n",
      "Showing the results of the modelling: \n",
      "GridSearch_ XGBoost performed\n",
      "--- 1.2055770993232726 minutes ---\n",
      "\n",
      "Lowest RMSE:  0.47666355647084435\n"
     ]
    },
    {
     "data": {
      "text/plain": [
       "GridSearchCV(cv=4,\n",
       "             estimator=XGBRegressor(base_score=None, booster='gbtree',\n",
       "                                    colsample_bylevel=None,\n",
       "                                    colsample_bynode=None, colsample_bytree=0.8,\n",
       "                                    gamma=0.4, gpu_id=None,\n",
       "                                    importance_type='gain',\n",
       "                                    interaction_constraints=None,\n",
       "                                    learning_rate=0.1, max_delta_step=None,\n",
       "                                    max_depth=5, min_child_weight=10,\n",
       "                                    missing=nan, monotone_constraints=None,\n",
       "                                    n_estimators=200, n_jobs=None,\n",
       "                                    num_parallel_tree=None, random_state=42,\n",
       "                                    reg_alpha=None, reg_lambda=1,\n",
       "                                    scale_pos_weight=None, subsample=0.8,\n",
       "                                    tree_method=None, validate_parameters=None,\n",
       "                                    verbosity=None),\n",
       "             param_grid={'reg_lambda': [1, 10, 50, 100, 150]},\n",
       "             scoring='neg_mean_squared_error', verbose=1)"
      ]
     },
     "execution_count": 64,
     "metadata": {},
     "output_type": "execute_result"
    }
   ],
   "source": [
    "GridSearch_XGBoost (X_train, X_test, y_train, y_test, PC, parameters, param_grid, plot_error=False)"
   ]
  },
  {
   "cell_type": "code",
   "execution_count": 65,
   "id": "08ec8dfa",
   "metadata": {},
   "outputs": [],
   "source": [
    "parameters={\n",
    "    'max_depth':5,\n",
    "    'n_estimators': 200,\n",
    "    'learning_rate':0.1,\n",
    "    'subsample':0.8,\n",
    "    'colsample_bytree':0.8,\n",
    "    'min_child_weight':10,\n",
    "    'gamma':0.4,\n",
    "    'reg_lambda':1,\n",
    "}"
   ]
  },
  {
   "cell_type": "code",
   "execution_count": 66,
   "id": "5dd0dfe2",
   "metadata": {},
   "outputs": [],
   "source": [
    "param_grid={\n",
    "    'learning_rate': [0.001, 0.01, 0.1, 0.5],\n",
    "    'n_estimators': [800, 900, 1000, 1200, 1500, 1800, 2000]\n",
    "}"
   ]
  },
  {
   "cell_type": "code",
   "execution_count": 67,
   "id": "203c8261",
   "metadata": {
    "scrolled": true
   },
   "outputs": [
    {
     "name": "stdout",
     "output_type": "stream",
     "text": [
      "Fitting 4 folds for each of 28 candidates, totalling 112 fits\n",
      "\n",
      "Best parameters :\n",
      "{'learning_rate': 0.01, 'n_estimators': 2000}\n",
      "\n",
      "power curve computation performed\n",
      "power curve computation performed\n",
      "Modelling errors for training set:\n",
      "Wind RMSE:  0.344 m/s as root mean\n",
      "Wind MAE:  0.262 m/s in avg\n",
      "Wind MAPE:  3.157 %\n",
      "Power RMSE:  161.634 kW as root mean\n",
      "Power MAE:  102.004 kW in avg\n",
      "Power MAPE:  7.427 %\n",
      "\n",
      "Modelling errors for test set:\n",
      "Wind RMSE:  0.38 m/s as root mean\n",
      "Wind MAE:  0.299 m/s in avg\n",
      "Wind MAPE:  3.451 %\n",
      "Power RMSE:  170.828 kW as root mean\n",
      "Power MAE:  107.979 kW in avg\n",
      "Power MAPE:  7.462 %\n",
      "\n",
      "\n",
      "Showing the results of the modelling: \n",
      "GridSearch_ XGBoost performed\n",
      "--- 39.48564465443293 minutes ---\n",
      "\n",
      "Lowest RMSE:  0.4744927778444109\n"
     ]
    },
    {
     "data": {
      "text/plain": [
       "GridSearchCV(cv=4,\n",
       "             estimator=XGBRegressor(base_score=None, booster='gbtree',\n",
       "                                    colsample_bylevel=None,\n",
       "                                    colsample_bynode=None, colsample_bytree=0.8,\n",
       "                                    gamma=0.4, gpu_id=None,\n",
       "                                    importance_type='gain',\n",
       "                                    interaction_constraints=None,\n",
       "                                    learning_rate=0.1, max_delta_step=None,\n",
       "                                    max_depth=5, min_child_weight=10,\n",
       "                                    missing=nan, monotone_constraints=None,\n",
       "                                    n_estimators=200, n_jobs=None,\n",
       "                                    num_parallel_tree=None, random_state=42,\n",
       "                                    reg_alpha=None, reg_lambda=1,\n",
       "                                    scale_pos_weight=None, subsample=0.8,\n",
       "                                    tree_method=None, validate_parameters=None,\n",
       "                                    verbosity=None),\n",
       "             param_grid={'learning_rate': [0.001, 0.01, 0.1, 0.5],\n",
       "                         'n_estimators': [800, 900, 1000, 1200, 1500, 1800,\n",
       "                                          2000]},\n",
       "             scoring='neg_mean_squared_error', verbose=1)"
      ]
     },
     "execution_count": 67,
     "metadata": {},
     "output_type": "execute_result"
    }
   ],
   "source": [
    "GridSearch_XGBoost (X_train, X_test, y_train, y_test, PC, parameters, param_grid, plot_error=False)"
   ]
  },
  {
   "cell_type": "markdown",
   "id": "1b483daf",
   "metadata": {},
   "source": [
    "### Manual modelling universal hyperparameters"
   ]
  },
  {
   "cell_type": "code",
   "execution_count": null,
   "id": "dfeb6d48",
   "metadata": {},
   "outputs": [],
   "source": [
    "#universal hyperparameters"
   ]
  },
  {
   "cell_type": "code",
   "execution_count": 44,
   "id": "6541cd16",
   "metadata": {},
   "outputs": [],
   "source": [
    "parameters={\n",
    "    'max_depth':10,\n",
    "    'n_estimators': 2000,\n",
    "    'learning_rate':0.01,\n",
    "    'subsample':0.6,\n",
    "    'colsample_bytree':0.7,\n",
    "    'min_child_weight':10,\n",
    "    'gamma':0,\n",
    "    'reg_lambda':1,\n",
    "}"
   ]
  },
  {
   "cell_type": "code",
   "execution_count": 45,
   "id": "4602acc1",
   "metadata": {},
   "outputs": [],
   "source": [
    "# WTG14"
   ]
  },
  {
   "cell_type": "code",
   "execution_count": null,
   "id": "221869da",
   "metadata": {},
   "outputs": [],
   "source": [
    "#upload the dataset with file_folder, file_name\n",
    "# data_up= uploading_csv('\\Dataset1-Normal_Site','\\data_comp14.csv')\n",
    "X_train= uploading_csv('\\General','\\X_train1.csv')\n",
    "X_test= uploading_csv('\\General','\\X_test14.csv')\n",
    "y_train= uploading_csv('\\General','\\y_train1.csv')\n",
    "y_test= uploading_csv('\\General','\\y_test14.csv')\n",
    "\n",
    "X_test.keys()"
   ]
  },
  {
   "cell_type": "code",
   "execution_count": null,
   "id": "f5c1327a",
   "metadata": {},
   "outputs": [],
   "source": [
    "y_test.keys()"
   ]
  },
  {
   "cell_type": "code",
   "execution_count": null,
   "id": "523e6ddd",
   "metadata": {},
   "outputs": [],
   "source": [
    "PC= uploading_csv('\\Dataset1-Normal_Site','\\PC_1.15kgm-3.csv')"
   ]
  },
  {
   "cell_type": "code",
   "execution_count": 46,
   "id": "65369191",
   "metadata": {},
   "outputs": [
    {
     "name": "stdout",
     "output_type": "stream",
     "text": [
      "power curve computation performed\n",
      "power curve computation performed\n",
      "Modelling errors for training set:\n",
      "Wind RMSE:  0.229 m/s as root mean\n",
      "Wind MAE:  0.162 m/s in avg\n",
      "Wind MAPE:  1.943 %\n",
      "Power RMSE:  107.324 kW as root mean\n",
      "Power MAE:  63.637 kW in avg\n",
      "Power MAPE:  4.499 %\n",
      "\n",
      "Modelling errors for test set:\n",
      "Wind RMSE:  0.465 m/s as root mean\n",
      "Wind MAE:  0.349 m/s in avg\n",
      "Wind MAPE:  4.033 %\n",
      "Power RMSE:  208.451 kW as root mean\n",
      "Power MAE:  127.814 kW in avg\n",
      "Power MAPE:  8.69 %\n",
      "\n",
      "\n",
      "Showing the results of the modelling: \n",
      "XGBoost modelling performed\n"
     ]
    }
   ],
   "source": [
    "model = modelling_XGBoost (X_train, X_test, y_train, y_test, PC, parameters, plot_error=False, plot=True)"
   ]
  },
  {
   "cell_type": "code",
   "execution_count": 47,
   "id": "027e3bff",
   "metadata": {},
   "outputs": [
    {
     "name": "stdout",
     "output_type": "stream",
     "text": [
      "power curve computation performed\n",
      "power curve computation performed\n",
      "Modelling errors for training set:\n",
      "Wind RMSE:  0.229 m/s as root mean\n",
      "Wind MAE:  0.162 m/s in avg\n",
      "Wind MAPE:  1.943 %\n",
      "Power RMSE:  107.324 kW as root mean\n",
      "Power MAE:  63.637 kW in avg\n",
      "Power MAPE:  4.499 %\n",
      "\n",
      "Modelling errors for test set:\n",
      "Wind RMSE:  0.465 m/s as root mean\n",
      "Wind MAE:  0.349 m/s in avg\n",
      "Wind MAPE:  4.033 %\n",
      "Power RMSE:  208.451 kW as root mean\n",
      "Power MAE:  127.814 kW in avg\n",
      "Power MAPE:  8.69 %\n",
      "\n",
      "\n",
      "Showing the results of the modelling: \n",
      "XGBoost results performed\n"
     ]
    }
   ],
   "source": [
    "WS_pred=model_testing (X_train, X_test, y_train, y_test, PC, model, plot_error=False)"
   ]
  },
  {
   "cell_type": "code",
   "execution_count": 48,
   "id": "0defc6f7",
   "metadata": {},
   "outputs": [
    {
     "name": "stdout",
     "output_type": "stream",
     "text": [
      "file General_XGB_WTG14.csv saved in \\Results_ folder\n"
     ]
    }
   ],
   "source": [
    "WS_pred=pd.DataFrame(WS_pred)\n",
    "save(WS_pred,'\\Results_','General_XGB_WTG14.csv')"
   ]
  },
  {
   "cell_type": "code",
   "execution_count": null,
   "id": "bcfbca6c",
   "metadata": {},
   "outputs": [],
   "source": [
    "#########################################################################"
   ]
  },
  {
   "cell_type": "code",
   "execution_count": 32,
   "id": "037e38d8",
   "metadata": {},
   "outputs": [],
   "source": [
    "# WTG15"
   ]
  },
  {
   "cell_type": "code",
   "execution_count": 33,
   "id": "94b647e2",
   "metadata": {},
   "outputs": [
    {
     "data": {
      "text/plain": [
       "Index(['T2', 'RH2', 'T1', 'RH1', 'PR1', 'AD1', 'PR2', 'AD2', 'Rain', 'WS1',\n",
       "       'WS3', 'WS4', 'WD1', 'WD3', 'WD4', 'WSHor', 'WDHor', 'WSVer', 'WDVer',\n",
       "       'TI', 'WSH', 'WD_bin', 'tod', 'WVeer'],\n",
       "      dtype='object')"
      ]
     },
     "execution_count": 33,
     "metadata": {},
     "output_type": "execute_result"
    }
   ],
   "source": [
    "#upload the dataset with file_folder, file_name\n",
    "\n",
    "X_train= uploading_csv('\\General','\\X_train1.csv')\n",
    "X_test= uploading_csv('\\General','\\X_test15.csv')\n",
    "y_train= uploading_csv('\\General','\\y_train1.csv')\n",
    "y_test= uploading_csv('\\General','\\y_test15.csv')\n",
    "\n",
    "X_test.keys()"
   ]
  },
  {
   "cell_type": "code",
   "execution_count": 35,
   "id": "85283d29",
   "metadata": {},
   "outputs": [
    {
     "name": "stdout",
     "output_type": "stream",
     "text": [
      "power curve computation performed\n",
      "power curve computation performed\n",
      "Modelling errors for training set:\n",
      "Wind RMSE:  0.229 m/s as root mean\n",
      "Wind MAE:  0.162 m/s in avg\n",
      "Wind MAPE:  1.943 %\n",
      "Power RMSE:  107.324 kW as root mean\n",
      "Power MAE:  63.637 kW in avg\n",
      "Power MAPE:  4.499 %\n",
      "\n",
      "Modelling errors for test set:\n",
      "Wind RMSE:  0.524 m/s as root mean\n",
      "Wind MAE:  0.397 m/s in avg\n",
      "Wind MAPE:  4.887 %\n",
      "Power RMSE:  231.999 kW as root mean\n",
      "Power MAE:  151.659 kW in avg\n",
      "Power MAPE:  12.091 %\n",
      "\n",
      "\n",
      "Showing the results of the modelling: \n",
      "XGBoost results performed\n"
     ]
    }
   ],
   "source": [
    "WS_pred=model_testing (X_train, X_test, y_train, y_test, PC, model, plot_error=False)"
   ]
  },
  {
   "cell_type": "code",
   "execution_count": 36,
   "id": "3f89fb60",
   "metadata": {},
   "outputs": [
    {
     "name": "stdout",
     "output_type": "stream",
     "text": [
      "file General_XGB_WTG15.csv saved in \\Results_ folder\n"
     ]
    }
   ],
   "source": [
    "WS_pred=pd.DataFrame(WS_pred)\n",
    "save(WS_pred,'\\Results_','General_XGB_WTG15.csv')"
   ]
  },
  {
   "cell_type": "markdown",
   "id": "c339ebb9",
   "metadata": {},
   "source": [
    "### Manual modelling tuning"
   ]
  },
  {
   "cell_type": "code",
   "execution_count": 43,
   "id": "1a11b5c7",
   "metadata": {},
   "outputs": [],
   "source": [
    "#tuning hyperparameters"
   ]
  },
  {
   "cell_type": "code",
   "execution_count": 44,
   "id": "c5138554",
   "metadata": {},
   "outputs": [],
   "source": [
    "parameters={\n",
    "    'max_depth':5,\n",
    "    'n_estimators': 2000,\n",
    "    'learning_rate':0.1,\n",
    "    'subsample':0.8,\n",
    "    'colsample_bytree':0.8,\n",
    "    'min_child_weight':10,\n",
    "    'gamma':0.4,\n",
    "    'reg_lambda':1,\n",
    "}"
   ]
  },
  {
   "cell_type": "code",
   "execution_count": 45,
   "id": "dafa9026",
   "metadata": {},
   "outputs": [],
   "source": [
    "#WTG14"
   ]
  },
  {
   "cell_type": "code",
   "execution_count": 58,
   "id": "97defefd",
   "metadata": {},
   "outputs": [
    {
     "data": {
      "text/plain": [
       "Index(['T2', 'RH2', 'T1', 'RH1', 'PR1', 'AD1', 'PR2', 'AD2', 'Rain', 'WS1',\n",
       "       'WS3', 'WS4', 'WD1', 'WD3', 'WD4', 'WSHor', 'WDHor', 'WSVer', 'WDVer',\n",
       "       'TI', 'WSH', 'WD_bin', 'tod', 'WVeer'],\n",
       "      dtype='object')"
      ]
     },
     "execution_count": 58,
     "metadata": {},
     "output_type": "execute_result"
    }
   ],
   "source": [
    "#upload the dataset with file_folder, file_name\n",
    "# data_up= uploading_csv('\\Dataset1-Normal_Site','\\data_comp14.csv')\n",
    "X_train= uploading_csv('\\General','\\X_train1.csv')\n",
    "X_test= uploading_csv('\\General','\\X_test14.csv')\n",
    "y_train= uploading_csv('\\General','\\y_train1.csv')\n",
    "y_test= uploading_csv('\\General','\\y_test14.csv')\n",
    "\n",
    "X_test.keys()"
   ]
  },
  {
   "cell_type": "code",
   "execution_count": 59,
   "id": "b8eff1d9",
   "metadata": {},
   "outputs": [
    {
     "data": {
      "text/plain": [
       "Index(['Target'], dtype='object')"
      ]
     },
     "execution_count": 59,
     "metadata": {},
     "output_type": "execute_result"
    }
   ],
   "source": [
    "y_test.keys()"
   ]
  },
  {
   "cell_type": "code",
   "execution_count": 60,
   "id": "3a2e2d78",
   "metadata": {},
   "outputs": [],
   "source": [
    "PC= uploading_csv('\\Dataset1-Normal_Site','\\PC_1.15kgm-3.csv')"
   ]
  },
  {
   "cell_type": "code",
   "execution_count": 61,
   "id": "f3ce8132",
   "metadata": {},
   "outputs": [],
   "source": [
    "#modelling"
   ]
  },
  {
   "cell_type": "code",
   "execution_count": 62,
   "id": "50b56984",
   "metadata": {},
   "outputs": [
    {
     "name": "stdout",
     "output_type": "stream",
     "text": [
      "power curve computation performed\n",
      "power curve computation performed\n",
      "Modelling errors for training set:\n",
      "Wind RMSE:  0.212 m/s as root mean\n",
      "Wind MAE:  0.139 m/s in avg\n",
      "Wind MAPE:  1.651 %\n",
      "Power RMSE:  98.455 kW as root mean\n",
      "Power MAE:  54.266 kW in avg\n",
      "Power MAPE:  3.774 %\n",
      "\n",
      "Modelling errors for test set:\n",
      "Wind RMSE:  0.506 m/s as root mean\n",
      "Wind MAE:  0.383 m/s in avg\n",
      "Wind MAPE:  4.421 %\n",
      "Power RMSE:  224.229 kW as root mean\n",
      "Power MAE:  138.895 kW in avg\n",
      "Power MAPE:  9.503 %\n",
      "\n",
      "\n",
      "Showing the results of the modelling: \n",
      "XGBoost modelling performed\n"
     ]
    }
   ],
   "source": [
    "model = modelling_XGBoost (X_train, X_test, y_train, y_test, PC, parameters, plot_error=False, plot=True)"
   ]
  },
  {
   "cell_type": "code",
   "execution_count": 63,
   "id": "a747b90d",
   "metadata": {},
   "outputs": [],
   "source": [
    "#testing"
   ]
  },
  {
   "cell_type": "code",
   "execution_count": 64,
   "id": "480b9af0",
   "metadata": {},
   "outputs": [
    {
     "name": "stdout",
     "output_type": "stream",
     "text": [
      "power curve computation performed\n",
      "power curve computation performed\n",
      "Modelling errors for training set:\n",
      "Wind RMSE:  0.212 m/s as root mean\n",
      "Wind MAE:  0.139 m/s in avg\n",
      "Wind MAPE:  1.651 %\n",
      "Power RMSE:  98.455 kW as root mean\n",
      "Power MAE:  54.266 kW in avg\n",
      "Power MAPE:  3.774 %\n",
      "\n",
      "Modelling errors for test set:\n",
      "Wind RMSE:  0.506 m/s as root mean\n",
      "Wind MAE:  0.383 m/s in avg\n",
      "Wind MAPE:  4.421 %\n",
      "Power RMSE:  224.229 kW as root mean\n",
      "Power MAE:  138.895 kW in avg\n",
      "Power MAPE:  9.503 %\n",
      "\n",
      "\n",
      "Showing the results of the modelling: \n",
      "XGBoost results performed\n"
     ]
    }
   ],
   "source": [
    "WS_pred=model_testing (X_train, X_test, y_train, y_test, PC, model, plot_error=False)"
   ]
  },
  {
   "cell_type": "code",
   "execution_count": 65,
   "id": "5a71cbcd",
   "metadata": {},
   "outputs": [
    {
     "name": "stdout",
     "output_type": "stream",
     "text": [
      "file General_tun_XGB_WTG14.csv saved in \\Results_ folder\n"
     ]
    }
   ],
   "source": [
    "WS_pred=pd.DataFrame(WS_pred)\n",
    "save(WS_pred,'\\Results_','General_tun_XGB_WTG14.csv')"
   ]
  },
  {
   "cell_type": "code",
   "execution_count": 66,
   "id": "8a0aa730",
   "metadata": {},
   "outputs": [],
   "source": [
    "############################################################################################"
   ]
  },
  {
   "cell_type": "code",
   "execution_count": 67,
   "id": "98fd90ac",
   "metadata": {},
   "outputs": [],
   "source": [
    "#WTG15"
   ]
  },
  {
   "cell_type": "code",
   "execution_count": 68,
   "id": "b0bfa4a6",
   "metadata": {},
   "outputs": [
    {
     "data": {
      "text/plain": [
       "Index(['T2', 'RH2', 'T1', 'RH1', 'PR1', 'AD1', 'PR2', 'AD2', 'Rain', 'WS1',\n",
       "       'WS3', 'WS4', 'WD1', 'WD3', 'WD4', 'WSHor', 'WDHor', 'WSVer', 'WDVer',\n",
       "       'TI', 'WSH', 'WD_bin', 'tod', 'WVeer'],\n",
       "      dtype='object')"
      ]
     },
     "execution_count": 68,
     "metadata": {},
     "output_type": "execute_result"
    }
   ],
   "source": [
    "#upload the dataset with file_folder, file_name\n",
    "\n",
    "X_train= uploading_csv('\\General','\\X_train1.csv')\n",
    "X_test= uploading_csv('\\General','\\X_test15.csv')\n",
    "y_train= uploading_csv('\\General','\\y_train1.csv')\n",
    "y_test= uploading_csv('\\General','\\y_test15.csv')\n",
    "\n",
    "X_test.keys()"
   ]
  },
  {
   "cell_type": "code",
   "execution_count": 69,
   "id": "f04c34ca",
   "metadata": {},
   "outputs": [
    {
     "name": "stdout",
     "output_type": "stream",
     "text": [
      "power curve computation performed\n",
      "power curve computation performed\n",
      "Modelling errors for training set:\n",
      "Wind RMSE:  0.212 m/s as root mean\n",
      "Wind MAE:  0.139 m/s in avg\n",
      "Wind MAPE:  1.651 %\n",
      "Power RMSE:  98.455 kW as root mean\n",
      "Power MAE:  54.266 kW in avg\n",
      "Power MAPE:  3.774 %\n",
      "\n",
      "Modelling errors for test set:\n",
      "Wind RMSE:  0.547 m/s as root mean\n",
      "Wind MAE:  0.415 m/s in avg\n",
      "Wind MAPE:  5.128 %\n",
      "Power RMSE:  241.42 kW as root mean\n",
      "Power MAE:  159.094 kW in avg\n",
      "Power MAPE:  12.707 %\n",
      "\n",
      "\n",
      "Showing the results of the modelling: \n",
      "XGBoost results performed\n"
     ]
    }
   ],
   "source": [
    "WS_pred=model_testing (X_train, X_test, y_train, y_test, PC, model, plot_error=False)"
   ]
  },
  {
   "cell_type": "code",
   "execution_count": 70,
   "id": "537453da",
   "metadata": {},
   "outputs": [
    {
     "name": "stdout",
     "output_type": "stream",
     "text": [
      "file General_tun_XGB_WTG15.csv saved in \\Results_ folder\n"
     ]
    }
   ],
   "source": [
    "WS_pred=pd.DataFrame(WS_pred)\n",
    "save(WS_pred,'\\Results_','General_tun_XGB_WTG15.csv')"
   ]
  },
  {
   "cell_type": "markdown",
   "id": "c844a2df",
   "metadata": {},
   "source": [
    "## Dataset2"
   ]
  },
  {
   "cell_type": "code",
   "execution_count": 22,
   "id": "d019c49a",
   "metadata": {},
   "outputs": [],
   "source": [
    "#doing"
   ]
  },
  {
   "cell_type": "code",
   "execution_count": 23,
   "id": "143791ce",
   "metadata": {},
   "outputs": [
    {
     "data": {
      "text/plain": [
       "Index(['WS1', 'WS3', 'WS4', 'WD1', 'WD4', 'WSHor', 'WSVer', 'WDHor', 'RH1',\n",
       "       'Rain', 'WSH', 'WVeer', 'TI', 'WDVer', 'WD_bin', 'tod'],\n",
       "      dtype='object')"
      ]
     },
     "execution_count": 23,
     "metadata": {},
     "output_type": "execute_result"
    }
   ],
   "source": [
    "#upload the dataset with file_folder, file_name\n",
    "# data_up= uploading_csv('\\Dataset1-Normal_Site','\\data_comp14.csv')\n",
    "X_train= uploading_csv('\\General','\\X_train2.csv')\n",
    "X_test= uploading_csv('\\General','\\X_test11.csv')\n",
    "y_train= uploading_csv('\\General','\\y_train2.csv')\n",
    "y_test= uploading_csv('\\General','\\y_test11.csv')\n",
    "\n",
    "X_test.keys()"
   ]
  },
  {
   "cell_type": "code",
   "execution_count": 24,
   "id": "8e5ee809",
   "metadata": {},
   "outputs": [
    {
     "data": {
      "text/plain": [
       "Index(['Target'], dtype='object')"
      ]
     },
     "execution_count": 24,
     "metadata": {},
     "output_type": "execute_result"
    }
   ],
   "source": [
    "y_test.keys()"
   ]
  },
  {
   "cell_type": "code",
   "execution_count": 25,
   "id": "8c5bf8b0",
   "metadata": {},
   "outputs": [],
   "source": [
    "PC= uploading_csv('\\Dataset2-Complex_Site','\\PC_V112.csv')"
   ]
  },
  {
   "cell_type": "code",
   "execution_count": 26,
   "id": "26b95b8d",
   "metadata": {},
   "outputs": [],
   "source": [
    "X_train=X_train.drop(columns=['RH1'])\n",
    "X_test=X_test.drop(columns=['RH1'])"
   ]
  },
  {
   "cell_type": "markdown",
   "id": "8d42105e",
   "metadata": {},
   "source": [
    "### Grid Search"
   ]
  },
  {
   "cell_type": "code",
   "execution_count": 27,
   "id": "e564e3ea",
   "metadata": {},
   "outputs": [],
   "source": [
    "#pending"
   ]
  },
  {
   "cell_type": "code",
   "execution_count": 51,
   "id": "9c4b864f",
   "metadata": {},
   "outputs": [],
   "source": [
    "parameters={\n",
    "    'max_depth':5,\n",
    "    'n_estimators': 1000,\n",
    "    'learning_rate':0.1,\n",
    "    'subsample':0.8,\n",
    "    'colsample_bytree':0.8,\n",
    "    'min_child_weight':1,\n",
    "    'gamma':0,\n",
    "    'reg_lambda':1,\n",
    "}"
   ]
  },
  {
   "cell_type": "code",
   "execution_count": 52,
   "id": "ebae69f9",
   "metadata": {},
   "outputs": [],
   "source": [
    "param_grid={\n",
    "    'n_estimators': [100, 200, 300, 400, 500, 600, 700, 800, 900, 1000],\n",
    "}"
   ]
  },
  {
   "cell_type": "code",
   "execution_count": 53,
   "id": "1714b6e3",
   "metadata": {
    "scrolled": true
   },
   "outputs": [
    {
     "name": "stdout",
     "output_type": "stream",
     "text": [
      "Fitting 4 folds for each of 10 candidates, totalling 40 fits\n",
      "\n",
      "Best parameters :\n",
      "{'n_estimators': 300}\n",
      "\n",
      "power curve computation performed\n",
      "power curve computation performed\n",
      "Modelling errors for training set:\n",
      "Wind RMSE:  0.274 m/s as root mean\n",
      "Wind MAE:  0.21 m/s in avg\n",
      "Wind MAPE:  2.322 %\n",
      "Power RMSE:  124.162 kW as root mean\n",
      "Power MAE:  78.482 kW in avg\n",
      "Power MAPE:  5.479 %\n",
      "\n",
      "Modelling errors for test set:\n",
      "Wind RMSE:  0.571 m/s as root mean\n",
      "Wind MAE:  0.444 m/s in avg\n",
      "Wind MAPE:  4.795 %\n",
      "Power RMSE:  228.146 kW as root mean\n",
      "Power MAE:  150.49 kW in avg\n",
      "Power MAPE:  10.834 %\n",
      "\n",
      "\n",
      "Showing the results of the modelling: \n",
      "GridSearch_ XGBoost performed\n",
      "--- 2.0538490374883014 minutes ---\n",
      "\n",
      "Lowest RMSE:  0.5882572614848081\n"
     ]
    },
    {
     "data": {
      "text/plain": [
       "GridSearchCV(cv=4,\n",
       "             estimator=XGBRegressor(base_score=None, booster='gbtree',\n",
       "                                    colsample_bylevel=None,\n",
       "                                    colsample_bynode=None, colsample_bytree=0.8,\n",
       "                                    gamma=0, gpu_id=None,\n",
       "                                    importance_type='gain',\n",
       "                                    interaction_constraints=None,\n",
       "                                    learning_rate=0.1, max_delta_step=None,\n",
       "                                    max_depth=5, min_child_weight=1,\n",
       "                                    missing=nan, monotone_constraints=None,\n",
       "                                    n_estimators=1000, n_jobs=None,\n",
       "                                    num_parallel_tree=None, random_state=42,\n",
       "                                    reg_alpha=None, reg_lambda=1,\n",
       "                                    scale_pos_weight=None, subsample=0.8,\n",
       "                                    tree_method=None, validate_parameters=None,\n",
       "                                    verbosity=None),\n",
       "             param_grid={'n_estimators': [100, 200, 300, 400, 500, 600, 700,\n",
       "                                          800, 900, 1000]},\n",
       "             scoring='neg_mean_squared_error', verbose=1)"
      ]
     },
     "execution_count": 53,
     "metadata": {},
     "output_type": "execute_result"
    }
   ],
   "source": [
    " GridSearch_XGBoost (X_train, X_test, y_train, y_test, PC, parameters, param_grid, plot_error=False)"
   ]
  },
  {
   "cell_type": "code",
   "execution_count": 54,
   "id": "e97a35d7",
   "metadata": {},
   "outputs": [],
   "source": [
    "parameters={\n",
    "    'max_depth':5,\n",
    "    'n_estimators': 300,\n",
    "    'learning_rate':0.1,\n",
    "    'subsample':0.8,\n",
    "    'colsample_bytree':0.8,\n",
    "    'min_child_weight':1,\n",
    "    'gamma':0,\n",
    "    'reg_lambda':1,\n",
    "}"
   ]
  },
  {
   "cell_type": "code",
   "execution_count": 55,
   "id": "83229470",
   "metadata": {},
   "outputs": [],
   "source": [
    "param_grid={\n",
    "    'max_depth': [3, 4, 5, 6, 10, 15, 20],\n",
    "    'min_child_weight': [1, 2, 3, 6, 10]\n",
    "}"
   ]
  },
  {
   "cell_type": "code",
   "execution_count": 56,
   "id": "be3005a9",
   "metadata": {
    "scrolled": true
   },
   "outputs": [
    {
     "name": "stdout",
     "output_type": "stream",
     "text": [
      "Fitting 4 folds for each of 35 candidates, totalling 140 fits\n",
      "\n",
      "Best parameters :\n",
      "{'max_depth': 5, 'min_child_weight': 10}\n",
      "\n",
      "power curve computation performed\n",
      "power curve computation performed\n",
      "Modelling errors for training set:\n",
      "Wind RMSE:  0.308 m/s as root mean\n",
      "Wind MAE:  0.234 m/s in avg\n",
      "Wind MAPE:  2.591 %\n",
      "Power RMSE:  139.128 kW as root mean\n",
      "Power MAE:  87.141 kW in avg\n",
      "Power MAPE:  6.1 %\n",
      "\n",
      "Modelling errors for test set:\n",
      "Wind RMSE:  0.576 m/s as root mean\n",
      "Wind MAE:  0.448 m/s in avg\n",
      "Wind MAPE:  4.838 %\n",
      "Power RMSE:  230.553 kW as root mean\n",
      "Power MAE:  152.859 kW in avg\n",
      "Power MAPE:  10.932 %\n",
      "\n",
      "\n",
      "Showing the results of the modelling: \n",
      "GridSearch_ XGBoost performed\n",
      "--- 6.669050025939941 minutes ---\n",
      "\n",
      "Lowest RMSE:  0.5824688218535748\n"
     ]
    },
    {
     "data": {
      "text/plain": [
       "GridSearchCV(cv=4,\n",
       "             estimator=XGBRegressor(base_score=None, booster='gbtree',\n",
       "                                    colsample_bylevel=None,\n",
       "                                    colsample_bynode=None, colsample_bytree=0.8,\n",
       "                                    gamma=0, gpu_id=None,\n",
       "                                    importance_type='gain',\n",
       "                                    interaction_constraints=None,\n",
       "                                    learning_rate=0.1, max_delta_step=None,\n",
       "                                    max_depth=5, min_child_weight=1,\n",
       "                                    missing=nan, monotone_constraints=None,\n",
       "                                    n_estimators=300, n_jobs=None,\n",
       "                                    num_parallel_tree=None, random_state=42,\n",
       "                                    reg_alpha=None, reg_lambda=1,\n",
       "                                    scale_pos_weight=None, subsample=0.8,\n",
       "                                    tree_method=None, validate_parameters=None,\n",
       "                                    verbosity=None),\n",
       "             param_grid={'max_depth': [3, 4, 5, 6, 10, 15, 20],\n",
       "                         'min_child_weight': [1, 2, 3, 6, 10]},\n",
       "             scoring='neg_mean_squared_error', verbose=1)"
      ]
     },
     "execution_count": 56,
     "metadata": {},
     "output_type": "execute_result"
    }
   ],
   "source": [
    "GridSearch_XGBoost (X_train, X_test, y_train, y_test, PC, parameters, param_grid, plot_error=False)"
   ]
  },
  {
   "cell_type": "code",
   "execution_count": 57,
   "id": "2b919c17",
   "metadata": {},
   "outputs": [],
   "source": [
    "parameters={\n",
    "    'max_depth':5,\n",
    "    'n_estimators': 300,\n",
    "    'learning_rate':0.1,\n",
    "    'subsample':0.8,\n",
    "    'colsample_bytree':0.8,\n",
    "    'min_child_weight':10,\n",
    "    'gamma':0,\n",
    "    'reg_lambda':1,\n",
    "}"
   ]
  },
  {
   "cell_type": "code",
   "execution_count": 58,
   "id": "4ee5f2db",
   "metadata": {},
   "outputs": [],
   "source": [
    "param_grid={\n",
    "    'gamma': [0, 0.1, 0.2, 0.3, 0.4, 0.5]\n",
    "}"
   ]
  },
  {
   "cell_type": "code",
   "execution_count": 59,
   "id": "80909ad0",
   "metadata": {
    "scrolled": true
   },
   "outputs": [
    {
     "name": "stdout",
     "output_type": "stream",
     "text": [
      "Fitting 4 folds for each of 6 candidates, totalling 24 fits\n",
      "\n",
      "Best parameters :\n",
      "{'gamma': 0.1}\n",
      "\n",
      "power curve computation performed\n",
      "power curve computation performed\n",
      "Modelling errors for training set:\n",
      "Wind RMSE:  0.305 m/s as root mean\n",
      "Wind MAE:  0.232 m/s in avg\n",
      "Wind MAPE:  2.558 %\n",
      "Power RMSE:  137.71 kW as root mean\n",
      "Power MAE:  86.198 kW in avg\n",
      "Power MAPE:  6.002 %\n",
      "\n",
      "Modelling errors for test set:\n",
      "Wind RMSE:  0.578 m/s as root mean\n",
      "Wind MAE:  0.45 m/s in avg\n",
      "Wind MAPE:  4.861 %\n",
      "Power RMSE:  231.781 kW as root mean\n",
      "Power MAE:  153.612 kW in avg\n",
      "Power MAPE:  11.008 %\n",
      "\n",
      "\n",
      "Showing the results of the modelling: \n",
      "GridSearch_ XGBoost performed\n",
      "--- 0.6265353202819824 minutes ---\n",
      "\n",
      "Lowest RMSE:  0.58234352670207\n"
     ]
    },
    {
     "data": {
      "text/plain": [
       "GridSearchCV(cv=4,\n",
       "             estimator=XGBRegressor(base_score=None, booster='gbtree',\n",
       "                                    colsample_bylevel=None,\n",
       "                                    colsample_bynode=None, colsample_bytree=0.8,\n",
       "                                    gamma=0, gpu_id=None,\n",
       "                                    importance_type='gain',\n",
       "                                    interaction_constraints=None,\n",
       "                                    learning_rate=0.1, max_delta_step=None,\n",
       "                                    max_depth=5, min_child_weight=10,\n",
       "                                    missing=nan, monotone_constraints=None,\n",
       "                                    n_estimators=300, n_jobs=None,\n",
       "                                    num_parallel_tree=None, random_state=42,\n",
       "                                    reg_alpha=None, reg_lambda=1,\n",
       "                                    scale_pos_weight=None, subsample=0.8,\n",
       "                                    tree_method=None, validate_parameters=None,\n",
       "                                    verbosity=None),\n",
       "             param_grid={'gamma': [0, 0.1, 0.2, 0.3, 0.4, 0.5]},\n",
       "             scoring='neg_mean_squared_error', verbose=1)"
      ]
     },
     "execution_count": 59,
     "metadata": {},
     "output_type": "execute_result"
    }
   ],
   "source": [
    "GridSearch_XGBoost (X_train, X_test, y_train, y_test, PC, parameters, param_grid, plot_error=False)"
   ]
  },
  {
   "cell_type": "code",
   "execution_count": 60,
   "id": "336d0608",
   "metadata": {},
   "outputs": [],
   "source": [
    "parameters={\n",
    "    'max_depth':5,\n",
    "    'n_estimators': 300,\n",
    "    'learning_rate':0.1,\n",
    "    'subsample':0.8,\n",
    "    'colsample_bytree':0.8,\n",
    "    'min_child_weight':10,\n",
    "    'gamma':0.1,\n",
    "    'reg_lambda':1,\n",
    "}"
   ]
  },
  {
   "cell_type": "code",
   "execution_count": 61,
   "id": "9174f462",
   "metadata": {},
   "outputs": [],
   "source": [
    "param_grid={\n",
    "    'subsample': [0.4, 0.5, 0.6, 0.7, 0.8, 0.9, 1],\n",
    "    'colsample_bytree': [0.4, 0.5, 0.6, 0.7, 0.8, 0.9, 1]\n",
    "}"
   ]
  },
  {
   "cell_type": "code",
   "execution_count": 62,
   "id": "c8e7b560",
   "metadata": {
    "scrolled": true
   },
   "outputs": [
    {
     "name": "stdout",
     "output_type": "stream",
     "text": [
      "Fitting 4 folds for each of 49 candidates, totalling 196 fits\n",
      "\n",
      "Best parameters :\n",
      "{'colsample_bytree': 1, 'subsample': 0.8}\n",
      "\n",
      "power curve computation performed\n",
      "power curve computation performed\n",
      "Modelling errors for training set:\n",
      "Wind RMSE:  0.296 m/s as root mean\n",
      "Wind MAE:  0.225 m/s in avg\n",
      "Wind MAPE:  2.486 %\n",
      "Power RMSE:  132.841 kW as root mean\n",
      "Power MAE:  83.338 kW in avg\n",
      "Power MAPE:  5.829 %\n",
      "\n",
      "Modelling errors for test set:\n",
      "Wind RMSE:  0.57 m/s as root mean\n",
      "Wind MAE:  0.441 m/s in avg\n",
      "Wind MAPE:  4.748 %\n",
      "Power RMSE:  226.396 kW as root mean\n",
      "Power MAE:  149.379 kW in avg\n",
      "Power MAPE:  10.623 %\n",
      "\n",
      "\n",
      "Showing the results of the modelling: \n",
      "GridSearch_ XGBoost performed\n",
      "--- 7.9996373097101845 minutes ---\n",
      "\n",
      "Lowest RMSE:  0.579821074153776\n"
     ]
    },
    {
     "data": {
      "text/plain": [
       "GridSearchCV(cv=4,\n",
       "             estimator=XGBRegressor(base_score=None, booster='gbtree',\n",
       "                                    colsample_bylevel=None,\n",
       "                                    colsample_bynode=None, colsample_bytree=0.8,\n",
       "                                    gamma=0.1, gpu_id=None,\n",
       "                                    importance_type='gain',\n",
       "                                    interaction_constraints=None,\n",
       "                                    learning_rate=0.1, max_delta_step=None,\n",
       "                                    max_depth=5, min_child_weight=10,\n",
       "                                    missing=nan, monotone_constraints=None,\n",
       "                                    n_estimators=300, n_jobs=None,\n",
       "                                    num_parallel_tree=None, random_state=42,\n",
       "                                    reg_alpha=None, reg_lambda=1,\n",
       "                                    scale_pos_weight=None, subsample=0.8,\n",
       "                                    tree_method=None, validate_parameters=None,\n",
       "                                    verbosity=None),\n",
       "             param_grid={'colsample_bytree': [0.4, 0.5, 0.6, 0.7, 0.8, 0.9, 1],\n",
       "                         'subsample': [0.4, 0.5, 0.6, 0.7, 0.8, 0.9, 1]},\n",
       "             scoring='neg_mean_squared_error', verbose=1)"
      ]
     },
     "execution_count": 62,
     "metadata": {},
     "output_type": "execute_result"
    }
   ],
   "source": [
    "GridSearch_XGBoost (X_train, X_test, y_train, y_test, PC, parameters, param_grid, plot_error=False)"
   ]
  },
  {
   "cell_type": "code",
   "execution_count": 63,
   "id": "c3297e66",
   "metadata": {},
   "outputs": [],
   "source": [
    "parameters={\n",
    "    'max_depth':5,\n",
    "    'n_estimators': 300,\n",
    "    'learning_rate':0.1,\n",
    "    'subsample':0.8,\n",
    "    'colsample_bytree':1,\n",
    "    'min_child_weight':10,\n",
    "    'gamma':0.1,\n",
    "    'reg_lambda':1,\n",
    "}"
   ]
  },
  {
   "cell_type": "code",
   "execution_count": 64,
   "id": "3f01c0ed",
   "metadata": {},
   "outputs": [],
   "source": [
    "param_grid={\n",
    "    'reg_lambda': [1, 10, 50, 100, 150]\n",
    "}"
   ]
  },
  {
   "cell_type": "code",
   "execution_count": 65,
   "id": "7156ce86",
   "metadata": {
    "scrolled": true
   },
   "outputs": [
    {
     "name": "stdout",
     "output_type": "stream",
     "text": [
      "Fitting 4 folds for each of 5 candidates, totalling 20 fits\n",
      "\n",
      "Best parameters :\n",
      "{'reg_lambda': 1}\n",
      "\n",
      "power curve computation performed\n",
      "power curve computation performed\n",
      "Modelling errors for training set:\n",
      "Wind RMSE:  0.296 m/s as root mean\n",
      "Wind MAE:  0.225 m/s in avg\n",
      "Wind MAPE:  2.486 %\n",
      "Power RMSE:  132.841 kW as root mean\n",
      "Power MAE:  83.338 kW in avg\n",
      "Power MAPE:  5.829 %\n",
      "\n",
      "Modelling errors for test set:\n",
      "Wind RMSE:  0.57 m/s as root mean\n",
      "Wind MAE:  0.441 m/s in avg\n",
      "Wind MAPE:  4.748 %\n",
      "Power RMSE:  226.396 kW as root mean\n",
      "Power MAE:  149.379 kW in avg\n",
      "Power MAPE:  10.623 %\n",
      "\n",
      "\n",
      "Showing the results of the modelling: \n",
      "GridSearch_ XGBoost performed\n",
      "--- 0.657681401570638 minutes ---\n",
      "\n",
      "Lowest RMSE:  0.579821074153776\n"
     ]
    },
    {
     "data": {
      "text/plain": [
       "GridSearchCV(cv=4,\n",
       "             estimator=XGBRegressor(base_score=None, booster='gbtree',\n",
       "                                    colsample_bylevel=None,\n",
       "                                    colsample_bynode=None, colsample_bytree=1,\n",
       "                                    gamma=0.1, gpu_id=None,\n",
       "                                    importance_type='gain',\n",
       "                                    interaction_constraints=None,\n",
       "                                    learning_rate=0.1, max_delta_step=None,\n",
       "                                    max_depth=5, min_child_weight=10,\n",
       "                                    missing=nan, monotone_constraints=None,\n",
       "                                    n_estimators=300, n_jobs=None,\n",
       "                                    num_parallel_tree=None, random_state=42,\n",
       "                                    reg_alpha=None, reg_lambda=1,\n",
       "                                    scale_pos_weight=None, subsample=0.8,\n",
       "                                    tree_method=None, validate_parameters=None,\n",
       "                                    verbosity=None),\n",
       "             param_grid={'reg_lambda': [1, 10, 50, 100, 150]},\n",
       "             scoring='neg_mean_squared_error', verbose=1)"
      ]
     },
     "execution_count": 65,
     "metadata": {},
     "output_type": "execute_result"
    }
   ],
   "source": [
    "GridSearch_XGBoost (X_train, X_test, y_train, y_test, PC, parameters, param_grid, plot_error=False)"
   ]
  },
  {
   "cell_type": "code",
   "execution_count": 66,
   "id": "59ea01de",
   "metadata": {},
   "outputs": [],
   "source": [
    "parameters={\n",
    "    'max_depth':5,\n",
    "    'n_estimators': 300,\n",
    "    'learning_rate':0.1,\n",
    "    'subsample':0.8,\n",
    "    'colsample_bytree':1,\n",
    "    'min_child_weight':10,\n",
    "    'gamma':0.1,\n",
    "    'reg_lambda':1,\n",
    "}"
   ]
  },
  {
   "cell_type": "code",
   "execution_count": 67,
   "id": "72a29aca",
   "metadata": {},
   "outputs": [],
   "source": [
    "param_grid={\n",
    "    'learning_rate': [0.001, 0.01, 0.1, 0.5],\n",
    "    'n_estimators': [800, 900, 1000, 1200, 1500, 1800, 2000]\n",
    "}"
   ]
  },
  {
   "cell_type": "code",
   "execution_count": 68,
   "id": "7552ae2f",
   "metadata": {
    "scrolled": true
   },
   "outputs": [
    {
     "name": "stdout",
     "output_type": "stream",
     "text": [
      "Fitting 4 folds for each of 28 candidates, totalling 112 fits\n",
      "\n",
      "Best parameters :\n",
      "{'learning_rate': 0.01, 'n_estimators': 2000}\n",
      "\n",
      "power curve computation performed\n",
      "power curve computation performed\n",
      "Modelling errors for training set:\n",
      "Wind RMSE:  0.348 m/s as root mean\n",
      "Wind MAE:  0.267 m/s in avg\n",
      "Wind MAPE:  2.933 %\n",
      "Power RMSE:  155.407 kW as root mean\n",
      "Power MAE:  98.184 kW in avg\n",
      "Power MAPE:  6.839 %\n",
      "\n",
      "Modelling errors for test set:\n",
      "Wind RMSE:  0.565 m/s as root mean\n",
      "Wind MAE:  0.44 m/s in avg\n",
      "Wind MAPE:  4.743 %\n",
      "Power RMSE:  225.776 kW as root mean\n",
      "Power MAE:  149.54 kW in avg\n",
      "Power MAPE:  10.683 %\n",
      "\n",
      "\n",
      "Showing the results of the modelling: \n",
      "GridSearch_ XGBoost performed\n",
      "--- 16.78581728140513 minutes ---\n",
      "\n",
      "Lowest RMSE:  0.5736045603820564\n"
     ]
    },
    {
     "data": {
      "text/plain": [
       "GridSearchCV(cv=4,\n",
       "             estimator=XGBRegressor(base_score=None, booster='gbtree',\n",
       "                                    colsample_bylevel=None,\n",
       "                                    colsample_bynode=None, colsample_bytree=1,\n",
       "                                    gamma=0.1, gpu_id=None,\n",
       "                                    importance_type='gain',\n",
       "                                    interaction_constraints=None,\n",
       "                                    learning_rate=0.1, max_delta_step=None,\n",
       "                                    max_depth=5, min_child_weight=10,\n",
       "                                    missing=nan, monotone_constraints=None,\n",
       "                                    n_estimators=300, n_jobs=None,\n",
       "                                    num_parallel_tree=None, random_state=42,\n",
       "                                    reg_alpha=None, reg_lambda=1,\n",
       "                                    scale_pos_weight=None, subsample=0.8,\n",
       "                                    tree_method=None, validate_parameters=None,\n",
       "                                    verbosity=None),\n",
       "             param_grid={'learning_rate': [0.001, 0.01, 0.1, 0.5],\n",
       "                         'n_estimators': [800, 900, 1000, 1200, 1500, 1800,\n",
       "                                          2000]},\n",
       "             scoring='neg_mean_squared_error', verbose=1)"
      ]
     },
     "execution_count": 68,
     "metadata": {},
     "output_type": "execute_result"
    }
   ],
   "source": [
    "GridSearch_XGBoost (X_train, X_test, y_train, y_test, PC, parameters, param_grid, plot_error=False)"
   ]
  },
  {
   "cell_type": "code",
   "execution_count": null,
   "id": "ea99f2e0",
   "metadata": {},
   "outputs": [],
   "source": []
  },
  {
   "cell_type": "markdown",
   "id": "5ff9a321",
   "metadata": {},
   "source": [
    "### Manual modelling"
   ]
  },
  {
   "cell_type": "code",
   "execution_count": 28,
   "id": "845a8c5a",
   "metadata": {},
   "outputs": [],
   "source": [
    "parameters={\n",
    "    'max_depth':10,\n",
    "    'n_estimators': 2000,\n",
    "    'learning_rate':0.01,\n",
    "    'subsample':0.6,\n",
    "    'colsample_bytree':0.7,\n",
    "    'min_child_weight':10,\n",
    "    'gamma':0,\n",
    "    'reg_lambda':1,\n",
    "}"
   ]
  },
  {
   "cell_type": "code",
   "execution_count": 30,
   "id": "474b625b",
   "metadata": {},
   "outputs": [],
   "source": [
    "#T11"
   ]
  },
  {
   "cell_type": "code",
   "execution_count": 29,
   "id": "86cc4e6d",
   "metadata": {},
   "outputs": [
    {
     "name": "stdout",
     "output_type": "stream",
     "text": [
      "power curve computation performed\n",
      "power curve computation performed\n",
      "Modelling errors for training set:\n",
      "Wind RMSE:  0.331 m/s as root mean\n",
      "Wind MAE:  0.241 m/s in avg\n",
      "Wind MAPE:  3.401 %\n",
      "Power RMSE:  138.048 kW as root mean\n",
      "Power MAE:  85.227 kW in avg\n",
      "Power MAPE:  6.921173737366487e+16 %\n",
      "\n",
      "Modelling errors for test set:\n",
      "Wind RMSE:  0.809 m/s as root mean\n",
      "Wind MAE:  0.564 m/s in avg\n",
      "Wind MAPE:  8.784 %\n",
      "Power RMSE:  303.141 kW as root mean\n",
      "Power MAE:  168.545 kW in avg\n",
      "Power MAPE:  1.0583801145387937e+18 %\n",
      "\n",
      "\n",
      "Showing the results of the modelling: \n",
      "XGBoost modelling performed\n"
     ]
    }
   ],
   "source": [
    "model = modelling_XGBoost (X_train, X_test, y_train, y_test, PC, parameters, plot_error=False, plot=True)"
   ]
  },
  {
   "cell_type": "code",
   "execution_count": null,
   "id": "a410fa0b",
   "metadata": {},
   "outputs": [],
   "source": []
  },
  {
   "cell_type": "code",
   "execution_count": 31,
   "id": "fc0e1ac9",
   "metadata": {},
   "outputs": [],
   "source": [
    "#T17"
   ]
  },
  {
   "cell_type": "code",
   "execution_count": 32,
   "id": "37429a50",
   "metadata": {},
   "outputs": [
    {
     "data": {
      "text/plain": [
       "Index(['WS1', 'WS3', 'WS4', 'WD1', 'WD4', 'WSHor', 'WSVer', 'WDHor', 'RH1',\n",
       "       'Rain', 'WSH', 'WVeer', 'TI', 'WDVer', 'WD_bin', 'tod'],\n",
       "      dtype='object')"
      ]
     },
     "execution_count": 32,
     "metadata": {},
     "output_type": "execute_result"
    }
   ],
   "source": [
    "#upload the dataset with file_folder, file_name\n",
    "# data_up= uploading_csv('\\Dataset1-Normal_Site','\\data_comp14.csv')\n",
    "X_train= uploading_csv('\\General','\\X_train2.csv')\n",
    "X_test= uploading_csv('\\General','\\X_test17.csv')\n",
    "y_train= uploading_csv('\\General','\\y_train2.csv')\n",
    "y_test= uploading_csv('\\General','\\y_test17.csv')\n",
    "\n",
    "X_test.keys()"
   ]
  },
  {
   "cell_type": "code",
   "execution_count": 33,
   "id": "9f46259c",
   "metadata": {},
   "outputs": [],
   "source": [
    "X_train=X_train.drop(columns=['RH1'])\n",
    "X_test=X_test.drop(columns=['RH1'])"
   ]
  },
  {
   "cell_type": "code",
   "execution_count": 34,
   "id": "87b6dcc1",
   "metadata": {},
   "outputs": [],
   "source": [
    "PC= uploading_csv('\\Dataset2-Complex_Site','\\PC_V112.csv')"
   ]
  },
  {
   "cell_type": "code",
   "execution_count": 35,
   "id": "1cec0db9",
   "metadata": {},
   "outputs": [
    {
     "name": "stdout",
     "output_type": "stream",
     "text": [
      "power curve computation performed\n",
      "power curve computation performed\n",
      "Modelling errors for training set:\n",
      "Wind RMSE:  0.331 m/s as root mean\n",
      "Wind MAE:  0.241 m/s in avg\n",
      "Wind MAPE:  3.401 %\n",
      "Power RMSE:  138.048 kW as root mean\n",
      "Power MAE:  85.227 kW in avg\n",
      "Power MAPE:  6.921173737366487e+16 %\n",
      "\n",
      "Modelling errors for test set:\n",
      "Wind RMSE:  0.61 m/s as root mean\n",
      "Wind MAE:  0.469 m/s in avg\n",
      "Wind MAPE:  5.113 %\n",
      "Power RMSE:  259.386 kW as root mean\n",
      "Power MAE:  165.787 kW in avg\n",
      "Power MAPE:  11.819 %\n",
      "\n",
      "\n",
      "Showing the results of the modelling: \n",
      "XGBoost results performed\n"
     ]
    }
   ],
   "source": [
    "model_testing (X_train, X_test, y_train, y_test, PC, model, plot_error=False)"
   ]
  },
  {
   "cell_type": "code",
   "execution_count": null,
   "id": "52d269d7",
   "metadata": {},
   "outputs": [],
   "source": []
  },
  {
   "cell_type": "code",
   "execution_count": 36,
   "id": "a2aa477d",
   "metadata": {},
   "outputs": [],
   "source": [
    "#T22"
   ]
  },
  {
   "cell_type": "code",
   "execution_count": 37,
   "id": "bf75b3a9",
   "metadata": {},
   "outputs": [
    {
     "data": {
      "text/plain": [
       "Index(['WS1', 'WS3', 'WS4', 'WD1', 'WD4', 'WSHor', 'WSVer', 'WDHor', 'RH1',\n",
       "       'Rain', 'WSH', 'WVeer', 'TI', 'WDVer', 'WD_bin', 'tod'],\n",
       "      dtype='object')"
      ]
     },
     "execution_count": 37,
     "metadata": {},
     "output_type": "execute_result"
    }
   ],
   "source": [
    "#upload the dataset with file_folder, file_name\n",
    "# data_up= uploading_csv('\\Dataset1-Normal_Site','\\data_comp14.csv')\n",
    "X_train= uploading_csv('\\General','\\X_train2.csv')\n",
    "X_test= uploading_csv('\\General','\\X_test22.csv')\n",
    "y_train= uploading_csv('\\General','\\y_train2.csv')\n",
    "y_test= uploading_csv('\\General','\\y_test22.csv')\n",
    "\n",
    "X_test.keys()"
   ]
  },
  {
   "cell_type": "code",
   "execution_count": 38,
   "id": "c34b75a7",
   "metadata": {},
   "outputs": [],
   "source": [
    "X_train=X_train.drop(columns=['RH1'])\n",
    "X_test=X_test.drop(columns=['RH1'])"
   ]
  },
  {
   "cell_type": "code",
   "execution_count": 39,
   "id": "d9fbda16",
   "metadata": {},
   "outputs": [],
   "source": [
    "PC= uploading_csv('\\Dataset2-Complex_Site','\\PC_V117.csv')"
   ]
  },
  {
   "cell_type": "code",
   "execution_count": 40,
   "id": "3c63db90",
   "metadata": {},
   "outputs": [
    {
     "name": "stdout",
     "output_type": "stream",
     "text": [
      "power curve computation performed\n",
      "power curve computation performed\n",
      "Modelling errors for training set:\n",
      "Wind RMSE:  0.331 m/s as root mean\n",
      "Wind MAE:  0.241 m/s in avg\n",
      "Wind MAPE:  3.401 %\n",
      "Power RMSE:  140.696 kW as root mean\n",
      "Power MAE:  84.216 kW in avg\n",
      "Power MAPE:  7.72010394800332e+16 %\n",
      "\n",
      "Modelling errors for test set:\n",
      "Wind RMSE:  0.774 m/s as root mean\n",
      "Wind MAE:  0.59 m/s in avg\n",
      "Wind MAPE:  7.682 %\n",
      "Power RMSE:  347.184 kW as root mean\n",
      "Power MAE:  233.666 kW in avg\n",
      "Power MAPE:  24.364 %\n",
      "\n",
      "\n",
      "Showing the results of the modelling: \n",
      "XGBoost results performed\n"
     ]
    }
   ],
   "source": [
    "model_testing (X_train, X_test, y_train, y_test, PC, model, plot_error=False)"
   ]
  },
  {
   "cell_type": "code",
   "execution_count": null,
   "id": "e4a80e7b",
   "metadata": {},
   "outputs": [],
   "source": []
  },
  {
   "cell_type": "markdown",
   "id": "52954f53",
   "metadata": {},
   "source": [
    "## Dataset3"
   ]
  },
  {
   "cell_type": "code",
   "execution_count": 97,
   "id": "c77bb169",
   "metadata": {},
   "outputs": [],
   "source": [
    "#WTG18"
   ]
  },
  {
   "cell_type": "code",
   "execution_count": 98,
   "id": "a3424bbb",
   "metadata": {
    "scrolled": true
   },
   "outputs": [
    {
     "data": {
      "text/plain": [
       "Index(['WS1', 'WS3', 'WS4', 'WSHor', 'WDHor', 'WSVer', 'WDVer', 'T1', 'RH1',\n",
       "       'T2', 'RH2', 'PR1', 'AD1', 'PR2', 'AD2', 'Rain', 'WD1', 'WD3', 'WD4',\n",
       "       'TI', 'WSH', 'WD_bin', 'tod', 'WVeer'],\n",
       "      dtype='object')"
      ]
     },
     "execution_count": 98,
     "metadata": {},
     "output_type": "execute_result"
    }
   ],
   "source": [
    "#upload the dataset with file_folder, file_name\n",
    "# data_up= uploading_csv('\\Dataset1-Normal_Site','\\data_comp14.csv')\n",
    "X_train= uploading_csv('\\General','\\X_train3.csv')\n",
    "X_test= uploading_csv('\\General','\\X_test18.csv')\n",
    "y_train= uploading_csv('\\General','\\y_train3.csv')\n",
    "y_test= uploading_csv('\\General','\\y_test18.csv')\n",
    "\n",
    "X_test.keys()"
   ]
  },
  {
   "cell_type": "code",
   "execution_count": 99,
   "id": "1f670b31",
   "metadata": {},
   "outputs": [
    {
     "data": {
      "text/plain": [
       "Index(['Target'], dtype='object')"
      ]
     },
     "execution_count": 99,
     "metadata": {},
     "output_type": "execute_result"
    }
   ],
   "source": [
    "y_test.keys()"
   ]
  },
  {
   "cell_type": "code",
   "execution_count": 100,
   "id": "1ee3d8d3",
   "metadata": {},
   "outputs": [],
   "source": [
    "PC= uploading_csv('\\Dataset3-New_Site','\\PC_V150.csv')"
   ]
  },
  {
   "cell_type": "markdown",
   "id": "6bf15740",
   "metadata": {},
   "source": [
    "### Grid Search"
   ]
  },
  {
   "cell_type": "code",
   "execution_count": 101,
   "id": "7f8ef009",
   "metadata": {},
   "outputs": [],
   "source": [
    "#doing"
   ]
  },
  {
   "cell_type": "code",
   "execution_count": 102,
   "id": "5c99829e",
   "metadata": {},
   "outputs": [],
   "source": [
    "parameters={\n",
    "    'max_depth':5,\n",
    "    'n_estimators': 1000,\n",
    "    'learning_rate':0.1,\n",
    "    'subsample':0.8,\n",
    "    'colsample_bytree':0.8,\n",
    "    'min_child_weight':1,\n",
    "    'gamma':0,\n",
    "    'reg_lambda':1,\n",
    "}"
   ]
  },
  {
   "cell_type": "code",
   "execution_count": 103,
   "id": "57f0df3d",
   "metadata": {},
   "outputs": [],
   "source": [
    "param_grid={\n",
    "    'n_estimators': [100, 200, 300, 400, 500, 600, 700, 800, 900, 1000],\n",
    "}"
   ]
  },
  {
   "cell_type": "code",
   "execution_count": 104,
   "id": "4367d15f",
   "metadata": {
    "scrolled": true
   },
   "outputs": [
    {
     "name": "stdout",
     "output_type": "stream",
     "text": [
      "Fitting 4 folds for each of 10 candidates, totalling 40 fits\n",
      "\n",
      "Best parameters :\n",
      "{'n_estimators': 300}\n",
      "\n",
      "power curve computation performed\n",
      "power curve computation performed\n",
      "Modelling errors for training set:\n",
      "Wind RMSE:  0.372 m/s as root mean\n",
      "Wind MAE:  0.28 m/s in avg\n",
      "Wind MAPE:  3.585 %\n",
      "Power RMSE:  219.894 kW as root mean\n",
      "Power MAE:  144.014 kW in avg\n",
      "Power MAPE:  8.873 %\n",
      "\n",
      "Modelling errors for test set:\n",
      "Wind RMSE:  0.474 m/s as root mean\n",
      "Wind MAE:  0.333 m/s in avg\n",
      "Wind MAPE:  4.316 %\n",
      "Power RMSE:  257.93 kW as root mean\n",
      "Power MAE:  167.439 kW in avg\n",
      "Power MAPE:  19.295 %\n",
      "\n",
      "\n",
      "Showing the results of the modelling: \n",
      "GridSearch_ XGBoost performed\n",
      "--- 21.248409374554953 minutes ---\n",
      "\n",
      "Lowest RMSE:  0.4854855389876249\n"
     ]
    },
    {
     "data": {
      "text/plain": [
       "GridSearchCV(cv=4,\n",
       "             estimator=XGBRegressor(base_score=None, booster='gbtree',\n",
       "                                    colsample_bylevel=None,\n",
       "                                    colsample_bynode=None, colsample_bytree=0.8,\n",
       "                                    gamma=0, gpu_id=None,\n",
       "                                    importance_type='gain',\n",
       "                                    interaction_constraints=None,\n",
       "                                    learning_rate=0.1, max_delta_step=None,\n",
       "                                    max_depth=5, min_child_weight=1,\n",
       "                                    missing=nan, monotone_constraints=None,\n",
       "                                    n_estimators=1000, n_jobs=None,\n",
       "                                    num_parallel_tree=None, random_state=42,\n",
       "                                    reg_alpha=None, reg_lambda=1,\n",
       "                                    scale_pos_weight=None, subsample=0.8,\n",
       "                                    tree_method=None, validate_parameters=None,\n",
       "                                    verbosity=None),\n",
       "             param_grid={'n_estimators': [100, 200, 300, 400, 500, 600, 700,\n",
       "                                          800, 900, 1000]},\n",
       "             scoring='neg_mean_squared_error', verbose=1)"
      ]
     },
     "execution_count": 104,
     "metadata": {},
     "output_type": "execute_result"
    }
   ],
   "source": [
    " GridSearch_XGBoost (X_train, X_test, y_train, y_test, PC, parameters, param_grid, plot_error=False)"
   ]
  },
  {
   "cell_type": "code",
   "execution_count": 105,
   "id": "487cf955",
   "metadata": {},
   "outputs": [],
   "source": [
    "parameters={\n",
    "    'max_depth':5,\n",
    "    'n_estimators': 300,\n",
    "    'learning_rate':0.1,\n",
    "    'subsample':0.8,\n",
    "    'colsample_bytree':0.8,\n",
    "    'min_child_weight':1,\n",
    "    'gamma':0,\n",
    "    'reg_lambda':1,\n",
    "}"
   ]
  },
  {
   "cell_type": "code",
   "execution_count": 106,
   "id": "295a595d",
   "metadata": {},
   "outputs": [],
   "source": [
    "param_grid={\n",
    "    'max_depth': [3, 4, 5, 6, 10, 15, 20],\n",
    "    'min_child_weight': [1, 2, 3, 6, 10]\n",
    "}"
   ]
  },
  {
   "cell_type": "code",
   "execution_count": 107,
   "id": "c56c8bb3",
   "metadata": {
    "scrolled": true
   },
   "outputs": [
    {
     "name": "stdout",
     "output_type": "stream",
     "text": [
      "Fitting 4 folds for each of 35 candidates, totalling 140 fits\n",
      "\n",
      "Best parameters :\n",
      "{'max_depth': 5, 'min_child_weight': 10}\n",
      "\n",
      "power curve computation performed\n",
      "power curve computation performed\n",
      "Modelling errors for training set:\n",
      "Wind RMSE:  0.378 m/s as root mean\n",
      "Wind MAE:  0.284 m/s in avg\n",
      "Wind MAPE:  3.637 %\n",
      "Power RMSE:  222.672 kW as root mean\n",
      "Power MAE:  145.841 kW in avg\n",
      "Power MAPE:  8.999 %\n",
      "\n",
      "Modelling errors for test set:\n",
      "Wind RMSE:  0.47 m/s as root mean\n",
      "Wind MAE:  0.331 m/s in avg\n",
      "Wind MAPE:  4.289 %\n",
      "Power RMSE:  257.066 kW as root mean\n",
      "Power MAE:  166.287 kW in avg\n",
      "Power MAPE:  18.721 %\n",
      "\n",
      "\n",
      "Showing the results of the modelling: \n",
      "GridSearch_ XGBoost performed\n",
      "--- 58.45617016951243 minutes ---\n",
      "\n",
      "Lowest RMSE:  0.4814161950829289\n"
     ]
    },
    {
     "data": {
      "text/plain": [
       "GridSearchCV(cv=4,\n",
       "             estimator=XGBRegressor(base_score=None, booster='gbtree',\n",
       "                                    colsample_bylevel=None,\n",
       "                                    colsample_bynode=None, colsample_bytree=0.8,\n",
       "                                    gamma=0, gpu_id=None,\n",
       "                                    importance_type='gain',\n",
       "                                    interaction_constraints=None,\n",
       "                                    learning_rate=0.1, max_delta_step=None,\n",
       "                                    max_depth=5, min_child_weight=1,\n",
       "                                    missing=nan, monotone_constraints=None,\n",
       "                                    n_estimators=300, n_jobs=None,\n",
       "                                    num_parallel_tree=None, random_state=42,\n",
       "                                    reg_alpha=None, reg_lambda=1,\n",
       "                                    scale_pos_weight=None, subsample=0.8,\n",
       "                                    tree_method=None, validate_parameters=None,\n",
       "                                    verbosity=None),\n",
       "             param_grid={'max_depth': [3, 4, 5, 6, 10, 15, 20],\n",
       "                         'min_child_weight': [1, 2, 3, 6, 10]},\n",
       "             scoring='neg_mean_squared_error', verbose=1)"
      ]
     },
     "execution_count": 107,
     "metadata": {},
     "output_type": "execute_result"
    }
   ],
   "source": [
    "GridSearch_XGBoost (X_train, X_test, y_train, y_test, PC, parameters, param_grid, plot_error=False)"
   ]
  },
  {
   "cell_type": "code",
   "execution_count": 108,
   "id": "3272dad8",
   "metadata": {},
   "outputs": [],
   "source": [
    "parameters={\n",
    "    'max_depth':5,\n",
    "    'n_estimators': 300,\n",
    "    'learning_rate':0.1,\n",
    "    'subsample':0.8,\n",
    "    'colsample_bytree':0.8,\n",
    "    'min_child_weight':10,\n",
    "    'gamma':0,\n",
    "    'reg_lambda':1,\n",
    "}"
   ]
  },
  {
   "cell_type": "code",
   "execution_count": 109,
   "id": "bd379105",
   "metadata": {},
   "outputs": [],
   "source": [
    "param_grid={\n",
    "    'gamma': [0, 0.1, 0.2, 0.3, 0.4, 0.5]\n",
    "}"
   ]
  },
  {
   "cell_type": "code",
   "execution_count": 110,
   "id": "4342686b",
   "metadata": {
    "scrolled": true
   },
   "outputs": [
    {
     "name": "stdout",
     "output_type": "stream",
     "text": [
      "Fitting 4 folds for each of 6 candidates, totalling 24 fits\n",
      "\n",
      "Best parameters :\n",
      "{'gamma': 0.5}\n",
      "\n",
      "power curve computation performed\n",
      "power curve computation performed\n",
      "Modelling errors for training set:\n",
      "Wind RMSE:  0.382 m/s as root mean\n",
      "Wind MAE:  0.286 m/s in avg\n",
      "Wind MAPE:  3.671 %\n",
      "Power RMSE:  224.334 kW as root mean\n",
      "Power MAE:  146.909 kW in avg\n",
      "Power MAPE:  9.083 %\n",
      "\n",
      "Modelling errors for test set:\n",
      "Wind RMSE:  0.471 m/s as root mean\n",
      "Wind MAE:  0.331 m/s in avg\n",
      "Wind MAPE:  4.285 %\n",
      "Power RMSE:  257.289 kW as root mean\n",
      "Power MAE:  166.464 kW in avg\n",
      "Power MAPE:  18.805 %\n",
      "\n",
      "\n",
      "Showing the results of the modelling: \n",
      "GridSearch_ XGBoost performed\n",
      "--- 7.851333196957906 minutes ---\n",
      "\n",
      "Lowest RMSE:  0.4797302981235918\n"
     ]
    },
    {
     "data": {
      "text/plain": [
       "GridSearchCV(cv=4,\n",
       "             estimator=XGBRegressor(base_score=None, booster='gbtree',\n",
       "                                    colsample_bylevel=None,\n",
       "                                    colsample_bynode=None, colsample_bytree=0.8,\n",
       "                                    gamma=0, gpu_id=None,\n",
       "                                    importance_type='gain',\n",
       "                                    interaction_constraints=None,\n",
       "                                    learning_rate=0.1, max_delta_step=None,\n",
       "                                    max_depth=5, min_child_weight=10,\n",
       "                                    missing=nan, monotone_constraints=None,\n",
       "                                    n_estimators=300, n_jobs=None,\n",
       "                                    num_parallel_tree=None, random_state=42,\n",
       "                                    reg_alpha=None, reg_lambda=1,\n",
       "                                    scale_pos_weight=None, subsample=0.8,\n",
       "                                    tree_method=None, validate_parameters=None,\n",
       "                                    verbosity=None),\n",
       "             param_grid={'gamma': [0, 0.1, 0.2, 0.3, 0.4, 0.5]},\n",
       "             scoring='neg_mean_squared_error', verbose=1)"
      ]
     },
     "execution_count": 110,
     "metadata": {},
     "output_type": "execute_result"
    }
   ],
   "source": [
    "GridSearch_XGBoost (X_train, X_test, y_train, y_test, PC, parameters, param_grid, plot_error=False)"
   ]
  },
  {
   "cell_type": "code",
   "execution_count": 111,
   "id": "3e03e62c",
   "metadata": {},
   "outputs": [],
   "source": [
    "parameters={\n",
    "    'max_depth':5,\n",
    "    'n_estimators': 300,\n",
    "    'learning_rate':0.1,\n",
    "    'subsample':0.8,\n",
    "    'colsample_bytree':0.8,\n",
    "    'min_child_weight':10,\n",
    "    'gamma':0.5,\n",
    "    'reg_lambda':1,\n",
    "}"
   ]
  },
  {
   "cell_type": "code",
   "execution_count": 112,
   "id": "4b133bf2",
   "metadata": {},
   "outputs": [],
   "source": [
    "param_grid={\n",
    "    'subsample': [0.4, 0.5, 0.6, 0.7, 0.8, 0.9, 1],\n",
    "    'colsample_bytree': [0.4, 0.5, 0.6, 0.7, 0.8, 0.9, 1]\n",
    "}"
   ]
  },
  {
   "cell_type": "code",
   "execution_count": 113,
   "id": "8a7f8c68",
   "metadata": {
    "scrolled": true
   },
   "outputs": [
    {
     "name": "stdout",
     "output_type": "stream",
     "text": [
      "Fitting 4 folds for each of 49 candidates, totalling 196 fits\n",
      "\n",
      "Best parameters :\n",
      "{'colsample_bytree': 0.8, 'subsample': 0.8}\n",
      "\n",
      "power curve computation performed\n",
      "power curve computation performed\n",
      "Modelling errors for training set:\n",
      "Wind RMSE:  0.382 m/s as root mean\n",
      "Wind MAE:  0.286 m/s in avg\n",
      "Wind MAPE:  3.671 %\n",
      "Power RMSE:  224.334 kW as root mean\n",
      "Power MAE:  146.909 kW in avg\n",
      "Power MAPE:  9.083 %\n",
      "\n",
      "Modelling errors for test set:\n",
      "Wind RMSE:  0.471 m/s as root mean\n",
      "Wind MAE:  0.331 m/s in avg\n",
      "Wind MAPE:  4.285 %\n",
      "Power RMSE:  257.289 kW as root mean\n",
      "Power MAE:  166.464 kW in avg\n",
      "Power MAPE:  18.805 %\n",
      "\n",
      "\n",
      "Showing the results of the modelling: \n",
      "GridSearch_ XGBoost performed\n",
      "--- 37.00842117468516 minutes ---\n",
      "\n",
      "Lowest RMSE:  0.4797302981235918\n"
     ]
    },
    {
     "data": {
      "text/plain": [
       "GridSearchCV(cv=4,\n",
       "             estimator=XGBRegressor(base_score=None, booster='gbtree',\n",
       "                                    colsample_bylevel=None,\n",
       "                                    colsample_bynode=None, colsample_bytree=0.8,\n",
       "                                    gamma=0.5, gpu_id=None,\n",
       "                                    importance_type='gain',\n",
       "                                    interaction_constraints=None,\n",
       "                                    learning_rate=0.1, max_delta_step=None,\n",
       "                                    max_depth=5, min_child_weight=10,\n",
       "                                    missing=nan, monotone_constraints=None,\n",
       "                                    n_estimators=300, n_jobs=None,\n",
       "                                    num_parallel_tree=None, random_state=42,\n",
       "                                    reg_alpha=None, reg_lambda=1,\n",
       "                                    scale_pos_weight=None, subsample=0.8,\n",
       "                                    tree_method=None, validate_parameters=None,\n",
       "                                    verbosity=None),\n",
       "             param_grid={'colsample_bytree': [0.4, 0.5, 0.6, 0.7, 0.8, 0.9, 1],\n",
       "                         'subsample': [0.4, 0.5, 0.6, 0.7, 0.8, 0.9, 1]},\n",
       "             scoring='neg_mean_squared_error', verbose=1)"
      ]
     },
     "execution_count": 113,
     "metadata": {},
     "output_type": "execute_result"
    }
   ],
   "source": [
    "GridSearch_XGBoost (X_train, X_test, y_train, y_test, PC, parameters, param_grid, plot_error=False)"
   ]
  },
  {
   "cell_type": "code",
   "execution_count": 117,
   "id": "addfa888",
   "metadata": {},
   "outputs": [],
   "source": [
    "parameters={\n",
    "    'max_depth':5,\n",
    "    'n_estimators': 300,\n",
    "    'learning_rate':0.1,\n",
    "    'subsample':0.8,\n",
    "    'colsample_bytree':0.8,\n",
    "    'min_child_weight':10,\n",
    "    'gamma':0.5,\n",
    "    'reg_lambda':1,\n",
    "}"
   ]
  },
  {
   "cell_type": "code",
   "execution_count": 118,
   "id": "8dcfbbc0",
   "metadata": {},
   "outputs": [],
   "source": [
    "param_grid={\n",
    "    'reg_lambda': [1, 10, 50, 100, 150]\n",
    "}"
   ]
  },
  {
   "cell_type": "code",
   "execution_count": 119,
   "id": "ebd5a2a5",
   "metadata": {
    "scrolled": true
   },
   "outputs": [
    {
     "name": "stdout",
     "output_type": "stream",
     "text": [
      "Fitting 4 folds for each of 5 candidates, totalling 20 fits\n",
      "\n",
      "Best parameters :\n",
      "{'reg_lambda': 10}\n",
      "\n",
      "power curve computation performed\n",
      "power curve computation performed\n",
      "Modelling errors for training set:\n",
      "Wind RMSE:  0.388 m/s as root mean\n",
      "Wind MAE:  0.29 m/s in avg\n",
      "Wind MAPE:  3.711 %\n",
      "Power RMSE:  227.046 kW as root mean\n",
      "Power MAE:  148.525 kW in avg\n",
      "Power MAPE:  9.182 %\n",
      "\n",
      "Modelling errors for test set:\n",
      "Wind RMSE:  0.469 m/s as root mean\n",
      "Wind MAE:  0.333 m/s in avg\n",
      "Wind MAPE:  4.306 %\n",
      "Power RMSE:  255.949 kW as root mean\n",
      "Power MAE:  167.262 kW in avg\n",
      "Power MAPE:  19.358 %\n",
      "\n",
      "\n",
      "Showing the results of the modelling: \n",
      "GridSearch_ XGBoost performed\n",
      "--- 4.018531171480815 minutes ---\n",
      "\n",
      "Lowest RMSE:  0.47850929882396204\n"
     ]
    },
    {
     "data": {
      "text/plain": [
       "GridSearchCV(cv=4,\n",
       "             estimator=XGBRegressor(base_score=None, booster='gbtree',\n",
       "                                    colsample_bylevel=None,\n",
       "                                    colsample_bynode=None, colsample_bytree=0.8,\n",
       "                                    gamma=0.5, gpu_id=None,\n",
       "                                    importance_type='gain',\n",
       "                                    interaction_constraints=None,\n",
       "                                    learning_rate=0.1, max_delta_step=None,\n",
       "                                    max_depth=5, min_child_weight=10,\n",
       "                                    missing=nan, monotone_constraints=None,\n",
       "                                    n_estimators=300, n_jobs=None,\n",
       "                                    num_parallel_tree=None, random_state=42,\n",
       "                                    reg_alpha=None, reg_lambda=1,\n",
       "                                    scale_pos_weight=None, subsample=0.8,\n",
       "                                    tree_method=None, validate_parameters=None,\n",
       "                                    verbosity=None),\n",
       "             param_grid={'reg_lambda': [1, 10, 50, 100, 150]},\n",
       "             scoring='neg_mean_squared_error', verbose=1)"
      ]
     },
     "execution_count": 119,
     "metadata": {},
     "output_type": "execute_result"
    }
   ],
   "source": [
    "GridSearch_XGBoost (X_train, X_test, y_train, y_test, PC, parameters, param_grid, plot_error=False)"
   ]
  },
  {
   "cell_type": "code",
   "execution_count": 120,
   "id": "bca44e56",
   "metadata": {},
   "outputs": [],
   "source": [
    "parameters={\n",
    "    'max_depth':5,\n",
    "    'n_estimators': 300,\n",
    "    'learning_rate':0.1,\n",
    "    'subsample':0.8,\n",
    "    'colsample_bytree':0.8,\n",
    "    'min_child_weight':10,\n",
    "    'gamma':0.5,\n",
    "    'reg_lambda':10,\n",
    "}"
   ]
  },
  {
   "cell_type": "code",
   "execution_count": 121,
   "id": "a5415577",
   "metadata": {},
   "outputs": [],
   "source": [
    "param_grid={\n",
    "    'learning_rate': [0.001, 0.01, 0.1, 0.5],\n",
    "    'n_estimators': [800, 900, 1000, 1200, 1500, 1800, 2000]\n",
    "}"
   ]
  },
  {
   "cell_type": "code",
   "execution_count": 122,
   "id": "d5651ea2",
   "metadata": {
    "scrolled": true
   },
   "outputs": [
    {
     "name": "stdout",
     "output_type": "stream",
     "text": [
      "Fitting 4 folds for each of 28 candidates, totalling 112 fits\n",
      "\n",
      "Best parameters :\n",
      "{'learning_rate': 0.1, 'n_estimators': 800}\n",
      "\n",
      "power curve computation performed\n",
      "power curve computation performed\n",
      "Modelling errors for training set:\n",
      "Wind RMSE:  0.336 m/s as root mean\n",
      "Wind MAE:  0.25 m/s in avg\n",
      "Wind MAPE:  3.21 %\n",
      "Power RMSE:  197.254 kW as root mean\n",
      "Power MAE:  128.505 kW in avg\n",
      "Power MAPE:  7.902 %\n",
      "\n",
      "Modelling errors for test set:\n",
      "Wind RMSE:  0.468 m/s as root mean\n",
      "Wind MAE:  0.329 m/s in avg\n",
      "Wind MAPE:  4.263 %\n",
      "Power RMSE:  253.13 kW as root mean\n",
      "Power MAE:  164.478 kW in avg\n",
      "Power MAPE:  19.039 %\n",
      "\n",
      "\n",
      "Showing the results of the modelling: \n",
      "GridSearch_ XGBoost performed\n",
      "--- 98.95010008811951 minutes ---\n",
      "\n",
      "Lowest RMSE:  0.479929974691109\n"
     ]
    },
    {
     "data": {
      "text/plain": [
       "GridSearchCV(cv=4,\n",
       "             estimator=XGBRegressor(base_score=None, booster='gbtree',\n",
       "                                    colsample_bylevel=None,\n",
       "                                    colsample_bynode=None, colsample_bytree=0.8,\n",
       "                                    gamma=0.5, gpu_id=None,\n",
       "                                    importance_type='gain',\n",
       "                                    interaction_constraints=None,\n",
       "                                    learning_rate=0.1, max_delta_step=None,\n",
       "                                    max_depth=5, min_child_weight=10,\n",
       "                                    missing=nan, monotone_constraints=None,\n",
       "                                    n_estimators=300, n_jobs=None,\n",
       "                                    num_parallel_tree=None, random_state=42,\n",
       "                                    reg_alpha=None, reg_lambda=10,\n",
       "                                    scale_pos_weight=None, subsample=0.8,\n",
       "                                    tree_method=None, validate_parameters=None,\n",
       "                                    verbosity=None),\n",
       "             param_grid={'learning_rate': [0.001, 0.01, 0.1, 0.5],\n",
       "                         'n_estimators': [800, 900, 1000, 1200, 1500, 1800,\n",
       "                                          2000]},\n",
       "             scoring='neg_mean_squared_error', verbose=1)"
      ]
     },
     "execution_count": 122,
     "metadata": {},
     "output_type": "execute_result"
    }
   ],
   "source": [
    "GridSearch_XGBoost (X_train, X_test, y_train, y_test, PC, parameters, param_grid, plot_error=False)"
   ]
  },
  {
   "cell_type": "markdown",
   "id": "43caa33f",
   "metadata": {},
   "source": [
    "### Manual modelling universal hyperparameters"
   ]
  },
  {
   "cell_type": "code",
   "execution_count": 143,
   "id": "75ff5ae4",
   "metadata": {},
   "outputs": [],
   "source": [
    "parameters={\n",
    "    'max_depth':5,\n",
    "    'n_estimators': 2000,\n",
    "    'learning_rate':0.1,\n",
    "    'subsample':0.8,\n",
    "    'colsample_bytree':0.8,\n",
    "    'min_child_weight':10,\n",
    "    'gamma':0.4,\n",
    "    'reg_lambda':1,\n",
    "}"
   ]
  },
  {
   "cell_type": "code",
   "execution_count": 144,
   "id": "9bf124ce",
   "metadata": {},
   "outputs": [],
   "source": [
    "#WTG18"
   ]
  },
  {
   "cell_type": "code",
   "execution_count": 145,
   "id": "b5ccb821",
   "metadata": {},
   "outputs": [
    {
     "data": {
      "text/plain": [
       "Index(['WS1', 'WS3', 'WS4', 'WSHor', 'WDHor', 'WSVer', 'WDVer', 'T1', 'RH1',\n",
       "       'T2', 'RH2', 'PR1', 'AD1', 'PR2', 'AD2', 'Rain', 'WD1', 'WD3', 'WD4',\n",
       "       'TI', 'WSH', 'WD_bin', 'tod', 'WVeer'],\n",
       "      dtype='object')"
      ]
     },
     "execution_count": 145,
     "metadata": {},
     "output_type": "execute_result"
    }
   ],
   "source": [
    "#upload the dataset with file_folder, file_name\n",
    "# data_up= uploading_csv('\\Dataset1-Normal_Site','\\data_comp14.csv')\n",
    "X_train= uploading_csv('\\General','\\X_train3.csv')\n",
    "X_test= uploading_csv('\\General','\\X_test18.csv')\n",
    "y_train= uploading_csv('\\General','\\y_train3.csv')\n",
    "y_test= uploading_csv('\\General','\\y_test18.csv')\n",
    "\n",
    "X_test.keys()"
   ]
  },
  {
   "cell_type": "code",
   "execution_count": 146,
   "id": "7944d9dd",
   "metadata": {},
   "outputs": [],
   "source": [
    "PC= uploading_csv('\\Dataset3-New_Site','\\PC_V150.csv')"
   ]
  },
  {
   "cell_type": "code",
   "execution_count": 147,
   "id": "bb381742",
   "metadata": {},
   "outputs": [],
   "source": [
    "#modelling"
   ]
  },
  {
   "cell_type": "code",
   "execution_count": 148,
   "id": "1503962d",
   "metadata": {},
   "outputs": [
    {
     "name": "stdout",
     "output_type": "stream",
     "text": [
      "power curve computation performed\n",
      "power curve computation performed\n",
      "Modelling errors for training set:\n",
      "Wind RMSE:  0.271 m/s as root mean\n",
      "Wind MAE:  0.192 m/s in avg\n",
      "Wind MAPE:  2.453 %\n",
      "Power RMSE:  158.669 kW as root mean\n",
      "Power MAE:  99.299 kW in avg\n",
      "Power MAPE:  5.966 %\n",
      "\n",
      "Modelling errors for test set:\n",
      "Wind RMSE:  0.493 m/s as root mean\n",
      "Wind MAE:  0.338 m/s in avg\n",
      "Wind MAPE:  4.388 %\n",
      "Power RMSE:  263.596 kW as root mean\n",
      "Power MAE:  168.53 kW in avg\n",
      "Power MAPE:  19.361 %\n",
      "\n",
      "\n",
      "Showing the results of the modelling: \n",
      "XGBoost modelling performed\n"
     ]
    }
   ],
   "source": [
    "model = modelling_XGBoost (X_train, X_test, y_train, y_test, PC, parameters, plot_error=False, plot=True)"
   ]
  },
  {
   "cell_type": "code",
   "execution_count": 149,
   "id": "a8a1265b",
   "metadata": {},
   "outputs": [
    {
     "name": "stdout",
     "output_type": "stream",
     "text": [
      "power curve computation performed\n",
      "power curve computation performed\n",
      "Modelling errors for training set:\n",
      "Wind RMSE:  0.271 m/s as root mean\n",
      "Wind MAE:  0.192 m/s in avg\n",
      "Wind MAPE:  2.453 %\n",
      "Power RMSE:  158.669 kW as root mean\n",
      "Power MAE:  99.299 kW in avg\n",
      "Power MAPE:  5.966 %\n",
      "\n",
      "Modelling errors for test set:\n",
      "Wind RMSE:  0.493 m/s as root mean\n",
      "Wind MAE:  0.338 m/s in avg\n",
      "Wind MAPE:  4.388 %\n",
      "Power RMSE:  263.596 kW as root mean\n",
      "Power MAE:  168.53 kW in avg\n",
      "Power MAPE:  19.361 %\n",
      "\n",
      "\n",
      "Showing the results of the modelling: \n",
      "XGBoost results performed\n"
     ]
    }
   ],
   "source": [
    "WS_pred=model_testing (X_train, X_test, y_train, y_test, PC, model, plot_error=False)"
   ]
  },
  {
   "cell_type": "code",
   "execution_count": 150,
   "id": "013ea214",
   "metadata": {},
   "outputs": [
    {
     "name": "stdout",
     "output_type": "stream",
     "text": [
      "file General_XGB_WTG18.csv saved in \\Results_ folder\n"
     ]
    }
   ],
   "source": [
    "WS_pred=pd.DataFrame(WS_pred)\n",
    "save(WS_pred,'\\Results_','General_XGB_WTG18.csv')"
   ]
  },
  {
   "cell_type": "code",
   "execution_count": 151,
   "id": "f153cfc2",
   "metadata": {},
   "outputs": [],
   "source": [
    "#WTG20"
   ]
  },
  {
   "cell_type": "code",
   "execution_count": 152,
   "id": "75a864d0",
   "metadata": {},
   "outputs": [
    {
     "data": {
      "text/plain": [
       "Index(['WS1', 'WS3', 'WS4', 'WSHor', 'WDHor', 'WSVer', 'WDVer', 'T1', 'RH1',\n",
       "       'T2', 'RH2', 'PR1', 'AD1', 'PR2', 'AD2', 'Rain', 'WD1', 'WD3', 'WD4',\n",
       "       'TI', 'WSH', 'WD_bin', 'tod', 'WVeer'],\n",
       "      dtype='object')"
      ]
     },
     "execution_count": 152,
     "metadata": {},
     "output_type": "execute_result"
    }
   ],
   "source": [
    "#upload the dataset with file_folder, file_name\n",
    "X_train= uploading_csv('\\General','\\X_train3.csv')\n",
    "X_test= uploading_csv('\\General','\\X_test20.csv')\n",
    "y_train= uploading_csv('\\General','\\y_train3.csv')\n",
    "y_test= uploading_csv('\\General','\\y_test20.csv')\n",
    "\n",
    "X_test.keys()"
   ]
  },
  {
   "cell_type": "code",
   "execution_count": 153,
   "id": "774249eb",
   "metadata": {},
   "outputs": [
    {
     "name": "stdout",
     "output_type": "stream",
     "text": [
      "power curve computation performed\n",
      "power curve computation performed\n",
      "Modelling errors for training set:\n",
      "Wind RMSE:  0.271 m/s as root mean\n",
      "Wind MAE:  0.192 m/s in avg\n",
      "Wind MAPE:  2.453 %\n",
      "Power RMSE:  158.669 kW as root mean\n",
      "Power MAE:  99.299 kW in avg\n",
      "Power MAPE:  5.966 %\n",
      "\n",
      "Modelling errors for test set:\n",
      "Wind RMSE:  0.507 m/s as root mean\n",
      "Wind MAE:  0.352 m/s in avg\n",
      "Wind MAPE:  4.463 %\n",
      "Power RMSE:  278.96 kW as root mean\n",
      "Power MAE:  179.647 kW in avg\n",
      "Power MAPE:  10.402 %\n",
      "\n",
      "\n",
      "Showing the results of the modelling: \n",
      "XGBoost results performed\n"
     ]
    }
   ],
   "source": [
    "WS_pred=model_testing (X_train, X_test, y_train, y_test, PC, model, plot_error=False)"
   ]
  },
  {
   "cell_type": "code",
   "execution_count": 154,
   "id": "9f94f3bb",
   "metadata": {},
   "outputs": [
    {
     "name": "stdout",
     "output_type": "stream",
     "text": [
      "file General_XGB_WTG20.csv saved in \\Results_ folder\n"
     ]
    }
   ],
   "source": [
    "WS_pred=pd.DataFrame(WS_pred)\n",
    "save(WS_pred,'\\Results_','General_XGB_WTG20.csv')"
   ]
  },
  {
   "cell_type": "code",
   "execution_count": 155,
   "id": "e79eeec1",
   "metadata": {},
   "outputs": [],
   "source": [
    "#WTG43"
   ]
  },
  {
   "cell_type": "code",
   "execution_count": 156,
   "id": "bbfbefd0",
   "metadata": {},
   "outputs": [
    {
     "data": {
      "text/plain": [
       "Index(['WS1', 'WS3', 'WS4', 'WSHor', 'WDHor', 'WSVer', 'WDVer', 'T1', 'RH1',\n",
       "       'T2', 'RH2', 'PR1', 'AD1', 'PR2', 'AD2', 'Rain', 'WD1', 'WD3', 'WD4',\n",
       "       'TI', 'WSH', 'WD_bin', 'tod', 'WVeer'],\n",
       "      dtype='object')"
      ]
     },
     "execution_count": 156,
     "metadata": {},
     "output_type": "execute_result"
    }
   ],
   "source": [
    "#upload the dataset with file_folder, file_name\n",
    "X_train= uploading_csv('\\General','\\X_train3.csv')\n",
    "X_test= uploading_csv('\\General','\\X_test43.csv')\n",
    "y_train= uploading_csv('\\General','\\y_train3.csv')\n",
    "y_test= uploading_csv('\\General','\\y_test43.csv')\n",
    "\n",
    "X_test.keys()"
   ]
  },
  {
   "cell_type": "code",
   "execution_count": 157,
   "id": "453f6946",
   "metadata": {},
   "outputs": [
    {
     "name": "stdout",
     "output_type": "stream",
     "text": [
      "power curve computation performed\n",
      "power curve computation performed\n",
      "Modelling errors for training set:\n",
      "Wind RMSE:  0.271 m/s as root mean\n",
      "Wind MAE:  0.192 m/s in avg\n",
      "Wind MAPE:  2.453 %\n",
      "Power RMSE:  158.669 kW as root mean\n",
      "Power MAE:  99.299 kW in avg\n",
      "Power MAPE:  5.966 %\n",
      "\n",
      "Modelling errors for test set:\n",
      "Wind RMSE:  0.546 m/s as root mean\n",
      "Wind MAE:  0.407 m/s in avg\n",
      "Wind MAPE:  4.769 %\n",
      "Power RMSE:  291.18 kW as root mean\n",
      "Power MAE:  178.78 kW in avg\n",
      "Power MAPE:  10.11 %\n",
      "\n",
      "\n",
      "Showing the results of the modelling: \n",
      "XGBoost results performed\n"
     ]
    }
   ],
   "source": [
    "WS_pred=model_testing (X_train, X_test, y_train, y_test, PC, model, plot_error=False)"
   ]
  },
  {
   "cell_type": "code",
   "execution_count": 158,
   "id": "2d9df090",
   "metadata": {},
   "outputs": [
    {
     "name": "stdout",
     "output_type": "stream",
     "text": [
      "file General_XGB_WTG43.csv saved in \\Results_ folder\n"
     ]
    }
   ],
   "source": [
    "WS_pred=pd.DataFrame(WS_pred)\n",
    "save(WS_pred,'\\Results_','General_XGB_WTG43.csv')"
   ]
  },
  {
   "cell_type": "code",
   "execution_count": 159,
   "id": "bba990bb",
   "metadata": {},
   "outputs": [],
   "source": [
    "#WTG46"
   ]
  },
  {
   "cell_type": "code",
   "execution_count": 160,
   "id": "1d96ee9f",
   "metadata": {},
   "outputs": [
    {
     "data": {
      "text/plain": [
       "Index(['WS1', 'WS3', 'WS4', 'WSHor', 'WDHor', 'WSVer', 'WDVer', 'T1', 'RH1',\n",
       "       'T2', 'RH2', 'PR1', 'AD1', 'PR2', 'AD2', 'Rain', 'WD1', 'WD3', 'WD4',\n",
       "       'TI', 'WSH', 'WD_bin', 'tod', 'WVeer'],\n",
       "      dtype='object')"
      ]
     },
     "execution_count": 160,
     "metadata": {},
     "output_type": "execute_result"
    }
   ],
   "source": [
    "#upload the dataset with file_folder, file_name\n",
    "X_train= uploading_csv('\\General','\\X_train3.csv')\n",
    "X_test= uploading_csv('\\General','\\X_test46.csv')\n",
    "y_train= uploading_csv('\\General','\\y_train3.csv')\n",
    "y_test= uploading_csv('\\General','\\y_test46.csv')\n",
    "\n",
    "X_test.keys()"
   ]
  },
  {
   "cell_type": "code",
   "execution_count": 161,
   "id": "02207152",
   "metadata": {},
   "outputs": [
    {
     "name": "stdout",
     "output_type": "stream",
     "text": [
      "power curve computation performed\n",
      "power curve computation performed\n",
      "Modelling errors for training set:\n",
      "Wind RMSE:  0.271 m/s as root mean\n",
      "Wind MAE:  0.192 m/s in avg\n",
      "Wind MAPE:  2.453 %\n",
      "Power RMSE:  158.669 kW as root mean\n",
      "Power MAE:  99.299 kW in avg\n",
      "Power MAPE:  5.966 %\n",
      "\n",
      "Modelling errors for test set:\n",
      "Wind RMSE:  0.505 m/s as root mean\n",
      "Wind MAE:  0.368 m/s in avg\n",
      "Wind MAPE:  4.925 %\n",
      "Power RMSE:  305.023 kW as root mean\n",
      "Power MAE:  192.413 kW in avg\n",
      "Power MAPE:  12.893 %\n",
      "\n",
      "\n",
      "Showing the results of the modelling: \n",
      "XGBoost results performed\n"
     ]
    }
   ],
   "source": [
    "WS_pred=model_testing (X_train, X_test, y_train, y_test, PC, model, plot_error=False)"
   ]
  },
  {
   "cell_type": "code",
   "execution_count": 162,
   "id": "f4844eb1",
   "metadata": {},
   "outputs": [
    {
     "name": "stdout",
     "output_type": "stream",
     "text": [
      "file General_XGB_WTG46.csv saved in \\Results_ folder\n"
     ]
    }
   ],
   "source": [
    "WS_pred=pd.DataFrame(WS_pred)\n",
    "save(WS_pred,'\\Results_','General_XGB_WTG46.csv')"
   ]
  },
  {
   "cell_type": "code",
   "execution_count": null,
   "id": "26814483",
   "metadata": {},
   "outputs": [],
   "source": []
  },
  {
   "cell_type": "markdown",
   "id": "aa65c6b0",
   "metadata": {},
   "source": [
    "### Manual modelling tuning"
   ]
  },
  {
   "cell_type": "code",
   "execution_count": 163,
   "id": "5dfa2e1f",
   "metadata": {},
   "outputs": [],
   "source": [
    "#tuning hyperparameters"
   ]
  },
  {
   "cell_type": "code",
   "execution_count": 164,
   "id": "e4987ecf",
   "metadata": {},
   "outputs": [],
   "source": [
    "parameters={\n",
    "    'max_depth':5,\n",
    "    'n_estimators': 800,\n",
    "    'learning_rate':0.1,\n",
    "    'subsample':0.8,\n",
    "    'colsample_bytree':0.8,\n",
    "    'min_child_weight':10,\n",
    "    'gamma':0.5,\n",
    "    'reg_lambda':10,\n",
    "}"
   ]
  },
  {
   "cell_type": "code",
   "execution_count": 165,
   "id": "50d7c87d",
   "metadata": {},
   "outputs": [],
   "source": [
    "#WTG18"
   ]
  },
  {
   "cell_type": "code",
   "execution_count": 166,
   "id": "f5645ec7",
   "metadata": {},
   "outputs": [
    {
     "data": {
      "text/plain": [
       "Index(['WS1', 'WS3', 'WS4', 'WSHor', 'WDHor', 'WSVer', 'WDVer', 'T1', 'RH1',\n",
       "       'T2', 'RH2', 'PR1', 'AD1', 'PR2', 'AD2', 'Rain', 'WD1', 'WD3', 'WD4',\n",
       "       'TI', 'WSH', 'WD_bin', 'tod', 'WVeer'],\n",
       "      dtype='object')"
      ]
     },
     "execution_count": 166,
     "metadata": {},
     "output_type": "execute_result"
    }
   ],
   "source": [
    "#upload the dataset with file_folder, file_name\n",
    "# data_up= uploading_csv('\\Dataset1-Normal_Site','\\data_comp14.csv')\n",
    "X_train= uploading_csv('\\General','\\X_train3.csv')\n",
    "X_test= uploading_csv('\\General','\\X_test18.csv')\n",
    "y_train= uploading_csv('\\General','\\y_train3.csv')\n",
    "y_test= uploading_csv('\\General','\\y_test18.csv')\n",
    "\n",
    "X_test.keys()"
   ]
  },
  {
   "cell_type": "code",
   "execution_count": 167,
   "id": "150aebf4",
   "metadata": {},
   "outputs": [],
   "source": [
    "PC= uploading_csv('\\Dataset3-New_Site','\\PC_V150.csv')"
   ]
  },
  {
   "cell_type": "code",
   "execution_count": 168,
   "id": "93e482ba",
   "metadata": {},
   "outputs": [],
   "source": [
    "#modelling"
   ]
  },
  {
   "cell_type": "code",
   "execution_count": 169,
   "id": "4e86340e",
   "metadata": {},
   "outputs": [
    {
     "name": "stdout",
     "output_type": "stream",
     "text": [
      "power curve computation performed\n",
      "power curve computation performed\n",
      "Modelling errors for training set:\n",
      "Wind RMSE:  0.323 m/s as root mean\n",
      "Wind MAE:  0.238 m/s in avg\n",
      "Wind MAPE:  3.051 %\n",
      "Power RMSE:  189.982 kW as root mean\n",
      "Power MAE:  122.561 kW in avg\n",
      "Power MAPE:  7.494 %\n",
      "\n",
      "Modelling errors for test set:\n",
      "Wind RMSE:  0.473 m/s as root mean\n",
      "Wind MAE:  0.331 m/s in avg\n",
      "Wind MAPE:  4.293 %\n",
      "Power RMSE:  253.771 kW as root mean\n",
      "Power MAE:  164.76 kW in avg\n",
      "Power MAPE:  18.712 %\n",
      "\n",
      "\n",
      "Showing the results of the modelling: \n",
      "XGBoost modelling performed\n"
     ]
    }
   ],
   "source": [
    "model = modelling_XGBoost (X_train, X_test, y_train, y_test, PC, parameters, plot_error=False, plot=True)"
   ]
  },
  {
   "cell_type": "code",
   "execution_count": 170,
   "id": "e19b537d",
   "metadata": {},
   "outputs": [],
   "source": [
    "#testing"
   ]
  },
  {
   "cell_type": "code",
   "execution_count": 171,
   "id": "29e1d470",
   "metadata": {},
   "outputs": [],
   "source": [
    "#WTG18"
   ]
  },
  {
   "cell_type": "code",
   "execution_count": 172,
   "id": "59ac8158",
   "metadata": {},
   "outputs": [
    {
     "name": "stdout",
     "output_type": "stream",
     "text": [
      "power curve computation performed\n",
      "power curve computation performed\n",
      "Modelling errors for training set:\n",
      "Wind RMSE:  0.323 m/s as root mean\n",
      "Wind MAE:  0.238 m/s in avg\n",
      "Wind MAPE:  3.051 %\n",
      "Power RMSE:  189.982 kW as root mean\n",
      "Power MAE:  122.561 kW in avg\n",
      "Power MAPE:  7.494 %\n",
      "\n",
      "Modelling errors for test set:\n",
      "Wind RMSE:  0.473 m/s as root mean\n",
      "Wind MAE:  0.331 m/s in avg\n",
      "Wind MAPE:  4.293 %\n",
      "Power RMSE:  253.771 kW as root mean\n",
      "Power MAE:  164.76 kW in avg\n",
      "Power MAPE:  18.712 %\n",
      "\n",
      "\n",
      "Showing the results of the modelling: \n",
      "XGBoost results performed\n"
     ]
    }
   ],
   "source": [
    "WS_pred=model_testing (X_train, X_test, y_train, y_test, PC, model, plot_error=False)"
   ]
  },
  {
   "cell_type": "code",
   "execution_count": 173,
   "id": "26365562",
   "metadata": {},
   "outputs": [
    {
     "name": "stdout",
     "output_type": "stream",
     "text": [
      "file General_tun_XGB_WTG18.csv saved in \\Results_ folder\n"
     ]
    }
   ],
   "source": [
    "WS_pred=pd.DataFrame(WS_pred)\n",
    "save(WS_pred,'\\Results_','General_tun_XGB_WTG18.csv')"
   ]
  },
  {
   "cell_type": "code",
   "execution_count": 174,
   "id": "62f09cf0",
   "metadata": {},
   "outputs": [],
   "source": [
    "#WTG20"
   ]
  },
  {
   "cell_type": "code",
   "execution_count": 175,
   "id": "1611b634",
   "metadata": {},
   "outputs": [
    {
     "data": {
      "text/plain": [
       "Index(['WS1', 'WS3', 'WS4', 'WSHor', 'WDHor', 'WSVer', 'WDVer', 'T1', 'RH1',\n",
       "       'T2', 'RH2', 'PR1', 'AD1', 'PR2', 'AD2', 'Rain', 'WD1', 'WD3', 'WD4',\n",
       "       'TI', 'WSH', 'WD_bin', 'tod', 'WVeer'],\n",
       "      dtype='object')"
      ]
     },
     "execution_count": 175,
     "metadata": {},
     "output_type": "execute_result"
    }
   ],
   "source": [
    "#upload the dataset with file_folder, file_name\n",
    "X_train= uploading_csv('\\General','\\X_train3.csv')\n",
    "X_test= uploading_csv('\\General','\\X_test20.csv')\n",
    "y_train= uploading_csv('\\General','\\y_train3.csv')\n",
    "y_test= uploading_csv('\\General','\\y_test20.csv')\n",
    "\n",
    "X_test.keys()"
   ]
  },
  {
   "cell_type": "code",
   "execution_count": 176,
   "id": "f5bfc317",
   "metadata": {},
   "outputs": [
    {
     "name": "stdout",
     "output_type": "stream",
     "text": [
      "power curve computation performed\n",
      "power curve computation performed\n",
      "Modelling errors for training set:\n",
      "Wind RMSE:  0.323 m/s as root mean\n",
      "Wind MAE:  0.238 m/s in avg\n",
      "Wind MAPE:  3.051 %\n",
      "Power RMSE:  189.982 kW as root mean\n",
      "Power MAE:  122.561 kW in avg\n",
      "Power MAPE:  7.494 %\n",
      "\n",
      "Modelling errors for test set:\n",
      "Wind RMSE:  0.463 m/s as root mean\n",
      "Wind MAE:  0.326 m/s in avg\n",
      "Wind MAPE:  4.157 %\n",
      "Power RMSE:  262.909 kW as root mean\n",
      "Power MAE:  170.345 kW in avg\n",
      "Power MAPE:  9.852 %\n",
      "\n",
      "\n",
      "Showing the results of the modelling: \n",
      "XGBoost results performed\n"
     ]
    }
   ],
   "source": [
    "WS_pred=model_testing (X_train, X_test, y_train, y_test, PC, model, plot_error=False)"
   ]
  },
  {
   "cell_type": "code",
   "execution_count": 177,
   "id": "2bb2b8df",
   "metadata": {},
   "outputs": [
    {
     "name": "stdout",
     "output_type": "stream",
     "text": [
      "file General_tun_XGB_WTG20.csv saved in \\Results_ folder\n"
     ]
    }
   ],
   "source": [
    "WS_pred=pd.DataFrame(WS_pred)\n",
    "save(WS_pred,'\\Results_','General_tun_XGB_WTG20.csv')"
   ]
  },
  {
   "cell_type": "code",
   "execution_count": 178,
   "id": "1c240aa5",
   "metadata": {},
   "outputs": [],
   "source": [
    "#WTG43"
   ]
  },
  {
   "cell_type": "code",
   "execution_count": 179,
   "id": "db3e4a47",
   "metadata": {},
   "outputs": [
    {
     "data": {
      "text/plain": [
       "Index(['WS1', 'WS3', 'WS4', 'WSHor', 'WDHor', 'WSVer', 'WDVer', 'T1', 'RH1',\n",
       "       'T2', 'RH2', 'PR1', 'AD1', 'PR2', 'AD2', 'Rain', 'WD1', 'WD3', 'WD4',\n",
       "       'TI', 'WSH', 'WD_bin', 'tod', 'WVeer'],\n",
       "      dtype='object')"
      ]
     },
     "execution_count": 179,
     "metadata": {},
     "output_type": "execute_result"
    }
   ],
   "source": [
    "#upload the dataset with file_folder, file_name\n",
    "X_train= uploading_csv('\\General','\\X_train3.csv')\n",
    "X_test= uploading_csv('\\General','\\X_test43.csv')\n",
    "y_train= uploading_csv('\\General','\\y_train3.csv')\n",
    "y_test= uploading_csv('\\General','\\y_test43.csv')\n",
    "\n",
    "X_test.keys()"
   ]
  },
  {
   "cell_type": "code",
   "execution_count": 180,
   "id": "74725d55",
   "metadata": {},
   "outputs": [
    {
     "name": "stdout",
     "output_type": "stream",
     "text": [
      "power curve computation performed\n",
      "power curve computation performed\n",
      "Modelling errors for training set:\n",
      "Wind RMSE:  0.323 m/s as root mean\n",
      "Wind MAE:  0.238 m/s in avg\n",
      "Wind MAPE:  3.051 %\n",
      "Power RMSE:  189.982 kW as root mean\n",
      "Power MAE:  122.561 kW in avg\n",
      "Power MAPE:  7.494 %\n",
      "\n",
      "Modelling errors for test set:\n",
      "Wind RMSE:  0.518 m/s as root mean\n",
      "Wind MAE:  0.391 m/s in avg\n",
      "Wind MAPE:  4.593 %\n",
      "Power RMSE:  275.975 kW as root mean\n",
      "Power MAE:  171.84 kW in avg\n",
      "Power MAPE:  9.731 %\n",
      "\n",
      "\n",
      "Showing the results of the modelling: \n",
      "XGBoost results performed\n"
     ]
    }
   ],
   "source": [
    "WS_pred=model_testing (X_train, X_test, y_train, y_test, PC, model, plot_error=False)"
   ]
  },
  {
   "cell_type": "code",
   "execution_count": 181,
   "id": "87fd81bc",
   "metadata": {},
   "outputs": [
    {
     "name": "stdout",
     "output_type": "stream",
     "text": [
      "file General_tun_XGB_WTG43.csv saved in \\Results_ folder\n"
     ]
    }
   ],
   "source": [
    "WS_pred=pd.DataFrame(WS_pred)\n",
    "save(WS_pred,'\\Results_','General_tun_XGB_WTG43.csv')"
   ]
  },
  {
   "cell_type": "code",
   "execution_count": 182,
   "id": "ba6ab907",
   "metadata": {},
   "outputs": [],
   "source": [
    "#WTG46"
   ]
  },
  {
   "cell_type": "code",
   "execution_count": 183,
   "id": "a822cb0a",
   "metadata": {},
   "outputs": [
    {
     "data": {
      "text/plain": [
       "Index(['WS1', 'WS3', 'WS4', 'WSHor', 'WDHor', 'WSVer', 'WDVer', 'T1', 'RH1',\n",
       "       'T2', 'RH2', 'PR1', 'AD1', 'PR2', 'AD2', 'Rain', 'WD1', 'WD3', 'WD4',\n",
       "       'TI', 'WSH', 'WD_bin', 'tod', 'WVeer'],\n",
       "      dtype='object')"
      ]
     },
     "execution_count": 183,
     "metadata": {},
     "output_type": "execute_result"
    }
   ],
   "source": [
    "#upload the dataset with file_folder, file_name\n",
    "X_train= uploading_csv('\\General','\\X_train3.csv')\n",
    "X_test= uploading_csv('\\General','\\X_test46.csv')\n",
    "y_train= uploading_csv('\\General','\\y_train3.csv')\n",
    "y_test= uploading_csv('\\General','\\y_test46.csv')\n",
    "\n",
    "X_test.keys()"
   ]
  },
  {
   "cell_type": "code",
   "execution_count": 184,
   "id": "e0082ace",
   "metadata": {},
   "outputs": [
    {
     "name": "stdout",
     "output_type": "stream",
     "text": [
      "power curve computation performed\n",
      "power curve computation performed\n",
      "Modelling errors for training set:\n",
      "Wind RMSE:  0.323 m/s as root mean\n",
      "Wind MAE:  0.238 m/s in avg\n",
      "Wind MAPE:  3.051 %\n",
      "Power RMSE:  189.982 kW as root mean\n",
      "Power MAE:  122.561 kW in avg\n",
      "Power MAPE:  7.494 %\n",
      "\n",
      "Modelling errors for test set:\n",
      "Wind RMSE:  0.457 m/s as root mean\n",
      "Wind MAE:  0.337 m/s in avg\n",
      "Wind MAPE:  4.541 %\n",
      "Power RMSE:  281.613 kW as root mean\n",
      "Power MAE:  179.069 kW in avg\n",
      "Power MAPE:  12.02 %\n",
      "\n",
      "\n",
      "Showing the results of the modelling: \n",
      "XGBoost results performed\n"
     ]
    }
   ],
   "source": [
    "WS_pred=model_testing (X_train, X_test, y_train, y_test, PC, model, plot_error=False)"
   ]
  },
  {
   "cell_type": "code",
   "execution_count": 185,
   "id": "eec1cd37",
   "metadata": {},
   "outputs": [
    {
     "name": "stdout",
     "output_type": "stream",
     "text": [
      "file General_tun_XGB_WTG46.csv saved in \\Results_ folder\n"
     ]
    }
   ],
   "source": [
    "WS_pred=pd.DataFrame(WS_pred)\n",
    "save(WS_pred,'\\Results_','General_tun_XGB_WTG46.csv')"
   ]
  },
  {
   "cell_type": "code",
   "execution_count": null,
   "id": "d5964ada",
   "metadata": {},
   "outputs": [],
   "source": []
  }
 ],
 "metadata": {
  "kernelspec": {
   "display_name": "Python 3",
   "language": "python",
   "name": "python3"
  },
  "language_info": {
   "codemirror_mode": {
    "name": "ipython",
    "version": 3
   },
   "file_extension": ".py",
   "mimetype": "text/x-python",
   "name": "python",
   "nbconvert_exporter": "python",
   "pygments_lexer": "ipython3",
   "version": "3.8.10"
  },
  "notify_time": "30",
  "toc": {
   "base_numbering": 1,
   "nav_menu": {},
   "number_sections": true,
   "sideBar": true,
   "skip_h1_title": false,
   "title_cell": "Table of Contents",
   "title_sidebar": "Contents",
   "toc_cell": false,
   "toc_position": {
    "height": "calc(100% - 180px)",
    "left": "10px",
    "top": "150px",
    "width": "271.181px"
   },
   "toc_section_display": true,
   "toc_window_display": true
  },
  "varInspector": {
   "cols": {
    "lenName": 16,
    "lenType": 16,
    "lenVar": 40
   },
   "kernels_config": {
    "python": {
     "delete_cmd_postfix": "",
     "delete_cmd_prefix": "del ",
     "library": "var_list.py",
     "varRefreshCmd": "print(var_dic_list())"
    },
    "r": {
     "delete_cmd_postfix": ") ",
     "delete_cmd_prefix": "rm(",
     "library": "var_list.r",
     "varRefreshCmd": "cat(var_dic_list()) "
    }
   },
   "position": {
    "height": "255px",
    "left": "1213.99px",
    "right": "20px",
    "top": "-3.98611px",
    "width": "350px"
   },
   "types_to_exclude": [
    "module",
    "function",
    "builtin_function_or_method",
    "instance",
    "_Feature"
   ],
   "window_display": true
  }
 },
 "nbformat": 4,
 "nbformat_minor": 5
}
