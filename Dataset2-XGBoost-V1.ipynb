{
 "cells": [
  {
   "cell_type": "markdown",
   "id": "39ad1a2a",
   "metadata": {},
   "source": [
    "# Packages"
   ]
  },
  {
   "cell_type": "code",
   "execution_count": 1,
   "id": "3ff62b0e",
   "metadata": {},
   "outputs": [],
   "source": [
    "#basic packages\n",
    "import time\n",
    "import numpy as np\n",
    "import pandas as pd\n",
    "import seaborn as sns\n",
    "import matplotlib.pyplot as plt\n",
    "import os\n",
    "\n",
    "#data pre-processing packages\n",
    "from datetime import datetime\n",
    "\n",
    "\n",
    "#results and analysis packages\n",
    "from sklearn.metrics import mean_absolute_percentage_error as mape\n",
    "from sklearn.metrics import mean_absolute_error as mae\n",
    "from sklearn.metrics import mean_squared_error, r2_score"
   ]
  },
  {
   "cell_type": "code",
   "execution_count": 2,
   "id": "f78cf529",
   "metadata": {},
   "outputs": [],
   "source": [
    "# data modelling & results\n",
    "from yellowbrick.regressor import PredictionError, ResidualsPlot\n",
    "from sklearn.model_selection import train_test_split\n",
    "import math as math\n",
    "\n",
    "#NN\n",
    "import xgboost as xgb\n",
    "\n",
    "from tensorflow import keras\n",
    "from keras.utils.vis_utils import plot_model\n",
    "from scipy.stats import reciprocal\n",
    "from sklearn.model_selection import RandomizedSearchCV, GridSearchCV\n",
    "\n",
    "#feature importance\n",
    "import shap\n"
   ]
  },
  {
   "cell_type": "markdown",
   "id": "5304bd4d",
   "metadata": {},
   "source": [
    "# Script"
   ]
  },
  {
   "cell_type": "markdown",
   "id": "93dd727e",
   "metadata": {},
   "source": [
    "## Error computation"
   ]
  },
  {
   "cell_type": "code",
   "execution_count": 3,
   "id": "7a4247b4",
   "metadata": {},
   "outputs": [],
   "source": [
    "#defining the Root Mean Squared Error\n",
    "\n",
    "def rmse(y_true, y_predicted):\n",
    "    \n",
    "    return np.sqrt(mean_squared_error(y_true, y_predicted))"
   ]
  },
  {
   "cell_type": "code",
   "execution_count": 4,
   "id": "910f4f61",
   "metadata": {},
   "outputs": [],
   "source": [
    "#errors computation\n",
    "\n",
    "def errors_computation(data):\n",
    "    \n",
    "    df=pd.DataFrame()\n",
    "    #df.at['RMSE (as root mean)', 'Wind']= round(rmse(data['Target'], data['WS_pred']), 3)\n",
    "    df.at['MAE (in avg)', 'Wind']= round(mae(data['Target'], data['WS_pred']), 3)\n",
    "    df.at['MAPE (%)', 'Wind']= round(mape(data['Target'], data['WS_pred'])*100, 3)\n",
    "    \n",
    "    #df.at['RMSE (as root mean)', 'Power']= round(rmse(data['P'], data['P_pred']), 3)\n",
    "    df.at['MAE (in avg)', 'Power']= round(mae(data['P'], data['P_pred']), 3)\n",
    "    df.at['MAPE (%)', 'Power']= round(mape(data['P'], data['P_pred'])*100, 3)\n",
    "    \n",
    "    \n",
    "    print('Wind RMSE: ', round(rmse(data['Target'], data['WS_pred']), 3), 'm/s as root mean')\n",
    "    print('Wind MAE: ', round(mae(data['Target'], data['WS_pred']), 3), 'm/s in avg')\n",
    "    print('Wind MAPE: ', round(mape(data['Target'], data['WS_pred'])*100, 3), '%')\n",
    "    \n",
    "    print('Power RMSE: ', round(rmse(data['P'], data['P_pred']), 3), 'kW as root mean')\n",
    "    print('Power MAE: ', round(mae(data['P'], data['P_pred']), 3), 'kW in avg')\n",
    "    print('Power MAPE: ', round(mape(data['P'], data['P_pred'])*100, 3), '%')\n",
    "    \n",
    "    return df"
   ]
  },
  {
   "cell_type": "code",
   "execution_count": 5,
   "id": "7f9f017b",
   "metadata": {},
   "outputs": [],
   "source": [
    "def error_plot(data, title):\n",
    "    \n",
    "    #title is expected to be an str\n",
    "    #WS_pred and Target should be the variables names\n",
    "\n",
    "    #plotting the reference\n",
    "    plt.figure(figsize=(12,8))\n",
    "    plt.plot([-1,17.5],[-1,17.5], 'green', linewidth=4, alpha=.12)\n",
    "    plt.plot(data['WS_pred'], data['Target'], marker='o', ls='', label='Regression', markersize=5, alpha=.1)\n",
    "\n",
    "\n",
    "    plt.legend()\n",
    "\n",
    "    ax=plt.gca()\n",
    "    ax.set(xlabel='y predicted', ylabel='y actual');\n",
    "    ax.set_title(title)\n",
    "    ax.set_ylim(ymin=4, ymax=17.5)\n",
    "    ax.set_xlim(xmin=4, xmax=17.5)\n",
    "    \n",
    "    return print('')"
   ]
  },
  {
   "cell_type": "code",
   "execution_count": 6,
   "id": "58bd13df",
   "metadata": {},
   "outputs": [],
   "source": [
    "def powercurve_computation(data, power_curve):\n",
    "    \n",
    "    from scipy import interpolate\n",
    "    \n",
    "    #this function computes the power at a observation given the information at a observation:\n",
    "    # the WS (in m/s) at the wind turbine location and at the hub height (Target)\n",
    "    # the power curve of the wind turbine in an xslx\n",
    "    \n",
    "    \n",
    "    x=power_curve['Wind Speed [m/s]']\n",
    "    y=power_curve['Warranted Power Curve [kW]']\n",
    "    x_new=data['Target']\n",
    "    \n",
    "    f = interpolate.interp1d(x, y)\n",
    "    #, kind='linear'\n",
    "    data['P']=f(x_new)\n",
    "    \n",
    "    if 'WS_pred' in data.keys():\n",
    "        x_new2=data['WS_pred']\n",
    "        data['P_pred']=f(x_new2)\n",
    "    \n",
    "    print('power curve computation performed')\n",
    "    \n",
    "    return data"
   ]
  },
  {
   "cell_type": "code",
   "execution_count": 7,
   "id": "84c09062",
   "metadata": {},
   "outputs": [],
   "source": [
    "def control_power_computation (data_test, data_train, power_curve):\n",
    "    \n",
    "    results_test=pd.DataFrame()\n",
    "    results_train=pd.DataFrame()\n",
    "    \n",
    "    \n",
    "    results_test=powercurve_computation(data_test, power_curve)\n",
    "    results_train=powercurve_computation(data_train, power_curve)\n",
    "\n",
    "    return results_test, results_train"
   ]
  },
  {
   "cell_type": "code",
   "execution_count": 8,
   "id": "b3896d50",
   "metadata": {},
   "outputs": [],
   "source": [
    "def compute_results(data_test, data_train, power_curve, plot_error):\n",
    "    \n",
    "    #this function computes and plots the results of a modelling:\n",
    "\n",
    "    results_test, results_train=control_power_computation (data_test, data_train, power_curve)\n",
    "    \n",
    "    \n",
    "    print('Modelling errors for training set:')\n",
    "    errors_computation(results_train)\n",
    "    print('')\n",
    "    print('Modelling errors for test set:')\n",
    "    errors_computation(results_test)\n",
    "    print('')\n",
    "    \n",
    "    if plot_error:\n",
    "        print('')\n",
    "        error_plot(results_test, 'Error plot for test set wind speed')\n",
    "\n",
    "    print('')\n",
    "    return print('Showing the results of the modelling: ')"
   ]
  },
  {
   "cell_type": "code",
   "execution_count": 9,
   "id": "425f25d5",
   "metadata": {},
   "outputs": [],
   "source": [
    "def compute_results1(data_test, data_train, power_curve, plot_error):\n",
    "    \n",
    "    #this function computes and plots the results of a modelling:\n",
    "\n",
    "    results_test, results_train=control_power_computation (data_test, data_train, power_curve)\n",
    "    \n",
    "    \n",
    "    print('Modelling errors for training set:')\n",
    "    errors_computation(results_train)\n",
    "    print('')\n",
    "    print('Modelling errors for test set:')\n",
    "    errors_computation(results_test)\n",
    "    print('')\n",
    "    print('Modelling errors in AEP terms for test set')\n",
    "    data=AEP_computation(results_test, power_curve)\n",
    "    \n",
    "    if plot_error:\n",
    "        print('')\n",
    "        error_plot(results_test, 'Error plot for test set wind speed')\n",
    "\n",
    "    print('')\n",
    "    print('Showing the results of the modelling: ')\n",
    "    return data"
   ]
  },
  {
   "cell_type": "code",
   "execution_count": 10,
   "id": "1e402b2b",
   "metadata": {},
   "outputs": [],
   "source": [
    "def AEP_computation(data, power_curve):\n",
    "    \n",
    "    #binning the WS_Pred\n",
    "    data['WS_pred_bin']=pd.cut(data['WS_pred'],\n",
    "                                       bins=list(np.arange(-0.25,28.0,0.5)),\n",
    "                                                 labels=list(np.arange(0.0,28.0,0.5)))\n",
    "\n",
    "        \n",
    "    #creating the AEP (Annual Energy Production table)\n",
    "        \n",
    "    AEP_table=pd.DataFrame()\n",
    "    \n",
    "    AEP_table['WS']=PC['Wind Speed [m/s]']\n",
    "    AEP_table['WPC']=PC['Warranted Power Curve [kW]']\n",
    "    AEP_table.set_index('WS', inplace=True)\n",
    "    AEP_table['MPC_SC']=data.groupby('WS_pred_bin', as_index=True)['P'].mean()\n",
    "\n",
    "    #puedo rellenar los NaN de MPC_SC copiando lo que tendría que ser: WPC\n",
    "    \n",
    "#     for i in AEP_table.index:\n",
    "#         if math.isnan(AEP_table.at[i, 'MPC_SC']):\n",
    "#             AEP_table.at[i, 'MPC_SC']=AEP_table.at[i, 'WPC']\n",
    "    \n",
    "    AEP_table['WSAD']=power_curve['Wind Speed Distribution [Hr/Year]']\n",
    "    \n",
    "    #o igual aquí tendría que cortar la tabla para NaN values\n",
    "    \n",
    "#     AEP_table=AEP_table.dropna()\n",
    "    \n",
    "    AEP_table['WAEP']=AEP_table['WPC']*AEP_table['WSAD']\n",
    "    AEP_table['MAEP_SC']=AEP_table['MPC_SC']*AEP_table['WSAD']\n",
    "    \n",
    "    #computing the metrics for later printing\n",
    "    \n",
    "    MAEP_SC=AEP_table['MAEP_SC'].sum()\n",
    "    WAEP=AEP_table['WAEP'].sum()\n",
    "    AEP_perc=(MAEP_SC/WAEP)*100\n",
    "    AEP_diff=(MAEP_SC-WAEP)/1000\n",
    "    \n",
    "    #printing the results\n",
    "\n",
    "    print('')\n",
    "    print('The computed AEP_table is: ')\n",
    "    AEP_table(AEP_table)\n",
    "    print('')\n",
    "    print('The AEP% of the Site Calibration is: ', round(AEP_perc, 3), '%')\n",
    "    print('')\n",
    "    print('The AEP difference of the Site Calibration is: ', round(AEP_diff, 3), 'MWh')\n",
    "    print('')\n",
    "    AEP_plot(data, AEP_table)                                \n",
    "    \n",
    "    \n",
    "    return data"
   ]
  },
  {
   "cell_type": "code",
   "execution_count": 11,
   "id": "9d2a1da9",
   "metadata": {},
   "outputs": [],
   "source": [
    "def AEP_plot(data, AEP_table):\n",
    "    \n",
    "    #data is expected to contain: Target, WS_pred, P, P_pred\n",
    "    #AEP_table is expected to contain: WS, WPC, MPC-SC\n",
    "\n",
    "    #plotting the Power curves\n",
    "    plt.figure(figsize=(10,6))\n",
    "    plt.plot(data['WS_pred'], data['P'], marker='o', ls='', label='measured scatter', markersize=5, alpha=.1)\n",
    "    plt.plot(AEP_table.index, AEP_table['WPC'], marker='o', color='black', linewidth=0.5, label='WPC', markersize=5)\n",
    "    plt.plot(AEP_table.index, AEP_table['MPC_SC'], marker='o', color='red', linewidth=0.5, label='MPC-SC', markersize=5)\n",
    "\n",
    "\n",
    "    plt.legend()\n",
    "\n",
    "    ax=plt.gca()\n",
    "    ax.set(ylabel='Power interpolated with WPC and Target WS (kW)', xlabel='Predicted Wind Speed (m/s)');\n",
    "    ax.set_title('Site Calibration Power Curve')\n",
    "    ax.set_xlim(xmin=0, xmax=20)\n",
    "#     ax.set_xlim(xmin=0, xmax=27.5)\n",
    "    \n",
    "    return print('Error plot performed')"
   ]
  },
  {
   "cell_type": "code",
   "execution_count": 12,
   "id": "8dfd0676",
   "metadata": {},
   "outputs": [],
   "source": [
    "def AEP_table(AEP_table):\n",
    "    \n",
    "    #AEP_table is expected to contain: WPC, MPC_SC, WPC, WSAD, WAEP, MAEP\n",
    "    \n",
    "    WS= AEP_table.index\n",
    "    WPC=AEP_table['WPC']\n",
    "    MPC_SC=round(AEP_table['MPC_SC'],0)\n",
    "    WSAD=AEP_table['WASD']\n",
    "    WAEP=round(AEP_table['WAEP']/1000000, 3)\n",
    "    MAEP=round(AEP_table['MAEP']/1000000, 3)\n",
    "    \n",
    "\n",
    "    row_headers=None\n",
    "    column_headers=('Wind speed bin (m/s)', 'WPC (kW)', 'MPC_SC (kW)',\n",
    "                    'Annual Wind Distribution (h/year)', 'WAEP (GWh)', 'MAEP (GWh)')\n",
    "\n",
    "    rcolors = plt.cm.BuPu(np.full(len(row_headers), 0.1))\n",
    "    ccolors = plt.cm.BuPu(np.full(len(column_headers), 0.1))\n",
    "\n",
    "    l_2d=[list(WS), list(WPC), list(MPC), list(WSAD), list(WAEP), list(MAEP)]\n",
    "\n",
    "    cell_text=np.array(l_2d).T\n",
    "\n",
    "    fig, ax = plt.subplots(figsize=(12,5)) \n",
    "    ax.set_axis_off()\n",
    "\n",
    "    the_table=ax.table(cellText=cell_text,\n",
    "                      rowLabels=row_headers,\n",
    "                      rowColours=rcolors,\n",
    "                      rowLoc='right',\n",
    "                      colColours=ccolors,\n",
    "                      colLabels=column_headers,\n",
    "                      cellLoc ='center',\n",
    "                      loc='upper center',\n",
    "                      colWidths = [0.1] * 5)\n",
    "\n",
    "    ax.set_title('Annual Energy Production for Site Calibration PC', \n",
    "                 fontweight =\"bold\", fontsize=14) \n",
    "\n",
    "    the_table.auto_set_font_size(False)\n",
    "    the_table.set_fontsize(14)\n",
    "    the_table.scale(2, 2)\n",
    "    \n",
    "    return ('AEP table printed')"
   ]
  },
  {
   "cell_type": "markdown",
   "id": "71970e76",
   "metadata": {},
   "source": [
    "## Data uploading"
   ]
  },
  {
   "cell_type": "code",
   "execution_count": 13,
   "id": "3bcfb73c",
   "metadata": {},
   "outputs": [],
   "source": [
    "def uploading_csv(file_folder,file_name):\n",
    "    \n",
    "    #file folder required\n",
    "    #file name required\n",
    "    #file is expected to be in the data root: r'C:\\Users\\irgaa\\Irma\\Data'\n",
    "    #this function uploads and formats csv/txt/xlsx datasets into DataFrame\n",
    "    \n",
    "    \n",
    "    data_root=r'C:\\Users\\irgaa\\Irma\\Data'\n",
    "    data_folder=str(file_folder)\n",
    "    data_file=str(file_name)\n",
    "    \n",
    "    data_path=data_root+data_folder+data_file\n",
    "    \n",
    "    data1 = pd.read_csv(data_path)\n",
    "\n",
    "    \n",
    "    # We will save the WD_bin as the index\n",
    "    \n",
    "    return data1"
   ]
  },
  {
   "cell_type": "code",
   "execution_count": 14,
   "id": "6c5e33be",
   "metadata": {},
   "outputs": [],
   "source": [
    "#this function saves a data csv\n",
    "\n",
    "def save (data, file_folder,file_name):\n",
    "    \n",
    "    #file folder required\n",
    "    #file name required\n",
    "    #file is expected to be saved in the data root: r'C:\\Users\\irgaa\\Irma\\Data'\n",
    "    #this function saves a csv/txt/xlsx into Irma's folder\n",
    "    #the saved file will keep the columns names but not the index\n",
    "    \n",
    "    data_root=r'C:\\Users\\irgaa\\Irma\\Data'\n",
    "    data_folder=str(file_folder)\n",
    "    data_file=str(file_name)\n",
    "    \n",
    "    data_path=data_root+data_folder+data_file\n",
    "    \n",
    "    data.to_csv (data_path, index = False, header=True)\n",
    "    \n",
    "    \n",
    "    return print('file', data_file, 'saved in', data_folder, 'folder')"
   ]
  },
  {
   "cell_type": "markdown",
   "id": "ffaedaca",
   "metadata": {},
   "source": [
    "## Data selection"
   ]
  },
  {
   "cell_type": "code",
   "execution_count": 15,
   "id": "358a5d18",
   "metadata": {},
   "outputs": [],
   "source": [
    "def data_selection(X_train, X_test, inputs):\n",
    "    \n",
    "    #this function returns the columns of the training and test sets in the inputs list\n",
    "    \n",
    "    X_train1 = pd.DataFrame()\n",
    "    X_test1 = pd.DataFrame()\n",
    "    \n",
    "    \n",
    "    X_train1 = X_train[inputs]\n",
    "    X_test1 = X_test[inputs]\n",
    "\n",
    "    \n",
    "    return X_train1,X_test1"
   ]
  },
  {
   "cell_type": "code",
   "execution_count": 16,
   "id": "8fd717ae",
   "metadata": {},
   "outputs": [],
   "source": [
    "def data_drop(X_train, X_test, list_2drop):\n",
    "    \n",
    "    #this function returns the columns of the training and test sets in the inputs list\n",
    "\n",
    "    X_train1 = X_train.drop(columns=list_2drop)\n",
    "    X_test1 = X_test.drop(columns=list_2drop)\n",
    "\n",
    "    \n",
    "    \n",
    "    return X_train1,X_test1"
   ]
  },
  {
   "cell_type": "markdown",
   "id": "255c2b31",
   "metadata": {},
   "source": [
    "## Modelling"
   ]
  },
  {
   "cell_type": "markdown",
   "id": "c983f849",
   "metadata": {},
   "source": [
    "### Modelling XGBoost"
   ]
  },
  {
   "cell_type": "code",
   "execution_count": 17,
   "id": "c827782a",
   "metadata": {},
   "outputs": [],
   "source": [
    "def modelling_XGBoost (X, X_test, y, y_test, power_curve,  parameters, plot_error, plot):\n",
    "    \n",
    "    #creating the model\n",
    "    max_depth=parameters['max_depth']\n",
    "    n_estimators=parameters['n_estimators']\n",
    "    learning_rate=parameters['learning_rate']\n",
    "    subsample=parameters['subsample']\n",
    "    colsample_bytree=parameters['colsample_bytree']\n",
    "    min_child_weight=parameters['min_child_weight']\n",
    "    gamma=parameters['gamma']\n",
    "    reg_lambda=parameters['reg_lambda']\n",
    "    \n",
    " \n",
    "    model = xgb.XGBRegressor(max_depth=max_depth, n_estimators=n_estimators, random_state=42,\n",
    "                               objective='reg:squarederror', booster='gbtree', learning_rate=learning_rate,\n",
    "                               subsample=subsample, colsample_bytree=colsample_bytree,\n",
    "                             min_child_weight=min_child_weight, reg_lambda=reg_lambda)\n",
    "                               \n",
    "    #model fitting\n",
    "    model.fit(X_train, y_train)\n",
    "        \n",
    "    \n",
    "    #model predicting\n",
    "    y_pred_test=model.predict(X_test)\n",
    "    y_pred_train=model.predict(X_train)\n",
    "    \n",
    "    test=pd.DataFrame(y_pred_test, columns = ['test'])\n",
    "    train=pd.DataFrame(y_pred_train, columns = ['train'])\n",
    "    \n",
    "    \n",
    "\n",
    "    #computing the results\n",
    "    data_test = pd.DataFrame()\n",
    "    data_train = pd.DataFrame()\n",
    "    \n",
    "    data_test['WS_pred']=test['test']\n",
    "    data_test['Target']=y_test['Target']\n",
    "    data_train['WS_pred']=train['train']\n",
    "    data_train['Target']=y['Target']\n",
    "    \n",
    "    \n",
    "    data=compute_results(data_test, data_train, power_curve, plot_error)\n",
    "    print('XGBoost modelling performed')\n",
    "    \n",
    "    return model"
   ]
  },
  {
   "cell_type": "markdown",
   "id": "ff27c77a",
   "metadata": {},
   "source": [
    "### Grid Search XGBoost"
   ]
  },
  {
   "cell_type": "code",
   "execution_count": 18,
   "id": "aab34987",
   "metadata": {},
   "outputs": [],
   "source": [
    "def GridSearch_XGBoost (X, X_test, y, y_test, power_curve, parameters, param_grid, plot_error):\n",
    "    \n",
    "    \n",
    "    #counting the runing time\n",
    "    start_time = time.time()\n",
    "    \n",
    "    #creating the model\n",
    "    max_depth=parameters['max_depth']\n",
    "    n_estimators=parameters['n_estimators']\n",
    "    learning_rate=parameters['learning_rate']\n",
    "    subsample=parameters['subsample']\n",
    "    colsample_bytree=parameters['colsample_bytree']\n",
    "    min_child_weight=parameters['min_child_weight']\n",
    "    gamma=parameters['gamma']\n",
    "    reg_lambda=parameters['reg_lambda']\n",
    "    \n",
    "    #creating the model\n",
    "    xgbr = xgb.XGBRegressor(max_depth=max_depth, n_estimators=n_estimators, random_state=42,\n",
    "                           objective='reg:squarederror', booster='gbtree', learning_rate=learning_rate,\n",
    "                           subsample=subsample, colsample_bytree=colsample_bytree,\n",
    "                         min_child_weight=min_child_weight, gamma=gamma, reg_lambda=reg_lambda)\n",
    "    \n",
    "    \n",
    "    \n",
    "    #Grid Search CV\n",
    "    clf = GridSearchCV(estimator=xgbr, \n",
    "                             param_grid=param_grid,\n",
    "                             cv=4,\n",
    "                             scoring='neg_mean_squared_error',\n",
    "                             verbose=1) \n",
    "    \n",
    "        \n",
    "    #model fitting\n",
    "    clf.fit(X_train, y_train)\n",
    "    \n",
    "    \n",
    "    #model predicting\n",
    "    \n",
    "    y_pred_test=clf.predict(X_test)\n",
    "    y_pred_train=clf.predict(X_train)\n",
    "    \n",
    "    test=pd.DataFrame(y_pred_test, columns = ['test'])\n",
    "    train=pd.DataFrame(y_pred_train, columns = ['train'])\n",
    "    \n",
    "    print('')\n",
    "    print('Best parameters :')\n",
    "    print(clf.best_params_)\n",
    "    print('')\n",
    "\n",
    "    #computing the results\n",
    "    data_test = pd.DataFrame()\n",
    "    data_train = pd.DataFrame()\n",
    "    \n",
    "    data_test['WS_pred']=test['test']\n",
    "    data_test['Target']=y_test['Target']\n",
    "    data_train['WS_pred']=train['train']\n",
    "    data_train['Target']=y['Target']\n",
    "    \n",
    "    compute_results(data_test, data_train, power_curve, plot_error)\n",
    "    print('GridSearch_ XGBoost performed')\n",
    "    print(\"--- %s minutes ---\" % ((time.time() - start_time)/60))\n",
    "    print('')\n",
    "    print('Lowest RMSE: ', (-clf.best_score_)**(1/2.0))\n",
    "    \n",
    "    \n",
    "    \n",
    "    return clf"
   ]
  },
  {
   "cell_type": "markdown",
   "id": "19c283c5",
   "metadata": {},
   "source": [
    "### Random Search XGBoost"
   ]
  },
  {
   "cell_type": "code",
   "execution_count": 19,
   "id": "2c6cd04a",
   "metadata": {},
   "outputs": [],
   "source": [
    "def RandomSearch_XGBoost(X, X_test, y, y_test, power_curve, param_distribs, plot_error):\n",
    "    \n",
    "    #counting the runing time\n",
    "    start_time = time.time()\n",
    "    \n",
    "    \n",
    "    #creating the model\n",
    "    xgbr = xgb.XGBRegressor(random_state=42)\n",
    "    \n",
    "    #Random Search CV\n",
    "    clf = RandomizedSearchCV(estimator=xgbr, \n",
    "                             param_distributions=param_distribs,\n",
    "                             cv=4,\n",
    "                             scoring='neg_mean_squared_error',\n",
    "                             n_iter=25,\n",
    "                             verbose=1) \n",
    "    \n",
    "    \n",
    "    #model fitting\n",
    "    clf.fit(X_train, y_train)\n",
    "    \n",
    "    \n",
    "    #model predicting\n",
    "    \n",
    "    y_pred_test=clf.predict(X_test)\n",
    "    y_pred_train=clf.predict(X_train)\n",
    "    \n",
    "    test=pd.DataFrame(y_pred_test, columns = ['test'])\n",
    "    train=pd.DataFrame(y_pred_train, columns = ['train'])\n",
    "    \n",
    "    print('')\n",
    "    print('Best parameters :')\n",
    "    print(clf.best_params_)\n",
    "    print('')\n",
    "\n",
    "    #computing the results\n",
    "    data_test = pd.DataFrame()\n",
    "    data_train = pd.DataFrame()\n",
    "    \n",
    "    data_test['WS_pred']=test['test']\n",
    "    data_test['Target']=y_test['Target']\n",
    "    data_train['WS_pred']=train['train']\n",
    "    data_train['Target']=y['Target']\n",
    "    \n",
    "    compute_results(data_test, data_train, power_curve, plot_error)\n",
    "    print('RandomSearch_ XGBoost performed')\n",
    "    print(\"--- %s minutes ---\" % ((time.time() - start_time)/60))\n",
    "    print('')\n",
    "    print('Lowest RMSE: ', (-clf.best_score_)**(1/2.0))\n",
    "    \n",
    "    return clf\n",
    "    "
   ]
  },
  {
   "cell_type": "markdown",
   "id": "54004cbb",
   "metadata": {},
   "source": [
    "### Model Testing"
   ]
  },
  {
   "cell_type": "code",
   "execution_count": 20,
   "id": "0bfe8458",
   "metadata": {},
   "outputs": [],
   "source": [
    "def model_testing (X_train, X_test, y_train, y_test, power_curve, model, plot_error):\n",
    "\n",
    "    \n",
    "\n",
    "    y_pred_test=model.predict(X_test)\n",
    "    y_pred_train=model.predict(X_train)\n",
    "    \n",
    "    test=pd.DataFrame(y_pred_test, columns = ['test'])\n",
    "    train=pd.DataFrame(y_pred_train, columns = ['train'])\n",
    "\n",
    "\n",
    "    data_test = pd.DataFrame()\n",
    "    data_train = pd.DataFrame()\n",
    "    \n",
    "    data_test['WS_pred']=test['test']\n",
    "    data_test['Target']=y_test['Target']\n",
    "    data_train['WS_pred']=train['train']\n",
    "    data_train['Target']=y_train['Target']\n",
    "        \n",
    "    \n",
    "    compute_results(data_test, data_train, power_curve, plot_error)\n",
    "    \n",
    "    WS_pred=data_test['WS_pred']\n",
    "    print('XGBoost results performed')\n",
    "    \n",
    "    return WS_pred"
   ]
  },
  {
   "cell_type": "markdown",
   "id": "6724a96a",
   "metadata": {},
   "source": [
    "### Feature importance"
   ]
  },
  {
   "cell_type": "code",
   "execution_count": 21,
   "id": "51189ccd",
   "metadata": {},
   "outputs": [],
   "source": [
    "def feature_importance (X_train, X_test, model):\n",
    "    \n",
    "    X_t, X_f, y_t, y_f = train_test_split(X_train,y_train, test_size=0.02, random_state=12)\n",
    "    \n",
    "    background = X_f.copy()\n",
    "    \n",
    "    explainer = shap.TreeExplainer(model)\n",
    "    shap_values = explainer.shap_values(X_test)\n",
    "    shap_obj=explainer(X_test)\n",
    "    shap.summary_plot(shap_values, X_train, plot_type=\"bar\")\n",
    "    shap.plots.beeswarm(shap_obj)\n",
    "    \n",
    "    \n",
    "    shap_v=pd.DataFrame(shap_values)\n",
    "    feature_list=X_test.columns\n",
    "    shap_v.columns=feature_list\n",
    "    shap_v=shap_v.abs()\n",
    "    k=pd.DataFrame(shap_v.mean()).reset_index()\n",
    "    k.columns=['variables','SHAP_abs']\n",
    "    k.sort_values(by='variables')\n",
    "    \n",
    "    \n",
    "    \n",
    "    print('Feature importance through SHAP values performed')\n",
    "    \n",
    "    return k"
   ]
  },
  {
   "cell_type": "markdown",
   "id": "880d0819",
   "metadata": {},
   "source": [
    "# Data analysis"
   ]
  },
  {
   "cell_type": "markdown",
   "id": "ff0fec4a",
   "metadata": {},
   "source": [
    "## Dataset2- T22"
   ]
  },
  {
   "cell_type": "code",
   "execution_count": 22,
   "id": "c3f2c12c",
   "metadata": {
    "scrolled": true
   },
   "outputs": [
    {
     "data": {
      "text/plain": [
       "Index(['WS1', 'WS3', 'WS4', 'WD1', 'WD4', 'WSHor', 'WSVer', 'WDHor', 'RH1',\n",
       "       'PR1', 'Rain', 'WSH', 'WVeer', 'TI', 'WDVer', 'WD_bin', 'tod'],\n",
       "      dtype='object')"
      ]
     },
     "execution_count": 22,
     "metadata": {},
     "output_type": "execute_result"
    }
   ],
   "source": [
    "#upload the dataset with file_folder, file_name\n",
    "X_train= uploading_csv('\\Dataset2-Complex_Site','\\X_train22.csv')\n",
    "X_test= uploading_csv('\\Dataset2-Complex_Site','\\X_test22.csv')\n",
    "y_train= uploading_csv('\\Dataset2-Complex_Site','\\y_train22.csv')\n",
    "y_test= uploading_csv('\\Dataset2-Complex_Site','\\y_test22.csv')\n",
    "\n",
    "X_test.keys()"
   ]
  },
  {
   "cell_type": "code",
   "execution_count": 23,
   "id": "6d0a26d9",
   "metadata": {},
   "outputs": [
    {
     "data": {
      "text/plain": [
       "Index(['Target'], dtype='object')"
      ]
     },
     "execution_count": 23,
     "metadata": {},
     "output_type": "execute_result"
    }
   ],
   "source": [
    "y_test.keys()"
   ]
  },
  {
   "cell_type": "code",
   "execution_count": 24,
   "id": "db055157",
   "metadata": {},
   "outputs": [],
   "source": [
    "PC= uploading_csv('\\Dataset2-Complex_Site','\\PC_V117.csv')"
   ]
  },
  {
   "cell_type": "markdown",
   "id": "a2277287",
   "metadata": {},
   "source": [
    "### Grid Search"
   ]
  },
  {
   "cell_type": "code",
   "execution_count": 25,
   "id": "65ef4109",
   "metadata": {},
   "outputs": [],
   "source": [
    "parameters={\n",
    "    'max_depth':5,\n",
    "    'n_estimators': 1000,\n",
    "    'learning_rate':0.1,\n",
    "    'subsample':0.8,\n",
    "    'colsample_bytree':0.8,\n",
    "    'min_child_weight':1,\n",
    "    'gamma':0,\n",
    "    'reg_lambda':1,\n",
    "}"
   ]
  },
  {
   "cell_type": "code",
   "execution_count": 26,
   "id": "a7ad6bbf",
   "metadata": {},
   "outputs": [],
   "source": [
    "param_grid={\n",
    "    'n_estimators': [100, 200, 300, 400, 500, 600, 700, 800, 900, 1000],\n",
    "}"
   ]
  },
  {
   "cell_type": "code",
   "execution_count": 27,
   "id": "224e052b",
   "metadata": {
    "scrolled": true
   },
   "outputs": [
    {
     "name": "stdout",
     "output_type": "stream",
     "text": [
      "Fitting 4 folds for each of 10 candidates, totalling 40 fits\n",
      "\n",
      "Best parameters :\n",
      "{'n_estimators': 300}\n",
      "\n",
      "power curve computation performed\n",
      "power curve computation performed\n",
      "Modelling errors for training set:\n",
      "Wind RMSE:  0.313 m/s as root mean\n",
      "Wind MAE:  0.241 m/s in avg\n",
      "Wind MAPE:  3.187 %\n",
      "Power RMSE:  148.877 kW as root mean\n",
      "Power MAE:  99.0 kW in avg\n",
      "Power MAPE:  6898948843964908.0 %\n",
      "\n",
      "Modelling errors for test set:\n",
      "Wind RMSE:  0.709 m/s as root mean\n",
      "Wind MAE:  0.535 m/s in avg\n",
      "Wind MAPE:  7.011 %\n",
      "Power RMSE:  335.969 kW as root mean\n",
      "Power MAE:  219.307 kW in avg\n",
      "Power MAPE:  21.232 %\n",
      "\n",
      "\n",
      "Showing the results of the modelling: \n",
      "GridSearch_ XGBoost performed\n",
      "--- 1.9152118563652039 minutes ---\n",
      "\n",
      "Lowest RMSE:  0.7451315432939063\n"
     ]
    },
    {
     "data": {
      "text/plain": [
       "GridSearchCV(cv=4,\n",
       "             estimator=XGBRegressor(base_score=None, booster='gbtree',\n",
       "                                    colsample_bylevel=None,\n",
       "                                    colsample_bynode=None, colsample_bytree=0.8,\n",
       "                                    gamma=0, gpu_id=None,\n",
       "                                    importance_type='gain',\n",
       "                                    interaction_constraints=None,\n",
       "                                    learning_rate=0.1, max_delta_step=None,\n",
       "                                    max_depth=5, min_child_weight=1,\n",
       "                                    missing=nan, monotone_constraints=None,\n",
       "                                    n_estimators=1000, n_jobs=None,\n",
       "                                    num_parallel_tree=None, random_state=42,\n",
       "                                    reg_alpha=None, reg_lambda=1,\n",
       "                                    scale_pos_weight=None, subsample=0.8,\n",
       "                                    tree_method=None, validate_parameters=None,\n",
       "                                    verbosity=None),\n",
       "             param_grid={'n_estimators': [100, 200, 300, 400, 500, 600, 700,\n",
       "                                          800, 900, 1000]},\n",
       "             scoring='neg_mean_squared_error', verbose=1)"
      ]
     },
     "execution_count": 27,
     "metadata": {},
     "output_type": "execute_result"
    }
   ],
   "source": [
    " GridSearch_XGBoost (X_train, X_test, y_train, y_test, PC, parameters, param_grid, plot_error=False)"
   ]
  },
  {
   "cell_type": "code",
   "execution_count": 28,
   "id": "39eae40f",
   "metadata": {},
   "outputs": [],
   "source": [
    "parameters={\n",
    "    'max_depth':5,\n",
    "    'n_estimators': 300,\n",
    "    'learning_rate':0.1,\n",
    "    'subsample':0.8,\n",
    "    'colsample_bytree':0.8,\n",
    "    'min_child_weight':1,\n",
    "    'gamma':0,\n",
    "    'reg_lambda':1,\n",
    "}"
   ]
  },
  {
   "cell_type": "code",
   "execution_count": 29,
   "id": "9e8b4fe1",
   "metadata": {},
   "outputs": [],
   "source": [
    "param_grid={\n",
    "    'max_depth': [3, 4, 5, 6, 10, 15, 20],\n",
    "    'min_child_weight': [1, 2, 3, 6, 10]\n",
    "}"
   ]
  },
  {
   "cell_type": "code",
   "execution_count": 30,
   "id": "de8bab35",
   "metadata": {
    "scrolled": true
   },
   "outputs": [
    {
     "name": "stdout",
     "output_type": "stream",
     "text": [
      "Fitting 4 folds for each of 35 candidates, totalling 140 fits\n",
      "\n",
      "Best parameters :\n",
      "{'max_depth': 15, 'min_child_weight': 10}\n",
      "\n",
      "power curve computation performed\n",
      "power curve computation performed\n",
      "Modelling errors for training set:\n",
      "Wind RMSE:  0.019 m/s as root mean\n",
      "Wind MAE:  0.012 m/s in avg\n",
      "Wind MAPE:  0.162 %\n",
      "Power RMSE:  8.975 kW as root mean\n",
      "Power MAE:  4.882 kW in avg\n",
      "Power MAPE:  0.495 %\n",
      "\n",
      "Modelling errors for test set:\n",
      "Wind RMSE:  0.71 m/s as root mean\n",
      "Wind MAE:  0.53 m/s in avg\n",
      "Wind MAPE:  6.943 %\n",
      "Power RMSE:  335.85 kW as root mean\n",
      "Power MAE:  217.118 kW in avg\n",
      "Power MAPE:  21.06 %\n",
      "\n",
      "\n",
      "Showing the results of the modelling: \n",
      "GridSearch_ XGBoost performed\n",
      "--- 8.26779154141744 minutes ---\n",
      "\n",
      "Lowest RMSE:  0.731978040451494\n"
     ]
    },
    {
     "data": {
      "text/plain": [
       "GridSearchCV(cv=4,\n",
       "             estimator=XGBRegressor(base_score=None, booster='gbtree',\n",
       "                                    colsample_bylevel=None,\n",
       "                                    colsample_bynode=None, colsample_bytree=0.8,\n",
       "                                    gamma=0, gpu_id=None,\n",
       "                                    importance_type='gain',\n",
       "                                    interaction_constraints=None,\n",
       "                                    learning_rate=0.1, max_delta_step=None,\n",
       "                                    max_depth=5, min_child_weight=1,\n",
       "                                    missing=nan, monotone_constraints=None,\n",
       "                                    n_estimators=300, n_jobs=None,\n",
       "                                    num_parallel_tree=None, random_state=42,\n",
       "                                    reg_alpha=None, reg_lambda=1,\n",
       "                                    scale_pos_weight=None, subsample=0.8,\n",
       "                                    tree_method=None, validate_parameters=None,\n",
       "                                    verbosity=None),\n",
       "             param_grid={'max_depth': [3, 4, 5, 6, 10, 15, 20],\n",
       "                         'min_child_weight': [1, 2, 3, 6, 10]},\n",
       "             scoring='neg_mean_squared_error', verbose=1)"
      ]
     },
     "execution_count": 30,
     "metadata": {},
     "output_type": "execute_result"
    }
   ],
   "source": [
    "GridSearch_XGBoost (X_train, X_test, y_train, y_test, PC, parameters, param_grid, plot_error=False)"
   ]
  },
  {
   "cell_type": "code",
   "execution_count": 31,
   "id": "0dbafa9e",
   "metadata": {},
   "outputs": [],
   "source": [
    "parameters={\n",
    "    'max_depth':15,\n",
    "    'n_estimators': 300,\n",
    "    'learning_rate':0.1,\n",
    "    'subsample':0.8,\n",
    "    'colsample_bytree':0.8,\n",
    "    'min_child_weight':10,\n",
    "    'gamma':0,\n",
    "    'reg_lambda':1,\n",
    "}"
   ]
  },
  {
   "cell_type": "code",
   "execution_count": 32,
   "id": "59bd2be3",
   "metadata": {},
   "outputs": [],
   "source": [
    "param_grid={\n",
    "    'gamma': [0, 0.1, 0.2, 0.3, 0.4, 0.5]\n",
    "}"
   ]
  },
  {
   "cell_type": "code",
   "execution_count": 33,
   "id": "0da9c6da",
   "metadata": {
    "scrolled": true
   },
   "outputs": [
    {
     "name": "stdout",
     "output_type": "stream",
     "text": [
      "Fitting 4 folds for each of 6 candidates, totalling 24 fits\n",
      "\n",
      "Best parameters :\n",
      "{'gamma': 0}\n",
      "\n",
      "power curve computation performed\n",
      "power curve computation performed\n",
      "Modelling errors for training set:\n",
      "Wind RMSE:  0.019 m/s as root mean\n",
      "Wind MAE:  0.012 m/s in avg\n",
      "Wind MAPE:  0.162 %\n",
      "Power RMSE:  8.975 kW as root mean\n",
      "Power MAE:  4.882 kW in avg\n",
      "Power MAPE:  0.495 %\n",
      "\n",
      "Modelling errors for test set:\n",
      "Wind RMSE:  0.71 m/s as root mean\n",
      "Wind MAE:  0.53 m/s in avg\n",
      "Wind MAPE:  6.943 %\n",
      "Power RMSE:  335.85 kW as root mean\n",
      "Power MAE:  217.118 kW in avg\n",
      "Power MAPE:  21.06 %\n",
      "\n",
      "\n",
      "Showing the results of the modelling: \n",
      "GridSearch_ XGBoost performed\n",
      "--- 2.0858511209487913 minutes ---\n",
      "\n",
      "Lowest RMSE:  0.731978040451494\n"
     ]
    },
    {
     "data": {
      "text/plain": [
       "GridSearchCV(cv=4,\n",
       "             estimator=XGBRegressor(base_score=None, booster='gbtree',\n",
       "                                    colsample_bylevel=None,\n",
       "                                    colsample_bynode=None, colsample_bytree=0.8,\n",
       "                                    gamma=0, gpu_id=None,\n",
       "                                    importance_type='gain',\n",
       "                                    interaction_constraints=None,\n",
       "                                    learning_rate=0.1, max_delta_step=None,\n",
       "                                    max_depth=15, min_child_weight=10,\n",
       "                                    missing=nan, monotone_constraints=None,\n",
       "                                    n_estimators=300, n_jobs=None,\n",
       "                                    num_parallel_tree=None, random_state=42,\n",
       "                                    reg_alpha=None, reg_lambda=1,\n",
       "                                    scale_pos_weight=None, subsample=0.8,\n",
       "                                    tree_method=None, validate_parameters=None,\n",
       "                                    verbosity=None),\n",
       "             param_grid={'gamma': [0, 0.1, 0.2, 0.3, 0.4, 0.5]},\n",
       "             scoring='neg_mean_squared_error', verbose=1)"
      ]
     },
     "execution_count": 33,
     "metadata": {},
     "output_type": "execute_result"
    }
   ],
   "source": [
    "GridSearch_XGBoost (X_train, X_test, y_train, y_test, PC, parameters, param_grid, plot_error=False)"
   ]
  },
  {
   "cell_type": "code",
   "execution_count": 34,
   "id": "db6eddd5",
   "metadata": {},
   "outputs": [],
   "source": [
    "parameters={\n",
    "    'max_depth':15,\n",
    "    'n_estimators': 300,\n",
    "    'learning_rate':0.1,\n",
    "    'subsample':0.8,\n",
    "    'colsample_bytree':0.8,\n",
    "    'min_child_weight':10,\n",
    "    'gamma':0,\n",
    "    'reg_lambda':1,\n",
    "}"
   ]
  },
  {
   "cell_type": "code",
   "execution_count": 35,
   "id": "cfdbd3b1",
   "metadata": {},
   "outputs": [],
   "source": [
    "param_grid={\n",
    "    'subsample': [0.4, 0.5, 0.6, 0.7, 0.8, 0.9, 1],\n",
    "    'colsample_bytree': [0.4, 0.5, 0.6, 0.7, 0.8, 0.9, 1]\n",
    "}"
   ]
  },
  {
   "cell_type": "code",
   "execution_count": 36,
   "id": "ac924ae6",
   "metadata": {
    "scrolled": true
   },
   "outputs": [
    {
     "name": "stdout",
     "output_type": "stream",
     "text": [
      "Fitting 4 folds for each of 49 candidates, totalling 196 fits\n",
      "\n",
      "Best parameters :\n",
      "{'colsample_bytree': 0.8, 'subsample': 0.8}\n",
      "\n",
      "power curve computation performed\n",
      "power curve computation performed\n",
      "Modelling errors for training set:\n",
      "Wind RMSE:  0.019 m/s as root mean\n",
      "Wind MAE:  0.012 m/s in avg\n",
      "Wind MAPE:  0.162 %\n",
      "Power RMSE:  8.975 kW as root mean\n",
      "Power MAE:  4.882 kW in avg\n",
      "Power MAPE:  0.495 %\n",
      "\n",
      "Modelling errors for test set:\n",
      "Wind RMSE:  0.71 m/s as root mean\n",
      "Wind MAE:  0.53 m/s in avg\n",
      "Wind MAPE:  6.943 %\n",
      "Power RMSE:  335.85 kW as root mean\n",
      "Power MAE:  217.118 kW in avg\n",
      "Power MAPE:  21.06 %\n",
      "\n",
      "\n",
      "Showing the results of the modelling: \n",
      "GridSearch_ XGBoost performed\n",
      "--- 14.928577740987143 minutes ---\n",
      "\n",
      "Lowest RMSE:  0.731978040451494\n"
     ]
    },
    {
     "data": {
      "text/plain": [
       "GridSearchCV(cv=4,\n",
       "             estimator=XGBRegressor(base_score=None, booster='gbtree',\n",
       "                                    colsample_bylevel=None,\n",
       "                                    colsample_bynode=None, colsample_bytree=0.8,\n",
       "                                    gamma=0, gpu_id=None,\n",
       "                                    importance_type='gain',\n",
       "                                    interaction_constraints=None,\n",
       "                                    learning_rate=0.1, max_delta_step=None,\n",
       "                                    max_depth=15, min_child_weight=10,\n",
       "                                    missing=nan, monotone_constraints=None,\n",
       "                                    n_estimators=300, n_jobs=None,\n",
       "                                    num_parallel_tree=None, random_state=42,\n",
       "                                    reg_alpha=None, reg_lambda=1,\n",
       "                                    scale_pos_weight=None, subsample=0.8,\n",
       "                                    tree_method=None, validate_parameters=None,\n",
       "                                    verbosity=None),\n",
       "             param_grid={'colsample_bytree': [0.4, 0.5, 0.6, 0.7, 0.8, 0.9, 1],\n",
       "                         'subsample': [0.4, 0.5, 0.6, 0.7, 0.8, 0.9, 1]},\n",
       "             scoring='neg_mean_squared_error', verbose=1)"
      ]
     },
     "execution_count": 36,
     "metadata": {},
     "output_type": "execute_result"
    }
   ],
   "source": [
    "GridSearch_XGBoost (X_train, X_test, y_train, y_test, PC, parameters, param_grid, plot_error=False)"
   ]
  },
  {
   "cell_type": "code",
   "execution_count": 37,
   "id": "bac4cb56",
   "metadata": {},
   "outputs": [],
   "source": [
    "parameters={\n",
    "    'max_depth':15,\n",
    "    'n_estimators': 300,\n",
    "    'learning_rate':0.1,\n",
    "    'subsample':0.8,\n",
    "    'colsample_bytree':0.8,\n",
    "    'min_child_weight':10,\n",
    "    'gamma':0,\n",
    "    'reg_lambda':1,\n",
    "}"
   ]
  },
  {
   "cell_type": "code",
   "execution_count": 38,
   "id": "d9aeddcf",
   "metadata": {},
   "outputs": [],
   "source": [
    "param_grid={\n",
    "    'reg_lambda': [1, 10, 50, 100, 150]\n",
    "}"
   ]
  },
  {
   "cell_type": "code",
   "execution_count": 39,
   "id": "dc063115",
   "metadata": {
    "scrolled": true
   },
   "outputs": [
    {
     "name": "stdout",
     "output_type": "stream",
     "text": [
      "Fitting 4 folds for each of 5 candidates, totalling 20 fits\n",
      "\n",
      "Best parameters :\n",
      "{'reg_lambda': 10}\n",
      "\n",
      "power curve computation performed\n",
      "power curve computation performed\n",
      "Modelling errors for training set:\n",
      "Wind RMSE:  0.049 m/s as root mean\n",
      "Wind MAE:  0.033 m/s in avg\n",
      "Wind MAPE:  0.436 %\n",
      "Power RMSE:  22.284 kW as root mean\n",
      "Power MAE:  13.016 kW in avg\n",
      "Power MAPE:  133378150146385.97 %\n",
      "\n",
      "Modelling errors for test set:\n",
      "Wind RMSE:  0.693 m/s as root mean\n",
      "Wind MAE:  0.521 m/s in avg\n",
      "Wind MAPE:  6.835 %\n",
      "Power RMSE:  331.23 kW as root mean\n",
      "Power MAE:  213.785 kW in avg\n",
      "Power MAPE:  20.596 %\n",
      "\n",
      "\n",
      "Showing the results of the modelling: \n",
      "GridSearch_ XGBoost performed\n",
      "--- 1.5205266674359639 minutes ---\n",
      "\n",
      "Lowest RMSE:  0.7226028890729834\n"
     ]
    },
    {
     "data": {
      "text/plain": [
       "GridSearchCV(cv=4,\n",
       "             estimator=XGBRegressor(base_score=None, booster='gbtree',\n",
       "                                    colsample_bylevel=None,\n",
       "                                    colsample_bynode=None, colsample_bytree=0.8,\n",
       "                                    gamma=0, gpu_id=None,\n",
       "                                    importance_type='gain',\n",
       "                                    interaction_constraints=None,\n",
       "                                    learning_rate=0.1, max_delta_step=None,\n",
       "                                    max_depth=15, min_child_weight=10,\n",
       "                                    missing=nan, monotone_constraints=None,\n",
       "                                    n_estimators=300, n_jobs=None,\n",
       "                                    num_parallel_tree=None, random_state=42,\n",
       "                                    reg_alpha=None, reg_lambda=1,\n",
       "                                    scale_pos_weight=None, subsample=0.8,\n",
       "                                    tree_method=None, validate_parameters=None,\n",
       "                                    verbosity=None),\n",
       "             param_grid={'reg_lambda': [1, 10, 50, 100, 150]},\n",
       "             scoring='neg_mean_squared_error', verbose=1)"
      ]
     },
     "execution_count": 39,
     "metadata": {},
     "output_type": "execute_result"
    }
   ],
   "source": [
    "GridSearch_XGBoost (X_train, X_test, y_train, y_test, PC, parameters, param_grid, plot_error=False)"
   ]
  },
  {
   "cell_type": "code",
   "execution_count": 40,
   "id": "08ec8dfa",
   "metadata": {},
   "outputs": [],
   "source": [
    "parameters={\n",
    "    'max_depth':15,\n",
    "    'n_estimators': 300,\n",
    "    'learning_rate':0.1,\n",
    "    'subsample':0.8,\n",
    "    'colsample_bytree':0.8,\n",
    "    'min_child_weight':10,\n",
    "    'gamma':0,\n",
    "    'reg_lambda':10,\n",
    "}"
   ]
  },
  {
   "cell_type": "code",
   "execution_count": 41,
   "id": "5dd0dfe2",
   "metadata": {},
   "outputs": [],
   "source": [
    "param_grid={\n",
    "    'learning_rate': [0.001, 0.01, 0.1, 0.5],\n",
    "    'n_estimators': [800, 900, 1000, 1200, 1500, 1800, 2000]\n",
    "}"
   ]
  },
  {
   "cell_type": "code",
   "execution_count": 42,
   "id": "203c8261",
   "metadata": {
    "scrolled": true
   },
   "outputs": [
    {
     "name": "stdout",
     "output_type": "stream",
     "text": [
      "Fitting 4 folds for each of 28 candidates, totalling 112 fits\n",
      "\n",
      "Best parameters :\n",
      "{'learning_rate': 0.01, 'n_estimators': 2000}\n",
      "\n",
      "power curve computation performed\n",
      "power curve computation performed\n",
      "Modelling errors for training set:\n",
      "Wind RMSE:  0.111 m/s as root mean\n",
      "Wind MAE:  0.078 m/s in avg\n",
      "Wind MAPE:  1.031 %\n",
      "Power RMSE:  51.24 kW as root mean\n",
      "Power MAE:  30.867 kW in avg\n",
      "Power MAPE:  1988548677387365.5 %\n",
      "\n",
      "Modelling errors for test set:\n",
      "Wind RMSE:  0.677 m/s as root mean\n",
      "Wind MAE:  0.507 m/s in avg\n",
      "Wind MAPE:  6.661 %\n",
      "Power RMSE:  319.97 kW as root mean\n",
      "Power MAE:  206.049 kW in avg\n",
      "Power MAPE:  20.305 %\n",
      "\n",
      "\n",
      "Showing the results of the modelling: \n",
      "GridSearch_ XGBoost performed\n",
      "--- 19.994945323467256 minutes ---\n",
      "\n",
      "Lowest RMSE:  0.7092060635553115\n"
     ]
    },
    {
     "data": {
      "text/plain": [
       "GridSearchCV(cv=4,\n",
       "             estimator=XGBRegressor(base_score=None, booster='gbtree',\n",
       "                                    colsample_bylevel=None,\n",
       "                                    colsample_bynode=None, colsample_bytree=0.8,\n",
       "                                    gamma=0, gpu_id=None,\n",
       "                                    importance_type='gain',\n",
       "                                    interaction_constraints=None,\n",
       "                                    learning_rate=0.1, max_delta_step=None,\n",
       "                                    max_depth=15, min_child_weight=10,\n",
       "                                    missing=nan, monotone_constraints=None,\n",
       "                                    n_estimators=300, n_jobs=None,\n",
       "                                    num_parallel_tree=None, random_state=42,\n",
       "                                    reg_alpha=None, reg_lambda=10,\n",
       "                                    scale_pos_weight=None, subsample=0.8,\n",
       "                                    tree_method=None, validate_parameters=None,\n",
       "                                    verbosity=None),\n",
       "             param_grid={'learning_rate': [0.001, 0.01, 0.1, 0.5],\n",
       "                         'n_estimators': [800, 900, 1000, 1200, 1500, 1800,\n",
       "                                          2000]},\n",
       "             scoring='neg_mean_squared_error', verbose=1)"
      ]
     },
     "execution_count": 42,
     "metadata": {},
     "output_type": "execute_result"
    }
   ],
   "source": [
    "GridSearch_XGBoost (X_train, X_test, y_train, y_test, PC, parameters, param_grid, plot_error=False)"
   ]
  },
  {
   "cell_type": "markdown",
   "id": "1b483daf",
   "metadata": {},
   "source": [
    "### Manual modelling"
   ]
  },
  {
   "cell_type": "code",
   "execution_count": 43,
   "id": "6541cd16",
   "metadata": {},
   "outputs": [],
   "source": [
    "parameters={\n",
    "    'max_depth':15,\n",
    "    'n_estimators': 2000,\n",
    "    'learning_rate':0.01,\n",
    "    'subsample':0.8,\n",
    "    'colsample_bytree':0.8,\n",
    "    'min_child_weight':10,\n",
    "    'gamma':0,\n",
    "    'reg_lambda':10,\n",
    "}"
   ]
  },
  {
   "cell_type": "code",
   "execution_count": 44,
   "id": "65369191",
   "metadata": {},
   "outputs": [
    {
     "name": "stdout",
     "output_type": "stream",
     "text": [
      "power curve computation performed\n",
      "power curve computation performed\n",
      "Modelling errors for training set:\n",
      "Wind RMSE:  0.111 m/s as root mean\n",
      "Wind MAE:  0.078 m/s in avg\n",
      "Wind MAPE:  1.031 %\n",
      "Power RMSE:  51.24 kW as root mean\n",
      "Power MAE:  30.867 kW in avg\n",
      "Power MAPE:  1988548677387365.5 %\n",
      "\n",
      "Modelling errors for test set:\n",
      "Wind RMSE:  0.677 m/s as root mean\n",
      "Wind MAE:  0.507 m/s in avg\n",
      "Wind MAPE:  6.661 %\n",
      "Power RMSE:  319.97 kW as root mean\n",
      "Power MAE:  206.049 kW in avg\n",
      "Power MAPE:  20.305 %\n",
      "\n",
      "\n",
      "Showing the results of the modelling: \n",
      "XGBoost modelling performed\n"
     ]
    }
   ],
   "source": [
    "model = modelling_XGBoost (X_train, X_test, y_train, y_test, PC, parameters, plot_error=False, plot=True)"
   ]
  },
  {
   "cell_type": "markdown",
   "id": "6b99bf60",
   "metadata": {},
   "source": [
    "### Feature importance"
   ]
  },
  {
   "cell_type": "code",
   "execution_count": 45,
   "id": "f3946a3b",
   "metadata": {},
   "outputs": [
    {
     "data": {
      "image/png": "[encoded data removed]",
      "text/plain": [
       "<Figure size 576x597.6 with 1 Axes>"
      ]
     },
     "metadata": {},
     "output_type": "display_data"
    },
    {
     "data": {
      "image/png": "[encoded data removed]",
      "text/plain": [
       "<Figure size 576x396 with 2 Axes>"
      ]
     },
     "metadata": {},
     "output_type": "display_data"
    },
    {
     "name": "stdout",
     "output_type": "stream",
     "text": [
      "Feature importance through SHAP values performed\n"
     ]
    }
   ],
   "source": [
    "shap_values=feature_importance (X_train, X_test, model)"
   ]
  },
  {
   "cell_type": "code",
   "execution_count": 46,
   "id": "d4e3fbee",
   "metadata": {
    "scrolled": true
   },
   "outputs": [
    {
     "data": {
      "text/html": [
       "<div>\n",
       "<style scoped>\n",
       "    .dataframe tbody tr th:only-of-type {\n",
       "        vertical-align: middle;\n",
       "    }\n",
       "\n",
       "    .dataframe tbody tr th {\n",
       "        vertical-align: top;\n",
       "    }\n",
       "\n",
       "    .dataframe thead th {\n",
       "        text-align: right;\n",
       "    }\n",
       "</style>\n",
       "<table border=\"1\" class=\"dataframe\">\n",
       "  <thead>\n",
       "    <tr style=\"text-align: right;\">\n",
       "      <th></th>\n",
       "      <th>variables</th>\n",
       "      <th>SHAP_abs</th>\n",
       "    </tr>\n",
       "  </thead>\n",
       "  <tbody>\n",
       "    <tr>\n",
       "      <th>0</th>\n",
       "      <td>WS1</td>\n",
       "      <td>1.252275</td>\n",
       "    </tr>\n",
       "    <tr>\n",
       "      <th>1</th>\n",
       "      <td>WS3</td>\n",
       "      <td>0.053266</td>\n",
       "    </tr>\n",
       "    <tr>\n",
       "      <th>2</th>\n",
       "      <td>WS4</td>\n",
       "      <td>0.088236</td>\n",
       "    </tr>\n",
       "    <tr>\n",
       "      <th>3</th>\n",
       "      <td>WD1</td>\n",
       "      <td>0.084821</td>\n",
       "    </tr>\n",
       "    <tr>\n",
       "      <th>4</th>\n",
       "      <td>WD4</td>\n",
       "      <td>0.223720</td>\n",
       "    </tr>\n",
       "    <tr>\n",
       "      <th>5</th>\n",
       "      <td>WSHor</td>\n",
       "      <td>0.504291</td>\n",
       "    </tr>\n",
       "    <tr>\n",
       "      <th>6</th>\n",
       "      <td>WSVer</td>\n",
       "      <td>0.059549</td>\n",
       "    </tr>\n",
       "    <tr>\n",
       "      <th>7</th>\n",
       "      <td>WDHor</td>\n",
       "      <td>0.072703</td>\n",
       "    </tr>\n",
       "    <tr>\n",
       "      <th>8</th>\n",
       "      <td>RH1</td>\n",
       "      <td>0.228495</td>\n",
       "    </tr>\n",
       "    <tr>\n",
       "      <th>9</th>\n",
       "      <td>PR1</td>\n",
       "      <td>0.087954</td>\n",
       "    </tr>\n",
       "    <tr>\n",
       "      <th>10</th>\n",
       "      <td>Rain</td>\n",
       "      <td>0.000000</td>\n",
       "    </tr>\n",
       "    <tr>\n",
       "      <th>11</th>\n",
       "      <td>WSH</td>\n",
       "      <td>0.041806</td>\n",
       "    </tr>\n",
       "    <tr>\n",
       "      <th>12</th>\n",
       "      <td>WVeer</td>\n",
       "      <td>0.131639</td>\n",
       "    </tr>\n",
       "    <tr>\n",
       "      <th>13</th>\n",
       "      <td>TI</td>\n",
       "      <td>0.473243</td>\n",
       "    </tr>\n",
       "    <tr>\n",
       "      <th>14</th>\n",
       "      <td>WDVer</td>\n",
       "      <td>0.047423</td>\n",
       "    </tr>\n",
       "    <tr>\n",
       "      <th>15</th>\n",
       "      <td>WD_bin</td>\n",
       "      <td>0.004222</td>\n",
       "    </tr>\n",
       "    <tr>\n",
       "      <th>16</th>\n",
       "      <td>tod</td>\n",
       "      <td>0.164555</td>\n",
       "    </tr>\n",
       "  </tbody>\n",
       "</table>\n",
       "</div>"
      ],
      "text/plain": [
       "   variables  SHAP_abs\n",
       "0        WS1  1.252275\n",
       "1        WS3  0.053266\n",
       "2        WS4  0.088236\n",
       "3        WD1  0.084821\n",
       "4        WD4  0.223720\n",
       "5      WSHor  0.504291\n",
       "6      WSVer  0.059549\n",
       "7      WDHor  0.072703\n",
       "8        RH1  0.228495\n",
       "9        PR1  0.087954\n",
       "10      Rain  0.000000\n",
       "11       WSH  0.041806\n",
       "12     WVeer  0.131639\n",
       "13        TI  0.473243\n",
       "14     WDVer  0.047423\n",
       "15    WD_bin  0.004222\n",
       "16       tod  0.164555"
      ]
     },
     "execution_count": 46,
     "metadata": {},
     "output_type": "execute_result"
    }
   ],
   "source": [
    "shap_values"
   ]
  },
  {
   "cell_type": "markdown",
   "id": "c844a2df",
   "metadata": {},
   "source": [
    "## Dataset2- T17"
   ]
  },
  {
   "cell_type": "code",
   "execution_count": 48,
   "id": "143791ce",
   "metadata": {},
   "outputs": [
    {
     "data": {
      "text/plain": [
       "Index(['WS1', 'WS3', 'WS4', 'WD1', 'WD4', 'WSHor', 'WSVer', 'WDHor', 'PR1',\n",
       "       'Rain', 'WSH', 'WVeer', 'TI', 'WDVer', 'WD_bin', 'tod'],\n",
       "      dtype='object')"
      ]
     },
     "execution_count": 48,
     "metadata": {},
     "output_type": "execute_result"
    }
   ],
   "source": [
    "#upload the dataset with file_folder, file_name\n",
    "X_train= uploading_csv('\\Dataset2-Complex_Site','\\X_train17.csv')\n",
    "X_test= uploading_csv('\\Dataset2-Complex_Site','\\X_test17.csv')\n",
    "y_train= uploading_csv('\\Dataset2-Complex_Site','\\y_train17.csv')\n",
    "y_test= uploading_csv('\\Dataset2-Complex_Site','\\y_test17.csv')\n",
    "\n",
    "X_test.keys()"
   ]
  },
  {
   "cell_type": "code",
   "execution_count": 49,
   "id": "8e5ee809",
   "metadata": {},
   "outputs": [
    {
     "data": {
      "text/plain": [
       "Index(['Target'], dtype='object')"
      ]
     },
     "execution_count": 49,
     "metadata": {},
     "output_type": "execute_result"
    }
   ],
   "source": [
    "y_test.keys()"
   ]
  },
  {
   "cell_type": "code",
   "execution_count": 50,
   "id": "8c5bf8b0",
   "metadata": {},
   "outputs": [],
   "source": [
    "PC= uploading_csv('\\Dataset2-Complex_Site','\\PC_V112.csv')"
   ]
  },
  {
   "cell_type": "markdown",
   "id": "8d42105e",
   "metadata": {},
   "source": [
    "### Grid Search"
   ]
  },
  {
   "cell_type": "code",
   "execution_count": 51,
   "id": "9c4b864f",
   "metadata": {},
   "outputs": [],
   "source": [
    "parameters={\n",
    "    'max_depth':5,\n",
    "    'n_estimators': 1000,\n",
    "    'learning_rate':0.1,\n",
    "    'subsample':0.8,\n",
    "    'colsample_bytree':0.8,\n",
    "    'min_child_weight':1,\n",
    "    'gamma':0,\n",
    "    'reg_lambda':1,\n",
    "}"
   ]
  },
  {
   "cell_type": "code",
   "execution_count": 52,
   "id": "ebae69f9",
   "metadata": {},
   "outputs": [],
   "source": [
    "param_grid={\n",
    "    'n_estimators': [100, 200, 300, 400, 500, 600, 700, 800, 900, 1000],\n",
    "}"
   ]
  },
  {
   "cell_type": "code",
   "execution_count": 53,
   "id": "1714b6e3",
   "metadata": {
    "scrolled": true
   },
   "outputs": [
    {
     "name": "stdout",
     "output_type": "stream",
     "text": [
      "Fitting 4 folds for each of 10 candidates, totalling 40 fits\n",
      "\n",
      "Best parameters :\n",
      "{'n_estimators': 300}\n",
      "\n",
      "power curve computation performed\n",
      "power curve computation performed\n",
      "Modelling errors for training set:\n",
      "Wind RMSE:  0.274 m/s as root mean\n",
      "Wind MAE:  0.21 m/s in avg\n",
      "Wind MAPE:  2.322 %\n",
      "Power RMSE:  124.162 kW as root mean\n",
      "Power MAE:  78.482 kW in avg\n",
      "Power MAPE:  5.479 %\n",
      "\n",
      "Modelling errors for test set:\n",
      "Wind RMSE:  0.571 m/s as root mean\n",
      "Wind MAE:  0.444 m/s in avg\n",
      "Wind MAPE:  4.795 %\n",
      "Power RMSE:  228.146 kW as root mean\n",
      "Power MAE:  150.49 kW in avg\n",
      "Power MAPE:  10.834 %\n",
      "\n",
      "\n",
      "Showing the results of the modelling: \n",
      "GridSearch_ XGBoost performed\n",
      "--- 2.0538490374883014 minutes ---\n",
      "\n",
      "Lowest RMSE:  0.5882572614848081\n"
     ]
    },
    {
     "data": {
      "text/plain": [
       "GridSearchCV(cv=4,\n",
       "             estimator=XGBRegressor(base_score=None, booster='gbtree',\n",
       "                                    colsample_bylevel=None,\n",
       "                                    colsample_bynode=None, colsample_bytree=0.8,\n",
       "                                    gamma=0, gpu_id=None,\n",
       "                                    importance_type='gain',\n",
       "                                    interaction_constraints=None,\n",
       "                                    learning_rate=0.1, max_delta_step=None,\n",
       "                                    max_depth=5, min_child_weight=1,\n",
       "                                    missing=nan, monotone_constraints=None,\n",
       "                                    n_estimators=1000, n_jobs=None,\n",
       "                                    num_parallel_tree=None, random_state=42,\n",
       "                                    reg_alpha=None, reg_lambda=1,\n",
       "                                    scale_pos_weight=None, subsample=0.8,\n",
       "                                    tree_method=None, validate_parameters=None,\n",
       "                                    verbosity=None),\n",
       "             param_grid={'n_estimators': [100, 200, 300, 400, 500, 600, 700,\n",
       "                                          800, 900, 1000]},\n",
       "             scoring='neg_mean_squared_error', verbose=1)"
      ]
     },
     "execution_count": 53,
     "metadata": {},
     "output_type": "execute_result"
    }
   ],
   "source": [
    " GridSearch_XGBoost (X_train, X_test, y_train, y_test, PC, parameters, param_grid, plot_error=False)"
   ]
  },
  {
   "cell_type": "code",
   "execution_count": 54,
   "id": "e97a35d7",
   "metadata": {},
   "outputs": [],
   "source": [
    "parameters={\n",
    "    'max_depth':5,\n",
    "    'n_estimators': 300,\n",
    "    'learning_rate':0.1,\n",
    "    'subsample':0.8,\n",
    "    'colsample_bytree':0.8,\n",
    "    'min_child_weight':1,\n",
    "    'gamma':0,\n",
    "    'reg_lambda':1,\n",
    "}"
   ]
  },
  {
   "cell_type": "code",
   "execution_count": 55,
   "id": "83229470",
   "metadata": {},
   "outputs": [],
   "source": [
    "param_grid={\n",
    "    'max_depth': [3, 4, 5, 6, 10, 15, 20],\n",
    "    'min_child_weight': [1, 2, 3, 6, 10]\n",
    "}"
   ]
  },
  {
   "cell_type": "code",
   "execution_count": 56,
   "id": "be3005a9",
   "metadata": {
    "scrolled": true
   },
   "outputs": [
    {
     "name": "stdout",
     "output_type": "stream",
     "text": [
      "Fitting 4 folds for each of 35 candidates, totalling 140 fits\n",
      "\n",
      "Best parameters :\n",
      "{'max_depth': 5, 'min_child_weight': 10}\n",
      "\n",
      "power curve computation performed\n",
      "power curve computation performed\n",
      "Modelling errors for training set:\n",
      "Wind RMSE:  0.308 m/s as root mean\n",
      "Wind MAE:  0.234 m/s in avg\n",
      "Wind MAPE:  2.591 %\n",
      "Power RMSE:  139.128 kW as root mean\n",
      "Power MAE:  87.141 kW in avg\n",
      "Power MAPE:  6.1 %\n",
      "\n",
      "Modelling errors for test set:\n",
      "Wind RMSE:  0.576 m/s as root mean\n",
      "Wind MAE:  0.448 m/s in avg\n",
      "Wind MAPE:  4.838 %\n",
      "Power RMSE:  230.553 kW as root mean\n",
      "Power MAE:  152.859 kW in avg\n",
      "Power MAPE:  10.932 %\n",
      "\n",
      "\n",
      "Showing the results of the modelling: \n",
      "GridSearch_ XGBoost performed\n",
      "--- 6.669050025939941 minutes ---\n",
      "\n",
      "Lowest RMSE:  0.5824688218535748\n"
     ]
    },
    {
     "data": {
      "text/plain": [
       "GridSearchCV(cv=4,\n",
       "             estimator=XGBRegressor(base_score=None, booster='gbtree',\n",
       "                                    colsample_bylevel=None,\n",
       "                                    colsample_bynode=None, colsample_bytree=0.8,\n",
       "                                    gamma=0, gpu_id=None,\n",
       "                                    importance_type='gain',\n",
       "                                    interaction_constraints=None,\n",
       "                                    learning_rate=0.1, max_delta_step=None,\n",
       "                                    max_depth=5, min_child_weight=1,\n",
       "                                    missing=nan, monotone_constraints=None,\n",
       "                                    n_estimators=300, n_jobs=None,\n",
       "                                    num_parallel_tree=None, random_state=42,\n",
       "                                    reg_alpha=None, reg_lambda=1,\n",
       "                                    scale_pos_weight=None, subsample=0.8,\n",
       "                                    tree_method=None, validate_parameters=None,\n",
       "                                    verbosity=None),\n",
       "             param_grid={'max_depth': [3, 4, 5, 6, 10, 15, 20],\n",
       "                         'min_child_weight': [1, 2, 3, 6, 10]},\n",
       "             scoring='neg_mean_squared_error', verbose=1)"
      ]
     },
     "execution_count": 56,
     "metadata": {},
     "output_type": "execute_result"
    }
   ],
   "source": [
    "GridSearch_XGBoost (X_train, X_test, y_train, y_test, PC, parameters, param_grid, plot_error=False)"
   ]
  },
  {
   "cell_type": "code",
   "execution_count": 57,
   "id": "2b919c17",
   "metadata": {},
   "outputs": [],
   "source": [
    "parameters={\n",
    "    'max_depth':5,\n",
    "    'n_estimators': 300,\n",
    "    'learning_rate':0.1,\n",
    "    'subsample':0.8,\n",
    "    'colsample_bytree':0.8,\n",
    "    'min_child_weight':10,\n",
    "    'gamma':0,\n",
    "    'reg_lambda':1,\n",
    "}"
   ]
  },
  {
   "cell_type": "code",
   "execution_count": 58,
   "id": "4ee5f2db",
   "metadata": {},
   "outputs": [],
   "source": [
    "param_grid={\n",
    "    'gamma': [0, 0.1, 0.2, 0.3, 0.4, 0.5]\n",
    "}"
   ]
  },
  {
   "cell_type": "code",
   "execution_count": 59,
   "id": "80909ad0",
   "metadata": {
    "scrolled": true
   },
   "outputs": [
    {
     "name": "stdout",
     "output_type": "stream",
     "text": [
      "Fitting 4 folds for each of 6 candidates, totalling 24 fits\n",
      "\n",
      "Best parameters :\n",
      "{'gamma': 0.1}\n",
      "\n",
      "power curve computation performed\n",
      "power curve computation performed\n",
      "Modelling errors for training set:\n",
      "Wind RMSE:  0.305 m/s as root mean\n",
      "Wind MAE:  0.232 m/s in avg\n",
      "Wind MAPE:  2.558 %\n",
      "Power RMSE:  137.71 kW as root mean\n",
      "Power MAE:  86.198 kW in avg\n",
      "Power MAPE:  6.002 %\n",
      "\n",
      "Modelling errors for test set:\n",
      "Wind RMSE:  0.578 m/s as root mean\n",
      "Wind MAE:  0.45 m/s in avg\n",
      "Wind MAPE:  4.861 %\n",
      "Power RMSE:  231.781 kW as root mean\n",
      "Power MAE:  153.612 kW in avg\n",
      "Power MAPE:  11.008 %\n",
      "\n",
      "\n",
      "Showing the results of the modelling: \n",
      "GridSearch_ XGBoost performed\n",
      "--- 0.6265353202819824 minutes ---\n",
      "\n",
      "Lowest RMSE:  0.58234352670207\n"
     ]
    },
    {
     "data": {
      "text/plain": [
       "GridSearchCV(cv=4,\n",
       "             estimator=XGBRegressor(base_score=None, booster='gbtree',\n",
       "                                    colsample_bylevel=None,\n",
       "                                    colsample_bynode=None, colsample_bytree=0.8,\n",
       "                                    gamma=0, gpu_id=None,\n",
       "                                    importance_type='gain',\n",
       "                                    interaction_constraints=None,\n",
       "                                    learning_rate=0.1, max_delta_step=None,\n",
       "                                    max_depth=5, min_child_weight=10,\n",
       "                                    missing=nan, monotone_constraints=None,\n",
       "                                    n_estimators=300, n_jobs=None,\n",
       "                                    num_parallel_tree=None, random_state=42,\n",
       "                                    reg_alpha=None, reg_lambda=1,\n",
       "                                    scale_pos_weight=None, subsample=0.8,\n",
       "                                    tree_method=None, validate_parameters=None,\n",
       "                                    verbosity=None),\n",
       "             param_grid={'gamma': [0, 0.1, 0.2, 0.3, 0.4, 0.5]},\n",
       "             scoring='neg_mean_squared_error', verbose=1)"
      ]
     },
     "execution_count": 59,
     "metadata": {},
     "output_type": "execute_result"
    }
   ],
   "source": [
    "GridSearch_XGBoost (X_train, X_test, y_train, y_test, PC, parameters, param_grid, plot_error=False)"
   ]
  },
  {
   "cell_type": "code",
   "execution_count": 60,
   "id": "336d0608",
   "metadata": {},
   "outputs": [],
   "source": [
    "parameters={\n",
    "    'max_depth':5,\n",
    "    'n_estimators': 300,\n",
    "    'learning_rate':0.1,\n",
    "    'subsample':0.8,\n",
    "    'colsample_bytree':0.8,\n",
    "    'min_child_weight':10,\n",
    "    'gamma':0.1,\n",
    "    'reg_lambda':1,\n",
    "}"
   ]
  },
  {
   "cell_type": "code",
   "execution_count": 61,
   "id": "9174f462",
   "metadata": {},
   "outputs": [],
   "source": [
    "param_grid={\n",
    "    'subsample': [0.4, 0.5, 0.6, 0.7, 0.8, 0.9, 1],\n",
    "    'colsample_bytree': [0.4, 0.5, 0.6, 0.7, 0.8, 0.9, 1]\n",
    "}"
   ]
  },
  {
   "cell_type": "code",
   "execution_count": 62,
   "id": "c8e7b560",
   "metadata": {
    "scrolled": true
   },
   "outputs": [
    {
     "name": "stdout",
     "output_type": "stream",
     "text": [
      "Fitting 4 folds for each of 49 candidates, totalling 196 fits\n",
      "\n",
      "Best parameters :\n",
      "{'colsample_bytree': 1, 'subsample': 0.8}\n",
      "\n",
      "power curve computation performed\n",
      "power curve computation performed\n",
      "Modelling errors for training set:\n",
      "Wind RMSE:  0.296 m/s as root mean\n",
      "Wind MAE:  0.225 m/s in avg\n",
      "Wind MAPE:  2.486 %\n",
      "Power RMSE:  132.841 kW as root mean\n",
      "Power MAE:  83.338 kW in avg\n",
      "Power MAPE:  5.829 %\n",
      "\n",
      "Modelling errors for test set:\n",
      "Wind RMSE:  0.57 m/s as root mean\n",
      "Wind MAE:  0.441 m/s in avg\n",
      "Wind MAPE:  4.748 %\n",
      "Power RMSE:  226.396 kW as root mean\n",
      "Power MAE:  149.379 kW in avg\n",
      "Power MAPE:  10.623 %\n",
      "\n",
      "\n",
      "Showing the results of the modelling: \n",
      "GridSearch_ XGBoost performed\n",
      "--- 7.9996373097101845 minutes ---\n",
      "\n",
      "Lowest RMSE:  0.579821074153776\n"
     ]
    },
    {
     "data": {
      "text/plain": [
       "GridSearchCV(cv=4,\n",
       "             estimator=XGBRegressor(base_score=None, booster='gbtree',\n",
       "                                    colsample_bylevel=None,\n",
       "                                    colsample_bynode=None, colsample_bytree=0.8,\n",
       "                                    gamma=0.1, gpu_id=None,\n",
       "                                    importance_type='gain',\n",
       "                                    interaction_constraints=None,\n",
       "                                    learning_rate=0.1, max_delta_step=None,\n",
       "                                    max_depth=5, min_child_weight=10,\n",
       "                                    missing=nan, monotone_constraints=None,\n",
       "                                    n_estimators=300, n_jobs=None,\n",
       "                                    num_parallel_tree=None, random_state=42,\n",
       "                                    reg_alpha=None, reg_lambda=1,\n",
       "                                    scale_pos_weight=None, subsample=0.8,\n",
       "                                    tree_method=None, validate_parameters=None,\n",
       "                                    verbosity=None),\n",
       "             param_grid={'colsample_bytree': [0.4, 0.5, 0.6, 0.7, 0.8, 0.9, 1],\n",
       "                         'subsample': [0.4, 0.5, 0.6, 0.7, 0.8, 0.9, 1]},\n",
       "             scoring='neg_mean_squared_error', verbose=1)"
      ]
     },
     "execution_count": 62,
     "metadata": {},
     "output_type": "execute_result"
    }
   ],
   "source": [
    "GridSearch_XGBoost (X_train, X_test, y_train, y_test, PC, parameters, param_grid, plot_error=False)"
   ]
  },
  {
   "cell_type": "code",
   "execution_count": 63,
   "id": "c3297e66",
   "metadata": {},
   "outputs": [],
   "source": [
    "parameters={\n",
    "    'max_depth':5,\n",
    "    'n_estimators': 300,\n",
    "    'learning_rate':0.1,\n",
    "    'subsample':0.8,\n",
    "    'colsample_bytree':1,\n",
    "    'min_child_weight':10,\n",
    "    'gamma':0.1,\n",
    "    'reg_lambda':1,\n",
    "}"
   ]
  },
  {
   "cell_type": "code",
   "execution_count": 64,
   "id": "3f01c0ed",
   "metadata": {},
   "outputs": [],
   "source": [
    "param_grid={\n",
    "    'reg_lambda': [1, 10, 50, 100, 150]\n",
    "}"
   ]
  },
  {
   "cell_type": "code",
   "execution_count": 65,
   "id": "7156ce86",
   "metadata": {
    "scrolled": true
   },
   "outputs": [
    {
     "name": "stdout",
     "output_type": "stream",
     "text": [
      "Fitting 4 folds for each of 5 candidates, totalling 20 fits\n",
      "\n",
      "Best parameters :\n",
      "{'reg_lambda': 1}\n",
      "\n",
      "power curve computation performed\n",
      "power curve computation performed\n",
      "Modelling errors for training set:\n",
      "Wind RMSE:  0.296 m/s as root mean\n",
      "Wind MAE:  0.225 m/s in avg\n",
      "Wind MAPE:  2.486 %\n",
      "Power RMSE:  132.841 kW as root mean\n",
      "Power MAE:  83.338 kW in avg\n",
      "Power MAPE:  5.829 %\n",
      "\n",
      "Modelling errors for test set:\n",
      "Wind RMSE:  0.57 m/s as root mean\n",
      "Wind MAE:  0.441 m/s in avg\n",
      "Wind MAPE:  4.748 %\n",
      "Power RMSE:  226.396 kW as root mean\n",
      "Power MAE:  149.379 kW in avg\n",
      "Power MAPE:  10.623 %\n",
      "\n",
      "\n",
      "Showing the results of the modelling: \n",
      "GridSearch_ XGBoost performed\n",
      "--- 0.657681401570638 minutes ---\n",
      "\n",
      "Lowest RMSE:  0.579821074153776\n"
     ]
    },
    {
     "data": {
      "text/plain": [
       "GridSearchCV(cv=4,\n",
       "             estimator=XGBRegressor(base_score=None, booster='gbtree',\n",
       "                                    colsample_bylevel=None,\n",
       "                                    colsample_bynode=None, colsample_bytree=1,\n",
       "                                    gamma=0.1, gpu_id=None,\n",
       "                                    importance_type='gain',\n",
       "                                    interaction_constraints=None,\n",
       "                                    learning_rate=0.1, max_delta_step=None,\n",
       "                                    max_depth=5, min_child_weight=10,\n",
       "                                    missing=nan, monotone_constraints=None,\n",
       "                                    n_estimators=300, n_jobs=None,\n",
       "                                    num_parallel_tree=None, random_state=42,\n",
       "                                    reg_alpha=None, reg_lambda=1,\n",
       "                                    scale_pos_weight=None, subsample=0.8,\n",
       "                                    tree_method=None, validate_parameters=None,\n",
       "                                    verbosity=None),\n",
       "             param_grid={'reg_lambda': [1, 10, 50, 100, 150]},\n",
       "             scoring='neg_mean_squared_error', verbose=1)"
      ]
     },
     "execution_count": 65,
     "metadata": {},
     "output_type": "execute_result"
    }
   ],
   "source": [
    "GridSearch_XGBoost (X_train, X_test, y_train, y_test, PC, parameters, param_grid, plot_error=False)"
   ]
  },
  {
   "cell_type": "code",
   "execution_count": 66,
   "id": "59ea01de",
   "metadata": {},
   "outputs": [],
   "source": [
    "parameters={\n",
    "    'max_depth':5,\n",
    "    'n_estimators': 300,\n",
    "    'learning_rate':0.1,\n",
    "    'subsample':0.8,\n",
    "    'colsample_bytree':1,\n",
    "    'min_child_weight':10,\n",
    "    'gamma':0.1,\n",
    "    'reg_lambda':1,\n",
    "}"
   ]
  },
  {
   "cell_type": "code",
   "execution_count": 67,
   "id": "72a29aca",
   "metadata": {},
   "outputs": [],
   "source": [
    "param_grid={\n",
    "    'learning_rate': [0.001, 0.01, 0.1, 0.5],\n",
    "    'n_estimators': [800, 900, 1000, 1200, 1500, 1800, 2000]\n",
    "}"
   ]
  },
  {
   "cell_type": "code",
   "execution_count": 68,
   "id": "7552ae2f",
   "metadata": {
    "scrolled": true
   },
   "outputs": [
    {
     "name": "stdout",
     "output_type": "stream",
     "text": [
      "Fitting 4 folds for each of 28 candidates, totalling 112 fits\n",
      "\n",
      "Best parameters :\n",
      "{'learning_rate': 0.01, 'n_estimators': 2000}\n",
      "\n",
      "power curve computation performed\n",
      "power curve computation performed\n",
      "Modelling errors for training set:\n",
      "Wind RMSE:  0.348 m/s as root mean\n",
      "Wind MAE:  0.267 m/s in avg\n",
      "Wind MAPE:  2.933 %\n",
      "Power RMSE:  155.407 kW as root mean\n",
      "Power MAE:  98.184 kW in avg\n",
      "Power MAPE:  6.839 %\n",
      "\n",
      "Modelling errors for test set:\n",
      "Wind RMSE:  0.565 m/s as root mean\n",
      "Wind MAE:  0.44 m/s in avg\n",
      "Wind MAPE:  4.743 %\n",
      "Power RMSE:  225.776 kW as root mean\n",
      "Power MAE:  149.54 kW in avg\n",
      "Power MAPE:  10.683 %\n",
      "\n",
      "\n",
      "Showing the results of the modelling: \n",
      "GridSearch_ XGBoost performed\n",
      "--- 16.78581728140513 minutes ---\n",
      "\n",
      "Lowest RMSE:  0.5736045603820564\n"
     ]
    },
    {
     "data": {
      "text/plain": [
       "GridSearchCV(cv=4,\n",
       "             estimator=XGBRegressor(base_score=None, booster='gbtree',\n",
       "                                    colsample_bylevel=None,\n",
       "                                    colsample_bynode=None, colsample_bytree=1,\n",
       "                                    gamma=0.1, gpu_id=None,\n",
       "                                    importance_type='gain',\n",
       "                                    interaction_constraints=None,\n",
       "                                    learning_rate=0.1, max_delta_step=None,\n",
       "                                    max_depth=5, min_child_weight=10,\n",
       "                                    missing=nan, monotone_constraints=None,\n",
       "                                    n_estimators=300, n_jobs=None,\n",
       "                                    num_parallel_tree=None, random_state=42,\n",
       "                                    reg_alpha=None, reg_lambda=1,\n",
       "                                    scale_pos_weight=None, subsample=0.8,\n",
       "                                    tree_method=None, validate_parameters=None,\n",
       "                                    verbosity=None),\n",
       "             param_grid={'learning_rate': [0.001, 0.01, 0.1, 0.5],\n",
       "                         'n_estimators': [800, 900, 1000, 1200, 1500, 1800,\n",
       "                                          2000]},\n",
       "             scoring='neg_mean_squared_error', verbose=1)"
      ]
     },
     "execution_count": 68,
     "metadata": {},
     "output_type": "execute_result"
    }
   ],
   "source": [
    "GridSearch_XGBoost (X_train, X_test, y_train, y_test, PC, parameters, param_grid, plot_error=False)"
   ]
  },
  {
   "cell_type": "code",
   "execution_count": null,
   "id": "ea99f2e0",
   "metadata": {},
   "outputs": [],
   "source": []
  },
  {
   "cell_type": "markdown",
   "id": "5ff9a321",
   "metadata": {},
   "source": [
    "### Manual modelling"
   ]
  },
  {
   "cell_type": "code",
   "execution_count": 69,
   "id": "845a8c5a",
   "metadata": {},
   "outputs": [],
   "source": [
    "parameters={\n",
    "    'max_depth':5,\n",
    "    'n_estimators': 2000,\n",
    "    'learning_rate':0.01,\n",
    "    'subsample':0.8,\n",
    "    'colsample_bytree':1,\n",
    "    'min_child_weight':10,\n",
    "    'gamma':0.1,\n",
    "    'reg_lambda':1,\n",
    "}"
   ]
  },
  {
   "cell_type": "code",
   "execution_count": 70,
   "id": "86cc4e6d",
   "metadata": {},
   "outputs": [
    {
     "name": "stdout",
     "output_type": "stream",
     "text": [
      "power curve computation performed\n",
      "power curve computation performed\n",
      "Modelling errors for training set:\n",
      "Wind RMSE:  0.348 m/s as root mean\n",
      "Wind MAE:  0.267 m/s in avg\n",
      "Wind MAPE:  2.93 %\n",
      "Power RMSE:  155.297 kW as root mean\n",
      "Power MAE:  98.071 kW in avg\n",
      "Power MAPE:  6.829 %\n",
      "\n",
      "Modelling errors for test set:\n",
      "Wind RMSE:  0.564 m/s as root mean\n",
      "Wind MAE:  0.439 m/s in avg\n",
      "Wind MAPE:  4.732 %\n",
      "Power RMSE:  225.506 kW as root mean\n",
      "Power MAE:  149.24 kW in avg\n",
      "Power MAPE:  10.649 %\n",
      "\n",
      "\n",
      "Showing the results of the modelling: \n",
      "XGBoost modelling performed\n"
     ]
    }
   ],
   "source": [
    "model = modelling_XGBoost (X_train, X_test, y_train, y_test, PC, parameters, plot_error=False, plot=True)"
   ]
  },
  {
   "cell_type": "markdown",
   "id": "577106b1",
   "metadata": {},
   "source": [
    "### Feature importance"
   ]
  },
  {
   "cell_type": "code",
   "execution_count": 71,
   "id": "91b8ac1b",
   "metadata": {},
   "outputs": [
    {
     "data": {
      "image/png": "[encoded data removed]",
      "text/plain": [
       "<Figure size 576x568.8 with 1 Axes>"
      ]
     },
     "metadata": {},
     "output_type": "display_data"
    },
    {
     "data": {
      "image/png": "[encoded data removed]",
      "text/plain": [
       "<Figure size 576x396 with 2 Axes>"
      ]
     },
     "metadata": {},
     "output_type": "display_data"
    },
    {
     "name": "stdout",
     "output_type": "stream",
     "text": [
      "Feature importance through SHAP values performed\n"
     ]
    }
   ],
   "source": [
    "shap_values=feature_importance (X_train, X_test, model)"
   ]
  },
  {
   "cell_type": "code",
   "execution_count": 72,
   "id": "a4a179d1",
   "metadata": {},
   "outputs": [
    {
     "data": {
      "text/html": [
       "<div>\n",
       "<style scoped>\n",
       "    .dataframe tbody tr th:only-of-type {\n",
       "        vertical-align: middle;\n",
       "    }\n",
       "\n",
       "    .dataframe tbody tr th {\n",
       "        vertical-align: top;\n",
       "    }\n",
       "\n",
       "    .dataframe thead th {\n",
       "        text-align: right;\n",
       "    }\n",
       "</style>\n",
       "<table border=\"1\" class=\"dataframe\">\n",
       "  <thead>\n",
       "    <tr style=\"text-align: right;\">\n",
       "      <th></th>\n",
       "      <th>variables</th>\n",
       "      <th>SHAP_abs</th>\n",
       "    </tr>\n",
       "  </thead>\n",
       "  <tbody>\n",
       "    <tr>\n",
       "      <th>0</th>\n",
       "      <td>WS1</td>\n",
       "      <td>1.370562</td>\n",
       "    </tr>\n",
       "    <tr>\n",
       "      <th>1</th>\n",
       "      <td>WS3</td>\n",
       "      <td>0.160231</td>\n",
       "    </tr>\n",
       "    <tr>\n",
       "      <th>2</th>\n",
       "      <td>WS4</td>\n",
       "      <td>0.135672</td>\n",
       "    </tr>\n",
       "    <tr>\n",
       "      <th>3</th>\n",
       "      <td>WD1</td>\n",
       "      <td>0.082448</td>\n",
       "    </tr>\n",
       "    <tr>\n",
       "      <th>4</th>\n",
       "      <td>WD4</td>\n",
       "      <td>0.024685</td>\n",
       "    </tr>\n",
       "    <tr>\n",
       "      <th>5</th>\n",
       "      <td>WSHor</td>\n",
       "      <td>0.812333</td>\n",
       "    </tr>\n",
       "    <tr>\n",
       "      <th>6</th>\n",
       "      <td>WSVer</td>\n",
       "      <td>0.130960</td>\n",
       "    </tr>\n",
       "    <tr>\n",
       "      <th>7</th>\n",
       "      <td>WDHor</td>\n",
       "      <td>0.055316</td>\n",
       "    </tr>\n",
       "    <tr>\n",
       "      <th>8</th>\n",
       "      <td>PR1</td>\n",
       "      <td>0.081576</td>\n",
       "    </tr>\n",
       "    <tr>\n",
       "      <th>9</th>\n",
       "      <td>Rain</td>\n",
       "      <td>0.001871</td>\n",
       "    </tr>\n",
       "    <tr>\n",
       "      <th>10</th>\n",
       "      <td>WSH</td>\n",
       "      <td>0.046955</td>\n",
       "    </tr>\n",
       "    <tr>\n",
       "      <th>11</th>\n",
       "      <td>WVeer</td>\n",
       "      <td>0.202479</td>\n",
       "    </tr>\n",
       "    <tr>\n",
       "      <th>12</th>\n",
       "      <td>TI</td>\n",
       "      <td>0.044207</td>\n",
       "    </tr>\n",
       "    <tr>\n",
       "      <th>13</th>\n",
       "      <td>WDVer</td>\n",
       "      <td>0.019240</td>\n",
       "    </tr>\n",
       "    <tr>\n",
       "      <th>14</th>\n",
       "      <td>WD_bin</td>\n",
       "      <td>0.000000</td>\n",
       "    </tr>\n",
       "    <tr>\n",
       "      <th>15</th>\n",
       "      <td>tod</td>\n",
       "      <td>0.325411</td>\n",
       "    </tr>\n",
       "  </tbody>\n",
       "</table>\n",
       "</div>"
      ],
      "text/plain": [
       "   variables  SHAP_abs\n",
       "0        WS1  1.370562\n",
       "1        WS3  0.160231\n",
       "2        WS4  0.135672\n",
       "3        WD1  0.082448\n",
       "4        WD4  0.024685\n",
       "5      WSHor  0.812333\n",
       "6      WSVer  0.130960\n",
       "7      WDHor  0.055316\n",
       "8        PR1  0.081576\n",
       "9       Rain  0.001871\n",
       "10       WSH  0.046955\n",
       "11     WVeer  0.202479\n",
       "12        TI  0.044207\n",
       "13     WDVer  0.019240\n",
       "14    WD_bin  0.000000\n",
       "15       tod  0.325411"
      ]
     },
     "execution_count": 72,
     "metadata": {},
     "output_type": "execute_result"
    }
   ],
   "source": [
    "shap_values"
   ]
  },
  {
   "cell_type": "code",
   "execution_count": null,
   "id": "a410fa0b",
   "metadata": {},
   "outputs": [],
   "source": []
  },
  {
   "cell_type": "markdown",
   "id": "52954f53",
   "metadata": {},
   "source": [
    "## Dataset2- T11"
   ]
  },
  {
   "cell_type": "code",
   "execution_count": 22,
   "id": "a3424bbb",
   "metadata": {
    "scrolled": true
   },
   "outputs": [
    {
     "data": {
      "text/plain": [
       "Index(['WS1', 'WS3', 'WS4', 'WD1', 'WD4', 'WSHor', 'WSVer', 'WDHor', 'T1',\n",
       "       'RH1', 'PR1', 'Rain', 'WSH', 'WVeer', 'TI', 'WDVer', 'WD_bin', 'AD1',\n",
       "       'tod'],\n",
       "      dtype='object')"
      ]
     },
     "execution_count": 22,
     "metadata": {},
     "output_type": "execute_result"
    }
   ],
   "source": [
    "#upload the dataset with file_folder, file_name\n",
    "# data_up= uploading_csv('\\Dataset1-Normal_Site','\\data_comp14.csv')\n",
    "X_train= uploading_csv('\\Dataset2-Complex_Site','\\X_train11.csv')\n",
    "X_test= uploading_csv('\\Dataset2-Complex_Site','\\X_test11.csv')\n",
    "y_train= uploading_csv('\\Dataset2-Complex_Site','\\y_train11.csv')\n",
    "y_test= uploading_csv('\\Dataset2-Complex_Site','\\y_test11.csv')\n",
    "\n",
    "X_test.keys()"
   ]
  },
  {
   "cell_type": "code",
   "execution_count": 23,
   "id": "1f670b31",
   "metadata": {},
   "outputs": [
    {
     "data": {
      "text/plain": [
       "Index(['Target'], dtype='object')"
      ]
     },
     "execution_count": 23,
     "metadata": {},
     "output_type": "execute_result"
    }
   ],
   "source": [
    "y_test.keys()"
   ]
  },
  {
   "cell_type": "code",
   "execution_count": 24,
   "id": "1ee3d8d3",
   "metadata": {},
   "outputs": [],
   "source": [
    "PC= uploading_csv('\\Dataset2-Complex_Site','\\PC_V117.csv')"
   ]
  },
  {
   "cell_type": "markdown",
   "id": "6bf15740",
   "metadata": {},
   "source": [
    "### Grid Search"
   ]
  },
  {
   "cell_type": "code",
   "execution_count": 25,
   "id": "5c99829e",
   "metadata": {},
   "outputs": [],
   "source": [
    "parameters={\n",
    "    'max_depth':5,\n",
    "    'n_estimators': 1000,\n",
    "    'learning_rate':0.1,\n",
    "    'subsample':0.8,\n",
    "    'colsample_bytree':0.8,\n",
    "    'min_child_weight':1,\n",
    "    'gamma':0,\n",
    "    'reg_lambda':1,\n",
    "}"
   ]
  },
  {
   "cell_type": "code",
   "execution_count": 26,
   "id": "57f0df3d",
   "metadata": {},
   "outputs": [],
   "source": [
    "param_grid={\n",
    "    'n_estimators': [100, 200, 300, 400, 500, 600, 700, 800, 900, 1000],\n",
    "}"
   ]
  },
  {
   "cell_type": "code",
   "execution_count": 27,
   "id": "4367d15f",
   "metadata": {
    "scrolled": true
   },
   "outputs": [
    {
     "name": "stdout",
     "output_type": "stream",
     "text": [
      "Fitting 4 folds for each of 10 candidates, totalling 40 fits\n",
      "\n",
      "Best parameters :\n",
      "{'n_estimators': 400}\n",
      "\n",
      "power curve computation performed\n",
      "power curve computation performed\n",
      "Modelling errors for training set:\n",
      "Wind RMSE:  0.317 m/s as root mean\n",
      "Wind MAE:  0.242 m/s in avg\n",
      "Wind MAPE:  2.589 %\n",
      "Power RMSE:  128.749 kW as root mean\n",
      "Power MAE:  72.657 kW in avg\n",
      "Power MAPE:  732529930397887.8 %\n",
      "\n",
      "Modelling errors for test set:\n",
      "Wind RMSE:  0.776 m/s as root mean\n",
      "Wind MAE:  0.528 m/s in avg\n",
      "Wind MAPE:  10.119 %\n",
      "Power RMSE:  287.74 kW as root mean\n",
      "Power MAE:  152.144 kW in avg\n",
      "Power MAPE:  2.0467621195303985e+18 %\n",
      "\n",
      "\n",
      "Showing the results of the modelling: \n",
      "GridSearch_ XGBoost performed\n",
      "--- 3.470446352163951 minutes ---\n",
      "\n",
      "Lowest RMSE:  0.7298377308609298\n"
     ]
    },
    {
     "data": {
      "text/plain": [
       "GridSearchCV(cv=4,\n",
       "             estimator=XGBRegressor(base_score=None, booster='gbtree',\n",
       "                                    colsample_bylevel=None,\n",
       "                                    colsample_bynode=None, colsample_bytree=0.8,\n",
       "                                    gamma=0, gpu_id=None,\n",
       "                                    importance_type='gain',\n",
       "                                    interaction_constraints=None,\n",
       "                                    learning_rate=0.1, max_delta_step=None,\n",
       "                                    max_depth=5, min_child_weight=1,\n",
       "                                    missing=nan, monotone_constraints=None,\n",
       "                                    n_estimators=1000, n_jobs=None,\n",
       "                                    num_parallel_tree=None, random_state=42,\n",
       "                                    reg_alpha=None, reg_lambda=1,\n",
       "                                    scale_pos_weight=None, subsample=0.8,\n",
       "                                    tree_method=None, validate_parameters=None,\n",
       "                                    verbosity=None),\n",
       "             param_grid={'n_estimators': [100, 200, 300, 400, 500, 600, 700,\n",
       "                                          800, 900, 1000]},\n",
       "             scoring='neg_mean_squared_error', verbose=1)"
      ]
     },
     "execution_count": 27,
     "metadata": {},
     "output_type": "execute_result"
    }
   ],
   "source": [
    " GridSearch_XGBoost (X_train, X_test, y_train, y_test, PC, parameters, param_grid, plot_error=False)"
   ]
  },
  {
   "cell_type": "code",
   "execution_count": 28,
   "id": "487cf955",
   "metadata": {},
   "outputs": [],
   "source": [
    "parameters={\n",
    "    'max_depth':5,\n",
    "    'n_estimators': 400,\n",
    "    'learning_rate':0.1,\n",
    "    'subsample':0.8,\n",
    "    'colsample_bytree':0.8,\n",
    "    'min_child_weight':1,\n",
    "    'gamma':0,\n",
    "    'reg_lambda':1,\n",
    "}"
   ]
  },
  {
   "cell_type": "code",
   "execution_count": 29,
   "id": "295a595d",
   "metadata": {},
   "outputs": [],
   "source": [
    "param_grid={\n",
    "    'max_depth': [3, 4, 5, 6, 10, 15, 20],\n",
    "    'min_child_weight': [1, 2, 3, 6, 10]\n",
    "}"
   ]
  },
  {
   "cell_type": "code",
   "execution_count": 30,
   "id": "c56c8bb3",
   "metadata": {
    "scrolled": true
   },
   "outputs": [
    {
     "name": "stdout",
     "output_type": "stream",
     "text": [
      "Fitting 4 folds for each of 35 candidates, totalling 140 fits\n",
      "\n",
      "Best parameters :\n",
      "{'max_depth': 4, 'min_child_weight': 6}\n",
      "\n",
      "power curve computation performed\n",
      "power curve computation performed\n",
      "Modelling errors for training set:\n",
      "Wind RMSE:  0.438 m/s as root mean\n",
      "Wind MAE:  0.334 m/s in avg\n",
      "Wind MAPE:  3.741 %\n",
      "Power RMSE:  174.555 kW as root mean\n",
      "Power MAE:  98.948 kW in avg\n",
      "Power MAPE:  1772610022654530.8 %\n",
      "\n",
      "Modelling errors for test set:\n",
      "Wind RMSE:  0.772 m/s as root mean\n",
      "Wind MAE:  0.535 m/s in avg\n",
      "Wind MAPE:  9.829 %\n",
      "Power RMSE:  287.399 kW as root mean\n",
      "Power MAE:  155.219 kW in avg\n",
      "Power MAPE:  1.7732662376528412e+18 %\n",
      "\n",
      "\n",
      "Showing the results of the modelling: \n",
      "GridSearch_ XGBoost performed\n",
      "--- 14.422153608004253 minutes ---\n",
      "\n",
      "Lowest RMSE:  0.719365345257246\n"
     ]
    },
    {
     "data": {
      "text/plain": [
       "GridSearchCV(cv=4,\n",
       "             estimator=XGBRegressor(base_score=None, booster='gbtree',\n",
       "                                    colsample_bylevel=None,\n",
       "                                    colsample_bynode=None, colsample_bytree=0.8,\n",
       "                                    gamma=0, gpu_id=None,\n",
       "                                    importance_type='gain',\n",
       "                                    interaction_constraints=None,\n",
       "                                    learning_rate=0.1, max_delta_step=None,\n",
       "                                    max_depth=5, min_child_weight=1,\n",
       "                                    missing=nan, monotone_constraints=None,\n",
       "                                    n_estimators=400, n_jobs=None,\n",
       "                                    num_parallel_tree=None, random_state=42,\n",
       "                                    reg_alpha=None, reg_lambda=1,\n",
       "                                    scale_pos_weight=None, subsample=0.8,\n",
       "                                    tree_method=None, validate_parameters=None,\n",
       "                                    verbosity=None),\n",
       "             param_grid={'max_depth': [3, 4, 5, 6, 10, 15, 20],\n",
       "                         'min_child_weight': [1, 2, 3, 6, 10]},\n",
       "             scoring='neg_mean_squared_error', verbose=1)"
      ]
     },
     "execution_count": 30,
     "metadata": {},
     "output_type": "execute_result"
    }
   ],
   "source": [
    "GridSearch_XGBoost (X_train, X_test, y_train, y_test, PC, parameters, param_grid, plot_error=False)"
   ]
  },
  {
   "cell_type": "code",
   "execution_count": 31,
   "id": "3272dad8",
   "metadata": {},
   "outputs": [],
   "source": [
    "parameters={\n",
    "    'max_depth':4,\n",
    "    'n_estimators': 400,\n",
    "    'learning_rate':0.1,\n",
    "    'subsample':0.8,\n",
    "    'colsample_bytree':0.8,\n",
    "    'min_child_weight':6,\n",
    "    'gamma':0,\n",
    "    'reg_lambda':1,\n",
    "}"
   ]
  },
  {
   "cell_type": "code",
   "execution_count": 32,
   "id": "bd379105",
   "metadata": {},
   "outputs": [],
   "source": [
    "param_grid={\n",
    "    'gamma': [0, 0.1, 0.2, 0.3, 0.4, 0.5]\n",
    "}"
   ]
  },
  {
   "cell_type": "code",
   "execution_count": 33,
   "id": "4342686b",
   "metadata": {
    "scrolled": true
   },
   "outputs": [
    {
     "name": "stdout",
     "output_type": "stream",
     "text": [
      "Fitting 4 folds for each of 6 candidates, totalling 24 fits\n",
      "\n",
      "Best parameters :\n",
      "{'gamma': 0}\n",
      "\n",
      "power curve computation performed\n",
      "power curve computation performed\n",
      "Modelling errors for training set:\n",
      "Wind RMSE:  0.438 m/s as root mean\n",
      "Wind MAE:  0.334 m/s in avg\n",
      "Wind MAPE:  3.741 %\n",
      "Power RMSE:  174.555 kW as root mean\n",
      "Power MAE:  98.948 kW in avg\n",
      "Power MAPE:  1772610022654530.8 %\n",
      "\n",
      "Modelling errors for test set:\n",
      "Wind RMSE:  0.772 m/s as root mean\n",
      "Wind MAE:  0.535 m/s in avg\n",
      "Wind MAPE:  9.829 %\n",
      "Power RMSE:  287.399 kW as root mean\n",
      "Power MAE:  155.219 kW in avg\n",
      "Power MAPE:  1.7732662376528412e+18 %\n",
      "\n",
      "\n",
      "Showing the results of the modelling: \n",
      "GridSearch_ XGBoost performed\n",
      "--- 1.1639374136924743 minutes ---\n",
      "\n",
      "Lowest RMSE:  0.719365345257246\n"
     ]
    },
    {
     "data": {
      "text/plain": [
       "GridSearchCV(cv=4,\n",
       "             estimator=XGBRegressor(base_score=None, booster='gbtree',\n",
       "                                    colsample_bylevel=None,\n",
       "                                    colsample_bynode=None, colsample_bytree=0.8,\n",
       "                                    gamma=0, gpu_id=None,\n",
       "                                    importance_type='gain',\n",
       "                                    interaction_constraints=None,\n",
       "                                    learning_rate=0.1, max_delta_step=None,\n",
       "                                    max_depth=4, min_child_weight=6,\n",
       "                                    missing=nan, monotone_constraints=None,\n",
       "                                    n_estimators=400, n_jobs=None,\n",
       "                                    num_parallel_tree=None, random_state=42,\n",
       "                                    reg_alpha=None, reg_lambda=1,\n",
       "                                    scale_pos_weight=None, subsample=0.8,\n",
       "                                    tree_method=None, validate_parameters=None,\n",
       "                                    verbosity=None),\n",
       "             param_grid={'gamma': [0, 0.1, 0.2, 0.3, 0.4, 0.5]},\n",
       "             scoring='neg_mean_squared_error', verbose=1)"
      ]
     },
     "execution_count": 33,
     "metadata": {},
     "output_type": "execute_result"
    }
   ],
   "source": [
    "GridSearch_XGBoost (X_train, X_test, y_train, y_test, PC, parameters, param_grid, plot_error=False)"
   ]
  },
  {
   "cell_type": "code",
   "execution_count": 34,
   "id": "3e03e62c",
   "metadata": {},
   "outputs": [],
   "source": [
    "parameters={\n",
    "    'max_depth':4,\n",
    "    'n_estimators': 400,\n",
    "    'learning_rate':0.1,\n",
    "    'subsample':0.8,\n",
    "    'colsample_bytree':0.8,\n",
    "    'min_child_weight':6,\n",
    "    'gamma':0,\n",
    "    'reg_lambda':1,\n",
    "}"
   ]
  },
  {
   "cell_type": "code",
   "execution_count": 35,
   "id": "4b133bf2",
   "metadata": {},
   "outputs": [],
   "source": [
    "param_grid={\n",
    "    'subsample': [0.4, 0.5, 0.6, 0.7, 0.8, 0.9, 1],\n",
    "    'colsample_bytree': [0.4, 0.5, 0.6, 0.7, 0.8, 0.9, 1]\n",
    "}"
   ]
  },
  {
   "cell_type": "code",
   "execution_count": 36,
   "id": "8a7f8c68",
   "metadata": {
    "scrolled": true
   },
   "outputs": [
    {
     "name": "stdout",
     "output_type": "stream",
     "text": [
      "Fitting 4 folds for each of 49 candidates, totalling 196 fits\n",
      "\n",
      "Best parameters :\n",
      "{'colsample_bytree': 0.8, 'subsample': 0.8}\n",
      "\n",
      "power curve computation performed\n",
      "power curve computation performed\n",
      "Modelling errors for training set:\n",
      "Wind RMSE:  0.438 m/s as root mean\n",
      "Wind MAE:  0.334 m/s in avg\n",
      "Wind MAPE:  3.741 %\n",
      "Power RMSE:  174.555 kW as root mean\n",
      "Power MAE:  98.948 kW in avg\n",
      "Power MAPE:  1772610022654530.8 %\n",
      "\n",
      "Modelling errors for test set:\n",
      "Wind RMSE:  0.772 m/s as root mean\n",
      "Wind MAE:  0.535 m/s in avg\n",
      "Wind MAPE:  9.829 %\n",
      "Power RMSE:  287.399 kW as root mean\n",
      "Power MAE:  155.219 kW in avg\n",
      "Power MAPE:  1.7732662376528412e+18 %\n",
      "\n",
      "\n",
      "Showing the results of the modelling: \n",
      "GridSearch_ XGBoost performed\n",
      "--- 7.994244949022929 minutes ---\n",
      "\n",
      "Lowest RMSE:  0.719365345257246\n"
     ]
    },
    {
     "data": {
      "text/plain": [
       "GridSearchCV(cv=4,\n",
       "             estimator=XGBRegressor(base_score=None, booster='gbtree',\n",
       "                                    colsample_bylevel=None,\n",
       "                                    colsample_bynode=None, colsample_bytree=0.8,\n",
       "                                    gamma=0, gpu_id=None,\n",
       "                                    importance_type='gain',\n",
       "                                    interaction_constraints=None,\n",
       "                                    learning_rate=0.1, max_delta_step=None,\n",
       "                                    max_depth=4, min_child_weight=6,\n",
       "                                    missing=nan, monotone_constraints=None,\n",
       "                                    n_estimators=400, n_jobs=None,\n",
       "                                    num_parallel_tree=None, random_state=42,\n",
       "                                    reg_alpha=None, reg_lambda=1,\n",
       "                                    scale_pos_weight=None, subsample=0.8,\n",
       "                                    tree_method=None, validate_parameters=None,\n",
       "                                    verbosity=None),\n",
       "             param_grid={'colsample_bytree': [0.4, 0.5, 0.6, 0.7, 0.8, 0.9, 1],\n",
       "                         'subsample': [0.4, 0.5, 0.6, 0.7, 0.8, 0.9, 1]},\n",
       "             scoring='neg_mean_squared_error', verbose=1)"
      ]
     },
     "execution_count": 36,
     "metadata": {},
     "output_type": "execute_result"
    }
   ],
   "source": [
    "GridSearch_XGBoost (X_train, X_test, y_train, y_test, PC, parameters, param_grid, plot_error=False)"
   ]
  },
  {
   "cell_type": "code",
   "execution_count": 37,
   "id": "addfa888",
   "metadata": {},
   "outputs": [],
   "source": [
    "parameters={\n",
    "    'max_depth':4,\n",
    "    'n_estimators': 400,\n",
    "    'learning_rate':0.1,\n",
    "    'subsample':0.8,\n",
    "    'colsample_bytree':0.8,\n",
    "    'min_child_weight':6,\n",
    "    'gamma':0,\n",
    "    'reg_lambda':1,\n",
    "}"
   ]
  },
  {
   "cell_type": "code",
   "execution_count": 38,
   "id": "8dcfbbc0",
   "metadata": {},
   "outputs": [],
   "source": [
    "param_grid={\n",
    "    'reg_lambda': [1, 10, 50, 100, 150]\n",
    "}"
   ]
  },
  {
   "cell_type": "code",
   "execution_count": 39,
   "id": "ebd5a2a5",
   "metadata": {
    "scrolled": true
   },
   "outputs": [
    {
     "name": "stdout",
     "output_type": "stream",
     "text": [
      "Fitting 4 folds for each of 5 candidates, totalling 20 fits\n",
      "\n",
      "Best parameters :\n",
      "{'reg_lambda': 1}\n",
      "\n",
      "power curve computation performed\n",
      "power curve computation performed\n",
      "Modelling errors for training set:\n",
      "Wind RMSE:  0.438 m/s as root mean\n",
      "Wind MAE:  0.334 m/s in avg\n",
      "Wind MAPE:  3.741 %\n",
      "Power RMSE:  174.555 kW as root mean\n",
      "Power MAE:  98.948 kW in avg\n",
      "Power MAPE:  1772610022654530.8 %\n",
      "\n",
      "Modelling errors for test set:\n",
      "Wind RMSE:  0.772 m/s as root mean\n",
      "Wind MAE:  0.535 m/s in avg\n",
      "Wind MAPE:  9.829 %\n",
      "Power RMSE:  287.399 kW as root mean\n",
      "Power MAE:  155.219 kW in avg\n",
      "Power MAPE:  1.7732662376528412e+18 %\n",
      "\n",
      "\n",
      "Showing the results of the modelling: \n",
      "GridSearch_ XGBoost performed\n",
      "--- 0.9938191890716552 minutes ---\n",
      "\n",
      "Lowest RMSE:  0.719365345257246\n"
     ]
    },
    {
     "data": {
      "text/plain": [
       "GridSearchCV(cv=4,\n",
       "             estimator=XGBRegressor(base_score=None, booster='gbtree',\n",
       "                                    colsample_bylevel=None,\n",
       "                                    colsample_bynode=None, colsample_bytree=0.8,\n",
       "                                    gamma=0, gpu_id=None,\n",
       "                                    importance_type='gain',\n",
       "                                    interaction_constraints=None,\n",
       "                                    learning_rate=0.1, max_delta_step=None,\n",
       "                                    max_depth=4, min_child_weight=6,\n",
       "                                    missing=nan, monotone_constraints=None,\n",
       "                                    n_estimators=400, n_jobs=None,\n",
       "                                    num_parallel_tree=None, random_state=42,\n",
       "                                    reg_alpha=None, reg_lambda=1,\n",
       "                                    scale_pos_weight=None, subsample=0.8,\n",
       "                                    tree_method=None, validate_parameters=None,\n",
       "                                    verbosity=None),\n",
       "             param_grid={'reg_lambda': [1, 10, 50, 100, 150]},\n",
       "             scoring='neg_mean_squared_error', verbose=1)"
      ]
     },
     "execution_count": 39,
     "metadata": {},
     "output_type": "execute_result"
    }
   ],
   "source": [
    "GridSearch_XGBoost (X_train, X_test, y_train, y_test, PC, parameters, param_grid, plot_error=False)"
   ]
  },
  {
   "cell_type": "code",
   "execution_count": 40,
   "id": "bca44e56",
   "metadata": {},
   "outputs": [],
   "source": [
    "parameters={\n",
    "    'max_depth':4,\n",
    "    'n_estimators': 400,\n",
    "    'learning_rate':0.1,\n",
    "    'subsample':0.8,\n",
    "    'colsample_bytree':0.8,\n",
    "    'min_child_weight':6,\n",
    "    'gamma':0,\n",
    "    'reg_lambda':1,\n",
    "}"
   ]
  },
  {
   "cell_type": "code",
   "execution_count": 41,
   "id": "a5415577",
   "metadata": {},
   "outputs": [],
   "source": [
    "param_grid={\n",
    "    'learning_rate': [0.001, 0.01, 0.1, 0.5],\n",
    "    'n_estimators': [800, 900, 1000, 1200, 1500, 1800, 2000]\n",
    "}"
   ]
  },
  {
   "cell_type": "code",
   "execution_count": 42,
   "id": "d5651ea2",
   "metadata": {
    "scrolled": true
   },
   "outputs": [
    {
     "name": "stdout",
     "output_type": "stream",
     "text": [
      "Fitting 4 folds for each of 28 candidates, totalling 112 fits\n",
      "\n",
      "Best parameters :\n",
      "{'learning_rate': 0.1, 'n_estimators': 800}\n",
      "\n",
      "power curve computation performed\n",
      "power curve computation performed\n",
      "Modelling errors for training set:\n",
      "Wind RMSE:  0.318 m/s as root mean\n",
      "Wind MAE:  0.243 m/s in avg\n",
      "Wind MAPE:  2.644 %\n",
      "Power RMSE:  129.691 kW as root mean\n",
      "Power MAE:  72.679 kW in avg\n",
      "Power MAPE:  624015738884611.0 %\n",
      "\n",
      "Modelling errors for test set:\n",
      "Wind RMSE:  0.771 m/s as root mean\n",
      "Wind MAE:  0.537 m/s in avg\n",
      "Wind MAPE:  9.778 %\n",
      "Power RMSE:  287.077 kW as root mean\n",
      "Power MAE:  154.934 kW in avg\n",
      "Power MAPE:  1.7488463180140452e+18 %\n",
      "\n",
      "\n",
      "Showing the results of the modelling: \n",
      "GridSearch_ XGBoost performed\n",
      "--- 17.68613919814428 minutes ---\n",
      "\n",
      "Lowest RMSE:  0.7215173312433454\n"
     ]
    },
    {
     "data": {
      "text/plain": [
       "GridSearchCV(cv=4,\n",
       "             estimator=XGBRegressor(base_score=None, booster='gbtree',\n",
       "                                    colsample_bylevel=None,\n",
       "                                    colsample_bynode=None, colsample_bytree=0.8,\n",
       "                                    gamma=0, gpu_id=None,\n",
       "                                    importance_type='gain',\n",
       "                                    interaction_constraints=None,\n",
       "                                    learning_rate=0.1, max_delta_step=None,\n",
       "                                    max_depth=4, min_child_weight=6,\n",
       "                                    missing=nan, monotone_constraints=None,\n",
       "                                    n_estimators=400, n_jobs=None,\n",
       "                                    num_parallel_tree=None, random_state=42,\n",
       "                                    reg_alpha=None, reg_lambda=1,\n",
       "                                    scale_pos_weight=None, subsample=0.8,\n",
       "                                    tree_method=None, validate_parameters=None,\n",
       "                                    verbosity=None),\n",
       "             param_grid={'learning_rate': [0.001, 0.01, 0.1, 0.5],\n",
       "                         'n_estimators': [800, 900, 1000, 1200, 1500, 1800,\n",
       "                                          2000]},\n",
       "             scoring='neg_mean_squared_error', verbose=1)"
      ]
     },
     "execution_count": 42,
     "metadata": {},
     "output_type": "execute_result"
    }
   ],
   "source": [
    "GridSearch_XGBoost (X_train, X_test, y_train, y_test, PC, parameters, param_grid, plot_error=False)"
   ]
  },
  {
   "cell_type": "markdown",
   "id": "43caa33f",
   "metadata": {},
   "source": [
    "### Manual modelling"
   ]
  },
  {
   "cell_type": "code",
   "execution_count": 25,
   "id": "75ff5ae4",
   "metadata": {},
   "outputs": [],
   "source": [
    "parameters={\n",
    "    'max_depth':4,\n",
    "    'n_estimators': 800,\n",
    "    'learning_rate':0.1,\n",
    "    'subsample':0.8,\n",
    "    'colsample_bytree':0.8,\n",
    "    'min_child_weight':6,\n",
    "    'gamma':0,\n",
    "    'reg_lambda':1\n",
    "}"
   ]
  },
  {
   "cell_type": "code",
   "execution_count": 26,
   "id": "1503962d",
   "metadata": {},
   "outputs": [
    {
     "name": "stdout",
     "output_type": "stream",
     "text": [
      "power curve computation performed\n",
      "power curve computation performed\n",
      "Modelling errors for training set:\n",
      "Wind RMSE:  0.318 m/s as root mean\n",
      "Wind MAE:  0.243 m/s in avg\n",
      "Wind MAPE:  2.644 %\n",
      "Power RMSE:  129.691 kW as root mean\n",
      "Power MAE:  72.679 kW in avg\n",
      "Power MAPE:  624015738884611.0 %\n",
      "\n",
      "Modelling errors for test set:\n",
      "Wind RMSE:  0.771 m/s as root mean\n",
      "Wind MAE:  0.537 m/s in avg\n",
      "Wind MAPE:  9.778 %\n",
      "Power RMSE:  287.077 kW as root mean\n",
      "Power MAE:  154.934 kW in avg\n",
      "Power MAPE:  1.7488463180140452e+18 %\n",
      "\n",
      "\n",
      "Showing the results of the modelling: \n",
      "XGBoost modelling performed\n"
     ]
    }
   ],
   "source": [
    "model = modelling_XGBoost (X_train, X_test, y_train, y_test, PC, parameters, plot_error=False, plot=True)"
   ]
  },
  {
   "cell_type": "markdown",
   "id": "66de3970",
   "metadata": {},
   "source": [
    "### Model testing"
   ]
  },
  {
   "cell_type": "code",
   "execution_count": 27,
   "id": "45774cf8",
   "metadata": {},
   "outputs": [
    {
     "name": "stdout",
     "output_type": "stream",
     "text": [
      "power curve computation performed\n",
      "power curve computation performed\n",
      "Modelling errors for training set:\n",
      "Wind RMSE:  0.318 m/s as root mean\n",
      "Wind MAE:  0.243 m/s in avg\n",
      "Wind MAPE:  2.644 %\n",
      "Power RMSE:  129.691 kW as root mean\n",
      "Power MAE:  72.679 kW in avg\n",
      "Power MAPE:  624015738884611.0 %\n",
      "\n",
      "Modelling errors for test set:\n",
      "Wind RMSE:  0.771 m/s as root mean\n",
      "Wind MAE:  0.537 m/s in avg\n",
      "Wind MAPE:  9.778 %\n",
      "Power RMSE:  287.077 kW as root mean\n",
      "Power MAE:  154.934 kW in avg\n",
      "Power MAPE:  1.7488463180140452e+18 %\n",
      "\n",
      "\n",
      "Showing the results of the modelling: \n",
      "XGBoost results performed\n"
     ]
    }
   ],
   "source": [
    "WS_pred=model_testing (X_train, X_test, y_train, y_test, PC, model, plot_error=False)"
   ]
  },
  {
   "cell_type": "code",
   "execution_count": 28,
   "id": "a2aa34eb",
   "metadata": {},
   "outputs": [
    {
     "name": "stdout",
     "output_type": "stream",
     "text": [
      "file XGB_T11.csv saved in \\Results_ folder\n"
     ]
    }
   ],
   "source": [
    "WS_pred=pd.DataFrame(WS_pred)\n",
    "save(WS_pred,'\\Results_','XGB_T11.csv')"
   ]
  },
  {
   "cell_type": "markdown",
   "id": "84eca720",
   "metadata": {},
   "source": [
    "### Feature importance"
   ]
  },
  {
   "cell_type": "code",
   "execution_count": 45,
   "id": "557fbf57",
   "metadata": {},
   "outputs": [
    {
     "data": {
      "image/png": "[encoded data removed]",
      "text/plain": [
       "<Figure size 576x655.2 with 1 Axes>"
      ]
     },
     "metadata": {},
     "output_type": "display_data"
    },
    {
     "data": {
      "image/png": "[encoded data removed]",
      "text/plain": [
       "<Figure size 576x396 with 2 Axes>"
      ]
     },
     "metadata": {},
     "output_type": "display_data"
    },
    {
     "name": "stdout",
     "output_type": "stream",
     "text": [
      "Feature importance through SHAP values performed\n"
     ]
    }
   ],
   "source": [
    "shap_values=feature_importance (X_train, X_test, model)"
   ]
  },
  {
   "cell_type": "code",
   "execution_count": 47,
   "id": "68d4b6be",
   "metadata": {
    "scrolled": true
   },
   "outputs": [
    {
     "data": {
      "text/html": [
       "<div>\n",
       "<style scoped>\n",
       "    .dataframe tbody tr th:only-of-type {\n",
       "        vertical-align: middle;\n",
       "    }\n",
       "\n",
       "    .dataframe tbody tr th {\n",
       "        vertical-align: top;\n",
       "    }\n",
       "\n",
       "    .dataframe thead th {\n",
       "        text-align: right;\n",
       "    }\n",
       "</style>\n",
       "<table border=\"1\" class=\"dataframe\">\n",
       "  <thead>\n",
       "    <tr style=\"text-align: right;\">\n",
       "      <th></th>\n",
       "      <th>variables</th>\n",
       "      <th>SHAP_abs</th>\n",
       "    </tr>\n",
       "  </thead>\n",
       "  <tbody>\n",
       "    <tr>\n",
       "      <th>0</th>\n",
       "      <td>WS1</td>\n",
       "      <td>2.086963</td>\n",
       "    </tr>\n",
       "    <tr>\n",
       "      <th>1</th>\n",
       "      <td>WS3</td>\n",
       "      <td>0.052639</td>\n",
       "    </tr>\n",
       "    <tr>\n",
       "      <th>2</th>\n",
       "      <td>WS4</td>\n",
       "      <td>0.088967</td>\n",
       "    </tr>\n",
       "    <tr>\n",
       "      <th>3</th>\n",
       "      <td>WD1</td>\n",
       "      <td>0.138245</td>\n",
       "    </tr>\n",
       "    <tr>\n",
       "      <th>4</th>\n",
       "      <td>WD4</td>\n",
       "      <td>0.139437</td>\n",
       "    </tr>\n",
       "    <tr>\n",
       "      <th>5</th>\n",
       "      <td>WSHor</td>\n",
       "      <td>0.112252</td>\n",
       "    </tr>\n",
       "    <tr>\n",
       "      <th>6</th>\n",
       "      <td>WSVer</td>\n",
       "      <td>0.151783</td>\n",
       "    </tr>\n",
       "    <tr>\n",
       "      <th>7</th>\n",
       "      <td>WDHor</td>\n",
       "      <td>0.073669</td>\n",
       "    </tr>\n",
       "    <tr>\n",
       "      <th>8</th>\n",
       "      <td>T1</td>\n",
       "      <td>0.072853</td>\n",
       "    </tr>\n",
       "    <tr>\n",
       "      <th>9</th>\n",
       "      <td>RH1</td>\n",
       "      <td>0.173812</td>\n",
       "    </tr>\n",
       "    <tr>\n",
       "      <th>10</th>\n",
       "      <td>PR1</td>\n",
       "      <td>0.059317</td>\n",
       "    </tr>\n",
       "    <tr>\n",
       "      <th>11</th>\n",
       "      <td>Rain</td>\n",
       "      <td>0.000000</td>\n",
       "    </tr>\n",
       "    <tr>\n",
       "      <th>12</th>\n",
       "      <td>WSH</td>\n",
       "      <td>0.049736</td>\n",
       "    </tr>\n",
       "    <tr>\n",
       "      <th>13</th>\n",
       "      <td>WVeer</td>\n",
       "      <td>0.139862</td>\n",
       "    </tr>\n",
       "    <tr>\n",
       "      <th>14</th>\n",
       "      <td>TI</td>\n",
       "      <td>0.236544</td>\n",
       "    </tr>\n",
       "    <tr>\n",
       "      <th>15</th>\n",
       "      <td>WDVer</td>\n",
       "      <td>0.048138</td>\n",
       "    </tr>\n",
       "    <tr>\n",
       "      <th>16</th>\n",
       "      <td>WD_bin</td>\n",
       "      <td>0.020284</td>\n",
       "    </tr>\n",
       "    <tr>\n",
       "      <th>17</th>\n",
       "      <td>AD1</td>\n",
       "      <td>0.063582</td>\n",
       "    </tr>\n",
       "    <tr>\n",
       "      <th>18</th>\n",
       "      <td>tod</td>\n",
       "      <td>0.156207</td>\n",
       "    </tr>\n",
       "  </tbody>\n",
       "</table>\n",
       "</div>"
      ],
      "text/plain": [
       "   variables  SHAP_abs\n",
       "0        WS1  2.086963\n",
       "1        WS3  0.052639\n",
       "2        WS4  0.088967\n",
       "3        WD1  0.138245\n",
       "4        WD4  0.139437\n",
       "5      WSHor  0.112252\n",
       "6      WSVer  0.151783\n",
       "7      WDHor  0.073669\n",
       "8         T1  0.072853\n",
       "9        RH1  0.173812\n",
       "10       PR1  0.059317\n",
       "11      Rain  0.000000\n",
       "12       WSH  0.049736\n",
       "13     WVeer  0.139862\n",
       "14        TI  0.236544\n",
       "15     WDVer  0.048138\n",
       "16    WD_bin  0.020284\n",
       "17       AD1  0.063582\n",
       "18       tod  0.156207"
      ]
     },
     "execution_count": 47,
     "metadata": {},
     "output_type": "execute_result"
    }
   ],
   "source": [
    "shap_values"
   ]
  }
 ],
 "metadata": {
  "kernelspec": {
   "display_name": "Python 3",
   "language": "python",
   "name": "python3"
  },
  "language_info": {
   "codemirror_mode": {
    "name": "ipython",
    "version": 3
   },
   "file_extension": ".py",
   "mimetype": "text/x-python",
   "name": "python",
   "nbconvert_exporter": "python",
   "pygments_lexer": "ipython3",
   "version": "3.8.10"
  },
  "notify_time": "30",
  "toc": {
   "base_numbering": 1,
   "nav_menu": {},
   "number_sections": true,
   "sideBar": true,
   "skip_h1_title": false,
   "title_cell": "Table of Contents",
   "title_sidebar": "Contents",
   "toc_cell": false,
   "toc_position": {
    "height": "calc(100% - 180px)",
    "left": "10px",
    "top": "150px",
    "width": "271.181px"
   },
   "toc_section_display": true,
   "toc_window_display": true
  },
  "varInspector": {
   "cols": {
    "lenName": 16,
    "lenType": 16,
    "lenVar": 40
   },
   "kernels_config": {
    "python": {
     "delete_cmd_postfix": "",
     "delete_cmd_prefix": "del ",
     "library": "var_list.py",
     "varRefreshCmd": "print(var_dic_list())"
    },
    "r": {
     "delete_cmd_postfix": ") ",
     "delete_cmd_prefix": "rm(",
     "library": "var_list.r",
     "varRefreshCmd": "cat(var_dic_list()) "
    }
   },
   "position": {
    "height": "255px",
    "left": "1213.99px",
    "right": "20px",
    "top": "-3.98611px",
    "width": "350px"
   },
   "types_to_exclude": [
    "module",
    "function",
    "builtin_function_or_method",
    "instance",
    "_Feature"
   ],
   "window_display": true
  }
 },
 "nbformat": 4,
 "nbformat_minor": 5
}
