{
 "cells": [
  {
   "cell_type": "markdown",
   "id": "39ad1a2a",
   "metadata": {},
   "source": [
    "# Packages"
   ]
  },
  {
   "cell_type": "code",
   "execution_count": 1,
   "id": "3ff62b0e",
   "metadata": {},
   "outputs": [],
   "source": [
    "#basic packages\n",
    "import time\n",
    "import numpy as np\n",
    "import pandas as pd\n",
    "import seaborn as sns\n",
    "import matplotlib.pyplot as plt\n",
    "import os\n",
    "\n",
    "#data pre-processing packages\n",
    "from datetime import datetime\n",
    "\n",
    "\n",
    "#results and analysis packages\n",
    "from sklearn.metrics import mean_absolute_percentage_error as mape\n",
    "from sklearn.metrics import mean_absolute_error as mae\n",
    "from sklearn.metrics import mean_squared_error, r2_score"
   ]
  },
  {
   "cell_type": "code",
   "execution_count": 2,
   "id": "f78cf529",
   "metadata": {},
   "outputs": [],
   "source": [
    "# data modelling & results\n",
    "from yellowbrick.regressor import PredictionError, ResidualsPlot\n",
    "from sklearn.model_selection import train_test_split\n",
    "import math as math\n",
    "\n",
    "#NN\n",
    "import xgboost as xgb\n",
    "\n",
    "from tensorflow import keras\n",
    "from keras.utils.vis_utils import plot_model\n",
    "from scipy.stats import reciprocal\n",
    "from sklearn.model_selection import RandomizedSearchCV, GridSearchCV\n",
    "\n",
    "#feature importance\n",
    "import shap\n"
   ]
  },
  {
   "cell_type": "markdown",
   "id": "5304bd4d",
   "metadata": {},
   "source": [
    "# Script"
   ]
  },
  {
   "cell_type": "markdown",
   "id": "93dd727e",
   "metadata": {},
   "source": [
    "## Error computation"
   ]
  },
  {
   "cell_type": "code",
   "execution_count": 3,
   "id": "7a4247b4",
   "metadata": {},
   "outputs": [],
   "source": [
    "#defining the Root Mean Squared Error\n",
    "\n",
    "def rmse(y_true, y_predicted):\n",
    "    \n",
    "    return np.sqrt(mean_squared_error(y_true, y_predicted))"
   ]
  },
  {
   "cell_type": "code",
   "execution_count": 4,
   "id": "910f4f61",
   "metadata": {},
   "outputs": [],
   "source": [
    "#errors computation\n",
    "\n",
    "def errors_computation(data):\n",
    "    \n",
    "    df=pd.DataFrame()\n",
    "    #df.at['RMSE (as root mean)', 'Wind']= round(rmse(data['Target'], data['WS_pred']), 3)\n",
    "    df.at['MAE (in avg)', 'Wind']= round(mae(data['Target'], data['WS_pred']), 3)\n",
    "    df.at['MAPE (%)', 'Wind']= round(mape(data['Target'], data['WS_pred'])*100, 3)\n",
    "    \n",
    "    #df.at['RMSE (as root mean)', 'Power']= round(rmse(data['P'], data['P_pred']), 3)\n",
    "    df.at['MAE (in avg)', 'Power']= round(mae(data['P'], data['P_pred']), 3)\n",
    "    df.at['MAPE (%)', 'Power']= round(mape(data['P'], data['P_pred'])*100, 3)\n",
    "    \n",
    "    \n",
    "    print('Wind RMSE: ', round(rmse(data['Target'], data['WS_pred']), 3), 'm/s as root mean')\n",
    "    print('Wind MAE: ', round(mae(data['Target'], data['WS_pred']), 3), 'm/s in avg')\n",
    "    print('Wind MAPE: ', round(mape(data['Target'], data['WS_pred'])*100, 3), '%')\n",
    "    \n",
    "    print('Power RMSE: ', round(rmse(data['P'], data['P_pred']), 3), 'kW as root mean')\n",
    "    print('Power MAE: ', round(mae(data['P'], data['P_pred']), 3), 'kW in avg')\n",
    "    print('Power MAPE: ', round(mape(data['P'], data['P_pred'])*100, 3), '%')\n",
    "    \n",
    "    return df"
   ]
  },
  {
   "cell_type": "code",
   "execution_count": 5,
   "id": "7f9f017b",
   "metadata": {},
   "outputs": [],
   "source": [
    "def error_plot(data, title):\n",
    "    \n",
    "    #title is expected to be an str\n",
    "    #WS_pred and Target should be the variables names\n",
    "\n",
    "    #plotting the reference\n",
    "    plt.figure(figsize=(12,8))\n",
    "    plt.plot([-1,17.5],[-1,17.5], 'green', linewidth=4, alpha=.12)\n",
    "    plt.plot(data['WS_pred'], data['Target'], marker='o', ls='', label='Regression', markersize=5, alpha=.1)\n",
    "\n",
    "\n",
    "    plt.legend()\n",
    "\n",
    "    ax=plt.gca()\n",
    "    ax.set(xlabel='y predicted', ylabel='y actual');\n",
    "    ax.set_title(title)\n",
    "    ax.set_ylim(ymin=4, ymax=17.5)\n",
    "    ax.set_xlim(xmin=4, xmax=17.5)\n",
    "    \n",
    "    return print('')"
   ]
  },
  {
   "cell_type": "code",
   "execution_count": 6,
   "id": "58bd13df",
   "metadata": {},
   "outputs": [],
   "source": [
    "def powercurve_computation(data, power_curve):\n",
    "    \n",
    "    from scipy import interpolate\n",
    "    \n",
    "    #this function computes the power at a observation given the information at a observation:\n",
    "    # the WS (in m/s) at the wind turbine location and at the hub height (Target)\n",
    "    # the power curve of the wind turbine in an xslx\n",
    "    \n",
    "    \n",
    "    x=power_curve['Wind Speed [m/s]']\n",
    "    y=power_curve['Warranted Power Curve [kW]']\n",
    "    x_new=data['Target']\n",
    "    \n",
    "    f = interpolate.interp1d(x, y)\n",
    "    #, kind='linear'\n",
    "    data['P']=f(x_new)\n",
    "    \n",
    "    if 'WS_pred' in data.keys():\n",
    "        x_new2=data['WS_pred']\n",
    "        data['P_pred']=f(x_new2)\n",
    "    \n",
    "    print('power curve computation performed')\n",
    "    \n",
    "    return data"
   ]
  },
  {
   "cell_type": "code",
   "execution_count": 7,
   "id": "84c09062",
   "metadata": {},
   "outputs": [],
   "source": [
    "def control_power_computation (data_test, data_train, power_curve):\n",
    "    \n",
    "    results_test=pd.DataFrame()\n",
    "    results_train=pd.DataFrame()\n",
    "    \n",
    "    \n",
    "    results_test=powercurve_computation(data_test, power_curve)\n",
    "    results_train=powercurve_computation(data_train, power_curve)\n",
    "\n",
    "    return results_test, results_train"
   ]
  },
  {
   "cell_type": "code",
   "execution_count": 8,
   "id": "b3896d50",
   "metadata": {},
   "outputs": [],
   "source": [
    "def compute_results(data_test, data_train, power_curve, plot_error):\n",
    "    \n",
    "    #this function computes and plots the results of a modelling:\n",
    "\n",
    "    results_test, results_train=control_power_computation (data_test, data_train, power_curve)\n",
    "    \n",
    "    \n",
    "    print('Modelling errors for training set:')\n",
    "    errors_computation(results_train)\n",
    "    print('')\n",
    "    print('Modelling errors for test set:')\n",
    "    errors_computation(results_test)\n",
    "    print('')\n",
    "    \n",
    "    if plot_error:\n",
    "        print('')\n",
    "        error_plot(results_test, 'Error plot for test set wind speed')\n",
    "\n",
    "    print('')\n",
    "    return print('Showing the results of the modelling: ')"
   ]
  },
  {
   "cell_type": "code",
   "execution_count": 9,
   "id": "425f25d5",
   "metadata": {},
   "outputs": [],
   "source": [
    "def compute_results1(data_test, data_train, power_curve, plot_error):\n",
    "    \n",
    "    #this function computes and plots the results of a modelling:\n",
    "\n",
    "    results_test, results_train=control_power_computation (data_test, data_train, power_curve)\n",
    "    \n",
    "    \n",
    "    print('Modelling errors for training set:')\n",
    "    errors_computation(results_train)\n",
    "    print('')\n",
    "    print('Modelling errors for test set:')\n",
    "    errors_computation(results_test)\n",
    "    print('')\n",
    "    print('Modelling errors in AEP terms for test set')\n",
    "    data=AEP_computation(results_test, power_curve)\n",
    "    \n",
    "    if plot_error:\n",
    "        print('')\n",
    "        error_plot(results_test, 'Error plot for test set wind speed')\n",
    "\n",
    "    print('')\n",
    "    print('Showing the results of the modelling: ')\n",
    "    return data"
   ]
  },
  {
   "cell_type": "code",
   "execution_count": 10,
   "id": "1e402b2b",
   "metadata": {},
   "outputs": [],
   "source": [
    "def AEP_computation(data, power_curve):\n",
    "    \n",
    "    #binning the WS_Pred\n",
    "    data['WS_pred_bin']=pd.cut(data['WS_pred'],\n",
    "                                       bins=list(np.arange(-0.25,28.0,0.5)),\n",
    "                                                 labels=list(np.arange(0.0,28.0,0.5)))\n",
    "\n",
    "        \n",
    "    #creating the AEP (Annual Energy Production table)\n",
    "        \n",
    "    AEP_table=pd.DataFrame()\n",
    "    \n",
    "    AEP_table['WS']=PC['Wind Speed [m/s]']\n",
    "    AEP_table['WPC']=PC['Warranted Power Curve [kW]']\n",
    "    AEP_table.set_index('WS', inplace=True)\n",
    "    AEP_table['MPC_SC']=data.groupby('WS_pred_bin', as_index=True)['P'].mean()\n",
    "\n",
    "    #puedo rellenar los NaN de MPC_SC copiando lo que tendría que ser: WPC\n",
    "    \n",
    "#     for i in AEP_table.index:\n",
    "#         if math.isnan(AEP_table.at[i, 'MPC_SC']):\n",
    "#             AEP_table.at[i, 'MPC_SC']=AEP_table.at[i, 'WPC']\n",
    "    \n",
    "    AEP_table['WSAD']=power_curve['Wind Speed Distribution [Hr/Year]']\n",
    "    \n",
    "    #o igual aquí tendría que cortar la tabla para NaN values\n",
    "    \n",
    "#     AEP_table=AEP_table.dropna()\n",
    "    \n",
    "    AEP_table['WAEP']=AEP_table['WPC']*AEP_table['WSAD']\n",
    "    AEP_table['MAEP_SC']=AEP_table['MPC_SC']*AEP_table['WSAD']\n",
    "    \n",
    "    #computing the metrics for later printing\n",
    "    \n",
    "    MAEP_SC=AEP_table['MAEP_SC'].sum()\n",
    "    WAEP=AEP_table['WAEP'].sum()\n",
    "    AEP_perc=(MAEP_SC/WAEP)*100\n",
    "    AEP_diff=(MAEP_SC-WAEP)/1000\n",
    "    \n",
    "    #printing the results\n",
    "\n",
    "    print('')\n",
    "    print('The computed AEP_table is: ')\n",
    "    AEP_table(AEP_table)\n",
    "    print('')\n",
    "    print('The AEP% of the Site Calibration is: ', round(AEP_perc, 3), '%')\n",
    "    print('')\n",
    "    print('The AEP difference of the Site Calibration is: ', round(AEP_diff, 3), 'MWh')\n",
    "    print('')\n",
    "    AEP_plot(data, AEP_table)                                \n",
    "    \n",
    "    \n",
    "    return data"
   ]
  },
  {
   "cell_type": "code",
   "execution_count": 11,
   "id": "9d2a1da9",
   "metadata": {},
   "outputs": [],
   "source": [
    "def AEP_plot(data, AEP_table):\n",
    "    \n",
    "    #data is expected to contain: Target, WS_pred, P, P_pred\n",
    "    #AEP_table is expected to contain: WS, WPC, MPC-SC\n",
    "\n",
    "    #plotting the Power curves\n",
    "    plt.figure(figsize=(10,6))\n",
    "    plt.plot(data['WS_pred'], data['P'], marker='o', ls='', label='measured scatter', markersize=5, alpha=.1)\n",
    "    plt.plot(AEP_table.index, AEP_table['WPC'], marker='o', color='black', linewidth=0.5, label='WPC', markersize=5)\n",
    "    plt.plot(AEP_table.index, AEP_table['MPC_SC'], marker='o', color='red', linewidth=0.5, label='MPC-SC', markersize=5)\n",
    "\n",
    "\n",
    "    plt.legend()\n",
    "\n",
    "    ax=plt.gca()\n",
    "    ax.set(ylabel='Power interpolated with WPC and Target WS (kW)', xlabel='Predicted Wind Speed (m/s)');\n",
    "    ax.set_title('Site Calibration Power Curve')\n",
    "    ax.set_xlim(xmin=0, xmax=20)\n",
    "#     ax.set_xlim(xmin=0, xmax=27.5)\n",
    "    \n",
    "    return print('Error plot performed')"
   ]
  },
  {
   "cell_type": "code",
   "execution_count": 12,
   "id": "8dfd0676",
   "metadata": {},
   "outputs": [],
   "source": [
    "def AEP_table(AEP_table):\n",
    "    \n",
    "    #AEP_table is expected to contain: WPC, MPC_SC, WPC, WSAD, WAEP, MAEP\n",
    "    \n",
    "    WS= AEP_table.index\n",
    "    WPC=AEP_table['WPC']\n",
    "    MPC_SC=round(AEP_table['MPC_SC'],0)\n",
    "    WSAD=AEP_table['WASD']\n",
    "    WAEP=round(AEP_table['WAEP']/1000000, 3)\n",
    "    MAEP=round(AEP_table['MAEP']/1000000, 3)\n",
    "    \n",
    "\n",
    "    row_headers=None\n",
    "    column_headers=('Wind speed bin (m/s)', 'WPC (kW)', 'MPC_SC (kW)',\n",
    "                    'Annual Wind Distribution (h/year)', 'WAEP (GWh)', 'MAEP (GWh)')\n",
    "\n",
    "    rcolors = plt.cm.BuPu(np.full(len(row_headers), 0.1))\n",
    "    ccolors = plt.cm.BuPu(np.full(len(column_headers), 0.1))\n",
    "\n",
    "    l_2d=[list(WS), list(WPC), list(MPC), list(WSAD), list(WAEP), list(MAEP)]\n",
    "\n",
    "    cell_text=np.array(l_2d).T\n",
    "\n",
    "    fig, ax = plt.subplots(figsize=(12,5)) \n",
    "    ax.set_axis_off()\n",
    "\n",
    "    the_table=ax.table(cellText=cell_text,\n",
    "                      rowLabels=row_headers,\n",
    "                      rowColours=rcolors,\n",
    "                      rowLoc='right',\n",
    "                      colColours=ccolors,\n",
    "                      colLabels=column_headers,\n",
    "                      cellLoc ='center',\n",
    "                      loc='upper center',\n",
    "                      colWidths = [0.1] * 5)\n",
    "\n",
    "    ax.set_title('Annual Energy Production for Site Calibration PC', \n",
    "                 fontweight =\"bold\", fontsize=14) \n",
    "\n",
    "    the_table.auto_set_font_size(False)\n",
    "    the_table.set_fontsize(14)\n",
    "    the_table.scale(2, 2)\n",
    "    \n",
    "    return ('AEP table printed')"
   ]
  },
  {
   "cell_type": "markdown",
   "id": "71970e76",
   "metadata": {},
   "source": [
    "## Data uploading"
   ]
  },
  {
   "cell_type": "code",
   "execution_count": 13,
   "id": "3bcfb73c",
   "metadata": {},
   "outputs": [],
   "source": [
    "def uploading_csv(file_folder,file_name):\n",
    "    \n",
    "    #file folder required\n",
    "    #file name required\n",
    "    #file is expected to be in the data root: r'C:\\Users\\irgaa\\Irma\\Data'\n",
    "    #this function uploads and formats csv/txt/xlsx datasets into DataFrame\n",
    "    \n",
    "    \n",
    "    data_root=r'C:\\Users\\irgaa\\Irma\\Data'\n",
    "    data_folder=str(file_folder)\n",
    "    data_file=str(file_name)\n",
    "    \n",
    "    data_path=data_root+data_folder+data_file\n",
    "    \n",
    "    data1 = pd.read_csv(data_path)\n",
    "\n",
    "    \n",
    "    # We will save the WD_bin as the index\n",
    "    \n",
    "    return data1"
   ]
  },
  {
   "cell_type": "code",
   "execution_count": 14,
   "id": "6c5e33be",
   "metadata": {},
   "outputs": [],
   "source": [
    "#this function saves a data csv\n",
    "\n",
    "def save (data, file_folder,file_name):\n",
    "    \n",
    "    #file folder required\n",
    "    #file name required\n",
    "    #file is expected to be saved in the data root: r'C:\\Users\\irgaa\\Irma\\Data'\n",
    "    #this function saves a csv/txt/xlsx into Irma's folder\n",
    "    #the saved file will keep the columns names but not the index\n",
    "    \n",
    "    data_root=r'C:\\Users\\irgaa\\Irma\\Data'\n",
    "    data_folder=str(file_folder)\n",
    "    data_file=str(file_name)\n",
    "    \n",
    "    data_path=data_root+data_folder+data_file\n",
    "    \n",
    "    data.to_csv (data_path, index = False, header=True)\n",
    "    \n",
    "    \n",
    "    return print('file', data_file, 'saved in', data_folder, 'folder')"
   ]
  },
  {
   "cell_type": "markdown",
   "id": "ffaedaca",
   "metadata": {},
   "source": [
    "## Data selection"
   ]
  },
  {
   "cell_type": "code",
   "execution_count": 15,
   "id": "358a5d18",
   "metadata": {},
   "outputs": [],
   "source": [
    "def data_selection(X_train, X_test, inputs):\n",
    "    \n",
    "    #this function returns the columns of the training and test sets in the inputs list\n",
    "    \n",
    "    X_train1 = pd.DataFrame()\n",
    "    X_test1 = pd.DataFrame()\n",
    "    \n",
    "    \n",
    "    X_train1 = X_train[inputs]\n",
    "    X_test1 = X_test[inputs]\n",
    "\n",
    "    \n",
    "    return X_train1,X_test1"
   ]
  },
  {
   "cell_type": "code",
   "execution_count": 16,
   "id": "8fd717ae",
   "metadata": {},
   "outputs": [],
   "source": [
    "def data_drop(X_train, X_test, list_2drop):\n",
    "    \n",
    "    #this function returns the columns of the training and test sets in the inputs list\n",
    "\n",
    "    X_train1 = X_train.drop(columns=list_2drop)\n",
    "    X_test1 = X_test.drop(columns=list_2drop)\n",
    "\n",
    "    \n",
    "    \n",
    "    return X_train1,X_test1"
   ]
  },
  {
   "cell_type": "markdown",
   "id": "ab30ac71",
   "metadata": {},
   "source": [
    "## Subsets"
   ]
  },
  {
   "cell_type": "code",
   "execution_count": 17,
   "id": "08bc52e9",
   "metadata": {},
   "outputs": [],
   "source": [
    "def subset_selection (data, number):\n",
    "    \n",
    "    \n",
    "    #this function returns a subset of sensors as dataframe\n",
    "    #data is the original dataset with all sensors named: WS1, tod, WSVer, etc.\n",
    "    #number is a value that indicates the desired subset of sensors\n",
    "    #final is the dataframe returned by this function with the desired subset of sensors\n",
    "    \n",
    "    \n",
    "    \n",
    "    #first we identify the sensors one by one:\n",
    "    WS1=pd.DataFrame(data['WS1'].copy())\n",
    "    WS3=pd.DataFrame(data['WS3'].copy())\n",
    "    WS4=pd.DataFrame(data['WS4'].copy())\n",
    "    WD1=pd.DataFrame(data['WD1'].copy())\n",
    "    WD3=pd.DataFrame(data['WD3'].copy())\n",
    "    WD4=pd.DataFrame(data['WD4'].copy())\n",
    "    tod=pd.DataFrame(data['tod'].copy())\n",
    "    TI=pd.DataFrame(data['TI'].copy())\n",
    "    WSH=pd.DataFrame(data['WSH'].copy())\n",
    "    WVeer=pd.DataFrame(data['WVeer'].copy())\n",
    "    RH1=pd.DataFrame(data['RH1'].copy())\n",
    "    RH2=pd.DataFrame(data['RH2'].copy())\n",
    "    PR1=pd.DataFrame(data['PR1'].copy())\n",
    "    PR2=pd.DataFrame(data['PR2'].copy())\n",
    "    T1=pd.DataFrame(data['T1'].copy())\n",
    "    T2=pd.DataFrame(data['T2'].copy())\n",
    "    AD1=pd.DataFrame(data['AD1'].copy())\n",
    "    AD2=pd.DataFrame(data['AD2'].copy())\n",
    "    WSHor=pd.DataFrame(data['WSHor'].copy())\n",
    "    WSVer=pd.DataFrame(data['WSVer'].copy())\n",
    "    WDHor=pd.DataFrame(data['WDHor'].copy())\n",
    "    WDVer=pd.DataFrame(data['WDVer'].copy())\n",
    "    Rain=pd.DataFrame(data['Rain'].copy())\n",
    "    \n",
    "    \n",
    "    #second the sensors are identified:\n",
    "    sensors1=pd.concat([WS1, tod, TI], axis=1)\n",
    "    sensors2=pd.concat([WSHor, WSVer, WDHor, WDVer], axis=1)\n",
    "    sensors3=pd.concat([WS4, WSH], axis=1)\n",
    "    sensors4=WS3\n",
    "    sensors5=WD4\n",
    "    sensors6=pd.concat([WD1, WVeer], axis=1)\n",
    "    sensors7=RH1\n",
    "    sensors8=PR1\n",
    "    sensors9=WD3\n",
    "    sensors10=pd.concat([T1, AD1], axis=1)\n",
    "    sensors11=T2\n",
    "    sensors12=RH2\n",
    "    sensors13=pd.concat([PR2, AD2], axis=1)\n",
    "    sensors14=Rain\n",
    "    \n",
    "    \n",
    "    #third, we identify the subsets\n",
    "    subset1=sensors1\n",
    "    subset2=pd.concat([subset1, sensors2], axis=1)\n",
    "    subset3=pd.concat([subset2, sensors3], axis=1)\n",
    "    subset4=pd.concat([subset3, sensors4], axis=1)\n",
    "    subset5=pd.concat([subset4, sensors5], axis=1)\n",
    "    subset6=pd.concat([subset5, sensors6], axis=1)\n",
    "    subset7=pd.concat([subset6, sensors7], axis=1)\n",
    "    subset8=pd.concat([subset7, sensors8], axis=1)\n",
    "    subset9=pd.concat([subset8, sensors9], axis=1)\n",
    "    subset10=pd.concat([subset9, sensors10], axis=1)\n",
    "    subset11=pd.concat([subset10, sensors11], axis=1)\n",
    "    subset12=pd.concat([subset11, sensors12], axis=1)\n",
    "    subset13=pd.concat([subset12, sensors13], axis=1)\n",
    "    subset14=pd.concat([subset13, sensors14], axis=1)\n",
    "    \n",
    "    #finally, the desired subset is returned\n",
    "    if number==1:\n",
    "        final=subset1\n",
    "    elif number==2:\n",
    "        final=subset2\n",
    "    elif number==3:\n",
    "        final=subset3\n",
    "    elif number==4:\n",
    "        final=subset4\n",
    "    elif number==5:\n",
    "        final=subset5\n",
    "    elif number==6:\n",
    "        final=subset6\n",
    "    elif number==7:\n",
    "        final=subset7\n",
    "    elif number==8:\n",
    "        final=subset8\n",
    "    elif number==9:\n",
    "        final=subset9\n",
    "    elif number==10:\n",
    "        final=subset10\n",
    "    elif number==11:\n",
    "        final=subset11\n",
    "    elif number==12:\n",
    "        final=subset12\n",
    "    elif number==13:\n",
    "        final=subset13\n",
    "    else:\n",
    "        final=subset14\n",
    "        \n",
    "\n",
    "    \n",
    "    \n",
    "    return final"
   ]
  },
  {
   "cell_type": "markdown",
   "id": "255c2b31",
   "metadata": {},
   "source": [
    "## Modelling"
   ]
  },
  {
   "cell_type": "markdown",
   "id": "c983f849",
   "metadata": {},
   "source": [
    "### Modelling XGBoost"
   ]
  },
  {
   "cell_type": "code",
   "execution_count": 55,
   "id": "c827782a",
   "metadata": {},
   "outputs": [],
   "source": [
    "def modelling_XGBoost (X_train, X_test, y_train, y_test, power_curve,  parameters, plot_error, plot):\n",
    "    \n",
    "    #creating the model\n",
    "    max_depth=parameters['max_depth']\n",
    "    n_estimators=parameters['n_estimators']\n",
    "    learning_rate=parameters['learning_rate']\n",
    "    subsample=parameters['subsample']\n",
    "    colsample_bytree=parameters['colsample_bytree']\n",
    "    min_child_weight=parameters['min_child_weight']\n",
    "    gamma=parameters['gamma']\n",
    "    reg_lambda=parameters['reg_lambda']\n",
    "    \n",
    " \n",
    "    model = xgb.XGBRegressor(max_depth=max_depth, n_estimators=n_estimators, random_state=42,\n",
    "                               objective='reg:squarederror', booster='gbtree', learning_rate=learning_rate,\n",
    "                               subsample=subsample, colsample_bytree=colsample_bytree,\n",
    "                             min_child_weight=min_child_weight, reg_lambda=reg_lambda)\n",
    "                               \n",
    "    #model fitting\n",
    "    model.fit(X_train, y_train)\n",
    "        \n",
    "    \n",
    "    #model predicting\n",
    "    y_pred_test=model.predict(X_test)\n",
    "    y_pred_train=model.predict(X_train)\n",
    "    \n",
    "    test=pd.DataFrame(y_pred_test, columns = ['test'])\n",
    "    train=pd.DataFrame(y_pred_train, columns = ['train'])\n",
    "    \n",
    "    \n",
    "\n",
    "    #computing the results\n",
    "    data_test = pd.DataFrame()\n",
    "    data_train = pd.DataFrame()\n",
    "    \n",
    "    data_test['WS_pred']=test['test']\n",
    "    data_test['Target']=y_test['Target']\n",
    "    data_train['WS_pred']=train['train']\n",
    "    data_train['Target']=y_train['Target']\n",
    "    \n",
    "    \n",
    "    data=compute_results(data_test, data_train, power_curve, plot_error)\n",
    "    print('XGBoost modelling performed')\n",
    "    \n",
    "    return model"
   ]
  },
  {
   "cell_type": "markdown",
   "id": "ff27c77a",
   "metadata": {},
   "source": [
    "### Grid Search XGBoost"
   ]
  },
  {
   "cell_type": "code",
   "execution_count": 35,
   "id": "aab34987",
   "metadata": {},
   "outputs": [],
   "source": [
    "def GridSearch_XGBoost (X_train, X_test, y_train, y_test, power_curve, parameters, param_grid, plot_error):\n",
    "    \n",
    "    \n",
    "    #counting the runing time\n",
    "    start_time = time.time()\n",
    "    \n",
    "    #creating the model\n",
    "    max_depth=parameters['max_depth']\n",
    "    n_estimators=parameters['n_estimators']\n",
    "    learning_rate=parameters['learning_rate']\n",
    "    subsample=parameters['subsample']\n",
    "    colsample_bytree=parameters['colsample_bytree']\n",
    "    min_child_weight=parameters['min_child_weight']\n",
    "    gamma=parameters['gamma']\n",
    "    reg_lambda=parameters['reg_lambda']\n",
    "    \n",
    "    #creating the model\n",
    "    xgbr = xgb.XGBRegressor(max_depth=max_depth, n_estimators=n_estimators, random_state=42,\n",
    "                           objective='reg:squarederror', booster='gbtree', learning_rate=learning_rate,\n",
    "                           subsample=subsample, colsample_bytree=colsample_bytree,\n",
    "                         min_child_weight=min_child_weight, gamma=gamma, reg_lambda=reg_lambda)\n",
    "    \n",
    "    \n",
    "    \n",
    "    #Grid Search CV\n",
    "    clf = GridSearchCV(estimator=xgbr, \n",
    "                             param_grid=param_grid,\n",
    "                             cv=4,\n",
    "                             scoring='neg_mean_squared_error',\n",
    "                             verbose=1) \n",
    "    \n",
    "        \n",
    "    #model fitting\n",
    "    clf.fit(X_train, y_train)\n",
    "    \n",
    "    \n",
    "    #model predicting\n",
    "    \n",
    "    y_pred_test=clf.predict(X_test)\n",
    "    y_pred_train=clf.predict(X_train)\n",
    "    \n",
    "    test=pd.DataFrame(y_pred_test, columns = ['test'])\n",
    "    train=pd.DataFrame(y_pred_train, columns = ['train'])\n",
    "    \n",
    "    print('')\n",
    "    print('Best parameters :')\n",
    "    print(clf.best_params_)\n",
    "    print('')\n",
    "\n",
    "    #computing the results\n",
    "    data_test = pd.DataFrame()\n",
    "    data_train = pd.DataFrame()\n",
    "    \n",
    "    data_test['WS_pred']=test['test']\n",
    "    data_test['Target']=y_test['Target']\n",
    "    data_train['WS_pred']=train['train']\n",
    "    data_train['Target']=y_train['Target']\n",
    "    \n",
    "    compute_results(data_test, data_train, power_curve, plot_error)\n",
    "    print('GridSearch_ XGBoost performed')\n",
    "    print(\"--- %s minutes ---\" % ((time.time() - start_time)/60))\n",
    "    print('')\n",
    "    print('Lowest RMSE: ', (-clf.best_score_)**(1/2.0))\n",
    "    \n",
    "    \n",
    "    \n",
    "    return clf"
   ]
  },
  {
   "cell_type": "markdown",
   "id": "54004cbb",
   "metadata": {},
   "source": [
    "### Model Testing"
   ]
  },
  {
   "cell_type": "code",
   "execution_count": 20,
   "id": "0bfe8458",
   "metadata": {},
   "outputs": [],
   "source": [
    "def model_testing (X_train, X_test, y_train, y_test, power_curve, model, plot_error):\n",
    "\n",
    "    \n",
    "\n",
    "    y_pred_test=model.predict(X_test)\n",
    "    y_pred_train=model.predict(X_train)\n",
    "    \n",
    "    test=pd.DataFrame(y_pred_test, columns = ['test'])\n",
    "    train=pd.DataFrame(y_pred_train, columns = ['train'])\n",
    "\n",
    "\n",
    "    data_test = pd.DataFrame()\n",
    "    data_train = pd.DataFrame()\n",
    "    \n",
    "    data_test['WS_pred']=test['test']\n",
    "    data_test['Target']=y_test['Target']\n",
    "    data_train['WS_pred']=train['train']\n",
    "    data_train['Target']=y_train['Target']\n",
    "        \n",
    "    \n",
    "    compute_results(data_test, data_train, power_curve, plot_error)\n",
    "    \n",
    "    WS_pred=data_test['WS_pred']\n",
    "    print('XGBoost results performed')\n",
    "    \n",
    "    return WS_pred"
   ]
  },
  {
   "cell_type": "markdown",
   "id": "880d0819",
   "metadata": {},
   "source": [
    "# Data analysis"
   ]
  },
  {
   "cell_type": "code",
   "execution_count": 21,
   "id": "862ff6f1",
   "metadata": {},
   "outputs": [],
   "source": [
    "#WTG14"
   ]
  },
  {
   "cell_type": "code",
   "execution_count": 22,
   "id": "4e688061",
   "metadata": {},
   "outputs": [],
   "source": [
    "#individual"
   ]
  },
  {
   "cell_type": "code",
   "execution_count": 23,
   "id": "00542203",
   "metadata": {},
   "outputs": [
    {
     "data": {
      "text/plain": [
       "Index(['T2', 'RH2', 'T1', 'RH1', 'PR1', 'AD1', 'PR2', 'AD2', 'Rain', 'WS1',\n",
       "       'WS3', 'WS4', 'WD1', 'WD3', 'WD4', 'WSHor', 'WDHor', 'WSVer', 'WDVer',\n",
       "       'TI', 'WSH', 'WD_bin', 'tod', 'WVeer'],\n",
       "      dtype='object')"
      ]
     },
     "execution_count": 23,
     "metadata": {},
     "output_type": "execute_result"
    }
   ],
   "source": [
    "#upload the dataset with file_folder, file_name\n",
    "# data_up= uploading_csv('\\Dataset1-Normal_Site','\\data_comp14.csv')\n",
    "X_train= uploading_csv('\\Dataset1-Normal_Site','\\X_train14.csv')\n",
    "X_test= uploading_csv('\\Dataset1-Normal_Site','\\X_test14.csv')\n",
    "y_train= uploading_csv('\\Dataset1-Normal_Site','\\y_train14.csv')\n",
    "y_test= uploading_csv('\\Dataset1-Normal_Site','\\y_test14.csv')\n",
    "\n",
    "X_test.keys()"
   ]
  },
  {
   "cell_type": "code",
   "execution_count": 24,
   "id": "db055157",
   "metadata": {},
   "outputs": [],
   "source": [
    "PC= uploading_csv('\\Dataset1-Normal_Site','\\PC_1.15kgm-3.csv')"
   ]
  },
  {
   "cell_type": "markdown",
   "id": "ff0fec4a",
   "metadata": {},
   "source": [
    "## Subset1"
   ]
  },
  {
   "cell_type": "code",
   "execution_count": 25,
   "id": "269aff7e",
   "metadata": {},
   "outputs": [],
   "source": [
    "X_train_subset=subset_selection(X_train, 1)\n",
    "X_test_subset=subset_selection(X_test, 1)"
   ]
  },
  {
   "cell_type": "code",
   "execution_count": 26,
   "id": "9eeb85fb",
   "metadata": {},
   "outputs": [
    {
     "data": {
      "text/html": [
       "<div>\n",
       "<style scoped>\n",
       "    .dataframe tbody tr th:only-of-type {\n",
       "        vertical-align: middle;\n",
       "    }\n",
       "\n",
       "    .dataframe tbody tr th {\n",
       "        vertical-align: top;\n",
       "    }\n",
       "\n",
       "    .dataframe thead th {\n",
       "        text-align: right;\n",
       "    }\n",
       "</style>\n",
       "<table border=\"1\" class=\"dataframe\">\n",
       "  <thead>\n",
       "    <tr style=\"text-align: right;\">\n",
       "      <th></th>\n",
       "      <th>WS1</th>\n",
       "      <th>tod</th>\n",
       "      <th>TI</th>\n",
       "    </tr>\n",
       "  </thead>\n",
       "  <tbody>\n",
       "    <tr>\n",
       "      <th>0</th>\n",
       "      <td>0.020975</td>\n",
       "      <td>1.000000</td>\n",
       "      <td>0.207488</td>\n",
       "    </tr>\n",
       "    <tr>\n",
       "      <th>1</th>\n",
       "      <td>0.065031</td>\n",
       "      <td>0.041958</td>\n",
       "      <td>0.124319</td>\n",
       "    </tr>\n",
       "    <tr>\n",
       "      <th>2</th>\n",
       "      <td>0.212434</td>\n",
       "      <td>0.006993</td>\n",
       "      <td>0.377173</td>\n",
       "    </tr>\n",
       "    <tr>\n",
       "      <th>3</th>\n",
       "      <td>0.871467</td>\n",
       "      <td>0.293706</td>\n",
       "      <td>0.202202</td>\n",
       "    </tr>\n",
       "    <tr>\n",
       "      <th>4</th>\n",
       "      <td>0.324850</td>\n",
       "      <td>0.762238</td>\n",
       "      <td>0.344330</td>\n",
       "    </tr>\n",
       "    <tr>\n",
       "      <th>...</th>\n",
       "      <td>...</td>\n",
       "      <td>...</td>\n",
       "      <td>...</td>\n",
       "    </tr>\n",
       "    <tr>\n",
       "      <th>3041</th>\n",
       "      <td>0.534532</td>\n",
       "      <td>0.419580</td>\n",
       "      <td>0.371217</td>\n",
       "    </tr>\n",
       "    <tr>\n",
       "      <th>3042</th>\n",
       "      <td>0.357270</td>\n",
       "      <td>0.874126</td>\n",
       "      <td>0.231236</td>\n",
       "    </tr>\n",
       "    <tr>\n",
       "      <th>3043</th>\n",
       "      <td>0.431474</td>\n",
       "      <td>0.867133</td>\n",
       "      <td>0.232592</td>\n",
       "    </tr>\n",
       "    <tr>\n",
       "      <th>3044</th>\n",
       "      <td>0.644727</td>\n",
       "      <td>0.993007</td>\n",
       "      <td>0.095348</td>\n",
       "    </tr>\n",
       "    <tr>\n",
       "      <th>3045</th>\n",
       "      <td>0.270322</td>\n",
       "      <td>0.713287</td>\n",
       "      <td>0.369781</td>\n",
       "    </tr>\n",
       "  </tbody>\n",
       "</table>\n",
       "<p>3046 rows × 3 columns</p>\n",
       "</div>"
      ],
      "text/plain": [
       "           WS1       tod        TI\n",
       "0     0.020975  1.000000  0.207488\n",
       "1     0.065031  0.041958  0.124319\n",
       "2     0.212434  0.006993  0.377173\n",
       "3     0.871467  0.293706  0.202202\n",
       "4     0.324850  0.762238  0.344330\n",
       "...        ...       ...       ...\n",
       "3041  0.534532  0.419580  0.371217\n",
       "3042  0.357270  0.874126  0.231236\n",
       "3043  0.431474  0.867133  0.232592\n",
       "3044  0.644727  0.993007  0.095348\n",
       "3045  0.270322  0.713287  0.369781\n",
       "\n",
       "[3046 rows x 3 columns]"
      ]
     },
     "execution_count": 26,
     "metadata": {},
     "output_type": "execute_result"
    }
   ],
   "source": [
    "X_train_subset"
   ]
  },
  {
   "cell_type": "markdown",
   "id": "a2277287",
   "metadata": {},
   "source": [
    "### Grid Search"
   ]
  },
  {
   "cell_type": "code",
   "execution_count": 27,
   "id": "bb5f3206",
   "metadata": {},
   "outputs": [],
   "source": [
    "#doing"
   ]
  },
  {
   "cell_type": "code",
   "execution_count": 32,
   "id": "65ef4109",
   "metadata": {},
   "outputs": [],
   "source": [
    "parameters={\n",
    "    'max_depth':5,\n",
    "    'n_estimators': 1000,\n",
    "    'learning_rate':0.1,\n",
    "    'subsample':0.8,\n",
    "    'colsample_bytree':0.8,\n",
    "    'min_child_weight':1,\n",
    "    'gamma':0,\n",
    "    'reg_lambda':1,\n",
    "}"
   ]
  },
  {
   "cell_type": "code",
   "execution_count": 33,
   "id": "a7ad6bbf",
   "metadata": {},
   "outputs": [],
   "source": [
    "param_grid={\n",
    "    'n_estimators': [100, 200, 300, 400, 500, 600, 700, 800, 900, 1000],\n",
    "}"
   ]
  },
  {
   "cell_type": "code",
   "execution_count": 36,
   "id": "224e052b",
   "metadata": {
    "scrolled": true
   },
   "outputs": [
    {
     "name": "stdout",
     "output_type": "stream",
     "text": [
      "Fitting 4 folds for each of 10 candidates, totalling 40 fits\n",
      "\n",
      "Best parameters :\n",
      "{'n_estimators': 100}\n",
      "\n",
      "power curve computation performed\n",
      "power curve computation performed\n",
      "Modelling errors for training set:\n",
      "Wind RMSE:  0.335 m/s as root mean\n",
      "Wind MAE:  0.252 m/s in avg\n",
      "Wind MAPE:  2.942 %\n",
      "Power RMSE:  154.059 kW as root mean\n",
      "Power MAE:  94.495 kW in avg\n",
      "Power MAPE:  6.563 %\n",
      "\n",
      "Modelling errors for test set:\n",
      "Wind RMSE:  0.448 m/s as root mean\n",
      "Wind MAE:  0.336 m/s in avg\n",
      "Wind MAPE:  3.988 %\n",
      "Power RMSE:  208.807 kW as root mean\n",
      "Power MAE:  129.997 kW in avg\n",
      "Power MAPE:  9.315 %\n",
      "\n",
      "\n",
      "Showing the results of the modelling: \n",
      "GridSearch_ XGBoost performed\n",
      "--- 0.7957025567690531 minutes ---\n",
      "\n",
      "Lowest RMSE:  0.4592630938943637\n"
     ]
    },
    {
     "data": {
      "text/plain": [
       "GridSearchCV(cv=4,\n",
       "             estimator=XGBRegressor(base_score=None, booster='gbtree',\n",
       "                                    colsample_bylevel=None,\n",
       "                                    colsample_bynode=None, colsample_bytree=0.8,\n",
       "                                    gamma=0, gpu_id=None,\n",
       "                                    importance_type='gain',\n",
       "                                    interaction_constraints=None,\n",
       "                                    learning_rate=0.1, max_delta_step=None,\n",
       "                                    max_depth=5, min_child_weight=1,\n",
       "                                    missing=nan, monotone_constraints=None,\n",
       "                                    n_estimators=1000, n_jobs=None,\n",
       "                                    num_parallel_tree=None, random_state=42,\n",
       "                                    reg_alpha=None, reg_lambda=1,\n",
       "                                    scale_pos_weight=None, subsample=0.8,\n",
       "                                    tree_method=None, validate_parameters=None,\n",
       "                                    verbosity=None),\n",
       "             param_grid={'n_estimators': [100, 200, 300, 400, 500, 600, 700,\n",
       "                                          800, 900, 1000]},\n",
       "             scoring='neg_mean_squared_error', verbose=1)"
      ]
     },
     "execution_count": 36,
     "metadata": {},
     "output_type": "execute_result"
    }
   ],
   "source": [
    "GridSearch_XGBoost (X_train_subset, X_test_subset, y_train, y_test, PC, parameters, param_grid, plot_error=False)"
   ]
  },
  {
   "cell_type": "code",
   "execution_count": 37,
   "id": "39eae40f",
   "metadata": {},
   "outputs": [],
   "source": [
    "parameters={\n",
    "    'max_depth':5,\n",
    "    'n_estimators': 100,\n",
    "    'learning_rate':0.1,\n",
    "    'subsample':0.8,\n",
    "    'colsample_bytree':0.8,\n",
    "    'min_child_weight':1,\n",
    "    'gamma':0,\n",
    "    'reg_lambda':1,\n",
    "}"
   ]
  },
  {
   "cell_type": "code",
   "execution_count": 38,
   "id": "9e8b4fe1",
   "metadata": {},
   "outputs": [],
   "source": [
    "param_grid={\n",
    "    'max_depth': [3, 4, 5, 6, 10, 15, 20],\n",
    "    'min_child_weight': [1, 2, 3, 6, 10]\n",
    "}"
   ]
  },
  {
   "cell_type": "code",
   "execution_count": 39,
   "id": "de8bab35",
   "metadata": {
    "scrolled": true
   },
   "outputs": [
    {
     "name": "stdout",
     "output_type": "stream",
     "text": [
      "Fitting 4 folds for each of 35 candidates, totalling 140 fits\n",
      "\n",
      "Best parameters :\n",
      "{'max_depth': 3, 'min_child_weight': 10}\n",
      "\n",
      "power curve computation performed\n",
      "power curve computation performed\n",
      "Modelling errors for training set:\n",
      "Wind RMSE:  0.392 m/s as root mean\n",
      "Wind MAE:  0.291 m/s in avg\n",
      "Wind MAPE:  3.394 %\n",
      "Power RMSE:  176.698 kW as root mean\n",
      "Power MAE:  107.652 kW in avg\n",
      "Power MAPE:  7.649 %\n",
      "\n",
      "Modelling errors for test set:\n",
      "Wind RMSE:  0.443 m/s as root mean\n",
      "Wind MAE:  0.33 m/s in avg\n",
      "Wind MAPE:  3.895 %\n",
      "Power RMSE:  204.803 kW as root mean\n",
      "Power MAE:  127.529 kW in avg\n",
      "Power MAPE:  9.005 %\n",
      "\n",
      "\n",
      "Showing the results of the modelling: \n",
      "GridSearch_ XGBoost performed\n",
      "--- 1.139086918036143 minutes ---\n",
      "\n",
      "Lowest RMSE:  0.4454775083012192\n"
     ]
    },
    {
     "data": {
      "text/plain": [
       "GridSearchCV(cv=4,\n",
       "             estimator=XGBRegressor(base_score=None, booster='gbtree',\n",
       "                                    colsample_bylevel=None,\n",
       "                                    colsample_bynode=None, colsample_bytree=0.8,\n",
       "                                    gamma=0, gpu_id=None,\n",
       "                                    importance_type='gain',\n",
       "                                    interaction_constraints=None,\n",
       "                                    learning_rate=0.1, max_delta_step=None,\n",
       "                                    max_depth=5, min_child_weight=1,\n",
       "                                    missing=nan, monotone_constraints=None,\n",
       "                                    n_estimators=100, n_jobs=None,\n",
       "                                    num_parallel_tree=None, random_state=42,\n",
       "                                    reg_alpha=None, reg_lambda=1,\n",
       "                                    scale_pos_weight=None, subsample=0.8,\n",
       "                                    tree_method=None, validate_parameters=None,\n",
       "                                    verbosity=None),\n",
       "             param_grid={'max_depth': [3, 4, 5, 6, 10, 15, 20],\n",
       "                         'min_child_weight': [1, 2, 3, 6, 10]},\n",
       "             scoring='neg_mean_squared_error', verbose=1)"
      ]
     },
     "execution_count": 39,
     "metadata": {},
     "output_type": "execute_result"
    }
   ],
   "source": [
    "GridSearch_XGBoost (X_train_subset, X_test_subset, y_train, y_test, PC, parameters, param_grid, plot_error=False)"
   ]
  },
  {
   "cell_type": "code",
   "execution_count": 40,
   "id": "0dbafa9e",
   "metadata": {},
   "outputs": [],
   "source": [
    "parameters={\n",
    "    'max_depth':3,\n",
    "    'n_estimators': 100,\n",
    "    'learning_rate':0.1,\n",
    "    'subsample':0.8,\n",
    "    'colsample_bytree':0.8,\n",
    "    'min_child_weight':10,\n",
    "    'gamma':0,\n",
    "    'reg_lambda':1,\n",
    "}"
   ]
  },
  {
   "cell_type": "code",
   "execution_count": 41,
   "id": "59bd2be3",
   "metadata": {},
   "outputs": [],
   "source": [
    "param_grid={\n",
    "    'gamma': [0, 0.1, 0.2, 0.3, 0.4, 0.5]\n",
    "}"
   ]
  },
  {
   "cell_type": "code",
   "execution_count": 42,
   "id": "0da9c6da",
   "metadata": {
    "scrolled": true
   },
   "outputs": [
    {
     "name": "stdout",
     "output_type": "stream",
     "text": [
      "Fitting 4 folds for each of 6 candidates, totalling 24 fits\n",
      "\n",
      "Best parameters :\n",
      "{'gamma': 0.2}\n",
      "\n",
      "power curve computation performed\n",
      "power curve computation performed\n",
      "Modelling errors for training set:\n",
      "Wind RMSE:  0.392 m/s as root mean\n",
      "Wind MAE:  0.292 m/s in avg\n",
      "Wind MAPE:  3.404 %\n",
      "Power RMSE:  176.621 kW as root mean\n",
      "Power MAE:  107.699 kW in avg\n",
      "Power MAPE:  7.667 %\n",
      "\n",
      "Modelling errors for test set:\n",
      "Wind RMSE:  0.442 m/s as root mean\n",
      "Wind MAE:  0.33 m/s in avg\n",
      "Wind MAPE:  3.896 %\n",
      "Power RMSE:  203.96 kW as root mean\n",
      "Power MAE:  127.06 kW in avg\n",
      "Power MAPE:  9.005 %\n",
      "\n",
      "\n",
      "Showing the results of the modelling: \n",
      "GridSearch_ XGBoost performed\n",
      "--- 0.07896660168965658 minutes ---\n",
      "\n",
      "Lowest RMSE:  0.44535360509147437\n"
     ]
    },
    {
     "data": {
      "text/plain": [
       "GridSearchCV(cv=4,\n",
       "             estimator=XGBRegressor(base_score=None, booster='gbtree',\n",
       "                                    colsample_bylevel=None,\n",
       "                                    colsample_bynode=None, colsample_bytree=0.8,\n",
       "                                    gamma=0, gpu_id=None,\n",
       "                                    importance_type='gain',\n",
       "                                    interaction_constraints=None,\n",
       "                                    learning_rate=0.1, max_delta_step=None,\n",
       "                                    max_depth=3, min_child_weight=10,\n",
       "                                    missing=nan, monotone_constraints=None,\n",
       "                                    n_estimators=100, n_jobs=None,\n",
       "                                    num_parallel_tree=None, random_state=42,\n",
       "                                    reg_alpha=None, reg_lambda=1,\n",
       "                                    scale_pos_weight=None, subsample=0.8,\n",
       "                                    tree_method=None, validate_parameters=None,\n",
       "                                    verbosity=None),\n",
       "             param_grid={'gamma': [0, 0.1, 0.2, 0.3, 0.4, 0.5]},\n",
       "             scoring='neg_mean_squared_error', verbose=1)"
      ]
     },
     "execution_count": 42,
     "metadata": {},
     "output_type": "execute_result"
    }
   ],
   "source": [
    "GridSearch_XGBoost (X_train_subset, X_test_subset, y_train, y_test, PC, parameters, param_grid, plot_error=False)"
   ]
  },
  {
   "cell_type": "code",
   "execution_count": 43,
   "id": "db6eddd5",
   "metadata": {},
   "outputs": [],
   "source": [
    "parameters={\n",
    "    'max_depth':3,\n",
    "    'n_estimators': 100,\n",
    "    'learning_rate':0.1,\n",
    "    'subsample':0.8,\n",
    "    'colsample_bytree':0.8,\n",
    "    'min_child_weight':10,\n",
    "    'gamma':0.2,\n",
    "    'reg_lambda':1,\n",
    "}"
   ]
  },
  {
   "cell_type": "code",
   "execution_count": 44,
   "id": "cfdbd3b1",
   "metadata": {},
   "outputs": [],
   "source": [
    "param_grid={\n",
    "    'subsample': [0.4, 0.5, 0.6, 0.7, 0.8, 0.9, 1],\n",
    "    'colsample_bytree': [0.4, 0.5, 0.6, 0.7, 0.8, 0.9, 1]\n",
    "}"
   ]
  },
  {
   "cell_type": "code",
   "execution_count": 45,
   "id": "ac924ae6",
   "metadata": {
    "scrolled": true
   },
   "outputs": [
    {
     "name": "stdout",
     "output_type": "stream",
     "text": [
      "Fitting 4 folds for each of 49 candidates, totalling 196 fits\n",
      "\n",
      "Best parameters :\n",
      "{'colsample_bytree': 1, 'subsample': 0.8}\n",
      "\n",
      "power curve computation performed\n",
      "power curve computation performed\n",
      "Modelling errors for training set:\n",
      "Wind RMSE:  0.386 m/s as root mean\n",
      "Wind MAE:  0.288 m/s in avg\n",
      "Wind MAPE:  3.368 %\n",
      "Power RMSE:  175.613 kW as root mean\n",
      "Power MAE:  107.102 kW in avg\n",
      "Power MAPE:  7.582 %\n",
      "\n",
      "Modelling errors for test set:\n",
      "Wind RMSE:  0.437 m/s as root mean\n",
      "Wind MAE:  0.327 m/s in avg\n",
      "Wind MAPE:  3.844 %\n",
      "Power RMSE:  203.626 kW as root mean\n",
      "Power MAE:  126.681 kW in avg\n",
      "Power MAPE:  8.829 %\n",
      "\n",
      "\n",
      "Showing the results of the modelling: \n",
      "GridSearch_ XGBoost performed\n",
      "--- 0.47332452138264974 minutes ---\n",
      "\n",
      "Lowest RMSE:  0.4326231726698581\n"
     ]
    },
    {
     "data": {
      "text/plain": [
       "GridSearchCV(cv=4,\n",
       "             estimator=XGBRegressor(base_score=None, booster='gbtree',\n",
       "                                    colsample_bylevel=None,\n",
       "                                    colsample_bynode=None, colsample_bytree=0.8,\n",
       "                                    gamma=0.2, gpu_id=None,\n",
       "                                    importance_type='gain',\n",
       "                                    interaction_constraints=None,\n",
       "                                    learning_rate=0.1, max_delta_step=None,\n",
       "                                    max_depth=3, min_child_weight=10,\n",
       "                                    missing=nan, monotone_constraints=None,\n",
       "                                    n_estimators=100, n_jobs=None,\n",
       "                                    num_parallel_tree=None, random_state=42,\n",
       "                                    reg_alpha=None, reg_lambda=1,\n",
       "                                    scale_pos_weight=None, subsample=0.8,\n",
       "                                    tree_method=None, validate_parameters=None,\n",
       "                                    verbosity=None),\n",
       "             param_grid={'colsample_bytree': [0.4, 0.5, 0.6, 0.7, 0.8, 0.9, 1],\n",
       "                         'subsample': [0.4, 0.5, 0.6, 0.7, 0.8, 0.9, 1]},\n",
       "             scoring='neg_mean_squared_error', verbose=1)"
      ]
     },
     "execution_count": 45,
     "metadata": {},
     "output_type": "execute_result"
    }
   ],
   "source": [
    "GridSearch_XGBoost (X_train_subset, X_test_subset, y_train, y_test, PC, parameters, param_grid, plot_error=False)"
   ]
  },
  {
   "cell_type": "code",
   "execution_count": 46,
   "id": "bac4cb56",
   "metadata": {},
   "outputs": [],
   "source": [
    "parameters={\n",
    "    'max_depth':3,\n",
    "    'n_estimators': 100,\n",
    "    'learning_rate':0.1,\n",
    "    'subsample':0.8,\n",
    "    'colsample_bytree':1,\n",
    "    'min_child_weight':10,\n",
    "    'gamma':0.2,\n",
    "    'reg_lambda':1,\n",
    "}"
   ]
  },
  {
   "cell_type": "code",
   "execution_count": 47,
   "id": "d9aeddcf",
   "metadata": {},
   "outputs": [],
   "source": [
    "param_grid={\n",
    "    'reg_lambda': [1, 10, 50, 100, 150]\n",
    "}"
   ]
  },
  {
   "cell_type": "code",
   "execution_count": 48,
   "id": "dc063115",
   "metadata": {
    "scrolled": true
   },
   "outputs": [
    {
     "name": "stdout",
     "output_type": "stream",
     "text": [
      "Fitting 4 folds for each of 5 candidates, totalling 20 fits\n",
      "\n",
      "Best parameters :\n",
      "{'reg_lambda': 1}\n",
      "\n",
      "power curve computation performed\n",
      "power curve computation performed\n",
      "Modelling errors for training set:\n",
      "Wind RMSE:  0.386 m/s as root mean\n",
      "Wind MAE:  0.288 m/s in avg\n",
      "Wind MAPE:  3.368 %\n",
      "Power RMSE:  175.613 kW as root mean\n",
      "Power MAE:  107.102 kW in avg\n",
      "Power MAPE:  7.582 %\n",
      "\n",
      "Modelling errors for test set:\n",
      "Wind RMSE:  0.437 m/s as root mean\n",
      "Wind MAE:  0.327 m/s in avg\n",
      "Wind MAPE:  3.844 %\n",
      "Power RMSE:  203.626 kW as root mean\n",
      "Power MAE:  126.681 kW in avg\n",
      "Power MAPE:  8.829 %\n",
      "\n",
      "\n",
      "Showing the results of the modelling: \n",
      "GridSearch_ XGBoost performed\n",
      "--- 0.07428447405497234 minutes ---\n",
      "\n",
      "Lowest RMSE:  0.4326231726698581\n"
     ]
    },
    {
     "data": {
      "text/plain": [
       "GridSearchCV(cv=4,\n",
       "             estimator=XGBRegressor(base_score=None, booster='gbtree',\n",
       "                                    colsample_bylevel=None,\n",
       "                                    colsample_bynode=None, colsample_bytree=1,\n",
       "                                    gamma=0.2, gpu_id=None,\n",
       "                                    importance_type='gain',\n",
       "                                    interaction_constraints=None,\n",
       "                                    learning_rate=0.1, max_delta_step=None,\n",
       "                                    max_depth=3, min_child_weight=10,\n",
       "                                    missing=nan, monotone_constraints=None,\n",
       "                                    n_estimators=100, n_jobs=None,\n",
       "                                    num_parallel_tree=None, random_state=42,\n",
       "                                    reg_alpha=None, reg_lambda=1,\n",
       "                                    scale_pos_weight=None, subsample=0.8,\n",
       "                                    tree_method=None, validate_parameters=None,\n",
       "                                    verbosity=None),\n",
       "             param_grid={'reg_lambda': [1, 10, 50, 100, 150]},\n",
       "             scoring='neg_mean_squared_error', verbose=1)"
      ]
     },
     "execution_count": 48,
     "metadata": {},
     "output_type": "execute_result"
    }
   ],
   "source": [
    "GridSearch_XGBoost (X_train_subset, X_test_subset, y_train, y_test, PC, parameters, param_grid, plot_error=False)"
   ]
  },
  {
   "cell_type": "code",
   "execution_count": 49,
   "id": "08ec8dfa",
   "metadata": {},
   "outputs": [],
   "source": [
    "parameters={\n",
    "    'max_depth':3,\n",
    "    'n_estimators': 100,\n",
    "    'learning_rate':0.1,\n",
    "    'subsample':0.8,\n",
    "    'colsample_bytree':1,\n",
    "    'min_child_weight':10,\n",
    "    'gamma':0.2,\n",
    "    'reg_lambda':1,\n",
    "}"
   ]
  },
  {
   "cell_type": "code",
   "execution_count": 50,
   "id": "5dd0dfe2",
   "metadata": {},
   "outputs": [],
   "source": [
    "param_grid={\n",
    "    'learning_rate': [0.001, 0.01, 0.1, 0.5],\n",
    "    'n_estimators': [800, 900, 1000, 1200, 1500, 1800, 2000]\n",
    "}"
   ]
  },
  {
   "cell_type": "code",
   "execution_count": 51,
   "id": "203c8261",
   "metadata": {
    "scrolled": true
   },
   "outputs": [
    {
     "name": "stdout",
     "output_type": "stream",
     "text": [
      "Fitting 4 folds for each of 28 candidates, totalling 112 fits\n",
      "\n",
      "Best parameters :\n",
      "{'learning_rate': 0.01, 'n_estimators': 900}\n",
      "\n",
      "power curve computation performed\n",
      "power curve computation performed\n",
      "Modelling errors for training set:\n",
      "Wind RMSE:  0.388 m/s as root mean\n",
      "Wind MAE:  0.289 m/s in avg\n",
      "Wind MAPE:  3.376 %\n",
      "Power RMSE:  175.944 kW as root mean\n",
      "Power MAE:  107.24 kW in avg\n",
      "Power MAPE:  7.6 %\n",
      "\n",
      "Modelling errors for test set:\n",
      "Wind RMSE:  0.436 m/s as root mean\n",
      "Wind MAE:  0.325 m/s in avg\n",
      "Wind MAPE:  3.832 %\n",
      "Power RMSE:  202.906 kW as root mean\n",
      "Power MAE:  126.303 kW in avg\n",
      "Power MAPE:  8.832 %\n",
      "\n",
      "\n",
      "Showing the results of the modelling: \n",
      "GridSearch_ XGBoost performed\n",
      "--- 3.486817304293315 minutes ---\n",
      "\n",
      "Lowest RMSE:  0.4328982597364167\n"
     ]
    },
    {
     "data": {
      "text/plain": [
       "GridSearchCV(cv=4,\n",
       "             estimator=XGBRegressor(base_score=None, booster='gbtree',\n",
       "                                    colsample_bylevel=None,\n",
       "                                    colsample_bynode=None, colsample_bytree=1,\n",
       "                                    gamma=0.2, gpu_id=None,\n",
       "                                    importance_type='gain',\n",
       "                                    interaction_constraints=None,\n",
       "                                    learning_rate=0.1, max_delta_step=None,\n",
       "                                    max_depth=3, min_child_weight=10,\n",
       "                                    missing=nan, monotone_constraints=None,\n",
       "                                    n_estimators=100, n_jobs=None,\n",
       "                                    num_parallel_tree=None, random_state=42,\n",
       "                                    reg_alpha=None, reg_lambda=1,\n",
       "                                    scale_pos_weight=None, subsample=0.8,\n",
       "                                    tree_method=None, validate_parameters=None,\n",
       "                                    verbosity=None),\n",
       "             param_grid={'learning_rate': [0.001, 0.01, 0.1, 0.5],\n",
       "                         'n_estimators': [800, 900, 1000, 1200, 1500, 1800,\n",
       "                                          2000]},\n",
       "             scoring='neg_mean_squared_error', verbose=1)"
      ]
     },
     "execution_count": 51,
     "metadata": {},
     "output_type": "execute_result"
    }
   ],
   "source": [
    "GridSearch_XGBoost (X_train_subset, X_test_subset, y_train, y_test, PC, parameters, param_grid, plot_error=False)"
   ]
  },
  {
   "cell_type": "code",
   "execution_count": null,
   "id": "60c68c94",
   "metadata": {},
   "outputs": [],
   "source": [
    "#pending"
   ]
  },
  {
   "cell_type": "markdown",
   "id": "35984986",
   "metadata": {},
   "source": [
    "### Testing"
   ]
  },
  {
   "cell_type": "code",
   "execution_count": 52,
   "id": "62f88846",
   "metadata": {},
   "outputs": [],
   "source": [
    "parameters={\n",
    "    'max_depth':3,\n",
    "    'n_estimators': 900,\n",
    "    'learning_rate':0.01,\n",
    "    'subsample':0.8,\n",
    "    'colsample_bytree':1,\n",
    "    'min_child_weight':10,\n",
    "    'gamma':0.2,\n",
    "    'reg_lambda':1,\n",
    "}"
   ]
  },
  {
   "cell_type": "code",
   "execution_count": 53,
   "id": "0f961ffa",
   "metadata": {},
   "outputs": [],
   "source": [
    "#modelling"
   ]
  },
  {
   "cell_type": "code",
   "execution_count": 56,
   "id": "c43621f7",
   "metadata": {},
   "outputs": [
    {
     "name": "stdout",
     "output_type": "stream",
     "text": [
      "power curve computation performed\n",
      "power curve computation performed\n",
      "Modelling errors for training set:\n",
      "Wind RMSE:  0.388 m/s as root mean\n",
      "Wind MAE:  0.289 m/s in avg\n",
      "Wind MAPE:  3.376 %\n",
      "Power RMSE:  175.902 kW as root mean\n",
      "Power MAE:  107.245 kW in avg\n",
      "Power MAPE:  7.602 %\n",
      "\n",
      "Modelling errors for test set:\n",
      "Wind RMSE:  0.436 m/s as root mean\n",
      "Wind MAE:  0.325 m/s in avg\n",
      "Wind MAPE:  3.834 %\n",
      "Power RMSE:  202.9 kW as root mean\n",
      "Power MAE:  126.323 kW in avg\n",
      "Power MAPE:  8.839 %\n",
      "\n",
      "\n",
      "Showing the results of the modelling: \n",
      "XGBoost modelling performed\n"
     ]
    }
   ],
   "source": [
    "model = modelling_XGBoost (X_train_subset, X_test_subset, y_train, y_test, PC, parameters, plot_error=False, plot=True)"
   ]
  },
  {
   "cell_type": "code",
   "execution_count": 57,
   "id": "c73801b0",
   "metadata": {},
   "outputs": [],
   "source": [
    "#testing"
   ]
  },
  {
   "cell_type": "code",
   "execution_count": 58,
   "id": "6b9a63b3",
   "metadata": {},
   "outputs": [
    {
     "name": "stdout",
     "output_type": "stream",
     "text": [
      "power curve computation performed\n",
      "power curve computation performed\n",
      "Modelling errors for training set:\n",
      "Wind RMSE:  0.388 m/s as root mean\n",
      "Wind MAE:  0.289 m/s in avg\n",
      "Wind MAPE:  3.376 %\n",
      "Power RMSE:  175.902 kW as root mean\n",
      "Power MAE:  107.245 kW in avg\n",
      "Power MAPE:  7.602 %\n",
      "\n",
      "Modelling errors for test set:\n",
      "Wind RMSE:  0.436 m/s as root mean\n",
      "Wind MAE:  0.325 m/s in avg\n",
      "Wind MAPE:  3.834 %\n",
      "Power RMSE:  202.9 kW as root mean\n",
      "Power MAE:  126.323 kW in avg\n",
      "Power MAPE:  8.839 %\n",
      "\n",
      "\n",
      "Showing the results of the modelling: \n",
      "XGBoost results performed\n"
     ]
    }
   ],
   "source": [
    "WS_pred=model_testing (X_train_subset, X_test_subset, y_train, y_test, PC, model, plot_error=False)"
   ]
  },
  {
   "cell_type": "code",
   "execution_count": 59,
   "id": "9b0e251c",
   "metadata": {},
   "outputs": [
    {
     "name": "stdout",
     "output_type": "stream",
     "text": [
      "file Subset1_XGB_WTG14.csv saved in \\Results_ folder\n"
     ]
    }
   ],
   "source": [
    "WS_pred=pd.DataFrame(WS_pred)\n",
    "save(WS_pred,'\\Results_','Subset1_XGB_WTG14.csv')"
   ]
  },
  {
   "cell_type": "code",
   "execution_count": null,
   "id": "4b7b0489",
   "metadata": {},
   "outputs": [],
   "source": []
  },
  {
   "cell_type": "markdown",
   "id": "597350d8",
   "metadata": {},
   "source": [
    "## Subset2"
   ]
  },
  {
   "cell_type": "code",
   "execution_count": 60,
   "id": "d1364eca",
   "metadata": {},
   "outputs": [],
   "source": [
    "X_train_subset=subset_selection(X_train, 2)\n",
    "X_test_subset=subset_selection(X_test, 2)"
   ]
  },
  {
   "cell_type": "code",
   "execution_count": 61,
   "id": "82708c0c",
   "metadata": {},
   "outputs": [
    {
     "data": {
      "text/html": [
       "<div>\n",
       "<style scoped>\n",
       "    .dataframe tbody tr th:only-of-type {\n",
       "        vertical-align: middle;\n",
       "    }\n",
       "\n",
       "    .dataframe tbody tr th {\n",
       "        vertical-align: top;\n",
       "    }\n",
       "\n",
       "    .dataframe thead th {\n",
       "        text-align: right;\n",
       "    }\n",
       "</style>\n",
       "<table border=\"1\" class=\"dataframe\">\n",
       "  <thead>\n",
       "    <tr style=\"text-align: right;\">\n",
       "      <th></th>\n",
       "      <th>WS1</th>\n",
       "      <th>tod</th>\n",
       "      <th>TI</th>\n",
       "      <th>WSHor</th>\n",
       "      <th>WSVer</th>\n",
       "      <th>WDHor</th>\n",
       "      <th>WDVer</th>\n",
       "    </tr>\n",
       "  </thead>\n",
       "  <tbody>\n",
       "    <tr>\n",
       "      <th>0</th>\n",
       "      <td>0.020975</td>\n",
       "      <td>1.000000</td>\n",
       "      <td>0.207488</td>\n",
       "      <td>0.029529</td>\n",
       "      <td>0.459364</td>\n",
       "      <td>0.053589</td>\n",
       "      <td>0.429742</td>\n",
       "    </tr>\n",
       "    <tr>\n",
       "      <th>1</th>\n",
       "      <td>0.065031</td>\n",
       "      <td>0.041958</td>\n",
       "      <td>0.124319</td>\n",
       "      <td>0.068877</td>\n",
       "      <td>0.321555</td>\n",
       "      <td>0.059900</td>\n",
       "      <td>0.275543</td>\n",
       "    </tr>\n",
       "    <tr>\n",
       "      <th>2</th>\n",
       "      <td>0.212434</td>\n",
       "      <td>0.006993</td>\n",
       "      <td>0.377173</td>\n",
       "      <td>0.216979</td>\n",
       "      <td>0.344857</td>\n",
       "      <td>0.909151</td>\n",
       "      <td>0.346802</td>\n",
       "    </tr>\n",
       "    <tr>\n",
       "      <th>3</th>\n",
       "      <td>0.871467</td>\n",
       "      <td>0.293706</td>\n",
       "      <td>0.202202</td>\n",
       "      <td>0.874755</td>\n",
       "      <td>0.500812</td>\n",
       "      <td>0.706084</td>\n",
       "      <td>0.448942</td>\n",
       "    </tr>\n",
       "    <tr>\n",
       "      <th>4</th>\n",
       "      <td>0.324850</td>\n",
       "      <td>0.762238</td>\n",
       "      <td>0.344330</td>\n",
       "      <td>0.332251</td>\n",
       "      <td>0.495464</td>\n",
       "      <td>0.804627</td>\n",
       "      <td>0.465200</td>\n",
       "    </tr>\n",
       "    <tr>\n",
       "      <th>...</th>\n",
       "      <td>...</td>\n",
       "      <td>...</td>\n",
       "      <td>...</td>\n",
       "      <td>...</td>\n",
       "      <td>...</td>\n",
       "      <td>...</td>\n",
       "      <td>...</td>\n",
       "    </tr>\n",
       "    <tr>\n",
       "      <th>3041</th>\n",
       "      <td>0.534532</td>\n",
       "      <td>0.419580</td>\n",
       "      <td>0.371217</td>\n",
       "      <td>0.544557</td>\n",
       "      <td>0.352688</td>\n",
       "      <td>0.702762</td>\n",
       "      <td>0.403211</td>\n",
       "    </tr>\n",
       "    <tr>\n",
       "      <th>3042</th>\n",
       "      <td>0.357270</td>\n",
       "      <td>0.874126</td>\n",
       "      <td>0.231236</td>\n",
       "      <td>0.368119</td>\n",
       "      <td>0.350110</td>\n",
       "      <td>0.402231</td>\n",
       "      <td>0.362418</td>\n",
       "    </tr>\n",
       "    <tr>\n",
       "      <th>3043</th>\n",
       "      <td>0.431474</td>\n",
       "      <td>0.867133</td>\n",
       "      <td>0.232592</td>\n",
       "      <td>0.442114</td>\n",
       "      <td>0.389075</td>\n",
       "      <td>0.667303</td>\n",
       "      <td>0.398147</td>\n",
       "    </tr>\n",
       "    <tr>\n",
       "      <th>3044</th>\n",
       "      <td>0.644727</td>\n",
       "      <td>0.993007</td>\n",
       "      <td>0.095348</td>\n",
       "      <td>0.641298</td>\n",
       "      <td>0.680546</td>\n",
       "      <td>0.961800</td>\n",
       "      <td>0.525524</td>\n",
       "    </tr>\n",
       "    <tr>\n",
       "      <th>3045</th>\n",
       "      <td>0.270322</td>\n",
       "      <td>0.713287</td>\n",
       "      <td>0.369781</td>\n",
       "      <td>0.277896</td>\n",
       "      <td>0.568905</td>\n",
       "      <td>0.783064</td>\n",
       "      <td>0.521445</td>\n",
       "    </tr>\n",
       "  </tbody>\n",
       "</table>\n",
       "<p>3046 rows × 7 columns</p>\n",
       "</div>"
      ],
      "text/plain": [
       "           WS1       tod        TI     WSHor     WSVer     WDHor     WDVer\n",
       "0     0.020975  1.000000  0.207488  0.029529  0.459364  0.053589  0.429742\n",
       "1     0.065031  0.041958  0.124319  0.068877  0.321555  0.059900  0.275543\n",
       "2     0.212434  0.006993  0.377173  0.216979  0.344857  0.909151  0.346802\n",
       "3     0.871467  0.293706  0.202202  0.874755  0.500812  0.706084  0.448942\n",
       "4     0.324850  0.762238  0.344330  0.332251  0.495464  0.804627  0.465200\n",
       "...        ...       ...       ...       ...       ...       ...       ...\n",
       "3041  0.534532  0.419580  0.371217  0.544557  0.352688  0.702762  0.403211\n",
       "3042  0.357270  0.874126  0.231236  0.368119  0.350110  0.402231  0.362418\n",
       "3043  0.431474  0.867133  0.232592  0.442114  0.389075  0.667303  0.398147\n",
       "3044  0.644727  0.993007  0.095348  0.641298  0.680546  0.961800  0.525524\n",
       "3045  0.270322  0.713287  0.369781  0.277896  0.568905  0.783064  0.521445\n",
       "\n",
       "[3046 rows x 7 columns]"
      ]
     },
     "execution_count": 61,
     "metadata": {},
     "output_type": "execute_result"
    }
   ],
   "source": [
    "X_train_subset"
   ]
  },
  {
   "cell_type": "markdown",
   "id": "8de6140e",
   "metadata": {},
   "source": [
    "### Grid Search"
   ]
  },
  {
   "cell_type": "code",
   "execution_count": 62,
   "id": "17728f1a",
   "metadata": {},
   "outputs": [],
   "source": [
    "parameters={\n",
    "    'max_depth':5,\n",
    "    'n_estimators': 1000,\n",
    "    'learning_rate':0.1,\n",
    "    'subsample':0.8,\n",
    "    'colsample_bytree':0.8,\n",
    "    'min_child_weight':1,\n",
    "    'gamma':0,\n",
    "    'reg_lambda':1,\n",
    "}"
   ]
  },
  {
   "cell_type": "code",
   "execution_count": 63,
   "id": "e26d27c8",
   "metadata": {},
   "outputs": [],
   "source": [
    "param_grid={\n",
    "    'n_estimators': [100, 200, 300, 400, 500, 600, 700, 800, 900, 1000],\n",
    "}"
   ]
  },
  {
   "cell_type": "code",
   "execution_count": 64,
   "id": "588317ae",
   "metadata": {
    "scrolled": true
   },
   "outputs": [
    {
     "name": "stdout",
     "output_type": "stream",
     "text": [
      "Fitting 4 folds for each of 10 candidates, totalling 40 fits\n",
      "\n",
      "Best parameters :\n",
      "{'n_estimators': 200}\n",
      "\n",
      "power curve computation performed\n",
      "power curve computation performed\n",
      "Modelling errors for training set:\n",
      "Wind RMSE:  0.202 m/s as root mean\n",
      "Wind MAE:  0.156 m/s in avg\n",
      "Wind MAPE:  1.822 %\n",
      "Power RMSE:  95.332 kW as root mean\n",
      "Power MAE:  59.681 kW in avg\n",
      "Power MAPE:  4.046 %\n",
      "\n",
      "Modelling errors for test set:\n",
      "Wind RMSE:  0.363 m/s as root mean\n",
      "Wind MAE:  0.275 m/s in avg\n",
      "Wind MAPE:  3.275 %\n",
      "Power RMSE:  172.116 kW as root mean\n",
      "Power MAE:  108.18 kW in avg\n",
      "Power MAPE:  7.617 %\n",
      "\n",
      "\n",
      "Showing the results of the modelling: \n",
      "GridSearch_ XGBoost performed\n",
      "--- 1.196300486723582 minutes ---\n",
      "\n",
      "Lowest RMSE:  0.36201385215579185\n"
     ]
    },
    {
     "data": {
      "text/plain": [
       "GridSearchCV(cv=4,\n",
       "             estimator=XGBRegressor(base_score=None, booster='gbtree',\n",
       "                                    colsample_bylevel=None,\n",
       "                                    colsample_bynode=None, colsample_bytree=0.8,\n",
       "                                    gamma=0, gpu_id=None,\n",
       "                                    importance_type='gain',\n",
       "                                    interaction_constraints=None,\n",
       "                                    learning_rate=0.1, max_delta_step=None,\n",
       "                                    max_depth=5, min_child_weight=1,\n",
       "                                    missing=nan, monotone_constraints=None,\n",
       "                                    n_estimators=1000, n_jobs=None,\n",
       "                                    num_parallel_tree=None, random_state=42,\n",
       "                                    reg_alpha=None, reg_lambda=1,\n",
       "                                    scale_pos_weight=None, subsample=0.8,\n",
       "                                    tree_method=None, validate_parameters=None,\n",
       "                                    verbosity=None),\n",
       "             param_grid={'n_estimators': [100, 200, 300, 400, 500, 600, 700,\n",
       "                                          800, 900, 1000]},\n",
       "             scoring='neg_mean_squared_error', verbose=1)"
      ]
     },
     "execution_count": 64,
     "metadata": {},
     "output_type": "execute_result"
    }
   ],
   "source": [
    "GridSearch_XGBoost (X_train_subset, X_test_subset, y_train, y_test, PC, parameters, param_grid, plot_error=False)"
   ]
  },
  {
   "cell_type": "code",
   "execution_count": 65,
   "id": "9b4e34da",
   "metadata": {},
   "outputs": [],
   "source": [
    "parameters={\n",
    "    'max_depth':5,\n",
    "    'n_estimators': 200,\n",
    "    'learning_rate':0.1,\n",
    "    'subsample':0.8,\n",
    "    'colsample_bytree':0.8,\n",
    "    'min_child_weight':1,\n",
    "    'gamma':0,\n",
    "    'reg_lambda':1,\n",
    "}"
   ]
  },
  {
   "cell_type": "code",
   "execution_count": 66,
   "id": "c14f9efa",
   "metadata": {},
   "outputs": [],
   "source": [
    "param_grid={\n",
    "    'max_depth': [3, 4, 5, 6, 10, 15, 20],\n",
    "    'min_child_weight': [1, 2, 3, 6, 10]\n",
    "}"
   ]
  },
  {
   "cell_type": "code",
   "execution_count": 67,
   "id": "aebc1f24",
   "metadata": {
    "scrolled": true
   },
   "outputs": [
    {
     "name": "stdout",
     "output_type": "stream",
     "text": [
      "Fitting 4 folds for each of 35 candidates, totalling 140 fits\n",
      "\n",
      "Best parameters :\n",
      "{'max_depth': 6, 'min_child_weight': 6}\n",
      "\n",
      "power curve computation performed\n",
      "power curve computation performed\n",
      "Modelling errors for training set:\n",
      "Wind RMSE:  0.178 m/s as root mean\n",
      "Wind MAE:  0.135 m/s in avg\n",
      "Wind MAPE:  1.582 %\n",
      "Power RMSE:  83.797 kW as root mean\n",
      "Power MAE:  51.678 kW in avg\n",
      "Power MAPE:  3.508 %\n",
      "\n",
      "Modelling errors for test set:\n",
      "Wind RMSE:  0.365 m/s as root mean\n",
      "Wind MAE:  0.279 m/s in avg\n",
      "Wind MAPE:  3.348 %\n",
      "Power RMSE:  174.2 kW as root mean\n",
      "Power MAE:  110.535 kW in avg\n",
      "Power MAPE:  7.894 %\n",
      "\n",
      "\n",
      "Showing the results of the modelling: \n",
      "GridSearch_ XGBoost performed\n",
      "--- 2.674429643154144 minutes ---\n",
      "\n",
      "Lowest RMSE:  0.35927799143104017\n"
     ]
    },
    {
     "data": {
      "text/plain": [
       "GridSearchCV(cv=4,\n",
       "             estimator=XGBRegressor(base_score=None, booster='gbtree',\n",
       "                                    colsample_bylevel=None,\n",
       "                                    colsample_bynode=None, colsample_bytree=0.8,\n",
       "                                    gamma=0, gpu_id=None,\n",
       "                                    importance_type='gain',\n",
       "                                    interaction_constraints=None,\n",
       "                                    learning_rate=0.1, max_delta_step=None,\n",
       "                                    max_depth=5, min_child_weight=1,\n",
       "                                    missing=nan, monotone_constraints=None,\n",
       "                                    n_estimators=200, n_jobs=None,\n",
       "                                    num_parallel_tree=None, random_state=42,\n",
       "                                    reg_alpha=None, reg_lambda=1,\n",
       "                                    scale_pos_weight=None, subsample=0.8,\n",
       "                                    tree_method=None, validate_parameters=None,\n",
       "                                    verbosity=None),\n",
       "             param_grid={'max_depth': [3, 4, 5, 6, 10, 15, 20],\n",
       "                         'min_child_weight': [1, 2, 3, 6, 10]},\n",
       "             scoring='neg_mean_squared_error', verbose=1)"
      ]
     },
     "execution_count": 67,
     "metadata": {},
     "output_type": "execute_result"
    }
   ],
   "source": [
    "GridSearch_XGBoost (X_train_subset, X_test_subset, y_train, y_test, PC, parameters, param_grid, plot_error=False)"
   ]
  },
  {
   "cell_type": "code",
   "execution_count": 68,
   "id": "b3308dfa",
   "metadata": {},
   "outputs": [],
   "source": [
    "parameters={\n",
    "    'max_depth':6,\n",
    "    'n_estimators': 200,\n",
    "    'learning_rate':0.1,\n",
    "    'subsample':0.8,\n",
    "    'colsample_bytree':0.8,\n",
    "    'min_child_weight':6,\n",
    "    'gamma':0,\n",
    "    'reg_lambda':1,\n",
    "}"
   ]
  },
  {
   "cell_type": "code",
   "execution_count": 69,
   "id": "c706bd34",
   "metadata": {},
   "outputs": [],
   "source": [
    "param_grid={\n",
    "    'gamma': [0, 0.1, 0.2, 0.3, 0.4, 0.5]\n",
    "}"
   ]
  },
  {
   "cell_type": "code",
   "execution_count": 70,
   "id": "c5d17d96",
   "metadata": {
    "scrolled": true
   },
   "outputs": [
    {
     "name": "stdout",
     "output_type": "stream",
     "text": [
      "Fitting 4 folds for each of 6 candidates, totalling 24 fits\n",
      "\n",
      "Best parameters :\n",
      "{'gamma': 0}\n",
      "\n",
      "power curve computation performed\n",
      "power curve computation performed\n",
      "Modelling errors for training set:\n",
      "Wind RMSE:  0.178 m/s as root mean\n",
      "Wind MAE:  0.135 m/s in avg\n",
      "Wind MAPE:  1.582 %\n",
      "Power RMSE:  83.797 kW as root mean\n",
      "Power MAE:  51.678 kW in avg\n",
      "Power MAPE:  3.508 %\n",
      "\n",
      "Modelling errors for test set:\n",
      "Wind RMSE:  0.365 m/s as root mean\n",
      "Wind MAE:  0.279 m/s in avg\n",
      "Wind MAPE:  3.348 %\n",
      "Power RMSE:  174.2 kW as root mean\n",
      "Power MAE:  110.535 kW in avg\n",
      "Power MAPE:  7.894 %\n",
      "\n",
      "\n",
      "Showing the results of the modelling: \n",
      "GridSearch_ XGBoost performed\n",
      "--- 0.274212646484375 minutes ---\n",
      "\n",
      "Lowest RMSE:  0.35927799143104017\n"
     ]
    },
    {
     "data": {
      "text/plain": [
       "GridSearchCV(cv=4,\n",
       "             estimator=XGBRegressor(base_score=None, booster='gbtree',\n",
       "                                    colsample_bylevel=None,\n",
       "                                    colsample_bynode=None, colsample_bytree=0.8,\n",
       "                                    gamma=0, gpu_id=None,\n",
       "                                    importance_type='gain',\n",
       "                                    interaction_constraints=None,\n",
       "                                    learning_rate=0.1, max_delta_step=None,\n",
       "                                    max_depth=6, min_child_weight=6,\n",
       "                                    missing=nan, monotone_constraints=None,\n",
       "                                    n_estimators=200, n_jobs=None,\n",
       "                                    num_parallel_tree=None, random_state=42,\n",
       "                                    reg_alpha=None, reg_lambda=1,\n",
       "                                    scale_pos_weight=None, subsample=0.8,\n",
       "                                    tree_method=None, validate_parameters=None,\n",
       "                                    verbosity=None),\n",
       "             param_grid={'gamma': [0, 0.1, 0.2, 0.3, 0.4, 0.5]},\n",
       "             scoring='neg_mean_squared_error', verbose=1)"
      ]
     },
     "execution_count": 70,
     "metadata": {},
     "output_type": "execute_result"
    }
   ],
   "source": [
    "GridSearch_XGBoost (X_train_subset, X_test_subset, y_train, y_test, PC, parameters, param_grid, plot_error=False)"
   ]
  },
  {
   "cell_type": "code",
   "execution_count": 72,
   "id": "79d0ef76",
   "metadata": {},
   "outputs": [],
   "source": [
    "parameters={\n",
    "    'max_depth':6,\n",
    "    'n_estimators': 200,\n",
    "    'learning_rate':0.1,\n",
    "    'subsample':0.8,\n",
    "    'colsample_bytree':0.8,\n",
    "    'min_child_weight':6,\n",
    "    'gamma':0,\n",
    "    'reg_lambda':1,\n",
    "}"
   ]
  },
  {
   "cell_type": "code",
   "execution_count": 73,
   "id": "b81a09de",
   "metadata": {},
   "outputs": [],
   "source": [
    "param_grid={\n",
    "    'subsample': [0.4, 0.5, 0.6, 0.7, 0.8, 0.9, 1],\n",
    "    'colsample_bytree': [0.4, 0.5, 0.6, 0.7, 0.8, 0.9, 1]\n",
    "}"
   ]
  },
  {
   "cell_type": "code",
   "execution_count": 74,
   "id": "f3213d3f",
   "metadata": {
    "scrolled": true
   },
   "outputs": [
    {
     "name": "stdout",
     "output_type": "stream",
     "text": [
      "Fitting 4 folds for each of 49 candidates, totalling 196 fits\n",
      "\n",
      "Best parameters :\n",
      "{'colsample_bytree': 1, 'subsample': 0.8}\n",
      "\n",
      "power curve computation performed\n",
      "power curve computation performed\n",
      "Modelling errors for training set:\n",
      "Wind RMSE:  0.172 m/s as root mean\n",
      "Wind MAE:  0.132 m/s in avg\n",
      "Wind MAPE:  1.548 %\n",
      "Power RMSE:  82.674 kW as root mean\n",
      "Power MAE:  51.721 kW in avg\n",
      "Power MAPE:  3.459 %\n",
      "\n",
      "Modelling errors for test set:\n",
      "Wind RMSE:  0.363 m/s as root mean\n",
      "Wind MAE:  0.273 m/s in avg\n",
      "Wind MAPE:  3.282 %\n",
      "Power RMSE:  173.789 kW as root mean\n",
      "Power MAE:  108.927 kW in avg\n",
      "Power MAPE:  7.761 %\n",
      "\n",
      "\n",
      "Showing the results of the modelling: \n",
      "GridSearch_ XGBoost performed\n",
      "--- 2.0495995124181112 minutes ---\n",
      "\n",
      "Lowest RMSE:  0.3572764464135117\n"
     ]
    },
    {
     "data": {
      "text/plain": [
       "GridSearchCV(cv=4,\n",
       "             estimator=XGBRegressor(base_score=None, booster='gbtree',\n",
       "                                    colsample_bylevel=None,\n",
       "                                    colsample_bynode=None, colsample_bytree=0.8,\n",
       "                                    gamma=0, gpu_id=None,\n",
       "                                    importance_type='gain',\n",
       "                                    interaction_constraints=None,\n",
       "                                    learning_rate=0.1, max_delta_step=None,\n",
       "                                    max_depth=6, min_child_weight=6,\n",
       "                                    missing=nan, monotone_constraints=None,\n",
       "                                    n_estimators=200, n_jobs=None,\n",
       "                                    num_parallel_tree=None, random_state=42,\n",
       "                                    reg_alpha=None, reg_lambda=1,\n",
       "                                    scale_pos_weight=None, subsample=0.8,\n",
       "                                    tree_method=None, validate_parameters=None,\n",
       "                                    verbosity=None),\n",
       "             param_grid={'colsample_bytree': [0.4, 0.5, 0.6, 0.7, 0.8, 0.9, 1],\n",
       "                         'subsample': [0.4, 0.5, 0.6, 0.7, 0.8, 0.9, 1]},\n",
       "             scoring='neg_mean_squared_error', verbose=1)"
      ]
     },
     "execution_count": 74,
     "metadata": {},
     "output_type": "execute_result"
    }
   ],
   "source": [
    "GridSearch_XGBoost (X_train_subset, X_test_subset, y_train, y_test, PC, parameters, param_grid, plot_error=False)"
   ]
  },
  {
   "cell_type": "code",
   "execution_count": 75,
   "id": "adb17073",
   "metadata": {},
   "outputs": [],
   "source": [
    "parameters={\n",
    "    'max_depth':6,\n",
    "    'n_estimators': 200,\n",
    "    'learning_rate':0.1,\n",
    "    'subsample':0.8,\n",
    "    'colsample_bytree':1,\n",
    "    'min_child_weight':6,\n",
    "    'gamma':0,\n",
    "    'reg_lambda':1,\n",
    "}"
   ]
  },
  {
   "cell_type": "code",
   "execution_count": 76,
   "id": "1666c31b",
   "metadata": {},
   "outputs": [],
   "source": [
    "param_grid={\n",
    "    'reg_lambda': [1, 10, 50, 100, 150]\n",
    "}"
   ]
  },
  {
   "cell_type": "code",
   "execution_count": 77,
   "id": "d89db6f1",
   "metadata": {
    "scrolled": true
   },
   "outputs": [
    {
     "name": "stdout",
     "output_type": "stream",
     "text": [
      "Fitting 4 folds for each of 5 candidates, totalling 20 fits\n",
      "\n",
      "Best parameters :\n",
      "{'reg_lambda': 1}\n",
      "\n",
      "power curve computation performed\n",
      "power curve computation performed\n",
      "Modelling errors for training set:\n",
      "Wind RMSE:  0.172 m/s as root mean\n",
      "Wind MAE:  0.132 m/s in avg\n",
      "Wind MAPE:  1.548 %\n",
      "Power RMSE:  82.674 kW as root mean\n",
      "Power MAE:  51.721 kW in avg\n",
      "Power MAPE:  3.459 %\n",
      "\n",
      "Modelling errors for test set:\n",
      "Wind RMSE:  0.363 m/s as root mean\n",
      "Wind MAE:  0.273 m/s in avg\n",
      "Wind MAPE:  3.282 %\n",
      "Power RMSE:  173.789 kW as root mean\n",
      "Power MAE:  108.927 kW in avg\n",
      "Power MAPE:  7.761 %\n",
      "\n",
      "\n",
      "Showing the results of the modelling: \n",
      "GridSearch_ XGBoost performed\n",
      "--- 0.3472219189008077 minutes ---\n",
      "\n",
      "Lowest RMSE:  0.3572764464135117\n"
     ]
    },
    {
     "data": {
      "text/plain": [
       "GridSearchCV(cv=4,\n",
       "             estimator=XGBRegressor(base_score=None, booster='gbtree',\n",
       "                                    colsample_bylevel=None,\n",
       "                                    colsample_bynode=None, colsample_bytree=1,\n",
       "                                    gamma=0, gpu_id=None,\n",
       "                                    importance_type='gain',\n",
       "                                    interaction_constraints=None,\n",
       "                                    learning_rate=0.1, max_delta_step=None,\n",
       "                                    max_depth=6, min_child_weight=6,\n",
       "                                    missing=nan, monotone_constraints=None,\n",
       "                                    n_estimators=200, n_jobs=None,\n",
       "                                    num_parallel_tree=None, random_state=42,\n",
       "                                    reg_alpha=None, reg_lambda=1,\n",
       "                                    scale_pos_weight=None, subsample=0.8,\n",
       "                                    tree_method=None, validate_parameters=None,\n",
       "                                    verbosity=None),\n",
       "             param_grid={'reg_lambda': [1, 10, 50, 100, 150]},\n",
       "             scoring='neg_mean_squared_error', verbose=1)"
      ]
     },
     "execution_count": 77,
     "metadata": {},
     "output_type": "execute_result"
    }
   ],
   "source": [
    "GridSearch_XGBoost (X_train_subset, X_test_subset, y_train, y_test, PC, parameters, param_grid, plot_error=False)"
   ]
  },
  {
   "cell_type": "code",
   "execution_count": 78,
   "id": "c7f3f8ce",
   "metadata": {},
   "outputs": [],
   "source": [
    "parameters={\n",
    "    'max_depth':6,\n",
    "    'n_estimators': 200,\n",
    "    'learning_rate':0.1,\n",
    "    'subsample':0.8,\n",
    "    'colsample_bytree':1,\n",
    "    'min_child_weight':6,\n",
    "    'gamma':0,\n",
    "    'reg_lambda':1,\n",
    "}"
   ]
  },
  {
   "cell_type": "code",
   "execution_count": 79,
   "id": "8744a691",
   "metadata": {},
   "outputs": [],
   "source": [
    "param_grid={\n",
    "    'learning_rate': [0.001, 0.01, 0.1, 0.5],\n",
    "    'n_estimators': [800, 900, 1000, 1200, 1500, 1800, 2000]\n",
    "}"
   ]
  },
  {
   "cell_type": "code",
   "execution_count": 80,
   "id": "569c6a54",
   "metadata": {
    "scrolled": true
   },
   "outputs": [
    {
     "name": "stdout",
     "output_type": "stream",
     "text": [
      "Fitting 4 folds for each of 28 candidates, totalling 112 fits\n",
      "\n",
      "Best parameters :\n",
      "{'learning_rate': 0.01, 'n_estimators': 1800}\n",
      "\n",
      "power curve computation performed\n",
      "power curve computation performed\n",
      "Modelling errors for training set:\n",
      "Wind RMSE:  0.175 m/s as root mean\n",
      "Wind MAE:  0.134 m/s in avg\n",
      "Wind MAPE:  1.566 %\n",
      "Power RMSE:  83.527 kW as root mean\n",
      "Power MAE:  51.886 kW in avg\n",
      "Power MAPE:  3.502 %\n",
      "\n",
      "Modelling errors for test set:\n",
      "Wind RMSE:  0.36 m/s as root mean\n",
      "Wind MAE:  0.273 m/s in avg\n",
      "Wind MAPE:  3.273 %\n",
      "Power RMSE:  173.229 kW as root mean\n",
      "Power MAE:  108.63 kW in avg\n",
      "Power MAPE:  7.729 %\n",
      "\n",
      "\n",
      "Showing the results of the modelling: \n",
      "GridSearch_ XGBoost performed\n",
      "--- 15.248723193009694 minutes ---\n",
      "\n",
      "Lowest RMSE:  0.35275409737429886\n"
     ]
    },
    {
     "data": {
      "text/plain": [
       "GridSearchCV(cv=4,\n",
       "             estimator=XGBRegressor(base_score=None, booster='gbtree',\n",
       "                                    colsample_bylevel=None,\n",
       "                                    colsample_bynode=None, colsample_bytree=1,\n",
       "                                    gamma=0, gpu_id=None,\n",
       "                                    importance_type='gain',\n",
       "                                    interaction_constraints=None,\n",
       "                                    learning_rate=0.1, max_delta_step=None,\n",
       "                                    max_depth=6, min_child_weight=6,\n",
       "                                    missing=nan, monotone_constraints=None,\n",
       "                                    n_estimators=200, n_jobs=None,\n",
       "                                    num_parallel_tree=None, random_state=42,\n",
       "                                    reg_alpha=None, reg_lambda=1,\n",
       "                                    scale_pos_weight=None, subsample=0.8,\n",
       "                                    tree_method=None, validate_parameters=None,\n",
       "                                    verbosity=None),\n",
       "             param_grid={'learning_rate': [0.001, 0.01, 0.1, 0.5],\n",
       "                         'n_estimators': [800, 900, 1000, 1200, 1500, 1800,\n",
       "                                          2000]},\n",
       "             scoring='neg_mean_squared_error', verbose=1)"
      ]
     },
     "execution_count": 80,
     "metadata": {},
     "output_type": "execute_result"
    }
   ],
   "source": [
    "GridSearch_XGBoost (X_train_subset, X_test_subset, y_train, y_test, PC, parameters, param_grid, plot_error=False)"
   ]
  },
  {
   "cell_type": "markdown",
   "id": "c91f703e",
   "metadata": {},
   "source": [
    "### Testing"
   ]
  },
  {
   "cell_type": "code",
   "execution_count": 81,
   "id": "ea36b126",
   "metadata": {},
   "outputs": [],
   "source": [
    "parameters={\n",
    "    'max_depth':6,\n",
    "    'n_estimators': 1800,\n",
    "    'learning_rate':0.01,\n",
    "    'subsample':0.8,\n",
    "    'colsample_bytree':1,\n",
    "    'min_child_weight':6,\n",
    "    'gamma':0,\n",
    "    'reg_lambda':1,\n",
    "}"
   ]
  },
  {
   "cell_type": "code",
   "execution_count": 82,
   "id": "8d36651a",
   "metadata": {},
   "outputs": [],
   "source": [
    "#modelling"
   ]
  },
  {
   "cell_type": "code",
   "execution_count": 83,
   "id": "a9df66ac",
   "metadata": {},
   "outputs": [
    {
     "name": "stdout",
     "output_type": "stream",
     "text": [
      "power curve computation performed\n",
      "power curve computation performed\n",
      "Modelling errors for training set:\n",
      "Wind RMSE:  0.175 m/s as root mean\n",
      "Wind MAE:  0.134 m/s in avg\n",
      "Wind MAPE:  1.566 %\n",
      "Power RMSE:  83.527 kW as root mean\n",
      "Power MAE:  51.886 kW in avg\n",
      "Power MAPE:  3.502 %\n",
      "\n",
      "Modelling errors for test set:\n",
      "Wind RMSE:  0.36 m/s as root mean\n",
      "Wind MAE:  0.273 m/s in avg\n",
      "Wind MAPE:  3.273 %\n",
      "Power RMSE:  173.229 kW as root mean\n",
      "Power MAE:  108.63 kW in avg\n",
      "Power MAPE:  7.729 %\n",
      "\n",
      "\n",
      "Showing the results of the modelling: \n",
      "XGBoost modelling performed\n"
     ]
    }
   ],
   "source": [
    "model = modelling_XGBoost (X_train_subset, X_test_subset, y_train, y_test, PC, parameters, plot_error=False, plot=True)"
   ]
  },
  {
   "cell_type": "code",
   "execution_count": 84,
   "id": "859f0f3b",
   "metadata": {},
   "outputs": [],
   "source": [
    "#testing"
   ]
  },
  {
   "cell_type": "code",
   "execution_count": 85,
   "id": "f6250aaf",
   "metadata": {},
   "outputs": [
    {
     "name": "stdout",
     "output_type": "stream",
     "text": [
      "power curve computation performed\n",
      "power curve computation performed\n",
      "Modelling errors for training set:\n",
      "Wind RMSE:  0.175 m/s as root mean\n",
      "Wind MAE:  0.134 m/s in avg\n",
      "Wind MAPE:  1.566 %\n",
      "Power RMSE:  83.527 kW as root mean\n",
      "Power MAE:  51.886 kW in avg\n",
      "Power MAPE:  3.502 %\n",
      "\n",
      "Modelling errors for test set:\n",
      "Wind RMSE:  0.36 m/s as root mean\n",
      "Wind MAE:  0.273 m/s in avg\n",
      "Wind MAPE:  3.273 %\n",
      "Power RMSE:  173.229 kW as root mean\n",
      "Power MAE:  108.63 kW in avg\n",
      "Power MAPE:  7.729 %\n",
      "\n",
      "\n",
      "Showing the results of the modelling: \n",
      "XGBoost results performed\n"
     ]
    }
   ],
   "source": [
    "WS_pred=model_testing (X_train_subset, X_test_subset, y_train, y_test, PC, model, plot_error=False)"
   ]
  },
  {
   "cell_type": "code",
   "execution_count": 86,
   "id": "a69aad87",
   "metadata": {},
   "outputs": [
    {
     "name": "stdout",
     "output_type": "stream",
     "text": [
      "file Subset2_XGB_WTG14.csv saved in \\Results_ folder\n"
     ]
    }
   ],
   "source": [
    "WS_pred=pd.DataFrame(WS_pred)\n",
    "save(WS_pred,'\\Results_','Subset2_XGB_WTG14.csv')"
   ]
  },
  {
   "cell_type": "code",
   "execution_count": null,
   "id": "86a041fe",
   "metadata": {},
   "outputs": [],
   "source": []
  },
  {
   "cell_type": "markdown",
   "id": "77b34b38",
   "metadata": {},
   "source": [
    "## Subset3"
   ]
  },
  {
   "cell_type": "code",
   "execution_count": 87,
   "id": "3d0d0c1b",
   "metadata": {},
   "outputs": [],
   "source": [
    "X_train_subset=subset_selection(X_train, 3)\n",
    "X_test_subset=subset_selection(X_test, 3)"
   ]
  },
  {
   "cell_type": "code",
   "execution_count": 88,
   "id": "02cbe2a1",
   "metadata": {},
   "outputs": [
    {
     "data": {
      "text/html": [
       "<div>\n",
       "<style scoped>\n",
       "    .dataframe tbody tr th:only-of-type {\n",
       "        vertical-align: middle;\n",
       "    }\n",
       "\n",
       "    .dataframe tbody tr th {\n",
       "        vertical-align: top;\n",
       "    }\n",
       "\n",
       "    .dataframe thead th {\n",
       "        text-align: right;\n",
       "    }\n",
       "</style>\n",
       "<table border=\"1\" class=\"dataframe\">\n",
       "  <thead>\n",
       "    <tr style=\"text-align: right;\">\n",
       "      <th></th>\n",
       "      <th>WS1</th>\n",
       "      <th>tod</th>\n",
       "      <th>TI</th>\n",
       "      <th>WSHor</th>\n",
       "      <th>WSVer</th>\n",
       "      <th>WDHor</th>\n",
       "      <th>WDVer</th>\n",
       "      <th>WS4</th>\n",
       "      <th>WSH</th>\n",
       "    </tr>\n",
       "  </thead>\n",
       "  <tbody>\n",
       "    <tr>\n",
       "      <th>0</th>\n",
       "      <td>0.020975</td>\n",
       "      <td>1.000000</td>\n",
       "      <td>0.207488</td>\n",
       "      <td>0.029529</td>\n",
       "      <td>0.459364</td>\n",
       "      <td>0.053589</td>\n",
       "      <td>0.429742</td>\n",
       "      <td>0.100394</td>\n",
       "      <td>0.439725</td>\n",
       "    </tr>\n",
       "    <tr>\n",
       "      <th>1</th>\n",
       "      <td>0.065031</td>\n",
       "      <td>0.041958</td>\n",
       "      <td>0.124319</td>\n",
       "      <td>0.068877</td>\n",
       "      <td>0.321555</td>\n",
       "      <td>0.059900</td>\n",
       "      <td>0.275543</td>\n",
       "      <td>0.163620</td>\n",
       "      <td>0.345484</td>\n",
       "    </tr>\n",
       "    <tr>\n",
       "      <th>2</th>\n",
       "      <td>0.212434</td>\n",
       "      <td>0.006993</td>\n",
       "      <td>0.377173</td>\n",
       "      <td>0.216979</td>\n",
       "      <td>0.344857</td>\n",
       "      <td>0.909151</td>\n",
       "      <td>0.346802</td>\n",
       "      <td>0.292307</td>\n",
       "      <td>0.340846</td>\n",
       "    </tr>\n",
       "    <tr>\n",
       "      <th>3</th>\n",
       "      <td>0.871467</td>\n",
       "      <td>0.293706</td>\n",
       "      <td>0.202202</td>\n",
       "      <td>0.874755</td>\n",
       "      <td>0.500812</td>\n",
       "      <td>0.706084</td>\n",
       "      <td>0.448942</td>\n",
       "      <td>0.871817</td>\n",
       "      <td>0.329727</td>\n",
       "    </tr>\n",
       "    <tr>\n",
       "      <th>4</th>\n",
       "      <td>0.324850</td>\n",
       "      <td>0.762238</td>\n",
       "      <td>0.344330</td>\n",
       "      <td>0.332251</td>\n",
       "      <td>0.495464</td>\n",
       "      <td>0.804627</td>\n",
       "      <td>0.465200</td>\n",
       "      <td>0.470751</td>\n",
       "      <td>0.195611</td>\n",
       "    </tr>\n",
       "    <tr>\n",
       "      <th>...</th>\n",
       "      <td>...</td>\n",
       "      <td>...</td>\n",
       "      <td>...</td>\n",
       "      <td>...</td>\n",
       "      <td>...</td>\n",
       "      <td>...</td>\n",
       "      <td>...</td>\n",
       "      <td>...</td>\n",
       "      <td>...</td>\n",
       "    </tr>\n",
       "    <tr>\n",
       "      <th>3041</th>\n",
       "      <td>0.534532</td>\n",
       "      <td>0.419580</td>\n",
       "      <td>0.371217</td>\n",
       "      <td>0.544557</td>\n",
       "      <td>0.352688</td>\n",
       "      <td>0.702762</td>\n",
       "      <td>0.403211</td>\n",
       "      <td>0.695452</td>\n",
       "      <td>0.173290</td>\n",
       "    </tr>\n",
       "    <tr>\n",
       "      <th>3042</th>\n",
       "      <td>0.357270</td>\n",
       "      <td>0.874126</td>\n",
       "      <td>0.231236</td>\n",
       "      <td>0.368119</td>\n",
       "      <td>0.350110</td>\n",
       "      <td>0.402231</td>\n",
       "      <td>0.362418</td>\n",
       "      <td>0.396343</td>\n",
       "      <td>0.379675</td>\n",
       "    </tr>\n",
       "    <tr>\n",
       "      <th>3043</th>\n",
       "      <td>0.431474</td>\n",
       "      <td>0.867133</td>\n",
       "      <td>0.232592</td>\n",
       "      <td>0.442114</td>\n",
       "      <td>0.389075</td>\n",
       "      <td>0.667303</td>\n",
       "      <td>0.398147</td>\n",
       "      <td>0.454500</td>\n",
       "      <td>0.385883</td>\n",
       "    </tr>\n",
       "    <tr>\n",
       "      <th>3044</th>\n",
       "      <td>0.644727</td>\n",
       "      <td>0.993007</td>\n",
       "      <td>0.095348</td>\n",
       "      <td>0.641298</td>\n",
       "      <td>0.680546</td>\n",
       "      <td>0.961800</td>\n",
       "      <td>0.525524</td>\n",
       "      <td>0.561681</td>\n",
       "      <td>0.483026</td>\n",
       "    </tr>\n",
       "    <tr>\n",
       "      <th>3045</th>\n",
       "      <td>0.270322</td>\n",
       "      <td>0.713287</td>\n",
       "      <td>0.369781</td>\n",
       "      <td>0.277896</td>\n",
       "      <td>0.568905</td>\n",
       "      <td>0.783064</td>\n",
       "      <td>0.521445</td>\n",
       "      <td>0.408264</td>\n",
       "      <td>0.211535</td>\n",
       "    </tr>\n",
       "  </tbody>\n",
       "</table>\n",
       "<p>3046 rows × 9 columns</p>\n",
       "</div>"
      ],
      "text/plain": [
       "           WS1       tod        TI     WSHor     WSVer     WDHor     WDVer  \\\n",
       "0     0.020975  1.000000  0.207488  0.029529  0.459364  0.053589  0.429742   \n",
       "1     0.065031  0.041958  0.124319  0.068877  0.321555  0.059900  0.275543   \n",
       "2     0.212434  0.006993  0.377173  0.216979  0.344857  0.909151  0.346802   \n",
       "3     0.871467  0.293706  0.202202  0.874755  0.500812  0.706084  0.448942   \n",
       "4     0.324850  0.762238  0.344330  0.332251  0.495464  0.804627  0.465200   \n",
       "...        ...       ...       ...       ...       ...       ...       ...   \n",
       "3041  0.534532  0.419580  0.371217  0.544557  0.352688  0.702762  0.403211   \n",
       "3042  0.357270  0.874126  0.231236  0.368119  0.350110  0.402231  0.362418   \n",
       "3043  0.431474  0.867133  0.232592  0.442114  0.389075  0.667303  0.398147   \n",
       "3044  0.644727  0.993007  0.095348  0.641298  0.680546  0.961800  0.525524   \n",
       "3045  0.270322  0.713287  0.369781  0.277896  0.568905  0.783064  0.521445   \n",
       "\n",
       "           WS4       WSH  \n",
       "0     0.100394  0.439725  \n",
       "1     0.163620  0.345484  \n",
       "2     0.292307  0.340846  \n",
       "3     0.871817  0.329727  \n",
       "4     0.470751  0.195611  \n",
       "...        ...       ...  \n",
       "3041  0.695452  0.173290  \n",
       "3042  0.396343  0.379675  \n",
       "3043  0.454500  0.385883  \n",
       "3044  0.561681  0.483026  \n",
       "3045  0.408264  0.211535  \n",
       "\n",
       "[3046 rows x 9 columns]"
      ]
     },
     "execution_count": 88,
     "metadata": {},
     "output_type": "execute_result"
    }
   ],
   "source": [
    "X_train_subset"
   ]
  },
  {
   "cell_type": "markdown",
   "id": "844cc9da",
   "metadata": {},
   "source": [
    "### Grid Search"
   ]
  },
  {
   "cell_type": "code",
   "execution_count": 90,
   "id": "8919df23",
   "metadata": {},
   "outputs": [],
   "source": [
    "parameters={\n",
    "    'max_depth':5,\n",
    "    'n_estimators': 1000,\n",
    "    'learning_rate':0.1,\n",
    "    'subsample':0.8,\n",
    "    'colsample_bytree':0.8,\n",
    "    'min_child_weight':1,\n",
    "    'gamma':0,\n",
    "    'reg_lambda':1,\n",
    "}"
   ]
  },
  {
   "cell_type": "code",
   "execution_count": 91,
   "id": "44a2984b",
   "metadata": {},
   "outputs": [],
   "source": [
    "param_grid={\n",
    "    'n_estimators': [100, 200, 300, 400, 500, 600, 700, 800, 900, 1000],\n",
    "}"
   ]
  },
  {
   "cell_type": "code",
   "execution_count": 92,
   "id": "ce5559b3",
   "metadata": {
    "scrolled": true
   },
   "outputs": [
    {
     "name": "stdout",
     "output_type": "stream",
     "text": [
      "Fitting 4 folds for each of 10 candidates, totalling 40 fits\n",
      "\n",
      "Best parameters :\n",
      "{'n_estimators': 200}\n",
      "\n",
      "power curve computation performed\n",
      "power curve computation performed\n",
      "Modelling errors for training set:\n",
      "Wind RMSE:  0.186 m/s as root mean\n",
      "Wind MAE:  0.144 m/s in avg\n",
      "Wind MAPE:  1.68 %\n",
      "Power RMSE:  87.499 kW as root mean\n",
      "Power MAE:  55.221 kW in avg\n",
      "Power MAPE:  3.687 %\n",
      "\n",
      "Modelling errors for test set:\n",
      "Wind RMSE:  0.352 m/s as root mean\n",
      "Wind MAE:  0.268 m/s in avg\n",
      "Wind MAPE:  3.213 %\n",
      "Power RMSE:  164.598 kW as root mean\n",
      "Power MAE:  104.213 kW in avg\n",
      "Power MAPE:  7.502 %\n",
      "\n",
      "\n",
      "Showing the results of the modelling: \n",
      "GridSearch_ XGBoost performed\n",
      "--- 1.8370547731717428 minutes ---\n",
      "\n",
      "Lowest RMSE:  0.36081730682083385\n"
     ]
    },
    {
     "data": {
      "text/plain": [
       "GridSearchCV(cv=4,\n",
       "             estimator=XGBRegressor(base_score=None, booster='gbtree',\n",
       "                                    colsample_bylevel=None,\n",
       "                                    colsample_bynode=None, colsample_bytree=0.8,\n",
       "                                    gamma=0, gpu_id=None,\n",
       "                                    importance_type='gain',\n",
       "                                    interaction_constraints=None,\n",
       "                                    learning_rate=0.1, max_delta_step=None,\n",
       "                                    max_depth=5, min_child_weight=1,\n",
       "                                    missing=nan, monotone_constraints=None,\n",
       "                                    n_estimators=1000, n_jobs=None,\n",
       "                                    num_parallel_tree=None, random_state=42,\n",
       "                                    reg_alpha=None, reg_lambda=1,\n",
       "                                    scale_pos_weight=None, subsample=0.8,\n",
       "                                    tree_method=None, validate_parameters=None,\n",
       "                                    verbosity=None),\n",
       "             param_grid={'n_estimators': [100, 200, 300, 400, 500, 600, 700,\n",
       "                                          800, 900, 1000]},\n",
       "             scoring='neg_mean_squared_error', verbose=1)"
      ]
     },
     "execution_count": 92,
     "metadata": {},
     "output_type": "execute_result"
    }
   ],
   "source": [
    "GridSearch_XGBoost (X_train_subset, X_test_subset, y_train, y_test, PC, parameters, param_grid, plot_error=False)"
   ]
  },
  {
   "cell_type": "code",
   "execution_count": 93,
   "id": "dabf52f5",
   "metadata": {},
   "outputs": [],
   "source": [
    "parameters={\n",
    "    'max_depth':5,\n",
    "    'n_estimators': 200,\n",
    "    'learning_rate':0.1,\n",
    "    'subsample':0.8,\n",
    "    'colsample_bytree':0.8,\n",
    "    'min_child_weight':1,\n",
    "    'gamma':0,\n",
    "    'reg_lambda':1,\n",
    "}"
   ]
  },
  {
   "cell_type": "code",
   "execution_count": 94,
   "id": "6d1dc0fe",
   "metadata": {},
   "outputs": [],
   "source": [
    "param_grid={\n",
    "    'max_depth': [3, 4, 5, 6, 10, 15, 20],\n",
    "    'min_child_weight': [1, 2, 3, 6, 10]\n",
    "}"
   ]
  },
  {
   "cell_type": "code",
   "execution_count": 95,
   "id": "ca6b6819",
   "metadata": {
    "scrolled": true
   },
   "outputs": [
    {
     "name": "stdout",
     "output_type": "stream",
     "text": [
      "Fitting 4 folds for each of 35 candidates, totalling 140 fits\n",
      "\n",
      "Best parameters :\n",
      "{'max_depth': 6, 'min_child_weight': 3}\n",
      "\n",
      "power curve computation performed\n",
      "power curve computation performed\n",
      "Modelling errors for training set:\n",
      "Wind RMSE:  0.141 m/s as root mean\n",
      "Wind MAE:  0.109 m/s in avg\n",
      "Wind MAPE:  1.273 %\n",
      "Power RMSE:  67.537 kW as root mean\n",
      "Power MAE:  42.124 kW in avg\n",
      "Power MAPE:  2.83 %\n",
      "\n",
      "Modelling errors for test set:\n",
      "Wind RMSE:  0.354 m/s as root mean\n",
      "Wind MAE:  0.271 m/s in avg\n",
      "Wind MAPE:  3.242 %\n",
      "Power RMSE:  168.806 kW as root mean\n",
      "Power MAE:  106.724 kW in avg\n",
      "Power MAPE:  7.54 %\n",
      "\n",
      "\n",
      "Showing the results of the modelling: \n",
      "GridSearch_ XGBoost performed\n",
      "--- 3.604090666770935 minutes ---\n",
      "\n",
      "Lowest RMSE:  0.35591373353572137\n"
     ]
    },
    {
     "data": {
      "text/plain": [
       "GridSearchCV(cv=4,\n",
       "             estimator=XGBRegressor(base_score=None, booster='gbtree',\n",
       "                                    colsample_bylevel=None,\n",
       "                                    colsample_bynode=None, colsample_bytree=0.8,\n",
       "                                    gamma=0, gpu_id=None,\n",
       "                                    importance_type='gain',\n",
       "                                    interaction_constraints=None,\n",
       "                                    learning_rate=0.1, max_delta_step=None,\n",
       "                                    max_depth=5, min_child_weight=1,\n",
       "                                    missing=nan, monotone_constraints=None,\n",
       "                                    n_estimators=200, n_jobs=None,\n",
       "                                    num_parallel_tree=None, random_state=42,\n",
       "                                    reg_alpha=None, reg_lambda=1,\n",
       "                                    scale_pos_weight=None, subsample=0.8,\n",
       "                                    tree_method=None, validate_parameters=None,\n",
       "                                    verbosity=None),\n",
       "             param_grid={'max_depth': [3, 4, 5, 6, 10, 15, 20],\n",
       "                         'min_child_weight': [1, 2, 3, 6, 10]},\n",
       "             scoring='neg_mean_squared_error', verbose=1)"
      ]
     },
     "execution_count": 95,
     "metadata": {},
     "output_type": "execute_result"
    }
   ],
   "source": [
    "GridSearch_XGBoost (X_train_subset, X_test_subset, y_train, y_test, PC, parameters, param_grid, plot_error=False)"
   ]
  },
  {
   "cell_type": "code",
   "execution_count": 96,
   "id": "6fb15878",
   "metadata": {},
   "outputs": [],
   "source": [
    "parameters={\n",
    "    'max_depth':6,\n",
    "    'n_estimators': 200,\n",
    "    'learning_rate':0.1,\n",
    "    'subsample':0.8,\n",
    "    'colsample_bytree':0.8,\n",
    "    'min_child_weight':3,\n",
    "    'gamma':0,\n",
    "    'reg_lambda':1,\n",
    "}"
   ]
  },
  {
   "cell_type": "code",
   "execution_count": 97,
   "id": "d35cd90f",
   "metadata": {},
   "outputs": [],
   "source": [
    "param_grid={\n",
    "    'gamma': [0, 0.1, 0.2, 0.3, 0.4, 0.5]\n",
    "}"
   ]
  },
  {
   "cell_type": "code",
   "execution_count": 98,
   "id": "ab1d8b8b",
   "metadata": {
    "scrolled": true
   },
   "outputs": [
    {
     "name": "stdout",
     "output_type": "stream",
     "text": [
      "Fitting 4 folds for each of 6 candidates, totalling 24 fits\n",
      "\n",
      "Best parameters :\n",
      "{'gamma': 0.3}\n",
      "\n",
      "power curve computation performed\n",
      "power curve computation performed\n",
      "Modelling errors for training set:\n",
      "Wind RMSE:  0.198 m/s as root mean\n",
      "Wind MAE:  0.156 m/s in avg\n",
      "Wind MAPE:  1.825 %\n",
      "Power RMSE:  93.572 kW as root mean\n",
      "Power MAE:  59.438 kW in avg\n",
      "Power MAPE:  4.085 %\n",
      "\n",
      "Modelling errors for test set:\n",
      "Wind RMSE:  0.354 m/s as root mean\n",
      "Wind MAE:  0.271 m/s in avg\n",
      "Wind MAPE:  3.221 %\n",
      "Power RMSE:  166.928 kW as root mean\n",
      "Power MAE:  105.538 kW in avg\n",
      "Power MAPE:  7.441 %\n",
      "\n",
      "\n",
      "Showing the results of the modelling: \n",
      "GridSearch_ XGBoost performed\n",
      "--- 0.44061471621195475 minutes ---\n",
      "\n",
      "Lowest RMSE:  0.35457068924550594\n"
     ]
    },
    {
     "data": {
      "text/plain": [
       "GridSearchCV(cv=4,\n",
       "             estimator=XGBRegressor(base_score=None, booster='gbtree',\n",
       "                                    colsample_bylevel=None,\n",
       "                                    colsample_bynode=None, colsample_bytree=0.8,\n",
       "                                    gamma=0, gpu_id=None,\n",
       "                                    importance_type='gain',\n",
       "                                    interaction_constraints=None,\n",
       "                                    learning_rate=0.1, max_delta_step=None,\n",
       "                                    max_depth=6, min_child_weight=3,\n",
       "                                    missing=nan, monotone_constraints=None,\n",
       "                                    n_estimators=200, n_jobs=None,\n",
       "                                    num_parallel_tree=None, random_state=42,\n",
       "                                    reg_alpha=None, reg_lambda=1,\n",
       "                                    scale_pos_weight=None, subsample=0.8,\n",
       "                                    tree_method=None, validate_parameters=None,\n",
       "                                    verbosity=None),\n",
       "             param_grid={'gamma': [0, 0.1, 0.2, 0.3, 0.4, 0.5]},\n",
       "             scoring='neg_mean_squared_error', verbose=1)"
      ]
     },
     "execution_count": 98,
     "metadata": {},
     "output_type": "execute_result"
    }
   ],
   "source": [
    "GridSearch_XGBoost (X_train_subset, X_test_subset, y_train, y_test, PC, parameters, param_grid, plot_error=False)"
   ]
  },
  {
   "cell_type": "code",
   "execution_count": 99,
   "id": "5965bd80",
   "metadata": {},
   "outputs": [],
   "source": [
    "parameters={\n",
    "    'max_depth':6,\n",
    "    'n_estimators': 200,\n",
    "    'learning_rate':0.1,\n",
    "    'subsample':0.8,\n",
    "    'colsample_bytree':0.8,\n",
    "    'min_child_weight':3,\n",
    "    'gamma':0.3,\n",
    "    'reg_lambda':1,\n",
    "}"
   ]
  },
  {
   "cell_type": "code",
   "execution_count": 100,
   "id": "64f305b5",
   "metadata": {},
   "outputs": [],
   "source": [
    "param_grid={\n",
    "    'subsample': [0.4, 0.5, 0.6, 0.7, 0.8, 0.9, 1],\n",
    "    'colsample_bytree': [0.4, 0.5, 0.6, 0.7, 0.8, 0.9, 1]\n",
    "}"
   ]
  },
  {
   "cell_type": "code",
   "execution_count": 101,
   "id": "d587c93e",
   "metadata": {
    "scrolled": true
   },
   "outputs": [
    {
     "name": "stdout",
     "output_type": "stream",
     "text": [
      "Fitting 4 folds for each of 49 candidates, totalling 196 fits\n",
      "\n",
      "Best parameters :\n",
      "{'colsample_bytree': 1, 'subsample': 0.8}\n",
      "\n",
      "power curve computation performed\n",
      "power curve computation performed\n",
      "Modelling errors for training set:\n",
      "Wind RMSE:  0.199 m/s as root mean\n",
      "Wind MAE:  0.156 m/s in avg\n",
      "Wind MAPE:  1.83 %\n",
      "Power RMSE:  93.508 kW as root mean\n",
      "Power MAE:  59.67 kW in avg\n",
      "Power MAPE:  4.095 %\n",
      "\n",
      "Modelling errors for test set:\n",
      "Wind RMSE:  0.353 m/s as root mean\n",
      "Wind MAE:  0.269 m/s in avg\n",
      "Wind MAPE:  3.227 %\n",
      "Power RMSE:  167.722 kW as root mean\n",
      "Power MAE:  106.167 kW in avg\n",
      "Power MAPE:  7.571 %\n",
      "\n",
      "\n",
      "Showing the results of the modelling: \n",
      "GridSearch_ XGBoost performed\n",
      "--- 2.7542741020520527 minutes ---\n",
      "\n",
      "Lowest RMSE:  0.3525659268433924\n"
     ]
    },
    {
     "data": {
      "text/plain": [
       "GridSearchCV(cv=4,\n",
       "             estimator=XGBRegressor(base_score=None, booster='gbtree',\n",
       "                                    colsample_bylevel=None,\n",
       "                                    colsample_bynode=None, colsample_bytree=0.8,\n",
       "                                    gamma=0.3, gpu_id=None,\n",
       "                                    importance_type='gain',\n",
       "                                    interaction_constraints=None,\n",
       "                                    learning_rate=0.1, max_delta_step=None,\n",
       "                                    max_depth=6, min_child_weight=3,\n",
       "                                    missing=nan, monotone_constraints=None,\n",
       "                                    n_estimators=200, n_jobs=None,\n",
       "                                    num_parallel_tree=None, random_state=42,\n",
       "                                    reg_alpha=None, reg_lambda=1,\n",
       "                                    scale_pos_weight=None, subsample=0.8,\n",
       "                                    tree_method=None, validate_parameters=None,\n",
       "                                    verbosity=None),\n",
       "             param_grid={'colsample_bytree': [0.4, 0.5, 0.6, 0.7, 0.8, 0.9, 1],\n",
       "                         'subsample': [0.4, 0.5, 0.6, 0.7, 0.8, 0.9, 1]},\n",
       "             scoring='neg_mean_squared_error', verbose=1)"
      ]
     },
     "execution_count": 101,
     "metadata": {},
     "output_type": "execute_result"
    }
   ],
   "source": [
    "GridSearch_XGBoost (X_train_subset, X_test_subset, y_train, y_test, PC, parameters, param_grid, plot_error=False)"
   ]
  },
  {
   "cell_type": "code",
   "execution_count": 102,
   "id": "a9cc5eb1",
   "metadata": {},
   "outputs": [],
   "source": [
    "parameters={\n",
    "    'max_depth':6,\n",
    "    'n_estimators': 200,\n",
    "    'learning_rate':0.1,\n",
    "    'subsample':0.8,\n",
    "    'colsample_bytree':1,\n",
    "    'min_child_weight':3,\n",
    "    'gamma':0.3,\n",
    "    'reg_lambda':1,\n",
    "}"
   ]
  },
  {
   "cell_type": "code",
   "execution_count": 103,
   "id": "4eaa673b",
   "metadata": {},
   "outputs": [],
   "source": [
    "param_grid={\n",
    "    'reg_lambda': [1, 10, 50, 100, 150]\n",
    "}"
   ]
  },
  {
   "cell_type": "code",
   "execution_count": 104,
   "id": "c3f6b6e4",
   "metadata": {
    "scrolled": true
   },
   "outputs": [
    {
     "name": "stdout",
     "output_type": "stream",
     "text": [
      "Fitting 4 folds for each of 5 candidates, totalling 20 fits\n",
      "\n",
      "Best parameters :\n",
      "{'reg_lambda': 1}\n",
      "\n",
      "power curve computation performed\n",
      "power curve computation performed\n",
      "Modelling errors for training set:\n",
      "Wind RMSE:  0.199 m/s as root mean\n",
      "Wind MAE:  0.156 m/s in avg\n",
      "Wind MAPE:  1.83 %\n",
      "Power RMSE:  93.508 kW as root mean\n",
      "Power MAE:  59.67 kW in avg\n",
      "Power MAPE:  4.095 %\n",
      "\n",
      "Modelling errors for test set:\n",
      "Wind RMSE:  0.353 m/s as root mean\n",
      "Wind MAE:  0.269 m/s in avg\n",
      "Wind MAPE:  3.227 %\n",
      "Power RMSE:  167.722 kW as root mean\n",
      "Power MAE:  106.167 kW in avg\n",
      "Power MAPE:  7.571 %\n",
      "\n",
      "\n",
      "Showing the results of the modelling: \n",
      "GridSearch_ XGBoost performed\n",
      "--- 0.4252168854077657 minutes ---\n",
      "\n",
      "Lowest RMSE:  0.3525659268433924\n"
     ]
    },
    {
     "data": {
      "text/plain": [
       "GridSearchCV(cv=4,\n",
       "             estimator=XGBRegressor(base_score=None, booster='gbtree',\n",
       "                                    colsample_bylevel=None,\n",
       "                                    colsample_bynode=None, colsample_bytree=1,\n",
       "                                    gamma=0.3, gpu_id=None,\n",
       "                                    importance_type='gain',\n",
       "                                    interaction_constraints=None,\n",
       "                                    learning_rate=0.1, max_delta_step=None,\n",
       "                                    max_depth=6, min_child_weight=3,\n",
       "                                    missing=nan, monotone_constraints=None,\n",
       "                                    n_estimators=200, n_jobs=None,\n",
       "                                    num_parallel_tree=None, random_state=42,\n",
       "                                    reg_alpha=None, reg_lambda=1,\n",
       "                                    scale_pos_weight=None, subsample=0.8,\n",
       "                                    tree_method=None, validate_parameters=None,\n",
       "                                    verbosity=None),\n",
       "             param_grid={'reg_lambda': [1, 10, 50, 100, 150]},\n",
       "             scoring='neg_mean_squared_error', verbose=1)"
      ]
     },
     "execution_count": 104,
     "metadata": {},
     "output_type": "execute_result"
    }
   ],
   "source": [
    "GridSearch_XGBoost (X_train_subset, X_test_subset, y_train, y_test, PC, parameters, param_grid, plot_error=False)"
   ]
  },
  {
   "cell_type": "code",
   "execution_count": 105,
   "id": "2ae6710b",
   "metadata": {},
   "outputs": [],
   "source": [
    "parameters={\n",
    "    'max_depth':6,\n",
    "    'n_estimators': 200,\n",
    "    'learning_rate':0.1,\n",
    "    'subsample':0.8,\n",
    "    'colsample_bytree':1,\n",
    "    'min_child_weight':3,\n",
    "    'gamma':0.3,\n",
    "    'reg_lambda':1,\n",
    "}"
   ]
  },
  {
   "cell_type": "code",
   "execution_count": 106,
   "id": "8544303e",
   "metadata": {},
   "outputs": [],
   "source": [
    "param_grid={\n",
    "    'learning_rate': [0.001, 0.01, 0.1, 0.5],\n",
    "    'n_estimators': [800, 900, 1000, 1200, 1500, 1800, 2000]\n",
    "}"
   ]
  },
  {
   "cell_type": "code",
   "execution_count": 107,
   "id": "6dbcf854",
   "metadata": {
    "scrolled": true
   },
   "outputs": [
    {
     "name": "stdout",
     "output_type": "stream",
     "text": [
      "Fitting 4 folds for each of 28 candidates, totalling 112 fits\n",
      "\n",
      "Best parameters :\n",
      "{'learning_rate': 0.01, 'n_estimators': 2000}\n",
      "\n",
      "power curve computation performed\n",
      "power curve computation performed\n",
      "Modelling errors for training set:\n",
      "Wind RMSE:  0.198 m/s as root mean\n",
      "Wind MAE:  0.155 m/s in avg\n",
      "Wind MAPE:  1.823 %\n",
      "Power RMSE:  93.675 kW as root mean\n",
      "Power MAE:  59.618 kW in avg\n",
      "Power MAPE:  4.105 %\n",
      "\n",
      "Modelling errors for test set:\n",
      "Wind RMSE:  0.349 m/s as root mean\n",
      "Wind MAE:  0.266 m/s in avg\n",
      "Wind MAPE:  3.18 %\n",
      "Power RMSE:  165.062 kW as root mean\n",
      "Power MAE:  104.17 kW in avg\n",
      "Power MAPE:  7.39 %\n",
      "\n",
      "\n",
      "Showing the results of the modelling: \n",
      "GridSearch_ XGBoost performed\n",
      "--- 14.323642186323802 minutes ---\n",
      "\n",
      "Lowest RMSE:  0.3498289290791046\n"
     ]
    },
    {
     "data": {
      "text/plain": [
       "GridSearchCV(cv=4,\n",
       "             estimator=XGBRegressor(base_score=None, booster='gbtree',\n",
       "                                    colsample_bylevel=None,\n",
       "                                    colsample_bynode=None, colsample_bytree=1,\n",
       "                                    gamma=0.3, gpu_id=None,\n",
       "                                    importance_type='gain',\n",
       "                                    interaction_constraints=None,\n",
       "                                    learning_rate=0.1, max_delta_step=None,\n",
       "                                    max_depth=6, min_child_weight=3,\n",
       "                                    missing=nan, monotone_constraints=None,\n",
       "                                    n_estimators=200, n_jobs=None,\n",
       "                                    num_parallel_tree=None, random_state=42,\n",
       "                                    reg_alpha=None, reg_lambda=1,\n",
       "                                    scale_pos_weight=None, subsample=0.8,\n",
       "                                    tree_method=None, validate_parameters=None,\n",
       "                                    verbosity=None),\n",
       "             param_grid={'learning_rate': [0.001, 0.01, 0.1, 0.5],\n",
       "                         'n_estimators': [800, 900, 1000, 1200, 1500, 1800,\n",
       "                                          2000]},\n",
       "             scoring='neg_mean_squared_error', verbose=1)"
      ]
     },
     "execution_count": 107,
     "metadata": {},
     "output_type": "execute_result"
    }
   ],
   "source": [
    "GridSearch_XGBoost (X_train_subset, X_test_subset, y_train, y_test, PC, parameters, param_grid, plot_error=False)"
   ]
  },
  {
   "cell_type": "markdown",
   "id": "7d5ce476",
   "metadata": {},
   "source": [
    "### Testing"
   ]
  },
  {
   "cell_type": "code",
   "execution_count": 108,
   "id": "a9d56842",
   "metadata": {},
   "outputs": [],
   "source": [
    "parameters={\n",
    "    'max_depth':6,\n",
    "    'n_estimators': 2000,\n",
    "    'learning_rate':0.01,\n",
    "    'subsample':0.8,\n",
    "    'colsample_bytree':1,\n",
    "    'min_child_weight':3,\n",
    "    'gamma':0.3,\n",
    "    'reg_lambda':1,\n",
    "}"
   ]
  },
  {
   "cell_type": "code",
   "execution_count": 109,
   "id": "17d7ce02",
   "metadata": {},
   "outputs": [],
   "source": [
    "#modelling"
   ]
  },
  {
   "cell_type": "code",
   "execution_count": 110,
   "id": "0bd15a03",
   "metadata": {},
   "outputs": [
    {
     "name": "stdout",
     "output_type": "stream",
     "text": [
      "power curve computation performed\n",
      "power curve computation performed\n",
      "Modelling errors for training set:\n",
      "Wind RMSE:  0.134 m/s as root mean\n",
      "Wind MAE:  0.103 m/s in avg\n",
      "Wind MAPE:  1.209 %\n",
      "Power RMSE:  64.999 kW as root mean\n",
      "Power MAE:  40.591 kW in avg\n",
      "Power MAPE:  2.684 %\n",
      "\n",
      "Modelling errors for test set:\n",
      "Wind RMSE:  0.347 m/s as root mean\n",
      "Wind MAE:  0.265 m/s in avg\n",
      "Wind MAPE:  3.156 %\n",
      "Power RMSE:  164.34 kW as root mean\n",
      "Power MAE:  103.394 kW in avg\n",
      "Power MAPE:  7.319 %\n",
      "\n",
      "\n",
      "Showing the results of the modelling: \n",
      "XGBoost modelling performed\n"
     ]
    }
   ],
   "source": [
    "model = modelling_XGBoost (X_train_subset, X_test_subset, y_train, y_test, PC, parameters, plot_error=False, plot=True)"
   ]
  },
  {
   "cell_type": "code",
   "execution_count": 111,
   "id": "19acf95b",
   "metadata": {},
   "outputs": [],
   "source": [
    "#testing"
   ]
  },
  {
   "cell_type": "code",
   "execution_count": 112,
   "id": "62504b77",
   "metadata": {},
   "outputs": [
    {
     "name": "stdout",
     "output_type": "stream",
     "text": [
      "power curve computation performed\n",
      "power curve computation performed\n",
      "Modelling errors for training set:\n",
      "Wind RMSE:  0.134 m/s as root mean\n",
      "Wind MAE:  0.103 m/s in avg\n",
      "Wind MAPE:  1.209 %\n",
      "Power RMSE:  64.999 kW as root mean\n",
      "Power MAE:  40.591 kW in avg\n",
      "Power MAPE:  2.684 %\n",
      "\n",
      "Modelling errors for test set:\n",
      "Wind RMSE:  0.347 m/s as root mean\n",
      "Wind MAE:  0.265 m/s in avg\n",
      "Wind MAPE:  3.156 %\n",
      "Power RMSE:  164.34 kW as root mean\n",
      "Power MAE:  103.394 kW in avg\n",
      "Power MAPE:  7.319 %\n",
      "\n",
      "\n",
      "Showing the results of the modelling: \n",
      "XGBoost results performed\n"
     ]
    }
   ],
   "source": [
    "WS_pred=model_testing (X_train_subset, X_test_subset, y_train, y_test, PC, model, plot_error=False)"
   ]
  },
  {
   "cell_type": "code",
   "execution_count": 113,
   "id": "3cea214a",
   "metadata": {},
   "outputs": [
    {
     "name": "stdout",
     "output_type": "stream",
     "text": [
      "file Subset3_XGB_WTG14.csv saved in \\Results_ folder\n"
     ]
    }
   ],
   "source": [
    "WS_pred=pd.DataFrame(WS_pred)\n",
    "save(WS_pred,'\\Results_','Subset3_XGB_WTG14.csv')"
   ]
  },
  {
   "cell_type": "code",
   "execution_count": null,
   "id": "c1bb1360",
   "metadata": {},
   "outputs": [],
   "source": []
  },
  {
   "cell_type": "markdown",
   "id": "d7e22129",
   "metadata": {},
   "source": [
    "## Subset4"
   ]
  },
  {
   "cell_type": "code",
   "execution_count": 114,
   "id": "72de94fe",
   "metadata": {},
   "outputs": [],
   "source": [
    "X_train_subset=subset_selection(X_train, 4)\n",
    "X_test_subset=subset_selection(X_test, 4)"
   ]
  },
  {
   "cell_type": "code",
   "execution_count": 115,
   "id": "8f5af98a",
   "metadata": {},
   "outputs": [
    {
     "data": {
      "text/html": [
       "<div>\n",
       "<style scoped>\n",
       "    .dataframe tbody tr th:only-of-type {\n",
       "        vertical-align: middle;\n",
       "    }\n",
       "\n",
       "    .dataframe tbody tr th {\n",
       "        vertical-align: top;\n",
       "    }\n",
       "\n",
       "    .dataframe thead th {\n",
       "        text-align: right;\n",
       "    }\n",
       "</style>\n",
       "<table border=\"1\" class=\"dataframe\">\n",
       "  <thead>\n",
       "    <tr style=\"text-align: right;\">\n",
       "      <th></th>\n",
       "      <th>WS1</th>\n",
       "      <th>tod</th>\n",
       "      <th>TI</th>\n",
       "      <th>WSHor</th>\n",
       "      <th>WSVer</th>\n",
       "      <th>WDHor</th>\n",
       "      <th>WDVer</th>\n",
       "      <th>WS4</th>\n",
       "      <th>WSH</th>\n",
       "      <th>WS3</th>\n",
       "    </tr>\n",
       "  </thead>\n",
       "  <tbody>\n",
       "    <tr>\n",
       "      <th>0</th>\n",
       "      <td>0.020975</td>\n",
       "      <td>1.000000</td>\n",
       "      <td>0.207488</td>\n",
       "      <td>0.029529</td>\n",
       "      <td>0.459364</td>\n",
       "      <td>0.053589</td>\n",
       "      <td>0.429742</td>\n",
       "      <td>0.100394</td>\n",
       "      <td>0.439725</td>\n",
       "      <td>0.066975</td>\n",
       "    </tr>\n",
       "    <tr>\n",
       "      <th>1</th>\n",
       "      <td>0.065031</td>\n",
       "      <td>0.041958</td>\n",
       "      <td>0.124319</td>\n",
       "      <td>0.068877</td>\n",
       "      <td>0.321555</td>\n",
       "      <td>0.059900</td>\n",
       "      <td>0.275543</td>\n",
       "      <td>0.163620</td>\n",
       "      <td>0.345484</td>\n",
       "      <td>0.124902</td>\n",
       "    </tr>\n",
       "    <tr>\n",
       "      <th>2</th>\n",
       "      <td>0.212434</td>\n",
       "      <td>0.006993</td>\n",
       "      <td>0.377173</td>\n",
       "      <td>0.216979</td>\n",
       "      <td>0.344857</td>\n",
       "      <td>0.909151</td>\n",
       "      <td>0.346802</td>\n",
       "      <td>0.292307</td>\n",
       "      <td>0.340846</td>\n",
       "      <td>0.281079</td>\n",
       "    </tr>\n",
       "    <tr>\n",
       "      <th>3</th>\n",
       "      <td>0.871467</td>\n",
       "      <td>0.293706</td>\n",
       "      <td>0.202202</td>\n",
       "      <td>0.874755</td>\n",
       "      <td>0.500812</td>\n",
       "      <td>0.706084</td>\n",
       "      <td>0.448942</td>\n",
       "      <td>0.871817</td>\n",
       "      <td>0.329727</td>\n",
       "      <td>0.871425</td>\n",
       "    </tr>\n",
       "    <tr>\n",
       "      <th>4</th>\n",
       "      <td>0.324850</td>\n",
       "      <td>0.762238</td>\n",
       "      <td>0.344330</td>\n",
       "      <td>0.332251</td>\n",
       "      <td>0.495464</td>\n",
       "      <td>0.804627</td>\n",
       "      <td>0.465200</td>\n",
       "      <td>0.470751</td>\n",
       "      <td>0.195611</td>\n",
       "      <td>0.397760</td>\n",
       "    </tr>\n",
       "    <tr>\n",
       "      <th>...</th>\n",
       "      <td>...</td>\n",
       "      <td>...</td>\n",
       "      <td>...</td>\n",
       "      <td>...</td>\n",
       "      <td>...</td>\n",
       "      <td>...</td>\n",
       "      <td>...</td>\n",
       "      <td>...</td>\n",
       "      <td>...</td>\n",
       "      <td>...</td>\n",
       "    </tr>\n",
       "    <tr>\n",
       "      <th>3041</th>\n",
       "      <td>0.534532</td>\n",
       "      <td>0.419580</td>\n",
       "      <td>0.371217</td>\n",
       "      <td>0.544557</td>\n",
       "      <td>0.352688</td>\n",
       "      <td>0.702762</td>\n",
       "      <td>0.403211</td>\n",
       "      <td>0.695452</td>\n",
       "      <td>0.173290</td>\n",
       "      <td>0.616674</td>\n",
       "    </tr>\n",
       "    <tr>\n",
       "      <th>3042</th>\n",
       "      <td>0.357270</td>\n",
       "      <td>0.874126</td>\n",
       "      <td>0.231236</td>\n",
       "      <td>0.368119</td>\n",
       "      <td>0.350110</td>\n",
       "      <td>0.402231</td>\n",
       "      <td>0.362418</td>\n",
       "      <td>0.396343</td>\n",
       "      <td>0.379675</td>\n",
       "      <td>0.366648</td>\n",
       "    </tr>\n",
       "    <tr>\n",
       "      <th>3043</th>\n",
       "      <td>0.431474</td>\n",
       "      <td>0.867133</td>\n",
       "      <td>0.232592</td>\n",
       "      <td>0.442114</td>\n",
       "      <td>0.389075</td>\n",
       "      <td>0.667303</td>\n",
       "      <td>0.398147</td>\n",
       "      <td>0.454500</td>\n",
       "      <td>0.385883</td>\n",
       "      <td>0.450032</td>\n",
       "    </tr>\n",
       "    <tr>\n",
       "      <th>3044</th>\n",
       "      <td>0.644727</td>\n",
       "      <td>0.993007</td>\n",
       "      <td>0.095348</td>\n",
       "      <td>0.641298</td>\n",
       "      <td>0.680546</td>\n",
       "      <td>0.961800</td>\n",
       "      <td>0.525524</td>\n",
       "      <td>0.561681</td>\n",
       "      <td>0.483026</td>\n",
       "      <td>0.641783</td>\n",
       "    </tr>\n",
       "    <tr>\n",
       "      <th>3045</th>\n",
       "      <td>0.270322</td>\n",
       "      <td>0.713287</td>\n",
       "      <td>0.369781</td>\n",
       "      <td>0.277896</td>\n",
       "      <td>0.568905</td>\n",
       "      <td>0.783064</td>\n",
       "      <td>0.521445</td>\n",
       "      <td>0.408264</td>\n",
       "      <td>0.211535</td>\n",
       "      <td>0.345108</td>\n",
       "    </tr>\n",
       "  </tbody>\n",
       "</table>\n",
       "<p>3046 rows × 10 columns</p>\n",
       "</div>"
      ],
      "text/plain": [
       "           WS1       tod        TI     WSHor     WSVer     WDHor     WDVer  \\\n",
       "0     0.020975  1.000000  0.207488  0.029529  0.459364  0.053589  0.429742   \n",
       "1     0.065031  0.041958  0.124319  0.068877  0.321555  0.059900  0.275543   \n",
       "2     0.212434  0.006993  0.377173  0.216979  0.344857  0.909151  0.346802   \n",
       "3     0.871467  0.293706  0.202202  0.874755  0.500812  0.706084  0.448942   \n",
       "4     0.324850  0.762238  0.344330  0.332251  0.495464  0.804627  0.465200   \n",
       "...        ...       ...       ...       ...       ...       ...       ...   \n",
       "3041  0.534532  0.419580  0.371217  0.544557  0.352688  0.702762  0.403211   \n",
       "3042  0.357270  0.874126  0.231236  0.368119  0.350110  0.402231  0.362418   \n",
       "3043  0.431474  0.867133  0.232592  0.442114  0.389075  0.667303  0.398147   \n",
       "3044  0.644727  0.993007  0.095348  0.641298  0.680546  0.961800  0.525524   \n",
       "3045  0.270322  0.713287  0.369781  0.277896  0.568905  0.783064  0.521445   \n",
       "\n",
       "           WS4       WSH       WS3  \n",
       "0     0.100394  0.439725  0.066975  \n",
       "1     0.163620  0.345484  0.124902  \n",
       "2     0.292307  0.340846  0.281079  \n",
       "3     0.871817  0.329727  0.871425  \n",
       "4     0.470751  0.195611  0.397760  \n",
       "...        ...       ...       ...  \n",
       "3041  0.695452  0.173290  0.616674  \n",
       "3042  0.396343  0.379675  0.366648  \n",
       "3043  0.454500  0.385883  0.450032  \n",
       "3044  0.561681  0.483026  0.641783  \n",
       "3045  0.408264  0.211535  0.345108  \n",
       "\n",
       "[3046 rows x 10 columns]"
      ]
     },
     "execution_count": 115,
     "metadata": {},
     "output_type": "execute_result"
    }
   ],
   "source": [
    "X_train_subset"
   ]
  },
  {
   "cell_type": "markdown",
   "id": "c28739fe",
   "metadata": {},
   "source": [
    "### Grid Search"
   ]
  },
  {
   "cell_type": "code",
   "execution_count": 116,
   "id": "20c7d662",
   "metadata": {},
   "outputs": [],
   "source": [
    "parameters={\n",
    "    'max_depth':5,\n",
    "    'n_estimators': 1000,\n",
    "    'learning_rate':0.1,\n",
    "    'subsample':0.8,\n",
    "    'colsample_bytree':0.8,\n",
    "    'min_child_weight':1,\n",
    "    'gamma':0,\n",
    "    'reg_lambda':1,\n",
    "}"
   ]
  },
  {
   "cell_type": "code",
   "execution_count": 117,
   "id": "fb32902a",
   "metadata": {},
   "outputs": [],
   "source": [
    "param_grid={\n",
    "    'n_estimators': [100, 200, 300, 400, 500, 600, 700, 800, 900, 1000],\n",
    "}"
   ]
  },
  {
   "cell_type": "code",
   "execution_count": 118,
   "id": "aec6d896",
   "metadata": {
    "scrolled": true
   },
   "outputs": [
    {
     "name": "stdout",
     "output_type": "stream",
     "text": [
      "Fitting 4 folds for each of 10 candidates, totalling 40 fits\n",
      "\n",
      "Best parameters :\n",
      "{'n_estimators': 300}\n",
      "\n",
      "power curve computation performed\n",
      "power curve computation performed\n",
      "Modelling errors for training set:\n",
      "Wind RMSE:  0.142 m/s as root mean\n",
      "Wind MAE:  0.109 m/s in avg\n",
      "Wind MAPE:  1.28 %\n",
      "Power RMSE:  69.271 kW as root mean\n",
      "Power MAE:  43.17 kW in avg\n",
      "Power MAPE:  2.843 %\n",
      "\n",
      "Modelling errors for test set:\n",
      "Wind RMSE:  0.357 m/s as root mean\n",
      "Wind MAE:  0.275 m/s in avg\n",
      "Wind MAPE:  3.279 %\n",
      "Power RMSE:  168.726 kW as root mean\n",
      "Power MAE:  107.252 kW in avg\n",
      "Power MAPE:  7.569 %\n",
      "\n",
      "\n",
      "Showing the results of the modelling: \n",
      "GridSearch_ XGBoost performed\n",
      "--- 1.5926148732503256 minutes ---\n",
      "\n",
      "Lowest RMSE:  0.3619056053312274\n"
     ]
    },
    {
     "data": {
      "text/plain": [
       "GridSearchCV(cv=4,\n",
       "             estimator=XGBRegressor(base_score=None, booster='gbtree',\n",
       "                                    colsample_bylevel=None,\n",
       "                                    colsample_bynode=None, colsample_bytree=0.8,\n",
       "                                    gamma=0, gpu_id=None,\n",
       "                                    importance_type='gain',\n",
       "                                    interaction_constraints=None,\n",
       "                                    learning_rate=0.1, max_delta_step=None,\n",
       "                                    max_depth=5, min_child_weight=1,\n",
       "                                    missing=nan, monotone_constraints=None,\n",
       "                                    n_estimators=1000, n_jobs=None,\n",
       "                                    num_parallel_tree=None, random_state=42,\n",
       "                                    reg_alpha=None, reg_lambda=1,\n",
       "                                    scale_pos_weight=None, subsample=0.8,\n",
       "                                    tree_method=None, validate_parameters=None,\n",
       "                                    verbosity=None),\n",
       "             param_grid={'n_estimators': [100, 200, 300, 400, 500, 600, 700,\n",
       "                                          800, 900, 1000]},\n",
       "             scoring='neg_mean_squared_error', verbose=1)"
      ]
     },
     "execution_count": 118,
     "metadata": {},
     "output_type": "execute_result"
    }
   ],
   "source": [
    "GridSearch_XGBoost (X_train_subset, X_test_subset, y_train, y_test, PC, parameters, param_grid, plot_error=False)"
   ]
  },
  {
   "cell_type": "code",
   "execution_count": 119,
   "id": "cee5dd3a",
   "metadata": {},
   "outputs": [],
   "source": [
    "parameters={\n",
    "    'max_depth':5,\n",
    "    'n_estimators': 300,\n",
    "    'learning_rate':0.1,\n",
    "    'subsample':0.8,\n",
    "    'colsample_bytree':0.8,\n",
    "    'min_child_weight':1,\n",
    "    'gamma':0,\n",
    "    'reg_lambda':1,\n",
    "}"
   ]
  },
  {
   "cell_type": "code",
   "execution_count": 120,
   "id": "487a64c9",
   "metadata": {},
   "outputs": [],
   "source": [
    "param_grid={\n",
    "    'max_depth': [3, 4, 5, 6, 10, 15, 20],\n",
    "    'min_child_weight': [1, 2, 3, 6, 10]\n",
    "}"
   ]
  },
  {
   "cell_type": "code",
   "execution_count": 121,
   "id": "e4ead089",
   "metadata": {
    "scrolled": true
   },
   "outputs": [
    {
     "name": "stdout",
     "output_type": "stream",
     "text": [
      "Fitting 4 folds for each of 35 candidates, totalling 140 fits\n",
      "\n",
      "Best parameters :\n",
      "{'max_depth': 6, 'min_child_weight': 6}\n",
      "\n",
      "power curve computation performed\n",
      "power curve computation performed\n",
      "Modelling errors for training set:\n",
      "Wind RMSE:  0.115 m/s as root mean\n",
      "Wind MAE:  0.088 m/s in avg\n",
      "Wind MAPE:  1.025 %\n",
      "Power RMSE:  55.78 kW as root mean\n",
      "Power MAE:  34.294 kW in avg\n",
      "Power MAPE:  2.275 %\n",
      "\n",
      "Modelling errors for test set:\n",
      "Wind RMSE:  0.355 m/s as root mean\n",
      "Wind MAE:  0.274 m/s in avg\n",
      "Wind MAPE:  3.268 %\n",
      "Power RMSE:  168.214 kW as root mean\n",
      "Power MAE:  106.863 kW in avg\n",
      "Power MAPE:  7.562 %\n",
      "\n",
      "\n",
      "Showing the results of the modelling: \n",
      "GridSearch_ XGBoost performed\n",
      "--- 5.213793996969859 minutes ---\n",
      "\n",
      "Lowest RMSE:  0.35836722195897064\n"
     ]
    },
    {
     "data": {
      "text/plain": [
       "GridSearchCV(cv=4,\n",
       "             estimator=XGBRegressor(base_score=None, booster='gbtree',\n",
       "                                    colsample_bylevel=None,\n",
       "                                    colsample_bynode=None, colsample_bytree=0.8,\n",
       "                                    gamma=0, gpu_id=None,\n",
       "                                    importance_type='gain',\n",
       "                                    interaction_constraints=None,\n",
       "                                    learning_rate=0.1, max_delta_step=None,\n",
       "                                    max_depth=5, min_child_weight=1,\n",
       "                                    missing=nan, monotone_constraints=None,\n",
       "                                    n_estimators=300, n_jobs=None,\n",
       "                                    num_parallel_tree=None, random_state=42,\n",
       "                                    reg_alpha=None, reg_lambda=1,\n",
       "                                    scale_pos_weight=None, subsample=0.8,\n",
       "                                    tree_method=None, validate_parameters=None,\n",
       "                                    verbosity=None),\n",
       "             param_grid={'max_depth': [3, 4, 5, 6, 10, 15, 20],\n",
       "                         'min_child_weight': [1, 2, 3, 6, 10]},\n",
       "             scoring='neg_mean_squared_error', verbose=1)"
      ]
     },
     "execution_count": 121,
     "metadata": {},
     "output_type": "execute_result"
    }
   ],
   "source": [
    "GridSearch_XGBoost (X_train_subset, X_test_subset, y_train, y_test, PC, parameters, param_grid, plot_error=False)"
   ]
  },
  {
   "cell_type": "code",
   "execution_count": 122,
   "id": "7b97741f",
   "metadata": {},
   "outputs": [],
   "source": [
    "parameters={\n",
    "    'max_depth':6,\n",
    "    'n_estimators': 300,\n",
    "    'learning_rate':0.1,\n",
    "    'subsample':0.8,\n",
    "    'colsample_bytree':0.8,\n",
    "    'min_child_weight':6,\n",
    "    'gamma':0,\n",
    "    'reg_lambda':1,\n",
    "}"
   ]
  },
  {
   "cell_type": "code",
   "execution_count": 123,
   "id": "32d5b00c",
   "metadata": {},
   "outputs": [],
   "source": [
    "param_grid={\n",
    "    'gamma': [0, 0.1, 0.2, 0.3, 0.4, 0.5]\n",
    "}"
   ]
  },
  {
   "cell_type": "code",
   "execution_count": 124,
   "id": "eee38ee8",
   "metadata": {
    "scrolled": true
   },
   "outputs": [
    {
     "name": "stdout",
     "output_type": "stream",
     "text": [
      "Fitting 4 folds for each of 6 candidates, totalling 24 fits\n",
      "\n",
      "Best parameters :\n",
      "{'gamma': 0}\n",
      "\n",
      "power curve computation performed\n",
      "power curve computation performed\n",
      "Modelling errors for training set:\n",
      "Wind RMSE:  0.115 m/s as root mean\n",
      "Wind MAE:  0.088 m/s in avg\n",
      "Wind MAPE:  1.025 %\n",
      "Power RMSE:  55.78 kW as root mean\n",
      "Power MAE:  34.294 kW in avg\n",
      "Power MAPE:  2.275 %\n",
      "\n",
      "Modelling errors for test set:\n",
      "Wind RMSE:  0.355 m/s as root mean\n",
      "Wind MAE:  0.274 m/s in avg\n",
      "Wind MAPE:  3.268 %\n",
      "Power RMSE:  168.214 kW as root mean\n",
      "Power MAE:  106.863 kW in avg\n",
      "Power MAPE:  7.562 %\n",
      "\n",
      "\n",
      "Showing the results of the modelling: \n",
      "GridSearch_ XGBoost performed\n",
      "--- 0.6364447752634684 minutes ---\n",
      "\n",
      "Lowest RMSE:  0.35836722195897064\n"
     ]
    },
    {
     "data": {
      "text/plain": [
       "GridSearchCV(cv=4,\n",
       "             estimator=XGBRegressor(base_score=None, booster='gbtree',\n",
       "                                    colsample_bylevel=None,\n",
       "                                    colsample_bynode=None, colsample_bytree=0.8,\n",
       "                                    gamma=0, gpu_id=None,\n",
       "                                    importance_type='gain',\n",
       "                                    interaction_constraints=None,\n",
       "                                    learning_rate=0.1, max_delta_step=None,\n",
       "                                    max_depth=6, min_child_weight=6,\n",
       "                                    missing=nan, monotone_constraints=None,\n",
       "                                    n_estimators=300, n_jobs=None,\n",
       "                                    num_parallel_tree=None, random_state=42,\n",
       "                                    reg_alpha=None, reg_lambda=1,\n",
       "                                    scale_pos_weight=None, subsample=0.8,\n",
       "                                    tree_method=None, validate_parameters=None,\n",
       "                                    verbosity=None),\n",
       "             param_grid={'gamma': [0, 0.1, 0.2, 0.3, 0.4, 0.5]},\n",
       "             scoring='neg_mean_squared_error', verbose=1)"
      ]
     },
     "execution_count": 124,
     "metadata": {},
     "output_type": "execute_result"
    }
   ],
   "source": [
    "GridSearch_XGBoost (X_train_subset, X_test_subset, y_train, y_test, PC, parameters, param_grid, plot_error=False)"
   ]
  },
  {
   "cell_type": "code",
   "execution_count": 125,
   "id": "60673771",
   "metadata": {},
   "outputs": [],
   "source": [
    "parameters={\n",
    "    'max_depth':6,\n",
    "    'n_estimators': 300,\n",
    "    'learning_rate':0.1,\n",
    "    'subsample':0.8,\n",
    "    'colsample_bytree':0.8,\n",
    "    'min_child_weight':6,\n",
    "    'gamma':0,\n",
    "    'reg_lambda':1,\n",
    "}"
   ]
  },
  {
   "cell_type": "code",
   "execution_count": 126,
   "id": "729e5f99",
   "metadata": {},
   "outputs": [],
   "source": [
    "param_grid={\n",
    "    'subsample': [0.4, 0.5, 0.6, 0.7, 0.8, 0.9, 1],\n",
    "    'colsample_bytree': [0.4, 0.5, 0.6, 0.7, 0.8, 0.9, 1]\n",
    "}"
   ]
  },
  {
   "cell_type": "code",
   "execution_count": 127,
   "id": "5d0e2bfb",
   "metadata": {
    "scrolled": true
   },
   "outputs": [
    {
     "name": "stdout",
     "output_type": "stream",
     "text": [
      "Fitting 4 folds for each of 49 candidates, totalling 196 fits\n",
      "\n",
      "Best parameters :\n",
      "{'colsample_bytree': 1, 'subsample': 0.7}\n",
      "\n",
      "power curve computation performed\n",
      "power curve computation performed\n",
      "Modelling errors for training set:\n",
      "Wind RMSE:  0.116 m/s as root mean\n",
      "Wind MAE:  0.088 m/s in avg\n",
      "Wind MAPE:  1.033 %\n",
      "Power RMSE:  56.307 kW as root mean\n",
      "Power MAE:  34.592 kW in avg\n",
      "Power MAPE:  2.293 %\n",
      "\n",
      "Modelling errors for test set:\n",
      "Wind RMSE:  0.356 m/s as root mean\n",
      "Wind MAE:  0.272 m/s in avg\n",
      "Wind MAPE:  3.25 %\n",
      "Power RMSE:  165.673 kW as root mean\n",
      "Power MAE:  105.112 kW in avg\n",
      "Power MAPE:  7.537 %\n",
      "\n",
      "\n",
      "Showing the results of the modelling: \n",
      "GridSearch_ XGBoost performed\n",
      "--- 4.505081057548523 minutes ---\n",
      "\n",
      "Lowest RMSE:  0.3523409316903785\n"
     ]
    },
    {
     "data": {
      "text/plain": [
       "GridSearchCV(cv=4,\n",
       "             estimator=XGBRegressor(base_score=None, booster='gbtree',\n",
       "                                    colsample_bylevel=None,\n",
       "                                    colsample_bynode=None, colsample_bytree=0.8,\n",
       "                                    gamma=0, gpu_id=None,\n",
       "                                    importance_type='gain',\n",
       "                                    interaction_constraints=None,\n",
       "                                    learning_rate=0.1, max_delta_step=None,\n",
       "                                    max_depth=6, min_child_weight=6,\n",
       "                                    missing=nan, monotone_constraints=None,\n",
       "                                    n_estimators=300, n_jobs=None,\n",
       "                                    num_parallel_tree=None, random_state=42,\n",
       "                                    reg_alpha=None, reg_lambda=1,\n",
       "                                    scale_pos_weight=None, subsample=0.8,\n",
       "                                    tree_method=None, validate_parameters=None,\n",
       "                                    verbosity=None),\n",
       "             param_grid={'colsample_bytree': [0.4, 0.5, 0.6, 0.7, 0.8, 0.9, 1],\n",
       "                         'subsample': [0.4, 0.5, 0.6, 0.7, 0.8, 0.9, 1]},\n",
       "             scoring='neg_mean_squared_error', verbose=1)"
      ]
     },
     "execution_count": 127,
     "metadata": {},
     "output_type": "execute_result"
    }
   ],
   "source": [
    "GridSearch_XGBoost (X_train_subset, X_test_subset, y_train, y_test, PC, parameters, param_grid, plot_error=False)"
   ]
  },
  {
   "cell_type": "code",
   "execution_count": 128,
   "id": "15aac7fc",
   "metadata": {},
   "outputs": [],
   "source": [
    "parameters={\n",
    "    'max_depth':6,\n",
    "    'n_estimators': 300,\n",
    "    'learning_rate':0.1,\n",
    "    'subsample':0.7,\n",
    "    'colsample_bytree':1,\n",
    "    'min_child_weight':6,\n",
    "    'gamma':0,\n",
    "    'reg_lambda':1,\n",
    "}"
   ]
  },
  {
   "cell_type": "code",
   "execution_count": 129,
   "id": "2861c37c",
   "metadata": {},
   "outputs": [],
   "source": [
    "param_grid={\n",
    "    'reg_lambda': [1, 10, 50, 100, 150]\n",
    "}"
   ]
  },
  {
   "cell_type": "code",
   "execution_count": 130,
   "id": "ee08b190",
   "metadata": {
    "scrolled": true
   },
   "outputs": [
    {
     "name": "stdout",
     "output_type": "stream",
     "text": [
      "Fitting 4 folds for each of 5 candidates, totalling 20 fits\n",
      "\n",
      "Best parameters :\n",
      "{'reg_lambda': 10}\n",
      "\n",
      "power curve computation performed\n",
      "power curve computation performed\n",
      "Modelling errors for training set:\n",
      "Wind RMSE:  0.146 m/s as root mean\n",
      "Wind MAE:  0.11 m/s in avg\n",
      "Wind MAPE:  1.284 %\n",
      "Power RMSE:  69.115 kW as root mean\n",
      "Power MAE:  42.304 kW in avg\n",
      "Power MAPE:  2.868 %\n",
      "\n",
      "Modelling errors for test set:\n",
      "Wind RMSE:  0.352 m/s as root mean\n",
      "Wind MAE:  0.271 m/s in avg\n",
      "Wind MAPE:  3.205 %\n",
      "Power RMSE:  165.639 kW as root mean\n",
      "Power MAE:  104.712 kW in avg\n",
      "Power MAPE:  7.342 %\n",
      "\n",
      "\n",
      "Showing the results of the modelling: \n",
      "GridSearch_ XGBoost performed\n",
      "--- 0.6080136458079021 minutes ---\n",
      "\n",
      "Lowest RMSE:  0.3492455640009112\n"
     ]
    },
    {
     "data": {
      "text/plain": [
       "GridSearchCV(cv=4,\n",
       "             estimator=XGBRegressor(base_score=None, booster='gbtree',\n",
       "                                    colsample_bylevel=None,\n",
       "                                    colsample_bynode=None, colsample_bytree=1,\n",
       "                                    gamma=0, gpu_id=None,\n",
       "                                    importance_type='gain',\n",
       "                                    interaction_constraints=None,\n",
       "                                    learning_rate=0.1, max_delta_step=None,\n",
       "                                    max_depth=6, min_child_weight=6,\n",
       "                                    missing=nan, monotone_constraints=None,\n",
       "                                    n_estimators=300, n_jobs=None,\n",
       "                                    num_parallel_tree=None, random_state=42,\n",
       "                                    reg_alpha=None, reg_lambda=1,\n",
       "                                    scale_pos_weight=None, subsample=0.7,\n",
       "                                    tree_method=None, validate_parameters=None,\n",
       "                                    verbosity=None),\n",
       "             param_grid={'reg_lambda': [1, 10, 50, 100, 150]},\n",
       "             scoring='neg_mean_squared_error', verbose=1)"
      ]
     },
     "execution_count": 130,
     "metadata": {},
     "output_type": "execute_result"
    }
   ],
   "source": [
    "GridSearch_XGBoost (X_train_subset, X_test_subset, y_train, y_test, PC, parameters, param_grid, plot_error=False)"
   ]
  },
  {
   "cell_type": "code",
   "execution_count": 131,
   "id": "3de03294",
   "metadata": {},
   "outputs": [],
   "source": [
    "parameters={\n",
    "    'max_depth':6,\n",
    "    'n_estimators': 300,\n",
    "    'learning_rate':0.1,\n",
    "    'subsample':0.7,\n",
    "    'colsample_bytree':1,\n",
    "    'min_child_weight':6,\n",
    "    'gamma':0,\n",
    "    'reg_lambda':10,\n",
    "}"
   ]
  },
  {
   "cell_type": "code",
   "execution_count": 132,
   "id": "7f7dfec4",
   "metadata": {},
   "outputs": [],
   "source": [
    "param_grid={\n",
    "    'learning_rate': [0.001, 0.01, 0.1, 0.5],\n",
    "    'n_estimators': [800, 900, 1000, 1200, 1500, 1800, 2000]\n",
    "}"
   ]
  },
  {
   "cell_type": "code",
   "execution_count": 133,
   "id": "fc7139a1",
   "metadata": {
    "scrolled": true
   },
   "outputs": [
    {
     "name": "stdout",
     "output_type": "stream",
     "text": [
      "Fitting 4 folds for each of 28 candidates, totalling 112 fits\n",
      "\n",
      "Best parameters :\n",
      "{'learning_rate': 0.01, 'n_estimators': 2000}\n",
      "\n",
      "power curve computation performed\n",
      "power curve computation performed\n",
      "Modelling errors for training set:\n",
      "Wind RMSE:  0.183 m/s as root mean\n",
      "Wind MAE:  0.139 m/s in avg\n",
      "Wind MAPE:  1.628 %\n",
      "Power RMSE:  86.659 kW as root mean\n",
      "Power MAE:  53.3 kW in avg\n",
      "Power MAPE:  3.664 %\n",
      "\n",
      "Modelling errors for test set:\n",
      "Wind RMSE:  0.345 m/s as root mean\n",
      "Wind MAE:  0.264 m/s in avg\n",
      "Wind MAPE:  3.141 %\n",
      "Power RMSE:  161.931 kW as root mean\n",
      "Power MAE:  102.551 kW in avg\n",
      "Power MAPE:  7.245 %\n",
      "\n",
      "\n",
      "Showing the results of the modelling: \n",
      "GridSearch_ XGBoost performed\n",
      "--- 11.505776337782542 minutes ---\n",
      "\n",
      "Lowest RMSE:  0.3437649573903065\n"
     ]
    },
    {
     "data": {
      "text/plain": [
       "GridSearchCV(cv=4,\n",
       "             estimator=XGBRegressor(base_score=None, booster='gbtree',\n",
       "                                    colsample_bylevel=None,\n",
       "                                    colsample_bynode=None, colsample_bytree=1,\n",
       "                                    gamma=0, gpu_id=None,\n",
       "                                    importance_type='gain',\n",
       "                                    interaction_constraints=None,\n",
       "                                    learning_rate=0.1, max_delta_step=None,\n",
       "                                    max_depth=6, min_child_weight=6,\n",
       "                                    missing=nan, monotone_constraints=None,\n",
       "                                    n_estimators=300, n_jobs=None,\n",
       "                                    num_parallel_tree=None, random_state=42,\n",
       "                                    reg_alpha=None, reg_lambda=10,\n",
       "                                    scale_pos_weight=None, subsample=0.7,\n",
       "                                    tree_method=None, validate_parameters=None,\n",
       "                                    verbosity=None),\n",
       "             param_grid={'learning_rate': [0.001, 0.01, 0.1, 0.5],\n",
       "                         'n_estimators': [800, 900, 1000, 1200, 1500, 1800,\n",
       "                                          2000]},\n",
       "             scoring='neg_mean_squared_error', verbose=1)"
      ]
     },
     "execution_count": 133,
     "metadata": {},
     "output_type": "execute_result"
    }
   ],
   "source": [
    "GridSearch_XGBoost (X_train_subset, X_test_subset, y_train, y_test, PC, parameters, param_grid, plot_error=False)"
   ]
  },
  {
   "cell_type": "markdown",
   "id": "a3d582e4",
   "metadata": {},
   "source": [
    "### Testing"
   ]
  },
  {
   "cell_type": "code",
   "execution_count": 134,
   "id": "ca08e860",
   "metadata": {},
   "outputs": [],
   "source": [
    "parameters={\n",
    "    'max_depth':6,\n",
    "    'n_estimators': 2000,\n",
    "    'learning_rate':0.01,\n",
    "    'subsample':0.7,\n",
    "    'colsample_bytree':1,\n",
    "    'min_child_weight':6,\n",
    "    'gamma':0,\n",
    "    'reg_lambda':10,\n",
    "}"
   ]
  },
  {
   "cell_type": "code",
   "execution_count": 135,
   "id": "e02d6968",
   "metadata": {},
   "outputs": [],
   "source": [
    "#modelling"
   ]
  },
  {
   "cell_type": "code",
   "execution_count": 136,
   "id": "d9ea99ad",
   "metadata": {},
   "outputs": [
    {
     "name": "stdout",
     "output_type": "stream",
     "text": [
      "power curve computation performed\n",
      "power curve computation performed\n",
      "Modelling errors for training set:\n",
      "Wind RMSE:  0.183 m/s as root mean\n",
      "Wind MAE:  0.139 m/s in avg\n",
      "Wind MAPE:  1.628 %\n",
      "Power RMSE:  86.659 kW as root mean\n",
      "Power MAE:  53.3 kW in avg\n",
      "Power MAPE:  3.664 %\n",
      "\n",
      "Modelling errors for test set:\n",
      "Wind RMSE:  0.345 m/s as root mean\n",
      "Wind MAE:  0.264 m/s in avg\n",
      "Wind MAPE:  3.141 %\n",
      "Power RMSE:  161.931 kW as root mean\n",
      "Power MAE:  102.551 kW in avg\n",
      "Power MAPE:  7.245 %\n",
      "\n",
      "\n",
      "Showing the results of the modelling: \n",
      "XGBoost modelling performed\n"
     ]
    }
   ],
   "source": [
    "model = modelling_XGBoost (X_train_subset, X_test_subset, y_train, y_test, PC, parameters, plot_error=False, plot=True)"
   ]
  },
  {
   "cell_type": "code",
   "execution_count": 137,
   "id": "49492522",
   "metadata": {},
   "outputs": [],
   "source": [
    "#testing"
   ]
  },
  {
   "cell_type": "code",
   "execution_count": 138,
   "id": "62b2172b",
   "metadata": {},
   "outputs": [
    {
     "name": "stdout",
     "output_type": "stream",
     "text": [
      "power curve computation performed\n",
      "power curve computation performed\n",
      "Modelling errors for training set:\n",
      "Wind RMSE:  0.183 m/s as root mean\n",
      "Wind MAE:  0.139 m/s in avg\n",
      "Wind MAPE:  1.628 %\n",
      "Power RMSE:  86.659 kW as root mean\n",
      "Power MAE:  53.3 kW in avg\n",
      "Power MAPE:  3.664 %\n",
      "\n",
      "Modelling errors for test set:\n",
      "Wind RMSE:  0.345 m/s as root mean\n",
      "Wind MAE:  0.264 m/s in avg\n",
      "Wind MAPE:  3.141 %\n",
      "Power RMSE:  161.931 kW as root mean\n",
      "Power MAE:  102.551 kW in avg\n",
      "Power MAPE:  7.245 %\n",
      "\n",
      "\n",
      "Showing the results of the modelling: \n",
      "XGBoost results performed\n"
     ]
    }
   ],
   "source": [
    "WS_pred=model_testing (X_train_subset, X_test_subset, y_train, y_test, PC, model, plot_error=False)"
   ]
  },
  {
   "cell_type": "code",
   "execution_count": 139,
   "id": "bb5d6d8a",
   "metadata": {},
   "outputs": [
    {
     "name": "stdout",
     "output_type": "stream",
     "text": [
      "file Subset4_XGB_WTG14.csv saved in \\Results_ folder\n"
     ]
    }
   ],
   "source": [
    "WS_pred=pd.DataFrame(WS_pred)\n",
    "save(WS_pred,'\\Results_','Subset4_XGB_WTG14.csv')"
   ]
  },
  {
   "cell_type": "code",
   "execution_count": null,
   "id": "1500ccba",
   "metadata": {},
   "outputs": [],
   "source": []
  },
  {
   "cell_type": "markdown",
   "id": "9171a339",
   "metadata": {},
   "source": [
    "## Subset5"
   ]
  },
  {
   "cell_type": "code",
   "execution_count": 140,
   "id": "d38ad339",
   "metadata": {},
   "outputs": [],
   "source": [
    "X_train_subset=subset_selection(X_train, 5)\n",
    "X_test_subset=subset_selection(X_test, 5)"
   ]
  },
  {
   "cell_type": "code",
   "execution_count": 141,
   "id": "3f16917f",
   "metadata": {},
   "outputs": [
    {
     "data": {
      "text/html": [
       "<div>\n",
       "<style scoped>\n",
       "    .dataframe tbody tr th:only-of-type {\n",
       "        vertical-align: middle;\n",
       "    }\n",
       "\n",
       "    .dataframe tbody tr th {\n",
       "        vertical-align: top;\n",
       "    }\n",
       "\n",
       "    .dataframe thead th {\n",
       "        text-align: right;\n",
       "    }\n",
       "</style>\n",
       "<table border=\"1\" class=\"dataframe\">\n",
       "  <thead>\n",
       "    <tr style=\"text-align: right;\">\n",
       "      <th></th>\n",
       "      <th>WS1</th>\n",
       "      <th>tod</th>\n",
       "      <th>TI</th>\n",
       "      <th>WSHor</th>\n",
       "      <th>WSVer</th>\n",
       "      <th>WDHor</th>\n",
       "      <th>WDVer</th>\n",
       "      <th>WS4</th>\n",
       "      <th>WSH</th>\n",
       "      <th>WS3</th>\n",
       "      <th>WD4</th>\n",
       "    </tr>\n",
       "  </thead>\n",
       "  <tbody>\n",
       "    <tr>\n",
       "      <th>0</th>\n",
       "      <td>0.020975</td>\n",
       "      <td>1.000000</td>\n",
       "      <td>0.207488</td>\n",
       "      <td>0.029529</td>\n",
       "      <td>0.459364</td>\n",
       "      <td>0.053589</td>\n",
       "      <td>0.429742</td>\n",
       "      <td>0.100394</td>\n",
       "      <td>0.439725</td>\n",
       "      <td>0.066975</td>\n",
       "      <td>0.586977</td>\n",
       "    </tr>\n",
       "    <tr>\n",
       "      <th>1</th>\n",
       "      <td>0.065031</td>\n",
       "      <td>0.041958</td>\n",
       "      <td>0.124319</td>\n",
       "      <td>0.068877</td>\n",
       "      <td>0.321555</td>\n",
       "      <td>0.059900</td>\n",
       "      <td>0.275543</td>\n",
       "      <td>0.163620</td>\n",
       "      <td>0.345484</td>\n",
       "      <td>0.124902</td>\n",
       "      <td>0.158576</td>\n",
       "    </tr>\n",
       "    <tr>\n",
       "      <th>2</th>\n",
       "      <td>0.212434</td>\n",
       "      <td>0.006993</td>\n",
       "      <td>0.377173</td>\n",
       "      <td>0.216979</td>\n",
       "      <td>0.344857</td>\n",
       "      <td>0.909151</td>\n",
       "      <td>0.346802</td>\n",
       "      <td>0.292307</td>\n",
       "      <td>0.340846</td>\n",
       "      <td>0.281079</td>\n",
       "      <td>0.631750</td>\n",
       "    </tr>\n",
       "    <tr>\n",
       "      <th>3</th>\n",
       "      <td>0.871467</td>\n",
       "      <td>0.293706</td>\n",
       "      <td>0.202202</td>\n",
       "      <td>0.874755</td>\n",
       "      <td>0.500812</td>\n",
       "      <td>0.706084</td>\n",
       "      <td>0.448942</td>\n",
       "      <td>0.871817</td>\n",
       "      <td>0.329727</td>\n",
       "      <td>0.871425</td>\n",
       "      <td>0.683743</td>\n",
       "    </tr>\n",
       "    <tr>\n",
       "      <th>4</th>\n",
       "      <td>0.324850</td>\n",
       "      <td>0.762238</td>\n",
       "      <td>0.344330</td>\n",
       "      <td>0.332251</td>\n",
       "      <td>0.495464</td>\n",
       "      <td>0.804627</td>\n",
       "      <td>0.465200</td>\n",
       "      <td>0.470751</td>\n",
       "      <td>0.195611</td>\n",
       "      <td>0.397760</td>\n",
       "      <td>0.750985</td>\n",
       "    </tr>\n",
       "    <tr>\n",
       "      <th>...</th>\n",
       "      <td>...</td>\n",
       "      <td>...</td>\n",
       "      <td>...</td>\n",
       "      <td>...</td>\n",
       "      <td>...</td>\n",
       "      <td>...</td>\n",
       "      <td>...</td>\n",
       "      <td>...</td>\n",
       "      <td>...</td>\n",
       "      <td>...</td>\n",
       "      <td>...</td>\n",
       "    </tr>\n",
       "    <tr>\n",
       "      <th>3041</th>\n",
       "      <td>0.534532</td>\n",
       "      <td>0.419580</td>\n",
       "      <td>0.371217</td>\n",
       "      <td>0.544557</td>\n",
       "      <td>0.352688</td>\n",
       "      <td>0.702762</td>\n",
       "      <td>0.403211</td>\n",
       "      <td>0.695452</td>\n",
       "      <td>0.173290</td>\n",
       "      <td>0.616674</td>\n",
       "      <td>0.651365</td>\n",
       "    </tr>\n",
       "    <tr>\n",
       "      <th>3042</th>\n",
       "      <td>0.357270</td>\n",
       "      <td>0.874126</td>\n",
       "      <td>0.231236</td>\n",
       "      <td>0.368119</td>\n",
       "      <td>0.350110</td>\n",
       "      <td>0.402231</td>\n",
       "      <td>0.362418</td>\n",
       "      <td>0.396343</td>\n",
       "      <td>0.379675</td>\n",
       "      <td>0.366648</td>\n",
       "      <td>0.448505</td>\n",
       "    </tr>\n",
       "    <tr>\n",
       "      <th>3043</th>\n",
       "      <td>0.431474</td>\n",
       "      <td>0.867133</td>\n",
       "      <td>0.232592</td>\n",
       "      <td>0.442114</td>\n",
       "      <td>0.389075</td>\n",
       "      <td>0.667303</td>\n",
       "      <td>0.398147</td>\n",
       "      <td>0.454500</td>\n",
       "      <td>0.385883</td>\n",
       "      <td>0.450032</td>\n",
       "      <td>0.603778</td>\n",
       "    </tr>\n",
       "    <tr>\n",
       "      <th>3044</th>\n",
       "      <td>0.644727</td>\n",
       "      <td>0.993007</td>\n",
       "      <td>0.095348</td>\n",
       "      <td>0.641298</td>\n",
       "      <td>0.680546</td>\n",
       "      <td>0.961800</td>\n",
       "      <td>0.525524</td>\n",
       "      <td>0.561681</td>\n",
       "      <td>0.483026</td>\n",
       "      <td>0.641783</td>\n",
       "      <td>0.673569</td>\n",
       "    </tr>\n",
       "    <tr>\n",
       "      <th>3045</th>\n",
       "      <td>0.270322</td>\n",
       "      <td>0.713287</td>\n",
       "      <td>0.369781</td>\n",
       "      <td>0.277896</td>\n",
       "      <td>0.568905</td>\n",
       "      <td>0.783064</td>\n",
       "      <td>0.521445</td>\n",
       "      <td>0.408264</td>\n",
       "      <td>0.211535</td>\n",
       "      <td>0.345108</td>\n",
       "      <td>0.701455</td>\n",
       "    </tr>\n",
       "  </tbody>\n",
       "</table>\n",
       "<p>3046 rows × 11 columns</p>\n",
       "</div>"
      ],
      "text/plain": [
       "           WS1       tod        TI     WSHor     WSVer     WDHor     WDVer  \\\n",
       "0     0.020975  1.000000  0.207488  0.029529  0.459364  0.053589  0.429742   \n",
       "1     0.065031  0.041958  0.124319  0.068877  0.321555  0.059900  0.275543   \n",
       "2     0.212434  0.006993  0.377173  0.216979  0.344857  0.909151  0.346802   \n",
       "3     0.871467  0.293706  0.202202  0.874755  0.500812  0.706084  0.448942   \n",
       "4     0.324850  0.762238  0.344330  0.332251  0.495464  0.804627  0.465200   \n",
       "...        ...       ...       ...       ...       ...       ...       ...   \n",
       "3041  0.534532  0.419580  0.371217  0.544557  0.352688  0.702762  0.403211   \n",
       "3042  0.357270  0.874126  0.231236  0.368119  0.350110  0.402231  0.362418   \n",
       "3043  0.431474  0.867133  0.232592  0.442114  0.389075  0.667303  0.398147   \n",
       "3044  0.644727  0.993007  0.095348  0.641298  0.680546  0.961800  0.525524   \n",
       "3045  0.270322  0.713287  0.369781  0.277896  0.568905  0.783064  0.521445   \n",
       "\n",
       "           WS4       WSH       WS3       WD4  \n",
       "0     0.100394  0.439725  0.066975  0.586977  \n",
       "1     0.163620  0.345484  0.124902  0.158576  \n",
       "2     0.292307  0.340846  0.281079  0.631750  \n",
       "3     0.871817  0.329727  0.871425  0.683743  \n",
       "4     0.470751  0.195611  0.397760  0.750985  \n",
       "...        ...       ...       ...       ...  \n",
       "3041  0.695452  0.173290  0.616674  0.651365  \n",
       "3042  0.396343  0.379675  0.366648  0.448505  \n",
       "3043  0.454500  0.385883  0.450032  0.603778  \n",
       "3044  0.561681  0.483026  0.641783  0.673569  \n",
       "3045  0.408264  0.211535  0.345108  0.701455  \n",
       "\n",
       "[3046 rows x 11 columns]"
      ]
     },
     "execution_count": 141,
     "metadata": {},
     "output_type": "execute_result"
    }
   ],
   "source": [
    "X_train_subset"
   ]
  },
  {
   "cell_type": "markdown",
   "id": "38344d50",
   "metadata": {},
   "source": [
    "### Grid Search"
   ]
  },
  {
   "cell_type": "code",
   "execution_count": 142,
   "id": "546f0689",
   "metadata": {},
   "outputs": [],
   "source": [
    "parameters={\n",
    "    'max_depth':5,\n",
    "    'n_estimators': 1000,\n",
    "    'learning_rate':0.1,\n",
    "    'subsample':0.8,\n",
    "    'colsample_bytree':0.8,\n",
    "    'min_child_weight':1,\n",
    "    'gamma':0,\n",
    "    'reg_lambda':1,\n",
    "}"
   ]
  },
  {
   "cell_type": "code",
   "execution_count": 143,
   "id": "72228686",
   "metadata": {},
   "outputs": [],
   "source": [
    "param_grid={\n",
    "    'n_estimators': [100, 200, 300, 400, 500, 600, 700, 800, 900, 1000],\n",
    "}"
   ]
  },
  {
   "cell_type": "code",
   "execution_count": 144,
   "id": "875b8c87",
   "metadata": {
    "scrolled": true
   },
   "outputs": [
    {
     "name": "stdout",
     "output_type": "stream",
     "text": [
      "Fitting 4 folds for each of 10 candidates, totalling 40 fits\n",
      "\n",
      "Best parameters :\n",
      "{'n_estimators': 300}\n",
      "\n",
      "power curve computation performed\n",
      "power curve computation performed\n",
      "Modelling errors for training set:\n",
      "Wind RMSE:  0.136 m/s as root mean\n",
      "Wind MAE:  0.105 m/s in avg\n",
      "Wind MAPE:  1.221 %\n",
      "Power RMSE:  65.933 kW as root mean\n",
      "Power MAE:  41.189 kW in avg\n",
      "Power MAPE:  2.679 %\n",
      "\n",
      "Modelling errors for test set:\n",
      "Wind RMSE:  0.354 m/s as root mean\n",
      "Wind MAE:  0.271 m/s in avg\n",
      "Wind MAPE:  3.23 %\n",
      "Power RMSE:  165.388 kW as root mean\n",
      "Power MAE:  104.713 kW in avg\n",
      "Power MAPE:  7.45 %\n",
      "\n",
      "\n",
      "Showing the results of the modelling: \n",
      "GridSearch_ XGBoost performed\n",
      "--- 1.9844670017560324 minutes ---\n",
      "\n",
      "Lowest RMSE:  0.3571250249849731\n"
     ]
    },
    {
     "data": {
      "text/plain": [
       "GridSearchCV(cv=4,\n",
       "             estimator=XGBRegressor(base_score=None, booster='gbtree',\n",
       "                                    colsample_bylevel=None,\n",
       "                                    colsample_bynode=None, colsample_bytree=0.8,\n",
       "                                    gamma=0, gpu_id=None,\n",
       "                                    importance_type='gain',\n",
       "                                    interaction_constraints=None,\n",
       "                                    learning_rate=0.1, max_delta_step=None,\n",
       "                                    max_depth=5, min_child_weight=1,\n",
       "                                    missing=nan, monotone_constraints=None,\n",
       "                                    n_estimators=1000, n_jobs=None,\n",
       "                                    num_parallel_tree=None, random_state=42,\n",
       "                                    reg_alpha=None, reg_lambda=1,\n",
       "                                    scale_pos_weight=None, subsample=0.8,\n",
       "                                    tree_method=None, validate_parameters=None,\n",
       "                                    verbosity=None),\n",
       "             param_grid={'n_estimators': [100, 200, 300, 400, 500, 600, 700,\n",
       "                                          800, 900, 1000]},\n",
       "             scoring='neg_mean_squared_error', verbose=1)"
      ]
     },
     "execution_count": 144,
     "metadata": {},
     "output_type": "execute_result"
    }
   ],
   "source": [
    "GridSearch_XGBoost (X_train_subset, X_test_subset, y_train, y_test, PC, parameters, param_grid, plot_error=False)"
   ]
  },
  {
   "cell_type": "code",
   "execution_count": 145,
   "id": "b4ba5bae",
   "metadata": {},
   "outputs": [],
   "source": [
    "parameters={\n",
    "    'max_depth':5,\n",
    "    'n_estimators': 300,\n",
    "    'learning_rate':0.1,\n",
    "    'subsample':0.8,\n",
    "    'colsample_bytree':0.8,\n",
    "    'min_child_weight':1,\n",
    "    'gamma':0,\n",
    "    'reg_lambda':1,\n",
    "}"
   ]
  },
  {
   "cell_type": "code",
   "execution_count": 146,
   "id": "5e7371e9",
   "metadata": {},
   "outputs": [],
   "source": [
    "param_grid={\n",
    "    'max_depth': [3, 4, 5, 6, 10, 15, 20],\n",
    "    'min_child_weight': [1, 2, 3, 6, 10]\n",
    "}"
   ]
  },
  {
   "cell_type": "code",
   "execution_count": 147,
   "id": "1060ed16",
   "metadata": {
    "scrolled": true
   },
   "outputs": [
    {
     "name": "stdout",
     "output_type": "stream",
     "text": [
      "Fitting 4 folds for each of 35 candidates, totalling 140 fits\n",
      "\n",
      "Best parameters :\n",
      "{'max_depth': 6, 'min_child_weight': 10}\n",
      "\n",
      "power curve computation performed\n",
      "power curve computation performed\n",
      "Modelling errors for training set:\n",
      "Wind RMSE:  0.128 m/s as root mean\n",
      "Wind MAE:  0.097 m/s in avg\n",
      "Wind MAPE:  1.144 %\n",
      "Power RMSE:  61.638 kW as root mean\n",
      "Power MAE:  38.04 kW in avg\n",
      "Power MAPE:  2.561 %\n",
      "\n",
      "Modelling errors for test set:\n",
      "Wind RMSE:  0.357 m/s as root mean\n",
      "Wind MAE:  0.274 m/s in avg\n",
      "Wind MAPE:  3.258 %\n",
      "Power RMSE:  168.082 kW as root mean\n",
      "Power MAE:  106.164 kW in avg\n",
      "Power MAPE:  7.503 %\n",
      "\n",
      "\n",
      "Showing the results of the modelling: \n",
      "GridSearch_ XGBoost performed\n",
      "--- 6.704281353950501 minutes ---\n",
      "\n",
      "Lowest RMSE:  0.3551753986554067\n"
     ]
    },
    {
     "data": {
      "text/plain": [
       "GridSearchCV(cv=4,\n",
       "             estimator=XGBRegressor(base_score=None, booster='gbtree',\n",
       "                                    colsample_bylevel=None,\n",
       "                                    colsample_bynode=None, colsample_bytree=0.8,\n",
       "                                    gamma=0, gpu_id=None,\n",
       "                                    importance_type='gain',\n",
       "                                    interaction_constraints=None,\n",
       "                                    learning_rate=0.1, max_delta_step=None,\n",
       "                                    max_depth=5, min_child_weight=1,\n",
       "                                    missing=nan, monotone_constraints=None,\n",
       "                                    n_estimators=300, n_jobs=None,\n",
       "                                    num_parallel_tree=None, random_state=42,\n",
       "                                    reg_alpha=None, reg_lambda=1,\n",
       "                                    scale_pos_weight=None, subsample=0.8,\n",
       "                                    tree_method=None, validate_parameters=None,\n",
       "                                    verbosity=None),\n",
       "             param_grid={'max_depth': [3, 4, 5, 6, 10, 15, 20],\n",
       "                         'min_child_weight': [1, 2, 3, 6, 10]},\n",
       "             scoring='neg_mean_squared_error', verbose=1)"
      ]
     },
     "execution_count": 147,
     "metadata": {},
     "output_type": "execute_result"
    }
   ],
   "source": [
    "GridSearch_XGBoost (X_train_subset, X_test_subset, y_train, y_test, PC, parameters, param_grid, plot_error=False)"
   ]
  },
  {
   "cell_type": "code",
   "execution_count": 148,
   "id": "49cc5a5d",
   "metadata": {},
   "outputs": [],
   "source": [
    "parameters={\n",
    "    'max_depth':6,\n",
    "    'n_estimators': 300,\n",
    "    'learning_rate':0.1,\n",
    "    'subsample':0.8,\n",
    "    'colsample_bytree':0.8,\n",
    "    'min_child_weight':10,\n",
    "    'gamma':0,\n",
    "    'reg_lambda':1,\n",
    "}"
   ]
  },
  {
   "cell_type": "code",
   "execution_count": 149,
   "id": "69b65acb",
   "metadata": {},
   "outputs": [],
   "source": [
    "param_grid={\n",
    "    'gamma': [0, 0.1, 0.2, 0.3, 0.4, 0.5]\n",
    "}"
   ]
  },
  {
   "cell_type": "code",
   "execution_count": 150,
   "id": "a8209e21",
   "metadata": {
    "scrolled": true
   },
   "outputs": [
    {
     "name": "stdout",
     "output_type": "stream",
     "text": [
      "Fitting 4 folds for each of 6 candidates, totalling 24 fits\n",
      "\n",
      "Best parameters :\n",
      "{'gamma': 0}\n",
      "\n",
      "power curve computation performed\n",
      "power curve computation performed\n",
      "Modelling errors for training set:\n",
      "Wind RMSE:  0.128 m/s as root mean\n",
      "Wind MAE:  0.097 m/s in avg\n",
      "Wind MAPE:  1.144 %\n",
      "Power RMSE:  61.638 kW as root mean\n",
      "Power MAE:  38.04 kW in avg\n",
      "Power MAPE:  2.561 %\n",
      "\n",
      "Modelling errors for test set:\n",
      "Wind RMSE:  0.357 m/s as root mean\n",
      "Wind MAE:  0.274 m/s in avg\n",
      "Wind MAPE:  3.258 %\n",
      "Power RMSE:  168.082 kW as root mean\n",
      "Power MAE:  106.164 kW in avg\n",
      "Power MAPE:  7.503 %\n",
      "\n",
      "\n",
      "Showing the results of the modelling: \n",
      "GridSearch_ XGBoost performed\n",
      "--- 0.6011811335881551 minutes ---\n",
      "\n",
      "Lowest RMSE:  0.3551753986554067\n"
     ]
    },
    {
     "data": {
      "text/plain": [
       "GridSearchCV(cv=4,\n",
       "             estimator=XGBRegressor(base_score=None, booster='gbtree',\n",
       "                                    colsample_bylevel=None,\n",
       "                                    colsample_bynode=None, colsample_bytree=0.8,\n",
       "                                    gamma=0, gpu_id=None,\n",
       "                                    importance_type='gain',\n",
       "                                    interaction_constraints=None,\n",
       "                                    learning_rate=0.1, max_delta_step=None,\n",
       "                                    max_depth=6, min_child_weight=10,\n",
       "                                    missing=nan, monotone_constraints=None,\n",
       "                                    n_estimators=300, n_jobs=None,\n",
       "                                    num_parallel_tree=None, random_state=42,\n",
       "                                    reg_alpha=None, reg_lambda=1,\n",
       "                                    scale_pos_weight=None, subsample=0.8,\n",
       "                                    tree_method=None, validate_parameters=None,\n",
       "                                    verbosity=None),\n",
       "             param_grid={'gamma': [0, 0.1, 0.2, 0.3, 0.4, 0.5]},\n",
       "             scoring='neg_mean_squared_error', verbose=1)"
      ]
     },
     "execution_count": 150,
     "metadata": {},
     "output_type": "execute_result"
    }
   ],
   "source": [
    "GridSearch_XGBoost (X_train_subset, X_test_subset, y_train, y_test, PC, parameters, param_grid, plot_error=False)"
   ]
  },
  {
   "cell_type": "code",
   "execution_count": 151,
   "id": "8255613f",
   "metadata": {},
   "outputs": [],
   "source": [
    "parameters={\n",
    "    'max_depth':6,\n",
    "    'n_estimators': 300,\n",
    "    'learning_rate':0.1,\n",
    "    'subsample':0.8,\n",
    "    'colsample_bytree':0.8,\n",
    "    'min_child_weight':10,\n",
    "    'gamma':0,\n",
    "    'reg_lambda':1,\n",
    "}"
   ]
  },
  {
   "cell_type": "code",
   "execution_count": 152,
   "id": "0c42a7d7",
   "metadata": {},
   "outputs": [],
   "source": [
    "param_grid={\n",
    "    'subsample': [0.4, 0.5, 0.6, 0.7, 0.8, 0.9, 1],\n",
    "    'colsample_bytree': [0.4, 0.5, 0.6, 0.7, 0.8, 0.9, 1]\n",
    "}"
   ]
  },
  {
   "cell_type": "code",
   "execution_count": 153,
   "id": "4904b9c5",
   "metadata": {
    "scrolled": true
   },
   "outputs": [
    {
     "name": "stdout",
     "output_type": "stream",
     "text": [
      "Fitting 4 folds for each of 49 candidates, totalling 196 fits\n",
      "\n",
      "Best parameters :\n",
      "{'colsample_bytree': 1, 'subsample': 0.7}\n",
      "\n",
      "power curve computation performed\n",
      "power curve computation performed\n",
      "Modelling errors for training set:\n",
      "Wind RMSE:  0.129 m/s as root mean\n",
      "Wind MAE:  0.099 m/s in avg\n",
      "Wind MAPE:  1.152 %\n",
      "Power RMSE:  62.448 kW as root mean\n",
      "Power MAE:  38.426 kW in avg\n",
      "Power MAPE:  2.546 %\n",
      "\n",
      "Modelling errors for test set:\n",
      "Wind RMSE:  0.352 m/s as root mean\n",
      "Wind MAE:  0.267 m/s in avg\n",
      "Wind MAPE:  3.193 %\n",
      "Power RMSE:  166.226 kW as root mean\n",
      "Power MAE:  104.752 kW in avg\n",
      "Power MAPE:  7.415 %\n",
      "\n",
      "\n",
      "Showing the results of the modelling: \n",
      "GridSearch_ XGBoost performed\n",
      "--- 4.292648100852967 minutes ---\n",
      "\n",
      "Lowest RMSE:  0.34839338967216055\n"
     ]
    },
    {
     "data": {
      "text/plain": [
       "GridSearchCV(cv=4,\n",
       "             estimator=XGBRegressor(base_score=None, booster='gbtree',\n",
       "                                    colsample_bylevel=None,\n",
       "                                    colsample_bynode=None, colsample_bytree=0.8,\n",
       "                                    gamma=0, gpu_id=None,\n",
       "                                    importance_type='gain',\n",
       "                                    interaction_constraints=None,\n",
       "                                    learning_rate=0.1, max_delta_step=None,\n",
       "                                    max_depth=6, min_child_weight=10,\n",
       "                                    missing=nan, monotone_constraints=None,\n",
       "                                    n_estimators=300, n_jobs=None,\n",
       "                                    num_parallel_tree=None, random_state=42,\n",
       "                                    reg_alpha=None, reg_lambda=1,\n",
       "                                    scale_pos_weight=None, subsample=0.8,\n",
       "                                    tree_method=None, validate_parameters=None,\n",
       "                                    verbosity=None),\n",
       "             param_grid={'colsample_bytree': [0.4, 0.5, 0.6, 0.7, 0.8, 0.9, 1],\n",
       "                         'subsample': [0.4, 0.5, 0.6, 0.7, 0.8, 0.9, 1]},\n",
       "             scoring='neg_mean_squared_error', verbose=1)"
      ]
     },
     "execution_count": 153,
     "metadata": {},
     "output_type": "execute_result"
    }
   ],
   "source": [
    "GridSearch_XGBoost (X_train_subset, X_test_subset, y_train, y_test, PC, parameters, param_grid, plot_error=False)"
   ]
  },
  {
   "cell_type": "code",
   "execution_count": 154,
   "id": "4dac65de",
   "metadata": {},
   "outputs": [],
   "source": [
    "parameters={\n",
    "    'max_depth':6,\n",
    "    'n_estimators': 300,\n",
    "    'learning_rate':0.1,\n",
    "    'subsample':0.7,\n",
    "    'colsample_bytree':1,\n",
    "    'min_child_weight':10,\n",
    "    'gamma':0,\n",
    "    'reg_lambda':1,\n",
    "}"
   ]
  },
  {
   "cell_type": "code",
   "execution_count": 155,
   "id": "c8fcfd0e",
   "metadata": {},
   "outputs": [],
   "source": [
    "param_grid={\n",
    "    'reg_lambda': [1, 10, 50, 100, 150]\n",
    "}"
   ]
  },
  {
   "cell_type": "code",
   "execution_count": 156,
   "id": "e00be2fb",
   "metadata": {
    "scrolled": true
   },
   "outputs": [
    {
     "name": "stdout",
     "output_type": "stream",
     "text": [
      "Fitting 4 folds for each of 5 candidates, totalling 20 fits\n",
      "\n",
      "Best parameters :\n",
      "{'reg_lambda': 10}\n",
      "\n",
      "power curve computation performed\n",
      "power curve computation performed\n",
      "Modelling errors for training set:\n",
      "Wind RMSE:  0.15 m/s as root mean\n",
      "Wind MAE:  0.113 m/s in avg\n",
      "Wind MAPE:  1.32 %\n",
      "Power RMSE:  71.253 kW as root mean\n",
      "Power MAE:  43.367 kW in avg\n",
      "Power MAPE:  2.945 %\n",
      "\n",
      "Modelling errors for test set:\n",
      "Wind RMSE:  0.353 m/s as root mean\n",
      "Wind MAE:  0.271 m/s in avg\n",
      "Wind MAPE:  3.213 %\n",
      "Power RMSE:  165.432 kW as root mean\n",
      "Power MAE:  104.388 kW in avg\n",
      "Power MAPE:  7.349 %\n",
      "\n",
      "\n",
      "Showing the results of the modelling: \n",
      "GridSearch_ XGBoost performed\n",
      "--- 0.5717172225316366 minutes ---\n",
      "\n",
      "Lowest RMSE:  0.34814951482159107\n"
     ]
    },
    {
     "data": {
      "text/plain": [
       "GridSearchCV(cv=4,\n",
       "             estimator=XGBRegressor(base_score=None, booster='gbtree',\n",
       "                                    colsample_bylevel=None,\n",
       "                                    colsample_bynode=None, colsample_bytree=1,\n",
       "                                    gamma=0, gpu_id=None,\n",
       "                                    importance_type='gain',\n",
       "                                    interaction_constraints=None,\n",
       "                                    learning_rate=0.1, max_delta_step=None,\n",
       "                                    max_depth=6, min_child_weight=10,\n",
       "                                    missing=nan, monotone_constraints=None,\n",
       "                                    n_estimators=300, n_jobs=None,\n",
       "                                    num_parallel_tree=None, random_state=42,\n",
       "                                    reg_alpha=None, reg_lambda=1,\n",
       "                                    scale_pos_weight=None, subsample=0.7,\n",
       "                                    tree_method=None, validate_parameters=None,\n",
       "                                    verbosity=None),\n",
       "             param_grid={'reg_lambda': [1, 10, 50, 100, 150]},\n",
       "             scoring='neg_mean_squared_error', verbose=1)"
      ]
     },
     "execution_count": 156,
     "metadata": {},
     "output_type": "execute_result"
    }
   ],
   "source": [
    "GridSearch_XGBoost (X_train_subset, X_test_subset, y_train, y_test, PC, parameters, param_grid, plot_error=False)"
   ]
  },
  {
   "cell_type": "code",
   "execution_count": 157,
   "id": "4d2c2ccf",
   "metadata": {},
   "outputs": [],
   "source": [
    "parameters={\n",
    "    'max_depth':6,\n",
    "    'n_estimators': 300,\n",
    "    'learning_rate':0.1,\n",
    "    'subsample':0.7,\n",
    "    'colsample_bytree':1,\n",
    "    'min_child_weight':10,\n",
    "    'gamma':0,\n",
    "    'reg_lambda':10,\n",
    "}"
   ]
  },
  {
   "cell_type": "code",
   "execution_count": 158,
   "id": "180563b7",
   "metadata": {},
   "outputs": [],
   "source": [
    "param_grid={\n",
    "    'learning_rate': [0.001, 0.01, 0.1, 0.5],\n",
    "    'n_estimators': [800, 900, 1000, 1200, 1500, 1800, 2000]\n",
    "}"
   ]
  },
  {
   "cell_type": "code",
   "execution_count": 159,
   "id": "3d1ee308",
   "metadata": {
    "scrolled": true
   },
   "outputs": [
    {
     "name": "stdout",
     "output_type": "stream",
     "text": [
      "Fitting 4 folds for each of 28 candidates, totalling 112 fits\n",
      "\n",
      "Best parameters :\n",
      "{'learning_rate': 0.01, 'n_estimators': 2000}\n",
      "\n",
      "power curve computation performed\n",
      "power curve computation performed\n",
      "Modelling errors for training set:\n",
      "Wind RMSE:  0.187 m/s as root mean\n",
      "Wind MAE:  0.142 m/s in avg\n",
      "Wind MAPE:  1.659 %\n",
      "Power RMSE:  88.067 kW as root mean\n",
      "Power MAE:  54.081 kW in avg\n",
      "Power MAPE:  3.724 %\n",
      "\n",
      "Modelling errors for test set:\n",
      "Wind RMSE:  0.342 m/s as root mean\n",
      "Wind MAE:  0.26 m/s in avg\n",
      "Wind MAPE:  3.099 %\n",
      "Power RMSE:  160.2 kW as root mean\n",
      "Power MAE:  100.927 kW in avg\n",
      "Power MAPE:  7.157 %\n",
      "\n",
      "\n",
      "Showing the results of the modelling: \n",
      "GridSearch_ XGBoost performed\n",
      "--- 10.911642591158548 minutes ---\n",
      "\n",
      "Lowest RMSE:  0.3411606157514566\n"
     ]
    },
    {
     "data": {
      "text/plain": [
       "GridSearchCV(cv=4,\n",
       "             estimator=XGBRegressor(base_score=None, booster='gbtree',\n",
       "                                    colsample_bylevel=None,\n",
       "                                    colsample_bynode=None, colsample_bytree=1,\n",
       "                                    gamma=0, gpu_id=None,\n",
       "                                    importance_type='gain',\n",
       "                                    interaction_constraints=None,\n",
       "                                    learning_rate=0.1, max_delta_step=None,\n",
       "                                    max_depth=6, min_child_weight=10,\n",
       "                                    missing=nan, monotone_constraints=None,\n",
       "                                    n_estimators=300, n_jobs=None,\n",
       "                                    num_parallel_tree=None, random_state=42,\n",
       "                                    reg_alpha=None, reg_lambda=10,\n",
       "                                    scale_pos_weight=None, subsample=0.7,\n",
       "                                    tree_method=None, validate_parameters=None,\n",
       "                                    verbosity=None),\n",
       "             param_grid={'learning_rate': [0.001, 0.01, 0.1, 0.5],\n",
       "                         'n_estimators': [800, 900, 1000, 1200, 1500, 1800,\n",
       "                                          2000]},\n",
       "             scoring='neg_mean_squared_error', verbose=1)"
      ]
     },
     "execution_count": 159,
     "metadata": {},
     "output_type": "execute_result"
    }
   ],
   "source": [
    "GridSearch_XGBoost (X_train_subset, X_test_subset, y_train, y_test, PC, parameters, param_grid, plot_error=False)"
   ]
  },
  {
   "cell_type": "markdown",
   "id": "2681b0fd",
   "metadata": {},
   "source": [
    "### Testing"
   ]
  },
  {
   "cell_type": "code",
   "execution_count": 160,
   "id": "30fdeebd",
   "metadata": {},
   "outputs": [],
   "source": [
    "parameters={\n",
    "    'max_depth':6,\n",
    "    'n_estimators': 2000,\n",
    "    'learning_rate':0.01,\n",
    "    'subsample':0.7,\n",
    "    'colsample_bytree':1,\n",
    "    'min_child_weight':10,\n",
    "    'gamma':0,\n",
    "    'reg_lambda':10,\n",
    "}"
   ]
  },
  {
   "cell_type": "code",
   "execution_count": 161,
   "id": "2e40f7ef",
   "metadata": {},
   "outputs": [],
   "source": [
    "#modelling"
   ]
  },
  {
   "cell_type": "code",
   "execution_count": 162,
   "id": "03ca896b",
   "metadata": {},
   "outputs": [
    {
     "name": "stdout",
     "output_type": "stream",
     "text": [
      "power curve computation performed\n",
      "power curve computation performed\n",
      "Modelling errors for training set:\n",
      "Wind RMSE:  0.187 m/s as root mean\n",
      "Wind MAE:  0.142 m/s in avg\n",
      "Wind MAPE:  1.659 %\n",
      "Power RMSE:  88.067 kW as root mean\n",
      "Power MAE:  54.081 kW in avg\n",
      "Power MAPE:  3.724 %\n",
      "\n",
      "Modelling errors for test set:\n",
      "Wind RMSE:  0.342 m/s as root mean\n",
      "Wind MAE:  0.26 m/s in avg\n",
      "Wind MAPE:  3.099 %\n",
      "Power RMSE:  160.2 kW as root mean\n",
      "Power MAE:  100.927 kW in avg\n",
      "Power MAPE:  7.157 %\n",
      "\n",
      "\n",
      "Showing the results of the modelling: \n",
      "XGBoost modelling performed\n"
     ]
    }
   ],
   "source": [
    "model = modelling_XGBoost (X_train_subset, X_test_subset, y_train, y_test, PC, parameters, plot_error=False, plot=True)"
   ]
  },
  {
   "cell_type": "code",
   "execution_count": 163,
   "id": "be910fc6",
   "metadata": {},
   "outputs": [],
   "source": [
    "#testing"
   ]
  },
  {
   "cell_type": "code",
   "execution_count": 164,
   "id": "623ca15a",
   "metadata": {},
   "outputs": [
    {
     "name": "stdout",
     "output_type": "stream",
     "text": [
      "power curve computation performed\n",
      "power curve computation performed\n",
      "Modelling errors for training set:\n",
      "Wind RMSE:  0.187 m/s as root mean\n",
      "Wind MAE:  0.142 m/s in avg\n",
      "Wind MAPE:  1.659 %\n",
      "Power RMSE:  88.067 kW as root mean\n",
      "Power MAE:  54.081 kW in avg\n",
      "Power MAPE:  3.724 %\n",
      "\n",
      "Modelling errors for test set:\n",
      "Wind RMSE:  0.342 m/s as root mean\n",
      "Wind MAE:  0.26 m/s in avg\n",
      "Wind MAPE:  3.099 %\n",
      "Power RMSE:  160.2 kW as root mean\n",
      "Power MAE:  100.927 kW in avg\n",
      "Power MAPE:  7.157 %\n",
      "\n",
      "\n",
      "Showing the results of the modelling: \n",
      "XGBoost results performed\n"
     ]
    }
   ],
   "source": [
    "WS_pred=model_testing (X_train_subset, X_test_subset, y_train, y_test, PC, model, plot_error=False)"
   ]
  },
  {
   "cell_type": "code",
   "execution_count": 165,
   "id": "3acdca09",
   "metadata": {},
   "outputs": [
    {
     "name": "stdout",
     "output_type": "stream",
     "text": [
      "file Subset5_XGB_WTG14.csv saved in \\Results_ folder\n"
     ]
    }
   ],
   "source": [
    "WS_pred=pd.DataFrame(WS_pred)\n",
    "save(WS_pred,'\\Results_','Subset5_XGB_WTG14.csv')"
   ]
  },
  {
   "cell_type": "code",
   "execution_count": null,
   "id": "cde4f560",
   "metadata": {},
   "outputs": [],
   "source": []
  },
  {
   "cell_type": "markdown",
   "id": "89eb0ad8",
   "metadata": {},
   "source": [
    "## Subset6"
   ]
  },
  {
   "cell_type": "code",
   "execution_count": 166,
   "id": "7b1f1e60",
   "metadata": {},
   "outputs": [],
   "source": [
    "X_train_subset=subset_selection(X_train, 6)\n",
    "X_test_subset=subset_selection(X_test, 6)"
   ]
  },
  {
   "cell_type": "code",
   "execution_count": 167,
   "id": "e6cd19ba",
   "metadata": {},
   "outputs": [
    {
     "data": {
      "text/html": [
       "<div>\n",
       "<style scoped>\n",
       "    .dataframe tbody tr th:only-of-type {\n",
       "        vertical-align: middle;\n",
       "    }\n",
       "\n",
       "    .dataframe tbody tr th {\n",
       "        vertical-align: top;\n",
       "    }\n",
       "\n",
       "    .dataframe thead th {\n",
       "        text-align: right;\n",
       "    }\n",
       "</style>\n",
       "<table border=\"1\" class=\"dataframe\">\n",
       "  <thead>\n",
       "    <tr style=\"text-align: right;\">\n",
       "      <th></th>\n",
       "      <th>WS1</th>\n",
       "      <th>tod</th>\n",
       "      <th>TI</th>\n",
       "      <th>WSHor</th>\n",
       "      <th>WSVer</th>\n",
       "      <th>WDHor</th>\n",
       "      <th>WDVer</th>\n",
       "      <th>WS4</th>\n",
       "      <th>WSH</th>\n",
       "      <th>WS3</th>\n",
       "      <th>WD4</th>\n",
       "      <th>WD1</th>\n",
       "      <th>WVeer</th>\n",
       "    </tr>\n",
       "  </thead>\n",
       "  <tbody>\n",
       "    <tr>\n",
       "      <th>0</th>\n",
       "      <td>0.020975</td>\n",
       "      <td>1.000000</td>\n",
       "      <td>0.207488</td>\n",
       "      <td>0.029529</td>\n",
       "      <td>0.459364</td>\n",
       "      <td>0.053589</td>\n",
       "      <td>0.429742</td>\n",
       "      <td>0.100394</td>\n",
       "      <td>0.439725</td>\n",
       "      <td>0.066975</td>\n",
       "      <td>0.586977</td>\n",
       "      <td>0.057697</td>\n",
       "      <td>0.094759</td>\n",
       "    </tr>\n",
       "    <tr>\n",
       "      <th>1</th>\n",
       "      <td>0.065031</td>\n",
       "      <td>0.041958</td>\n",
       "      <td>0.124319</td>\n",
       "      <td>0.068877</td>\n",
       "      <td>0.321555</td>\n",
       "      <td>0.059900</td>\n",
       "      <td>0.275543</td>\n",
       "      <td>0.163620</td>\n",
       "      <td>0.345484</td>\n",
       "      <td>0.124902</td>\n",
       "      <td>0.158576</td>\n",
       "      <td>0.063196</td>\n",
       "      <td>0.607850</td>\n",
       "    </tr>\n",
       "    <tr>\n",
       "      <th>2</th>\n",
       "      <td>0.212434</td>\n",
       "      <td>0.006993</td>\n",
       "      <td>0.377173</td>\n",
       "      <td>0.216979</td>\n",
       "      <td>0.344857</td>\n",
       "      <td>0.909151</td>\n",
       "      <td>0.346802</td>\n",
       "      <td>0.292307</td>\n",
       "      <td>0.340846</td>\n",
       "      <td>0.281079</td>\n",
       "      <td>0.631750</td>\n",
       "      <td>0.910616</td>\n",
       "      <td>0.678993</td>\n",
       "    </tr>\n",
       "    <tr>\n",
       "      <th>3</th>\n",
       "      <td>0.871467</td>\n",
       "      <td>0.293706</td>\n",
       "      <td>0.202202</td>\n",
       "      <td>0.874755</td>\n",
       "      <td>0.500812</td>\n",
       "      <td>0.706084</td>\n",
       "      <td>0.448942</td>\n",
       "      <td>0.871817</td>\n",
       "      <td>0.329727</td>\n",
       "      <td>0.871425</td>\n",
       "      <td>0.683743</td>\n",
       "      <td>0.711110</td>\n",
       "      <td>0.468120</td>\n",
       "    </tr>\n",
       "    <tr>\n",
       "      <th>4</th>\n",
       "      <td>0.324850</td>\n",
       "      <td>0.762238</td>\n",
       "      <td>0.344330</td>\n",
       "      <td>0.332251</td>\n",
       "      <td>0.495464</td>\n",
       "      <td>0.804627</td>\n",
       "      <td>0.465200</td>\n",
       "      <td>0.470751</td>\n",
       "      <td>0.195611</td>\n",
       "      <td>0.397760</td>\n",
       "      <td>0.750985</td>\n",
       "      <td>0.815900</td>\n",
       "      <td>0.466545</td>\n",
       "    </tr>\n",
       "    <tr>\n",
       "      <th>...</th>\n",
       "      <td>...</td>\n",
       "      <td>...</td>\n",
       "      <td>...</td>\n",
       "      <td>...</td>\n",
       "      <td>...</td>\n",
       "      <td>...</td>\n",
       "      <td>...</td>\n",
       "      <td>...</td>\n",
       "      <td>...</td>\n",
       "      <td>...</td>\n",
       "      <td>...</td>\n",
       "      <td>...</td>\n",
       "      <td>...</td>\n",
       "    </tr>\n",
       "    <tr>\n",
       "      <th>3041</th>\n",
       "      <td>0.534532</td>\n",
       "      <td>0.419580</td>\n",
       "      <td>0.371217</td>\n",
       "      <td>0.544557</td>\n",
       "      <td>0.352688</td>\n",
       "      <td>0.702762</td>\n",
       "      <td>0.403211</td>\n",
       "      <td>0.695452</td>\n",
       "      <td>0.173290</td>\n",
       "      <td>0.616674</td>\n",
       "      <td>0.651365</td>\n",
       "      <td>0.712085</td>\n",
       "      <td>0.507316</td>\n",
       "    </tr>\n",
       "    <tr>\n",
       "      <th>3042</th>\n",
       "      <td>0.357270</td>\n",
       "      <td>0.874126</td>\n",
       "      <td>0.231236</td>\n",
       "      <td>0.368119</td>\n",
       "      <td>0.350110</td>\n",
       "      <td>0.402231</td>\n",
       "      <td>0.362418</td>\n",
       "      <td>0.396343</td>\n",
       "      <td>0.379675</td>\n",
       "      <td>0.366648</td>\n",
       "      <td>0.448505</td>\n",
       "      <td>0.408939</td>\n",
       "      <td>0.521778</td>\n",
       "    </tr>\n",
       "    <tr>\n",
       "      <th>3043</th>\n",
       "      <td>0.431474</td>\n",
       "      <td>0.867133</td>\n",
       "      <td>0.232592</td>\n",
       "      <td>0.442114</td>\n",
       "      <td>0.389075</td>\n",
       "      <td>0.667303</td>\n",
       "      <td>0.398147</td>\n",
       "      <td>0.454500</td>\n",
       "      <td>0.385883</td>\n",
       "      <td>0.450032</td>\n",
       "      <td>0.603778</td>\n",
       "      <td>0.676574</td>\n",
       "      <td>0.537315</td>\n",
       "    </tr>\n",
       "    <tr>\n",
       "      <th>3044</th>\n",
       "      <td>0.644727</td>\n",
       "      <td>0.993007</td>\n",
       "      <td>0.095348</td>\n",
       "      <td>0.641298</td>\n",
       "      <td>0.680546</td>\n",
       "      <td>0.961800</td>\n",
       "      <td>0.525524</td>\n",
       "      <td>0.561681</td>\n",
       "      <td>0.483026</td>\n",
       "      <td>0.641783</td>\n",
       "      <td>0.673569</td>\n",
       "      <td>0.964112</td>\n",
       "      <td>0.669288</td>\n",
       "    </tr>\n",
       "    <tr>\n",
       "      <th>3045</th>\n",
       "      <td>0.270322</td>\n",
       "      <td>0.713287</td>\n",
       "      <td>0.369781</td>\n",
       "      <td>0.277896</td>\n",
       "      <td>0.568905</td>\n",
       "      <td>0.783064</td>\n",
       "      <td>0.521445</td>\n",
       "      <td>0.408264</td>\n",
       "      <td>0.211535</td>\n",
       "      <td>0.345108</td>\n",
       "      <td>0.701455</td>\n",
       "      <td>0.799387</td>\n",
       "      <td>0.513050</td>\n",
       "    </tr>\n",
       "  </tbody>\n",
       "</table>\n",
       "<p>3046 rows × 13 columns</p>\n",
       "</div>"
      ],
      "text/plain": [
       "           WS1       tod        TI     WSHor     WSVer     WDHor     WDVer  \\\n",
       "0     0.020975  1.000000  0.207488  0.029529  0.459364  0.053589  0.429742   \n",
       "1     0.065031  0.041958  0.124319  0.068877  0.321555  0.059900  0.275543   \n",
       "2     0.212434  0.006993  0.377173  0.216979  0.344857  0.909151  0.346802   \n",
       "3     0.871467  0.293706  0.202202  0.874755  0.500812  0.706084  0.448942   \n",
       "4     0.324850  0.762238  0.344330  0.332251  0.495464  0.804627  0.465200   \n",
       "...        ...       ...       ...       ...       ...       ...       ...   \n",
       "3041  0.534532  0.419580  0.371217  0.544557  0.352688  0.702762  0.403211   \n",
       "3042  0.357270  0.874126  0.231236  0.368119  0.350110  0.402231  0.362418   \n",
       "3043  0.431474  0.867133  0.232592  0.442114  0.389075  0.667303  0.398147   \n",
       "3044  0.644727  0.993007  0.095348  0.641298  0.680546  0.961800  0.525524   \n",
       "3045  0.270322  0.713287  0.369781  0.277896  0.568905  0.783064  0.521445   \n",
       "\n",
       "           WS4       WSH       WS3       WD4       WD1     WVeer  \n",
       "0     0.100394  0.439725  0.066975  0.586977  0.057697  0.094759  \n",
       "1     0.163620  0.345484  0.124902  0.158576  0.063196  0.607850  \n",
       "2     0.292307  0.340846  0.281079  0.631750  0.910616  0.678993  \n",
       "3     0.871817  0.329727  0.871425  0.683743  0.711110  0.468120  \n",
       "4     0.470751  0.195611  0.397760  0.750985  0.815900  0.466545  \n",
       "...        ...       ...       ...       ...       ...       ...  \n",
       "3041  0.695452  0.173290  0.616674  0.651365  0.712085  0.507316  \n",
       "3042  0.396343  0.379675  0.366648  0.448505  0.408939  0.521778  \n",
       "3043  0.454500  0.385883  0.450032  0.603778  0.676574  0.537315  \n",
       "3044  0.561681  0.483026  0.641783  0.673569  0.964112  0.669288  \n",
       "3045  0.408264  0.211535  0.345108  0.701455  0.799387  0.513050  \n",
       "\n",
       "[3046 rows x 13 columns]"
      ]
     },
     "execution_count": 167,
     "metadata": {},
     "output_type": "execute_result"
    }
   ],
   "source": [
    "X_train_subset"
   ]
  },
  {
   "cell_type": "markdown",
   "id": "ece13349",
   "metadata": {},
   "source": [
    "### Grid Search"
   ]
  },
  {
   "cell_type": "code",
   "execution_count": 168,
   "id": "5a540884",
   "metadata": {},
   "outputs": [],
   "source": [
    "parameters={\n",
    "    'max_depth':5,\n",
    "    'n_estimators': 1000,\n",
    "    'learning_rate':0.1,\n",
    "    'subsample':0.8,\n",
    "    'colsample_bytree':0.8,\n",
    "    'min_child_weight':1,\n",
    "    'gamma':0,\n",
    "    'reg_lambda':1,\n",
    "}"
   ]
  },
  {
   "cell_type": "code",
   "execution_count": 169,
   "id": "370c3471",
   "metadata": {},
   "outputs": [],
   "source": [
    "param_grid={\n",
    "    'n_estimators': [100, 200, 300, 400, 500, 600, 700, 800, 900, 1000],\n",
    "}"
   ]
  },
  {
   "cell_type": "code",
   "execution_count": 170,
   "id": "0018be90",
   "metadata": {
    "scrolled": true
   },
   "outputs": [
    {
     "name": "stdout",
     "output_type": "stream",
     "text": [
      "Fitting 4 folds for each of 10 candidates, totalling 40 fits\n",
      "\n",
      "Best parameters :\n",
      "{'n_estimators': 200}\n",
      "\n",
      "power curve computation performed\n",
      "power curve computation performed\n",
      "Modelling errors for training set:\n",
      "Wind RMSE:  0.171 m/s as root mean\n",
      "Wind MAE:  0.131 m/s in avg\n",
      "Wind MAPE:  1.538 %\n",
      "Power RMSE:  82.243 kW as root mean\n",
      "Power MAE:  51.217 kW in avg\n",
      "Power MAPE:  3.414 %\n",
      "\n",
      "Modelling errors for test set:\n",
      "Wind RMSE:  0.357 m/s as root mean\n",
      "Wind MAE:  0.273 m/s in avg\n",
      "Wind MAPE:  3.248 %\n",
      "Power RMSE:  167.86 kW as root mean\n",
      "Power MAE:  106.546 kW in avg\n",
      "Power MAPE:  7.517 %\n",
      "\n",
      "\n",
      "Showing the results of the modelling: \n",
      "GridSearch_ XGBoost performed\n",
      "--- 1.9120225667953492 minutes ---\n",
      "\n",
      "Lowest RMSE:  0.35555652902532325\n"
     ]
    },
    {
     "data": {
      "text/plain": [
       "GridSearchCV(cv=4,\n",
       "             estimator=XGBRegressor(base_score=None, booster='gbtree',\n",
       "                                    colsample_bylevel=None,\n",
       "                                    colsample_bynode=None, colsample_bytree=0.8,\n",
       "                                    gamma=0, gpu_id=None,\n",
       "                                    importance_type='gain',\n",
       "                                    interaction_constraints=None,\n",
       "                                    learning_rate=0.1, max_delta_step=None,\n",
       "                                    max_depth=5, min_child_weight=1,\n",
       "                                    missing=nan, monotone_constraints=None,\n",
       "                                    n_estimators=1000, n_jobs=None,\n",
       "                                    num_parallel_tree=None, random_state=42,\n",
       "                                    reg_alpha=None, reg_lambda=1,\n",
       "                                    scale_pos_weight=None, subsample=0.8,\n",
       "                                    tree_method=None, validate_parameters=None,\n",
       "                                    verbosity=None),\n",
       "             param_grid={'n_estimators': [100, 200, 300, 400, 500, 600, 700,\n",
       "                                          800, 900, 1000]},\n",
       "             scoring='neg_mean_squared_error', verbose=1)"
      ]
     },
     "execution_count": 170,
     "metadata": {},
     "output_type": "execute_result"
    }
   ],
   "source": [
    "GridSearch_XGBoost (X_train_subset, X_test_subset, y_train, y_test, PC, parameters, param_grid, plot_error=False)"
   ]
  },
  {
   "cell_type": "code",
   "execution_count": 171,
   "id": "2cb02a71",
   "metadata": {},
   "outputs": [],
   "source": [
    "parameters={\n",
    "    'max_depth':5,\n",
    "    'n_estimators': 200,\n",
    "    'learning_rate':0.1,\n",
    "    'subsample':0.8,\n",
    "    'colsample_bytree':0.8,\n",
    "    'min_child_weight':1,\n",
    "    'gamma':0,\n",
    "    'reg_lambda':1,\n",
    "}"
   ]
  },
  {
   "cell_type": "code",
   "execution_count": 172,
   "id": "5dc71031",
   "metadata": {},
   "outputs": [],
   "source": [
    "param_grid={\n",
    "    'max_depth': [3, 4, 5, 6, 10, 15, 20],\n",
    "    'min_child_weight': [1, 2, 3, 6, 10]\n",
    "}"
   ]
  },
  {
   "cell_type": "code",
   "execution_count": 173,
   "id": "b9af2644",
   "metadata": {
    "scrolled": true
   },
   "outputs": [
    {
     "name": "stdout",
     "output_type": "stream",
     "text": [
      "Fitting 4 folds for each of 35 candidates, totalling 140 fits\n",
      "\n",
      "Best parameters :\n",
      "{'max_depth': 6, 'min_child_weight': 10}\n",
      "\n",
      "power curve computation performed\n",
      "power curve computation performed\n",
      "Modelling errors for training set:\n",
      "Wind RMSE:  0.165 m/s as root mean\n",
      "Wind MAE:  0.126 m/s in avg\n",
      "Wind MAPE:  1.475 %\n",
      "Power RMSE:  79.177 kW as root mean\n",
      "Power MAE:  48.808 kW in avg\n",
      "Power MAPE:  3.293 %\n",
      "\n",
      "Modelling errors for test set:\n",
      "Wind RMSE:  0.353 m/s as root mean\n",
      "Wind MAE:  0.269 m/s in avg\n",
      "Wind MAPE:  3.204 %\n",
      "Power RMSE:  164.773 kW as root mean\n",
      "Power MAE:  104.848 kW in avg\n",
      "Power MAPE:  7.385 %\n",
      "\n",
      "\n",
      "Showing the results of the modelling: \n",
      "GridSearch_ XGBoost performed\n",
      "--- 4.2480987191200255 minutes ---\n",
      "\n",
      "Lowest RMSE:  0.3531827737341212\n"
     ]
    },
    {
     "data": {
      "text/plain": [
       "GridSearchCV(cv=4,\n",
       "             estimator=XGBRegressor(base_score=None, booster='gbtree',\n",
       "                                    colsample_bylevel=None,\n",
       "                                    colsample_bynode=None, colsample_bytree=0.8,\n",
       "                                    gamma=0, gpu_id=None,\n",
       "                                    importance_type='gain',\n",
       "                                    interaction_constraints=None,\n",
       "                                    learning_rate=0.1, max_delta_step=None,\n",
       "                                    max_depth=5, min_child_weight=1,\n",
       "                                    missing=nan, monotone_constraints=None,\n",
       "                                    n_estimators=200, n_jobs=None,\n",
       "                                    num_parallel_tree=None, random_state=42,\n",
       "                                    reg_alpha=None, reg_lambda=1,\n",
       "                                    scale_pos_weight=None, subsample=0.8,\n",
       "                                    tree_method=None, validate_parameters=None,\n",
       "                                    verbosity=None),\n",
       "             param_grid={'max_depth': [3, 4, 5, 6, 10, 15, 20],\n",
       "                         'min_child_weight': [1, 2, 3, 6, 10]},\n",
       "             scoring='neg_mean_squared_error', verbose=1)"
      ]
     },
     "execution_count": 173,
     "metadata": {},
     "output_type": "execute_result"
    }
   ],
   "source": [
    "GridSearch_XGBoost (X_train_subset, X_test_subset, y_train, y_test, PC, parameters, param_grid, plot_error=False)"
   ]
  },
  {
   "cell_type": "code",
   "execution_count": 174,
   "id": "2a31301e",
   "metadata": {},
   "outputs": [],
   "source": [
    "parameters={\n",
    "    'max_depth':6,\n",
    "    'n_estimators': 200,\n",
    "    'learning_rate':0.1,\n",
    "    'subsample':0.8,\n",
    "    'colsample_bytree':0.8,\n",
    "    'min_child_weight':10,\n",
    "    'gamma':0,\n",
    "    'reg_lambda':1,\n",
    "}"
   ]
  },
  {
   "cell_type": "code",
   "execution_count": 175,
   "id": "c943f0b2",
   "metadata": {},
   "outputs": [],
   "source": [
    "param_grid={\n",
    "    'gamma': [0, 0.1, 0.2, 0.3, 0.4, 0.5]\n",
    "}"
   ]
  },
  {
   "cell_type": "code",
   "execution_count": 176,
   "id": "04a55772",
   "metadata": {
    "scrolled": true
   },
   "outputs": [
    {
     "name": "stdout",
     "output_type": "stream",
     "text": [
      "Fitting 4 folds for each of 6 candidates, totalling 24 fits\n",
      "\n",
      "Best parameters :\n",
      "{'gamma': 0.1}\n",
      "\n",
      "power curve computation performed\n",
      "power curve computation performed\n",
      "Modelling errors for training set:\n",
      "Wind RMSE:  0.167 m/s as root mean\n",
      "Wind MAE:  0.129 m/s in avg\n",
      "Wind MAPE:  1.511 %\n",
      "Power RMSE:  80.47 kW as root mean\n",
      "Power MAE:  49.934 kW in avg\n",
      "Power MAPE:  3.394 %\n",
      "\n",
      "Modelling errors for test set:\n",
      "Wind RMSE:  0.351 m/s as root mean\n",
      "Wind MAE:  0.268 m/s in avg\n",
      "Wind MAPE:  3.214 %\n",
      "Power RMSE:  164.121 kW as root mean\n",
      "Power MAE:  104.547 kW in avg\n",
      "Power MAPE:  7.483 %\n",
      "\n",
      "\n",
      "Showing the results of the modelling: \n",
      "GridSearch_ XGBoost performed\n",
      "--- 0.44519558747609456 minutes ---\n",
      "\n",
      "Lowest RMSE:  0.35316384399285505\n"
     ]
    },
    {
     "data": {
      "text/plain": [
       "GridSearchCV(cv=4,\n",
       "             estimator=XGBRegressor(base_score=None, booster='gbtree',\n",
       "                                    colsample_bylevel=None,\n",
       "                                    colsample_bynode=None, colsample_bytree=0.8,\n",
       "                                    gamma=0, gpu_id=None,\n",
       "                                    importance_type='gain',\n",
       "                                    interaction_constraints=None,\n",
       "                                    learning_rate=0.1, max_delta_step=None,\n",
       "                                    max_depth=6, min_child_weight=10,\n",
       "                                    missing=nan, monotone_constraints=None,\n",
       "                                    n_estimators=200, n_jobs=None,\n",
       "                                    num_parallel_tree=None, random_state=42,\n",
       "                                    reg_alpha=None, reg_lambda=1,\n",
       "                                    scale_pos_weight=None, subsample=0.8,\n",
       "                                    tree_method=None, validate_parameters=None,\n",
       "                                    verbosity=None),\n",
       "             param_grid={'gamma': [0, 0.1, 0.2, 0.3, 0.4, 0.5]},\n",
       "             scoring='neg_mean_squared_error', verbose=1)"
      ]
     },
     "execution_count": 176,
     "metadata": {},
     "output_type": "execute_result"
    }
   ],
   "source": [
    "GridSearch_XGBoost (X_train_subset, X_test_subset, y_train, y_test, PC, parameters, param_grid, plot_error=False)"
   ]
  },
  {
   "cell_type": "code",
   "execution_count": 178,
   "id": "e7c2c884",
   "metadata": {},
   "outputs": [],
   "source": [
    "parameters={\n",
    "    'max_depth':6,\n",
    "    'n_estimators': 200,\n",
    "    'learning_rate':0.1,\n",
    "    'subsample':0.8,\n",
    "    'colsample_bytree':0.8,\n",
    "    'min_child_weight':10,\n",
    "    'gamma':0.1,\n",
    "    'reg_lambda':1,\n",
    "}"
   ]
  },
  {
   "cell_type": "code",
   "execution_count": 179,
   "id": "51264618",
   "metadata": {},
   "outputs": [],
   "source": [
    "param_grid={\n",
    "    'subsample': [0.4, 0.5, 0.6, 0.7, 0.8, 0.9, 1],\n",
    "    'colsample_bytree': [0.4, 0.5, 0.6, 0.7, 0.8, 0.9, 1]\n",
    "}"
   ]
  },
  {
   "cell_type": "code",
   "execution_count": 180,
   "id": "1d8806df",
   "metadata": {
    "scrolled": true
   },
   "outputs": [
    {
     "name": "stdout",
     "output_type": "stream",
     "text": [
      "Fitting 4 folds for each of 49 candidates, totalling 196 fits\n",
      "\n",
      "Best parameters :\n",
      "{'colsample_bytree': 0.8, 'subsample': 0.8}\n",
      "\n",
      "power curve computation performed\n",
      "power curve computation performed\n",
      "Modelling errors for training set:\n",
      "Wind RMSE:  0.167 m/s as root mean\n",
      "Wind MAE:  0.129 m/s in avg\n",
      "Wind MAPE:  1.511 %\n",
      "Power RMSE:  80.47 kW as root mean\n",
      "Power MAE:  49.934 kW in avg\n",
      "Power MAPE:  3.394 %\n",
      "\n",
      "Modelling errors for test set:\n",
      "Wind RMSE:  0.351 m/s as root mean\n",
      "Wind MAE:  0.268 m/s in avg\n",
      "Wind MAPE:  3.214 %\n",
      "Power RMSE:  164.121 kW as root mean\n",
      "Power MAE:  104.547 kW in avg\n",
      "Power MAPE:  7.483 %\n",
      "\n",
      "\n",
      "Showing the results of the modelling: \n",
      "GridSearch_ XGBoost performed\n",
      "--- 3.020140246550242 minutes ---\n",
      "\n",
      "Lowest RMSE:  0.35316384399285505\n"
     ]
    },
    {
     "data": {
      "text/plain": [
       "GridSearchCV(cv=4,\n",
       "             estimator=XGBRegressor(base_score=None, booster='gbtree',\n",
       "                                    colsample_bylevel=None,\n",
       "                                    colsample_bynode=None, colsample_bytree=0.8,\n",
       "                                    gamma=0.1, gpu_id=None,\n",
       "                                    importance_type='gain',\n",
       "                                    interaction_constraints=None,\n",
       "                                    learning_rate=0.1, max_delta_step=None,\n",
       "                                    max_depth=6, min_child_weight=10,\n",
       "                                    missing=nan, monotone_constraints=None,\n",
       "                                    n_estimators=200, n_jobs=None,\n",
       "                                    num_parallel_tree=None, random_state=42,\n",
       "                                    reg_alpha=None, reg_lambda=1,\n",
       "                                    scale_pos_weight=None, subsample=0.8,\n",
       "                                    tree_method=None, validate_parameters=None,\n",
       "                                    verbosity=None),\n",
       "             param_grid={'colsample_bytree': [0.4, 0.5, 0.6, 0.7, 0.8, 0.9, 1],\n",
       "                         'subsample': [0.4, 0.5, 0.6, 0.7, 0.8, 0.9, 1]},\n",
       "             scoring='neg_mean_squared_error', verbose=1)"
      ]
     },
     "execution_count": 180,
     "metadata": {},
     "output_type": "execute_result"
    }
   ],
   "source": [
    "GridSearch_XGBoost (X_train_subset, X_test_subset, y_train, y_test, PC, parameters, param_grid, plot_error=False)"
   ]
  },
  {
   "cell_type": "code",
   "execution_count": 181,
   "id": "e6350eee",
   "metadata": {},
   "outputs": [],
   "source": [
    "parameters={\n",
    "    'max_depth':6,\n",
    "    'n_estimators': 200,\n",
    "    'learning_rate':0.1,\n",
    "    'subsample':0.8,\n",
    "    'colsample_bytree':0.8,\n",
    "    'min_child_weight':10,\n",
    "    'gamma':0.1,\n",
    "    'reg_lambda':1,\n",
    "}"
   ]
  },
  {
   "cell_type": "code",
   "execution_count": 182,
   "id": "12f45d0e",
   "metadata": {},
   "outputs": [],
   "source": [
    "param_grid={\n",
    "    'reg_lambda': [1, 10, 50, 100, 150]\n",
    "}"
   ]
  },
  {
   "cell_type": "code",
   "execution_count": 183,
   "id": "059dd188",
   "metadata": {
    "scrolled": true
   },
   "outputs": [
    {
     "name": "stdout",
     "output_type": "stream",
     "text": [
      "Fitting 4 folds for each of 5 candidates, totalling 20 fits\n",
      "\n",
      "Best parameters :\n",
      "{'reg_lambda': 1}\n",
      "\n",
      "power curve computation performed\n",
      "power curve computation performed\n",
      "Modelling errors for training set:\n",
      "Wind RMSE:  0.167 m/s as root mean\n",
      "Wind MAE:  0.129 m/s in avg\n",
      "Wind MAPE:  1.511 %\n",
      "Power RMSE:  80.47 kW as root mean\n",
      "Power MAE:  49.934 kW in avg\n",
      "Power MAPE:  3.394 %\n",
      "\n",
      "Modelling errors for test set:\n",
      "Wind RMSE:  0.351 m/s as root mean\n",
      "Wind MAE:  0.268 m/s in avg\n",
      "Wind MAPE:  3.214 %\n",
      "Power RMSE:  164.121 kW as root mean\n",
      "Power MAE:  104.547 kW in avg\n",
      "Power MAPE:  7.483 %\n",
      "\n",
      "\n",
      "Showing the results of the modelling: \n",
      "GridSearch_ XGBoost performed\n",
      "--- 0.34452070395151774 minutes ---\n",
      "\n",
      "Lowest RMSE:  0.35316384399285505\n"
     ]
    },
    {
     "data": {
      "text/plain": [
       "GridSearchCV(cv=4,\n",
       "             estimator=XGBRegressor(base_score=None, booster='gbtree',\n",
       "                                    colsample_bylevel=None,\n",
       "                                    colsample_bynode=None, colsample_bytree=0.8,\n",
       "                                    gamma=0.1, gpu_id=None,\n",
       "                                    importance_type='gain',\n",
       "                                    interaction_constraints=None,\n",
       "                                    learning_rate=0.1, max_delta_step=None,\n",
       "                                    max_depth=6, min_child_weight=10,\n",
       "                                    missing=nan, monotone_constraints=None,\n",
       "                                    n_estimators=200, n_jobs=None,\n",
       "                                    num_parallel_tree=None, random_state=42,\n",
       "                                    reg_alpha=None, reg_lambda=1,\n",
       "                                    scale_pos_weight=None, subsample=0.8,\n",
       "                                    tree_method=None, validate_parameters=None,\n",
       "                                    verbosity=None),\n",
       "             param_grid={'reg_lambda': [1, 10, 50, 100, 150]},\n",
       "             scoring='neg_mean_squared_error', verbose=1)"
      ]
     },
     "execution_count": 183,
     "metadata": {},
     "output_type": "execute_result"
    }
   ],
   "source": [
    "GridSearch_XGBoost (X_train_subset, X_test_subset, y_train, y_test, PC, parameters, param_grid, plot_error=False)"
   ]
  },
  {
   "cell_type": "code",
   "execution_count": 184,
   "id": "0c8cd2f7",
   "metadata": {},
   "outputs": [],
   "source": [
    "parameters={\n",
    "    'max_depth':6,\n",
    "    'n_estimators': 200,\n",
    "    'learning_rate':0.1,\n",
    "    'subsample':0.8,\n",
    "    'colsample_bytree':0.8,\n",
    "    'min_child_weight':10,\n",
    "    'gamma':0.1,\n",
    "    'reg_lambda':1,\n",
    "}"
   ]
  },
  {
   "cell_type": "code",
   "execution_count": 185,
   "id": "0ccf83da",
   "metadata": {},
   "outputs": [],
   "source": [
    "param_grid={\n",
    "    'learning_rate': [0.001, 0.01, 0.1, 0.5],\n",
    "    'n_estimators': [800, 900, 1000, 1200, 1500, 1800, 2000]\n",
    "}"
   ]
  },
  {
   "cell_type": "code",
   "execution_count": 186,
   "id": "2ad4d604",
   "metadata": {
    "scrolled": true
   },
   "outputs": [
    {
     "name": "stdout",
     "output_type": "stream",
     "text": [
      "Fitting 4 folds for each of 28 candidates, totalling 112 fits\n",
      "\n",
      "Best parameters :\n",
      "{'learning_rate': 0.01, 'n_estimators': 2000}\n",
      "\n",
      "power curve computation performed\n",
      "power curve computation performed\n",
      "Modelling errors for training set:\n",
      "Wind RMSE:  0.164 m/s as root mean\n",
      "Wind MAE:  0.125 m/s in avg\n",
      "Wind MAPE:  1.465 %\n",
      "Power RMSE:  79.057 kW as root mean\n",
      "Power MAE:  48.738 kW in avg\n",
      "Power MAPE:  3.286 %\n",
      "\n",
      "Modelling errors for test set:\n",
      "Wind RMSE:  0.346 m/s as root mean\n",
      "Wind MAE:  0.263 m/s in avg\n",
      "Wind MAPE:  3.14 %\n",
      "Power RMSE:  162.677 kW as root mean\n",
      "Power MAE:  102.312 kW in avg\n",
      "Power MAPE:  7.296 %\n",
      "\n",
      "\n",
      "Showing the results of the modelling: \n",
      "GridSearch_ XGBoost performed\n",
      "--- 12.168057203292847 minutes ---\n",
      "\n",
      "Lowest RMSE:  0.3488178010390744\n"
     ]
    },
    {
     "data": {
      "text/plain": [
       "GridSearchCV(cv=4,\n",
       "             estimator=XGBRegressor(base_score=None, booster='gbtree',\n",
       "                                    colsample_bylevel=None,\n",
       "                                    colsample_bynode=None, colsample_bytree=0.8,\n",
       "                                    gamma=0.1, gpu_id=None,\n",
       "                                    importance_type='gain',\n",
       "                                    interaction_constraints=None,\n",
       "                                    learning_rate=0.1, max_delta_step=None,\n",
       "                                    max_depth=6, min_child_weight=10,\n",
       "                                    missing=nan, monotone_constraints=None,\n",
       "                                    n_estimators=200, n_jobs=None,\n",
       "                                    num_parallel_tree=None, random_state=42,\n",
       "                                    reg_alpha=None, reg_lambda=1,\n",
       "                                    scale_pos_weight=None, subsample=0.8,\n",
       "                                    tree_method=None, validate_parameters=None,\n",
       "                                    verbosity=None),\n",
       "             param_grid={'learning_rate': [0.001, 0.01, 0.1, 0.5],\n",
       "                         'n_estimators': [800, 900, 1000, 1200, 1500, 1800,\n",
       "                                          2000]},\n",
       "             scoring='neg_mean_squared_error', verbose=1)"
      ]
     },
     "execution_count": 186,
     "metadata": {},
     "output_type": "execute_result"
    }
   ],
   "source": [
    "GridSearch_XGBoost (X_train_subset, X_test_subset, y_train, y_test, PC, parameters, param_grid, plot_error=False)"
   ]
  },
  {
   "cell_type": "markdown",
   "id": "3e00c8fc",
   "metadata": {},
   "source": [
    "### Testing"
   ]
  },
  {
   "cell_type": "code",
   "execution_count": 187,
   "id": "2b67695f",
   "metadata": {},
   "outputs": [],
   "source": [
    "parameters={\n",
    "    'max_depth':6,\n",
    "    'n_estimators': 2000,\n",
    "    'learning_rate':0.01,\n",
    "    'subsample':0.8,\n",
    "    'colsample_bytree':0.8,\n",
    "    'min_child_weight':10,\n",
    "    'gamma':0.1,\n",
    "    'reg_lambda':1,\n",
    "}"
   ]
  },
  {
   "cell_type": "code",
   "execution_count": 188,
   "id": "5a63c2ce",
   "metadata": {},
   "outputs": [],
   "source": [
    "#modelling"
   ]
  },
  {
   "cell_type": "code",
   "execution_count": 189,
   "id": "6118f204",
   "metadata": {},
   "outputs": [
    {
     "name": "stdout",
     "output_type": "stream",
     "text": [
      "power curve computation performed\n",
      "power curve computation performed\n",
      "Modelling errors for training set:\n",
      "Wind RMSE:  0.157 m/s as root mean\n",
      "Wind MAE:  0.12 m/s in avg\n",
      "Wind MAPE:  1.399 %\n",
      "Power RMSE:  76.214 kW as root mean\n",
      "Power MAE:  46.688 kW in avg\n",
      "Power MAPE:  3.129 %\n",
      "\n",
      "Modelling errors for test set:\n",
      "Wind RMSE:  0.346 m/s as root mean\n",
      "Wind MAE:  0.263 m/s in avg\n",
      "Wind MAPE:  3.14 %\n",
      "Power RMSE:  162.157 kW as root mean\n",
      "Power MAE:  102.381 kW in avg\n",
      "Power MAPE:  7.3 %\n",
      "\n",
      "\n",
      "Showing the results of the modelling: \n",
      "XGBoost modelling performed\n"
     ]
    }
   ],
   "source": [
    "model = modelling_XGBoost (X_train_subset, X_test_subset, y_train, y_test, PC, parameters, plot_error=False, plot=True)"
   ]
  },
  {
   "cell_type": "code",
   "execution_count": 190,
   "id": "4cb39831",
   "metadata": {},
   "outputs": [],
   "source": [
    "#testing"
   ]
  },
  {
   "cell_type": "code",
   "execution_count": 191,
   "id": "7c1e17a6",
   "metadata": {},
   "outputs": [
    {
     "name": "stdout",
     "output_type": "stream",
     "text": [
      "power curve computation performed\n",
      "power curve computation performed\n",
      "Modelling errors for training set:\n",
      "Wind RMSE:  0.157 m/s as root mean\n",
      "Wind MAE:  0.12 m/s in avg\n",
      "Wind MAPE:  1.399 %\n",
      "Power RMSE:  76.214 kW as root mean\n",
      "Power MAE:  46.688 kW in avg\n",
      "Power MAPE:  3.129 %\n",
      "\n",
      "Modelling errors for test set:\n",
      "Wind RMSE:  0.346 m/s as root mean\n",
      "Wind MAE:  0.263 m/s in avg\n",
      "Wind MAPE:  3.14 %\n",
      "Power RMSE:  162.157 kW as root mean\n",
      "Power MAE:  102.381 kW in avg\n",
      "Power MAPE:  7.3 %\n",
      "\n",
      "\n",
      "Showing the results of the modelling: \n",
      "XGBoost results performed\n"
     ]
    }
   ],
   "source": [
    "WS_pred=model_testing (X_train_subset, X_test_subset, y_train, y_test, PC, model, plot_error=False)"
   ]
  },
  {
   "cell_type": "code",
   "execution_count": 192,
   "id": "dd7f476a",
   "metadata": {},
   "outputs": [
    {
     "name": "stdout",
     "output_type": "stream",
     "text": [
      "file Subset6_XGB_WTG14.csv saved in \\Results_ folder\n"
     ]
    }
   ],
   "source": [
    "WS_pred=pd.DataFrame(WS_pred)\n",
    "save(WS_pred,'\\Results_','Subset6_XGB_WTG14.csv')"
   ]
  },
  {
   "cell_type": "code",
   "execution_count": null,
   "id": "484c13c2",
   "metadata": {},
   "outputs": [],
   "source": []
  }
 ],
 "metadata": {
  "kernelspec": {
   "display_name": "Python 3",
   "language": "python",
   "name": "python3"
  },
  "language_info": {
   "codemirror_mode": {
    "name": "ipython",
    "version": 3
   },
   "file_extension": ".py",
   "mimetype": "text/x-python",
   "name": "python",
   "nbconvert_exporter": "python",
   "pygments_lexer": "ipython3",
   "version": "3.8.10"
  },
  "notify_time": "30",
  "toc": {
   "base_numbering": 1,
   "nav_menu": {},
   "number_sections": true,
   "sideBar": true,
   "skip_h1_title": false,
   "title_cell": "Table of Contents",
   "title_sidebar": "Contents",
   "toc_cell": false,
   "toc_position": {
    "height": "calc(100% - 180px)",
    "left": "10px",
    "top": "150px",
    "width": "271.181px"
   },
   "toc_section_display": true,
   "toc_window_display": true
  },
  "varInspector": {
   "cols": {
    "lenName": 16,
    "lenType": 16,
    "lenVar": 40
   },
   "kernels_config": {
    "python": {
     "delete_cmd_postfix": "",
     "delete_cmd_prefix": "del ",
     "library": "var_list.py",
     "varRefreshCmd": "print(var_dic_list())"
    },
    "r": {
     "delete_cmd_postfix": ") ",
     "delete_cmd_prefix": "rm(",
     "library": "var_list.r",
     "varRefreshCmd": "cat(var_dic_list()) "
    }
   },
   "position": {
    "height": "255px",
    "left": "1213.99px",
    "right": "20px",
    "top": "-3.98611px",
    "width": "350px"
   },
   "types_to_exclude": [
    "module",
    "function",
    "builtin_function_or_method",
    "instance",
    "_Feature"
   ],
   "window_display": true
  }
 },
 "nbformat": 4,
 "nbformat_minor": 5
}
